{
 "cells": [
  {
   "cell_type": "code",
   "execution_count": 14,
   "id": "99c0a180",
   "metadata": {},
   "outputs": [
    {
     "data": {
      "text/html": [
       "'C:/Users/MONSTER/Desktop/TEZ/CCLE/OUTPUT/sarcoma'"
      ],
      "text/latex": [
       "'C:/Users/MONSTER/Desktop/TEZ/CCLE/OUTPUT/sarcoma'"
      ],
      "text/markdown": [
       "'C:/Users/MONSTER/Desktop/TEZ/CCLE/OUTPUT/sarcoma'"
      ],
      "text/plain": [
       "[1] \"C:/Users/MONSTER/Desktop/TEZ/CCLE/OUTPUT/sarcoma\""
      ]
     },
     "metadata": {},
     "output_type": "display_data"
    }
   ],
   "source": [
    "getwd()"
   ]
  },
  {
   "cell_type": "code",
   "execution_count": 15,
   "id": "3668f130",
   "metadata": {},
   "outputs": [],
   "source": [
    "output_dir <- \"C:/Users/MONSTER/Desktop/TEZ/CCLE/OUTPUT\""
   ]
  },
  {
   "cell_type": "code",
   "execution_count": 16,
   "id": "a676c210",
   "metadata": {},
   "outputs": [],
   "source": [
    "setwd(output_dir)"
   ]
  },
  {
   "cell_type": "code",
   "execution_count": 17,
   "id": "ce092806",
   "metadata": {},
   "outputs": [],
   "source": [
    "Histologies <- list.dirs(full.names = FALSE, recursive = FALSE)"
   ]
  },
  {
   "cell_type": "code",
   "execution_count": 18,
   "id": "8e1af36e",
   "metadata": {},
   "outputs": [
    {
     "data": {
      "text/html": [
       "<ol class=list-inline>\n",
       "\t<li>'carcinoid-endocrine_tumour'</li>\n",
       "\t<li>'carcinoma'</li>\n",
       "\t<li>'chondrosarcoma'</li>\n",
       "\t<li>'Ewings_sarcoma-peripheral_primitive_neuroectodermal_tumour'</li>\n",
       "\t<li>'fibrosarcoma'</li>\n",
       "\t<li>'glioma'</li>\n",
       "\t<li>'haematopoietic_neoplasm'</li>\n",
       "\t<li>'lymphoid_neoplasm'</li>\n",
       "\t<li>'malignant_fibrous_histiocytoma-pleomorphic_sarcoma'</li>\n",
       "\t<li>'malignant_melanoma'</li>\n",
       "\t<li>'mesothelioma'</li>\n",
       "\t<li>'neuroblastoma'</li>\n",
       "\t<li>'osteosarcoma'</li>\n",
       "\t<li>'other'</li>\n",
       "\t<li>'primitive_neuroectodermal_tumour-medulloblastoma'</li>\n",
       "\t<li>'rhabdoid_tumour'</li>\n",
       "\t<li>'rhabdomyosarcoma'</li>\n",
       "\t<li>'sarcoma'</li>\n",
       "</ol>\n"
      ],
      "text/latex": [
       "\\begin{enumerate*}\n",
       "\\item 'carcinoid-endocrine\\_tumour'\n",
       "\\item 'carcinoma'\n",
       "\\item 'chondrosarcoma'\n",
       "\\item 'Ewings\\_sarcoma-peripheral\\_primitive\\_neuroectodermal\\_tumour'\n",
       "\\item 'fibrosarcoma'\n",
       "\\item 'glioma'\n",
       "\\item 'haematopoietic\\_neoplasm'\n",
       "\\item 'lymphoid\\_neoplasm'\n",
       "\\item 'malignant\\_fibrous\\_histiocytoma-pleomorphic\\_sarcoma'\n",
       "\\item 'malignant\\_melanoma'\n",
       "\\item 'mesothelioma'\n",
       "\\item 'neuroblastoma'\n",
       "\\item 'osteosarcoma'\n",
       "\\item 'other'\n",
       "\\item 'primitive\\_neuroectodermal\\_tumour-medulloblastoma'\n",
       "\\item 'rhabdoid\\_tumour'\n",
       "\\item 'rhabdomyosarcoma'\n",
       "\\item 'sarcoma'\n",
       "\\end{enumerate*}\n"
      ],
      "text/markdown": [
       "1. 'carcinoid-endocrine_tumour'\n",
       "2. 'carcinoma'\n",
       "3. 'chondrosarcoma'\n",
       "4. 'Ewings_sarcoma-peripheral_primitive_neuroectodermal_tumour'\n",
       "5. 'fibrosarcoma'\n",
       "6. 'glioma'\n",
       "7. 'haematopoietic_neoplasm'\n",
       "8. 'lymphoid_neoplasm'\n",
       "9. 'malignant_fibrous_histiocytoma-pleomorphic_sarcoma'\n",
       "10. 'malignant_melanoma'\n",
       "11. 'mesothelioma'\n",
       "12. 'neuroblastoma'\n",
       "13. 'osteosarcoma'\n",
       "14. 'other'\n",
       "15. 'primitive_neuroectodermal_tumour-medulloblastoma'\n",
       "16. 'rhabdoid_tumour'\n",
       "17. 'rhabdomyosarcoma'\n",
       "18. 'sarcoma'\n",
       "\n",
       "\n"
      ],
      "text/plain": [
       " [1] \"carcinoid-endocrine_tumour\"                                \n",
       " [2] \"carcinoma\"                                                 \n",
       " [3] \"chondrosarcoma\"                                            \n",
       " [4] \"Ewings_sarcoma-peripheral_primitive_neuroectodermal_tumour\"\n",
       " [5] \"fibrosarcoma\"                                              \n",
       " [6] \"glioma\"                                                    \n",
       " [7] \"haematopoietic_neoplasm\"                                   \n",
       " [8] \"lymphoid_neoplasm\"                                         \n",
       " [9] \"malignant_fibrous_histiocytoma-pleomorphic_sarcoma\"        \n",
       "[10] \"malignant_melanoma\"                                        \n",
       "[11] \"mesothelioma\"                                              \n",
       "[12] \"neuroblastoma\"                                             \n",
       "[13] \"osteosarcoma\"                                              \n",
       "[14] \"other\"                                                     \n",
       "[15] \"primitive_neuroectodermal_tumour-medulloblastoma\"          \n",
       "[16] \"rhabdoid_tumour\"                                           \n",
       "[17] \"rhabdomyosarcoma\"                                          \n",
       "[18] \"sarcoma\"                                                   "
      ]
     },
     "metadata": {},
     "output_type": "display_data"
    },
    {
     "data": {
      "text/html": [
       "18"
      ],
      "text/latex": [
       "18"
      ],
      "text/markdown": [
       "18"
      ],
      "text/plain": [
       "[1] 18"
      ]
     },
     "metadata": {},
     "output_type": "display_data"
    }
   ],
   "source": [
    "Histologies\n",
    "length(Histologies)"
   ]
  },
  {
   "cell_type": "code",
   "execution_count": 19,
   "id": "b29c1b8d",
   "metadata": {},
   "outputs": [],
   "source": [
    "for(histology in Histologies){\n",
    "    setwd(paste0(output_dir,\"/\",histology))\n",
    "    Drugs <- list.dirs(full.names = FALSE, recursive = FALSE)\n",
    "    for(drug in Drugs){\n",
    "        setwd(paste0(output_dir,\"/\",histology,\"/\",drug))\n",
    "        if(dir.exists(\"Random Forest\")){\n",
    "            unlink(\"Random Forest\", recursive = TRUE)\n",
    "                      \n",
    "        }\n",
    "             \n",
    "    }\n",
    "      \n",
    "}"
   ]
  },
  {
   "cell_type": "code",
   "execution_count": 5,
   "id": "68c729be",
   "metadata": {},
   "outputs": [],
   "source": [
    "output2_dir <- \"C:/Users/MONSTER/Desktop/TEZ/CCLE/OUTPUT2\"\n",
    "setwd(output2_dir)\n",
    "Drugs <- list.dirs(full.names = FALSE, recursive = FALSE)\n",
    "    for(drug in Drugs){\n",
    "        setwd(paste0(output2_dir,\"/\",drug))\n",
    "        if(dir.exists(\"Random Forest\")){\n",
    "            unlink(\"Random Forest\", recursive = TRUE)\n",
    "                     \n",
    "        }\n",
    "        }"
   ]
  },
  {
   "cell_type": "code",
   "execution_count": 1,
   "id": "d81cd331",
   "metadata": {},
   "outputs": [],
   "source": [
    "output_dir <- \"C:/Users/MONSTER/Desktop/TEZ/CCLE/OUTPUT\"\n",
    "setwd(output_dir)\n",
    "Histologies <- list.dirs(full.names = FALSE, recursive = FALSE)\n",
    "\n",
    "for(histology in Histologies){\n",
    "    setwd(paste0(output_dir,\"/\",histology))\n",
    "     if(file.exists(paste(histology, \"- Drug RF.tsv\", sep = \" \"))){\n",
    "            unlink(paste(histology, \"- Drug RF.tsv\", sep = \" \"), recursive = TRUE)\n",
    "    \n",
    "    \n",
    "        }\n",
    "    }"
   ]
  },
  {
   "cell_type": "code",
   "execution_count": null,
   "id": "88434d45",
   "metadata": {},
   "outputs": [],
   "source": []
  }
 ],
 "metadata": {
  "kernelspec": {
   "display_name": "R",
   "language": "R",
   "name": "ir"
  },
  "language_info": {
   "codemirror_mode": "r",
   "file_extension": ".r",
   "mimetype": "text/x-r-source",
   "name": "R",
   "pygments_lexer": "r",
   "version": "3.6.1"
  }
 },
 "nbformat": 4,
 "nbformat_minor": 5
}
