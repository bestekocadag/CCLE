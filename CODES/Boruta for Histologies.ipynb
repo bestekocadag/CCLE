{
 "cells": [
  {
   "cell_type": "code",
   "execution_count": 28,
   "id": "4314feda-bd70-49d4-b417-b0d4cdc9c4d9",
   "metadata": {},
   "outputs": [
    {
     "data": {
      "text/html": [
       "'C:/Users/MONSTER/Desktop/TEZ/CCLE/INPUT'"
      ],
      "text/latex": [
       "'C:/Users/MONSTER/Desktop/TEZ/CCLE/INPUT'"
      ],
      "text/markdown": [
       "'C:/Users/MONSTER/Desktop/TEZ/CCLE/INPUT'"
      ],
      "text/plain": [
       "[1] \"C:/Users/MONSTER/Desktop/TEZ/CCLE/INPUT\""
      ]
     },
     "metadata": {},
     "output_type": "display_data"
    }
   ],
   "source": [
    "getwd()"
   ]
  },
  {
   "cell_type": "code",
   "execution_count": 29,
   "id": "dfe69901-4b22-44ec-bf1d-8cef68818451",
   "metadata": {},
   "outputs": [],
   "source": [
    "suppressPackageStartupMessages(library(Boruta))"
   ]
  },
  {
   "cell_type": "code",
   "execution_count": 30,
   "id": "e5221f41-29dd-482f-b5e7-f59397a73178",
   "metadata": {},
   "outputs": [],
   "source": [
    "input_dir <- \"C:/Users/MONSTER/Desktop/TEZ/CCLE/INPUT\"\n",
    "output_dir <- \"C:/Users/MONSTER/Desktop/TEZ/CCLE/OUTPUT\""
   ]
  },
  {
   "cell_type": "code",
   "execution_count": 31,
   "id": "04ca1db5-f71a-40de-a021-a0e7e1797b59",
   "metadata": {},
   "outputs": [],
   "source": [
    "#..........."
   ]
  },
  {
   "cell_type": "code",
   "execution_count": 32,
   "id": "1cab127a-cd2e-4eb0-99e7-65c008a64da7",
   "metadata": {},
   "outputs": [],
   "source": [
    "setwd(input_dir)"
   ]
  },
  {
   "cell_type": "code",
   "execution_count": 36,
   "id": "ab3aa4ca-2400-4383-b4e5-ef6db4e24b35",
   "metadata": {},
   "outputs": [
    {
     "data": {
      "text/html": [
       "<table>\n",
       "<thead><tr><th></th><th scope=col>GSM886835</th><th scope=col>GSM886836</th><th scope=col>GSM886837</th><th scope=col>GSM886838</th><th scope=col>GSM886839</th><th scope=col>GSM886840</th><th scope=col>GSM886841</th><th scope=col>GSM886842</th><th scope=col>GSM886843</th><th scope=col>GSM886844</th><th scope=col>...</th><th scope=col>GSM887742</th><th scope=col>GSM887743</th><th scope=col>GSM887744</th><th scope=col>GSM887745</th><th scope=col>GSM887746</th><th scope=col>GSM887747</th><th scope=col>GSM887748</th><th scope=col>GSM887749</th><th scope=col>GSM887750</th><th scope=col>GSM887751</th></tr></thead>\n",
       "<tbody>\n",
       "\t<tr><th scope=row>A1BG</th><td>5.899963</td><td>5.495630</td><td>4.915154</td><td>4.386444</td><td>8.018313</td><td>4.440586</td><td>7.108326</td><td>4.974334</td><td>7.542390</td><td>4.769888</td><td>...     </td><td>4.750698</td><td>4.899243</td><td>4.071518</td><td>4.630944</td><td>4.617563</td><td>7.214694</td><td>5.955572</td><td>8.455509</td><td>7.726960</td><td>6.890627</td></tr>\n",
       "\t<tr><th scope=row>A1BG-AS1</th><td>4.198575</td><td>4.288757</td><td>4.359141</td><td>4.480000</td><td>4.967571</td><td>4.347018</td><td>4.625651</td><td>3.904524</td><td>4.520180</td><td>4.199256</td><td>...     </td><td>3.961551</td><td>4.857442</td><td>3.912837</td><td>4.158353</td><td>4.251507</td><td>4.576859</td><td>4.293843</td><td>4.936280</td><td>4.550335</td><td>4.542611</td></tr>\n",
       "\t<tr><th scope=row>A1CF</th><td>3.417583</td><td>3.525042</td><td>7.542882</td><td>6.040017</td><td>3.594282</td><td>3.745547</td><td>3.810901</td><td>3.801650</td><td>3.581691</td><td>4.806474</td><td>...     </td><td>3.728103</td><td>3.926467</td><td>3.628426</td><td>3.674687</td><td>3.516588</td><td>3.647283</td><td>3.462856</td><td>3.634708</td><td>3.638426</td><td>3.583976</td></tr>\n",
       "\t<tr><th scope=row>A2M</th><td>4.151092</td><td>4.867485</td><td>4.683452</td><td>3.770537</td><td>3.992411</td><td>3.668579</td><td>3.643959</td><td>3.799457</td><td>3.985218</td><td>3.708740</td><td>...     </td><td>3.532178</td><td>4.184472</td><td>3.778447</td><td>3.898891</td><td>4.298302</td><td>4.583785</td><td>3.854023</td><td>4.372195</td><td>3.680397</td><td>4.555957</td></tr>\n",
       "\t<tr><th scope=row>A2M-AS1</th><td>3.762424</td><td>4.137505</td><td>5.460368</td><td>4.362451</td><td>3.399720</td><td>4.016473</td><td>4.214320</td><td>3.873390</td><td>4.371387</td><td>4.227194</td><td>...     </td><td>3.950108</td><td>4.085309</td><td>3.765956</td><td>3.790026</td><td>6.153343</td><td>3.559259</td><td>3.627579</td><td>6.262938</td><td>5.726388</td><td>4.205392</td></tr>\n",
       "\t<tr><th scope=row>A2ML1</th><td>3.732278</td><td>3.662743</td><td>3.610375</td><td>3.732523</td><td>3.725832</td><td>4.007599</td><td>3.874659</td><td>3.720081</td><td>3.855083</td><td>3.791364</td><td>...     </td><td>3.550914</td><td>3.812484</td><td>3.661177</td><td>3.869864</td><td>3.762442</td><td>3.614379</td><td>3.604870</td><td>3.791852</td><td>3.791549</td><td>3.798503</td></tr>\n",
       "</tbody>\n",
       "</table>\n"
      ],
      "text/latex": [
       "\\begin{tabular}{r|lllllllllllllllllllllllllllllllllllllllllllllllllllllllllllllllllllllllllllllllllllllllllllllllllllllllllllllllllllllllllllllllllllllllllllllllllllllllllllllllllllllllllllllllllllllllllllllllllllllllllllllllllllllllllllllllllllllllllllllllllllllllllllllllllllllllllllllllllllllllllllllllllllllllllllllllllllllllllllllllllllllllllllllllllllllllllllllllllllllllllllllllllllllllllllllllllllllllllllllllllllllllllllllllllllllllllllllllllllllllllllllllllllllllllllllllllllllllllllllllllllllllllllllllllllllllllllllllllllllllllllllllllllllllllllllllllllllllllllllllllllllllllllllllllllllllllllllllllllllllllllllllllllllllllllllllllllllllllllllllllllllllllllllllllllllllllllllllllllllllllllllllllllllllllllllllllllllllllllllllllllllllllllllllllllllllllllllllllllllllllllllllllllllllllllllllllllllllllllllllllllllllllllllllllllllllllllllllllllllllllllllllllllllllllllllllllllllllllllllllllllllllllllllllllllllllllllllllllllll}\n",
       "  & GSM886835 & GSM886836 & GSM886837 & GSM886838 & GSM886839 & GSM886840 & GSM886841 & GSM886842 & GSM886843 & GSM886844 & ... & GSM887742 & GSM887743 & GSM887744 & GSM887745 & GSM887746 & GSM887747 & GSM887748 & GSM887749 & GSM887750 & GSM887751\\\\\n",
       "\\hline\n",
       "\tA1BG & 5.899963 & 5.495630 & 4.915154 & 4.386444 & 8.018313 & 4.440586 & 7.108326 & 4.974334 & 7.542390 & 4.769888 & ...      & 4.750698 & 4.899243 & 4.071518 & 4.630944 & 4.617563 & 7.214694 & 5.955572 & 8.455509 & 7.726960 & 6.890627\\\\\n",
       "\tA1BG-AS1 & 4.198575 & 4.288757 & 4.359141 & 4.480000 & 4.967571 & 4.347018 & 4.625651 & 3.904524 & 4.520180 & 4.199256 & ...      & 3.961551 & 4.857442 & 3.912837 & 4.158353 & 4.251507 & 4.576859 & 4.293843 & 4.936280 & 4.550335 & 4.542611\\\\\n",
       "\tA1CF & 3.417583 & 3.525042 & 7.542882 & 6.040017 & 3.594282 & 3.745547 & 3.810901 & 3.801650 & 3.581691 & 4.806474 & ...      & 3.728103 & 3.926467 & 3.628426 & 3.674687 & 3.516588 & 3.647283 & 3.462856 & 3.634708 & 3.638426 & 3.583976\\\\\n",
       "\tA2M & 4.151092 & 4.867485 & 4.683452 & 3.770537 & 3.992411 & 3.668579 & 3.643959 & 3.799457 & 3.985218 & 3.708740 & ...      & 3.532178 & 4.184472 & 3.778447 & 3.898891 & 4.298302 & 4.583785 & 3.854023 & 4.372195 & 3.680397 & 4.555957\\\\\n",
       "\tA2M-AS1 & 3.762424 & 4.137505 & 5.460368 & 4.362451 & 3.399720 & 4.016473 & 4.214320 & 3.873390 & 4.371387 & 4.227194 & ...      & 3.950108 & 4.085309 & 3.765956 & 3.790026 & 6.153343 & 3.559259 & 3.627579 & 6.262938 & 5.726388 & 4.205392\\\\\n",
       "\tA2ML1 & 3.732278 & 3.662743 & 3.610375 & 3.732523 & 3.725832 & 4.007599 & 3.874659 & 3.720081 & 3.855083 & 3.791364 & ...      & 3.550914 & 3.812484 & 3.661177 & 3.869864 & 3.762442 & 3.614379 & 3.604870 & 3.791852 & 3.791549 & 3.798503\\\\\n",
       "\\end{tabular}\n"
      ],
      "text/markdown": [
       "\n",
       "| <!--/--> | GSM886835 | GSM886836 | GSM886837 | GSM886838 | GSM886839 | GSM886840 | GSM886841 | GSM886842 | GSM886843 | GSM886844 | ... | GSM887742 | GSM887743 | GSM887744 | GSM887745 | GSM887746 | GSM887747 | GSM887748 | GSM887749 | GSM887750 | GSM887751 |\n",
       "|---|---|---|---|---|---|---|---|---|---|---|---|---|---|---|---|---|---|---|---|---|---|\n",
       "| A1BG | 5.899963 | 5.495630 | 4.915154 | 4.386444 | 8.018313 | 4.440586 | 7.108326 | 4.974334 | 7.542390 | 4.769888 | ...      | 4.750698 | 4.899243 | 4.071518 | 4.630944 | 4.617563 | 7.214694 | 5.955572 | 8.455509 | 7.726960 | 6.890627 |\n",
       "| A1BG-AS1 | 4.198575 | 4.288757 | 4.359141 | 4.480000 | 4.967571 | 4.347018 | 4.625651 | 3.904524 | 4.520180 | 4.199256 | ...      | 3.961551 | 4.857442 | 3.912837 | 4.158353 | 4.251507 | 4.576859 | 4.293843 | 4.936280 | 4.550335 | 4.542611 |\n",
       "| A1CF | 3.417583 | 3.525042 | 7.542882 | 6.040017 | 3.594282 | 3.745547 | 3.810901 | 3.801650 | 3.581691 | 4.806474 | ...      | 3.728103 | 3.926467 | 3.628426 | 3.674687 | 3.516588 | 3.647283 | 3.462856 | 3.634708 | 3.638426 | 3.583976 |\n",
       "| A2M | 4.151092 | 4.867485 | 4.683452 | 3.770537 | 3.992411 | 3.668579 | 3.643959 | 3.799457 | 3.985218 | 3.708740 | ...      | 3.532178 | 4.184472 | 3.778447 | 3.898891 | 4.298302 | 4.583785 | 3.854023 | 4.372195 | 3.680397 | 4.555957 |\n",
       "| A2M-AS1 | 3.762424 | 4.137505 | 5.460368 | 4.362451 | 3.399720 | 4.016473 | 4.214320 | 3.873390 | 4.371387 | 4.227194 | ...      | 3.950108 | 4.085309 | 3.765956 | 3.790026 | 6.153343 | 3.559259 | 3.627579 | 6.262938 | 5.726388 | 4.205392 |\n",
       "| A2ML1 | 3.732278 | 3.662743 | 3.610375 | 3.732523 | 3.725832 | 4.007599 | 3.874659 | 3.720081 | 3.855083 | 3.791364 | ...      | 3.550914 | 3.812484 | 3.661177 | 3.869864 | 3.762442 | 3.614379 | 3.604870 | 3.791852 | 3.791549 | 3.798503 |\n",
       "\n"
      ],
      "text/plain": [
       "         GSM886835 GSM886836 GSM886837 GSM886838 GSM886839 GSM886840 GSM886841\n",
       "A1BG     5.899963  5.495630  4.915154  4.386444  8.018313  4.440586  7.108326 \n",
       "A1BG-AS1 4.198575  4.288757  4.359141  4.480000  4.967571  4.347018  4.625651 \n",
       "A1CF     3.417583  3.525042  7.542882  6.040017  3.594282  3.745547  3.810901 \n",
       "A2M      4.151092  4.867485  4.683452  3.770537  3.992411  3.668579  3.643959 \n",
       "A2M-AS1  3.762424  4.137505  5.460368  4.362451  3.399720  4.016473  4.214320 \n",
       "A2ML1    3.732278  3.662743  3.610375  3.732523  3.725832  4.007599  3.874659 \n",
       "         GSM886842 GSM886843 GSM886844 ... GSM887742 GSM887743 GSM887744\n",
       "A1BG     4.974334  7.542390  4.769888  ... 4.750698  4.899243  4.071518 \n",
       "A1BG-AS1 3.904524  4.520180  4.199256  ... 3.961551  4.857442  3.912837 \n",
       "A1CF     3.801650  3.581691  4.806474  ... 3.728103  3.926467  3.628426 \n",
       "A2M      3.799457  3.985218  3.708740  ... 3.532178  4.184472  3.778447 \n",
       "A2M-AS1  3.873390  4.371387  4.227194  ... 3.950108  4.085309  3.765956 \n",
       "A2ML1    3.720081  3.855083  3.791364  ... 3.550914  3.812484  3.661177 \n",
       "         GSM887745 GSM887746 GSM887747 GSM887748 GSM887749 GSM887750 GSM887751\n",
       "A1BG     4.630944  4.617563  7.214694  5.955572  8.455509  7.726960  6.890627 \n",
       "A1BG-AS1 4.158353  4.251507  4.576859  4.293843  4.936280  4.550335  4.542611 \n",
       "A1CF     3.674687  3.516588  3.647283  3.462856  3.634708  3.638426  3.583976 \n",
       "A2M      3.898891  4.298302  4.583785  3.854023  4.372195  3.680397  4.555957 \n",
       "A2M-AS1  3.790026  6.153343  3.559259  3.627579  6.262938  5.726388  4.205392 \n",
       "A2ML1    3.869864  3.762442  3.614379  3.604870  3.791852  3.791549  3.798503 "
      ]
     },
     "metadata": {},
     "output_type": "display_data"
    }
   ],
   "source": [
    "ccle_rnaseq_data <- read.delim(\"GSE36133.BrainArray.RMAlog2Average.SYMBOL.Expr.tsv\")\n",
    "head(ccle_rnaseq_data)"
   ]
  },
  {
   "cell_type": "code",
   "execution_count": 37,
   "id": "0aaa57f4-7ca8-4f75-853a-20cbd04ce403",
   "metadata": {},
   "outputs": [],
   "source": [
    "ccle_rnaseq_data <- t(ccle_rnaseq_data)"
   ]
  },
  {
   "cell_type": "code",
   "execution_count": 38,
   "id": "b433afe1-5805-40b4-819b-9d0d5a9e7db7",
   "metadata": {
    "scrolled": true
   },
   "outputs": [
    {
     "name": "stderr",
     "output_type": "stream",
     "text": [
      "ERROR while rich displaying an object: Error in sprintf(wrap, header, body): 'fmt' uzunluğu maksimum biçim uzunluğu 8192'i geçiyor\n",
      "\n",
      "Traceback:\n",
      "1. tryCatch(withCallingHandlers({\n",
      " .     if (!mime %in% names(repr::mime2repr)) \n",
      " .         stop(\"No repr_* for mimetype \", mime, \" in repr::mime2repr\")\n",
      " .     rpr <- repr::mime2repr[[mime]](obj)\n",
      " .     if (is.null(rpr)) \n",
      " .         return(NULL)\n",
      " .     prepare_content(is.raw(rpr), rpr)\n",
      " . }, error = error_handler), error = outer_handler)\n",
      "2. tryCatchList(expr, classes, parentenv, handlers)\n",
      "3. tryCatchOne(expr, names, parentenv, handlers[[1L]])\n",
      "4. doTryCatch(return(expr), name, parentenv, handler)\n",
      "5. withCallingHandlers({\n",
      " .     if (!mime %in% names(repr::mime2repr)) \n",
      " .         stop(\"No repr_* for mimetype \", mime, \" in repr::mime2repr\")\n",
      " .     rpr <- repr::mime2repr[[mime]](obj)\n",
      " .     if (is.null(rpr)) \n",
      " .         return(NULL)\n",
      " .     prepare_content(is.raw(rpr), rpr)\n",
      " . }, error = error_handler)\n",
      "6. repr::mime2repr[[mime]](obj)\n",
      "7. repr_latex.matrix(obj)\n",
      "8. repr_matrix_generic(obj, sprintf(\"\\\\begin{tabular}{%s}\\n%%s%%s\\\\end{tabular}\\n\", \n",
      " .     cols), \"%s\\\\\\\\\\n\\\\hline\\n\", \"  &\", \" %s &\", \"%s\", \"\\t%s\\\\\\\\\\n\", \n",
      " .     \"%s &\", \" %s &\", escape_fun = latex_escape_vec, ...)\n",
      "9. sprintf(wrap, header, body)\n"
     ]
    },
    {
     "data": {
      "text/html": [
       "<table>\n",
       "<thead><tr><th></th><th scope=col>A1BG</th><th scope=col>A1BG-AS1</th><th scope=col>A1CF</th><th scope=col>A2M</th><th scope=col>A2M-AS1</th><th scope=col>A2ML1</th><th scope=col>A4GALT</th><th scope=col>A4GNT</th><th scope=col>AA06</th><th scope=col>AAAS</th><th scope=col>...</th><th scope=col>ZWILCH</th><th scope=col>ZWINT</th><th scope=col>ZXDA</th><th scope=col>ZXDB</th><th scope=col>ZXDC</th><th scope=col>ZYG11A</th><th scope=col>ZYG11B</th><th scope=col>ZYX</th><th scope=col>ZZEF1</th><th scope=col>ZZZ3</th></tr></thead>\n",
       "<tbody>\n",
       "\t<tr><th scope=row>GSM886835</th><td>5.899963</td><td>4.198575</td><td>3.417583</td><td>4.151092</td><td>3.762424</td><td>3.732278</td><td>4.601793</td><td>4.120159</td><td>3.775451</td><td>7.746676</td><td>...     </td><td>11.53997</td><td>12.05005</td><td>5.062282</td><td>5.008791</td><td>6.960315</td><td>4.722003</td><td>9.417772</td><td>8.431670</td><td>5.840868</td><td>8.712982</td></tr>\n",
       "\t<tr><th scope=row>GSM886836</th><td>5.495630</td><td>4.288757</td><td>3.525042</td><td>4.867485</td><td>4.137505</td><td>3.662743</td><td>4.100075</td><td>4.248690</td><td>3.866216</td><td>7.817647</td><td>...     </td><td>11.55064</td><td>12.67412</td><td>5.113557</td><td>5.306325</td><td>6.847328</td><td>8.401546</td><td>8.559293</td><td>9.492206</td><td>6.702743</td><td>9.381748</td></tr>\n",
       "\t<tr><th scope=row>GSM886837</th><td>4.915154</td><td>4.359141</td><td>7.542882</td><td>4.683452</td><td>5.460368</td><td>3.610375</td><td>3.717582</td><td>3.942868</td><td>4.114708</td><td>8.531752</td><td>...     </td><td>11.03134</td><td>12.75829</td><td>5.161531</td><td>5.216974</td><td>6.739969</td><td>5.047310</td><td>8.619068</td><td>6.438087</td><td>5.778127</td><td>8.865624</td></tr>\n",
       "\t<tr><th scope=row>GSM886838</th><td>4.386444</td><td>4.480000</td><td>6.040017</td><td>3.770537</td><td>4.362451</td><td>3.732523</td><td>4.371752</td><td>3.991243</td><td>3.655252</td><td>7.435340</td><td>...     </td><td>10.36492</td><td>12.03812</td><td>5.716673</td><td>5.811547</td><td>6.872836</td><td>4.824522</td><td>8.331147</td><td>7.748450</td><td>5.904140</td><td>9.142657</td></tr>\n",
       "\t<tr><th scope=row>GSM886839</th><td>8.018313</td><td>4.967571</td><td>3.594282</td><td>3.992411</td><td>3.399720</td><td>3.725832</td><td>3.742307</td><td>3.826548</td><td>3.864680</td><td>7.415949</td><td>...     </td><td>10.85602</td><td>11.98229</td><td>4.647602</td><td>4.817213</td><td>6.179972</td><td>5.111314</td><td>9.087052</td><td>8.752901</td><td>5.857895</td><td>9.213310</td></tr>\n",
       "\t<tr><th scope=row>GSM886840</th><td>4.440586</td><td>4.347018</td><td>3.745547</td><td>3.668579</td><td>4.016473</td><td>4.007599</td><td>5.443397</td><td>4.212212</td><td>4.163725</td><td>7.758437</td><td>...     </td><td>10.03659</td><td>11.91195</td><td>5.034868</td><td>4.904330</td><td>6.401517</td><td>5.784584</td><td>8.046474</td><td>9.286192</td><td>5.913842</td><td>8.374144</td></tr>\n",
       "</tbody>\n",
       "</table>\n"
      ],
      "text/markdown": [
       "\n",
       "| <!--/--> | A1BG | A1BG-AS1 | A1CF | A2M | A2M-AS1 | A2ML1 | A4GALT | A4GNT | AA06 | AAAS | ... | ZWILCH | ZWINT | ZXDA | ZXDB | ZXDC | ZYG11A | ZYG11B | ZYX | ZZEF1 | ZZZ3 |\n",
       "|---|---|---|---|---|---|---|---|---|---|---|---|---|---|---|---|---|---|---|---|---|---|\n",
       "| GSM886835 | 5.899963 | 4.198575 | 3.417583 | 4.151092 | 3.762424 | 3.732278 | 4.601793 | 4.120159 | 3.775451 | 7.746676 | ...      | 11.53997 | 12.05005 | 5.062282 | 5.008791 | 6.960315 | 4.722003 | 9.417772 | 8.431670 | 5.840868 | 8.712982 |\n",
       "| GSM886836 | 5.495630 | 4.288757 | 3.525042 | 4.867485 | 4.137505 | 3.662743 | 4.100075 | 4.248690 | 3.866216 | 7.817647 | ...      | 11.55064 | 12.67412 | 5.113557 | 5.306325 | 6.847328 | 8.401546 | 8.559293 | 9.492206 | 6.702743 | 9.381748 |\n",
       "| GSM886837 | 4.915154 | 4.359141 | 7.542882 | 4.683452 | 5.460368 | 3.610375 | 3.717582 | 3.942868 | 4.114708 | 8.531752 | ...      | 11.03134 | 12.75829 | 5.161531 | 5.216974 | 6.739969 | 5.047310 | 8.619068 | 6.438087 | 5.778127 | 8.865624 |\n",
       "| GSM886838 | 4.386444 | 4.480000 | 6.040017 | 3.770537 | 4.362451 | 3.732523 | 4.371752 | 3.991243 | 3.655252 | 7.435340 | ...      | 10.36492 | 12.03812 | 5.716673 | 5.811547 | 6.872836 | 4.824522 | 8.331147 | 7.748450 | 5.904140 | 9.142657 |\n",
       "| GSM886839 | 8.018313 | 4.967571 | 3.594282 | 3.992411 | 3.399720 | 3.725832 | 3.742307 | 3.826548 | 3.864680 | 7.415949 | ...      | 10.85602 | 11.98229 | 4.647602 | 4.817213 | 6.179972 | 5.111314 | 9.087052 | 8.752901 | 5.857895 | 9.213310 |\n",
       "| GSM886840 | 4.440586 | 4.347018 | 3.745547 | 3.668579 | 4.016473 | 4.007599 | 5.443397 | 4.212212 | 4.163725 | 7.758437 | ...      | 10.03659 | 11.91195 | 5.034868 | 4.904330 | 6.401517 | 5.784584 | 8.046474 | 9.286192 | 5.913842 | 8.374144 |\n",
       "\n"
      ],
      "text/plain": [
       "          A1BG     A1BG-AS1 A1CF     A2M      A2M-AS1  A2ML1    A4GALT  \n",
       "GSM886835 5.899963 4.198575 3.417583 4.151092 3.762424 3.732278 4.601793\n",
       "GSM886836 5.495630 4.288757 3.525042 4.867485 4.137505 3.662743 4.100075\n",
       "GSM886837 4.915154 4.359141 7.542882 4.683452 5.460368 3.610375 3.717582\n",
       "GSM886838 4.386444 4.480000 6.040017 3.770537 4.362451 3.732523 4.371752\n",
       "GSM886839 8.018313 4.967571 3.594282 3.992411 3.399720 3.725832 3.742307\n",
       "GSM886840 4.440586 4.347018 3.745547 3.668579 4.016473 4.007599 5.443397\n",
       "          A4GNT    AA06     AAAS     ... ZWILCH   ZWINT    ZXDA     ZXDB    \n",
       "GSM886835 4.120159 3.775451 7.746676 ... 11.53997 12.05005 5.062282 5.008791\n",
       "GSM886836 4.248690 3.866216 7.817647 ... 11.55064 12.67412 5.113557 5.306325\n",
       "GSM886837 3.942868 4.114708 8.531752 ... 11.03134 12.75829 5.161531 5.216974\n",
       "GSM886838 3.991243 3.655252 7.435340 ... 10.36492 12.03812 5.716673 5.811547\n",
       "GSM886839 3.826548 3.864680 7.415949 ... 10.85602 11.98229 4.647602 4.817213\n",
       "GSM886840 4.212212 4.163725 7.758437 ... 10.03659 11.91195 5.034868 4.904330\n",
       "          ZXDC     ZYG11A   ZYG11B   ZYX      ZZEF1    ZZZ3    \n",
       "GSM886835 6.960315 4.722003 9.417772 8.431670 5.840868 8.712982\n",
       "GSM886836 6.847328 8.401546 8.559293 9.492206 6.702743 9.381748\n",
       "GSM886837 6.739969 5.047310 8.619068 6.438087 5.778127 8.865624\n",
       "GSM886838 6.872836 4.824522 8.331147 7.748450 5.904140 9.142657\n",
       "GSM886839 6.179972 5.111314 9.087052 8.752901 5.857895 9.213310\n",
       "GSM886840 6.401517 5.784584 8.046474 9.286192 5.913842 8.374144"
      ]
     },
     "metadata": {},
     "output_type": "display_data"
    }
   ],
   "source": [
    "head(ccle_rnaseq_data)"
   ]
  },
  {
   "cell_type": "code",
   "execution_count": 39,
   "id": "3e54d60b-2127-4c83-8d1f-ac59e3947811",
   "metadata": {},
   "outputs": [
    {
     "data": {
      "text/html": [
       "<ol class=list-inline>\n",
       "\t<li>917</li>\n",
       "\t<li>20174</li>\n",
       "</ol>\n"
      ],
      "text/latex": [
       "\\begin{enumerate*}\n",
       "\\item 917\n",
       "\\item 20174\n",
       "\\end{enumerate*}\n"
      ],
      "text/markdown": [
       "1. 917\n",
       "2. 20174\n",
       "\n",
       "\n"
      ],
      "text/plain": [
       "[1]   917 20174"
      ]
     },
     "metadata": {},
     "output_type": "display_data"
    }
   ],
   "source": [
    "dim(ccle_rnaseq_data)"
   ]
  },
  {
   "cell_type": "code",
   "execution_count": 40,
   "id": "c26132ae-d0d7-443b-9558-a2a4ff606ac5",
   "metadata": {},
   "outputs": [],
   "source": [
    "#.........."
   ]
  },
  {
   "cell_type": "code",
   "execution_count": 41,
   "id": "c66c0f08-b63e-4ba6-aef8-c6efbc3b3f9f",
   "metadata": {},
   "outputs": [],
   "source": [
    "ccle_rnaseq_annotation_data <- read.delim(\"CCLE_expressions.annotations.tsv\")"
   ]
  },
  {
   "cell_type": "code",
   "execution_count": 42,
   "id": "67b5b4d5-b518-4e23-a76b-6965c6c6ac34",
   "metadata": {},
   "outputs": [
    {
     "data": {
      "text/html": [
       "<table>\n",
       "<thead><tr><th scope=col>GSM</th><th scope=col>title</th><th scope=col>source</th><th scope=col>primary.site</th><th scope=col>histology</th><th scope=col>histology.subtype1</th><th scope=col>CCLE_name</th></tr></thead>\n",
       "<tbody>\n",
       "\t<tr><td>GSM886835                    </td><td>1321N1                       </td><td>ECACC                        </td><td>central_nervous_system       </td><td>glioma                       </td><td>astrocytoma                  </td><td>1321N1_CENTRAL_NERVOUS_SYSTEM</td></tr>\n",
       "\t<tr><td>GSM886836                    </td><td>143B                         </td><td>ATCC                         </td><td>bone                         </td><td>osteosarcoma                 </td><td>                             </td><td>143B_BONE                    </td></tr>\n",
       "\t<tr><td>GSM886837                    </td><td>22Rv1                        </td><td>ATCC                         </td><td>prostate                     </td><td>carcinoma                    </td><td>                             </td><td>22RV1_PROSTATE               </td></tr>\n",
       "</tbody>\n",
       "</table>\n"
      ],
      "text/latex": [
       "\\begin{tabular}{r|lllllll}\n",
       " GSM & title & source & primary.site & histology & histology.subtype1 & CCLE\\_name\\\\\n",
       "\\hline\n",
       "\t GSM886835                           & 1321N1                              & ECACC                               & central\\_nervous\\_system          & glioma                              & astrocytoma                         & 1321N1\\_CENTRAL\\_NERVOUS\\_SYSTEM\\\\\n",
       "\t GSM886836                       & 143B                            & ATCC                            & bone                            & osteosarcoma                    &                                 & 143B\\_BONE                    \\\\\n",
       "\t GSM886837                       & 22Rv1                           & ATCC                            & prostate                        & carcinoma                       &                                 & 22RV1\\_PROSTATE               \\\\\n",
       "\\end{tabular}\n"
      ],
      "text/markdown": [
       "\n",
       "| GSM | title | source | primary.site | histology | histology.subtype1 | CCLE_name |\n",
       "|---|---|---|---|---|---|---|\n",
       "| GSM886835                     | 1321N1                        | ECACC                         | central_nervous_system        | glioma                        | astrocytoma                   | 1321N1_CENTRAL_NERVOUS_SYSTEM |\n",
       "| GSM886836                     | 143B                          | ATCC                          | bone                          | osteosarcoma                  |                               | 143B_BONE                     |\n",
       "| GSM886837                     | 22Rv1                         | ATCC                          | prostate                      | carcinoma                     |                               | 22RV1_PROSTATE                |\n",
       "\n"
      ],
      "text/plain": [
       "  GSM       title  source primary.site           histology   \n",
       "1 GSM886835 1321N1 ECACC  central_nervous_system glioma      \n",
       "2 GSM886836 143B   ATCC   bone                   osteosarcoma\n",
       "3 GSM886837 22Rv1  ATCC   prostate               carcinoma   \n",
       "  histology.subtype1 CCLE_name                    \n",
       "1 astrocytoma        1321N1_CENTRAL_NERVOUS_SYSTEM\n",
       "2                    143B_BONE                    \n",
       "3                    22RV1_PROSTATE               "
      ]
     },
     "metadata": {},
     "output_type": "display_data"
    }
   ],
   "source": [
    "head(ccle_rnaseq_annotation_data, 3)"
   ]
  },
  {
   "cell_type": "code",
   "execution_count": 43,
   "id": "8885cb1d-2ea3-4003-aa90-f1906192dd9c",
   "metadata": {},
   "outputs": [
    {
     "data": {
      "text/html": [
       "<ol class=list-inline>\n",
       "\t<li>'GSM'</li>\n",
       "\t<li>'title'</li>\n",
       "\t<li>'source'</li>\n",
       "\t<li>'primary.site'</li>\n",
       "\t<li>'histology'</li>\n",
       "\t<li>'histology.subtype1'</li>\n",
       "\t<li>'CCLE_name'</li>\n",
       "</ol>\n"
      ],
      "text/latex": [
       "\\begin{enumerate*}\n",
       "\\item 'GSM'\n",
       "\\item 'title'\n",
       "\\item 'source'\n",
       "\\item 'primary.site'\n",
       "\\item 'histology'\n",
       "\\item 'histology.subtype1'\n",
       "\\item 'CCLE\\_name'\n",
       "\\end{enumerate*}\n"
      ],
      "text/markdown": [
       "1. 'GSM'\n",
       "2. 'title'\n",
       "3. 'source'\n",
       "4. 'primary.site'\n",
       "5. 'histology'\n",
       "6. 'histology.subtype1'\n",
       "7. 'CCLE_name'\n",
       "\n",
       "\n"
      ],
      "text/plain": [
       "[1] \"GSM\"                \"title\"              \"source\"            \n",
       "[4] \"primary.site\"       \"histology\"          \"histology.subtype1\"\n",
       "[7] \"CCLE_name\"         "
      ]
     },
     "metadata": {},
     "output_type": "display_data"
    }
   ],
   "source": [
    "colnames(ccle_rnaseq_annotation_data)"
   ]
  },
  {
   "cell_type": "code",
   "execution_count": 44,
   "id": "7c752973-fc46-4e25-99e0-9e0a376c99c3",
   "metadata": {},
   "outputs": [],
   "source": [
    "#..................."
   ]
  },
  {
   "cell_type": "code",
   "execution_count": 45,
   "id": "7b7e4b93-2c49-4def-af45-6b74b524c1ac",
   "metadata": {},
   "outputs": [
    {
     "data": {
      "text/html": [
       "'C:/Users/MONSTER/Desktop/TEZ/CCLE/INPUT'"
      ],
      "text/latex": [
       "'C:/Users/MONSTER/Desktop/TEZ/CCLE/INPUT'"
      ],
      "text/markdown": [
       "'C:/Users/MONSTER/Desktop/TEZ/CCLE/INPUT'"
      ],
      "text/plain": [
       "[1] \"C:/Users/MONSTER/Desktop/TEZ/CCLE/INPUT\""
      ]
     },
     "metadata": {},
     "output_type": "display_data"
    }
   ],
   "source": [
    "getwd()"
   ]
  },
  {
   "cell_type": "code",
   "execution_count": 46,
   "id": "7d851249-c427-4c8b-a295-74807f5b4612",
   "metadata": {},
   "outputs": [],
   "source": [
    "setwd(output_dir)"
   ]
  },
  {
   "cell_type": "code",
   "execution_count": 47,
   "id": "e9ce7b24-530b-4e7a-b3cd-b4e4cf929bd4",
   "metadata": {},
   "outputs": [
    {
     "data": {
      "text/html": [
       "'C:/Users/MONSTER/Desktop/TEZ/CCLE/OUTPUT'"
      ],
      "text/latex": [
       "'C:/Users/MONSTER/Desktop/TEZ/CCLE/OUTPUT'"
      ],
      "text/markdown": [
       "'C:/Users/MONSTER/Desktop/TEZ/CCLE/OUTPUT'"
      ],
      "text/plain": [
       "[1] \"C:/Users/MONSTER/Desktop/TEZ/CCLE/OUTPUT\""
      ]
     },
     "metadata": {},
     "output_type": "display_data"
    }
   ],
   "source": [
    "getwd()"
   ]
  },
  {
   "cell_type": "code",
   "execution_count": 48,
   "id": "9303177d-2bf7-4a0a-8cc1-c13442bfe83c",
   "metadata": {},
   "outputs": [
    {
     "data": {
      "text/html": [
       "<ol class=list-inline>\n",
       "\t<li>'carcinoid-endocrine_tumour'</li>\n",
       "\t<li>'carcinoma'</li>\n",
       "\t<li>'chondrosarcoma'</li>\n",
       "\t<li>'Ewings_sarcoma-peripheral_primitive_neuroectodermal_tumour'</li>\n",
       "\t<li>'fibrosarcoma'</li>\n",
       "\t<li>'glioma'</li>\n",
       "\t<li>'haematopoietic_neoplasm'</li>\n",
       "\t<li>'lymphoid_neoplasm'</li>\n",
       "\t<li>'malignant_fibrous_histiocytoma-pleomorphic_sarcoma'</li>\n",
       "\t<li>'malignant_melanoma'</li>\n",
       "\t<li>'mesothelioma'</li>\n",
       "\t<li>'neuroblastoma'</li>\n",
       "\t<li>'osteosarcoma'</li>\n",
       "\t<li>'other'</li>\n",
       "\t<li>'primitive_neuroectodermal_tumour-medulloblastoma'</li>\n",
       "\t<li>'rhabdoid_tumour'</li>\n",
       "\t<li>'rhabdomyosarcoma'</li>\n",
       "\t<li>'sarcoma'</li>\n",
       "</ol>\n"
      ],
      "text/latex": [
       "\\begin{enumerate*}\n",
       "\\item 'carcinoid-endocrine\\_tumour'\n",
       "\\item 'carcinoma'\n",
       "\\item 'chondrosarcoma'\n",
       "\\item 'Ewings\\_sarcoma-peripheral\\_primitive\\_neuroectodermal\\_tumour'\n",
       "\\item 'fibrosarcoma'\n",
       "\\item 'glioma'\n",
       "\\item 'haematopoietic\\_neoplasm'\n",
       "\\item 'lymphoid\\_neoplasm'\n",
       "\\item 'malignant\\_fibrous\\_histiocytoma-pleomorphic\\_sarcoma'\n",
       "\\item 'malignant\\_melanoma'\n",
       "\\item 'mesothelioma'\n",
       "\\item 'neuroblastoma'\n",
       "\\item 'osteosarcoma'\n",
       "\\item 'other'\n",
       "\\item 'primitive\\_neuroectodermal\\_tumour-medulloblastoma'\n",
       "\\item 'rhabdoid\\_tumour'\n",
       "\\item 'rhabdomyosarcoma'\n",
       "\\item 'sarcoma'\n",
       "\\end{enumerate*}\n"
      ],
      "text/markdown": [
       "1. 'carcinoid-endocrine_tumour'\n",
       "2. 'carcinoma'\n",
       "3. 'chondrosarcoma'\n",
       "4. 'Ewings_sarcoma-peripheral_primitive_neuroectodermal_tumour'\n",
       "5. 'fibrosarcoma'\n",
       "6. 'glioma'\n",
       "7. 'haematopoietic_neoplasm'\n",
       "8. 'lymphoid_neoplasm'\n",
       "9. 'malignant_fibrous_histiocytoma-pleomorphic_sarcoma'\n",
       "10. 'malignant_melanoma'\n",
       "11. 'mesothelioma'\n",
       "12. 'neuroblastoma'\n",
       "13. 'osteosarcoma'\n",
       "14. 'other'\n",
       "15. 'primitive_neuroectodermal_tumour-medulloblastoma'\n",
       "16. 'rhabdoid_tumour'\n",
       "17. 'rhabdomyosarcoma'\n",
       "18. 'sarcoma'\n",
       "\n",
       "\n"
      ],
      "text/plain": [
       " [1] \"carcinoid-endocrine_tumour\"                                \n",
       " [2] \"carcinoma\"                                                 \n",
       " [3] \"chondrosarcoma\"                                            \n",
       " [4] \"Ewings_sarcoma-peripheral_primitive_neuroectodermal_tumour\"\n",
       " [5] \"fibrosarcoma\"                                              \n",
       " [6] \"glioma\"                                                    \n",
       " [7] \"haematopoietic_neoplasm\"                                   \n",
       " [8] \"lymphoid_neoplasm\"                                         \n",
       " [9] \"malignant_fibrous_histiocytoma-pleomorphic_sarcoma\"        \n",
       "[10] \"malignant_melanoma\"                                        \n",
       "[11] \"mesothelioma\"                                              \n",
       "[12] \"neuroblastoma\"                                             \n",
       "[13] \"osteosarcoma\"                                              \n",
       "[14] \"other\"                                                     \n",
       "[15] \"primitive_neuroectodermal_tumour-medulloblastoma\"          \n",
       "[16] \"rhabdoid_tumour\"                                           \n",
       "[17] \"rhabdomyosarcoma\"                                          \n",
       "[18] \"sarcoma\"                                                   "
      ]
     },
     "metadata": {},
     "output_type": "display_data"
    }
   ],
   "source": [
    "list.files()"
   ]
  },
  {
   "cell_type": "code",
   "execution_count": 49,
   "id": "5d583ea0-2a19-4e11-b7dd-fd9501affa45",
   "metadata": {},
   "outputs": [
    {
     "data": {
      "text/html": [
       "<ol class=list-inline>\n",
       "\t<li>'carcinoid-endocrine_tumour'</li>\n",
       "\t<li>'carcinoma'</li>\n",
       "\t<li>'chondrosarcoma'</li>\n",
       "\t<li>'Ewings_sarcoma-peripheral_primitive_neuroectodermal_tumour'</li>\n",
       "\t<li>'fibrosarcoma'</li>\n",
       "\t<li>'glioma'</li>\n",
       "\t<li>'haematopoietic_neoplasm'</li>\n",
       "\t<li>'lymphoid_neoplasm'</li>\n",
       "\t<li>'malignant_fibrous_histiocytoma-pleomorphic_sarcoma'</li>\n",
       "\t<li>'malignant_melanoma'</li>\n",
       "\t<li>'mesothelioma'</li>\n",
       "\t<li>'neuroblastoma'</li>\n",
       "\t<li>'osteosarcoma'</li>\n",
       "\t<li>'other'</li>\n",
       "\t<li>'primitive_neuroectodermal_tumour-medulloblastoma'</li>\n",
       "\t<li>'rhabdoid_tumour'</li>\n",
       "\t<li>'rhabdomyosarcoma'</li>\n",
       "\t<li>'sarcoma'</li>\n",
       "</ol>\n"
      ],
      "text/latex": [
       "\\begin{enumerate*}\n",
       "\\item 'carcinoid-endocrine\\_tumour'\n",
       "\\item 'carcinoma'\n",
       "\\item 'chondrosarcoma'\n",
       "\\item 'Ewings\\_sarcoma-peripheral\\_primitive\\_neuroectodermal\\_tumour'\n",
       "\\item 'fibrosarcoma'\n",
       "\\item 'glioma'\n",
       "\\item 'haematopoietic\\_neoplasm'\n",
       "\\item 'lymphoid\\_neoplasm'\n",
       "\\item 'malignant\\_fibrous\\_histiocytoma-pleomorphic\\_sarcoma'\n",
       "\\item 'malignant\\_melanoma'\n",
       "\\item 'mesothelioma'\n",
       "\\item 'neuroblastoma'\n",
       "\\item 'osteosarcoma'\n",
       "\\item 'other'\n",
       "\\item 'primitive\\_neuroectodermal\\_tumour-medulloblastoma'\n",
       "\\item 'rhabdoid\\_tumour'\n",
       "\\item 'rhabdomyosarcoma'\n",
       "\\item 'sarcoma'\n",
       "\\end{enumerate*}\n"
      ],
      "text/markdown": [
       "1. 'carcinoid-endocrine_tumour'\n",
       "2. 'carcinoma'\n",
       "3. 'chondrosarcoma'\n",
       "4. 'Ewings_sarcoma-peripheral_primitive_neuroectodermal_tumour'\n",
       "5. 'fibrosarcoma'\n",
       "6. 'glioma'\n",
       "7. 'haematopoietic_neoplasm'\n",
       "8. 'lymphoid_neoplasm'\n",
       "9. 'malignant_fibrous_histiocytoma-pleomorphic_sarcoma'\n",
       "10. 'malignant_melanoma'\n",
       "11. 'mesothelioma'\n",
       "12. 'neuroblastoma'\n",
       "13. 'osteosarcoma'\n",
       "14. 'other'\n",
       "15. 'primitive_neuroectodermal_tumour-medulloblastoma'\n",
       "16. 'rhabdoid_tumour'\n",
       "17. 'rhabdomyosarcoma'\n",
       "18. 'sarcoma'\n",
       "\n",
       "\n"
      ],
      "text/plain": [
       " [1] \"carcinoid-endocrine_tumour\"                                \n",
       " [2] \"carcinoma\"                                                 \n",
       " [3] \"chondrosarcoma\"                                            \n",
       " [4] \"Ewings_sarcoma-peripheral_primitive_neuroectodermal_tumour\"\n",
       " [5] \"fibrosarcoma\"                                              \n",
       " [6] \"glioma\"                                                    \n",
       " [7] \"haematopoietic_neoplasm\"                                   \n",
       " [8] \"lymphoid_neoplasm\"                                         \n",
       " [9] \"malignant_fibrous_histiocytoma-pleomorphic_sarcoma\"        \n",
       "[10] \"malignant_melanoma\"                                        \n",
       "[11] \"mesothelioma\"                                              \n",
       "[12] \"neuroblastoma\"                                             \n",
       "[13] \"osteosarcoma\"                                              \n",
       "[14] \"other\"                                                     \n",
       "[15] \"primitive_neuroectodermal_tumour-medulloblastoma\"          \n",
       "[16] \"rhabdoid_tumour\"                                           \n",
       "[17] \"rhabdomyosarcoma\"                                          \n",
       "[18] \"sarcoma\"                                                   "
      ]
     },
     "metadata": {},
     "output_type": "display_data"
    }
   ],
   "source": [
    "histologies <- list.files()\n",
    "histologies"
   ]
  },
  {
   "cell_type": "code",
   "execution_count": 50,
   "id": "59f72bfe-459c-4fd6-87dd-23cf5cfb43d1",
   "metadata": {},
   "outputs": [
    {
     "name": "stdout",
     "output_type": "stream",
     "text": [
      "\n",
      "Boruta is running for carcinoma\n",
      "Drug1: Boruta is running for Topotecan"
     ]
    },
    {
     "name": "stderr",
     "output_type": "stream",
     "text": [
      " 1. run of importance source...\n"
     ]
    },
    {
     "name": "stdout",
     "output_type": "stream",
     "text": [
      "Computing permutation importance.. Progress: 28%. Estimated remaining time: 1 minute, 18 seconds.\n",
      "Computing permutation importance.. Progress: 58%. Estimated remaining time: 45 seconds.\n",
      "Computing permutation importance.. Progress: 86%. Estimated remaining time: 15 seconds.\n"
     ]
    },
    {
     "name": "stderr",
     "output_type": "stream",
     "text": [
      " 2. run of importance source...\n"
     ]
    },
    {
     "name": "stdout",
     "output_type": "stream",
     "text": [
      "Computing permutation importance.. Progress: 31%. Estimated remaining time: 1 minute, 10 seconds.\n",
      "Computing permutation importance.. Progress: 63%. Estimated remaining time: 36 seconds.\n",
      "Computing permutation importance.. Progress: 91%. Estimated remaining time: 8 seconds.\n"
     ]
    },
    {
     "name": "stderr",
     "output_type": "stream",
     "text": [
      " 3. run of importance source...\n"
     ]
    },
    {
     "name": "stdout",
     "output_type": "stream",
     "text": [
      "Computing permutation importance.. Progress: 31%. Estimated remaining time: 1 minute, 8 seconds.\n",
      "Computing permutation importance.. Progress: 63%. Estimated remaining time: 36 seconds.\n",
      "Computing permutation importance.. Progress: 93%. Estimated remaining time: 7 seconds.\n"
     ]
    },
    {
     "name": "stderr",
     "output_type": "stream",
     "text": [
      " 4. run of importance source...\n"
     ]
    },
    {
     "name": "stdout",
     "output_type": "stream",
     "text": [
      "Computing permutation importance.. Progress: 27%. Estimated remaining time: 1 minute, 23 seconds.\n",
      "Computing permutation importance.. Progress: 56%. Estimated remaining time: 48 seconds.\n",
      "Computing permutation importance.. Progress: 89%. Estimated remaining time: 12 seconds.\n"
     ]
    },
    {
     "name": "stderr",
     "output_type": "stream",
     "text": [
      " 5. run of importance source...\n"
     ]
    },
    {
     "name": "stdout",
     "output_type": "stream",
     "text": [
      "Computing permutation importance.. Progress: 31%. Estimated remaining time: 1 minute, 10 seconds.\n",
      "Computing permutation importance.. Progress: 62%. Estimated remaining time: 38 seconds.\n",
      "Computing permutation importance.. Progress: 90%. Estimated remaining time: 10 seconds.\n"
     ]
    },
    {
     "name": "stderr",
     "output_type": "stream",
     "text": [
      " 6. run of importance source...\n"
     ]
    },
    {
     "name": "stdout",
     "output_type": "stream",
     "text": [
      "Computing permutation importance.. Progress: 31%. Estimated remaining time: 1 minute, 9 seconds.\n",
      "Computing permutation importance.. Progress: 64%. Estimated remaining time: 35 seconds.\n",
      "Computing permutation importance.. Progress: 96%. Estimated remaining time: 4 seconds.\n"
     ]
    },
    {
     "name": "stderr",
     "output_type": "stream",
     "text": [
      " 7. run of importance source...\n"
     ]
    },
    {
     "name": "stdout",
     "output_type": "stream",
     "text": [
      "Computing permutation importance.. Progress: 32%. Estimated remaining time: 1 minute, 5 seconds.\n",
      "Computing permutation importance.. Progress: 64%. Estimated remaining time: 35 seconds.\n",
      "Computing permutation importance.. Progress: 96%. Estimated remaining time: 4 seconds.\n"
     ]
    },
    {
     "name": "stderr",
     "output_type": "stream",
     "text": [
      " 8. run of importance source...\n"
     ]
    },
    {
     "name": "stdout",
     "output_type": "stream",
     "text": [
      "Computing permutation importance.. Progress: 28%. Estimated remaining time: 1 minute, 18 seconds.\n",
      "Computing permutation importance.. Progress: 59%. Estimated remaining time: 43 seconds.\n",
      "Computing permutation importance.. Progress: 90%. Estimated remaining time: 10 seconds.\n"
     ]
    },
    {
     "name": "stderr",
     "output_type": "stream",
     "text": [
      " 9. run of importance source...\n"
     ]
    },
    {
     "name": "stdout",
     "output_type": "stream",
     "text": [
      "Computing permutation importance.. Progress: 32%. Estimated remaining time: 1 minute, 6 seconds.\n",
      "Computing permutation importance.. Progress: 65%. Estimated remaining time: 33 seconds.\n",
      "Computing permutation importance.. Progress: 97%. Estimated remaining time: 2 seconds.\n"
     ]
    },
    {
     "name": "stderr",
     "output_type": "stream",
     "text": [
      " 10. run of importance source...\n"
     ]
    },
    {
     "name": "stdout",
     "output_type": "stream",
     "text": [
      "Computing permutation importance.. Progress: 32%. Estimated remaining time: 1 minute, 4 seconds.\n",
      "Computing permutation importance.. Progress: 65%. Estimated remaining time: 33 seconds.\n",
      "Computing permutation importance.. Progress: 97%. Estimated remaining time: 2 seconds.\n"
     ]
    },
    {
     "name": "stderr",
     "output_type": "stream",
     "text": [
      " 11. run of importance source...\n"
     ]
    },
    {
     "name": "stdout",
     "output_type": "stream",
     "text": [
      "Computing permutation importance.. Progress: 32%. Estimated remaining time: 1 minute, 6 seconds.\n",
      "Computing permutation importance.. Progress: 65%. Estimated remaining time: 33 seconds.\n",
      "Computing permutation importance.. Progress: 98%. Estimated remaining time: 1 seconds.\n"
     ]
    },
    {
     "name": "stderr",
     "output_type": "stream",
     "text": [
      " 12. run of importance source...\n"
     ]
    },
    {
     "name": "stdout",
     "output_type": "stream",
     "text": [
      "Computing permutation importance.. Progress: 33%. Estimated remaining time: 1 minute, 3 seconds.\n",
      "Computing permutation importance.. Progress: 65%. Estimated remaining time: 33 seconds.\n",
      "Computing permutation importance.. Progress: 98%. Estimated remaining time: 1 seconds.\n"
     ]
    },
    {
     "name": "stderr",
     "output_type": "stream",
     "text": [
      " 13. run of importance source...\n"
     ]
    },
    {
     "name": "stdout",
     "output_type": "stream",
     "text": [
      "Computing permutation importance.. Progress: 31%. Estimated remaining time: 1 minute, 7 seconds.\n",
      "Computing permutation importance.. Progress: 64%. Estimated remaining time: 34 seconds.\n",
      "Computing permutation importance.. Progress: 97%. Estimated remaining time: 3 seconds.\n"
     ]
    },
    {
     "name": "stderr",
     "output_type": "stream",
     "text": [
      " 14. run of importance source...\n"
     ]
    },
    {
     "name": "stdout",
     "output_type": "stream",
     "text": [
      "Computing permutation importance.. Progress: 32%. Estimated remaining time: 1 minute, 5 seconds.\n",
      "Computing permutation importance.. Progress: 64%. Estimated remaining time: 34 seconds.\n",
      "Computing permutation importance.. Progress: 96%. Estimated remaining time: 3 seconds.\n"
     ]
    },
    {
     "name": "stderr",
     "output_type": "stream",
     "text": [
      " 15. run of importance source...\n"
     ]
    },
    {
     "name": "stdout",
     "output_type": "stream",
     "text": [
      "Computing permutation importance.. Progress: 32%. Estimated remaining time: 1 minute, 4 seconds.\n",
      "Computing permutation importance.. Progress: 65%. Estimated remaining time: 32 seconds.\n",
      "Computing permutation importance.. Progress: 98%. Estimated remaining time: 1 seconds.\n"
     ]
    },
    {
     "name": "stderr",
     "output_type": "stream",
     "text": [
      " 16. run of importance source...\n"
     ]
    },
    {
     "name": "stdout",
     "output_type": "stream",
     "text": [
      "Computing permutation importance.. Progress: 32%. Estimated remaining time: 1 minute, 4 seconds.\n",
      "Computing permutation importance.. Progress: 65%. Estimated remaining time: 33 seconds.\n",
      "Computing permutation importance.. Progress: 98%. Estimated remaining time: 1 seconds.\n"
     ]
    },
    {
     "name": "stderr",
     "output_type": "stream",
     "text": [
      " 17. run of importance source...\n"
     ]
    },
    {
     "name": "stdout",
     "output_type": "stream",
     "text": [
      "Computing permutation importance.. Progress: 31%. Estimated remaining time: 1 minute, 9 seconds.\n",
      "Computing permutation importance.. Progress: 63%. Estimated remaining time: 36 seconds.\n",
      "Computing permutation importance.. Progress: 95%. Estimated remaining time: 5 seconds.\n"
     ]
    },
    {
     "name": "stderr",
     "output_type": "stream",
     "text": [
      " 18. run of importance source...\n"
     ]
    },
    {
     "name": "stdout",
     "output_type": "stream",
     "text": [
      "Computing permutation importance.. Progress: 31%. Estimated remaining time: 1 minute, 7 seconds.\n",
      "Computing permutation importance.. Progress: 65%. Estimated remaining time: 33 seconds.\n",
      "Computing permutation importance.. Progress: 98%. Estimated remaining time: 1 seconds.\n"
     ]
    },
    {
     "name": "stderr",
     "output_type": "stream",
     "text": [
      " 19. run of importance source...\n"
     ]
    },
    {
     "name": "stdout",
     "output_type": "stream",
     "text": [
      "Computing permutation importance.. Progress: 32%. Estimated remaining time: 1 minute, 7 seconds.\n",
      "Computing permutation importance.. Progress: 64%. Estimated remaining time: 35 seconds.\n",
      "Computing permutation importance.. Progress: 96%. Estimated remaining time: 3 seconds.\n"
     ]
    },
    {
     "name": "stderr",
     "output_type": "stream",
     "text": [
      " 20. run of importance source...\n"
     ]
    },
    {
     "name": "stdout",
     "output_type": "stream",
     "text": [
      "Computing permutation importance.. Progress: 32%. Estimated remaining time: 1 minute, 7 seconds.\n",
      "Computing permutation importance.. Progress: 64%. Estimated remaining time: 34 seconds.\n",
      "Computing permutation importance.. Progress: 97%. Estimated remaining time: 3 seconds.\n"
     ]
    },
    {
     "name": "stderr",
     "output_type": "stream",
     "text": [
      " 21. run of importance source...\n"
     ]
    },
    {
     "name": "stdout",
     "output_type": "stream",
     "text": [
      "Computing permutation importance.. Progress: 32%. Estimated remaining time: 1 minute, 5 seconds.\n",
      "Computing permutation importance.. Progress: 64%. Estimated remaining time: 34 seconds.\n",
      "Computing permutation importance.. Progress: 98%. Estimated remaining time: 1 seconds.\n"
     ]
    },
    {
     "name": "stderr",
     "output_type": "stream",
     "text": [
      "After 21 iterations, +38 mins: \n",
      " rejected 20137 attributes: A1BG, A1BG-AS1, A1CF, A2M, A2M-AS1 and 20132 more;\n",
      " still have 37 attributes left.\n",
      "\n",
      " 22. run of importance source...\n",
      " 23. run of importance source...\n",
      " 24. run of importance source...\n",
      " 25. run of importance source...\n",
      " 26. run of importance source...\n",
      "After 26 iterations, +38 mins: \n",
      " rejected 1 attribute: LINC01638;\n",
      " still have 36 attributes left.\n",
      "\n",
      " 27. run of importance source...\n",
      " 28. run of importance source...\n",
      " 29. run of importance source...\n",
      " 30. run of importance source...\n",
      "After 30 iterations, +38 mins: \n",
      " rejected 2 attributes: DIP2B, FGFBP2;\n",
      " still have 34 attributes left.\n",
      "\n",
      " 31. run of importance source...\n",
      " 32. run of importance source...\n",
      " 33. run of importance source...\n",
      " 34. run of importance source...\n",
      " 35. run of importance source...\n",
      " 36. run of importance source...\n",
      " 37. run of importance source...\n",
      " 38. run of importance source...\n",
      " 39. run of importance source...\n",
      " 40. run of importance source...\n",
      " 41. run of importance source...\n",
      " 42. run of importance source...\n",
      " 43. run of importance source...\n",
      " 44. run of importance source...\n",
      "After 44 iterations, +38 mins: \n",
      " rejected 1 attribute: NUDT10;\n",
      " still have 33 attributes left.\n",
      "\n",
      " 45. run of importance source...\n",
      " 46. run of importance source...\n",
      " 47. run of importance source...\n",
      " 48. run of importance source...\n",
      " 49. run of importance source...\n",
      " 50. run of importance source...\n",
      " 51. run of importance source...\n",
      " 52. run of importance source...\n",
      " 53. run of importance source...\n",
      " 54. run of importance source...\n",
      " 55. run of importance source...\n",
      " 56. run of importance source...\n",
      " 57. run of importance source...\n",
      " 58. run of importance source...\n",
      " 59. run of importance source...\n",
      " 60. run of importance source...\n",
      "After 60 iterations, +38 mins: \n",
      " confirmed 1 attribute: SLFN11;\n",
      " still have 32 attributes left.\n",
      "\n",
      " 61. run of importance source...\n",
      " 62. run of importance source...\n",
      " 63. run of importance source...\n",
      " 64. run of importance source...\n",
      " 65. run of importance source...\n",
      " 66. run of importance source...\n",
      "After 66 iterations, +38 mins: \n",
      " confirmed 1 attribute: CDIPT;\n",
      " still have 31 attributes left.\n",
      "\n",
      " 67. run of importance source...\n",
      " 68. run of importance source...\n",
      " 69. run of importance source...\n",
      " 70. run of importance source...\n",
      " 71. run of importance source...\n",
      " 72. run of importance source...\n",
      "After 72 iterations, +38 mins: \n",
      " confirmed 2 attributes: CXCL12, IGLV2-14;\n",
      " still have 29 attributes left.\n",
      "\n",
      " 73. run of importance source...\n",
      " 74. run of importance source...\n",
      "After 74 iterations, +38 mins: \n",
      " confirmed 2 attributes: DAB2, MAP1A;\n",
      " rejected 1 attribute: SPAAR;\n",
      " still have 26 attributes left.\n",
      "\n",
      " 75. run of importance source...\n",
      " 76. run of importance source...\n",
      " 77. run of importance source...\n",
      "After 77 iterations, +38 mins: \n",
      " confirmed 1 attribute: SEZ6L2;\n",
      " still have 25 attributes left.\n",
      "\n",
      " 78. run of importance source...\n",
      " 79. run of importance source...\n",
      " 80. run of importance source...\n",
      " 81. run of importance source...\n",
      " 82. run of importance source...\n",
      " 83. run of importance source...\n",
      " 84. run of importance source...\n",
      " 85. run of importance source...\n",
      " 86. run of importance source...\n",
      "After 86 iterations, +38 mins: \n",
      " confirmed 2 attributes: COL5A1, MAP2K7;\n",
      " still have 23 attributes left.\n",
      "\n",
      " 87. run of importance source...\n",
      " 88. run of importance source...\n",
      "After 88 iterations, +38 mins: \n",
      " confirmed 1 attribute: ELMO3;\n",
      " still have 22 attributes left.\n",
      "\n",
      " 89. run of importance source...\n",
      " 90. run of importance source...\n",
      " 91. run of importance source...\n",
      "After 91 iterations, +38 mins: \n",
      " confirmed 5 attributes: BBS12, CRYGS, FBN1, LINC00312, NGF;\n",
      " still have 17 attributes left.\n",
      "\n",
      " 92. run of importance source...\n",
      " 93. run of importance source...\n",
      " 94. run of importance source...\n",
      "After 94 iterations, +38 mins: \n",
      " confirmed 1 attribute: ATXN1;\n",
      " still have 16 attributes left.\n",
      "\n",
      " 95. run of importance source...\n",
      " 96. run of importance source...\n",
      "After 96 iterations, +38 mins: \n",
      " confirmed 1 attribute: ASS1;\n",
      " still have 15 attributes left.\n",
      "\n",
      " 97. run of importance source...\n",
      " 98. run of importance source...\n",
      " 99. run of importance source...\n",
      "After 99 iterations, +38 mins: \n",
      " confirmed 1 attribute: NUDT16L2P;\n",
      " still have 14 attributes left.\n",
      "\n"
     ]
    },
    {
     "name": "stdout",
     "output_type": "stream",
     "text": [
      "\n",
      "Drug2: Boruta is running for AEW541"
     ]
    },
    {
     "name": "stderr",
     "output_type": "stream",
     "text": [
      " 1. run of importance source...\n"
     ]
    },
    {
     "name": "stdout",
     "output_type": "stream",
     "text": [
      "Computing permutation importance.. Progress: 42%. Estimated remaining time: 42 seconds.\n",
      "Computing permutation importance.. Progress: 85%. Estimated remaining time: 10 seconds.\n"
     ]
    },
    {
     "name": "stderr",
     "output_type": "stream",
     "text": [
      " 2. run of importance source...\n"
     ]
    },
    {
     "name": "stdout",
     "output_type": "stream",
     "text": [
      "Computing permutation importance.. Progress: 42%. Estimated remaining time: 42 seconds.\n",
      "Computing permutation importance.. Progress: 85%. Estimated remaining time: 10 seconds.\n"
     ]
    },
    {
     "name": "stderr",
     "output_type": "stream",
     "text": [
      " 3. run of importance source...\n"
     ]
    },
    {
     "name": "stdout",
     "output_type": "stream",
     "text": [
      "Computing permutation importance.. Progress: 43%. Estimated remaining time: 41 seconds.\n",
      "Computing permutation importance.. Progress: 85%. Estimated remaining time: 10 seconds.\n"
     ]
    },
    {
     "name": "stderr",
     "output_type": "stream",
     "text": [
      " 4. run of importance source...\n"
     ]
    },
    {
     "name": "stdout",
     "output_type": "stream",
     "text": [
      "Computing permutation importance.. Progress: 41%. Estimated remaining time: 44 seconds.\n",
      "Computing permutation importance.. Progress: 83%. Estimated remaining time: 12 seconds.\n"
     ]
    },
    {
     "name": "stderr",
     "output_type": "stream",
     "text": [
      " 5. run of importance source...\n"
     ]
    },
    {
     "name": "stdout",
     "output_type": "stream",
     "text": [
      "Computing permutation importance.. Progress: 42%. Estimated remaining time: 43 seconds.\n",
      "Computing permutation importance.. Progress: 84%. Estimated remaining time: 11 seconds.\n"
     ]
    },
    {
     "name": "stderr",
     "output_type": "stream",
     "text": [
      " 6. run of importance source...\n"
     ]
    },
    {
     "name": "stdout",
     "output_type": "stream",
     "text": [
      "Computing permutation importance.. Progress: 42%. Estimated remaining time: 42 seconds.\n",
      "Computing permutation importance.. Progress: 85%. Estimated remaining time: 10 seconds.\n"
     ]
    },
    {
     "name": "stderr",
     "output_type": "stream",
     "text": [
      " 7. run of importance source...\n"
     ]
    },
    {
     "name": "stdout",
     "output_type": "stream",
     "text": [
      "Computing permutation importance.. Progress: 42%. Estimated remaining time: 42 seconds.\n",
      "Computing permutation importance.. Progress: 84%. Estimated remaining time: 11 seconds.\n"
     ]
    },
    {
     "name": "stderr",
     "output_type": "stream",
     "text": [
      " 8. run of importance source...\n"
     ]
    },
    {
     "name": "stdout",
     "output_type": "stream",
     "text": [
      "Computing permutation importance.. Progress: 42%. Estimated remaining time: 42 seconds.\n",
      "Computing permutation importance.. Progress: 84%. Estimated remaining time: 12 seconds.\n"
     ]
    },
    {
     "name": "stderr",
     "output_type": "stream",
     "text": [
      " 9. run of importance source...\n"
     ]
    },
    {
     "name": "stdout",
     "output_type": "stream",
     "text": [
      "Computing permutation importance.. Progress: 42%. Estimated remaining time: 43 seconds.\n",
      "Computing permutation importance.. Progress: 84%. Estimated remaining time: 11 seconds.\n"
     ]
    },
    {
     "name": "stderr",
     "output_type": "stream",
     "text": [
      " 10. run of importance source...\n"
     ]
    },
    {
     "name": "stdout",
     "output_type": "stream",
     "text": [
      "Computing permutation importance.. Progress: 42%. Estimated remaining time: 42 seconds.\n",
      "Computing permutation importance.. Progress: 85%. Estimated remaining time: 11 seconds.\n"
     ]
    },
    {
     "name": "stderr",
     "output_type": "stream",
     "text": [
      " 11. run of importance source...\n"
     ]
    },
    {
     "name": "stdout",
     "output_type": "stream",
     "text": [
      "Computing permutation importance.. Progress: 42%. Estimated remaining time: 43 seconds.\n",
      "Computing permutation importance.. Progress: 85%. Estimated remaining time: 11 seconds.\n"
     ]
    },
    {
     "name": "stderr",
     "output_type": "stream",
     "text": [
      " 12. run of importance source...\n"
     ]
    },
    {
     "name": "stdout",
     "output_type": "stream",
     "text": [
      "Computing permutation importance.. Progress: 43%. Estimated remaining time: 41 seconds.\n",
      "Computing permutation importance.. Progress: 86%. Estimated remaining time: 10 seconds.\n"
     ]
    },
    {
     "name": "stderr",
     "output_type": "stream",
     "text": [
      " 13. run of importance source...\n"
     ]
    },
    {
     "name": "stdout",
     "output_type": "stream",
     "text": [
      "Computing permutation importance.. Progress: 43%. Estimated remaining time: 41 seconds.\n",
      "Computing permutation importance.. Progress: 85%. Estimated remaining time: 10 seconds.\n"
     ]
    },
    {
     "name": "stderr",
     "output_type": "stream",
     "text": [
      " 14. run of importance source...\n"
     ]
    },
    {
     "name": "stdout",
     "output_type": "stream",
     "text": [
      "Computing permutation importance.. Progress: 43%. Estimated remaining time: 41 seconds.\n",
      "Computing permutation importance.. Progress: 86%. Estimated remaining time: 10 seconds.\n"
     ]
    },
    {
     "name": "stderr",
     "output_type": "stream",
     "text": [
      " 15. run of importance source...\n"
     ]
    },
    {
     "name": "stdout",
     "output_type": "stream",
     "text": [
      "Computing permutation importance.. Progress: 43%. Estimated remaining time: 41 seconds.\n",
      "Computing permutation importance.. Progress: 86%. Estimated remaining time: 10 seconds.\n"
     ]
    },
    {
     "name": "stderr",
     "output_type": "stream",
     "text": [
      " 16. run of importance source...\n"
     ]
    },
    {
     "name": "stdout",
     "output_type": "stream",
     "text": [
      "Computing permutation importance.. Progress: 42%. Estimated remaining time: 43 seconds.\n",
      "Computing permutation importance.. Progress: 85%. Estimated remaining time: 10 seconds.\n"
     ]
    },
    {
     "name": "stderr",
     "output_type": "stream",
     "text": [
      " 17. run of importance source...\n"
     ]
    },
    {
     "name": "stdout",
     "output_type": "stream",
     "text": [
      "Computing permutation importance.. Progress: 41%. Estimated remaining time: 44 seconds.\n",
      "Computing permutation importance.. Progress: 84%. Estimated remaining time: 12 seconds.\n"
     ]
    },
    {
     "name": "stderr",
     "output_type": "stream",
     "text": [
      " 18. run of importance source...\n"
     ]
    },
    {
     "name": "stdout",
     "output_type": "stream",
     "text": [
      "Computing permutation importance.. Progress: 42%. Estimated remaining time: 42 seconds.\n",
      "Computing permutation importance.. Progress: 85%. Estimated remaining time: 10 seconds.\n"
     ]
    },
    {
     "name": "stderr",
     "output_type": "stream",
     "text": [
      " 19. run of importance source...\n"
     ]
    },
    {
     "name": "stdout",
     "output_type": "stream",
     "text": [
      "Computing permutation importance.. Progress: 42%. Estimated remaining time: 42 seconds.\n",
      "Computing permutation importance.. Progress: 86%. Estimated remaining time: 10 seconds.\n"
     ]
    },
    {
     "name": "stderr",
     "output_type": "stream",
     "text": [
      " 20. run of importance source...\n"
     ]
    },
    {
     "name": "stdout",
     "output_type": "stream",
     "text": [
      "Computing permutation importance.. Progress: 41%. Estimated remaining time: 44 seconds.\n",
      "Computing permutation importance.. Progress: 81%. Estimated remaining time: 14 seconds.\n"
     ]
    },
    {
     "name": "stderr",
     "output_type": "stream",
     "text": [
      " 21. run of importance source...\n"
     ]
    },
    {
     "name": "stdout",
     "output_type": "stream",
     "text": [
      "Computing permutation importance.. Progress: 42%. Estimated remaining time: 43 seconds.\n",
      "Computing permutation importance.. Progress: 84%. Estimated remaining time: 11 seconds.\n"
     ]
    },
    {
     "name": "stderr",
     "output_type": "stream",
     "text": [
      "After 21 iterations, +28 mins: \n",
      " rejected 20139 attributes: A1BG, A1BG-AS1, A1CF, A2M, A2M-AS1 and 20134 more;\n",
      " still have 35 attributes left.\n",
      "\n",
      " 22. run of importance source...\n",
      " 23. run of importance source...\n",
      " 24. run of importance source...\n",
      " 25. run of importance source...\n",
      " 26. run of importance source...\n",
      "After 26 iterations, +28 mins: \n",
      " rejected 7 attributes: ABLIM1, ACSF3, AIF1L, CEP63, IFNA16 and 2 more;\n",
      " still have 28 attributes left.\n",
      "\n",
      " 27. run of importance source...\n",
      " 28. run of importance source...\n",
      " 29. run of importance source...\n",
      " 30. run of importance source...\n",
      "After 30 iterations, +28 mins: \n",
      " rejected 3 attributes: CHTF18, GORAB, TOX4P1;\n",
      " still have 25 attributes left.\n",
      "\n",
      " 31. run of importance source...\n",
      " 32. run of importance source...\n",
      " 33. run of importance source...\n",
      " 34. run of importance source...\n",
      " 35. run of importance source...\n",
      " 36. run of importance source...\n",
      " 37. run of importance source...\n",
      " 38. run of importance source...\n",
      " 39. run of importance source...\n",
      " 40. run of importance source...\n",
      " 41. run of importance source...\n",
      " 42. run of importance source...\n",
      " 43. run of importance source...\n",
      " 44. run of importance source...\n",
      " 45. run of importance source...\n",
      " 46. run of importance source...\n",
      " 47. run of importance source...\n",
      " 48. run of importance source...\n",
      " 49. run of importance source...\n",
      " 50. run of importance source...\n",
      " 51. run of importance source...\n",
      " 52. run of importance source...\n",
      " 53. run of importance source...\n",
      " 54. run of importance source...\n",
      " 55. run of importance source...\n",
      " 56. run of importance source...\n",
      " 57. run of importance source...\n",
      " 58. run of importance source...\n",
      " 59. run of importance source...\n",
      " 60. run of importance source...\n",
      " 61. run of importance source...\n",
      " 62. run of importance source...\n",
      " 63. run of importance source...\n",
      " 64. run of importance source...\n",
      " 65. run of importance source...\n",
      " 66. run of importance source...\n",
      " 67. run of importance source...\n",
      " 68. run of importance source...\n",
      " 69. run of importance source...\n",
      " 70. run of importance source...\n",
      " 71. run of importance source...\n",
      " 72. run of importance source...\n",
      " 73. run of importance source...\n",
      " 74. run of importance source...\n",
      " 75. run of importance source...\n",
      " 76. run of importance source...\n",
      " 77. run of importance source...\n",
      " 78. run of importance source...\n",
      " 79. run of importance source...\n",
      " 80. run of importance source...\n",
      "After 80 iterations, +28 mins: \n",
      " confirmed 1 attribute: PCSK6;\n",
      " still have 24 attributes left.\n",
      "\n",
      " 81. run of importance source...\n",
      " 82. run of importance source...\n",
      " 83. run of importance source...\n",
      "After 83 iterations, +28 mins: \n",
      " confirmed 1 attribute: TBC1D9;\n",
      " still have 23 attributes left.\n",
      "\n",
      " 84. run of importance source...\n",
      " 85. run of importance source...\n",
      " 86. run of importance source...\n",
      "After 86 iterations, +28 mins: \n",
      " confirmed 1 attribute: SLC41A1;\n",
      " still have 22 attributes left.\n",
      "\n",
      " 87. run of importance source...\n",
      " 88. run of importance source...\n",
      "After 88 iterations, +28 mins: \n",
      " confirmed 2 attributes: MRC1, SPART;\n",
      " still have 20 attributes left.\n",
      "\n",
      " 89. run of importance source...\n",
      " 90. run of importance source...\n",
      " 91. run of importance source...\n",
      "After 91 iterations, +28 mins: \n",
      " confirmed 1 attribute: PLS3;\n",
      " still have 19 attributes left.\n",
      "\n",
      " 92. run of importance source...\n",
      " 93. run of importance source...\n",
      " 94. run of importance source...\n",
      "After 94 iterations, +28 mins: \n",
      " confirmed 1 attribute: RPP25;\n",
      " still have 18 attributes left.\n",
      "\n",
      " 95. run of importance source...\n",
      " 96. run of importance source...\n",
      "After 96 iterations, +28 mins: \n",
      " confirmed 1 attribute: HNF1A;\n",
      " still have 17 attributes left.\n",
      "\n",
      " 97. run of importance source...\n",
      " 98. run of importance source...\n",
      " 99. run of importance source...\n"
     ]
    },
    {
     "name": "stdout",
     "output_type": "stream",
     "text": [
      "\n",
      "Drug3: Boruta is running for LBW242"
     ]
    },
    {
     "name": "stderr",
     "output_type": "stream",
     "text": [
      " 1. run of importance source...\n"
     ]
    },
    {
     "name": "stdout",
     "output_type": "stream",
     "text": [
      "Computing permutation importance.. Progress: 54%. Estimated remaining time: 26 seconds.\n"
     ]
    },
    {
     "name": "stderr",
     "output_type": "stream",
     "text": [
      " 2. run of importance source...\n"
     ]
    },
    {
     "name": "stdout",
     "output_type": "stream",
     "text": [
      "Computing permutation importance.. Progress: 55%. Estimated remaining time: 25 seconds.\n"
     ]
    },
    {
     "name": "stderr",
     "output_type": "stream",
     "text": [
      " 3. run of importance source...\n"
     ]
    },
    {
     "name": "stdout",
     "output_type": "stream",
     "text": [
      "Computing permutation importance.. Progress: 53%. Estimated remaining time: 27 seconds.\n"
     ]
    },
    {
     "name": "stderr",
     "output_type": "stream",
     "text": [
      " 4. run of importance source...\n"
     ]
    },
    {
     "name": "stdout",
     "output_type": "stream",
     "text": [
      "Computing permutation importance.. Progress: 56%. Estimated remaining time: 24 seconds.\n"
     ]
    },
    {
     "name": "stderr",
     "output_type": "stream",
     "text": [
      " 5. run of importance source...\n"
     ]
    },
    {
     "name": "stdout",
     "output_type": "stream",
     "text": [
      "Computing permutation importance.. Progress: 55%. Estimated remaining time: 25 seconds.\n"
     ]
    },
    {
     "name": "stderr",
     "output_type": "stream",
     "text": [
      " 6. run of importance source...\n"
     ]
    },
    {
     "name": "stdout",
     "output_type": "stream",
     "text": [
      "Computing permutation importance.. Progress: 54%. Estimated remaining time: 26 seconds.\n"
     ]
    },
    {
     "name": "stderr",
     "output_type": "stream",
     "text": [
      " 7. run of importance source...\n"
     ]
    },
    {
     "name": "stdout",
     "output_type": "stream",
     "text": [
      "Computing permutation importance.. Progress: 55%. Estimated remaining time: 25 seconds.\n"
     ]
    },
    {
     "name": "stderr",
     "output_type": "stream",
     "text": [
      " 8. run of importance source...\n"
     ]
    },
    {
     "name": "stdout",
     "output_type": "stream",
     "text": [
      "Computing permutation importance.. Progress: 55%. Estimated remaining time: 24 seconds.\n"
     ]
    },
    {
     "name": "stderr",
     "output_type": "stream",
     "text": [
      " 9. run of importance source...\n"
     ]
    },
    {
     "name": "stdout",
     "output_type": "stream",
     "text": [
      "Computing permutation importance.. Progress: 55%. Estimated remaining time: 25 seconds.\n"
     ]
    },
    {
     "name": "stderr",
     "output_type": "stream",
     "text": [
      " 10. run of importance source...\n"
     ]
    },
    {
     "name": "stdout",
     "output_type": "stream",
     "text": [
      "Computing permutation importance.. Progress: 55%. Estimated remaining time: 24 seconds.\n"
     ]
    },
    {
     "name": "stderr",
     "output_type": "stream",
     "text": [
      " 11. run of importance source...\n"
     ]
    },
    {
     "name": "stdout",
     "output_type": "stream",
     "text": [
      "Computing permutation importance.. Progress: 54%. Estimated remaining time: 26 seconds.\n"
     ]
    },
    {
     "name": "stderr",
     "output_type": "stream",
     "text": [
      " 12. run of importance source...\n"
     ]
    },
    {
     "name": "stdout",
     "output_type": "stream",
     "text": [
      "Computing permutation importance.. Progress: 54%. Estimated remaining time: 25 seconds.\n"
     ]
    },
    {
     "name": "stderr",
     "output_type": "stream",
     "text": [
      " 13. run of importance source...\n"
     ]
    },
    {
     "name": "stdout",
     "output_type": "stream",
     "text": [
      "Computing permutation importance.. Progress: 55%. Estimated remaining time: 25 seconds.\n"
     ]
    },
    {
     "name": "stderr",
     "output_type": "stream",
     "text": [
      " 14. run of importance source...\n"
     ]
    },
    {
     "name": "stdout",
     "output_type": "stream",
     "text": [
      "Computing permutation importance.. Progress: 55%. Estimated remaining time: 25 seconds.\n"
     ]
    },
    {
     "name": "stderr",
     "output_type": "stream",
     "text": [
      " 15. run of importance source...\n"
     ]
    },
    {
     "name": "stdout",
     "output_type": "stream",
     "text": [
      "Computing permutation importance.. Progress: 55%. Estimated remaining time: 25 seconds.\n"
     ]
    },
    {
     "name": "stderr",
     "output_type": "stream",
     "text": [
      " 16. run of importance source...\n"
     ]
    },
    {
     "name": "stdout",
     "output_type": "stream",
     "text": [
      "Computing permutation importance.. Progress: 55%. Estimated remaining time: 25 seconds.\n"
     ]
    },
    {
     "name": "stderr",
     "output_type": "stream",
     "text": [
      " 17. run of importance source...\n"
     ]
    },
    {
     "name": "stdout",
     "output_type": "stream",
     "text": [
      "Computing permutation importance.. Progress: 54%. Estimated remaining time: 26 seconds.\n"
     ]
    },
    {
     "name": "stderr",
     "output_type": "stream",
     "text": [
      " 18. run of importance source...\n"
     ]
    },
    {
     "name": "stdout",
     "output_type": "stream",
     "text": [
      "Computing permutation importance.. Progress: 55%. Estimated remaining time: 25 seconds.\n"
     ]
    },
    {
     "name": "stderr",
     "output_type": "stream",
     "text": [
      " 19. run of importance source...\n"
     ]
    },
    {
     "name": "stdout",
     "output_type": "stream",
     "text": [
      "Computing permutation importance.. Progress: 54%. Estimated remaining time: 26 seconds.\n"
     ]
    },
    {
     "name": "stderr",
     "output_type": "stream",
     "text": [
      " 20. run of importance source...\n"
     ]
    },
    {
     "name": "stdout",
     "output_type": "stream",
     "text": [
      "Computing permutation importance.. Progress: 54%. Estimated remaining time: 25 seconds.\n"
     ]
    },
    {
     "name": "stderr",
     "output_type": "stream",
     "text": [
      " 21. run of importance source...\n"
     ]
    },
    {
     "name": "stdout",
     "output_type": "stream",
     "text": [
      "Computing permutation importance.. Progress: 55%. Estimated remaining time: 25 seconds.\n"
     ]
    },
    {
     "name": "stderr",
     "output_type": "stream",
     "text": [
      "After 21 iterations, +21 mins: \n",
      " rejected 20156 attributes: A1BG, A1BG-AS1, A1CF, A2M, A2M-AS1 and 20151 more;\n",
      " still have 18 attributes left.\n",
      "\n",
      " 22. run of importance source...\n",
      " 23. run of importance source...\n",
      " 24. run of importance source...\n",
      " 25. run of importance source...\n",
      " 26. run of importance source...\n",
      " 27. run of importance source...\n",
      " 28. run of importance source...\n",
      " 29. run of importance source...\n",
      " 30. run of importance source...\n",
      " 31. run of importance source...\n",
      " 32. run of importance source...\n",
      " 33. run of importance source...\n",
      " 34. run of importance source...\n",
      " 35. run of importance source...\n",
      " 36. run of importance source...\n",
      " 37. run of importance source...\n",
      " 38. run of importance source...\n",
      " 39. run of importance source...\n",
      " 40. run of importance source...\n",
      " 41. run of importance source...\n",
      " 42. run of importance source...\n",
      " 43. run of importance source...\n",
      " 44. run of importance source...\n",
      " 45. run of importance source...\n",
      " 46. run of importance source...\n",
      " 47. run of importance source...\n",
      " 48. run of importance source...\n",
      " 49. run of importance source...\n",
      " 50. run of importance source...\n",
      " 51. run of importance source...\n",
      " 52. run of importance source...\n",
      " 53. run of importance source...\n",
      " 54. run of importance source...\n",
      " 55. run of importance source...\n",
      " 56. run of importance source...\n",
      " 57. run of importance source...\n",
      " 58. run of importance source...\n",
      " 59. run of importance source...\n",
      " 60. run of importance source...\n",
      " 61. run of importance source...\n",
      " 62. run of importance source...\n",
      " 63. run of importance source...\n",
      " 64. run of importance source...\n",
      " 65. run of importance source...\n",
      " 66. run of importance source...\n",
      " 67. run of importance source...\n",
      " 68. run of importance source...\n",
      " 69. run of importance source...\n",
      " 70. run of importance source...\n",
      " 71. run of importance source...\n",
      " 72. run of importance source...\n",
      " 73. run of importance source...\n",
      " 74. run of importance source...\n",
      " 75. run of importance source...\n",
      " 76. run of importance source...\n",
      " 77. run of importance source...\n",
      "After 77 iterations, +22 mins: \n",
      " confirmed 1 attribute: RPLP2;\n",
      " still have 17 attributes left.\n",
      "\n",
      " 78. run of importance source...\n",
      " 79. run of importance source...\n",
      " 80. run of importance source...\n",
      "After 80 iterations, +22 mins: \n",
      " confirmed 1 attribute: LOC105378146;\n",
      " still have 16 attributes left.\n",
      "\n",
      " 81. run of importance source...\n",
      " 82. run of importance source...\n",
      " 83. run of importance source...\n",
      " 84. run of importance source...\n",
      " 85. run of importance source...\n",
      " 86. run of importance source...\n",
      "After 86 iterations, +22 mins: \n",
      " confirmed 6 attributes: FAM220A, LOC101928326, LOC105371934, RFLNB, RNF128 and 1 more;\n",
      " still have 10 attributes left.\n",
      "\n",
      " 87. run of importance source...\n",
      " 88. run of importance source...\n",
      " 89. run of importance source...\n",
      " 90. run of importance source...\n",
      " 91. run of importance source...\n",
      " 92. run of importance source...\n",
      " 93. run of importance source...\n",
      " 94. run of importance source...\n",
      " 95. run of importance source...\n",
      " 96. run of importance source...\n",
      " 97. run of importance source...\n",
      " 98. run of importance source...\n",
      " 99. run of importance source...\n",
      "After 99 iterations, +22 mins: \n",
      " confirmed 1 attribute: CCNL1;\n",
      " still have 9 attributes left.\n",
      "\n"
     ]
    },
    {
     "name": "stdout",
     "output_type": "stream",
     "text": [
      "\n",
      "Drug4: Boruta is running for L-685458"
     ]
    },
    {
     "name": "stderr",
     "output_type": "stream",
     "text": [
      " 1. run of importance source...\n"
     ]
    },
    {
     "name": "stdout",
     "output_type": "stream",
     "text": [
      "Computing permutation importance.. Progress: 38%. Estimated remaining time: 50 seconds.\n",
      "Computing permutation importance.. Progress: 77%. Estimated remaining time: 18 seconds.\n"
     ]
    },
    {
     "name": "stderr",
     "output_type": "stream",
     "text": [
      " 2. run of importance source...\n"
     ]
    },
    {
     "name": "stdout",
     "output_type": "stream",
     "text": [
      "Computing permutation importance.. Progress: 38%. Estimated remaining time: 51 seconds.\n",
      "Computing permutation importance.. Progress: 76%. Estimated remaining time: 19 seconds.\n"
     ]
    },
    {
     "name": "stderr",
     "output_type": "stream",
     "text": [
      " 3. run of importance source...\n"
     ]
    },
    {
     "name": "stdout",
     "output_type": "stream",
     "text": [
      "Computing permutation importance.. Progress: 38%. Estimated remaining time: 50 seconds.\n",
      "Computing permutation importance.. Progress: 76%. Estimated remaining time: 19 seconds.\n"
     ]
    },
    {
     "name": "stderr",
     "output_type": "stream",
     "text": [
      " 4. run of importance source...\n"
     ]
    },
    {
     "name": "stdout",
     "output_type": "stream",
     "text": [
      "Computing permutation importance.. Progress: 38%. Estimated remaining time: 50 seconds.\n",
      "Computing permutation importance.. Progress: 76%. Estimated remaining time: 19 seconds.\n"
     ]
    },
    {
     "name": "stderr",
     "output_type": "stream",
     "text": [
      " 5. run of importance source...\n"
     ]
    },
    {
     "name": "stdout",
     "output_type": "stream",
     "text": [
      "Computing permutation importance.. Progress: 39%. Estimated remaining time: 48 seconds.\n",
      "Computing permutation importance.. Progress: 77%. Estimated remaining time: 18 seconds.\n"
     ]
    },
    {
     "name": "stderr",
     "output_type": "stream",
     "text": [
      " 6. run of importance source...\n"
     ]
    },
    {
     "name": "stdout",
     "output_type": "stream",
     "text": [
      "Computing permutation importance.. Progress: 38%. Estimated remaining time: 51 seconds.\n",
      "Computing permutation importance.. Progress: 76%. Estimated remaining time: 19 seconds.\n"
     ]
    },
    {
     "name": "stderr",
     "output_type": "stream",
     "text": [
      " 7. run of importance source...\n"
     ]
    },
    {
     "name": "stdout",
     "output_type": "stream",
     "text": [
      "Computing permutation importance.. Progress: 38%. Estimated remaining time: 50 seconds.\n",
      "Computing permutation importance.. Progress: 77%. Estimated remaining time: 18 seconds.\n"
     ]
    },
    {
     "name": "stderr",
     "output_type": "stream",
     "text": [
      " 8. run of importance source...\n"
     ]
    },
    {
     "name": "stdout",
     "output_type": "stream",
     "text": [
      "Computing permutation importance.. Progress: 38%. Estimated remaining time: 51 seconds.\n",
      "Computing permutation importance.. Progress: 76%. Estimated remaining time: 19 seconds.\n"
     ]
    },
    {
     "name": "stderr",
     "output_type": "stream",
     "text": [
      " 9. run of importance source...\n"
     ]
    },
    {
     "name": "stdout",
     "output_type": "stream",
     "text": [
      "Computing permutation importance.. Progress: 39%. Estimated remaining time: 48 seconds.\n",
      "Computing permutation importance.. Progress: 77%. Estimated remaining time: 18 seconds.\n"
     ]
    },
    {
     "name": "stderr",
     "output_type": "stream",
     "text": [
      " 10. run of importance source...\n"
     ]
    },
    {
     "name": "stdout",
     "output_type": "stream",
     "text": [
      "Computing permutation importance.. Progress: 38%. Estimated remaining time: 50 seconds.\n",
      "Computing permutation importance.. Progress: 77%. Estimated remaining time: 18 seconds.\n"
     ]
    },
    {
     "name": "stderr",
     "output_type": "stream",
     "text": [
      " 11. run of importance source...\n"
     ]
    },
    {
     "name": "stdout",
     "output_type": "stream",
     "text": [
      "Computing permutation importance.. Progress: 38%. Estimated remaining time: 50 seconds.\n",
      "Computing permutation importance.. Progress: 76%. Estimated remaining time: 19 seconds.\n"
     ]
    },
    {
     "name": "stderr",
     "output_type": "stream",
     "text": [
      " 12. run of importance source...\n"
     ]
    },
    {
     "name": "stdout",
     "output_type": "stream",
     "text": [
      "Computing permutation importance.. Progress: 38%. Estimated remaining time: 49 seconds.\n",
      "Computing permutation importance.. Progress: 78%. Estimated remaining time: 17 seconds.\n"
     ]
    },
    {
     "name": "stderr",
     "output_type": "stream",
     "text": [
      " 13. run of importance source...\n"
     ]
    },
    {
     "name": "stdout",
     "output_type": "stream",
     "text": [
      "Computing permutation importance.. Progress: 40%. Estimated remaining time: 47 seconds.\n",
      "Computing permutation importance.. Progress: 78%. Estimated remaining time: 17 seconds.\n"
     ]
    },
    {
     "name": "stderr",
     "output_type": "stream",
     "text": [
      " 14. run of importance source...\n"
     ]
    },
    {
     "name": "stdout",
     "output_type": "stream",
     "text": [
      "Computing permutation importance.. Progress: 37%. Estimated remaining time: 51 seconds.\n",
      "Computing permutation importance.. Progress: 75%. Estimated remaining time: 20 seconds.\n"
     ]
    },
    {
     "name": "stderr",
     "output_type": "stream",
     "text": [
      " 15. run of importance source...\n"
     ]
    },
    {
     "name": "stdout",
     "output_type": "stream",
     "text": [
      "Computing permutation importance.. Progress: 38%. Estimated remaining time: 50 seconds.\n",
      "Computing permutation importance.. Progress: 76%. Estimated remaining time: 19 seconds.\n"
     ]
    },
    {
     "name": "stderr",
     "output_type": "stream",
     "text": [
      " 16. run of importance source...\n"
     ]
    },
    {
     "name": "stdout",
     "output_type": "stream",
     "text": [
      "Computing permutation importance.. Progress: 38%. Estimated remaining time: 50 seconds.\n",
      "Computing permutation importance.. Progress: 76%. Estimated remaining time: 19 seconds.\n"
     ]
    },
    {
     "name": "stderr",
     "output_type": "stream",
     "text": [
      " 17. run of importance source...\n"
     ]
    },
    {
     "name": "stdout",
     "output_type": "stream",
     "text": [
      "Computing permutation importance.. Progress: 38%. Estimated remaining time: 50 seconds.\n",
      "Computing permutation importance.. Progress: 76%. Estimated remaining time: 19 seconds.\n"
     ]
    },
    {
     "name": "stderr",
     "output_type": "stream",
     "text": [
      " 18. run of importance source...\n"
     ]
    },
    {
     "name": "stdout",
     "output_type": "stream",
     "text": [
      "Computing permutation importance.. Progress: 39%. Estimated remaining time: 48 seconds.\n",
      "Computing permutation importance.. Progress: 78%. Estimated remaining time: 17 seconds.\n"
     ]
    },
    {
     "name": "stderr",
     "output_type": "stream",
     "text": [
      " 19. run of importance source...\n"
     ]
    },
    {
     "name": "stdout",
     "output_type": "stream",
     "text": [
      "Computing permutation importance.. Progress: 38%. Estimated remaining time: 50 seconds.\n",
      "Computing permutation importance.. Progress: 77%. Estimated remaining time: 18 seconds.\n"
     ]
    },
    {
     "name": "stderr",
     "output_type": "stream",
     "text": [
      " 20. run of importance source...\n"
     ]
    },
    {
     "name": "stdout",
     "output_type": "stream",
     "text": [
      "Computing permutation importance.. Progress: 39%. Estimated remaining time: 48 seconds.\n",
      "Computing permutation importance.. Progress: 78%. Estimated remaining time: 17 seconds.\n"
     ]
    },
    {
     "name": "stderr",
     "output_type": "stream",
     "text": [
      " 21. run of importance source...\n"
     ]
    },
    {
     "name": "stdout",
     "output_type": "stream",
     "text": [
      "Computing permutation importance.. Progress: 38%. Estimated remaining time: 49 seconds.\n",
      "Computing permutation importance.. Progress: 77%. Estimated remaining time: 18 seconds.\n"
     ]
    },
    {
     "name": "stderr",
     "output_type": "stream",
     "text": [
      "After 21 iterations, +30 mins: \n",
      " rejected 20156 attributes: A1BG, A1BG-AS1, A1CF, A2M, A2M-AS1 and 20151 more;\n",
      " still have 18 attributes left.\n",
      "\n",
      " 22. run of importance source...\n",
      " 23. run of importance source...\n",
      " 24. run of importance source...\n",
      " 25. run of importance source...\n",
      " 26. run of importance source...\n",
      "After 26 iterations, +30 mins: \n",
      " rejected 4 attributes: AK3, BDP1, LINC01169, STRIP1;\n",
      " still have 14 attributes left.\n",
      "\n",
      " 27. run of importance source...\n",
      " 28. run of importance source...\n",
      " 29. run of importance source...\n",
      " 30. run of importance source...\n",
      "After 30 iterations, +30 mins: \n",
      " rejected 1 attribute: TRMT12;\n",
      " still have 13 attributes left.\n",
      "\n",
      " 31. run of importance source...\n",
      " 32. run of importance source...\n",
      " 33. run of importance source...\n",
      " 34. run of importance source...\n",
      " 35. run of importance source...\n",
      " 36. run of importance source...\n",
      " 37. run of importance source...\n",
      " 38. run of importance source...\n",
      " 39. run of importance source...\n",
      " 40. run of importance source...\n",
      " 41. run of importance source...\n",
      " 42. run of importance source...\n",
      " 43. run of importance source...\n",
      " 44. run of importance source...\n",
      "After 44 iterations, +30 mins: \n",
      " rejected 1 attribute: CD81;\n",
      " still have 12 attributes left.\n",
      "\n",
      " 45. run of importance source...\n",
      " 46. run of importance source...\n",
      " 47. run of importance source...\n",
      " 48. run of importance source...\n",
      " 49. run of importance source...\n",
      " 50. run of importance source...\n",
      " 51. run of importance source...\n",
      " 52. run of importance source...\n",
      " 53. run of importance source...\n",
      " 54. run of importance source...\n",
      " 55. run of importance source...\n",
      " 56. run of importance source...\n",
      " 57. run of importance source...\n",
      " 58. run of importance source...\n",
      " 59. run of importance source...\n",
      " 60. run of importance source...\n",
      " 61. run of importance source...\n",
      " 62. run of importance source...\n",
      " 63. run of importance source...\n",
      " 64. run of importance source...\n",
      " 65. run of importance source...\n",
      " 66. run of importance source...\n",
      " 67. run of importance source...\n",
      " 68. run of importance source...\n",
      " 69. run of importance source...\n",
      " 70. run of importance source...\n",
      " 71. run of importance source...\n",
      " 72. run of importance source...\n",
      " 73. run of importance source...\n",
      " 74. run of importance source...\n",
      " 75. run of importance source...\n",
      " 76. run of importance source...\n",
      " 77. run of importance source...\n",
      " 78. run of importance source...\n",
      " 79. run of importance source...\n",
      " 80. run of importance source...\n",
      " 81. run of importance source...\n",
      " 82. run of importance source...\n",
      " 83. run of importance source...\n",
      "After 83 iterations, +30 mins: \n",
      " confirmed 1 attribute: ACYP2;\n",
      " still have 11 attributes left.\n",
      "\n",
      " 84. run of importance source...\n",
      " 85. run of importance source...\n",
      " 86. run of importance source...\n",
      "After 86 iterations, +30 mins: \n",
      " confirmed 7 attributes: BUB3, CCDC88C, MORN3, NDUFAF1, OSTM1 and 2 more;\n",
      " still have 4 attributes left.\n",
      "\n",
      " 87. run of importance source...\n",
      " 88. run of importance source...\n",
      "After 88 iterations, +30 mins: \n",
      " confirmed 1 attribute: KRTAP4-8;\n",
      " still have 3 attributes left.\n",
      "\n",
      " 89. run of importance source...\n",
      " 90. run of importance source...\n",
      " 91. run of importance source...\n",
      " 92. run of importance source...\n",
      " 93. run of importance source...\n",
      " 94. run of importance source...\n",
      " 95. run of importance source...\n",
      " 96. run of importance source...\n",
      " 97. run of importance source...\n",
      " 98. run of importance source...\n",
      " 99. run of importance source...\n"
     ]
    },
    {
     "name": "stdout",
     "output_type": "stream",
     "text": [
      "\n",
      "Drug5: Boruta is running for AZD6244"
     ]
    },
    {
     "name": "stderr",
     "output_type": "stream",
     "text": [
      " 1. run of importance source...\n"
     ]
    },
    {
     "name": "stdout",
     "output_type": "stream",
     "text": [
      "Computing permutation importance.. Progress: 49%. Estimated remaining time: 32 seconds.\n",
      "Computing permutation importance.. Progress: 98%. Estimated remaining time: 1 seconds.\n"
     ]
    },
    {
     "name": "stderr",
     "output_type": "stream",
     "text": [
      " 2. run of importance source...\n"
     ]
    },
    {
     "name": "stdout",
     "output_type": "stream",
     "text": [
      "Computing permutation importance.. Progress: 48%. Estimated remaining time: 33 seconds.\n",
      "Computing permutation importance.. Progress: 95%. Estimated remaining time: 3 seconds.\n"
     ]
    },
    {
     "name": "stderr",
     "output_type": "stream",
     "text": [
      " 3. run of importance source...\n"
     ]
    },
    {
     "name": "stdout",
     "output_type": "stream",
     "text": [
      "Computing permutation importance.. Progress: 48%. Estimated remaining time: 33 seconds.\n",
      "Computing permutation importance.. Progress: 98%. Estimated remaining time: 1 seconds.\n"
     ]
    },
    {
     "name": "stderr",
     "output_type": "stream",
     "text": [
      " 4. run of importance source...\n"
     ]
    },
    {
     "name": "stdout",
     "output_type": "stream",
     "text": [
      "Computing permutation importance.. Progress: 49%. Estimated remaining time: 32 seconds.\n",
      "Computing permutation importance.. Progress: 98%. Estimated remaining time: 1 seconds.\n"
     ]
    },
    {
     "name": "stderr",
     "output_type": "stream",
     "text": [
      " 5. run of importance source...\n"
     ]
    },
    {
     "name": "stdout",
     "output_type": "stream",
     "text": [
      "Computing permutation importance.. Progress: 47%. Estimated remaining time: 34 seconds.\n",
      "Computing permutation importance.. Progress: 96%. Estimated remaining time: 2 seconds.\n"
     ]
    },
    {
     "name": "stderr",
     "output_type": "stream",
     "text": [
      " 6. run of importance source...\n"
     ]
    },
    {
     "name": "stdout",
     "output_type": "stream",
     "text": [
      "Computing permutation importance.. Progress: 49%. Estimated remaining time: 32 seconds.\n",
      "Computing permutation importance.. Progress: 97%. Estimated remaining time: 2 seconds.\n"
     ]
    },
    {
     "name": "stderr",
     "output_type": "stream",
     "text": [
      " 7. run of importance source...\n"
     ]
    },
    {
     "name": "stdout",
     "output_type": "stream",
     "text": [
      "Computing permutation importance.. Progress: 49%. Estimated remaining time: 32 seconds.\n",
      "Computing permutation importance.. Progress: 97%. Estimated remaining time: 1 seconds.\n"
     ]
    },
    {
     "name": "stderr",
     "output_type": "stream",
     "text": [
      " 8. run of importance source...\n"
     ]
    },
    {
     "name": "stdout",
     "output_type": "stream",
     "text": [
      "Computing permutation importance.. Progress: 49%. Estimated remaining time: 32 seconds.\n",
      "Computing permutation importance.. Progress: 98%. Estimated remaining time: 1 seconds.\n"
     ]
    },
    {
     "name": "stderr",
     "output_type": "stream",
     "text": [
      " 9. run of importance source...\n"
     ]
    },
    {
     "name": "stdout",
     "output_type": "stream",
     "text": [
      "Computing permutation importance.. Progress: 46%. Estimated remaining time: 35 seconds.\n",
      "Computing permutation importance.. Progress: 95%. Estimated remaining time: 3 seconds.\n"
     ]
    },
    {
     "name": "stderr",
     "output_type": "stream",
     "text": [
      " 10. run of importance source...\n"
     ]
    },
    {
     "name": "stdout",
     "output_type": "stream",
     "text": [
      "Computing permutation importance.. Progress: 45%. Estimated remaining time: 37 seconds.\n",
      "Computing permutation importance.. Progress: 90%. Estimated remaining time: 6 seconds.\n"
     ]
    },
    {
     "name": "stderr",
     "output_type": "stream",
     "text": [
      " 11. run of importance source...\n"
     ]
    },
    {
     "name": "stdout",
     "output_type": "stream",
     "text": [
      "Computing permutation importance.. Progress: 48%. Estimated remaining time: 33 seconds.\n",
      "Computing permutation importance.. Progress: 98%. Estimated remaining time: 1 seconds.\n"
     ]
    },
    {
     "name": "stderr",
     "output_type": "stream",
     "text": [
      " 12. run of importance source...\n"
     ]
    },
    {
     "name": "stdout",
     "output_type": "stream",
     "text": [
      "Computing permutation importance.. Progress: 50%. Estimated remaining time: 31 seconds.\n",
      "Computing permutation importance.. Progress: 97%. Estimated remaining time: 1 seconds.\n"
     ]
    },
    {
     "name": "stderr",
     "output_type": "stream",
     "text": [
      " 13. run of importance source...\n"
     ]
    },
    {
     "name": "stdout",
     "output_type": "stream",
     "text": [
      "Computing permutation importance.. Progress: 47%. Estimated remaining time: 34 seconds.\n",
      "Computing permutation importance.. Progress: 95%. Estimated remaining time: 3 seconds.\n"
     ]
    },
    {
     "name": "stderr",
     "output_type": "stream",
     "text": [
      " 14. run of importance source...\n"
     ]
    },
    {
     "name": "stdout",
     "output_type": "stream",
     "text": [
      "Computing permutation importance.. Progress: 48%. Estimated remaining time: 33 seconds.\n",
      "Computing permutation importance.. Progress: 97%. Estimated remaining time: 1 seconds.\n"
     ]
    },
    {
     "name": "stderr",
     "output_type": "stream",
     "text": [
      " 15. run of importance source...\n"
     ]
    },
    {
     "name": "stdout",
     "output_type": "stream",
     "text": [
      "Computing permutation importance.. Progress: 51%. Estimated remaining time: 30 seconds.\n",
      "Computing permutation importance.. Progress: 99%. Estimated remaining time: 0 seconds.\n"
     ]
    },
    {
     "name": "stderr",
     "output_type": "stream",
     "text": [
      " 16. run of importance source...\n"
     ]
    },
    {
     "name": "stdout",
     "output_type": "stream",
     "text": [
      "Computing permutation importance.. Progress: 46%. Estimated remaining time: 36 seconds.\n",
      "Computing permutation importance.. Progress: 92%. Estimated remaining time: 5 seconds.\n"
     ]
    },
    {
     "name": "stderr",
     "output_type": "stream",
     "text": [
      " 17. run of importance source...\n"
     ]
    },
    {
     "name": "stdout",
     "output_type": "stream",
     "text": [
      "Computing permutation importance.. Progress: 50%. Estimated remaining time: 31 seconds.\n",
      "Computing permutation importance.. Progress: 98%. Estimated remaining time: 1 seconds.\n"
     ]
    },
    {
     "name": "stderr",
     "output_type": "stream",
     "text": [
      " 18. run of importance source...\n"
     ]
    },
    {
     "name": "stdout",
     "output_type": "stream",
     "text": [
      "Computing permutation importance.. Progress: 49%. Estimated remaining time: 32 seconds.\n",
      "Computing permutation importance.. Progress: 97%. Estimated remaining time: 1 seconds.\n"
     ]
    },
    {
     "name": "stderr",
     "output_type": "stream",
     "text": [
      " 19. run of importance source...\n"
     ]
    },
    {
     "name": "stdout",
     "output_type": "stream",
     "text": [
      "Computing permutation importance.. Progress: 48%. Estimated remaining time: 33 seconds.\n",
      "Computing permutation importance.. Progress: 97%. Estimated remaining time: 1 seconds.\n"
     ]
    },
    {
     "name": "stderr",
     "output_type": "stream",
     "text": [
      " 20. run of importance source...\n"
     ]
    },
    {
     "name": "stdout",
     "output_type": "stream",
     "text": [
      "Computing permutation importance.. Progress: 49%. Estimated remaining time: 32 seconds.\n",
      "Computing permutation importance.. Progress: 98%. Estimated remaining time: 1 seconds.\n"
     ]
    },
    {
     "name": "stderr",
     "output_type": "stream",
     "text": [
      " 21. run of importance source...\n"
     ]
    },
    {
     "name": "stdout",
     "output_type": "stream",
     "text": [
      "Computing permutation importance.. Progress: 49%. Estimated remaining time: 32 seconds.\n",
      "Computing permutation importance.. Progress: 97%. Estimated remaining time: 1 seconds.\n"
     ]
    },
    {
     "name": "stderr",
     "output_type": "stream",
     "text": [
      "After 21 iterations, +24 mins: \n",
      " rejected 20069 attributes: A1BG, A1BG-AS1, A1CF, A2M, A2M-AS1 and 20064 more;\n",
      " still have 105 attributes left.\n",
      "\n",
      " 22. run of importance source...\n",
      " 23. run of importance source...\n",
      " 24. run of importance source...\n",
      " 25. run of importance source...\n",
      " 26. run of importance source...\n",
      "After 26 iterations, +24 mins: \n",
      " rejected 22 attributes: ABHD2, ANXA13, ATXN7L1, CABLES1, DUSP18 and 17 more;\n",
      " still have 83 attributes left.\n",
      "\n",
      " 27. run of importance source...\n",
      " 28. run of importance source...\n",
      " 29. run of importance source...\n",
      " 30. run of importance source...\n",
      "After 30 iterations, +24 mins: \n",
      " rejected 9 attributes: CACNA2D4, HACE1, LINC02481, PPA1, SLC6A19 and 4 more;\n",
      " still have 74 attributes left.\n",
      "\n",
      " 31. run of importance source...\n",
      " 32. run of importance source...\n",
      " 33. run of importance source...\n",
      " 34. run of importance source...\n",
      "After 34 iterations, +24 mins: \n",
      " rejected 2 attributes: ANKS4B, KLK1;\n",
      " still have 72 attributes left.\n",
      "\n",
      " 35. run of importance source...\n",
      " 36. run of importance source...\n",
      " 37. run of importance source...\n",
      " 38. run of importance source...\n",
      " 39. run of importance source...\n",
      " 40. run of importance source...\n",
      " 41. run of importance source...\n",
      "After 41 iterations, +25 mins: \n",
      " rejected 2 attributes: PRAP1, QKI;\n",
      " still have 70 attributes left.\n",
      "\n",
      " 42. run of importance source...\n",
      " 43. run of importance source...\n",
      " 44. run of importance source...\n",
      " 45. run of importance source...\n",
      " 46. run of importance source...\n",
      " 47. run of importance source...\n",
      " 48. run of importance source...\n",
      "After 48 iterations, +25 mins: \n",
      " rejected 1 attribute: EEPD1;\n",
      " still have 69 attributes left.\n",
      "\n",
      " 49. run of importance source...\n",
      " 50. run of importance source...\n",
      " 51. run of importance source...\n",
      "After 51 iterations, +25 mins: \n",
      " rejected 1 attribute: CEACAM1;\n",
      " still have 68 attributes left.\n",
      "\n",
      " 52. run of importance source...\n",
      " 53. run of importance source...\n",
      " 54. run of importance source...\n",
      "After 54 iterations, +25 mins: \n",
      " rejected 1 attribute: TRIM15;\n",
      " still have 67 attributes left.\n",
      "\n",
      " 55. run of importance source...\n",
      " 56. run of importance source...\n",
      " 57. run of importance source...\n",
      "After 57 iterations, +25 mins: \n",
      " rejected 1 attribute: TCF7L2;\n",
      " still have 66 attributes left.\n",
      "\n",
      " 58. run of importance source...\n",
      " 59. run of importance source...\n",
      " 60. run of importance source...\n",
      "After 60 iterations, +25 mins: \n",
      " confirmed 1 attribute: EPS8L3;\n",
      " still have 65 attributes left.\n",
      "\n",
      " 61. run of importance source...\n",
      " 62. run of importance source...\n",
      " 63. run of importance source...\n",
      " 64. run of importance source...\n",
      " 65. run of importance source...\n",
      " 66. run of importance source...\n",
      "After 66 iterations, +25 mins: \n",
      " confirmed 1 attribute: DKK4;\n",
      " still have 64 attributes left.\n",
      "\n",
      " 67. run of importance source...\n",
      " 68. run of importance source...\n",
      " 69. run of importance source...\n",
      "After 69 iterations, +25 mins: \n",
      " confirmed 2 attributes: EML1, HSD17B2;\n",
      " still have 62 attributes left.\n",
      "\n",
      " 70. run of importance source...\n",
      " 71. run of importance source...\n",
      " 72. run of importance source...\n",
      " 73. run of importance source...\n",
      " 74. run of importance source...\n",
      " 75. run of importance source...\n",
      " 76. run of importance source...\n",
      " 77. run of importance source...\n",
      "After 77 iterations, +25 mins: \n",
      " confirmed 2 attributes: CYB5B, GPR35;\n",
      " still have 60 attributes left.\n",
      "\n",
      " 78. run of importance source...\n",
      " 79. run of importance source...\n",
      " 80. run of importance source...\n",
      "After 80 iterations, +25 mins: \n",
      " confirmed 1 attribute: CALB2;\n",
      " still have 59 attributes left.\n",
      "\n",
      " 81. run of importance source...\n",
      " 82. run of importance source...\n",
      " 83. run of importance source...\n",
      " 84. run of importance source...\n",
      " 85. run of importance source...\n",
      " 86. run of importance source...\n",
      "After 86 iterations, +25 mins: \n",
      " confirmed 1 attribute: ZNF582;\n",
      " still have 58 attributes left.\n",
      "\n",
      " 87. run of importance source...\n",
      " 88. run of importance source...\n",
      "After 88 iterations, +25 mins: \n",
      " confirmed 1 attribute: ANKRD6;\n",
      " still have 57 attributes left.\n",
      "\n",
      " 89. run of importance source...\n",
      " 90. run of importance source...\n",
      " 91. run of importance source...\n",
      "After 91 iterations, +25 mins: \n",
      " confirmed 1 attribute: FASLG;\n",
      " still have 56 attributes left.\n",
      "\n",
      " 92. run of importance source...\n",
      " 93. run of importance source...\n",
      " 94. run of importance source...\n",
      " 95. run of importance source...\n",
      " 96. run of importance source...\n",
      "After 96 iterations, +25 mins: \n",
      " confirmed 1 attribute: LINC02086;\n",
      " still have 55 attributes left.\n",
      "\n",
      " 97. run of importance source...\n",
      " 98. run of importance source...\n",
      " 99. run of importance source...\n"
     ]
    },
    {
     "name": "stdout",
     "output_type": "stream",
     "text": [
      "\n",
      "Drug6: Boruta is running for PLX4720"
     ]
    },
    {
     "name": "stderr",
     "output_type": "stream",
     "text": [
      " 1. run of importance source...\n"
     ]
    },
    {
     "name": "stdout",
     "output_type": "stream",
     "text": [
      "Computing permutation importance.. Progress: 55%. Estimated remaining time: 25 seconds.\n"
     ]
    },
    {
     "name": "stderr",
     "output_type": "stream",
     "text": [
      " 2. run of importance source...\n"
     ]
    },
    {
     "name": "stdout",
     "output_type": "stream",
     "text": [
      "Computing permutation importance.. Progress: 53%. Estimated remaining time: 27 seconds.\n"
     ]
    },
    {
     "name": "stderr",
     "output_type": "stream",
     "text": [
      " 3. run of importance source...\n"
     ]
    },
    {
     "name": "stdout",
     "output_type": "stream",
     "text": [
      "Computing permutation importance.. Progress: 54%. Estimated remaining time: 26 seconds.\n"
     ]
    },
    {
     "name": "stderr",
     "output_type": "stream",
     "text": [
      " 4. run of importance source...\n"
     ]
    },
    {
     "name": "stdout",
     "output_type": "stream",
     "text": [
      "Computing permutation importance.. Progress: 54%. Estimated remaining time: 26 seconds.\n"
     ]
    },
    {
     "name": "stderr",
     "output_type": "stream",
     "text": [
      " 5. run of importance source...\n"
     ]
    },
    {
     "name": "stdout",
     "output_type": "stream",
     "text": [
      "Computing permutation importance.. Progress: 53%. Estimated remaining time: 27 seconds.\n"
     ]
    },
    {
     "name": "stderr",
     "output_type": "stream",
     "text": [
      " 6. run of importance source...\n"
     ]
    },
    {
     "name": "stdout",
     "output_type": "stream",
     "text": [
      "Computing permutation importance.. Progress: 53%. Estimated remaining time: 27 seconds.\n"
     ]
    },
    {
     "name": "stderr",
     "output_type": "stream",
     "text": [
      " 7. run of importance source...\n"
     ]
    },
    {
     "name": "stdout",
     "output_type": "stream",
     "text": [
      "Computing permutation importance.. Progress: 53%. Estimated remaining time: 27 seconds.\n"
     ]
    },
    {
     "name": "stderr",
     "output_type": "stream",
     "text": [
      " 8. run of importance source...\n"
     ]
    },
    {
     "name": "stdout",
     "output_type": "stream",
     "text": [
      "Computing permutation importance.. Progress: 53%. Estimated remaining time: 27 seconds.\n"
     ]
    },
    {
     "name": "stderr",
     "output_type": "stream",
     "text": [
      " 9. run of importance source...\n"
     ]
    },
    {
     "name": "stdout",
     "output_type": "stream",
     "text": [
      "Computing permutation importance.. Progress: 53%. Estimated remaining time: 27 seconds.\n"
     ]
    },
    {
     "name": "stderr",
     "output_type": "stream",
     "text": [
      " 10. run of importance source...\n"
     ]
    },
    {
     "name": "stdout",
     "output_type": "stream",
     "text": [
      "Computing permutation importance.. Progress: 51%. Estimated remaining time: 29 seconds.\n"
     ]
    },
    {
     "name": "stderr",
     "output_type": "stream",
     "text": [
      " 11. run of importance source...\n"
     ]
    },
    {
     "name": "stdout",
     "output_type": "stream",
     "text": [
      "Computing permutation importance.. Progress: 53%. Estimated remaining time: 27 seconds.\n"
     ]
    },
    {
     "name": "stderr",
     "output_type": "stream",
     "text": [
      " 12. run of importance source...\n"
     ]
    },
    {
     "name": "stdout",
     "output_type": "stream",
     "text": [
      "Computing permutation importance.. Progress: 51%. Estimated remaining time: 29 seconds.\n"
     ]
    },
    {
     "name": "stderr",
     "output_type": "stream",
     "text": [
      " 13. run of importance source...\n"
     ]
    },
    {
     "name": "stdout",
     "output_type": "stream",
     "text": [
      "Computing permutation importance.. Progress: 52%. Estimated remaining time: 28 seconds.\n"
     ]
    },
    {
     "name": "stderr",
     "output_type": "stream",
     "text": [
      " 14. run of importance source...\n"
     ]
    },
    {
     "name": "stdout",
     "output_type": "stream",
     "text": [
      "Computing permutation importance.. Progress: 51%. Estimated remaining time: 29 seconds.\n"
     ]
    },
    {
     "name": "stderr",
     "output_type": "stream",
     "text": [
      " 15. run of importance source...\n"
     ]
    },
    {
     "name": "stdout",
     "output_type": "stream",
     "text": [
      "Computing permutation importance.. Progress: 52%. Estimated remaining time: 28 seconds.\n"
     ]
    },
    {
     "name": "stderr",
     "output_type": "stream",
     "text": [
      " 16. run of importance source...\n"
     ]
    },
    {
     "name": "stdout",
     "output_type": "stream",
     "text": [
      "Computing permutation importance.. Progress: 53%. Estimated remaining time: 27 seconds.\n"
     ]
    },
    {
     "name": "stderr",
     "output_type": "stream",
     "text": [
      " 17. run of importance source...\n"
     ]
    },
    {
     "name": "stdout",
     "output_type": "stream",
     "text": [
      "Computing permutation importance.. Progress: 52%. Estimated remaining time: 28 seconds.\n"
     ]
    },
    {
     "name": "stderr",
     "output_type": "stream",
     "text": [
      " 18. run of importance source...\n"
     ]
    },
    {
     "name": "stdout",
     "output_type": "stream",
     "text": [
      "Computing permutation importance.. Progress: 52%. Estimated remaining time: 29 seconds.\n"
     ]
    },
    {
     "name": "stderr",
     "output_type": "stream",
     "text": [
      " 19. run of importance source...\n"
     ]
    },
    {
     "name": "stdout",
     "output_type": "stream",
     "text": [
      "Computing permutation importance.. Progress: 52%. Estimated remaining time: 28 seconds.\n"
     ]
    },
    {
     "name": "stderr",
     "output_type": "stream",
     "text": [
      " 20. run of importance source...\n"
     ]
    },
    {
     "name": "stdout",
     "output_type": "stream",
     "text": [
      "Computing permutation importance.. Progress: 53%. Estimated remaining time: 27 seconds.\n"
     ]
    },
    {
     "name": "stderr",
     "output_type": "stream",
     "text": [
      " 21. run of importance source...\n"
     ]
    },
    {
     "name": "stdout",
     "output_type": "stream",
     "text": [
      "Computing permutation importance.. Progress: 53%. Estimated remaining time: 27 seconds.\n"
     ]
    },
    {
     "name": "stderr",
     "output_type": "stream",
     "text": [
      "After 21 iterations, +22 mins: \n",
      " rejected 20163 attributes: A1BG, A1BG-AS1, A1CF, A2M, A2M-AS1 and 20158 more;\n",
      " still have 11 attributes left.\n",
      "\n",
      " 22. run of importance source...\n",
      " 23. run of importance source...\n",
      " 24. run of importance source...\n",
      " 25. run of importance source...\n",
      " 26. run of importance source...\n",
      " 27. run of importance source...\n",
      " 28. run of importance source...\n",
      " 29. run of importance source...\n",
      " 30. run of importance source...\n",
      " 31. run of importance source...\n",
      " 32. run of importance source...\n",
      " 33. run of importance source...\n",
      " 34. run of importance source...\n",
      " 35. run of importance source...\n",
      " 36. run of importance source...\n",
      " 37. run of importance source...\n",
      " 38. run of importance source...\n",
      " 39. run of importance source...\n",
      " 40. run of importance source...\n",
      " 41. run of importance source...\n",
      " 42. run of importance source...\n",
      " 43. run of importance source...\n",
      " 44. run of importance source...\n",
      " 45. run of importance source...\n",
      " 46. run of importance source...\n",
      " 47. run of importance source...\n",
      " 48. run of importance source...\n",
      " 49. run of importance source...\n",
      " 50. run of importance source...\n",
      " 51. run of importance source...\n",
      " 52. run of importance source...\n",
      " 53. run of importance source...\n",
      " 54. run of importance source...\n",
      " 55. run of importance source...\n",
      " 56. run of importance source...\n",
      " 57. run of importance source...\n",
      " 58. run of importance source...\n",
      " 59. run of importance source...\n",
      " 60. run of importance source...\n",
      " 61. run of importance source...\n",
      " 62. run of importance source...\n",
      " 63. run of importance source...\n",
      " 64. run of importance source...\n",
      " 65. run of importance source...\n",
      " 66. run of importance source...\n",
      " 67. run of importance source...\n",
      " 68. run of importance source...\n",
      " 69. run of importance source...\n",
      " 70. run of importance source...\n",
      " 71. run of importance source...\n",
      " 72. run of importance source...\n",
      " 73. run of importance source...\n",
      " 74. run of importance source...\n",
      " 75. run of importance source...\n",
      " 76. run of importance source...\n",
      " 77. run of importance source...\n",
      " 78. run of importance source...\n",
      " 79. run of importance source...\n",
      " 80. run of importance source...\n",
      " 81. run of importance source...\n",
      " 82. run of importance source...\n",
      " 83. run of importance source...\n",
      " 84. run of importance source...\n",
      " 85. run of importance source...\n",
      " 86. run of importance source...\n",
      "After 86 iterations, +22 mins: \n",
      " confirmed 1 attribute: BAX;\n",
      " still have 10 attributes left.\n",
      "\n",
      " 87. run of importance source...\n",
      " 88. run of importance source...\n",
      "After 88 iterations, +22 mins: \n",
      " confirmed 4 attributes: FANCG, HOXA7, ISLR, UNC5CL;\n",
      " still have 6 attributes left.\n",
      "\n",
      " 89. run of importance source...\n",
      " 90. run of importance source...\n",
      " 91. run of importance source...\n",
      "After 91 iterations, +22 mins: \n",
      " confirmed 4 attributes: CXCL13, KCNV2, MMS19, NEK3;\n",
      " still have 2 attributes left.\n",
      "\n",
      " 92. run of importance source...\n",
      " 93. run of importance source...\n",
      " 94. run of importance source...\n",
      " 95. run of importance source...\n",
      " 96. run of importance source...\n",
      "After 96 iterations, +22 mins: \n",
      " confirmed 1 attribute: DLX4;\n",
      " still have 1 attribute left.\n",
      "\n",
      " 97. run of importance source...\n",
      " 98. run of importance source...\n",
      " 99. run of importance source...\n"
     ]
    },
    {
     "name": "stdout",
     "output_type": "stream",
     "text": [
      "\n",
      "Drug7: Boruta is running for Irinotecan"
     ]
    },
    {
     "name": "stderr",
     "output_type": "stream",
     "text": [
      " 1. run of importance source...\n"
     ]
    },
    {
     "name": "stdout",
     "output_type": "stream",
     "text": [
      "Computing permutation importance.. Progress: 75%. Estimated remaining time: 10 seconds.\n"
     ]
    },
    {
     "name": "stderr",
     "output_type": "stream",
     "text": [
      " 2. run of importance source...\n"
     ]
    },
    {
     "name": "stdout",
     "output_type": "stream",
     "text": [
      "Computing permutation importance.. Progress: 72%. Estimated remaining time: 12 seconds.\n"
     ]
    },
    {
     "name": "stderr",
     "output_type": "stream",
     "text": [
      " 3. run of importance source...\n"
     ]
    },
    {
     "name": "stdout",
     "output_type": "stream",
     "text": [
      "Computing permutation importance.. Progress: 74%. Estimated remaining time: 11 seconds.\n"
     ]
    },
    {
     "name": "stderr",
     "output_type": "stream",
     "text": [
      " 4. run of importance source...\n"
     ]
    },
    {
     "name": "stdout",
     "output_type": "stream",
     "text": [
      "Computing permutation importance.. Progress: 72%. Estimated remaining time: 11 seconds.\n"
     ]
    },
    {
     "name": "stderr",
     "output_type": "stream",
     "text": [
      " 5. run of importance source...\n"
     ]
    },
    {
     "name": "stdout",
     "output_type": "stream",
     "text": [
      "Computing permutation importance.. Progress: 73%. Estimated remaining time: 11 seconds.\n"
     ]
    },
    {
     "name": "stderr",
     "output_type": "stream",
     "text": [
      " 6. run of importance source...\n"
     ]
    },
    {
     "name": "stdout",
     "output_type": "stream",
     "text": [
      "Computing permutation importance.. Progress: 72%. Estimated remaining time: 11 seconds.\n"
     ]
    },
    {
     "name": "stderr",
     "output_type": "stream",
     "text": [
      " 7. run of importance source...\n"
     ]
    },
    {
     "name": "stdout",
     "output_type": "stream",
     "text": [
      "Computing permutation importance.. Progress: 72%. Estimated remaining time: 11 seconds.\n"
     ]
    },
    {
     "name": "stderr",
     "output_type": "stream",
     "text": [
      " 8. run of importance source...\n"
     ]
    },
    {
     "name": "stdout",
     "output_type": "stream",
     "text": [
      "Computing permutation importance.. Progress: 73%. Estimated remaining time: 11 seconds.\n"
     ]
    },
    {
     "name": "stderr",
     "output_type": "stream",
     "text": [
      " 9. run of importance source...\n"
     ]
    },
    {
     "name": "stdout",
     "output_type": "stream",
     "text": [
      "Computing permutation importance.. Progress: 71%. Estimated remaining time: 12 seconds.\n"
     ]
    },
    {
     "name": "stderr",
     "output_type": "stream",
     "text": [
      " 10. run of importance source...\n"
     ]
    },
    {
     "name": "stdout",
     "output_type": "stream",
     "text": [
      "Computing permutation importance.. Progress: 73%. Estimated remaining time: 11 seconds.\n"
     ]
    },
    {
     "name": "stderr",
     "output_type": "stream",
     "text": [
      " 11. run of importance source...\n"
     ]
    },
    {
     "name": "stdout",
     "output_type": "stream",
     "text": [
      "Computing permutation importance.. Progress: 73%. Estimated remaining time: 11 seconds.\n"
     ]
    },
    {
     "name": "stderr",
     "output_type": "stream",
     "text": [
      " 12. run of importance source...\n"
     ]
    },
    {
     "name": "stdout",
     "output_type": "stream",
     "text": [
      "Computing permutation importance.. Progress: 75%. Estimated remaining time: 10 seconds.\n"
     ]
    },
    {
     "name": "stderr",
     "output_type": "stream",
     "text": [
      " 13. run of importance source...\n"
     ]
    },
    {
     "name": "stdout",
     "output_type": "stream",
     "text": [
      "Computing permutation importance.. Progress: 73%. Estimated remaining time: 11 seconds.\n"
     ]
    },
    {
     "name": "stderr",
     "output_type": "stream",
     "text": [
      " 14. run of importance source...\n"
     ]
    },
    {
     "name": "stdout",
     "output_type": "stream",
     "text": [
      "Computing permutation importance.. Progress: 74%. Estimated remaining time: 10 seconds.\n"
     ]
    },
    {
     "name": "stderr",
     "output_type": "stream",
     "text": [
      " 15. run of importance source...\n"
     ]
    },
    {
     "name": "stdout",
     "output_type": "stream",
     "text": [
      "Computing permutation importance.. Progress: 72%. Estimated remaining time: 11 seconds.\n"
     ]
    },
    {
     "name": "stderr",
     "output_type": "stream",
     "text": [
      " 16. run of importance source...\n"
     ]
    },
    {
     "name": "stdout",
     "output_type": "stream",
     "text": [
      "Computing permutation importance.. Progress: 73%. Estimated remaining time: 11 seconds.\n"
     ]
    },
    {
     "name": "stderr",
     "output_type": "stream",
     "text": [
      " 17. run of importance source...\n"
     ]
    },
    {
     "name": "stdout",
     "output_type": "stream",
     "text": [
      "Computing permutation importance.. Progress: 72%. Estimated remaining time: 12 seconds.\n"
     ]
    },
    {
     "name": "stderr",
     "output_type": "stream",
     "text": [
      " 18. run of importance source...\n"
     ]
    },
    {
     "name": "stdout",
     "output_type": "stream",
     "text": [
      "Computing permutation importance.. Progress: 74%. Estimated remaining time: 11 seconds.\n"
     ]
    },
    {
     "name": "stderr",
     "output_type": "stream",
     "text": [
      " 19. run of importance source...\n"
     ]
    },
    {
     "name": "stdout",
     "output_type": "stream",
     "text": [
      "Computing permutation importance.. Progress: 72%. Estimated remaining time: 12 seconds.\n"
     ]
    },
    {
     "name": "stderr",
     "output_type": "stream",
     "text": [
      " 20. run of importance source...\n"
     ]
    },
    {
     "name": "stdout",
     "output_type": "stream",
     "text": [
      "Computing permutation importance.. Progress: 74%. Estimated remaining time: 11 seconds.\n"
     ]
    },
    {
     "name": "stderr",
     "output_type": "stream",
     "text": [
      " 21. run of importance source...\n"
     ]
    },
    {
     "name": "stdout",
     "output_type": "stream",
     "text": [
      "Computing permutation importance.. Progress: 73%. Estimated remaining time: 11 seconds.\n"
     ]
    },
    {
     "name": "stderr",
     "output_type": "stream",
     "text": [
      "After 21 iterations, +16 mins: \n",
      " rejected 20158 attributes: A1BG, A1BG-AS1, A1CF, A2M, A2M-AS1 and 20153 more;\n",
      " still have 16 attributes left.\n",
      "\n",
      " 22. run of importance source...\n",
      " 23. run of importance source...\n",
      " 24. run of importance source...\n",
      " 25. run of importance source...\n",
      " 26. run of importance source...\n",
      "After 26 iterations, +16 mins: \n",
      " rejected 6 attributes: AMY2B, ASPH, NCOA5, SFXN5, SPON1 and 1 more;\n",
      " still have 10 attributes left.\n",
      "\n",
      " 27. run of importance source...\n",
      " 28. run of importance source...\n",
      " 29. run of importance source...\n",
      " 30. run of importance source...\n",
      "After 30 iterations, +16 mins: \n",
      " rejected 1 attribute: RPF2;\n",
      " still have 9 attributes left.\n",
      "\n",
      " 31. run of importance source...\n",
      " 32. run of importance source...\n",
      " 33. run of importance source...\n",
      " 34. run of importance source...\n",
      " 35. run of importance source...\n",
      " 36. run of importance source...\n",
      " 37. run of importance source...\n",
      " 38. run of importance source...\n",
      " 39. run of importance source...\n",
      " 40. run of importance source...\n",
      " 41. run of importance source...\n",
      "After 41 iterations, +16 mins: \n",
      " rejected 1 attribute: AHSP;\n",
      " still have 8 attributes left.\n",
      "\n",
      " 42. run of importance source...\n",
      " 43. run of importance source...\n",
      " 44. run of importance source...\n",
      " 45. run of importance source...\n",
      " 46. run of importance source...\n",
      " 47. run of importance source...\n",
      " 48. run of importance source...\n",
      " 49. run of importance source...\n",
      " 50. run of importance source...\n",
      " 51. run of importance source...\n",
      " 52. run of importance source...\n",
      " 53. run of importance source...\n",
      " 54. run of importance source...\n",
      " 55. run of importance source...\n",
      " 56. run of importance source...\n",
      " 57. run of importance source...\n",
      " 58. run of importance source...\n",
      " 59. run of importance source...\n",
      " 60. run of importance source...\n",
      " 61. run of importance source...\n",
      " 62. run of importance source...\n",
      " 63. run of importance source...\n",
      " 64. run of importance source...\n",
      " 65. run of importance source...\n",
      " 66. run of importance source...\n",
      " 67. run of importance source...\n",
      " 68. run of importance source...\n",
      " 69. run of importance source...\n",
      " 70. run of importance source...\n",
      " 71. run of importance source...\n",
      " 72. run of importance source...\n",
      " 73. run of importance source...\n",
      " 74. run of importance source...\n",
      " 75. run of importance source...\n",
      " 76. run of importance source...\n",
      " 77. run of importance source...\n",
      " 78. run of importance source...\n",
      " 79. run of importance source...\n",
      " 80. run of importance source...\n",
      " 81. run of importance source...\n",
      " 82. run of importance source...\n",
      " 83. run of importance source...\n",
      "After 83 iterations, +16 mins: \n",
      " confirmed 1 attribute: SLFN11;\n",
      " still have 7 attributes left.\n",
      "\n",
      " 84. run of importance source...\n",
      " 85. run of importance source...\n",
      " 86. run of importance source...\n",
      " 87. run of importance source...\n",
      " 88. run of importance source...\n",
      " 89. run of importance source...\n",
      " 90. run of importance source...\n",
      " 91. run of importance source...\n",
      " 92. run of importance source...\n",
      " 93. run of importance source...\n",
      " 94. run of importance source...\n",
      "After 94 iterations, +16 mins: \n",
      " confirmed 1 attribute: ITFG1;\n",
      " still have 6 attributes left.\n",
      "\n",
      " 95. run of importance source...\n",
      " 96. run of importance source...\n",
      " 97. run of importance source...\n",
      " 98. run of importance source...\n",
      " 99. run of importance source...\n"
     ]
    },
    {
     "name": "stdout",
     "output_type": "stream",
     "text": [
      "\n",
      "Drug8: Boruta is running for Paclitaxel"
     ]
    },
    {
     "name": "stderr",
     "output_type": "stream",
     "text": [
      " 1. run of importance source...\n"
     ]
    },
    {
     "name": "stdout",
     "output_type": "stream",
     "text": [
      "Computing permutation importance.. Progress: 23%. Estimated remaining time: 1 minute, 41 seconds.\n",
      "Computing permutation importance.. Progress: 48%. Estimated remaining time: 1 minute, 6 seconds.\n",
      "Computing permutation importance.. Progress: 73%. Estimated remaining time: 35 seconds.\n",
      "Computing permutation importance.. Progress: 97%. Estimated remaining time: 4 seconds.\n"
     ]
    },
    {
     "name": "stderr",
     "output_type": "stream",
     "text": [
      " 2. run of importance source...\n"
     ]
    },
    {
     "name": "stdout",
     "output_type": "stream",
     "text": [
      "Computing permutation importance.. Progress: 24%. Estimated remaining time: 1 minute, 40 seconds.\n",
      "Computing permutation importance.. Progress: 48%. Estimated remaining time: 1 minute, 7 seconds.\n",
      "Computing permutation importance.. Progress: 72%. Estimated remaining time: 35 seconds.\n",
      "Computing permutation importance.. Progress: 96%. Estimated remaining time: 4 seconds.\n"
     ]
    },
    {
     "name": "stderr",
     "output_type": "stream",
     "text": [
      " 3. run of importance source...\n"
     ]
    },
    {
     "name": "stdout",
     "output_type": "stream",
     "text": [
      "Computing permutation importance.. Progress: 24%. Estimated remaining time: 1 minute, 40 seconds.\n",
      "Computing permutation importance.. Progress: 47%. Estimated remaining time: 1 minute, 8 seconds.\n",
      "Computing permutation importance.. Progress: 72%. Estimated remaining time: 36 seconds.\n",
      "Computing permutation importance.. Progress: 96%. Estimated remaining time: 5 seconds.\n"
     ]
    },
    {
     "name": "stderr",
     "output_type": "stream",
     "text": [
      " 4. run of importance source...\n"
     ]
    },
    {
     "name": "stdout",
     "output_type": "stream",
     "text": [
      "Computing permutation importance.. Progress: 23%. Estimated remaining time: 1 minute, 42 seconds.\n",
      "Computing permutation importance.. Progress: 47%. Estimated remaining time: 1 minute, 8 seconds.\n",
      "Computing permutation importance.. Progress: 72%. Estimated remaining time: 36 seconds.\n",
      "Computing permutation importance.. Progress: 95%. Estimated remaining time: 5 seconds.\n"
     ]
    },
    {
     "name": "stderr",
     "output_type": "stream",
     "text": [
      " 5. run of importance source...\n"
     ]
    },
    {
     "name": "stdout",
     "output_type": "stream",
     "text": [
      "Computing permutation importance.. Progress: 24%. Estimated remaining time: 1 minute, 39 seconds.\n",
      "Computing permutation importance.. Progress: 48%. Estimated remaining time: 1 minute, 7 seconds.\n",
      "Computing permutation importance.. Progress: 72%. Estimated remaining time: 36 seconds.\n",
      "Computing permutation importance.. Progress: 96%. Estimated remaining time: 5 seconds.\n"
     ]
    },
    {
     "name": "stderr",
     "output_type": "stream",
     "text": [
      " 6. run of importance source...\n"
     ]
    },
    {
     "name": "stdout",
     "output_type": "stream",
     "text": [
      "Computing permutation importance.. Progress: 24%. Estimated remaining time: 1 minute, 40 seconds.\n",
      "Computing permutation importance.. Progress: 48%. Estimated remaining time: 1 minute, 6 seconds.\n",
      "Computing permutation importance.. Progress: 73%. Estimated remaining time: 35 seconds.\n",
      "Computing permutation importance.. Progress: 97%. Estimated remaining time: 3 seconds.\n"
     ]
    },
    {
     "name": "stderr",
     "output_type": "stream",
     "text": [
      " 7. run of importance source...\n"
     ]
    },
    {
     "name": "stdout",
     "output_type": "stream",
     "text": [
      "Computing permutation importance.. Progress: 24%. Estimated remaining time: 1 minute, 40 seconds.\n",
      "Computing permutation importance.. Progress: 48%. Estimated remaining time: 1 minute, 8 seconds.\n",
      "Computing permutation importance.. Progress: 73%. Estimated remaining time: 35 seconds.\n",
      "Computing permutation importance.. Progress: 97%. Estimated remaining time: 4 seconds.\n"
     ]
    },
    {
     "name": "stderr",
     "output_type": "stream",
     "text": [
      " 8. run of importance source...\n"
     ]
    },
    {
     "name": "stdout",
     "output_type": "stream",
     "text": [
      "Computing permutation importance.. Progress: 23%. Estimated remaining time: 1 minute, 46 seconds.\n",
      "Computing permutation importance.. Progress: 46%. Estimated remaining time: 1 minute, 13 seconds.\n",
      "Computing permutation importance.. Progress: 69%. Estimated remaining time: 41 seconds.\n",
      "Computing permutation importance.. Progress: 92%. Estimated remaining time: 10 seconds.\n"
     ]
    },
    {
     "name": "stderr",
     "output_type": "stream",
     "text": [
      " 9. run of importance source...\n"
     ]
    },
    {
     "name": "stdout",
     "output_type": "stream",
     "text": [
      "Computing permutation importance.. Progress: 23%. Estimated remaining time: 1 minute, 42 seconds.\n",
      "Computing permutation importance.. Progress: 48%. Estimated remaining time: 1 minute, 8 seconds.\n",
      "Computing permutation importance.. Progress: 72%. Estimated remaining time: 36 seconds.\n",
      "Computing permutation importance.. Progress: 96%. Estimated remaining time: 5 seconds.\n"
     ]
    },
    {
     "name": "stderr",
     "output_type": "stream",
     "text": [
      " 10. run of importance source...\n"
     ]
    },
    {
     "name": "stdout",
     "output_type": "stream",
     "text": [
      "Computing permutation importance.. Progress: 23%. Estimated remaining time: 1 minute, 46 seconds.\n",
      "Computing permutation importance.. Progress: 47%. Estimated remaining time: 1 minute, 11 seconds.\n",
      "Computing permutation importance.. Progress: 70%. Estimated remaining time: 39 seconds.\n",
      "Computing permutation importance.. Progress: 94%. Estimated remaining time: 7 seconds.\n"
     ]
    },
    {
     "name": "stderr",
     "output_type": "stream",
     "text": [
      " 11. run of importance source...\n"
     ]
    },
    {
     "name": "stdout",
     "output_type": "stream",
     "text": [
      "Computing permutation importance.. Progress: 22%. Estimated remaining time: 1 minute, 52 seconds.\n",
      "Computing permutation importance.. Progress: 46%. Estimated remaining time: 1 minute, 13 seconds.\n",
      "Computing permutation importance.. Progress: 70%. Estimated remaining time: 40 seconds.\n",
      "Computing permutation importance.. Progress: 94%. Estimated remaining time: 7 seconds.\n"
     ]
    },
    {
     "name": "stderr",
     "output_type": "stream",
     "text": [
      " 12. run of importance source...\n"
     ]
    },
    {
     "name": "stdout",
     "output_type": "stream",
     "text": [
      "Computing permutation importance.. Progress: 24%. Estimated remaining time: 1 minute, 39 seconds.\n",
      "Computing permutation importance.. Progress: 47%. Estimated remaining time: 1 minute, 8 seconds.\n",
      "Computing permutation importance.. Progress: 71%. Estimated remaining time: 37 seconds.\n",
      "Computing permutation importance.. Progress: 96%. Estimated remaining time: 5 seconds.\n"
     ]
    },
    {
     "name": "stderr",
     "output_type": "stream",
     "text": [
      " 13. run of importance source...\n"
     ]
    },
    {
     "name": "stdout",
     "output_type": "stream",
     "text": [
      "Computing permutation importance.. Progress: 23%. Estimated remaining time: 1 minute, 43 seconds.\n",
      "Computing permutation importance.. Progress: 47%. Estimated remaining time: 1 minute, 9 seconds.\n",
      "Computing permutation importance.. Progress: 71%. Estimated remaining time: 37 seconds.\n",
      "Computing permutation importance.. Progress: 95%. Estimated remaining time: 6 seconds.\n"
     ]
    },
    {
     "name": "stderr",
     "output_type": "stream",
     "text": [
      " 14. run of importance source...\n"
     ]
    },
    {
     "name": "stdout",
     "output_type": "stream",
     "text": [
      "Computing permutation importance.. Progress: 23%. Estimated remaining time: 1 minute, 42 seconds.\n",
      "Computing permutation importance.. Progress: 48%. Estimated remaining time: 1 minute, 8 seconds.\n",
      "Computing permutation importance.. Progress: 72%. Estimated remaining time: 36 seconds.\n",
      "Computing permutation importance.. Progress: 96%. Estimated remaining time: 4 seconds.\n"
     ]
    },
    {
     "name": "stderr",
     "output_type": "stream",
     "text": [
      " 15. run of importance source...\n"
     ]
    },
    {
     "name": "stdout",
     "output_type": "stream",
     "text": [
      "Computing permutation importance.. Progress: 24%. Estimated remaining time: 1 minute, 38 seconds.\n",
      "Computing permutation importance.. Progress: 48%. Estimated remaining time: 1 minute, 6 seconds.\n",
      "Computing permutation importance.. Progress: 72%. Estimated remaining time: 35 seconds.\n",
      "Computing permutation importance.. Progress: 97%. Estimated remaining time: 4 seconds.\n"
     ]
    },
    {
     "name": "stderr",
     "output_type": "stream",
     "text": [
      " 16. run of importance source...\n"
     ]
    },
    {
     "name": "stdout",
     "output_type": "stream",
     "text": [
      "Computing permutation importance.. Progress: 23%. Estimated remaining time: 1 minute, 42 seconds.\n",
      "Computing permutation importance.. Progress: 48%. Estimated remaining time: 1 minute, 8 seconds.\n",
      "Computing permutation importance.. Progress: 72%. Estimated remaining time: 36 seconds.\n",
      "Computing permutation importance.. Progress: 96%. Estimated remaining time: 5 seconds.\n"
     ]
    },
    {
     "name": "stderr",
     "output_type": "stream",
     "text": [
      " 17. run of importance source...\n"
     ]
    },
    {
     "name": "stdout",
     "output_type": "stream",
     "text": [
      "Computing permutation importance.. Progress: 23%. Estimated remaining time: 1 minute, 41 seconds.\n",
      "Computing permutation importance.. Progress: 48%. Estimated remaining time: 1 minute, 7 seconds.\n",
      "Computing permutation importance.. Progress: 72%. Estimated remaining time: 36 seconds.\n",
      "Computing permutation importance.. Progress: 96%. Estimated remaining time: 5 seconds.\n"
     ]
    },
    {
     "name": "stderr",
     "output_type": "stream",
     "text": [
      " 18. run of importance source...\n"
     ]
    },
    {
     "name": "stdout",
     "output_type": "stream",
     "text": [
      "Computing permutation importance.. Progress: 24%. Estimated remaining time: 1 minute, 39 seconds.\n",
      "Computing permutation importance.. Progress: 48%. Estimated remaining time: 1 minute, 7 seconds.\n",
      "Computing permutation importance.. Progress: 72%. Estimated remaining time: 35 seconds.\n",
      "Computing permutation importance.. Progress: 97%. Estimated remaining time: 4 seconds.\n"
     ]
    },
    {
     "name": "stderr",
     "output_type": "stream",
     "text": [
      " 19. run of importance source...\n"
     ]
    },
    {
     "name": "stdout",
     "output_type": "stream",
     "text": [
      "Computing permutation importance.. Progress: 23%. Estimated remaining time: 1 minute, 43 seconds.\n",
      "Computing permutation importance.. Progress: 48%. Estimated remaining time: 1 minute, 8 seconds.\n",
      "Computing permutation importance.. Progress: 72%. Estimated remaining time: 36 seconds.\n",
      "Computing permutation importance.. Progress: 97%. Estimated remaining time: 4 seconds.\n"
     ]
    },
    {
     "name": "stderr",
     "output_type": "stream",
     "text": [
      " 20. run of importance source...\n"
     ]
    },
    {
     "name": "stdout",
     "output_type": "stream",
     "text": [
      "Computing permutation importance.. Progress: 24%. Estimated remaining time: 1 minute, 38 seconds.\n",
      "Computing permutation importance.. Progress: 49%. Estimated remaining time: 1 minute, 5 seconds.\n",
      "Computing permutation importance.. Progress: 73%. Estimated remaining time: 34 seconds.\n",
      "Computing permutation importance.. Progress: 97%. Estimated remaining time: 3 seconds.\n"
     ]
    },
    {
     "name": "stderr",
     "output_type": "stream",
     "text": [
      " 21. run of importance source...\n"
     ]
    },
    {
     "name": "stdout",
     "output_type": "stream",
     "text": [
      "Computing permutation importance.. Progress: 23%. Estimated remaining time: 1 minute, 41 seconds.\n",
      "Computing permutation importance.. Progress: 47%. Estimated remaining time: 1 minute, 10 seconds.\n",
      "Computing permutation importance.. Progress: 71%. Estimated remaining time: 38 seconds.\n",
      "Computing permutation importance.. Progress: 95%. Estimated remaining time: 6 seconds.\n"
     ]
    },
    {
     "name": "stderr",
     "output_type": "stream",
     "text": [
      "After 21 iterations, +49 mins: \n",
      " rejected 20147 attributes: A1BG, A1BG-AS1, A1CF, A2M, A2M-AS1 and 20142 more;\n",
      " still have 27 attributes left.\n",
      "\n",
      " 22. run of importance source...\n",
      " 23. run of importance source...\n",
      " 24. run of importance source...\n",
      " 25. run of importance source...\n",
      " 26. run of importance source...\n",
      "After 26 iterations, +49 mins: \n",
      " rejected 2 attributes: KMT5A, TNS2;\n",
      " still have 25 attributes left.\n",
      "\n",
      " 27. run of importance source...\n",
      " 28. run of importance source...\n",
      " 29. run of importance source...\n",
      " 30. run of importance source...\n",
      "After 30 iterations, +49 mins: \n",
      " rejected 4 attributes: ABCB1, HIF1A, LINC02615, MRPL21;\n",
      " still have 21 attributes left.\n",
      "\n",
      " 31. run of importance source...\n",
      " 32. run of importance source...\n",
      " 33. run of importance source...\n",
      " 34. run of importance source...\n",
      " 35. run of importance source...\n",
      " 36. run of importance source...\n",
      " 37. run of importance source...\n",
      " 38. run of importance source...\n",
      " 39. run of importance source...\n",
      " 40. run of importance source...\n",
      " 41. run of importance source...\n",
      "After 41 iterations, +49 mins: \n",
      " rejected 1 attribute: ITIH2;\n",
      " still have 20 attributes left.\n",
      "\n",
      " 42. run of importance source...\n",
      " 43. run of importance source...\n",
      " 44. run of importance source...\n",
      " 45. run of importance source...\n",
      " 46. run of importance source...\n",
      " 47. run of importance source...\n",
      " 48. run of importance source...\n",
      " 49. run of importance source...\n",
      " 50. run of importance source...\n",
      " 51. run of importance source...\n",
      " 52. run of importance source...\n",
      " 53. run of importance source...\n",
      " 54. run of importance source...\n",
      " 55. run of importance source...\n",
      " 56. run of importance source...\n",
      " 57. run of importance source...\n",
      " 58. run of importance source...\n",
      " 59. run of importance source...\n",
      " 60. run of importance source...\n",
      " 61. run of importance source...\n",
      " 62. run of importance source...\n",
      " 63. run of importance source...\n",
      " 64. run of importance source...\n",
      " 65. run of importance source...\n",
      " 66. run of importance source...\n",
      " 67. run of importance source...\n",
      " 68. run of importance source...\n",
      " 69. run of importance source...\n",
      "After 69 iterations, +49 mins: \n",
      " confirmed 1 attribute: MAP4K3;\n",
      " still have 19 attributes left.\n",
      "\n",
      " 70. run of importance source...\n",
      " 71. run of importance source...\n",
      " 72. run of importance source...\n",
      " 73. run of importance source...\n",
      " 74. run of importance source...\n",
      " 75. run of importance source...\n",
      " 76. run of importance source...\n",
      " 77. run of importance source...\n",
      " 78. run of importance source...\n",
      " 79. run of importance source...\n",
      " 80. run of importance source...\n",
      "After 80 iterations, +49 mins: \n",
      " confirmed 1 attribute: NAA16;\n",
      " still have 18 attributes left.\n",
      "\n",
      " 81. run of importance source...\n",
      " 82. run of importance source...\n",
      " 83. run of importance source...\n",
      " 84. run of importance source...\n",
      " 85. run of importance source...\n",
      " 86. run of importance source...\n",
      "After 86 iterations, +49 mins: \n",
      " confirmed 2 attributes: LRRC57, SLC22A2;\n",
      " still have 16 attributes left.\n",
      "\n",
      " 87. run of importance source...\n",
      " 88. run of importance source...\n",
      "After 88 iterations, +49 mins: \n",
      " confirmed 1 attribute: FRAS1;\n",
      " still have 15 attributes left.\n",
      "\n",
      " 89. run of importance source...\n",
      " 90. run of importance source...\n",
      " 91. run of importance source...\n",
      " 92. run of importance source...\n",
      " 93. run of importance source...\n",
      " 94. run of importance source...\n",
      " 95. run of importance source...\n",
      " 96. run of importance source...\n",
      " 97. run of importance source...\n",
      " 98. run of importance source...\n",
      " 99. run of importance source...\n"
     ]
    },
    {
     "name": "stdout",
     "output_type": "stream",
     "text": [
      "\n",
      "Drug9: Boruta is running for Nutlin-3"
     ]
    },
    {
     "name": "stderr",
     "output_type": "stream",
     "text": [
      " 1. run of importance source...\n"
     ]
    },
    {
     "name": "stdout",
     "output_type": "stream",
     "text": [
      "Computing permutation importance.. Progress: 77%. Estimated remaining time: 9 seconds.\n"
     ]
    },
    {
     "name": "stderr",
     "output_type": "stream",
     "text": [
      " 2. run of importance source...\n"
     ]
    },
    {
     "name": "stdout",
     "output_type": "stream",
     "text": [
      "Computing permutation importance.. Progress: 78%. Estimated remaining time: 8 seconds.\n"
     ]
    },
    {
     "name": "stderr",
     "output_type": "stream",
     "text": [
      " 3. run of importance source...\n"
     ]
    },
    {
     "name": "stdout",
     "output_type": "stream",
     "text": [
      "Computing permutation importance.. Progress: 78%. Estimated remaining time: 8 seconds.\n"
     ]
    },
    {
     "name": "stderr",
     "output_type": "stream",
     "text": [
      " 4. run of importance source...\n"
     ]
    },
    {
     "name": "stdout",
     "output_type": "stream",
     "text": [
      "Computing permutation importance.. Progress: 79%. Estimated remaining time: 8 seconds.\n"
     ]
    },
    {
     "name": "stderr",
     "output_type": "stream",
     "text": [
      " 5. run of importance source...\n"
     ]
    },
    {
     "name": "stdout",
     "output_type": "stream",
     "text": [
      "Computing permutation importance.. Progress: 77%. Estimated remaining time: 9 seconds.\n"
     ]
    },
    {
     "name": "stderr",
     "output_type": "stream",
     "text": [
      " 6. run of importance source...\n"
     ]
    },
    {
     "name": "stdout",
     "output_type": "stream",
     "text": [
      "Computing permutation importance.. Progress: 77%. Estimated remaining time: 9 seconds.\n"
     ]
    },
    {
     "name": "stderr",
     "output_type": "stream",
     "text": [
      " 7. run of importance source...\n"
     ]
    },
    {
     "name": "stdout",
     "output_type": "stream",
     "text": [
      "Computing permutation importance.. Progress: 78%. Estimated remaining time: 8 seconds.\n"
     ]
    },
    {
     "name": "stderr",
     "output_type": "stream",
     "text": [
      " 8. run of importance source...\n"
     ]
    },
    {
     "name": "stdout",
     "output_type": "stream",
     "text": [
      "Computing permutation importance.. Progress: 77%. Estimated remaining time: 9 seconds.\n"
     ]
    },
    {
     "name": "stderr",
     "output_type": "stream",
     "text": [
      " 9. run of importance source...\n"
     ]
    },
    {
     "name": "stdout",
     "output_type": "stream",
     "text": [
      "Computing permutation importance.. Progress: 78%. Estimated remaining time: 8 seconds.\n"
     ]
    },
    {
     "name": "stderr",
     "output_type": "stream",
     "text": [
      " 10. run of importance source...\n"
     ]
    },
    {
     "name": "stdout",
     "output_type": "stream",
     "text": [
      "Computing permutation importance.. Progress: 77%. Estimated remaining time: 9 seconds.\n"
     ]
    },
    {
     "name": "stderr",
     "output_type": "stream",
     "text": [
      " 11. run of importance source...\n"
     ]
    },
    {
     "name": "stdout",
     "output_type": "stream",
     "text": [
      "Computing permutation importance.. Progress: 77%. Estimated remaining time: 9 seconds.\n"
     ]
    },
    {
     "name": "stderr",
     "output_type": "stream",
     "text": [
      " 12. run of importance source...\n"
     ]
    },
    {
     "name": "stdout",
     "output_type": "stream",
     "text": [
      "Computing permutation importance.. Progress: 77%. Estimated remaining time: 9 seconds.\n"
     ]
    },
    {
     "name": "stderr",
     "output_type": "stream",
     "text": [
      " 13. run of importance source...\n"
     ]
    },
    {
     "name": "stdout",
     "output_type": "stream",
     "text": [
      "Computing permutation importance.. Progress: 77%. Estimated remaining time: 9 seconds.\n"
     ]
    },
    {
     "name": "stderr",
     "output_type": "stream",
     "text": [
      " 14. run of importance source...\n"
     ]
    },
    {
     "name": "stdout",
     "output_type": "stream",
     "text": [
      "Computing permutation importance.. Progress: 78%. Estimated remaining time: 8 seconds.\n"
     ]
    },
    {
     "name": "stderr",
     "output_type": "stream",
     "text": [
      " 15. run of importance source...\n"
     ]
    },
    {
     "name": "stdout",
     "output_type": "stream",
     "text": [
      "Computing permutation importance.. Progress: 77%. Estimated remaining time: 9 seconds.\n"
     ]
    },
    {
     "name": "stderr",
     "output_type": "stream",
     "text": [
      " 16. run of importance source...\n"
     ]
    },
    {
     "name": "stdout",
     "output_type": "stream",
     "text": [
      "Computing permutation importance.. Progress: 78%. Estimated remaining time: 8 seconds.\n"
     ]
    },
    {
     "name": "stderr",
     "output_type": "stream",
     "text": [
      " 17. run of importance source...\n"
     ]
    },
    {
     "name": "stdout",
     "output_type": "stream",
     "text": [
      "Computing permutation importance.. Progress: 80%. Estimated remaining time: 7 seconds.\n"
     ]
    },
    {
     "name": "stderr",
     "output_type": "stream",
     "text": [
      " 18. run of importance source...\n"
     ]
    },
    {
     "name": "stdout",
     "output_type": "stream",
     "text": [
      "Computing permutation importance.. Progress: 78%. Estimated remaining time: 8 seconds.\n"
     ]
    },
    {
     "name": "stderr",
     "output_type": "stream",
     "text": [
      " 19. run of importance source...\n"
     ]
    },
    {
     "name": "stdout",
     "output_type": "stream",
     "text": [
      "Computing permutation importance.. Progress: 78%. Estimated remaining time: 8 seconds.\n"
     ]
    },
    {
     "name": "stderr",
     "output_type": "stream",
     "text": [
      " 20. run of importance source...\n"
     ]
    },
    {
     "name": "stdout",
     "output_type": "stream",
     "text": [
      "Computing permutation importance.. Progress: 78%. Estimated remaining time: 8 seconds.\n"
     ]
    },
    {
     "name": "stderr",
     "output_type": "stream",
     "text": [
      " 21. run of importance source...\n"
     ]
    },
    {
     "name": "stdout",
     "output_type": "stream",
     "text": [
      "Computing permutation importance.. Progress: 74%. Estimated remaining time: 10 seconds.\n"
     ]
    },
    {
     "name": "stderr",
     "output_type": "stream",
     "text": [
      "After 21 iterations, +16 mins: \n",
      " rejected 20158 attributes: A1BG, A1BG-AS1, A1CF, A2M, A2M-AS1 and 20153 more;\n",
      " still have 16 attributes left.\n",
      "\n",
      " 22. run of importance source...\n",
      " 23. run of importance source...\n",
      " 24. run of importance source...\n",
      " 25. run of importance source...\n",
      " 26. run of importance source...\n",
      "After 26 iterations, +16 mins: \n",
      " rejected 3 attributes: ATRNL1, KBTBD7, LNC-LBCS;\n",
      " still have 13 attributes left.\n",
      "\n",
      " 27. run of importance source...\n",
      " 28. run of importance source...\n",
      " 29. run of importance source...\n",
      " 30. run of importance source...\n",
      "After 30 iterations, +16 mins: \n",
      " rejected 1 attribute: TNFRSF19;\n",
      " still have 12 attributes left.\n",
      "\n",
      " 31. run of importance source...\n",
      " 32. run of importance source...\n",
      " 33. run of importance source...\n",
      " 34. run of importance source...\n",
      "After 34 iterations, +16 mins: \n",
      " rejected 2 attributes: NANOS3, OR7A10;\n",
      " still have 10 attributes left.\n",
      "\n",
      " 35. run of importance source...\n",
      " 36. run of importance source...\n",
      " 37. run of importance source...\n",
      " 38. run of importance source...\n",
      " 39. run of importance source...\n",
      " 40. run of importance source...\n",
      " 41. run of importance source...\n",
      " 42. run of importance source...\n",
      " 43. run of importance source...\n",
      " 44. run of importance source...\n",
      " 45. run of importance source...\n",
      " 46. run of importance source...\n",
      " 47. run of importance source...\n",
      " 48. run of importance source...\n",
      "After 48 iterations, +16 mins: \n",
      " rejected 1 attribute: TSR1;\n",
      " still have 9 attributes left.\n",
      "\n",
      " 49. run of importance source...\n",
      " 50. run of importance source...\n",
      " 51. run of importance source...\n",
      " 52. run of importance source...\n",
      " 53. run of importance source...\n",
      " 54. run of importance source...\n",
      " 55. run of importance source...\n",
      " 56. run of importance source...\n",
      " 57. run of importance source...\n",
      " 58. run of importance source...\n",
      " 59. run of importance source...\n",
      " 60. run of importance source...\n",
      " 61. run of importance source...\n",
      " 62. run of importance source...\n",
      " 63. run of importance source...\n",
      " 64. run of importance source...\n",
      " 65. run of importance source...\n",
      " 66. run of importance source...\n",
      " 67. run of importance source...\n",
      " 68. run of importance source...\n",
      " 69. run of importance source...\n",
      " 70. run of importance source...\n",
      " 71. run of importance source...\n",
      " 72. run of importance source...\n",
      " 73. run of importance source...\n",
      " 74. run of importance source...\n",
      " 75. run of importance source...\n",
      " 76. run of importance source...\n",
      " 77. run of importance source...\n",
      " 78. run of importance source...\n",
      " 79. run of importance source...\n",
      " 80. run of importance source...\n",
      " 81. run of importance source...\n",
      " 82. run of importance source...\n",
      " 83. run of importance source...\n",
      " 84. run of importance source...\n",
      " 85. run of importance source...\n",
      " 86. run of importance source...\n",
      "After 86 iterations, +16 mins: \n",
      " confirmed 2 attributes: CYP4F11, DDHD2;\n",
      " still have 7 attributes left.\n",
      "\n",
      " 87. run of importance source...\n",
      " 88. run of importance source...\n",
      "After 88 iterations, +16 mins: \n",
      " confirmed 1 attribute: QRICH1;\n",
      " still have 6 attributes left.\n",
      "\n",
      " 89. run of importance source...\n",
      " 90. run of importance source...\n",
      " 91. run of importance source...\n",
      "After 91 iterations, +16 mins: \n",
      " confirmed 1 attribute: CMTM6;\n",
      " still have 5 attributes left.\n",
      "\n",
      " 92. run of importance source...\n",
      " 93. run of importance source...\n",
      " 94. run of importance source...\n",
      " 95. run of importance source...\n",
      " 96. run of importance source...\n",
      "After 96 iterations, +16 mins: \n",
      " confirmed 1 attribute: UNC13A;\n",
      " still have 4 attributes left.\n",
      "\n",
      " 97. run of importance source...\n",
      " 98. run of importance source...\n",
      " 99. run of importance source...\n"
     ]
    },
    {
     "name": "stdout",
     "output_type": "stream",
     "text": [
      "\n",
      "Drug10: Boruta is running for PF2341066"
     ]
    },
    {
     "name": "stderr",
     "output_type": "stream",
     "text": [
      " 1. run of importance source...\n"
     ]
    },
    {
     "name": "stdout",
     "output_type": "stream",
     "text": [
      "Computing permutation importance.. Progress: 33%. Estimated remaining time: 1 minute, 3 seconds.\n",
      "Computing permutation importance.. Progress: 66%. Estimated remaining time: 31 seconds.\n",
      "Computing permutation importance.. Progress: 99%. Estimated remaining time: 0 seconds.\n"
     ]
    },
    {
     "name": "stderr",
     "output_type": "stream",
     "text": [
      " 2. run of importance source...\n"
     ]
    },
    {
     "name": "stdout",
     "output_type": "stream",
     "text": [
      "Computing permutation importance.. Progress: 34%. Estimated remaining time: 1 minute, 1 seconds.\n",
      "Computing permutation importance.. Progress: 68%. Estimated remaining time: 29 seconds.\n"
     ]
    },
    {
     "name": "stderr",
     "output_type": "stream",
     "text": [
      " 3. run of importance source...\n"
     ]
    },
    {
     "name": "stdout",
     "output_type": "stream",
     "text": [
      "Computing permutation importance.. Progress: 33%. Estimated remaining time: 1 minute, 1 seconds.\n",
      "Computing permutation importance.. Progress: 68%. Estimated remaining time: 29 seconds.\n"
     ]
    },
    {
     "name": "stderr",
     "output_type": "stream",
     "text": [
      " 4. run of importance source...\n"
     ]
    },
    {
     "name": "stdout",
     "output_type": "stream",
     "text": [
      "Computing permutation importance.. Progress: 33%. Estimated remaining time: 1 minute, 3 seconds.\n",
      "Computing permutation importance.. Progress: 65%. Estimated remaining time: 33 seconds.\n",
      "Computing permutation importance.. Progress: 98%. Estimated remaining time: 1 seconds.\n"
     ]
    },
    {
     "name": "stderr",
     "output_type": "stream",
     "text": [
      " 5. run of importance source...\n"
     ]
    },
    {
     "name": "stdout",
     "output_type": "stream",
     "text": [
      "Computing permutation importance.. Progress: 34%. Estimated remaining time: 59 seconds.\n",
      "Computing permutation importance.. Progress: 68%. Estimated remaining time: 29 seconds.\n"
     ]
    },
    {
     "name": "stderr",
     "output_type": "stream",
     "text": [
      " 6. run of importance source...\n"
     ]
    },
    {
     "name": "stdout",
     "output_type": "stream",
     "text": [
      "Computing permutation importance.. Progress: 33%. Estimated remaining time: 1 minute, 2 seconds.\n",
      "Computing permutation importance.. Progress: 67%. Estimated remaining time: 31 seconds.\n",
      "Computing permutation importance.. Progress: 100%. Estimated remaining time: 0 seconds.\n"
     ]
    },
    {
     "name": "stderr",
     "output_type": "stream",
     "text": [
      " 7. run of importance source...\n"
     ]
    },
    {
     "name": "stdout",
     "output_type": "stream",
     "text": [
      "Computing permutation importance.. Progress: 33%. Estimated remaining time: 1 minute, 1 seconds.\n",
      "Computing permutation importance.. Progress: 68%. Estimated remaining time: 29 seconds.\n"
     ]
    },
    {
     "name": "stderr",
     "output_type": "stream",
     "text": [
      " 8. run of importance source...\n"
     ]
    },
    {
     "name": "stdout",
     "output_type": "stream",
     "text": [
      "Computing permutation importance.. Progress: 33%. Estimated remaining time: 1 minute, 1 seconds.\n",
      "Computing permutation importance.. Progress: 68%. Estimated remaining time: 29 seconds.\n"
     ]
    },
    {
     "name": "stderr",
     "output_type": "stream",
     "text": [
      " 9. run of importance source...\n"
     ]
    },
    {
     "name": "stdout",
     "output_type": "stream",
     "text": [
      "Computing permutation importance.. Progress: 33%. Estimated remaining time: 1 minute, 1 seconds.\n",
      "Computing permutation importance.. Progress: 67%. Estimated remaining time: 30 seconds.\n"
     ]
    },
    {
     "name": "stderr",
     "output_type": "stream",
     "text": [
      " 10. run of importance source...\n"
     ]
    },
    {
     "name": "stdout",
     "output_type": "stream",
     "text": [
      "Computing permutation importance.. Progress: 34%. Estimated remaining time: 1 minute, 0 seconds.\n",
      "Computing permutation importance.. Progress: 68%. Estimated remaining time: 28 seconds.\n"
     ]
    },
    {
     "name": "stderr",
     "output_type": "stream",
     "text": [
      " 11. run of importance source...\n"
     ]
    },
    {
     "name": "stdout",
     "output_type": "stream",
     "text": [
      "Computing permutation importance.. Progress: 34%. Estimated remaining time: 59 seconds.\n",
      "Computing permutation importance.. Progress: 69%. Estimated remaining time: 28 seconds.\n"
     ]
    },
    {
     "name": "stderr",
     "output_type": "stream",
     "text": [
      " 12. run of importance source...\n"
     ]
    },
    {
     "name": "stdout",
     "output_type": "stream",
     "text": [
      "Computing permutation importance.. Progress: 35%. Estimated remaining time: 57 seconds.\n",
      "Computing permutation importance.. Progress: 70%. Estimated remaining time: 26 seconds.\n"
     ]
    },
    {
     "name": "stderr",
     "output_type": "stream",
     "text": [
      " 13. run of importance source...\n"
     ]
    },
    {
     "name": "stdout",
     "output_type": "stream",
     "text": [
      "Computing permutation importance.. Progress: 35%. Estimated remaining time: 58 seconds.\n",
      "Computing permutation importance.. Progress: 69%. Estimated remaining time: 27 seconds.\n"
     ]
    },
    {
     "name": "stderr",
     "output_type": "stream",
     "text": [
      " 14. run of importance source...\n"
     ]
    },
    {
     "name": "stdout",
     "output_type": "stream",
     "text": [
      "Computing permutation importance.. Progress: 35%. Estimated remaining time: 58 seconds.\n",
      "Computing permutation importance.. Progress: 68%. Estimated remaining time: 29 seconds.\n"
     ]
    },
    {
     "name": "stderr",
     "output_type": "stream",
     "text": [
      " 15. run of importance source...\n"
     ]
    },
    {
     "name": "stdout",
     "output_type": "stream",
     "text": [
      "Computing permutation importance.. Progress: 34%. Estimated remaining time: 1 minute, 0 seconds.\n",
      "Computing permutation importance.. Progress: 68%. Estimated remaining time: 28 seconds.\n"
     ]
    },
    {
     "name": "stderr",
     "output_type": "stream",
     "text": [
      " 16. run of importance source...\n"
     ]
    },
    {
     "name": "stdout",
     "output_type": "stream",
     "text": [
      "Computing permutation importance.. Progress: 34%. Estimated remaining time: 1 minute, 1 seconds.\n",
      "Computing permutation importance.. Progress: 68%. Estimated remaining time: 29 seconds.\n"
     ]
    },
    {
     "name": "stderr",
     "output_type": "stream",
     "text": [
      " 17. run of importance source...\n"
     ]
    },
    {
     "name": "stdout",
     "output_type": "stream",
     "text": [
      "Computing permutation importance.. Progress: 32%. Estimated remaining time: 1 minute, 4 seconds.\n",
      "Computing permutation importance.. Progress: 65%. Estimated remaining time: 32 seconds.\n",
      "Computing permutation importance.. Progress: 98%. Estimated remaining time: 2 seconds.\n"
     ]
    },
    {
     "name": "stderr",
     "output_type": "stream",
     "text": [
      " 18. run of importance source...\n"
     ]
    },
    {
     "name": "stdout",
     "output_type": "stream",
     "text": [
      "Computing permutation importance.. Progress: 33%. Estimated remaining time: 1 minute, 3 seconds.\n",
      "Computing permutation importance.. Progress: 67%. Estimated remaining time: 30 seconds.\n"
     ]
    },
    {
     "name": "stderr",
     "output_type": "stream",
     "text": [
      " 19. run of importance source...\n"
     ]
    },
    {
     "name": "stdout",
     "output_type": "stream",
     "text": [
      "Computing permutation importance.. Progress: 33%. Estimated remaining time: 1 minute, 4 seconds.\n",
      "Computing permutation importance.. Progress: 68%. Estimated remaining time: 29 seconds.\n"
     ]
    },
    {
     "name": "stderr",
     "output_type": "stream",
     "text": [
      " 20. run of importance source...\n"
     ]
    },
    {
     "name": "stdout",
     "output_type": "stream",
     "text": [
      "Computing permutation importance.. Progress: 34%. Estimated remaining time: 59 seconds.\n",
      "Computing permutation importance.. Progress: 68%. Estimated remaining time: 28 seconds.\n"
     ]
    },
    {
     "name": "stderr",
     "output_type": "stream",
     "text": [
      " 21. run of importance source...\n"
     ]
    },
    {
     "name": "stdout",
     "output_type": "stream",
     "text": [
      "Computing permutation importance.. Progress: 34%. Estimated remaining time: 59 seconds.\n",
      "Computing permutation importance.. Progress: 68%. Estimated remaining time: 28 seconds.\n"
     ]
    },
    {
     "name": "stderr",
     "output_type": "stream",
     "text": [
      "After 21 iterations, +34 mins: \n",
      " rejected 20155 attributes: A1BG, A1BG-AS1, A1CF, A2M, A2M-AS1 and 20150 more;\n",
      " still have 19 attributes left.\n",
      "\n",
      " 22. run of importance source...\n",
      " 23. run of importance source...\n",
      " 24. run of importance source...\n",
      " 25. run of importance source...\n",
      " 26. run of importance source...\n",
      " 27. run of importance source...\n",
      " 28. run of importance source...\n",
      " 29. run of importance source...\n",
      " 30. run of importance source...\n",
      " 31. run of importance source...\n",
      " 32. run of importance source...\n",
      " 33. run of importance source...\n",
      " 34. run of importance source...\n",
      " 35. run of importance source...\n",
      " 36. run of importance source...\n",
      " 37. run of importance source...\n",
      " 38. run of importance source...\n",
      " 39. run of importance source...\n",
      " 40. run of importance source...\n",
      " 41. run of importance source...\n",
      " 42. run of importance source...\n",
      " 43. run of importance source...\n",
      " 44. run of importance source...\n",
      " 45. run of importance source...\n",
      " 46. run of importance source...\n",
      " 47. run of importance source...\n",
      " 48. run of importance source...\n",
      " 49. run of importance source...\n",
      " 50. run of importance source...\n",
      " 51. run of importance source...\n",
      " 52. run of importance source...\n",
      " 53. run of importance source...\n",
      " 54. run of importance source...\n",
      "After 54 iterations, +34 mins: \n",
      " rejected 1 attribute: KRI1;\n",
      " still have 18 attributes left.\n",
      "\n",
      " 55. run of importance source...\n",
      " 56. run of importance source...\n",
      " 57. run of importance source...\n",
      " 58. run of importance source...\n",
      " 59. run of importance source...\n",
      " 60. run of importance source...\n",
      " 61. run of importance source...\n",
      " 62. run of importance source...\n",
      " 63. run of importance source...\n",
      " 64. run of importance source...\n",
      " 65. run of importance source...\n",
      " 66. run of importance source...\n",
      " 67. run of importance source...\n",
      " 68. run of importance source...\n",
      " 69. run of importance source...\n",
      " 70. run of importance source...\n",
      " 71. run of importance source...\n",
      " 72. run of importance source...\n",
      " 73. run of importance source...\n",
      " 74. run of importance source...\n",
      " 75. run of importance source...\n",
      " 76. run of importance source...\n",
      " 77. run of importance source...\n",
      "After 77 iterations, +35 mins: \n",
      " confirmed 1 attribute: OSBPL10;\n",
      " still have 17 attributes left.\n",
      "\n",
      " 78. run of importance source...\n",
      " 79. run of importance source...\n",
      " 80. run of importance source...\n",
      " 81. run of importance source...\n",
      " 82. run of importance source...\n",
      " 83. run of importance source...\n",
      " 84. run of importance source...\n",
      " 85. run of importance source...\n",
      " 86. run of importance source...\n",
      "After 86 iterations, +35 mins: \n",
      " confirmed 3 attributes: DTNB, NAT10, SRRT;\n",
      " still have 14 attributes left.\n",
      "\n",
      " 87. run of importance source...\n",
      " 88. run of importance source...\n",
      "After 88 iterations, +35 mins: \n",
      " confirmed 1 attribute: SYNGR3;\n",
      " still have 13 attributes left.\n",
      "\n",
      " 89. run of importance source...\n",
      " 90. run of importance source...\n",
      " 91. run of importance source...\n",
      "After 91 iterations, +35 mins: \n",
      " confirmed 1 attribute: PLXDC1;\n",
      " still have 12 attributes left.\n",
      "\n",
      " 92. run of importance source...\n",
      " 93. run of importance source...\n",
      " 94. run of importance source...\n",
      " 95. run of importance source...\n",
      " 96. run of importance source...\n",
      " 97. run of importance source...\n",
      " 98. run of importance source...\n",
      " 99. run of importance source...\n"
     ]
    },
    {
     "name": "stdout",
     "output_type": "stream",
     "text": [
      "\n",
      "Drug11: Boruta is running for 17-AAG"
     ]
    },
    {
     "name": "stderr",
     "output_type": "stream",
     "text": [
      " 1. run of importance source...\n"
     ]
    },
    {
     "name": "stdout",
     "output_type": "stream",
     "text": [
      "Computing permutation importance.. Progress: 25%. Estimated remaining time: 1 minute, 33 seconds.\n",
      "Computing permutation importance.. Progress: 51%. Estimated remaining time: 59 seconds.\n",
      "Computing permutation importance.. Progress: 77%. Estimated remaining time: 28 seconds.\n"
     ]
    },
    {
     "name": "stderr",
     "output_type": "stream",
     "text": [
      " 2. run of importance source...\n"
     ]
    },
    {
     "name": "stdout",
     "output_type": "stream",
     "text": [
      "Computing permutation importance.. Progress: 25%. Estimated remaining time: 1 minute, 32 seconds.\n",
      "Computing permutation importance.. Progress: 51%. Estimated remaining time: 1 minute, 0 seconds.\n",
      "Computing permutation importance.. Progress: 76%. Estimated remaining time: 28 seconds.\n"
     ]
    },
    {
     "name": "stderr",
     "output_type": "stream",
     "text": [
      " 3. run of importance source...\n"
     ]
    },
    {
     "name": "stdout",
     "output_type": "stream",
     "text": [
      "Computing permutation importance.. Progress: 26%. Estimated remaining time: 1 minute, 30 seconds.\n",
      "Computing permutation importance.. Progress: 51%. Estimated remaining time: 58 seconds.\n",
      "Computing permutation importance.. Progress: 77%. Estimated remaining time: 27 seconds.\n"
     ]
    },
    {
     "name": "stderr",
     "output_type": "stream",
     "text": [
      " 4. run of importance source...\n"
     ]
    },
    {
     "name": "stdout",
     "output_type": "stream",
     "text": [
      "Computing permutation importance.. Progress: 24%. Estimated remaining time: 1 minute, 37 seconds.\n",
      "Computing permutation importance.. Progress: 50%. Estimated remaining time: 1 minute, 3 seconds.\n",
      "Computing permutation importance.. Progress: 75%. Estimated remaining time: 31 seconds.\n",
      "Computing permutation importance.. Progress: 100%. Estimated remaining time: 0 seconds.\n"
     ]
    },
    {
     "name": "stderr",
     "output_type": "stream",
     "text": [
      " 5. run of importance source...\n"
     ]
    },
    {
     "name": "stdout",
     "output_type": "stream",
     "text": [
      "Computing permutation importance.. Progress: 26%. Estimated remaining time: 1 minute, 30 seconds.\n",
      "Computing permutation importance.. Progress: 51%. Estimated remaining time: 1 minute, 0 seconds.\n",
      "Computing permutation importance.. Progress: 77%. Estimated remaining time: 28 seconds.\n"
     ]
    },
    {
     "name": "stderr",
     "output_type": "stream",
     "text": [
      " 6. run of importance source...\n"
     ]
    },
    {
     "name": "stdout",
     "output_type": "stream",
     "text": [
      "Computing permutation importance.. Progress: 24%. Estimated remaining time: 1 minute, 36 seconds.\n",
      "Computing permutation importance.. Progress: 49%. Estimated remaining time: 1 minute, 3 seconds.\n",
      "Computing permutation importance.. Progress: 75%. Estimated remaining time: 31 seconds.\n",
      "Computing permutation importance.. Progress: 99%. Estimated remaining time: 0 seconds.\n"
     ]
    },
    {
     "name": "stderr",
     "output_type": "stream",
     "text": [
      " 7. run of importance source...\n"
     ]
    },
    {
     "name": "stdout",
     "output_type": "stream",
     "text": [
      "Computing permutation importance.. Progress: 25%. Estimated remaining time: 1 minute, 33 seconds.\n",
      "Computing permutation importance.. Progress: 51%. Estimated remaining time: 59 seconds.\n",
      "Computing permutation importance.. Progress: 76%. Estimated remaining time: 29 seconds.\n"
     ]
    },
    {
     "name": "stderr",
     "output_type": "stream",
     "text": [
      " 8. run of importance source...\n"
     ]
    },
    {
     "name": "stdout",
     "output_type": "stream",
     "text": [
      "Computing permutation importance.. Progress: 25%. Estimated remaining time: 1 minute, 31 seconds.\n",
      "Computing permutation importance.. Progress: 51%. Estimated remaining time: 1 minute, 0 seconds.\n",
      "Computing permutation importance.. Progress: 77%. Estimated remaining time: 28 seconds.\n"
     ]
    },
    {
     "name": "stderr",
     "output_type": "stream",
     "text": [
      " 9. run of importance source...\n"
     ]
    },
    {
     "name": "stdout",
     "output_type": "stream",
     "text": [
      "Computing permutation importance.. Progress: 25%. Estimated remaining time: 1 minute, 34 seconds.\n",
      "Computing permutation importance.. Progress: 50%. Estimated remaining time: 1 minute, 1 seconds.\n",
      "Computing permutation importance.. Progress: 76%. Estimated remaining time: 30 seconds.\n"
     ]
    },
    {
     "name": "stderr",
     "output_type": "stream",
     "text": [
      " 10. run of importance source...\n"
     ]
    },
    {
     "name": "stdout",
     "output_type": "stream",
     "text": [
      "Computing permutation importance.. Progress: 26%. Estimated remaining time: 1 minute, 30 seconds.\n",
      "Computing permutation importance.. Progress: 51%. Estimated remaining time: 59 seconds.\n",
      "Computing permutation importance.. Progress: 77%. Estimated remaining time: 28 seconds.\n"
     ]
    },
    {
     "name": "stderr",
     "output_type": "stream",
     "text": [
      " 11. run of importance source...\n"
     ]
    },
    {
     "name": "stdout",
     "output_type": "stream",
     "text": [
      "Computing permutation importance.. Progress: 25%. Estimated remaining time: 1 minute, 34 seconds.\n",
      "Computing permutation importance.. Progress: 50%. Estimated remaining time: 1 minute, 1 seconds.\n",
      "Computing permutation importance.. Progress: 76%. Estimated remaining time: 29 seconds.\n"
     ]
    },
    {
     "name": "stderr",
     "output_type": "stream",
     "text": [
      " 12. run of importance source...\n"
     ]
    },
    {
     "name": "stdout",
     "output_type": "stream",
     "text": [
      "Computing permutation importance.. Progress: 26%. Estimated remaining time: 1 minute, 30 seconds.\n",
      "Computing permutation importance.. Progress: 51%. Estimated remaining time: 59 seconds.\n",
      "Computing permutation importance.. Progress: 77%. Estimated remaining time: 27 seconds.\n"
     ]
    },
    {
     "name": "stderr",
     "output_type": "stream",
     "text": [
      " 13. run of importance source...\n"
     ]
    },
    {
     "name": "stdout",
     "output_type": "stream",
     "text": [
      "Computing permutation importance.. Progress: 26%. Estimated remaining time: 1 minute, 29 seconds.\n",
      "Computing permutation importance.. Progress: 52%. Estimated remaining time: 58 seconds.\n",
      "Computing permutation importance.. Progress: 77%. Estimated remaining time: 27 seconds.\n"
     ]
    },
    {
     "name": "stderr",
     "output_type": "stream",
     "text": [
      " 14. run of importance source...\n"
     ]
    },
    {
     "name": "stdout",
     "output_type": "stream",
     "text": [
      "Computing permutation importance.. Progress: 25%. Estimated remaining time: 1 minute, 34 seconds.\n",
      "Computing permutation importance.. Progress: 50%. Estimated remaining time: 1 minute, 1 seconds.\n",
      "Computing permutation importance.. Progress: 76%. Estimated remaining time: 29 seconds.\n"
     ]
    },
    {
     "name": "stderr",
     "output_type": "stream",
     "text": [
      " 15. run of importance source...\n"
     ]
    },
    {
     "name": "stdout",
     "output_type": "stream",
     "text": [
      "Computing permutation importance.. Progress: 26%. Estimated remaining time: 1 minute, 30 seconds.\n",
      "Computing permutation importance.. Progress: 51%. Estimated remaining time: 1 minute, 0 seconds.\n",
      "Computing permutation importance.. Progress: 77%. Estimated remaining time: 28 seconds.\n"
     ]
    },
    {
     "name": "stderr",
     "output_type": "stream",
     "text": [
      " 16. run of importance source...\n"
     ]
    },
    {
     "name": "stdout",
     "output_type": "stream",
     "text": [
      "Computing permutation importance.. Progress: 25%. Estimated remaining time: 1 minute, 33 seconds.\n",
      "Computing permutation importance.. Progress: 51%. Estimated remaining time: 59 seconds.\n",
      "Computing permutation importance.. Progress: 77%. Estimated remaining time: 28 seconds.\n"
     ]
    },
    {
     "name": "stderr",
     "output_type": "stream",
     "text": [
      " 17. run of importance source...\n"
     ]
    },
    {
     "name": "stdout",
     "output_type": "stream",
     "text": [
      "Computing permutation importance.. Progress: 25%. Estimated remaining time: 1 minute, 33 seconds.\n",
      "Computing permutation importance.. Progress: 51%. Estimated remaining time: 59 seconds.\n",
      "Computing permutation importance.. Progress: 77%. Estimated remaining time: 27 seconds.\n"
     ]
    },
    {
     "name": "stderr",
     "output_type": "stream",
     "text": [
      " 18. run of importance source...\n"
     ]
    },
    {
     "name": "stdout",
     "output_type": "stream",
     "text": [
      "Computing permutation importance.. Progress: 25%. Estimated remaining time: 1 minute, 34 seconds.\n",
      "Computing permutation importance.. Progress: 50%. Estimated remaining time: 1 minute, 1 seconds.\n",
      "Computing permutation importance.. Progress: 76%. Estimated remaining time: 28 seconds.\n"
     ]
    },
    {
     "name": "stderr",
     "output_type": "stream",
     "text": [
      " 19. run of importance source...\n"
     ]
    },
    {
     "name": "stdout",
     "output_type": "stream",
     "text": [
      "Computing permutation importance.. Progress: 25%. Estimated remaining time: 1 minute, 32 seconds.\n",
      "Computing permutation importance.. Progress: 51%. Estimated remaining time: 58 seconds.\n",
      "Computing permutation importance.. Progress: 77%. Estimated remaining time: 27 seconds.\n"
     ]
    },
    {
     "name": "stderr",
     "output_type": "stream",
     "text": [
      " 20. run of importance source...\n"
     ]
    },
    {
     "name": "stdout",
     "output_type": "stream",
     "text": [
      "Computing permutation importance.. Progress: 26%. Estimated remaining time: 1 minute, 30 seconds.\n",
      "Computing permutation importance.. Progress: 51%. Estimated remaining time: 58 seconds.\n",
      "Computing permutation importance.. Progress: 76%. Estimated remaining time: 29 seconds.\n"
     ]
    },
    {
     "name": "stderr",
     "output_type": "stream",
     "text": [
      " 21. run of importance source...\n"
     ]
    },
    {
     "name": "stdout",
     "output_type": "stream",
     "text": [
      "Computing permutation importance.. Progress: 25%. Estimated remaining time: 1 minute, 34 seconds.\n",
      "Computing permutation importance.. Progress: 50%. Estimated remaining time: 1 minute, 1 seconds.\n",
      "Computing permutation importance.. Progress: 76%. Estimated remaining time: 29 seconds.\n"
     ]
    },
    {
     "name": "stderr",
     "output_type": "stream",
     "text": [
      "After 21 iterations, +45 mins: \n",
      " rejected 20151 attributes: A1BG, A1BG-AS1, A1CF, A2M, A2M-AS1 and 20146 more;\n",
      " still have 23 attributes left.\n",
      "\n",
      " 22. run of importance source...\n",
      " 23. run of importance source...\n",
      " 24. run of importance source...\n",
      " 25. run of importance source...\n",
      " 26. run of importance source...\n",
      "After 26 iterations, +45 mins: \n",
      " rejected 5 attributes: BDNF, BEST3, RAB27B, SANBR, SH3GL3;\n",
      " still have 18 attributes left.\n",
      "\n",
      " 27. run of importance source...\n",
      " 28. run of importance source...\n",
      " 29. run of importance source...\n",
      " 30. run of importance source...\n",
      " 31. run of importance source...\n",
      " 32. run of importance source...\n",
      " 33. run of importance source...\n",
      " 34. run of importance source...\n",
      "After 34 iterations, +45 mins: \n",
      " rejected 1 attribute: THRA;\n",
      " still have 17 attributes left.\n",
      "\n",
      " 35. run of importance source...\n",
      " 36. run of importance source...\n",
      " 37. run of importance source...\n",
      " 38. run of importance source...\n",
      " 39. run of importance source...\n",
      " 40. run of importance source...\n",
      " 41. run of importance source...\n",
      " 42. run of importance source...\n",
      " 43. run of importance source...\n",
      " 44. run of importance source...\n",
      "After 44 iterations, +46 mins: \n",
      " rejected 1 attribute: TUT7;\n",
      " still have 16 attributes left.\n",
      "\n",
      " 45. run of importance source...\n",
      " 46. run of importance source...\n",
      " 47. run of importance source...\n",
      " 48. run of importance source...\n",
      " 49. run of importance source...\n",
      " 50. run of importance source...\n",
      " 51. run of importance source...\n",
      " 52. run of importance source...\n",
      " 53. run of importance source...\n",
      " 54. run of importance source...\n",
      " 55. run of importance source...\n",
      " 56. run of importance source...\n",
      " 57. run of importance source...\n",
      " 58. run of importance source...\n",
      " 59. run of importance source...\n",
      " 60. run of importance source...\n",
      " 61. run of importance source...\n",
      " 62. run of importance source...\n",
      " 63. run of importance source...\n",
      " 64. run of importance source...\n",
      " 65. run of importance source...\n",
      " 66. run of importance source...\n",
      " 67. run of importance source...\n",
      " 68. run of importance source...\n",
      " 69. run of importance source...\n",
      " 70. run of importance source...\n",
      " 71. run of importance source...\n",
      " 72. run of importance source...\n",
      " 73. run of importance source...\n",
      " 74. run of importance source...\n",
      " 75. run of importance source...\n",
      " 76. run of importance source...\n",
      " 77. run of importance source...\n",
      "After 77 iterations, +46 mins: \n",
      " confirmed 1 attribute: KMT2E;\n",
      " still have 15 attributes left.\n",
      "\n",
      " 78. run of importance source...\n",
      " 79. run of importance source...\n",
      " 80. run of importance source...\n",
      "After 80 iterations, +46 mins: \n",
      " confirmed 2 attributes: IPO8, SEZ6L2;\n",
      " still have 13 attributes left.\n",
      "\n",
      " 81. run of importance source...\n",
      " 82. run of importance source...\n",
      " 83. run of importance source...\n",
      "After 83 iterations, +46 mins: \n",
      " confirmed 2 attributes: HCN4, LOC100129034;\n",
      " still have 11 attributes left.\n",
      "\n",
      " 84. run of importance source...\n",
      " 85. run of importance source...\n",
      " 86. run of importance source...\n",
      "After 86 iterations, +46 mins: \n",
      " confirmed 1 attribute: ZNF420;\n",
      " still have 10 attributes left.\n",
      "\n",
      " 87. run of importance source...\n",
      " 88. run of importance source...\n",
      "After 88 iterations, +46 mins: \n",
      " confirmed 1 attribute: SEC61A2;\n",
      " still have 9 attributes left.\n",
      "\n",
      " 89. run of importance source...\n",
      " 90. run of importance source...\n",
      " 91. run of importance source...\n",
      " 92. run of importance source...\n",
      " 93. run of importance source...\n",
      " 94. run of importance source...\n",
      " 95. run of importance source...\n",
      " 96. run of importance source...\n",
      " 97. run of importance source...\n",
      " 98. run of importance source...\n",
      " 99. run of importance source...\n"
     ]
    },
    {
     "name": "stdout",
     "output_type": "stream",
     "text": [
      "\n",
      "Drug12: Boruta is running for AZD0530"
     ]
    },
    {
     "name": "stderr",
     "output_type": "stream",
     "text": [
      " 1. run of importance source...\n"
     ]
    },
    {
     "name": "stdout",
     "output_type": "stream",
     "text": [
      "Computing permutation importance.. Progress: 43%. Estimated remaining time: 41 seconds.\n",
      "Computing permutation importance.. Progress: 86%. Estimated remaining time: 10 seconds.\n"
     ]
    },
    {
     "name": "stderr",
     "output_type": "stream",
     "text": [
      " 2. run of importance source...\n"
     ]
    },
    {
     "name": "stdout",
     "output_type": "stream",
     "text": [
      "Computing permutation importance.. Progress: 45%. Estimated remaining time: 38 seconds.\n",
      "Computing permutation importance.. Progress: 90%. Estimated remaining time: 6 seconds.\n"
     ]
    },
    {
     "name": "stderr",
     "output_type": "stream",
     "text": [
      " 3. run of importance source...\n"
     ]
    },
    {
     "name": "stdout",
     "output_type": "stream",
     "text": [
      "Computing permutation importance.. Progress: 44%. Estimated remaining time: 38 seconds.\n",
      "Computing permutation importance.. Progress: 90%. Estimated remaining time: 7 seconds.\n"
     ]
    },
    {
     "name": "stderr",
     "output_type": "stream",
     "text": [
      " 4. run of importance source...\n"
     ]
    },
    {
     "name": "stdout",
     "output_type": "stream",
     "text": [
      "Computing permutation importance.. Progress: 43%. Estimated remaining time: 41 seconds.\n",
      "Computing permutation importance.. Progress: 87%. Estimated remaining time: 9 seconds.\n"
     ]
    },
    {
     "name": "stderr",
     "output_type": "stream",
     "text": [
      " 5. run of importance source...\n"
     ]
    },
    {
     "name": "stdout",
     "output_type": "stream",
     "text": [
      "Computing permutation importance.. Progress: 44%. Estimated remaining time: 39 seconds.\n",
      "Computing permutation importance.. Progress: 88%. Estimated remaining time: 8 seconds.\n"
     ]
    },
    {
     "name": "stderr",
     "output_type": "stream",
     "text": [
      " 6. run of importance source...\n"
     ]
    },
    {
     "name": "stdout",
     "output_type": "stream",
     "text": [
      "Computing permutation importance.. Progress: 43%. Estimated remaining time: 40 seconds.\n",
      "Computing permutation importance.. Progress: 87%. Estimated remaining time: 9 seconds.\n"
     ]
    },
    {
     "name": "stderr",
     "output_type": "stream",
     "text": [
      " 7. run of importance source...\n"
     ]
    },
    {
     "name": "stdout",
     "output_type": "stream",
     "text": [
      "Computing permutation importance.. Progress: 44%. Estimated remaining time: 39 seconds.\n",
      "Computing permutation importance.. Progress: 87%. Estimated remaining time: 9 seconds.\n"
     ]
    },
    {
     "name": "stderr",
     "output_type": "stream",
     "text": [
      " 8. run of importance source...\n"
     ]
    },
    {
     "name": "stdout",
     "output_type": "stream",
     "text": [
      "Computing permutation importance.. Progress: 43%. Estimated remaining time: 40 seconds.\n",
      "Computing permutation importance.. Progress: 87%. Estimated remaining time: 8 seconds.\n"
     ]
    },
    {
     "name": "stderr",
     "output_type": "stream",
     "text": [
      " 9. run of importance source...\n"
     ]
    },
    {
     "name": "stdout",
     "output_type": "stream",
     "text": [
      "Computing permutation importance.. Progress: 42%. Estimated remaining time: 43 seconds.\n",
      "Computing permutation importance.. Progress: 85%. Estimated remaining time: 10 seconds.\n"
     ]
    },
    {
     "name": "stderr",
     "output_type": "stream",
     "text": [
      " 10. run of importance source...\n"
     ]
    },
    {
     "name": "stdout",
     "output_type": "stream",
     "text": [
      "Computing permutation importance.. Progress: 43%. Estimated remaining time: 41 seconds.\n",
      "Computing permutation importance.. Progress: 86%. Estimated remaining time: 10 seconds.\n"
     ]
    },
    {
     "name": "stderr",
     "output_type": "stream",
     "text": [
      " 11. run of importance source...\n"
     ]
    },
    {
     "name": "stdout",
     "output_type": "stream",
     "text": [
      "Computing permutation importance.. Progress: 42%. Estimated remaining time: 43 seconds.\n",
      "Computing permutation importance.. Progress: 85%. Estimated remaining time: 10 seconds.\n"
     ]
    },
    {
     "name": "stderr",
     "output_type": "stream",
     "text": [
      " 12. run of importance source...\n"
     ]
    },
    {
     "name": "stdout",
     "output_type": "stream",
     "text": [
      "Computing permutation importance.. Progress: 43%. Estimated remaining time: 40 seconds.\n",
      "Computing permutation importance.. Progress: 87%. Estimated remaining time: 9 seconds.\n"
     ]
    },
    {
     "name": "stderr",
     "output_type": "stream",
     "text": [
      " 13. run of importance source...\n"
     ]
    },
    {
     "name": "stdout",
     "output_type": "stream",
     "text": [
      "Computing permutation importance.. Progress: 44%. Estimated remaining time: 39 seconds.\n",
      "Computing permutation importance.. Progress: 88%. Estimated remaining time: 8 seconds.\n"
     ]
    },
    {
     "name": "stderr",
     "output_type": "stream",
     "text": [
      " 14. run of importance source...\n"
     ]
    },
    {
     "name": "stdout",
     "output_type": "stream",
     "text": [
      "Computing permutation importance.. Progress: 45%. Estimated remaining time: 37 seconds.\n",
      "Computing permutation importance.. Progress: 90%. Estimated remaining time: 7 seconds.\n"
     ]
    },
    {
     "name": "stderr",
     "output_type": "stream",
     "text": [
      " 15. run of importance source...\n"
     ]
    },
    {
     "name": "stdout",
     "output_type": "stream",
     "text": [
      "Computing permutation importance.. Progress: 43%. Estimated remaining time: 41 seconds.\n",
      "Computing permutation importance.. Progress: 88%. Estimated remaining time: 8 seconds.\n"
     ]
    },
    {
     "name": "stderr",
     "output_type": "stream",
     "text": [
      " 16. run of importance source...\n"
     ]
    },
    {
     "name": "stdout",
     "output_type": "stream",
     "text": [
      "Computing permutation importance.. Progress: 43%. Estimated remaining time: 41 seconds.\n",
      "Computing permutation importance.. Progress: 87%. Estimated remaining time: 9 seconds.\n"
     ]
    },
    {
     "name": "stderr",
     "output_type": "stream",
     "text": [
      " 17. run of importance source...\n"
     ]
    },
    {
     "name": "stdout",
     "output_type": "stream",
     "text": [
      "Computing permutation importance.. Progress: 43%. Estimated remaining time: 40 seconds.\n",
      "Computing permutation importance.. Progress: 88%. Estimated remaining time: 8 seconds.\n"
     ]
    },
    {
     "name": "stderr",
     "output_type": "stream",
     "text": [
      " 18. run of importance source...\n"
     ]
    },
    {
     "name": "stdout",
     "output_type": "stream",
     "text": [
      "Computing permutation importance.. Progress: 44%. Estimated remaining time: 40 seconds.\n",
      "Computing permutation importance.. Progress: 87%. Estimated remaining time: 9 seconds.\n"
     ]
    },
    {
     "name": "stderr",
     "output_type": "stream",
     "text": [
      " 19. run of importance source...\n"
     ]
    },
    {
     "name": "stdout",
     "output_type": "stream",
     "text": [
      "Computing permutation importance.. Progress: 42%. Estimated remaining time: 42 seconds.\n",
      "Computing permutation importance.. Progress: 86%. Estimated remaining time: 10 seconds.\n"
     ]
    },
    {
     "name": "stderr",
     "output_type": "stream",
     "text": [
      " 20. run of importance source...\n"
     ]
    },
    {
     "name": "stdout",
     "output_type": "stream",
     "text": [
      "Computing permutation importance.. Progress: 43%. Estimated remaining time: 40 seconds.\n",
      "Computing permutation importance.. Progress: 87%. Estimated remaining time: 9 seconds.\n"
     ]
    },
    {
     "name": "stderr",
     "output_type": "stream",
     "text": [
      " 21. run of importance source...\n"
     ]
    },
    {
     "name": "stdout",
     "output_type": "stream",
     "text": [
      "Computing permutation importance.. Progress: 43%. Estimated remaining time: 41 seconds.\n",
      "Computing permutation importance.. Progress: 88%. Estimated remaining time: 8 seconds.\n"
     ]
    },
    {
     "name": "stderr",
     "output_type": "stream",
     "text": [
      "After 21 iterations, +27 mins: \n",
      " rejected 20146 attributes: A1BG, A1BG-AS1, A1CF, A2M, A2M-AS1 and 20141 more;\n",
      " still have 28 attributes left.\n",
      "\n",
      " 22. run of importance source...\n",
      " 23. run of importance source...\n",
      " 24. run of importance source...\n",
      " 25. run of importance source...\n",
      " 26. run of importance source...\n",
      "After 26 iterations, +27 mins: \n",
      " rejected 5 attributes: C9orf24, LINC02012, LOC105370549, LOC339666, MUC6;\n",
      " still have 23 attributes left.\n",
      "\n",
      " 27. run of importance source...\n",
      " 28. run of importance source...\n",
      " 29. run of importance source...\n",
      " 30. run of importance source...\n",
      " 31. run of importance source...\n",
      " 32. run of importance source...\n",
      " 33. run of importance source...\n",
      " 34. run of importance source...\n",
      " 35. run of importance source...\n",
      " 36. run of importance source...\n",
      " 37. run of importance source...\n",
      " 38. run of importance source...\n",
      " 39. run of importance source...\n",
      " 40. run of importance source...\n",
      " 41. run of importance source...\n",
      "After 41 iterations, +27 mins: \n",
      " rejected 1 attribute: MDGA1;\n",
      " still have 22 attributes left.\n",
      "\n",
      " 42. run of importance source...\n",
      " 43. run of importance source...\n",
      " 44. run of importance source...\n",
      " 45. run of importance source...\n",
      " 46. run of importance source...\n",
      " 47. run of importance source...\n",
      " 48. run of importance source...\n",
      " 49. run of importance source...\n",
      " 50. run of importance source...\n",
      " 51. run of importance source...\n",
      " 52. run of importance source...\n",
      " 53. run of importance source...\n",
      " 54. run of importance source...\n",
      " 55. run of importance source...\n",
      " 56. run of importance source...\n",
      " 57. run of importance source...\n",
      "After 57 iterations, +27 mins: \n",
      " rejected 1 attribute: BMAL2;\n",
      " still have 21 attributes left.\n",
      "\n",
      " 58. run of importance source...\n",
      " 59. run of importance source...\n",
      " 60. run of importance source...\n",
      " 61. run of importance source...\n",
      " 62. run of importance source...\n",
      " 63. run of importance source...\n",
      " 64. run of importance source...\n",
      " 65. run of importance source...\n",
      " 66. run of importance source...\n",
      " 67. run of importance source...\n",
      " 68. run of importance source...\n",
      " 69. run of importance source...\n",
      " 70. run of importance source...\n",
      " 71. run of importance source...\n",
      " 72. run of importance source...\n",
      " 73. run of importance source...\n",
      " 74. run of importance source...\n",
      " 75. run of importance source...\n",
      " 76. run of importance source...\n",
      " 77. run of importance source...\n",
      " 78. run of importance source...\n",
      " 79. run of importance source...\n",
      " 80. run of importance source...\n",
      " 81. run of importance source...\n",
      " 82. run of importance source...\n",
      " 83. run of importance source...\n",
      "After 83 iterations, +27 mins: \n",
      " confirmed 2 attributes: CARD6, PLCXD2;\n",
      " still have 19 attributes left.\n",
      "\n",
      " 84. run of importance source...\n",
      " 85. run of importance source...\n",
      " 86. run of importance source...\n",
      "After 86 iterations, +27 mins: \n",
      " confirmed 4 attributes: CD247, GCSIR, IL1RN, TENT4B;\n",
      " still have 15 attributes left.\n",
      "\n",
      " 87. run of importance source...\n",
      " 88. run of importance source...\n",
      "After 88 iterations, +27 mins: \n",
      " confirmed 1 attribute: SEC61A2;\n",
      " still have 14 attributes left.\n",
      "\n",
      " 89. run of importance source...\n",
      " 90. run of importance source...\n",
      " 91. run of importance source...\n",
      "After 91 iterations, +27 mins: \n",
      " confirmed 3 attributes: ACE2, NR2C2, WBSCR23;\n",
      " still have 11 attributes left.\n",
      "\n",
      " 92. run of importance source...\n",
      " 93. run of importance source...\n",
      " 94. run of importance source...\n",
      "After 94 iterations, +27 mins: \n",
      " confirmed 2 attributes: FYN, SLC1A1;\n",
      " still have 9 attributes left.\n",
      "\n",
      " 95. run of importance source...\n",
      " 96. run of importance source...\n",
      " 97. run of importance source...\n",
      " 98. run of importance source...\n",
      " 99. run of importance source...\n"
     ]
    },
    {
     "name": "stdout",
     "output_type": "stream",
     "text": [
      "\n",
      "Drug13: Boruta is running for ZD-6474"
     ]
    },
    {
     "name": "stderr",
     "output_type": "stream",
     "text": [
      " 1. run of importance source...\n"
     ]
    },
    {
     "name": "stdout",
     "output_type": "stream",
     "text": [
      "Computing permutation importance.. Progress: 52%. Estimated remaining time: 29 seconds.\n"
     ]
    },
    {
     "name": "stderr",
     "output_type": "stream",
     "text": [
      " 2. run of importance source...\n"
     ]
    },
    {
     "name": "stdout",
     "output_type": "stream",
     "text": [
      "Computing permutation importance.. Progress: 52%. Estimated remaining time: 28 seconds.\n"
     ]
    },
    {
     "name": "stderr",
     "output_type": "stream",
     "text": [
      " 3. run of importance source...\n"
     ]
    },
    {
     "name": "stdout",
     "output_type": "stream",
     "text": [
      "Computing permutation importance.. Progress: 51%. Estimated remaining time: 29 seconds.\n"
     ]
    },
    {
     "name": "stderr",
     "output_type": "stream",
     "text": [
      " 4. run of importance source...\n"
     ]
    },
    {
     "name": "stdout",
     "output_type": "stream",
     "text": [
      "Computing permutation importance.. Progress: 52%. Estimated remaining time: 29 seconds.\n"
     ]
    },
    {
     "name": "stderr",
     "output_type": "stream",
     "text": [
      " 5. run of importance source...\n"
     ]
    },
    {
     "name": "stdout",
     "output_type": "stream",
     "text": [
      "Computing permutation importance.. Progress: 52%. Estimated remaining time: 28 seconds.\n"
     ]
    },
    {
     "name": "stderr",
     "output_type": "stream",
     "text": [
      " 6. run of importance source...\n"
     ]
    },
    {
     "name": "stdout",
     "output_type": "stream",
     "text": [
      "Computing permutation importance.. Progress: 52%. Estimated remaining time: 28 seconds.\n"
     ]
    },
    {
     "name": "stderr",
     "output_type": "stream",
     "text": [
      " 7. run of importance source...\n"
     ]
    },
    {
     "name": "stdout",
     "output_type": "stream",
     "text": [
      "Computing permutation importance.. Progress: 51%. Estimated remaining time: 29 seconds.\n"
     ]
    },
    {
     "name": "stderr",
     "output_type": "stream",
     "text": [
      " 8. run of importance source...\n"
     ]
    },
    {
     "name": "stdout",
     "output_type": "stream",
     "text": [
      "Computing permutation importance.. Progress: 52%. Estimated remaining time: 28 seconds.\n"
     ]
    },
    {
     "name": "stderr",
     "output_type": "stream",
     "text": [
      " 9. run of importance source...\n"
     ]
    },
    {
     "name": "stdout",
     "output_type": "stream",
     "text": [
      "Computing permutation importance.. Progress: 52%. Estimated remaining time: 28 seconds.\n"
     ]
    },
    {
     "name": "stderr",
     "output_type": "stream",
     "text": [
      " 10. run of importance source...\n"
     ]
    },
    {
     "name": "stdout",
     "output_type": "stream",
     "text": [
      "Computing permutation importance.. Progress: 52%. Estimated remaining time: 28 seconds.\n"
     ]
    },
    {
     "name": "stderr",
     "output_type": "stream",
     "text": [
      " 11. run of importance source...\n"
     ]
    },
    {
     "name": "stdout",
     "output_type": "stream",
     "text": [
      "Computing permutation importance.. Progress: 52%. Estimated remaining time: 28 seconds.\n"
     ]
    },
    {
     "name": "stderr",
     "output_type": "stream",
     "text": [
      " 12. run of importance source...\n"
     ]
    },
    {
     "name": "stdout",
     "output_type": "stream",
     "text": [
      "Computing permutation importance.. Progress: 52%. Estimated remaining time: 28 seconds.\n"
     ]
    },
    {
     "name": "stderr",
     "output_type": "stream",
     "text": [
      " 13. run of importance source...\n"
     ]
    },
    {
     "name": "stdout",
     "output_type": "stream",
     "text": [
      "Computing permutation importance.. Progress: 52%. Estimated remaining time: 28 seconds.\n"
     ]
    },
    {
     "name": "stderr",
     "output_type": "stream",
     "text": [
      " 14. run of importance source...\n"
     ]
    },
    {
     "name": "stdout",
     "output_type": "stream",
     "text": [
      "Computing permutation importance.. Progress: 51%. Estimated remaining time: 29 seconds.\n"
     ]
    },
    {
     "name": "stderr",
     "output_type": "stream",
     "text": [
      " 15. run of importance source...\n"
     ]
    },
    {
     "name": "stdout",
     "output_type": "stream",
     "text": [
      "Computing permutation importance.. Progress: 51%. Estimated remaining time: 30 seconds.\n"
     ]
    },
    {
     "name": "stderr",
     "output_type": "stream",
     "text": [
      " 16. run of importance source...\n"
     ]
    },
    {
     "name": "stdout",
     "output_type": "stream",
     "text": [
      "Computing permutation importance.. Progress: 51%. Estimated remaining time: 30 seconds.\n"
     ]
    },
    {
     "name": "stderr",
     "output_type": "stream",
     "text": [
      " 17. run of importance source...\n"
     ]
    },
    {
     "name": "stdout",
     "output_type": "stream",
     "text": [
      "Computing permutation importance.. Progress: 52%. Estimated remaining time: 28 seconds.\n"
     ]
    },
    {
     "name": "stderr",
     "output_type": "stream",
     "text": [
      " 18. run of importance source...\n"
     ]
    },
    {
     "name": "stdout",
     "output_type": "stream",
     "text": [
      "Computing permutation importance.. Progress: 51%. Estimated remaining time: 30 seconds.\n"
     ]
    },
    {
     "name": "stderr",
     "output_type": "stream",
     "text": [
      " 19. run of importance source...\n"
     ]
    },
    {
     "name": "stdout",
     "output_type": "stream",
     "text": [
      "Computing permutation importance.. Progress: 52%. Estimated remaining time: 28 seconds.\n"
     ]
    },
    {
     "name": "stderr",
     "output_type": "stream",
     "text": [
      " 20. run of importance source...\n"
     ]
    },
    {
     "name": "stdout",
     "output_type": "stream",
     "text": [
      "Computing permutation importance.. Progress: 53%. Estimated remaining time: 27 seconds.\n"
     ]
    },
    {
     "name": "stderr",
     "output_type": "stream",
     "text": [
      " 21. run of importance source...\n"
     ]
    },
    {
     "name": "stdout",
     "output_type": "stream",
     "text": [
      "Computing permutation importance.. Progress: 54%. Estimated remaining time: 26 seconds.\n"
     ]
    },
    {
     "name": "stderr",
     "output_type": "stream",
     "text": [
      "After 21 iterations, +23 mins: \n",
      " rejected 20150 attributes: A1BG, A1BG-AS1, A1CF, A2M, A2M-AS1 and 20145 more;\n",
      " still have 24 attributes left.\n",
      "\n",
      " 22. run of importance source...\n",
      " 23. run of importance source...\n",
      " 24. run of importance source...\n",
      " 25. run of importance source...\n",
      " 26. run of importance source...\n",
      "After 26 iterations, +23 mins: \n",
      " rejected 3 attributes: CALM1, MB21D2, UBE2G1;\n",
      " still have 21 attributes left.\n",
      "\n",
      " 27. run of importance source...\n",
      " 28. run of importance source...\n",
      " 29. run of importance source...\n",
      " 30. run of importance source...\n",
      "After 30 iterations, +23 mins: \n",
      " rejected 2 attributes: CRB3, TMEM108-AS1;\n",
      " still have 19 attributes left.\n",
      "\n",
      " 31. run of importance source...\n",
      " 32. run of importance source...\n",
      " 33. run of importance source...\n",
      " 34. run of importance source...\n",
      " 35. run of importance source...\n",
      " 36. run of importance source...\n",
      " 37. run of importance source...\n",
      " 38. run of importance source...\n",
      " 39. run of importance source...\n",
      " 40. run of importance source...\n",
      " 41. run of importance source...\n",
      " 42. run of importance source...\n",
      " 43. run of importance source...\n",
      " 44. run of importance source...\n",
      " 45. run of importance source...\n",
      " 46. run of importance source...\n",
      " 47. run of importance source...\n",
      " 48. run of importance source...\n",
      " 49. run of importance source...\n",
      " 50. run of importance source...\n",
      " 51. run of importance source...\n",
      " 52. run of importance source...\n",
      " 53. run of importance source...\n",
      " 54. run of importance source...\n",
      " 55. run of importance source...\n",
      " 56. run of importance source...\n",
      " 57. run of importance source...\n",
      " 58. run of importance source...\n",
      " 59. run of importance source...\n",
      " 60. run of importance source...\n",
      " 61. run of importance source...\n",
      " 62. run of importance source...\n",
      " 63. run of importance source...\n",
      " 64. run of importance source...\n",
      " 65. run of importance source...\n",
      " 66. run of importance source...\n",
      " 67. run of importance source...\n",
      " 68. run of importance source...\n",
      " 69. run of importance source...\n",
      " 70. run of importance source...\n",
      " 71. run of importance source...\n",
      " 72. run of importance source...\n",
      " 73. run of importance source...\n",
      " 74. run of importance source...\n",
      " 75. run of importance source...\n",
      " 76. run of importance source...\n",
      " 77. run of importance source...\n",
      " 78. run of importance source...\n",
      " 79. run of importance source...\n",
      " 80. run of importance source...\n",
      " 81. run of importance source...\n",
      " 82. run of importance source...\n",
      " 83. run of importance source...\n",
      "After 83 iterations, +23 mins: \n",
      " confirmed 1 attribute: GRAMD2A;\n",
      " still have 18 attributes left.\n",
      "\n",
      " 84. run of importance source...\n",
      " 85. run of importance source...\n",
      " 86. run of importance source...\n",
      " 87. run of importance source...\n",
      " 88. run of importance source...\n",
      " 89. run of importance source...\n",
      " 90. run of importance source...\n",
      " 91. run of importance source...\n",
      " 92. run of importance source...\n",
      " 93. run of importance source...\n",
      " 94. run of importance source...\n",
      "After 94 iterations, +23 mins: \n",
      " confirmed 2 attributes: AHRR, PICK1;\n",
      " still have 16 attributes left.\n",
      "\n",
      " 95. run of importance source...\n",
      " 96. run of importance source...\n",
      "After 96 iterations, +23 mins: \n",
      " confirmed 1 attribute: PXK;\n",
      " still have 15 attributes left.\n",
      "\n",
      " 97. run of importance source...\n",
      " 98. run of importance source...\n",
      " 99. run of importance source...\n"
     ]
    },
    {
     "name": "stdout",
     "output_type": "stream",
     "text": [
      "\n",
      "Drug14: Boruta is running for Sorafenib"
     ]
    },
    {
     "name": "stderr",
     "output_type": "stream",
     "text": [
      " 1. run of importance source...\n"
     ]
    },
    {
     "name": "stdout",
     "output_type": "stream",
     "text": [
      "Computing permutation importance.. Progress: 29%. Estimated remaining time: 1 minute, 15 seconds.\n",
      "Computing permutation importance.. Progress: 59%. Estimated remaining time: 43 seconds.\n",
      "Computing permutation importance.. Progress: 88%. Estimated remaining time: 12 seconds.\n"
     ]
    },
    {
     "name": "stderr",
     "output_type": "stream",
     "text": [
      " 2. run of importance source...\n"
     ]
    },
    {
     "name": "stdout",
     "output_type": "stream",
     "text": [
      "Computing permutation importance.. Progress: 29%. Estimated remaining time: 1 minute, 15 seconds.\n",
      "Computing permutation importance.. Progress: 59%. Estimated remaining time: 43 seconds.\n",
      "Computing permutation importance.. Progress: 89%. Estimated remaining time: 11 seconds.\n"
     ]
    },
    {
     "name": "stderr",
     "output_type": "stream",
     "text": [
      " 3. run of importance source...\n"
     ]
    },
    {
     "name": "stdout",
     "output_type": "stream",
     "text": [
      "Computing permutation importance.. Progress: 30%. Estimated remaining time: 1 minute, 13 seconds.\n",
      "Computing permutation importance.. Progress: 59%. Estimated remaining time: 43 seconds.\n",
      "Computing permutation importance.. Progress: 88%. Estimated remaining time: 12 seconds.\n"
     ]
    },
    {
     "name": "stderr",
     "output_type": "stream",
     "text": [
      " 4. run of importance source...\n"
     ]
    },
    {
     "name": "stdout",
     "output_type": "stream",
     "text": [
      "Computing permutation importance.. Progress: 29%. Estimated remaining time: 1 minute, 15 seconds.\n",
      "Computing permutation importance.. Progress: 59%. Estimated remaining time: 43 seconds.\n",
      "Computing permutation importance.. Progress: 88%. Estimated remaining time: 12 seconds.\n"
     ]
    },
    {
     "name": "stderr",
     "output_type": "stream",
     "text": [
      " 5. run of importance source...\n"
     ]
    },
    {
     "name": "stdout",
     "output_type": "stream",
     "text": [
      "Computing permutation importance.. Progress: 29%. Estimated remaining time: 1 minute, 17 seconds.\n",
      "Computing permutation importance.. Progress: 59%. Estimated remaining time: 43 seconds.\n",
      "Computing permutation importance.. Progress: 88%. Estimated remaining time: 12 seconds.\n"
     ]
    },
    {
     "name": "stderr",
     "output_type": "stream",
     "text": [
      " 6. run of importance source...\n"
     ]
    },
    {
     "name": "stdout",
     "output_type": "stream",
     "text": [
      "Computing permutation importance.. Progress: 29%. Estimated remaining time: 1 minute, 15 seconds.\n",
      "Computing permutation importance.. Progress: 59%. Estimated remaining time: 42 seconds.\n",
      "Computing permutation importance.. Progress: 89%. Estimated remaining time: 11 seconds.\n"
     ]
    },
    {
     "name": "stderr",
     "output_type": "stream",
     "text": [
      " 7. run of importance source...\n"
     ]
    },
    {
     "name": "stdout",
     "output_type": "stream",
     "text": [
      "Computing permutation importance.. Progress: 29%. Estimated remaining time: 1 minute, 14 seconds.\n",
      "Computing permutation importance.. Progress: 59%. Estimated remaining time: 43 seconds.\n",
      "Computing permutation importance.. Progress: 89%. Estimated remaining time: 11 seconds.\n"
     ]
    },
    {
     "name": "stderr",
     "output_type": "stream",
     "text": [
      " 8. run of importance source...\n"
     ]
    },
    {
     "name": "stdout",
     "output_type": "stream",
     "text": [
      "Computing permutation importance.. Progress: 29%. Estimated remaining time: 1 minute, 14 seconds.\n",
      "Computing permutation importance.. Progress: 58%. Estimated remaining time: 44 seconds.\n",
      "Computing permutation importance.. Progress: 88%. Estimated remaining time: 12 seconds.\n"
     ]
    },
    {
     "name": "stderr",
     "output_type": "stream",
     "text": [
      " 9. run of importance source...\n"
     ]
    },
    {
     "name": "stdout",
     "output_type": "stream",
     "text": [
      "Computing permutation importance.. Progress: 29%. Estimated remaining time: 1 minute, 15 seconds.\n",
      "Computing permutation importance.. Progress: 59%. Estimated remaining time: 42 seconds.\n",
      "Computing permutation importance.. Progress: 90%. Estimated remaining time: 10 seconds.\n"
     ]
    },
    {
     "name": "stderr",
     "output_type": "stream",
     "text": [
      " 10. run of importance source...\n"
     ]
    },
    {
     "name": "stdout",
     "output_type": "stream",
     "text": [
      "Computing permutation importance.. Progress: 29%. Estimated remaining time: 1 minute, 14 seconds.\n",
      "Computing permutation importance.. Progress: 59%. Estimated remaining time: 42 seconds.\n",
      "Computing permutation importance.. Progress: 88%. Estimated remaining time: 12 seconds.\n"
     ]
    },
    {
     "name": "stderr",
     "output_type": "stream",
     "text": [
      " 11. run of importance source...\n"
     ]
    },
    {
     "name": "stdout",
     "output_type": "stream",
     "text": [
      "Computing permutation importance.. Progress: 29%. Estimated remaining time: 1 minute, 17 seconds.\n",
      "Computing permutation importance.. Progress: 58%. Estimated remaining time: 44 seconds.\n",
      "Computing permutation importance.. Progress: 87%. Estimated remaining time: 13 seconds.\n"
     ]
    },
    {
     "name": "stderr",
     "output_type": "stream",
     "text": [
      " 12. run of importance source...\n"
     ]
    },
    {
     "name": "stdout",
     "output_type": "stream",
     "text": [
      "Computing permutation importance.. Progress: 28%. Estimated remaining time: 1 minute, 18 seconds.\n",
      "Computing permutation importance.. Progress: 58%. Estimated remaining time: 44 seconds.\n",
      "Computing permutation importance.. Progress: 87%. Estimated remaining time: 13 seconds.\n"
     ]
    },
    {
     "name": "stderr",
     "output_type": "stream",
     "text": [
      " 13. run of importance source...\n"
     ]
    },
    {
     "name": "stdout",
     "output_type": "stream",
     "text": [
      "Computing permutation importance.. Progress: 28%. Estimated remaining time: 1 minute, 18 seconds.\n",
      "Computing permutation importance.. Progress: 58%. Estimated remaining time: 44 seconds.\n",
      "Computing permutation importance.. Progress: 87%. Estimated remaining time: 13 seconds.\n"
     ]
    },
    {
     "name": "stderr",
     "output_type": "stream",
     "text": [
      " 14. run of importance source...\n"
     ]
    },
    {
     "name": "stdout",
     "output_type": "stream",
     "text": [
      "Computing permutation importance.. Progress: 29%. Estimated remaining time: 1 minute, 15 seconds.\n",
      "Computing permutation importance.. Progress: 58%. Estimated remaining time: 44 seconds.\n",
      "Computing permutation importance.. Progress: 87%. Estimated remaining time: 13 seconds.\n"
     ]
    },
    {
     "name": "stderr",
     "output_type": "stream",
     "text": [
      " 15. run of importance source...\n"
     ]
    },
    {
     "name": "stdout",
     "output_type": "stream",
     "text": [
      "Computing permutation importance.. Progress: 29%. Estimated remaining time: 1 minute, 17 seconds.\n",
      "Computing permutation importance.. Progress: 58%. Estimated remaining time: 45 seconds.\n",
      "Computing permutation importance.. Progress: 87%. Estimated remaining time: 14 seconds.\n"
     ]
    },
    {
     "name": "stderr",
     "output_type": "stream",
     "text": [
      " 16. run of importance source...\n"
     ]
    },
    {
     "name": "stdout",
     "output_type": "stream",
     "text": [
      "Computing permutation importance.. Progress: 29%. Estimated remaining time: 1 minute, 17 seconds.\n",
      "Computing permutation importance.. Progress: 58%. Estimated remaining time: 44 seconds.\n",
      "Computing permutation importance.. Progress: 89%. Estimated remaining time: 11 seconds.\n"
     ]
    },
    {
     "name": "stderr",
     "output_type": "stream",
     "text": [
      " 17. run of importance source...\n"
     ]
    },
    {
     "name": "stdout",
     "output_type": "stream",
     "text": [
      "Computing permutation importance.. Progress: 29%. Estimated remaining time: 1 minute, 15 seconds.\n",
      "Computing permutation importance.. Progress: 58%. Estimated remaining time: 44 seconds.\n",
      "Computing permutation importance.. Progress: 88%. Estimated remaining time: 12 seconds.\n"
     ]
    },
    {
     "name": "stderr",
     "output_type": "stream",
     "text": [
      " 18. run of importance source...\n"
     ]
    },
    {
     "name": "stdout",
     "output_type": "stream",
     "text": [
      "Computing permutation importance.. Progress: 28%. Estimated remaining time: 1 minute, 18 seconds.\n",
      "Computing permutation importance.. Progress: 57%. Estimated remaining time: 46 seconds.\n",
      "Computing permutation importance.. Progress: 87%. Estimated remaining time: 14 seconds.\n"
     ]
    },
    {
     "name": "stderr",
     "output_type": "stream",
     "text": [
      " 19. run of importance source...\n"
     ]
    },
    {
     "name": "stdout",
     "output_type": "stream",
     "text": [
      "Computing permutation importance.. Progress: 29%. Estimated remaining time: 1 minute, 15 seconds.\n",
      "Computing permutation importance.. Progress: 59%. Estimated remaining time: 44 seconds.\n",
      "Computing permutation importance.. Progress: 89%. Estimated remaining time: 11 seconds.\n"
     ]
    },
    {
     "name": "stderr",
     "output_type": "stream",
     "text": [
      " 20. run of importance source...\n"
     ]
    },
    {
     "name": "stdout",
     "output_type": "stream",
     "text": [
      "Computing permutation importance.. Progress: 30%. Estimated remaining time: 1 minute, 13 seconds.\n",
      "Computing permutation importance.. Progress: 59%. Estimated remaining time: 43 seconds.\n",
      "Computing permutation importance.. Progress: 88%. Estimated remaining time: 12 seconds.\n"
     ]
    },
    {
     "name": "stderr",
     "output_type": "stream",
     "text": [
      " 21. run of importance source...\n"
     ]
    },
    {
     "name": "stdout",
     "output_type": "stream",
     "text": [
      "Computing permutation importance.. Progress: 30%. Estimated remaining time: 1 minute, 13 seconds.\n",
      "Computing permutation importance.. Progress: 60%. Estimated remaining time: 40 seconds.\n",
      "Computing permutation importance.. Progress: 89%. Estimated remaining time: 11 seconds.\n"
     ]
    },
    {
     "name": "stderr",
     "output_type": "stream",
     "text": [
      "After 21 iterations, +39 mins: \n",
      " rejected 20163 attributes: A1BG, A1BG-AS1, A1CF, A2M, A2M-AS1 and 20158 more;\n",
      " still have 11 attributes left.\n",
      "\n",
      " 22. run of importance source...\n",
      " 23. run of importance source...\n",
      " 24. run of importance source...\n",
      " 25. run of importance source...\n",
      " 26. run of importance source...\n",
      "After 26 iterations, +39 mins: \n",
      " rejected 1 attribute: TRAV17;\n",
      " still have 10 attributes left.\n",
      "\n",
      " 27. run of importance source...\n",
      " 28. run of importance source...\n",
      " 29. run of importance source...\n",
      " 30. run of importance source...\n",
      " 31. run of importance source...\n",
      " 32. run of importance source...\n",
      " 33. run of importance source...\n",
      " 34. run of importance source...\n",
      " 35. run of importance source...\n",
      " 36. run of importance source...\n",
      " 37. run of importance source...\n",
      " 38. run of importance source...\n",
      "After 38 iterations, +39 mins: \n",
      " rejected 2 attributes: NBN, SERPINB1;\n",
      " still have 8 attributes left.\n",
      "\n",
      " 39. run of importance source...\n",
      " 40. run of importance source...\n",
      " 41. run of importance source...\n",
      " 42. run of importance source...\n",
      " 43. run of importance source...\n",
      " 44. run of importance source...\n",
      " 45. run of importance source...\n",
      " 46. run of importance source...\n",
      " 47. run of importance source...\n",
      " 48. run of importance source...\n",
      " 49. run of importance source...\n",
      " 50. run of importance source...\n",
      " 51. run of importance source...\n",
      " 52. run of importance source...\n",
      " 53. run of importance source...\n",
      " 54. run of importance source...\n",
      " 55. run of importance source...\n",
      " 56. run of importance source...\n",
      " 57. run of importance source...\n",
      " 58. run of importance source...\n",
      " 59. run of importance source...\n",
      " 60. run of importance source...\n",
      " 61. run of importance source...\n",
      " 62. run of importance source...\n",
      " 63. run of importance source...\n",
      " 64. run of importance source...\n",
      " 65. run of importance source...\n",
      " 66. run of importance source...\n",
      " 67. run of importance source...\n",
      " 68. run of importance source...\n",
      " 69. run of importance source...\n",
      " 70. run of importance source...\n",
      " 71. run of importance source...\n",
      " 72. run of importance source...\n",
      " 73. run of importance source...\n",
      " 74. run of importance source...\n",
      " 75. run of importance source...\n",
      " 76. run of importance source...\n",
      " 77. run of importance source...\n",
      " 78. run of importance source...\n",
      " 79. run of importance source...\n",
      " 80. run of importance source...\n",
      " 81. run of importance source...\n",
      " 82. run of importance source...\n",
      " 83. run of importance source...\n",
      " 84. run of importance source...\n",
      " 85. run of importance source...\n",
      " 86. run of importance source...\n",
      "After 86 iterations, +39 mins: \n",
      " confirmed 2 attributes: LINC02843, PRPF38A;\n",
      " still have 6 attributes left.\n",
      "\n",
      " 87. run of importance source...\n",
      " 88. run of importance source...\n",
      "After 88 iterations, +39 mins: \n",
      " confirmed 2 attributes: GTF2E1, ZNF90;\n",
      " still have 4 attributes left.\n",
      "\n",
      " 89. run of importance source...\n",
      " 90. run of importance source...\n",
      " 91. run of importance source...\n",
      "After 91 iterations, +39 mins: \n",
      " confirmed 1 attribute: HOXD1;\n",
      " still have 3 attributes left.\n",
      "\n",
      " 92. run of importance source...\n",
      " 93. run of importance source...\n",
      " 94. run of importance source...\n",
      " 95. run of importance source...\n",
      " 96. run of importance source...\n",
      " 97. run of importance source...\n",
      " 98. run of importance source...\n",
      " 99. run of importance source...\n"
     ]
    },
    {
     "name": "stdout",
     "output_type": "stream",
     "text": [
      "\n",
      "Drug15: Boruta is running for Nilotinib"
     ]
    },
    {
     "name": "stderr",
     "output_type": "stream",
     "text": [
      " 1. run of importance source...\n"
     ]
    },
    {
     "name": "stdout",
     "output_type": "stream",
     "text": [
      "Computing permutation importance.. Progress: 43%. Estimated remaining time: 40 seconds.\n",
      "Computing permutation importance.. Progress: 86%. Estimated remaining time: 10 seconds.\n"
     ]
    },
    {
     "name": "stderr",
     "output_type": "stream",
     "text": [
      " 2. run of importance source...\n"
     ]
    },
    {
     "name": "stdout",
     "output_type": "stream",
     "text": [
      "Computing permutation importance.. Progress: 44%. Estimated remaining time: 40 seconds.\n",
      "Computing permutation importance.. Progress: 87%. Estimated remaining time: 9 seconds.\n"
     ]
    },
    {
     "name": "stderr",
     "output_type": "stream",
     "text": [
      " 3. run of importance source...\n"
     ]
    },
    {
     "name": "stdout",
     "output_type": "stream",
     "text": [
      "Computing permutation importance.. Progress: 43%. Estimated remaining time: 41 seconds.\n",
      "Computing permutation importance.. Progress: 85%. Estimated remaining time: 11 seconds.\n"
     ]
    },
    {
     "name": "stderr",
     "output_type": "stream",
     "text": [
      " 4. run of importance source...\n"
     ]
    },
    {
     "name": "stdout",
     "output_type": "stream",
     "text": [
      "Computing permutation importance.. Progress: 43%. Estimated remaining time: 40 seconds.\n",
      "Computing permutation importance.. Progress: 86%. Estimated remaining time: 9 seconds.\n"
     ]
    },
    {
     "name": "stderr",
     "output_type": "stream",
     "text": [
      " 5. run of importance source...\n"
     ]
    },
    {
     "name": "stdout",
     "output_type": "stream",
     "text": [
      "Computing permutation importance.. Progress: 43%. Estimated remaining time: 41 seconds.\n",
      "Computing permutation importance.. Progress: 87%. Estimated remaining time: 9 seconds.\n"
     ]
    },
    {
     "name": "stderr",
     "output_type": "stream",
     "text": [
      " 6. run of importance source...\n"
     ]
    },
    {
     "name": "stdout",
     "output_type": "stream",
     "text": [
      "Computing permutation importance.. Progress: 42%. Estimated remaining time: 42 seconds.\n",
      "Computing permutation importance.. Progress: 85%. Estimated remaining time: 10 seconds.\n"
     ]
    },
    {
     "name": "stderr",
     "output_type": "stream",
     "text": [
      " 7. run of importance source...\n"
     ]
    },
    {
     "name": "stdout",
     "output_type": "stream",
     "text": [
      "Computing permutation importance.. Progress: 43%. Estimated remaining time: 41 seconds.\n",
      "Computing permutation importance.. Progress: 86%. Estimated remaining time: 10 seconds.\n"
     ]
    },
    {
     "name": "stderr",
     "output_type": "stream",
     "text": [
      " 8. run of importance source...\n"
     ]
    },
    {
     "name": "stdout",
     "output_type": "stream",
     "text": [
      "Computing permutation importance.. Progress: 42%. Estimated remaining time: 42 seconds.\n",
      "Computing permutation importance.. Progress: 85%. Estimated remaining time: 10 seconds.\n"
     ]
    },
    {
     "name": "stderr",
     "output_type": "stream",
     "text": [
      " 9. run of importance source...\n"
     ]
    },
    {
     "name": "stdout",
     "output_type": "stream",
     "text": [
      "Computing permutation importance.. Progress: 42%. Estimated remaining time: 42 seconds.\n",
      "Computing permutation importance.. Progress: 86%. Estimated remaining time: 10 seconds.\n"
     ]
    },
    {
     "name": "stderr",
     "output_type": "stream",
     "text": [
      " 10. run of importance source...\n"
     ]
    },
    {
     "name": "stdout",
     "output_type": "stream",
     "text": [
      "Computing permutation importance.. Progress: 43%. Estimated remaining time: 41 seconds.\n",
      "Computing permutation importance.. Progress: 86%. Estimated remaining time: 9 seconds.\n"
     ]
    },
    {
     "name": "stderr",
     "output_type": "stream",
     "text": [
      " 11. run of importance source...\n"
     ]
    },
    {
     "name": "stdout",
     "output_type": "stream",
     "text": [
      "Computing permutation importance.. Progress: 43%. Estimated remaining time: 41 seconds.\n",
      "Computing permutation importance.. Progress: 86%. Estimated remaining time: 10 seconds.\n"
     ]
    },
    {
     "name": "stderr",
     "output_type": "stream",
     "text": [
      " 12. run of importance source...\n"
     ]
    },
    {
     "name": "stdout",
     "output_type": "stream",
     "text": [
      "Computing permutation importance.. Progress: 41%. Estimated remaining time: 44 seconds.\n",
      "Computing permutation importance.. Progress: 82%. Estimated remaining time: 13 seconds.\n"
     ]
    },
    {
     "name": "stderr",
     "output_type": "stream",
     "text": [
      " 13. run of importance source...\n"
     ]
    },
    {
     "name": "stdout",
     "output_type": "stream",
     "text": [
      "Computing permutation importance.. Progress: 43%. Estimated remaining time: 40 seconds.\n",
      "Computing permutation importance.. Progress: 88%. Estimated remaining time: 8 seconds.\n"
     ]
    },
    {
     "name": "stderr",
     "output_type": "stream",
     "text": [
      " 14. run of importance source...\n"
     ]
    },
    {
     "name": "stdout",
     "output_type": "stream",
     "text": [
      "Computing permutation importance.. Progress: 42%. Estimated remaining time: 42 seconds.\n",
      "Computing permutation importance.. Progress: 86%. Estimated remaining time: 10 seconds.\n"
     ]
    },
    {
     "name": "stderr",
     "output_type": "stream",
     "text": [
      " 15. run of importance source...\n"
     ]
    },
    {
     "name": "stdout",
     "output_type": "stream",
     "text": [
      "Computing permutation importance.. Progress: 42%. Estimated remaining time: 42 seconds.\n",
      "Computing permutation importance.. Progress: 86%. Estimated remaining time: 10 seconds.\n"
     ]
    },
    {
     "name": "stderr",
     "output_type": "stream",
     "text": [
      " 16. run of importance source...\n"
     ]
    },
    {
     "name": "stdout",
     "output_type": "stream",
     "text": [
      "Computing permutation importance.. Progress: 44%. Estimated remaining time: 39 seconds.\n",
      "Computing permutation importance.. Progress: 87%. Estimated remaining time: 8 seconds.\n"
     ]
    },
    {
     "name": "stderr",
     "output_type": "stream",
     "text": [
      " 17. run of importance source...\n"
     ]
    },
    {
     "name": "stdout",
     "output_type": "stream",
     "text": [
      "Computing permutation importance.. Progress: 42%. Estimated remaining time: 42 seconds.\n",
      "Computing permutation importance.. Progress: 86%. Estimated remaining time: 10 seconds.\n"
     ]
    },
    {
     "name": "stderr",
     "output_type": "stream",
     "text": [
      " 18. run of importance source...\n"
     ]
    },
    {
     "name": "stdout",
     "output_type": "stream",
     "text": [
      "Computing permutation importance.. Progress: 43%. Estimated remaining time: 41 seconds.\n",
      "Computing permutation importance.. Progress: 86%. Estimated remaining time: 9 seconds.\n"
     ]
    },
    {
     "name": "stderr",
     "output_type": "stream",
     "text": [
      " 19. run of importance source...\n"
     ]
    },
    {
     "name": "stdout",
     "output_type": "stream",
     "text": [
      "Computing permutation importance.. Progress: 41%. Estimated remaining time: 43 seconds.\n",
      "Computing permutation importance.. Progress: 83%. Estimated remaining time: 13 seconds.\n"
     ]
    },
    {
     "name": "stderr",
     "output_type": "stream",
     "text": [
      " 20. run of importance source...\n"
     ]
    },
    {
     "name": "stdout",
     "output_type": "stream",
     "text": [
      "Computing permutation importance.. Progress: 42%. Estimated remaining time: 42 seconds.\n",
      "Computing permutation importance.. Progress: 85%. Estimated remaining time: 10 seconds.\n"
     ]
    },
    {
     "name": "stderr",
     "output_type": "stream",
     "text": [
      " 21. run of importance source...\n"
     ]
    },
    {
     "name": "stdout",
     "output_type": "stream",
     "text": [
      "Computing permutation importance.. Progress: 43%. Estimated remaining time: 40 seconds.\n",
      "Computing permutation importance.. Progress: 87%. Estimated remaining time: 9 seconds.\n"
     ]
    },
    {
     "name": "stderr",
     "output_type": "stream",
     "text": [
      "After 21 iterations, +27 mins: \n",
      " rejected 20163 attributes: A1BG, A1BG-AS1, A1CF, A2M, A2M-AS1 and 20158 more;\n",
      " still have 11 attributes left.\n",
      "\n",
      " 22. run of importance source...\n",
      " 23. run of importance source...\n",
      " 24. run of importance source...\n",
      " 25. run of importance source...\n",
      " 26. run of importance source...\n",
      " 27. run of importance source...\n",
      " 28. run of importance source...\n",
      " 29. run of importance source...\n",
      " 30. run of importance source...\n",
      " 31. run of importance source...\n",
      " 32. run of importance source...\n",
      " 33. run of importance source...\n",
      " 34. run of importance source...\n",
      " 35. run of importance source...\n",
      " 36. run of importance source...\n",
      " 37. run of importance source...\n",
      " 38. run of importance source...\n",
      " 39. run of importance source...\n",
      " 40. run of importance source...\n",
      " 41. run of importance source...\n",
      " 42. run of importance source...\n",
      " 43. run of importance source...\n",
      " 44. run of importance source...\n",
      "After 44 iterations, +27 mins: \n",
      " rejected 1 attribute: DDX52;\n",
      " still have 10 attributes left.\n",
      "\n",
      " 45. run of importance source...\n",
      " 46. run of importance source...\n",
      " 47. run of importance source...\n",
      " 48. run of importance source...\n",
      " 49. run of importance source...\n",
      " 50. run of importance source...\n",
      " 51. run of importance source...\n",
      " 52. run of importance source...\n",
      " 53. run of importance source...\n",
      " 54. run of importance source...\n",
      " 55. run of importance source...\n",
      " 56. run of importance source...\n",
      " 57. run of importance source...\n",
      " 58. run of importance source...\n",
      " 59. run of importance source...\n",
      " 60. run of importance source...\n",
      " 61. run of importance source...\n",
      " 62. run of importance source...\n",
      " 63. run of importance source...\n",
      " 64. run of importance source...\n",
      " 65. run of importance source...\n",
      " 66. run of importance source...\n",
      " 67. run of importance source...\n",
      " 68. run of importance source...\n",
      " 69. run of importance source...\n",
      " 70. run of importance source...\n",
      " 71. run of importance source...\n",
      " 72. run of importance source...\n",
      "After 72 iterations, +27 mins: \n",
      " confirmed 1 attribute: CFAP161;\n",
      " still have 9 attributes left.\n",
      "\n",
      " 73. run of importance source...\n",
      " 74. run of importance source...\n",
      " 75. run of importance source...\n",
      " 76. run of importance source...\n",
      " 77. run of importance source...\n",
      " 78. run of importance source...\n",
      " 79. run of importance source...\n",
      " 80. run of importance source...\n",
      " 81. run of importance source...\n",
      " 82. run of importance source...\n",
      " 83. run of importance source...\n",
      "After 83 iterations, +27 mins: \n",
      " confirmed 1 attribute: OIP5;\n",
      " still have 8 attributes left.\n",
      "\n",
      " 84. run of importance source...\n",
      " 85. run of importance source...\n",
      " 86. run of importance source...\n",
      "After 86 iterations, +27 mins: \n",
      " confirmed 2 attributes: LOC105379178, MRFAP1L1;\n",
      " still have 6 attributes left.\n",
      "\n",
      " 87. run of importance source...\n",
      " 88. run of importance source...\n",
      "After 88 iterations, +27 mins: \n",
      " confirmed 1 attribute: KRT4;\n",
      " still have 5 attributes left.\n",
      "\n",
      " 89. run of importance source...\n",
      " 90. run of importance source...\n",
      " 91. run of importance source...\n",
      " 92. run of importance source...\n",
      " 93. run of importance source...\n",
      " 94. run of importance source...\n",
      " 95. run of importance source...\n",
      " 96. run of importance source...\n",
      " 97. run of importance source...\n",
      " 98. run of importance source...\n",
      " 99. run of importance source...\n",
      "After 99 iterations, +27 mins: \n",
      " confirmed 1 attribute: MAP1LC3A;\n",
      " still have 4 attributes left.\n",
      "\n"
     ]
    },
    {
     "name": "stdout",
     "output_type": "stream",
     "text": [
      "\n",
      "Drug16: Boruta is running for PD-0332991"
     ]
    },
    {
     "name": "stderr",
     "output_type": "stream",
     "text": [
      " 1. run of importance source...\n"
     ]
    },
    {
     "name": "stdout",
     "output_type": "stream",
     "text": [
      "Computing permutation importance.. Progress: 61%. Estimated remaining time: 20 seconds.\n"
     ]
    },
    {
     "name": "stderr",
     "output_type": "stream",
     "text": [
      " 2. run of importance source...\n"
     ]
    },
    {
     "name": "stdout",
     "output_type": "stream",
     "text": [
      "Computing permutation importance.. Progress: 61%. Estimated remaining time: 19 seconds.\n"
     ]
    },
    {
     "name": "stderr",
     "output_type": "stream",
     "text": [
      " 3. run of importance source...\n"
     ]
    },
    {
     "name": "stdout",
     "output_type": "stream",
     "text": [
      "Computing permutation importance.. Progress: 63%. Estimated remaining time: 18 seconds.\n"
     ]
    },
    {
     "name": "stderr",
     "output_type": "stream",
     "text": [
      " 4. run of importance source...\n"
     ]
    },
    {
     "name": "stdout",
     "output_type": "stream",
     "text": [
      "Computing permutation importance.. Progress: 62%. Estimated remaining time: 19 seconds.\n"
     ]
    },
    {
     "name": "stderr",
     "output_type": "stream",
     "text": [
      " 5. run of importance source...\n"
     ]
    },
    {
     "name": "stdout",
     "output_type": "stream",
     "text": [
      "Computing permutation importance.. Progress: 62%. Estimated remaining time: 18 seconds.\n"
     ]
    },
    {
     "name": "stderr",
     "output_type": "stream",
     "text": [
      " 6. run of importance source...\n"
     ]
    },
    {
     "name": "stdout",
     "output_type": "stream",
     "text": [
      "Computing permutation importance.. Progress: 61%. Estimated remaining time: 19 seconds.\n"
     ]
    },
    {
     "name": "stderr",
     "output_type": "stream",
     "text": [
      " 7. run of importance source...\n"
     ]
    },
    {
     "name": "stdout",
     "output_type": "stream",
     "text": [
      "Computing permutation importance.. Progress: 63%. Estimated remaining time: 18 seconds.\n"
     ]
    },
    {
     "name": "stderr",
     "output_type": "stream",
     "text": [
      " 8. run of importance source...\n"
     ]
    },
    {
     "name": "stdout",
     "output_type": "stream",
     "text": [
      "Computing permutation importance.. Progress: 62%. Estimated remaining time: 19 seconds.\n"
     ]
    },
    {
     "name": "stderr",
     "output_type": "stream",
     "text": [
      " 9. run of importance source...\n"
     ]
    },
    {
     "name": "stdout",
     "output_type": "stream",
     "text": [
      "Computing permutation importance.. Progress: 62%. Estimated remaining time: 19 seconds.\n"
     ]
    },
    {
     "name": "stderr",
     "output_type": "stream",
     "text": [
      " 10. run of importance source...\n"
     ]
    },
    {
     "name": "stdout",
     "output_type": "stream",
     "text": [
      "Computing permutation importance.. Progress: 61%. Estimated remaining time: 19 seconds.\n"
     ]
    },
    {
     "name": "stderr",
     "output_type": "stream",
     "text": [
      " 11. run of importance source...\n"
     ]
    },
    {
     "name": "stdout",
     "output_type": "stream",
     "text": [
      "Computing permutation importance.. Progress: 62%. Estimated remaining time: 18 seconds.\n"
     ]
    },
    {
     "name": "stderr",
     "output_type": "stream",
     "text": [
      " 12. run of importance source...\n"
     ]
    },
    {
     "name": "stdout",
     "output_type": "stream",
     "text": [
      "Computing permutation importance.. Progress: 62%. Estimated remaining time: 18 seconds.\n"
     ]
    },
    {
     "name": "stderr",
     "output_type": "stream",
     "text": [
      " 13. run of importance source...\n"
     ]
    },
    {
     "name": "stdout",
     "output_type": "stream",
     "text": [
      "Computing permutation importance.. Progress: 61%. Estimated remaining time: 19 seconds.\n"
     ]
    },
    {
     "name": "stderr",
     "output_type": "stream",
     "text": [
      " 14. run of importance source...\n"
     ]
    },
    {
     "name": "stdout",
     "output_type": "stream",
     "text": [
      "Computing permutation importance.. Progress: 62%. Estimated remaining time: 18 seconds.\n"
     ]
    },
    {
     "name": "stderr",
     "output_type": "stream",
     "text": [
      " 15. run of importance source...\n"
     ]
    },
    {
     "name": "stdout",
     "output_type": "stream",
     "text": [
      "Computing permutation importance.. Progress: 61%. Estimated remaining time: 19 seconds.\n"
     ]
    },
    {
     "name": "stderr",
     "output_type": "stream",
     "text": [
      " 16. run of importance source...\n"
     ]
    },
    {
     "name": "stdout",
     "output_type": "stream",
     "text": [
      "Computing permutation importance.. Progress: 57%. Estimated remaining time: 23 seconds.\n"
     ]
    },
    {
     "name": "stderr",
     "output_type": "stream",
     "text": [
      " 17. run of importance source...\n"
     ]
    },
    {
     "name": "stdout",
     "output_type": "stream",
     "text": [
      "Computing permutation importance.. Progress: 55%. Estimated remaining time: 24 seconds.\n"
     ]
    },
    {
     "name": "stderr",
     "output_type": "stream",
     "text": [
      " 18. run of importance source...\n"
     ]
    },
    {
     "name": "stdout",
     "output_type": "stream",
     "text": [
      "Computing permutation importance.. Progress: 59%. Estimated remaining time: 21 seconds.\n"
     ]
    },
    {
     "name": "stderr",
     "output_type": "stream",
     "text": [
      " 19. run of importance source...\n"
     ]
    },
    {
     "name": "stdout",
     "output_type": "stream",
     "text": [
      "Computing permutation importance.. Progress: 62%. Estimated remaining time: 19 seconds.\n"
     ]
    },
    {
     "name": "stderr",
     "output_type": "stream",
     "text": [
      " 20. run of importance source...\n"
     ]
    },
    {
     "name": "stdout",
     "output_type": "stream",
     "text": [
      "Computing permutation importance.. Progress: 62%. Estimated remaining time: 19 seconds.\n"
     ]
    },
    {
     "name": "stderr",
     "output_type": "stream",
     "text": [
      " 21. run of importance source...\n"
     ]
    },
    {
     "name": "stdout",
     "output_type": "stream",
     "text": [
      "Computing permutation importance.. Progress: 61%. Estimated remaining time: 20 seconds.\n"
     ]
    },
    {
     "name": "stderr",
     "output_type": "stream",
     "text": [
      "After 21 iterations, +19 mins: \n",
      " rejected 20159 attributes: A1BG, A1BG-AS1, A1CF, A2M, A2M-AS1 and 20154 more;\n",
      " still have 15 attributes left.\n",
      "\n",
      " 22. run of importance source...\n",
      " 23. run of importance source...\n",
      " 24. run of importance source...\n",
      " 25. run of importance source...\n",
      " 26. run of importance source...\n",
      "After 26 iterations, +19 mins: \n",
      " rejected 4 attributes: GFRA4, MRPL23, MTDH, NPHS2;\n",
      " still have 11 attributes left.\n",
      "\n",
      " 27. run of importance source...\n",
      " 28. run of importance source...\n",
      " 29. run of importance source...\n",
      " 30. run of importance source...\n",
      " 31. run of importance source...\n",
      " 32. run of importance source...\n",
      " 33. run of importance source...\n",
      " 34. run of importance source...\n",
      " 35. run of importance source...\n",
      " 36. run of importance source...\n",
      " 37. run of importance source...\n",
      " 38. run of importance source...\n",
      " 39. run of importance source...\n",
      " 40. run of importance source...\n",
      " 41. run of importance source...\n",
      " 42. run of importance source...\n",
      " 43. run of importance source...\n",
      " 44. run of importance source...\n",
      " 45. run of importance source...\n",
      " 46. run of importance source...\n",
      " 47. run of importance source...\n",
      " 48. run of importance source...\n",
      " 49. run of importance source...\n",
      " 50. run of importance source...\n",
      " 51. run of importance source...\n",
      " 52. run of importance source...\n",
      " 53. run of importance source...\n",
      " 54. run of importance source...\n",
      " 55. run of importance source...\n",
      " 56. run of importance source...\n",
      " 57. run of importance source...\n",
      " 58. run of importance source...\n",
      " 59. run of importance source...\n",
      " 60. run of importance source...\n",
      " 61. run of importance source...\n",
      " 62. run of importance source...\n",
      " 63. run of importance source...\n",
      " 64. run of importance source...\n",
      " 65. run of importance source...\n",
      " 66. run of importance source...\n",
      " 67. run of importance source...\n",
      " 68. run of importance source...\n",
      " 69. run of importance source...\n",
      " 70. run of importance source...\n",
      " 71. run of importance source...\n",
      " 72. run of importance source...\n",
      " 73. run of importance source...\n",
      " 74. run of importance source...\n",
      " 75. run of importance source...\n",
      " 76. run of importance source...\n",
      " 77. run of importance source...\n",
      " 78. run of importance source...\n",
      " 79. run of importance source...\n",
      " 80. run of importance source...\n",
      "After 80 iterations, +19 mins: \n",
      " confirmed 1 attribute: TFCP2;\n",
      " still have 10 attributes left.\n",
      "\n",
      " 81. run of importance source...\n",
      " 82. run of importance source...\n",
      " 83. run of importance source...\n",
      "After 83 iterations, +19 mins: \n",
      " confirmed 1 attribute: LRRC49;\n",
      " still have 9 attributes left.\n",
      "\n",
      " 84. run of importance source...\n",
      " 85. run of importance source...\n",
      " 86. run of importance source...\n",
      "After 86 iterations, +19 mins: \n",
      " confirmed 1 attribute: MYH16;\n",
      " still have 8 attributes left.\n",
      "\n",
      " 87. run of importance source...\n",
      " 88. run of importance source...\n",
      " 89. run of importance source...\n",
      " 90. run of importance source...\n",
      " 91. run of importance source...\n",
      "After 91 iterations, +19 mins: \n",
      " confirmed 1 attribute: LOC102723692;\n",
      " still have 7 attributes left.\n",
      "\n",
      " 92. run of importance source...\n",
      " 93. run of importance source...\n",
      " 94. run of importance source...\n",
      "After 94 iterations, +19 mins: \n",
      " confirmed 1 attribute: KCTD6;\n",
      " still have 6 attributes left.\n",
      "\n",
      " 95. run of importance source...\n",
      " 96. run of importance source...\n",
      "After 96 iterations, +19 mins: \n",
      " confirmed 1 attribute: FGR;\n",
      " still have 5 attributes left.\n",
      "\n",
      " 97. run of importance source...\n",
      " 98. run of importance source...\n",
      " 99. run of importance source...\n",
      "After 99 iterations, +19 mins: \n",
      " confirmed 1 attribute: LINC00421;\n",
      " still have 4 attributes left.\n",
      "\n"
     ]
    },
    {
     "name": "stdout",
     "output_type": "stream",
     "text": [
      "\n",
      "Drug17: Boruta is running for Erlotinib"
     ]
    },
    {
     "name": "stderr",
     "output_type": "stream",
     "text": [
      " 1. run of importance source...\n"
     ]
    },
    {
     "name": "stdout",
     "output_type": "stream",
     "text": [
      "Computing permutation importance.. Progress: 39%. Estimated remaining time: 48 seconds.\n",
      "Computing permutation importance.. Progress: 79%. Estimated remaining time: 16 seconds.\n"
     ]
    },
    {
     "name": "stderr",
     "output_type": "stream",
     "text": [
      " 2. run of importance source...\n"
     ]
    },
    {
     "name": "stdout",
     "output_type": "stream",
     "text": [
      "Computing permutation importance.. Progress: 41%. Estimated remaining time: 44 seconds.\n",
      "Computing permutation importance.. Progress: 82%. Estimated remaining time: 13 seconds.\n"
     ]
    },
    {
     "name": "stderr",
     "output_type": "stream",
     "text": [
      " 3. run of importance source...\n"
     ]
    },
    {
     "name": "stdout",
     "output_type": "stream",
     "text": [
      "Computing permutation importance.. Progress: 41%. Estimated remaining time: 44 seconds.\n",
      "Computing permutation importance.. Progress: 82%. Estimated remaining time: 13 seconds.\n"
     ]
    },
    {
     "name": "stderr",
     "output_type": "stream",
     "text": [
      " 4. run of importance source...\n"
     ]
    },
    {
     "name": "stdout",
     "output_type": "stream",
     "text": [
      "Computing permutation importance.. Progress: 41%. Estimated remaining time: 44 seconds.\n",
      "Computing permutation importance.. Progress: 82%. Estimated remaining time: 13 seconds.\n"
     ]
    },
    {
     "name": "stderr",
     "output_type": "stream",
     "text": [
      " 5. run of importance source...\n"
     ]
    },
    {
     "name": "stdout",
     "output_type": "stream",
     "text": [
      "Computing permutation importance.. Progress: 40%. Estimated remaining time: 45 seconds.\n",
      "Computing permutation importance.. Progress: 81%. Estimated remaining time: 14 seconds.\n"
     ]
    },
    {
     "name": "stderr",
     "output_type": "stream",
     "text": [
      " 6. run of importance source...\n"
     ]
    },
    {
     "name": "stdout",
     "output_type": "stream",
     "text": [
      "Computing permutation importance.. Progress: 40%. Estimated remaining time: 46 seconds.\n",
      "Computing permutation importance.. Progress: 82%. Estimated remaining time: 13 seconds.\n"
     ]
    },
    {
     "name": "stderr",
     "output_type": "stream",
     "text": [
      " 7. run of importance source...\n"
     ]
    },
    {
     "name": "stdout",
     "output_type": "stream",
     "text": [
      "Computing permutation importance.. Progress: 42%. Estimated remaining time: 43 seconds.\n",
      "Computing permutation importance.. Progress: 83%. Estimated remaining time: 13 seconds.\n"
     ]
    },
    {
     "name": "stderr",
     "output_type": "stream",
     "text": [
      " 8. run of importance source...\n"
     ]
    },
    {
     "name": "stdout",
     "output_type": "stream",
     "text": [
      "Computing permutation importance.. Progress: 41%. Estimated remaining time: 44 seconds.\n",
      "Computing permutation importance.. Progress: 76%. Estimated remaining time: 19 seconds.\n"
     ]
    },
    {
     "name": "stderr",
     "output_type": "stream",
     "text": [
      " 9. run of importance source...\n"
     ]
    },
    {
     "name": "stdout",
     "output_type": "stream",
     "text": [
      "Computing permutation importance.. Progress: 38%. Estimated remaining time: 49 seconds.\n",
      "Computing permutation importance.. Progress: 76%. Estimated remaining time: 19 seconds.\n"
     ]
    },
    {
     "name": "stderr",
     "output_type": "stream",
     "text": [
      " 10. run of importance source...\n"
     ]
    },
    {
     "name": "stdout",
     "output_type": "stream",
     "text": [
      "Computing permutation importance.. Progress: 35%. Estimated remaining time: 58 seconds.\n",
      "Computing permutation importance.. Progress: 71%. Estimated remaining time: 25 seconds.\n"
     ]
    },
    {
     "name": "stderr",
     "output_type": "stream",
     "text": [
      " 11. run of importance source...\n"
     ]
    },
    {
     "name": "stdout",
     "output_type": "stream",
     "text": [
      "Computing permutation importance.. Progress: 36%. Estimated remaining time: 54 seconds.\n",
      "Computing permutation importance.. Progress: 74%. Estimated remaining time: 22 seconds.\n"
     ]
    },
    {
     "name": "stderr",
     "output_type": "stream",
     "text": [
      " 12. run of importance source...\n"
     ]
    },
    {
     "name": "stdout",
     "output_type": "stream",
     "text": [
      "Computing permutation importance.. Progress: 37%. Estimated remaining time: 53 seconds.\n",
      "Computing permutation importance.. Progress: 75%. Estimated remaining time: 20 seconds.\n"
     ]
    },
    {
     "name": "stderr",
     "output_type": "stream",
     "text": [
      " 13. run of importance source...\n"
     ]
    },
    {
     "name": "stdout",
     "output_type": "stream",
     "text": [
      "Computing permutation importance.. Progress: 36%. Estimated remaining time: 55 seconds.\n",
      "Computing permutation importance.. Progress: 72%. Estimated remaining time: 24 seconds.\n"
     ]
    },
    {
     "name": "stderr",
     "output_type": "stream",
     "text": [
      " 14. run of importance source...\n"
     ]
    },
    {
     "name": "stdout",
     "output_type": "stream",
     "text": [
      "Computing permutation importance.. Progress: 37%. Estimated remaining time: 52 seconds.\n",
      "Computing permutation importance.. Progress: 74%. Estimated remaining time: 22 seconds.\n"
     ]
    },
    {
     "name": "stderr",
     "output_type": "stream",
     "text": [
      " 15. run of importance source...\n"
     ]
    },
    {
     "name": "stdout",
     "output_type": "stream",
     "text": [
      "Computing permutation importance.. Progress: 36%. Estimated remaining time: 55 seconds.\n",
      "Computing permutation importance.. Progress: 73%. Estimated remaining time: 22 seconds.\n"
     ]
    },
    {
     "name": "stderr",
     "output_type": "stream",
     "text": [
      " 16. run of importance source...\n"
     ]
    },
    {
     "name": "stdout",
     "output_type": "stream",
     "text": [
      "Computing permutation importance.. Progress: 36%. Estimated remaining time: 54 seconds.\n",
      "Computing permutation importance.. Progress: 75%. Estimated remaining time: 20 seconds.\n"
     ]
    },
    {
     "name": "stderr",
     "output_type": "stream",
     "text": [
      " 17. run of importance source...\n"
     ]
    },
    {
     "name": "stdout",
     "output_type": "stream",
     "text": [
      "Computing permutation importance.. Progress: 37%. Estimated remaining time: 52 seconds.\n",
      "Computing permutation importance.. Progress: 75%. Estimated remaining time: 21 seconds.\n"
     ]
    },
    {
     "name": "stderr",
     "output_type": "stream",
     "text": [
      " 18. run of importance source...\n"
     ]
    },
    {
     "name": "stdout",
     "output_type": "stream",
     "text": [
      "Computing permutation importance.. Progress: 37%. Estimated remaining time: 52 seconds.\n",
      "Computing permutation importance.. Progress: 75%. Estimated remaining time: 21 seconds.\n"
     ]
    },
    {
     "name": "stderr",
     "output_type": "stream",
     "text": [
      " 19. run of importance source...\n"
     ]
    },
    {
     "name": "stdout",
     "output_type": "stream",
     "text": [
      "Computing permutation importance.. Progress: 35%. Estimated remaining time: 56 seconds.\n",
      "Computing permutation importance.. Progress: 71%. Estimated remaining time: 25 seconds.\n"
     ]
    },
    {
     "name": "stderr",
     "output_type": "stream",
     "text": [
      " 20. run of importance source...\n"
     ]
    },
    {
     "name": "stdout",
     "output_type": "stream",
     "text": [
      "Computing permutation importance.. Progress: 35%. Estimated remaining time: 57 seconds.\n",
      "Computing permutation importance.. Progress: 73%. Estimated remaining time: 23 seconds.\n"
     ]
    },
    {
     "name": "stderr",
     "output_type": "stream",
     "text": [
      " 21. run of importance source...\n"
     ]
    },
    {
     "name": "stdout",
     "output_type": "stream",
     "text": [
      "Computing permutation importance.. Progress: 35%. Estimated remaining time: 56 seconds.\n",
      "Computing permutation importance.. Progress: 73%. Estimated remaining time: 22 seconds.\n"
     ]
    },
    {
     "name": "stderr",
     "output_type": "stream",
     "text": [
      "After 21 iterations, +31 mins: \n",
      " rejected 20148 attributes: A1BG, A1BG-AS1, A1CF, A2M, A2M-AS1 and 20143 more;\n",
      " still have 26 attributes left.\n",
      "\n",
      " 22. run of importance source...\n",
      " 23. run of importance source...\n",
      " 24. run of importance source...\n",
      " 25. run of importance source...\n",
      " 26. run of importance source...\n",
      "After 26 iterations, +31 mins: \n",
      " rejected 1 attribute: ZSCAN1;\n",
      " still have 25 attributes left.\n",
      "\n",
      " 27. run of importance source...\n",
      " 28. run of importance source...\n",
      " 29. run of importance source...\n",
      " 30. run of importance source...\n",
      " 31. run of importance source...\n",
      " 32. run of importance source...\n",
      " 33. run of importance source...\n",
      " 34. run of importance source...\n",
      " 35. run of importance source...\n",
      " 36. run of importance source...\n",
      " 37. run of importance source...\n",
      " 38. run of importance source...\n",
      " 39. run of importance source...\n",
      " 40. run of importance source...\n",
      " 41. run of importance source...\n",
      " 42. run of importance source...\n",
      " 43. run of importance source...\n",
      " 44. run of importance source...\n",
      "After 44 iterations, +31 mins: \n",
      " rejected 1 attribute: DUOX1;\n",
      " still have 24 attributes left.\n",
      "\n",
      " 45. run of importance source...\n",
      " 46. run of importance source...\n",
      " 47. run of importance source...\n",
      " 48. run of importance source...\n",
      " 49. run of importance source...\n",
      " 50. run of importance source...\n",
      " 51. run of importance source...\n",
      " 52. run of importance source...\n",
      " 53. run of importance source...\n",
      " 54. run of importance source...\n",
      " 55. run of importance source...\n",
      " 56. run of importance source...\n",
      " 57. run of importance source...\n",
      " 58. run of importance source...\n",
      " 59. run of importance source...\n",
      " 60. run of importance source...\n",
      " 61. run of importance source...\n",
      " 62. run of importance source...\n",
      " 63. run of importance source...\n",
      " 64. run of importance source...\n",
      " 65. run of importance source...\n",
      " 66. run of importance source...\n",
      " 67. run of importance source...\n",
      " 68. run of importance source...\n",
      " 69. run of importance source...\n",
      " 70. run of importance source...\n",
      " 71. run of importance source...\n",
      " 72. run of importance source...\n",
      "After 72 iterations, +32 mins: \n",
      " confirmed 1 attribute: TP63;\n",
      " rejected 1 attribute: CDH3;\n",
      " still have 22 attributes left.\n",
      "\n",
      " 73. run of importance source...\n",
      " 74. run of importance source...\n",
      "After 74 iterations, +32 mins: \n",
      " confirmed 1 attribute: SPRR1A;\n",
      " still have 21 attributes left.\n",
      "\n",
      " 75. run of importance source...\n",
      " 76. run of importance source...\n",
      " 77. run of importance source...\n",
      "After 77 iterations, +32 mins: \n",
      " confirmed 1 attribute: TMPRSS11E;\n",
      " still have 20 attributes left.\n",
      "\n",
      " 78. run of importance source...\n",
      " 79. run of importance source...\n",
      " 80. run of importance source...\n",
      " 81. run of importance source...\n",
      " 82. run of importance source...\n",
      " 83. run of importance source...\n",
      "After 83 iterations, +32 mins: \n",
      " confirmed 2 attributes: DSC3, ZNF740;\n",
      " still have 18 attributes left.\n",
      "\n",
      " 84. run of importance source...\n",
      " 85. run of importance source...\n",
      " 86. run of importance source...\n",
      "After 86 iterations, +32 mins: \n",
      " confirmed 1 attribute: EVPL;\n",
      " still have 17 attributes left.\n",
      "\n",
      " 87. run of importance source...\n",
      " 88. run of importance source...\n",
      "After 88 iterations, +32 mins: \n",
      " confirmed 6 attributes: AMMECR1, CD86, DNAAF11, S100A14, SEC61G and 1 more;\n",
      " still have 11 attributes left.\n",
      "\n",
      " 89. run of importance source...\n",
      " 90. run of importance source...\n",
      " 91. run of importance source...\n",
      "After 91 iterations, +32 mins: \n",
      " confirmed 1 attribute: SOX15;\n",
      " still have 10 attributes left.\n",
      "\n",
      " 92. run of importance source...\n",
      " 93. run of importance source...\n",
      " 94. run of importance source...\n",
      "After 94 iterations, +32 mins: \n",
      " confirmed 1 attribute: FLCN;\n",
      " still have 9 attributes left.\n",
      "\n",
      " 95. run of importance source...\n",
      " 96. run of importance source...\n",
      "After 96 iterations, +32 mins: \n",
      " confirmed 2 attributes: ARTN, GJB6;\n",
      " still have 7 attributes left.\n",
      "\n",
      " 97. run of importance source...\n",
      " 98. run of importance source...\n",
      " 99. run of importance source...\n",
      "After 99 iterations, +32 mins: \n",
      " confirmed 1 attribute: LACTB2-AS1;\n",
      " still have 6 attributes left.\n",
      "\n"
     ]
    },
    {
     "name": "stdout",
     "output_type": "stream",
     "text": [
      "\n",
      "Drug18: Boruta is running for TKI258"
     ]
    },
    {
     "name": "stderr",
     "output_type": "stream",
     "text": [
      " 1. run of importance source...\n"
     ]
    },
    {
     "name": "stdout",
     "output_type": "stream",
     "text": [
      "Computing permutation importance.. Progress: 38%. Estimated remaining time: 51 seconds.\n",
      "Computing permutation importance.. Progress: 76%. Estimated remaining time: 19 seconds.\n"
     ]
    },
    {
     "name": "stderr",
     "output_type": "stream",
     "text": [
      " 2. run of importance source...\n"
     ]
    },
    {
     "name": "stdout",
     "output_type": "stream",
     "text": [
      "Computing permutation importance.. Progress: 37%. Estimated remaining time: 52 seconds.\n",
      "Computing permutation importance.. Progress: 75%. Estimated remaining time: 20 seconds.\n"
     ]
    },
    {
     "name": "stderr",
     "output_type": "stream",
     "text": [
      " 3. run of importance source...\n"
     ]
    },
    {
     "name": "stdout",
     "output_type": "stream",
     "text": [
      "Computing permutation importance.. Progress: 38%. Estimated remaining time: 50 seconds.\n",
      "Computing permutation importance.. Progress: 77%. Estimated remaining time: 18 seconds.\n"
     ]
    },
    {
     "name": "stderr",
     "output_type": "stream",
     "text": [
      " 4. run of importance source...\n"
     ]
    },
    {
     "name": "stdout",
     "output_type": "stream",
     "text": [
      "Computing permutation importance.. Progress: 39%. Estimated remaining time: 48 seconds.\n",
      "Computing permutation importance.. Progress: 78%. Estimated remaining time: 17 seconds.\n"
     ]
    },
    {
     "name": "stderr",
     "output_type": "stream",
     "text": [
      " 5. run of importance source...\n"
     ]
    },
    {
     "name": "stdout",
     "output_type": "stream",
     "text": [
      "Computing permutation importance.. Progress: 38%. Estimated remaining time: 49 seconds.\n",
      "Computing permutation importance.. Progress: 77%. Estimated remaining time: 18 seconds.\n"
     ]
    },
    {
     "name": "stderr",
     "output_type": "stream",
     "text": [
      " 6. run of importance source...\n"
     ]
    },
    {
     "name": "stdout",
     "output_type": "stream",
     "text": [
      "Computing permutation importance.. Progress: 38%. Estimated remaining time: 49 seconds.\n",
      "Computing permutation importance.. Progress: 78%. Estimated remaining time: 17 seconds.\n"
     ]
    },
    {
     "name": "stderr",
     "output_type": "stream",
     "text": [
      " 7. run of importance source...\n"
     ]
    },
    {
     "name": "stdout",
     "output_type": "stream",
     "text": [
      "Computing permutation importance.. Progress: 38%. Estimated remaining time: 49 seconds.\n",
      "Computing permutation importance.. Progress: 81%. Estimated remaining time: 14 seconds.\n"
     ]
    },
    {
     "name": "stderr",
     "output_type": "stream",
     "text": [
      " 8. run of importance source...\n"
     ]
    },
    {
     "name": "stdout",
     "output_type": "stream",
     "text": [
      "Computing permutation importance.. Progress: 43%. Estimated remaining time: 41 seconds.\n",
      "Computing permutation importance.. Progress: 86%. Estimated remaining time: 10 seconds.\n"
     ]
    },
    {
     "name": "stderr",
     "output_type": "stream",
     "text": [
      " 9. run of importance source...\n"
     ]
    },
    {
     "name": "stdout",
     "output_type": "stream",
     "text": [
      "Computing permutation importance.. Progress: 42%. Estimated remaining time: 43 seconds.\n",
      "Computing permutation importance.. Progress: 85%. Estimated remaining time: 10 seconds.\n"
     ]
    },
    {
     "name": "stderr",
     "output_type": "stream",
     "text": [
      " 10. run of importance source...\n"
     ]
    },
    {
     "name": "stdout",
     "output_type": "stream",
     "text": [
      "Computing permutation importance.. Progress: 42%. Estimated remaining time: 43 seconds.\n",
      "Computing permutation importance.. Progress: 85%. Estimated remaining time: 11 seconds.\n"
     ]
    },
    {
     "name": "stderr",
     "output_type": "stream",
     "text": [
      " 11. run of importance source...\n"
     ]
    },
    {
     "name": "stdout",
     "output_type": "stream",
     "text": [
      "Computing permutation importance.. Progress: 42%. Estimated remaining time: 42 seconds.\n",
      "Computing permutation importance.. Progress: 87%. Estimated remaining time: 9 seconds.\n"
     ]
    },
    {
     "name": "stderr",
     "output_type": "stream",
     "text": [
      " 12. run of importance source...\n"
     ]
    },
    {
     "name": "stdout",
     "output_type": "stream",
     "text": [
      "Computing permutation importance.. Progress: 43%. Estimated remaining time: 40 seconds.\n",
      "Computing permutation importance.. Progress: 87%. Estimated remaining time: 9 seconds.\n"
     ]
    },
    {
     "name": "stderr",
     "output_type": "stream",
     "text": [
      " 13. run of importance source...\n"
     ]
    },
    {
     "name": "stdout",
     "output_type": "stream",
     "text": [
      "Computing permutation importance.. Progress: 42%. Estimated remaining time: 42 seconds.\n",
      "Computing permutation importance.. Progress: 85%. Estimated remaining time: 11 seconds.\n"
     ]
    },
    {
     "name": "stderr",
     "output_type": "stream",
     "text": [
      " 14. run of importance source...\n"
     ]
    },
    {
     "name": "stdout",
     "output_type": "stream",
     "text": [
      "Computing permutation importance.. Progress: 43%. Estimated remaining time: 40 seconds.\n",
      "Computing permutation importance.. Progress: 86%. Estimated remaining time: 10 seconds.\n"
     ]
    },
    {
     "name": "stderr",
     "output_type": "stream",
     "text": [
      " 15. run of importance source...\n"
     ]
    },
    {
     "name": "stdout",
     "output_type": "stream",
     "text": [
      "Computing permutation importance.. Progress: 42%. Estimated remaining time: 43 seconds.\n",
      "Computing permutation importance.. Progress: 85%. Estimated remaining time: 11 seconds.\n"
     ]
    },
    {
     "name": "stderr",
     "output_type": "stream",
     "text": [
      " 16. run of importance source...\n"
     ]
    },
    {
     "name": "stdout",
     "output_type": "stream",
     "text": [
      "Computing permutation importance.. Progress: 42%. Estimated remaining time: 43 seconds.\n",
      "Computing permutation importance.. Progress: 83%. Estimated remaining time: 12 seconds.\n"
     ]
    },
    {
     "name": "stderr",
     "output_type": "stream",
     "text": [
      " 17. run of importance source...\n"
     ]
    },
    {
     "name": "stdout",
     "output_type": "stream",
     "text": [
      "Computing permutation importance.. Progress: 42%. Estimated remaining time: 42 seconds.\n",
      "Computing permutation importance.. Progress: 85%. Estimated remaining time: 10 seconds.\n"
     ]
    },
    {
     "name": "stderr",
     "output_type": "stream",
     "text": [
      " 18. run of importance source...\n"
     ]
    },
    {
     "name": "stdout",
     "output_type": "stream",
     "text": [
      "Computing permutation importance.. Progress: 42%. Estimated remaining time: 43 seconds.\n",
      "Computing permutation importance.. Progress: 85%. Estimated remaining time: 11 seconds.\n"
     ]
    },
    {
     "name": "stderr",
     "output_type": "stream",
     "text": [
      " 19. run of importance source...\n"
     ]
    },
    {
     "name": "stdout",
     "output_type": "stream",
     "text": [
      "Computing permutation importance.. Progress: 42%. Estimated remaining time: 43 seconds.\n",
      "Computing permutation importance.. Progress: 84%. Estimated remaining time: 11 seconds.\n"
     ]
    },
    {
     "name": "stderr",
     "output_type": "stream",
     "text": [
      " 20. run of importance source...\n"
     ]
    },
    {
     "name": "stdout",
     "output_type": "stream",
     "text": [
      "Computing permutation importance.. Progress: 43%. Estimated remaining time: 41 seconds.\n",
      "Computing permutation importance.. Progress: 85%. Estimated remaining time: 10 seconds.\n"
     ]
    },
    {
     "name": "stderr",
     "output_type": "stream",
     "text": [
      " 21. run of importance source...\n"
     ]
    },
    {
     "name": "stdout",
     "output_type": "stream",
     "text": [
      "Computing permutation importance.. Progress: 42%. Estimated remaining time: 42 seconds.\n",
      "Computing permutation importance.. Progress: 85%. Estimated remaining time: 10 seconds.\n"
     ]
    },
    {
     "name": "stderr",
     "output_type": "stream",
     "text": [
      "After 21 iterations, +29 mins: \n",
      " rejected 20131 attributes: A1BG, A1BG-AS1, A1CF, A2M, A2M-AS1 and 20126 more;\n",
      " still have 43 attributes left.\n",
      "\n",
      " 22. run of importance source...\n",
      " 23. run of importance source...\n",
      " 24. run of importance source...\n",
      " 25. run of importance source...\n",
      " 26. run of importance source...\n",
      "After 26 iterations, +29 mins: \n",
      " rejected 7 attributes: F12, HAGHL, JAGN1, NFIA, RBM25 and 2 more;\n",
      " still have 36 attributes left.\n",
      "\n",
      " 27. run of importance source...\n",
      " 28. run of importance source...\n",
      " 29. run of importance source...\n",
      " 30. run of importance source...\n",
      " 31. run of importance source...\n",
      " 32. run of importance source...\n",
      " 33. run of importance source...\n",
      " 34. run of importance source...\n",
      " 35. run of importance source...\n",
      " 36. run of importance source...\n",
      " 37. run of importance source...\n",
      " 38. run of importance source...\n",
      " 39. run of importance source...\n",
      " 40. run of importance source...\n",
      " 41. run of importance source...\n",
      " 42. run of importance source...\n",
      " 43. run of importance source...\n",
      " 44. run of importance source...\n",
      " 45. run of importance source...\n",
      " 46. run of importance source...\n",
      " 47. run of importance source...\n",
      " 48. run of importance source...\n",
      " 49. run of importance source...\n",
      " 50. run of importance source...\n",
      " 51. run of importance source...\n",
      " 52. run of importance source...\n",
      " 53. run of importance source...\n",
      " 54. run of importance source...\n",
      "After 54 iterations, +29 mins: \n",
      " rejected 1 attribute: EGLN1;\n",
      " still have 35 attributes left.\n",
      "\n",
      " 55. run of importance source...\n",
      " 56. run of importance source...\n",
      " 57. run of importance source...\n",
      " 58. run of importance source...\n",
      " 59. run of importance source...\n",
      " 60. run of importance source...\n",
      "After 60 iterations, +29 mins: \n",
      " confirmed 1 attribute: DNAJB9;\n",
      " still have 34 attributes left.\n",
      "\n",
      " 61. run of importance source...\n",
      " 62. run of importance source...\n",
      " 63. run of importance source...\n",
      " 64. run of importance source...\n",
      " 65. run of importance source...\n",
      " 66. run of importance source...\n",
      " 67. run of importance source...\n",
      " 68. run of importance source...\n",
      " 69. run of importance source...\n",
      "After 69 iterations, +29 mins: \n",
      " confirmed 1 attribute: THRAP3;\n",
      " still have 33 attributes left.\n",
      "\n",
      " 70. run of importance source...\n",
      " 71. run of importance source...\n",
      " 72. run of importance source...\n",
      " 73. run of importance source...\n",
      " 74. run of importance source...\n",
      " 75. run of importance source...\n",
      " 76. run of importance source...\n",
      " 77. run of importance source...\n",
      "After 77 iterations, +29 mins: \n",
      " confirmed 2 attributes: HOXC8, SAMD1;\n",
      " still have 31 attributes left.\n",
      "\n",
      " 78. run of importance source...\n",
      " 79. run of importance source...\n",
      " 80. run of importance source...\n",
      "After 80 iterations, +29 mins: \n",
      " confirmed 1 attribute: MSRB3;\n",
      " still have 30 attributes left.\n",
      "\n",
      " 81. run of importance source...\n",
      " 82. run of importance source...\n",
      " 83. run of importance source...\n",
      "After 83 iterations, +29 mins: \n",
      " confirmed 1 attribute: LMTK2;\n",
      " still have 29 attributes left.\n",
      "\n",
      " 84. run of importance source...\n",
      " 85. run of importance source...\n",
      " 86. run of importance source...\n",
      "After 86 iterations, +29 mins: \n",
      " confirmed 5 attributes: FA2H, GPR135, PPFIA1, PTOV1, STAT2;\n",
      " still have 24 attributes left.\n",
      "\n",
      " 87. run of importance source...\n",
      " 88. run of importance source...\n",
      " 89. run of importance source...\n",
      " 90. run of importance source...\n",
      " 91. run of importance source...\n",
      "After 91 iterations, +29 mins: \n",
      " confirmed 1 attribute: SNRPA;\n",
      " still have 23 attributes left.\n",
      "\n",
      " 92. run of importance source...\n",
      " 93. run of importance source...\n",
      " 94. run of importance source...\n",
      "After 94 iterations, +29 mins: \n",
      " confirmed 1 attribute: PTBP1;\n",
      " still have 22 attributes left.\n",
      "\n",
      " 95. run of importance source...\n",
      " 96. run of importance source...\n",
      " 97. run of importance source...\n",
      " 98. run of importance source...\n",
      " 99. run of importance source...\n",
      "After 99 iterations, +29 mins: \n",
      " confirmed 1 attribute: OSBPL2;\n",
      " still have 21 attributes left.\n",
      "\n"
     ]
    },
    {
     "name": "stdout",
     "output_type": "stream",
     "text": [
      "\n",
      "Drug19: Boruta is running for PHA-665752"
     ]
    },
    {
     "name": "stderr",
     "output_type": "stream",
     "text": [
      " 1. run of importance source...\n"
     ]
    },
    {
     "name": "stdout",
     "output_type": "stream",
     "text": [
      "Computing permutation importance.. Progress: 59%. Estimated remaining time: 21 seconds.\n"
     ]
    },
    {
     "name": "stderr",
     "output_type": "stream",
     "text": [
      " 2. run of importance source...\n"
     ]
    },
    {
     "name": "stdout",
     "output_type": "stream",
     "text": [
      "Computing permutation importance.. Progress: 56%. Estimated remaining time: 23 seconds.\n"
     ]
    },
    {
     "name": "stderr",
     "output_type": "stream",
     "text": [
      " 3. run of importance source...\n"
     ]
    },
    {
     "name": "stdout",
     "output_type": "stream",
     "text": [
      "Computing permutation importance.. Progress: 59%. Estimated remaining time: 21 seconds.\n"
     ]
    },
    {
     "name": "stderr",
     "output_type": "stream",
     "text": [
      " 4. run of importance source...\n"
     ]
    },
    {
     "name": "stdout",
     "output_type": "stream",
     "text": [
      "Computing permutation importance.. Progress: 58%. Estimated remaining time: 22 seconds.\n"
     ]
    },
    {
     "name": "stderr",
     "output_type": "stream",
     "text": [
      " 5. run of importance source...\n"
     ]
    },
    {
     "name": "stdout",
     "output_type": "stream",
     "text": [
      "Computing permutation importance.. Progress: 58%. Estimated remaining time: 22 seconds.\n"
     ]
    },
    {
     "name": "stderr",
     "output_type": "stream",
     "text": [
      " 6. run of importance source...\n"
     ]
    },
    {
     "name": "stdout",
     "output_type": "stream",
     "text": [
      "Computing permutation importance.. Progress: 58%. Estimated remaining time: 22 seconds.\n"
     ]
    },
    {
     "name": "stderr",
     "output_type": "stream",
     "text": [
      " 7. run of importance source...\n"
     ]
    },
    {
     "name": "stdout",
     "output_type": "stream",
     "text": [
      "Computing permutation importance.. Progress: 58%. Estimated remaining time: 22 seconds.\n"
     ]
    },
    {
     "name": "stderr",
     "output_type": "stream",
     "text": [
      " 8. run of importance source...\n"
     ]
    },
    {
     "name": "stdout",
     "output_type": "stream",
     "text": [
      "Computing permutation importance.. Progress: 58%. Estimated remaining time: 22 seconds.\n"
     ]
    },
    {
     "name": "stderr",
     "output_type": "stream",
     "text": [
      " 9. run of importance source...\n"
     ]
    },
    {
     "name": "stdout",
     "output_type": "stream",
     "text": [
      "Computing permutation importance.. Progress: 59%. Estimated remaining time: 21 seconds.\n"
     ]
    },
    {
     "name": "stderr",
     "output_type": "stream",
     "text": [
      " 10. run of importance source...\n"
     ]
    },
    {
     "name": "stdout",
     "output_type": "stream",
     "text": [
      "Computing permutation importance.. Progress: 57%. Estimated remaining time: 23 seconds.\n"
     ]
    },
    {
     "name": "stderr",
     "output_type": "stream",
     "text": [
      " 11. run of importance source...\n"
     ]
    },
    {
     "name": "stdout",
     "output_type": "stream",
     "text": [
      "Computing permutation importance.. Progress: 58%. Estimated remaining time: 22 seconds.\n"
     ]
    },
    {
     "name": "stderr",
     "output_type": "stream",
     "text": [
      " 12. run of importance source...\n"
     ]
    },
    {
     "name": "stdout",
     "output_type": "stream",
     "text": [
      "Computing permutation importance.. Progress: 58%. Estimated remaining time: 22 seconds.\n"
     ]
    },
    {
     "name": "stderr",
     "output_type": "stream",
     "text": [
      " 13. run of importance source...\n"
     ]
    },
    {
     "name": "stdout",
     "output_type": "stream",
     "text": [
      "Computing permutation importance.. Progress: 57%. Estimated remaining time: 23 seconds.\n"
     ]
    },
    {
     "name": "stderr",
     "output_type": "stream",
     "text": [
      " 14. run of importance source...\n"
     ]
    },
    {
     "name": "stdout",
     "output_type": "stream",
     "text": [
      "Computing permutation importance.. Progress: 58%. Estimated remaining time: 22 seconds.\n"
     ]
    },
    {
     "name": "stderr",
     "output_type": "stream",
     "text": [
      " 15. run of importance source...\n"
     ]
    },
    {
     "name": "stdout",
     "output_type": "stream",
     "text": [
      "Computing permutation importance.. Progress: 58%. Estimated remaining time: 22 seconds.\n"
     ]
    },
    {
     "name": "stderr",
     "output_type": "stream",
     "text": [
      " 16. run of importance source...\n"
     ]
    },
    {
     "name": "stdout",
     "output_type": "stream",
     "text": [
      "Computing permutation importance.. Progress: 58%. Estimated remaining time: 22 seconds.\n"
     ]
    },
    {
     "name": "stderr",
     "output_type": "stream",
     "text": [
      " 17. run of importance source...\n"
     ]
    },
    {
     "name": "stdout",
     "output_type": "stream",
     "text": [
      "Computing permutation importance.. Progress: 59%. Estimated remaining time: 21 seconds.\n"
     ]
    },
    {
     "name": "stderr",
     "output_type": "stream",
     "text": [
      " 18. run of importance source...\n"
     ]
    },
    {
     "name": "stdout",
     "output_type": "stream",
     "text": [
      "Computing permutation importance.. Progress: 56%. Estimated remaining time: 24 seconds.\n"
     ]
    },
    {
     "name": "stderr",
     "output_type": "stream",
     "text": [
      " 19. run of importance source...\n"
     ]
    },
    {
     "name": "stdout",
     "output_type": "stream",
     "text": [
      "Computing permutation importance.. Progress: 58%. Estimated remaining time: 22 seconds.\n"
     ]
    },
    {
     "name": "stderr",
     "output_type": "stream",
     "text": [
      " 20. run of importance source...\n"
     ]
    },
    {
     "name": "stdout",
     "output_type": "stream",
     "text": [
      "Computing permutation importance.. Progress: 59%. Estimated remaining time: 21 seconds.\n"
     ]
    },
    {
     "name": "stderr",
     "output_type": "stream",
     "text": [
      " 21. run of importance source...\n"
     ]
    },
    {
     "name": "stdout",
     "output_type": "stream",
     "text": [
      "Computing permutation importance.. Progress: 59%. Estimated remaining time: 21 seconds.\n"
     ]
    },
    {
     "name": "stderr",
     "output_type": "stream",
     "text": [
      "After 21 iterations, +20 mins: \n",
      " rejected 20163 attributes: A1BG, A1BG-AS1, A1CF, A2M, A2M-AS1 and 20158 more;\n",
      " still have 11 attributes left.\n",
      "\n",
      " 22. run of importance source...\n",
      " 23. run of importance source...\n",
      " 24. run of importance source...\n",
      " 25. run of importance source...\n",
      " 26. run of importance source...\n",
      "After 26 iterations, +20 mins: \n",
      " rejected 2 attributes: HOXC4, SETD1B;\n",
      " still have 9 attributes left.\n",
      "\n",
      " 27. run of importance source...\n",
      " 28. run of importance source...\n",
      " 29. run of importance source...\n",
      " 30. run of importance source...\n",
      " 31. run of importance source...\n",
      " 32. run of importance source...\n",
      " 33. run of importance source...\n",
      " 34. run of importance source...\n",
      " 35. run of importance source...\n",
      " 36. run of importance source...\n",
      " 37. run of importance source...\n",
      " 38. run of importance source...\n",
      " 39. run of importance source...\n",
      " 40. run of importance source...\n",
      " 41. run of importance source...\n",
      "After 41 iterations, +20 mins: \n",
      " rejected 1 attribute: ZCCHC2;\n",
      " still have 8 attributes left.\n",
      "\n",
      " 42. run of importance source...\n",
      " 43. run of importance source...\n",
      " 44. run of importance source...\n",
      " 45. run of importance source...\n",
      " 46. run of importance source...\n",
      " 47. run of importance source...\n",
      " 48. run of importance source...\n",
      " 49. run of importance source...\n",
      " 50. run of importance source...\n",
      " 51. run of importance source...\n",
      " 52. run of importance source...\n",
      " 53. run of importance source...\n",
      " 54. run of importance source...\n",
      " 55. run of importance source...\n",
      " 56. run of importance source...\n",
      " 57. run of importance source...\n",
      " 58. run of importance source...\n",
      " 59. run of importance source...\n",
      " 60. run of importance source...\n",
      " 61. run of importance source...\n",
      " 62. run of importance source...\n",
      " 63. run of importance source...\n",
      " 64. run of importance source...\n",
      " 65. run of importance source...\n",
      " 66. run of importance source...\n",
      " 67. run of importance source...\n",
      " 68. run of importance source...\n",
      " 69. run of importance source...\n",
      " 70. run of importance source...\n",
      " 71. run of importance source...\n",
      " 72. run of importance source...\n",
      " 73. run of importance source...\n",
      " 74. run of importance source...\n",
      " 75. run of importance source...\n",
      " 76. run of importance source...\n",
      " 77. run of importance source...\n",
      " 78. run of importance source...\n",
      " 79. run of importance source...\n",
      " 80. run of importance source...\n",
      " 81. run of importance source...\n",
      " 82. run of importance source...\n",
      " 83. run of importance source...\n",
      "After 83 iterations, +20 mins: \n",
      " confirmed 1 attribute: TPRXL;\n",
      " still have 7 attributes left.\n",
      "\n",
      " 84. run of importance source...\n",
      " 85. run of importance source...\n",
      " 86. run of importance source...\n",
      "After 86 iterations, +20 mins: \n",
      " confirmed 2 attributes: STT3A, TIRAP;\n",
      " still have 5 attributes left.\n",
      "\n",
      " 87. run of importance source...\n",
      " 88. run of importance source...\n",
      " 89. run of importance source...\n",
      " 90. run of importance source...\n",
      " 91. run of importance source...\n",
      " 92. run of importance source...\n",
      " 93. run of importance source...\n",
      " 94. run of importance source...\n",
      " 95. run of importance source...\n",
      " 96. run of importance source...\n",
      " 97. run of importance source...\n",
      " 98. run of importance source...\n",
      " 99. run of importance source...\n"
     ]
    },
    {
     "name": "stdout",
     "output_type": "stream",
     "text": [
      "\n",
      "Drug20: Boruta is running for PD-0325901"
     ]
    },
    {
     "name": "stderr",
     "output_type": "stream",
     "text": [
      " 1. run of importance source...\n"
     ]
    },
    {
     "name": "stdout",
     "output_type": "stream",
     "text": [
      "Computing permutation importance.. Progress: 51%. Estimated remaining time: 30 seconds.\n"
     ]
    },
    {
     "name": "stderr",
     "output_type": "stream",
     "text": [
      " 2. run of importance source...\n"
     ]
    },
    {
     "name": "stdout",
     "output_type": "stream",
     "text": [
      "Computing permutation importance.. Progress: 53%. Estimated remaining time: 27 seconds.\n"
     ]
    },
    {
     "name": "stderr",
     "output_type": "stream",
     "text": [
      " 3. run of importance source...\n"
     ]
    },
    {
     "name": "stdout",
     "output_type": "stream",
     "text": [
      "Computing permutation importance.. Progress: 52%. Estimated remaining time: 28 seconds.\n"
     ]
    },
    {
     "name": "stderr",
     "output_type": "stream",
     "text": [
      " 4. run of importance source...\n"
     ]
    },
    {
     "name": "stdout",
     "output_type": "stream",
     "text": [
      "Computing permutation importance.. Progress: 52%. Estimated remaining time: 29 seconds.\n"
     ]
    },
    {
     "name": "stderr",
     "output_type": "stream",
     "text": [
      " 5. run of importance source...\n"
     ]
    },
    {
     "name": "stdout",
     "output_type": "stream",
     "text": [
      "Computing permutation importance.. Progress: 53%. Estimated remaining time: 27 seconds.\n"
     ]
    },
    {
     "name": "stderr",
     "output_type": "stream",
     "text": [
      " 6. run of importance source...\n"
     ]
    },
    {
     "name": "stdout",
     "output_type": "stream",
     "text": [
      "Computing permutation importance.. Progress: 53%. Estimated remaining time: 27 seconds.\n"
     ]
    },
    {
     "name": "stderr",
     "output_type": "stream",
     "text": [
      " 7. run of importance source...\n"
     ]
    },
    {
     "name": "stdout",
     "output_type": "stream",
     "text": [
      "Computing permutation importance.. Progress: 53%. Estimated remaining time: 27 seconds.\n"
     ]
    },
    {
     "name": "stderr",
     "output_type": "stream",
     "text": [
      " 8. run of importance source...\n"
     ]
    },
    {
     "name": "stdout",
     "output_type": "stream",
     "text": [
      "Computing permutation importance.. Progress: 53%. Estimated remaining time: 27 seconds.\n"
     ]
    },
    {
     "name": "stderr",
     "output_type": "stream",
     "text": [
      " 9. run of importance source...\n"
     ]
    },
    {
     "name": "stdout",
     "output_type": "stream",
     "text": [
      "Computing permutation importance.. Progress: 53%. Estimated remaining time: 27 seconds.\n"
     ]
    },
    {
     "name": "stderr",
     "output_type": "stream",
     "text": [
      " 10. run of importance source...\n"
     ]
    },
    {
     "name": "stdout",
     "output_type": "stream",
     "text": [
      "Computing permutation importance.. Progress: 53%. Estimated remaining time: 27 seconds.\n"
     ]
    },
    {
     "name": "stderr",
     "output_type": "stream",
     "text": [
      " 11. run of importance source...\n"
     ]
    },
    {
     "name": "stdout",
     "output_type": "stream",
     "text": [
      "Computing permutation importance.. Progress: 53%. Estimated remaining time: 27 seconds.\n"
     ]
    },
    {
     "name": "stderr",
     "output_type": "stream",
     "text": [
      " 12. run of importance source...\n"
     ]
    },
    {
     "name": "stdout",
     "output_type": "stream",
     "text": [
      "Computing permutation importance.. Progress: 53%. Estimated remaining time: 27 seconds.\n"
     ]
    },
    {
     "name": "stderr",
     "output_type": "stream",
     "text": [
      " 13. run of importance source...\n"
     ]
    },
    {
     "name": "stdout",
     "output_type": "stream",
     "text": [
      "Computing permutation importance.. Progress: 53%. Estimated remaining time: 27 seconds.\n"
     ]
    },
    {
     "name": "stderr",
     "output_type": "stream",
     "text": [
      " 14. run of importance source...\n"
     ]
    },
    {
     "name": "stdout",
     "output_type": "stream",
     "text": [
      "Computing permutation importance.. Progress: 53%. Estimated remaining time: 27 seconds.\n"
     ]
    },
    {
     "name": "stderr",
     "output_type": "stream",
     "text": [
      " 15. run of importance source...\n"
     ]
    },
    {
     "name": "stdout",
     "output_type": "stream",
     "text": [
      "Computing permutation importance.. Progress: 53%. Estimated remaining time: 27 seconds.\n"
     ]
    },
    {
     "name": "stderr",
     "output_type": "stream",
     "text": [
      " 16. run of importance source...\n"
     ]
    },
    {
     "name": "stdout",
     "output_type": "stream",
     "text": [
      "Computing permutation importance.. Progress: 53%. Estimated remaining time: 27 seconds.\n"
     ]
    },
    {
     "name": "stderr",
     "output_type": "stream",
     "text": [
      " 17. run of importance source...\n"
     ]
    },
    {
     "name": "stdout",
     "output_type": "stream",
     "text": [
      "Computing permutation importance.. Progress: 52%. Estimated remaining time: 28 seconds.\n"
     ]
    },
    {
     "name": "stderr",
     "output_type": "stream",
     "text": [
      " 18. run of importance source...\n"
     ]
    },
    {
     "name": "stdout",
     "output_type": "stream",
     "text": [
      "Computing permutation importance.. Progress: 54%. Estimated remaining time: 26 seconds.\n"
     ]
    },
    {
     "name": "stderr",
     "output_type": "stream",
     "text": [
      " 19. run of importance source...\n"
     ]
    },
    {
     "name": "stdout",
     "output_type": "stream",
     "text": [
      "Computing permutation importance.. Progress: 52%. Estimated remaining time: 28 seconds.\n"
     ]
    },
    {
     "name": "stderr",
     "output_type": "stream",
     "text": [
      " 20. run of importance source...\n"
     ]
    },
    {
     "name": "stdout",
     "output_type": "stream",
     "text": [
      "Computing permutation importance.. Progress: 52%. Estimated remaining time: 28 seconds.\n"
     ]
    },
    {
     "name": "stderr",
     "output_type": "stream",
     "text": [
      " 21. run of importance source...\n"
     ]
    },
    {
     "name": "stdout",
     "output_type": "stream",
     "text": [
      "Computing permutation importance.. Progress: 49%. Estimated remaining time: 32 seconds.\n",
      "Computing permutation importance.. Progress: 99%. Estimated remaining time: 0 seconds.\n"
     ]
    },
    {
     "name": "stderr",
     "output_type": "stream",
     "text": [
      "After 21 iterations, +23 mins: \n",
      " rejected 20008 attributes: A1BG, A1BG-AS1, A1CF, A2M, A2M-AS1 and 20003 more;\n",
      " still have 166 attributes left.\n",
      "\n",
      " 22. run of importance source...\n",
      " 23. run of importance source...\n",
      " 24. run of importance source...\n",
      " 25. run of importance source...\n",
      " 26. run of importance source...\n",
      "After 26 iterations, +23 mins: \n",
      " rejected 66 attributes: ACTRT3, ADAP1, ADCY9, ALKBH7, ARHGAP26 and 61 more;\n",
      " still have 100 attributes left.\n",
      "\n",
      " 27. run of importance source...\n",
      " 28. run of importance source...\n",
      " 29. run of importance source...\n",
      " 30. run of importance source...\n",
      "After 30 iterations, +23 mins: \n",
      " rejected 15 attributes: BEND6, CYP3A5, FASLG, FKBP11, MYO1A and 10 more;\n",
      " still have 85 attributes left.\n",
      "\n",
      " 31. run of importance source...\n",
      " 32. run of importance source...\n",
      " 33. run of importance source...\n",
      " 34. run of importance source...\n",
      "After 34 iterations, +23 mins: \n",
      " rejected 2 attributes: ARHGAP27, TNFRSF1B;\n",
      " still have 83 attributes left.\n",
      "\n",
      " 35. run of importance source...\n",
      " 36. run of importance source...\n",
      " 37. run of importance source...\n",
      " 38. run of importance source...\n",
      "After 38 iterations, +23 mins: \n",
      " rejected 1 attribute: TNFRSF14;\n",
      " still have 82 attributes left.\n",
      "\n",
      " 39. run of importance source...\n",
      " 40. run of importance source...\n",
      " 41. run of importance source...\n",
      " 42. run of importance source...\n",
      " 43. run of importance source...\n",
      " 44. run of importance source...\n",
      " 45. run of importance source...\n",
      " 46. run of importance source...\n",
      " 47. run of importance source...\n",
      " 48. run of importance source...\n",
      " 49. run of importance source...\n",
      " 50. run of importance source...\n",
      " 51. run of importance source...\n",
      " 52. run of importance source...\n",
      " 53. run of importance source...\n",
      " 54. run of importance source...\n",
      "After 54 iterations, +23 mins: \n",
      " confirmed 1 attribute: TOR4A;\n",
      " still have 81 attributes left.\n",
      "\n",
      " 55. run of importance source...\n",
      " 56. run of importance source...\n",
      " 57. run of importance source...\n",
      " 58. run of importance source...\n",
      " 59. run of importance source...\n",
      " 60. run of importance source...\n",
      "After 60 iterations, +23 mins: \n",
      " rejected 1 attribute: LINC00550;\n",
      " still have 80 attributes left.\n",
      "\n",
      " 61. run of importance source...\n",
      " 62. run of importance source...\n",
      " 63. run of importance source...\n",
      "After 63 iterations, +23 mins: \n",
      " confirmed 1 attribute: KLF3;\n",
      " still have 79 attributes left.\n",
      "\n",
      " 64. run of importance source...\n",
      " 65. run of importance source...\n",
      " 66. run of importance source...\n",
      " 67. run of importance source...\n",
      " 68. run of importance source...\n",
      " 69. run of importance source...\n",
      " 70. run of importance source...\n",
      " 71. run of importance source...\n",
      " 72. run of importance source...\n",
      " 73. run of importance source...\n",
      " 74. run of importance source...\n",
      " 75. run of importance source...\n",
      " 76. run of importance source...\n",
      " 77. run of importance source...\n",
      "After 77 iterations, +23 mins: \n",
      " confirmed 2 attributes: GPR35, TTC7B;\n",
      " still have 77 attributes left.\n",
      "\n",
      " 78. run of importance source...\n",
      " 79. run of importance source...\n",
      " 80. run of importance source...\n",
      " 81. run of importance source...\n",
      " 82. run of importance source...\n",
      " 83. run of importance source...\n",
      " 84. run of importance source...\n",
      " 85. run of importance source...\n",
      " 86. run of importance source...\n",
      "After 86 iterations, +23 mins: \n",
      " confirmed 1 attribute: EPS8L3;\n",
      " still have 76 attributes left.\n",
      "\n",
      " 87. run of importance source...\n",
      " 88. run of importance source...\n",
      "After 88 iterations, +23 mins: \n",
      " confirmed 1 attribute: BCAN-AS1;\n",
      " still have 75 attributes left.\n",
      "\n",
      " 89. run of importance source...\n",
      " 90. run of importance source...\n",
      " 91. run of importance source...\n",
      "After 91 iterations, +23 mins: \n",
      " confirmed 3 attributes: DNMBP, INPP5D, PLEK2;\n",
      " still have 72 attributes left.\n",
      "\n",
      " 92. run of importance source...\n",
      " 93. run of importance source...\n",
      " 94. run of importance source...\n",
      "After 94 iterations, +23 mins: \n",
      " confirmed 2 attributes: ANKRD6, LINC02905;\n",
      " still have 70 attributes left.\n",
      "\n",
      " 95. run of importance source...\n",
      " 96. run of importance source...\n",
      " 97. run of importance source...\n",
      " 98. run of importance source...\n",
      " 99. run of importance source...\n",
      "After 99 iterations, +23 mins: \n",
      " confirmed 2 attributes: MLPH, NPAS2;\n",
      " still have 68 attributes left.\n",
      "\n"
     ]
    },
    {
     "name": "stdout",
     "output_type": "stream",
     "text": [
      "\n",
      "Drug21: Boruta is running for Lapatinib"
     ]
    },
    {
     "name": "stderr",
     "output_type": "stream",
     "text": [
      " 1. run of importance source...\n"
     ]
    },
    {
     "name": "stdout",
     "output_type": "stream",
     "text": [
      "Computing permutation importance.. Progress: 40%. Estimated remaining time: 45 seconds.\n",
      "Computing permutation importance.. Progress: 82%. Estimated remaining time: 13 seconds.\n"
     ]
    },
    {
     "name": "stderr",
     "output_type": "stream",
     "text": [
      " 2. run of importance source...\n"
     ]
    },
    {
     "name": "stdout",
     "output_type": "stream",
     "text": [
      "Computing permutation importance.. Progress: 42%. Estimated remaining time: 42 seconds.\n",
      "Computing permutation importance.. Progress: 84%. Estimated remaining time: 11 seconds.\n"
     ]
    },
    {
     "name": "stderr",
     "output_type": "stream",
     "text": [
      " 3. run of importance source...\n"
     ]
    },
    {
     "name": "stdout",
     "output_type": "stream",
     "text": [
      "Computing permutation importance.. Progress: 42%. Estimated remaining time: 42 seconds.\n",
      "Computing permutation importance.. Progress: 84%. Estimated remaining time: 11 seconds.\n"
     ]
    },
    {
     "name": "stderr",
     "output_type": "stream",
     "text": [
      " 4. run of importance source...\n"
     ]
    },
    {
     "name": "stdout",
     "output_type": "stream",
     "text": [
      "Computing permutation importance.. Progress: 41%. Estimated remaining time: 44 seconds.\n",
      "Computing permutation importance.. Progress: 83%. Estimated remaining time: 12 seconds.\n"
     ]
    },
    {
     "name": "stderr",
     "output_type": "stream",
     "text": [
      " 5. run of importance source...\n"
     ]
    },
    {
     "name": "stdout",
     "output_type": "stream",
     "text": [
      "Computing permutation importance.. Progress: 42%. Estimated remaining time: 43 seconds.\n",
      "Computing permutation importance.. Progress: 83%. Estimated remaining time: 12 seconds.\n"
     ]
    },
    {
     "name": "stderr",
     "output_type": "stream",
     "text": [
      " 6. run of importance source...\n"
     ]
    },
    {
     "name": "stdout",
     "output_type": "stream",
     "text": [
      "Computing permutation importance.. Progress: 42%. Estimated remaining time: 42 seconds.\n",
      "Computing permutation importance.. Progress: 84%. Estimated remaining time: 11 seconds.\n"
     ]
    },
    {
     "name": "stderr",
     "output_type": "stream",
     "text": [
      " 7. run of importance source...\n"
     ]
    },
    {
     "name": "stdout",
     "output_type": "stream",
     "text": [
      "Computing permutation importance.. Progress: 42%. Estimated remaining time: 42 seconds.\n",
      "Computing permutation importance.. Progress: 84%. Estimated remaining time: 11 seconds.\n"
     ]
    },
    {
     "name": "stderr",
     "output_type": "stream",
     "text": [
      " 8. run of importance source...\n"
     ]
    },
    {
     "name": "stdout",
     "output_type": "stream",
     "text": [
      "Computing permutation importance.. Progress: 42%. Estimated remaining time: 43 seconds.\n",
      "Computing permutation importance.. Progress: 84%. Estimated remaining time: 11 seconds.\n"
     ]
    },
    {
     "name": "stderr",
     "output_type": "stream",
     "text": [
      " 9. run of importance source...\n"
     ]
    },
    {
     "name": "stdout",
     "output_type": "stream",
     "text": [
      "Computing permutation importance.. Progress: 41%. Estimated remaining time: 43 seconds.\n",
      "Computing permutation importance.. Progress: 84%. Estimated remaining time: 11 seconds.\n"
     ]
    },
    {
     "name": "stderr",
     "output_type": "stream",
     "text": [
      " 10. run of importance source...\n"
     ]
    },
    {
     "name": "stdout",
     "output_type": "stream",
     "text": [
      "Computing permutation importance.. Progress: 42%. Estimated remaining time: 43 seconds.\n",
      "Computing permutation importance.. Progress: 84%. Estimated remaining time: 11 seconds.\n"
     ]
    },
    {
     "name": "stderr",
     "output_type": "stream",
     "text": [
      " 11. run of importance source...\n"
     ]
    },
    {
     "name": "stdout",
     "output_type": "stream",
     "text": [
      "Computing permutation importance.. Progress: 43%. Estimated remaining time: 41 seconds.\n",
      "Computing permutation importance.. Progress: 85%. Estimated remaining time: 11 seconds.\n"
     ]
    },
    {
     "name": "stderr",
     "output_type": "stream",
     "text": [
      " 12. run of importance source...\n"
     ]
    },
    {
     "name": "stdout",
     "output_type": "stream",
     "text": [
      "Computing permutation importance.. Progress: 42%. Estimated remaining time: 42 seconds.\n",
      "Computing permutation importance.. Progress: 84%. Estimated remaining time: 12 seconds.\n"
     ]
    },
    {
     "name": "stderr",
     "output_type": "stream",
     "text": [
      " 13. run of importance source...\n"
     ]
    },
    {
     "name": "stdout",
     "output_type": "stream",
     "text": [
      "Computing permutation importance.. Progress: 42%. Estimated remaining time: 43 seconds.\n",
      "Computing permutation importance.. Progress: 84%. Estimated remaining time: 11 seconds.\n"
     ]
    },
    {
     "name": "stderr",
     "output_type": "stream",
     "text": [
      " 14. run of importance source...\n"
     ]
    },
    {
     "name": "stdout",
     "output_type": "stream",
     "text": [
      "Computing permutation importance.. Progress: 42%. Estimated remaining time: 43 seconds.\n",
      "Computing permutation importance.. Progress: 84%. Estimated remaining time: 11 seconds.\n"
     ]
    },
    {
     "name": "stderr",
     "output_type": "stream",
     "text": [
      " 15. run of importance source...\n"
     ]
    },
    {
     "name": "stdout",
     "output_type": "stream",
     "text": [
      "Computing permutation importance.. Progress: 42%. Estimated remaining time: 43 seconds.\n",
      "Computing permutation importance.. Progress: 84%. Estimated remaining time: 11 seconds.\n"
     ]
    },
    {
     "name": "stderr",
     "output_type": "stream",
     "text": [
      " 16. run of importance source...\n"
     ]
    },
    {
     "name": "stdout",
     "output_type": "stream",
     "text": [
      "Computing permutation importance.. Progress: 40%. Estimated remaining time: 46 seconds.\n",
      "Computing permutation importance.. Progress: 82%. Estimated remaining time: 13 seconds.\n"
     ]
    },
    {
     "name": "stderr",
     "output_type": "stream",
     "text": [
      " 17. run of importance source...\n"
     ]
    },
    {
     "name": "stdout",
     "output_type": "stream",
     "text": [
      "Computing permutation importance.. Progress: 42%. Estimated remaining time: 42 seconds.\n",
      "Computing permutation importance.. Progress: 84%. Estimated remaining time: 12 seconds.\n"
     ]
    },
    {
     "name": "stderr",
     "output_type": "stream",
     "text": [
      " 18. run of importance source...\n"
     ]
    },
    {
     "name": "stdout",
     "output_type": "stream",
     "text": [
      "Computing permutation importance.. Progress: 41%. Estimated remaining time: 44 seconds.\n",
      "Computing permutation importance.. Progress: 83%. Estimated remaining time: 13 seconds.\n"
     ]
    },
    {
     "name": "stderr",
     "output_type": "stream",
     "text": [
      " 19. run of importance source...\n"
     ]
    },
    {
     "name": "stdout",
     "output_type": "stream",
     "text": [
      "Computing permutation importance.. Progress: 41%. Estimated remaining time: 44 seconds.\n",
      "Computing permutation importance.. Progress: 81%. Estimated remaining time: 14 seconds.\n"
     ]
    },
    {
     "name": "stderr",
     "output_type": "stream",
     "text": [
      " 20. run of importance source...\n"
     ]
    },
    {
     "name": "stdout",
     "output_type": "stream",
     "text": [
      "Computing permutation importance.. Progress: 42%. Estimated remaining time: 42 seconds.\n",
      "Computing permutation importance.. Progress: 84%. Estimated remaining time: 11 seconds.\n"
     ]
    },
    {
     "name": "stderr",
     "output_type": "stream",
     "text": [
      " 21. run of importance source...\n"
     ]
    },
    {
     "name": "stdout",
     "output_type": "stream",
     "text": [
      "Computing permutation importance.. Progress: 40%. Estimated remaining time: 45 seconds.\n",
      "Computing permutation importance.. Progress: 82%. Estimated remaining time: 13 seconds.\n"
     ]
    },
    {
     "name": "stderr",
     "output_type": "stream",
     "text": [
      "After 21 iterations, +28 mins: \n",
      " rejected 20076 attributes: A1BG, A1BG-AS1, A1CF, A2M, A2M-AS1 and 20071 more;\n",
      " still have 98 attributes left.\n",
      "\n",
      " 22. run of importance source...\n",
      " 23. run of importance source...\n",
      " 24. run of importance source...\n",
      " 25. run of importance source...\n",
      " 26. run of importance source...\n",
      "After 26 iterations, +28 mins: \n",
      " rejected 26 attributes: ANO1, ATP2C2, BICDL2, CATSPERB, CAVIN3 and 21 more;\n",
      " still have 72 attributes left.\n",
      "\n",
      " 27. run of importance source...\n",
      " 28. run of importance source...\n",
      " 29. run of importance source...\n",
      " 30. run of importance source...\n",
      "After 30 iterations, +28 mins: \n",
      " rejected 11 attributes: ANKRD22, DENND5B, DTX4, EID2B, EPHA1 and 6 more;\n",
      " still have 61 attributes left.\n",
      "\n",
      " 31. run of importance source...\n",
      " 32. run of importance source...\n",
      " 33. run of importance source...\n",
      " 34. run of importance source...\n",
      "After 34 iterations, +28 mins: \n",
      " rejected 5 attributes: HABP4, METTL1, PIP, TMEM79, ZEB1;\n",
      " still have 56 attributes left.\n",
      "\n",
      " 35. run of importance source...\n",
      " 36. run of importance source...\n",
      " 37. run of importance source...\n",
      " 38. run of importance source...\n",
      " 39. run of importance source...\n",
      " 40. run of importance source...\n",
      " 41. run of importance source...\n",
      "After 41 iterations, +28 mins: \n",
      " rejected 1 attribute: CORO2A;\n",
      " still have 55 attributes left.\n",
      "\n",
      " 42. run of importance source...\n",
      " 43. run of importance source...\n",
      " 44. run of importance source...\n",
      "After 44 iterations, +28 mins: \n",
      " rejected 1 attribute: THAP3;\n",
      " still have 54 attributes left.\n",
      "\n",
      " 45. run of importance source...\n",
      " 46. run of importance source...\n",
      " 47. run of importance source...\n",
      " 48. run of importance source...\n",
      " 49. run of importance source...\n",
      " 50. run of importance source...\n",
      " 51. run of importance source...\n",
      " 52. run of importance source...\n",
      " 53. run of importance source...\n",
      " 54. run of importance source...\n",
      "After 54 iterations, +28 mins: \n",
      " rejected 2 attributes: PRSS22, XDH;\n",
      " still have 52 attributes left.\n",
      "\n",
      " 55. run of importance source...\n",
      " 56. run of importance source...\n",
      " 57. run of importance source...\n",
      " 58. run of importance source...\n",
      " 59. run of importance source...\n",
      " 60. run of importance source...\n",
      " 61. run of importance source...\n",
      " 62. run of importance source...\n",
      " 63. run of importance source...\n",
      " 64. run of importance source...\n",
      " 65. run of importance source...\n",
      " 66. run of importance source...\n",
      "After 66 iterations, +28 mins: \n",
      " rejected 1 attribute: IFT57;\n",
      " still have 51 attributes left.\n",
      "\n",
      " 67. run of importance source...\n",
      " 68. run of importance source...\n",
      " 69. run of importance source...\n",
      " 70. run of importance source...\n",
      " 71. run of importance source...\n",
      " 72. run of importance source...\n",
      "After 72 iterations, +28 mins: \n",
      " confirmed 2 attributes: FAM83H, HEBP2;\n",
      " still have 49 attributes left.\n",
      "\n",
      " 73. run of importance source...\n",
      " 74. run of importance source...\n",
      "After 74 iterations, +28 mins: \n",
      " confirmed 1 attribute: MSMB;\n",
      " still have 48 attributes left.\n",
      "\n",
      " 75. run of importance source...\n",
      " 76. run of importance source...\n",
      " 77. run of importance source...\n",
      " 78. run of importance source...\n",
      " 79. run of importance source...\n",
      " 80. run of importance source...\n",
      " 81. run of importance source...\n",
      " 82. run of importance source...\n",
      " 83. run of importance source...\n",
      " 84. run of importance source...\n",
      " 85. run of importance source...\n",
      " 86. run of importance source...\n",
      " 87. run of importance source...\n",
      " 88. run of importance source...\n",
      "After 88 iterations, +29 mins: \n",
      " confirmed 1 attribute: SPRR1A;\n",
      " still have 47 attributes left.\n",
      "\n",
      " 89. run of importance source...\n",
      " 90. run of importance source...\n",
      " 91. run of importance source...\n",
      "After 91 iterations, +29 mins: \n",
      " confirmed 2 attributes: RAMP2-AS1, TP63;\n",
      " still have 45 attributes left.\n",
      "\n",
      " 92. run of importance source...\n",
      " 93. run of importance source...\n",
      " 94. run of importance source...\n",
      "After 94 iterations, +29 mins: \n",
      " confirmed 2 attributes: ERBB2, MYO6;\n",
      " still have 43 attributes left.\n",
      "\n",
      " 95. run of importance source...\n",
      " 96. run of importance source...\n",
      " 97. run of importance source...\n",
      " 98. run of importance source...\n",
      " 99. run of importance source...\n",
      "After 99 iterations, +29 mins: \n",
      " confirmed 2 attributes: PMPCB, S100A14;\n",
      " still have 41 attributes left.\n",
      "\n"
     ]
    },
    {
     "name": "stdout",
     "output_type": "stream",
     "text": [
      "\n",
      "Drug22: Boruta is running for RAF265"
     ]
    },
    {
     "name": "stderr",
     "output_type": "stream",
     "text": [
      " 1. run of importance source...\n"
     ]
    },
    {
     "name": "stdout",
     "output_type": "stream",
     "text": [
      "Computing permutation importance.. Progress: 59%. Estimated remaining time: 21 seconds.\n"
     ]
    },
    {
     "name": "stderr",
     "output_type": "stream",
     "text": [
      " 2. run of importance source...\n"
     ]
    },
    {
     "name": "stdout",
     "output_type": "stream",
     "text": [
      "Computing permutation importance.. Progress: 59%. Estimated remaining time: 21 seconds.\n"
     ]
    },
    {
     "name": "stderr",
     "output_type": "stream",
     "text": [
      " 3. run of importance source...\n"
     ]
    },
    {
     "name": "stdout",
     "output_type": "stream",
     "text": [
      "Computing permutation importance.. Progress: 56%. Estimated remaining time: 23 seconds.\n"
     ]
    },
    {
     "name": "stderr",
     "output_type": "stream",
     "text": [
      " 4. run of importance source...\n"
     ]
    },
    {
     "name": "stdout",
     "output_type": "stream",
     "text": [
      "Computing permutation importance.. Progress: 58%. Estimated remaining time: 22 seconds.\n"
     ]
    },
    {
     "name": "stderr",
     "output_type": "stream",
     "text": [
      " 5. run of importance source...\n"
     ]
    },
    {
     "name": "stdout",
     "output_type": "stream",
     "text": [
      "Computing permutation importance.. Progress: 59%. Estimated remaining time: 21 seconds.\n"
     ]
    },
    {
     "name": "stderr",
     "output_type": "stream",
     "text": [
      " 6. run of importance source...\n"
     ]
    },
    {
     "name": "stdout",
     "output_type": "stream",
     "text": [
      "Computing permutation importance.. Progress: 59%. Estimated remaining time: 21 seconds.\n"
     ]
    },
    {
     "name": "stderr",
     "output_type": "stream",
     "text": [
      " 7. run of importance source...\n"
     ]
    },
    {
     "name": "stdout",
     "output_type": "stream",
     "text": [
      "Computing permutation importance.. Progress: 58%. Estimated remaining time: 22 seconds.\n"
     ]
    },
    {
     "name": "stderr",
     "output_type": "stream",
     "text": [
      " 8. run of importance source...\n"
     ]
    },
    {
     "name": "stdout",
     "output_type": "stream",
     "text": [
      "Computing permutation importance.. Progress: 59%. Estimated remaining time: 21 seconds.\n"
     ]
    },
    {
     "name": "stderr",
     "output_type": "stream",
     "text": [
      " 9. run of importance source...\n"
     ]
    },
    {
     "name": "stdout",
     "output_type": "stream",
     "text": [
      "Computing permutation importance.. Progress: 59%. Estimated remaining time: 21 seconds.\n"
     ]
    },
    {
     "name": "stderr",
     "output_type": "stream",
     "text": [
      " 10. run of importance source...\n"
     ]
    },
    {
     "name": "stdout",
     "output_type": "stream",
     "text": [
      "Computing permutation importance.. Progress: 58%. Estimated remaining time: 22 seconds.\n"
     ]
    },
    {
     "name": "stderr",
     "output_type": "stream",
     "text": [
      " 11. run of importance source...\n"
     ]
    },
    {
     "name": "stdout",
     "output_type": "stream",
     "text": [
      "Computing permutation importance.. Progress: 56%. Estimated remaining time: 24 seconds.\n"
     ]
    },
    {
     "name": "stderr",
     "output_type": "stream",
     "text": [
      " 12. run of importance source...\n"
     ]
    },
    {
     "name": "stdout",
     "output_type": "stream",
     "text": [
      "Computing permutation importance.. Progress: 59%. Estimated remaining time: 21 seconds.\n"
     ]
    },
    {
     "name": "stderr",
     "output_type": "stream",
     "text": [
      " 13. run of importance source...\n"
     ]
    },
    {
     "name": "stdout",
     "output_type": "stream",
     "text": [
      "Computing permutation importance.. Progress: 58%. Estimated remaining time: 22 seconds.\n"
     ]
    },
    {
     "name": "stderr",
     "output_type": "stream",
     "text": [
      " 14. run of importance source...\n"
     ]
    },
    {
     "name": "stdout",
     "output_type": "stream",
     "text": [
      "Computing permutation importance.. Progress: 59%. Estimated remaining time: 21 seconds.\n"
     ]
    },
    {
     "name": "stderr",
     "output_type": "stream",
     "text": [
      " 15. run of importance source...\n"
     ]
    },
    {
     "name": "stdout",
     "output_type": "stream",
     "text": [
      "Computing permutation importance.. Progress: 59%. Estimated remaining time: 21 seconds.\n"
     ]
    },
    {
     "name": "stderr",
     "output_type": "stream",
     "text": [
      " 16. run of importance source...\n"
     ]
    },
    {
     "name": "stdout",
     "output_type": "stream",
     "text": [
      "Computing permutation importance.. Progress: 60%. Estimated remaining time: 21 seconds.\n"
     ]
    },
    {
     "name": "stderr",
     "output_type": "stream",
     "text": [
      " 17. run of importance source...\n"
     ]
    },
    {
     "name": "stdout",
     "output_type": "stream",
     "text": [
      "Computing permutation importance.. Progress: 59%. Estimated remaining time: 21 seconds.\n"
     ]
    },
    {
     "name": "stderr",
     "output_type": "stream",
     "text": [
      " 18. run of importance source...\n"
     ]
    },
    {
     "name": "stdout",
     "output_type": "stream",
     "text": [
      "Computing permutation importance.. Progress: 59%. Estimated remaining time: 21 seconds.\n"
     ]
    },
    {
     "name": "stderr",
     "output_type": "stream",
     "text": [
      " 19. run of importance source...\n"
     ]
    },
    {
     "name": "stdout",
     "output_type": "stream",
     "text": [
      "Computing permutation importance.. Progress: 59%. Estimated remaining time: 21 seconds.\n"
     ]
    },
    {
     "name": "stderr",
     "output_type": "stream",
     "text": [
      " 20. run of importance source...\n"
     ]
    },
    {
     "name": "stdout",
     "output_type": "stream",
     "text": [
      "Computing permutation importance.. Progress: 59%. Estimated remaining time: 21 seconds.\n"
     ]
    },
    {
     "name": "stderr",
     "output_type": "stream",
     "text": [
      " 21. run of importance source...\n"
     ]
    },
    {
     "name": "stdout",
     "output_type": "stream",
     "text": [
      "Computing permutation importance.. Progress: 58%. Estimated remaining time: 22 seconds.\n"
     ]
    },
    {
     "name": "stderr",
     "output_type": "stream",
     "text": [
      "After 21 iterations, +20 mins: \n",
      " rejected 20152 attributes: A1BG, A1BG-AS1, A1CF, A2M, A2M-AS1 and 20147 more;\n",
      " still have 22 attributes left.\n",
      "\n",
      " 22. run of importance source...\n",
      " 23. run of importance source...\n",
      " 24. run of importance source...\n",
      " 25. run of importance source...\n",
      " 26. run of importance source...\n",
      "After 26 iterations, +20 mins: \n",
      " rejected 7 attributes: APOO, CCNT1, GDF11, INTS14, PFDN2 and 2 more;\n",
      " still have 15 attributes left.\n",
      "\n",
      " 27. run of importance source...\n",
      " 28. run of importance source...\n",
      " 29. run of importance source...\n",
      " 30. run of importance source...\n",
      " 31. run of importance source...\n",
      " 32. run of importance source...\n",
      " 33. run of importance source...\n",
      " 34. run of importance source...\n",
      " 35. run of importance source...\n",
      " 36. run of importance source...\n",
      " 37. run of importance source...\n",
      " 38. run of importance source...\n",
      " 39. run of importance source...\n",
      " 40. run of importance source...\n",
      " 41. run of importance source...\n",
      " 42. run of importance source...\n",
      " 43. run of importance source...\n",
      " 44. run of importance source...\n",
      " 45. run of importance source...\n",
      " 46. run of importance source...\n",
      " 47. run of importance source...\n",
      " 48. run of importance source...\n",
      " 49. run of importance source...\n",
      " 50. run of importance source...\n",
      " 51. run of importance source...\n",
      " 52. run of importance source...\n",
      " 53. run of importance source...\n",
      " 54. run of importance source...\n",
      " 55. run of importance source...\n",
      " 56. run of importance source...\n",
      " 57. run of importance source...\n",
      " 58. run of importance source...\n",
      " 59. run of importance source...\n",
      " 60. run of importance source...\n",
      " 61. run of importance source...\n",
      " 62. run of importance source...\n",
      " 63. run of importance source...\n",
      " 64. run of importance source...\n",
      " 65. run of importance source...\n",
      " 66. run of importance source...\n",
      " 67. run of importance source...\n",
      " 68. run of importance source...\n",
      " 69. run of importance source...\n",
      "After 69 iterations, +20 mins: \n",
      " rejected 1 attribute: ZFYVE19;\n",
      " still have 14 attributes left.\n",
      "\n",
      " 70. run of importance source...\n",
      " 71. run of importance source...\n",
      " 72. run of importance source...\n",
      " 73. run of importance source...\n",
      " 74. run of importance source...\n",
      " 75. run of importance source...\n",
      " 76. run of importance source...\n",
      " 77. run of importance source...\n",
      " 78. run of importance source...\n",
      " 79. run of importance source...\n",
      " 80. run of importance source...\n",
      " 81. run of importance source...\n",
      " 82. run of importance source...\n",
      " 83. run of importance source...\n",
      "After 83 iterations, +21 mins: \n",
      " confirmed 2 attributes: DNAJB9, PKN3;\n",
      " still have 12 attributes left.\n",
      "\n",
      " 84. run of importance source...\n",
      " 85. run of importance source...\n",
      " 86. run of importance source...\n",
      "After 86 iterations, +21 mins: \n",
      " confirmed 1 attribute: KMT2E;\n",
      " still have 11 attributes left.\n",
      "\n",
      " 87. run of importance source...\n",
      " 88. run of importance source...\n",
      "After 88 iterations, +21 mins: \n",
      " confirmed 1 attribute: IER5;\n",
      " still have 10 attributes left.\n",
      "\n",
      " 89. run of importance source...\n",
      " 90. run of importance source...\n",
      " 91. run of importance source...\n",
      "After 91 iterations, +21 mins: \n",
      " confirmed 2 attributes: INO80, PITHD1;\n",
      " still have 8 attributes left.\n",
      "\n",
      " 92. run of importance source...\n",
      " 93. run of importance source...\n",
      " 94. run of importance source...\n",
      " 95. run of importance source...\n",
      " 96. run of importance source...\n",
      "After 96 iterations, +21 mins: \n",
      " confirmed 1 attribute: PSMB1;\n",
      " still have 7 attributes left.\n",
      "\n",
      " 97. run of importance source...\n",
      " 98. run of importance source...\n",
      " 99. run of importance source...\n"
     ]
    },
    {
     "name": "stdout",
     "output_type": "stream",
     "text": [
      "\n",
      "Drug23: Boruta is running for TAE684"
     ]
    },
    {
     "name": "stderr",
     "output_type": "stream",
     "text": [
      " 1. run of importance source...\n"
     ]
    },
    {
     "name": "stdout",
     "output_type": "stream",
     "text": [
      "Computing permutation importance.. Progress: 52%. Estimated remaining time: 29 seconds.\n"
     ]
    },
    {
     "name": "stderr",
     "output_type": "stream",
     "text": [
      " 2. run of importance source...\n"
     ]
    },
    {
     "name": "stdout",
     "output_type": "stream",
     "text": [
      "Computing permutation importance.. Progress: 51%. Estimated remaining time: 30 seconds.\n"
     ]
    },
    {
     "name": "stderr",
     "output_type": "stream",
     "text": [
      " 3. run of importance source...\n"
     ]
    },
    {
     "name": "stdout",
     "output_type": "stream",
     "text": [
      "Computing permutation importance.. Progress: 52%. Estimated remaining time: 28 seconds.\n"
     ]
    },
    {
     "name": "stderr",
     "output_type": "stream",
     "text": [
      " 4. run of importance source...\n"
     ]
    },
    {
     "name": "stdout",
     "output_type": "stream",
     "text": [
      "Computing permutation importance.. Progress: 51%. Estimated remaining time: 29 seconds.\n"
     ]
    },
    {
     "name": "stderr",
     "output_type": "stream",
     "text": [
      " 5. run of importance source...\n"
     ]
    },
    {
     "name": "stdout",
     "output_type": "stream",
     "text": [
      "Computing permutation importance.. Progress: 52%. Estimated remaining time: 28 seconds.\n"
     ]
    },
    {
     "name": "stderr",
     "output_type": "stream",
     "text": [
      " 6. run of importance source...\n"
     ]
    },
    {
     "name": "stdout",
     "output_type": "stream",
     "text": [
      "Computing permutation importance.. Progress: 51%. Estimated remaining time: 30 seconds.\n"
     ]
    },
    {
     "name": "stderr",
     "output_type": "stream",
     "text": [
      " 7. run of importance source...\n"
     ]
    },
    {
     "name": "stdout",
     "output_type": "stream",
     "text": [
      "Computing permutation importance.. Progress: 51%. Estimated remaining time: 29 seconds.\n"
     ]
    },
    {
     "name": "stderr",
     "output_type": "stream",
     "text": [
      " 8. run of importance source...\n"
     ]
    },
    {
     "name": "stdout",
     "output_type": "stream",
     "text": [
      "Computing permutation importance.. Progress: 50%. Estimated remaining time: 31 seconds.\n"
     ]
    },
    {
     "name": "stderr",
     "output_type": "stream",
     "text": [
      " 9. run of importance source...\n"
     ]
    },
    {
     "name": "stdout",
     "output_type": "stream",
     "text": [
      "Computing permutation importance.. Progress: 52%. Estimated remaining time: 28 seconds.\n"
     ]
    },
    {
     "name": "stderr",
     "output_type": "stream",
     "text": [
      " 10. run of importance source...\n"
     ]
    },
    {
     "name": "stdout",
     "output_type": "stream",
     "text": [
      "Computing permutation importance.. Progress: 52%. Estimated remaining time: 28 seconds.\n"
     ]
    },
    {
     "name": "stderr",
     "output_type": "stream",
     "text": [
      " 11. run of importance source...\n"
     ]
    },
    {
     "name": "stdout",
     "output_type": "stream",
     "text": [
      "Computing permutation importance.. Progress: 51%. Estimated remaining time: 29 seconds.\n"
     ]
    },
    {
     "name": "stderr",
     "output_type": "stream",
     "text": [
      " 12. run of importance source...\n"
     ]
    },
    {
     "name": "stdout",
     "output_type": "stream",
     "text": [
      "Computing permutation importance.. Progress: 51%. Estimated remaining time: 29 seconds.\n"
     ]
    },
    {
     "name": "stderr",
     "output_type": "stream",
     "text": [
      " 13. run of importance source...\n"
     ]
    },
    {
     "name": "stdout",
     "output_type": "stream",
     "text": [
      "Computing permutation importance.. Progress: 51%. Estimated remaining time: 29 seconds.\n"
     ]
    },
    {
     "name": "stderr",
     "output_type": "stream",
     "text": [
      " 14. run of importance source...\n"
     ]
    },
    {
     "name": "stdout",
     "output_type": "stream",
     "text": [
      "Computing permutation importance.. Progress: 51%. Estimated remaining time: 29 seconds.\n"
     ]
    },
    {
     "name": "stderr",
     "output_type": "stream",
     "text": [
      " 15. run of importance source...\n"
     ]
    },
    {
     "name": "stdout",
     "output_type": "stream",
     "text": [
      "Computing permutation importance.. Progress: 50%. Estimated remaining time: 31 seconds.\n"
     ]
    },
    {
     "name": "stderr",
     "output_type": "stream",
     "text": [
      " 16. run of importance source...\n"
     ]
    },
    {
     "name": "stdout",
     "output_type": "stream",
     "text": [
      "Computing permutation importance.. Progress: 52%. Estimated remaining time: 28 seconds.\n"
     ]
    },
    {
     "name": "stderr",
     "output_type": "stream",
     "text": [
      " 17. run of importance source...\n"
     ]
    },
    {
     "name": "stdout",
     "output_type": "stream",
     "text": [
      "Computing permutation importance.. Progress: 52%. Estimated remaining time: 28 seconds.\n"
     ]
    },
    {
     "name": "stderr",
     "output_type": "stream",
     "text": [
      " 18. run of importance source...\n"
     ]
    },
    {
     "name": "stdout",
     "output_type": "stream",
     "text": [
      "Computing permutation importance.. Progress: 51%. Estimated remaining time: 29 seconds.\n"
     ]
    },
    {
     "name": "stderr",
     "output_type": "stream",
     "text": [
      " 19. run of importance source...\n"
     ]
    },
    {
     "name": "stdout",
     "output_type": "stream",
     "text": [
      "Computing permutation importance.. Progress: 51%. Estimated remaining time: 29 seconds.\n"
     ]
    },
    {
     "name": "stderr",
     "output_type": "stream",
     "text": [
      " 20. run of importance source...\n"
     ]
    },
    {
     "name": "stdout",
     "output_type": "stream",
     "text": [
      "Computing permutation importance.. Progress: 52%. Estimated remaining time: 28 seconds.\n"
     ]
    },
    {
     "name": "stderr",
     "output_type": "stream",
     "text": [
      " 21. run of importance source...\n"
     ]
    },
    {
     "name": "stdout",
     "output_type": "stream",
     "text": [
      "Computing permutation importance.. Progress: 51%. Estimated remaining time: 29 seconds.\n"
     ]
    },
    {
     "name": "stderr",
     "output_type": "stream",
     "text": [
      "After 21 iterations, +23 mins: \n",
      " rejected 20148 attributes: A1BG, A1BG-AS1, A1CF, A2M, A2M-AS1 and 20143 more;\n",
      " still have 26 attributes left.\n",
      "\n",
      " 22. run of importance source...\n",
      " 23. run of importance source...\n",
      " 24. run of importance source...\n",
      " 25. run of importance source...\n",
      " 26. run of importance source...\n",
      "After 26 iterations, +23 mins: \n",
      " rejected 3 attributes: EPDR1, LOC100505841, LONRF3;\n",
      " still have 23 attributes left.\n",
      "\n",
      " 27. run of importance source...\n",
      " 28. run of importance source...\n",
      " 29. run of importance source...\n",
      " 30. run of importance source...\n",
      "After 30 iterations, +23 mins: \n",
      " rejected 1 attribute: HMBOX1;\n",
      " still have 22 attributes left.\n",
      "\n",
      " 31. run of importance source...\n",
      " 32. run of importance source...\n",
      " 33. run of importance source...\n",
      " 34. run of importance source...\n",
      " 35. run of importance source...\n",
      " 36. run of importance source...\n",
      " 37. run of importance source...\n",
      " 38. run of importance source...\n",
      "After 38 iterations, +23 mins: \n",
      " rejected 1 attribute: BSND;\n",
      " still have 21 attributes left.\n",
      "\n",
      " 39. run of importance source...\n",
      " 40. run of importance source...\n",
      " 41. run of importance source...\n",
      " 42. run of importance source...\n",
      " 43. run of importance source...\n",
      " 44. run of importance source...\n",
      " 45. run of importance source...\n",
      " 46. run of importance source...\n",
      " 47. run of importance source...\n",
      " 48. run of importance source...\n",
      " 49. run of importance source...\n",
      " 50. run of importance source...\n",
      " 51. run of importance source...\n",
      "After 51 iterations, +23 mins: \n",
      " rejected 3 attributes: COL11A1, RFPL1, ZC3H7B;\n",
      " still have 18 attributes left.\n",
      "\n",
      " 52. run of importance source...\n",
      " 53. run of importance source...\n",
      " 54. run of importance source...\n",
      " 55. run of importance source...\n",
      " 56. run of importance source...\n",
      " 57. run of importance source...\n",
      " 58. run of importance source...\n",
      " 59. run of importance source...\n",
      " 60. run of importance source...\n",
      " 61. run of importance source...\n",
      " 62. run of importance source...\n",
      " 63. run of importance source...\n",
      " 64. run of importance source...\n",
      " 65. run of importance source...\n",
      " 66. run of importance source...\n",
      " 67. run of importance source...\n",
      " 68. run of importance source...\n",
      " 69. run of importance source...\n",
      " 70. run of importance source...\n",
      " 71. run of importance source...\n",
      " 72. run of importance source...\n",
      " 73. run of importance source...\n",
      " 74. run of importance source...\n",
      " 75. run of importance source...\n",
      " 76. run of importance source...\n",
      " 77. run of importance source...\n",
      " 78. run of importance source...\n",
      " 79. run of importance source...\n",
      " 80. run of importance source...\n",
      " 81. run of importance source...\n",
      " 82. run of importance source...\n",
      " 83. run of importance source...\n",
      "After 83 iterations, +23 mins: \n",
      " confirmed 2 attributes: ATP8A2, EZH2;\n",
      " still have 16 attributes left.\n",
      "\n",
      " 84. run of importance source...\n",
      " 85. run of importance source...\n",
      " 86. run of importance source...\n",
      "After 86 iterations, +23 mins: \n",
      " confirmed 1 attribute: CCDC25;\n",
      " still have 15 attributes left.\n",
      "\n",
      " 87. run of importance source...\n",
      " 88. run of importance source...\n",
      "After 88 iterations, +23 mins: \n",
      " confirmed 2 attributes: PPP2R3A, RPL22;\n",
      " still have 13 attributes left.\n",
      "\n",
      " 89. run of importance source...\n",
      " 90. run of importance source...\n",
      " 91. run of importance source...\n",
      "After 91 iterations, +23 mins: \n",
      " confirmed 2 attributes: ARNT2, IGSF11;\n",
      " still have 11 attributes left.\n",
      "\n",
      " 92. run of importance source...\n",
      " 93. run of importance source...\n",
      " 94. run of importance source...\n",
      " 95. run of importance source...\n",
      " 96. run of importance source...\n",
      "After 96 iterations, +23 mins: \n",
      " confirmed 1 attribute: PCF11;\n",
      " still have 10 attributes left.\n",
      "\n",
      " 97. run of importance source...\n",
      " 98. run of importance source...\n",
      " 99. run of importance source...\n",
      "After 99 iterations, +23 mins: \n",
      " confirmed 1 attribute: MTIF3;\n",
      " still have 9 attributes left.\n",
      "\n"
     ]
    },
    {
     "name": "stdout",
     "output_type": "stream",
     "text": [
      "\n",
      "Drug24: Boruta is running for Panobinostat"
     ]
    },
    {
     "name": "stderr",
     "output_type": "stream",
     "text": [
      " 1. run of importance source...\n"
     ]
    },
    {
     "name": "stdout",
     "output_type": "stream",
     "text": [
      "Computing permutation importance.. Progress: 42%. Estimated remaining time: 42 seconds.\n",
      "Computing permutation importance.. Progress: 83%. Estimated remaining time: 12 seconds.\n"
     ]
    },
    {
     "name": "stderr",
     "output_type": "stream",
     "text": [
      " 2. run of importance source...\n"
     ]
    },
    {
     "name": "stdout",
     "output_type": "stream",
     "text": [
      "Computing permutation importance.. Progress: 41%. Estimated remaining time: 44 seconds.\n",
      "Computing permutation importance.. Progress: 82%. Estimated remaining time: 13 seconds.\n"
     ]
    },
    {
     "name": "stderr",
     "output_type": "stream",
     "text": [
      " 3. run of importance source...\n"
     ]
    },
    {
     "name": "stdout",
     "output_type": "stream",
     "text": [
      "Computing permutation importance.. Progress: 41%. Estimated remaining time: 44 seconds.\n",
      "Computing permutation importance.. Progress: 83%. Estimated remaining time: 12 seconds.\n"
     ]
    },
    {
     "name": "stderr",
     "output_type": "stream",
     "text": [
      " 4. run of importance source...\n"
     ]
    },
    {
     "name": "stdout",
     "output_type": "stream",
     "text": [
      "Computing permutation importance.. Progress: 40%. Estimated remaining time: 46 seconds.\n",
      "Computing permutation importance.. Progress: 82%. Estimated remaining time: 13 seconds.\n"
     ]
    },
    {
     "name": "stderr",
     "output_type": "stream",
     "text": [
      " 5. run of importance source...\n"
     ]
    },
    {
     "name": "stdout",
     "output_type": "stream",
     "text": [
      "Computing permutation importance.. Progress: 41%. Estimated remaining time: 44 seconds.\n",
      "Computing permutation importance.. Progress: 82%. Estimated remaining time: 13 seconds.\n"
     ]
    },
    {
     "name": "stderr",
     "output_type": "stream",
     "text": [
      " 6. run of importance source...\n"
     ]
    },
    {
     "name": "stdout",
     "output_type": "stream",
     "text": [
      "Computing permutation importance.. Progress: 41%. Estimated remaining time: 45 seconds.\n",
      "Computing permutation importance.. Progress: 82%. Estimated remaining time: 13 seconds.\n"
     ]
    },
    {
     "name": "stderr",
     "output_type": "stream",
     "text": [
      " 7. run of importance source...\n"
     ]
    },
    {
     "name": "stdout",
     "output_type": "stream",
     "text": [
      "Computing permutation importance.. Progress: 41%. Estimated remaining time: 44 seconds.\n",
      "Computing permutation importance.. Progress: 82%. Estimated remaining time: 13 seconds.\n"
     ]
    },
    {
     "name": "stderr",
     "output_type": "stream",
     "text": [
      " 8. run of importance source...\n"
     ]
    },
    {
     "name": "stdout",
     "output_type": "stream",
     "text": [
      "Computing permutation importance.. Progress: 41%. Estimated remaining time: 44 seconds.\n",
      "Computing permutation importance.. Progress: 82%. Estimated remaining time: 13 seconds.\n"
     ]
    },
    {
     "name": "stderr",
     "output_type": "stream",
     "text": [
      " 9. run of importance source...\n"
     ]
    },
    {
     "name": "stdout",
     "output_type": "stream",
     "text": [
      "Computing permutation importance.. Progress: 41%. Estimated remaining time: 44 seconds.\n",
      "Computing permutation importance.. Progress: 82%. Estimated remaining time: 13 seconds.\n"
     ]
    },
    {
     "name": "stderr",
     "output_type": "stream",
     "text": [
      " 10. run of importance source...\n"
     ]
    },
    {
     "name": "stdout",
     "output_type": "stream",
     "text": [
      "Computing permutation importance.. Progress: 41%. Estimated remaining time: 45 seconds.\n",
      "Computing permutation importance.. Progress: 82%. Estimated remaining time: 13 seconds.\n"
     ]
    },
    {
     "name": "stderr",
     "output_type": "stream",
     "text": [
      " 11. run of importance source...\n"
     ]
    },
    {
     "name": "stdout",
     "output_type": "stream",
     "text": [
      "Computing permutation importance.. Progress: 41%. Estimated remaining time: 45 seconds.\n",
      "Computing permutation importance.. Progress: 81%. Estimated remaining time: 14 seconds.\n"
     ]
    },
    {
     "name": "stderr",
     "output_type": "stream",
     "text": [
      " 12. run of importance source...\n"
     ]
    },
    {
     "name": "stdout",
     "output_type": "stream",
     "text": [
      "Computing permutation importance.. Progress: 41%. Estimated remaining time: 44 seconds.\n",
      "Computing permutation importance.. Progress: 82%. Estimated remaining time: 13 seconds.\n"
     ]
    },
    {
     "name": "stderr",
     "output_type": "stream",
     "text": [
      " 13. run of importance source...\n"
     ]
    },
    {
     "name": "stdout",
     "output_type": "stream",
     "text": [
      "Computing permutation importance.. Progress: 41%. Estimated remaining time: 43 seconds.\n",
      "Computing permutation importance.. Progress: 81%. Estimated remaining time: 14 seconds.\n"
     ]
    },
    {
     "name": "stderr",
     "output_type": "stream",
     "text": [
      " 14. run of importance source...\n"
     ]
    },
    {
     "name": "stdout",
     "output_type": "stream",
     "text": [
      "Computing permutation importance.. Progress: 40%. Estimated remaining time: 47 seconds.\n",
      "Computing permutation importance.. Progress: 80%. Estimated remaining time: 15 seconds.\n"
     ]
    },
    {
     "name": "stderr",
     "output_type": "stream",
     "text": [
      " 15. run of importance source...\n"
     ]
    },
    {
     "name": "stdout",
     "output_type": "stream",
     "text": [
      "Computing permutation importance.. Progress: 41%. Estimated remaining time: 44 seconds.\n",
      "Computing permutation importance.. Progress: 82%. Estimated remaining time: 13 seconds.\n"
     ]
    },
    {
     "name": "stderr",
     "output_type": "stream",
     "text": [
      " 16. run of importance source...\n"
     ]
    },
    {
     "name": "stdout",
     "output_type": "stream",
     "text": [
      "Computing permutation importance.. Progress: 41%. Estimated remaining time: 44 seconds.\n",
      "Computing permutation importance.. Progress: 82%. Estimated remaining time: 13 seconds.\n"
     ]
    },
    {
     "name": "stderr",
     "output_type": "stream",
     "text": [
      " 17. run of importance source...\n"
     ]
    },
    {
     "name": "stdout",
     "output_type": "stream",
     "text": [
      "Computing permutation importance.. Progress: 41%. Estimated remaining time: 44 seconds.\n",
      "Computing permutation importance.. Progress: 82%. Estimated remaining time: 13 seconds.\n"
     ]
    },
    {
     "name": "stderr",
     "output_type": "stream",
     "text": [
      " 18. run of importance source...\n"
     ]
    },
    {
     "name": "stdout",
     "output_type": "stream",
     "text": [
      "Computing permutation importance.. Progress: 41%. Estimated remaining time: 44 seconds.\n",
      "Computing permutation importance.. Progress: 82%. Estimated remaining time: 13 seconds.\n"
     ]
    },
    {
     "name": "stderr",
     "output_type": "stream",
     "text": [
      " 19. run of importance source...\n"
     ]
    },
    {
     "name": "stdout",
     "output_type": "stream",
     "text": [
      "Computing permutation importance.. Progress: 41%. Estimated remaining time: 45 seconds.\n",
      "Computing permutation importance.. Progress: 82%. Estimated remaining time: 13 seconds.\n"
     ]
    },
    {
     "name": "stderr",
     "output_type": "stream",
     "text": [
      " 20. run of importance source...\n"
     ]
    },
    {
     "name": "stdout",
     "output_type": "stream",
     "text": [
      "Computing permutation importance.. Progress: 40%. Estimated remaining time: 45 seconds.\n",
      "Computing permutation importance.. Progress: 81%. Estimated remaining time: 14 seconds.\n"
     ]
    },
    {
     "name": "stderr",
     "output_type": "stream",
     "text": [
      " 21. run of importance source...\n"
     ]
    },
    {
     "name": "stdout",
     "output_type": "stream",
     "text": [
      "Computing permutation importance.. Progress: 41%. Estimated remaining time: 44 seconds.\n",
      "Computing permutation importance.. Progress: 82%. Estimated remaining time: 13 seconds.\n"
     ]
    },
    {
     "name": "stderr",
     "output_type": "stream",
     "text": [
      "After 21 iterations, +29 mins: \n",
      " rejected 20117 attributes: A1BG, A1BG-AS1, A1CF, A2M, A2M-AS1 and 20112 more;\n",
      " still have 57 attributes left.\n",
      "\n",
      " 22. run of importance source...\n",
      " 23. run of importance source...\n",
      " 24. run of importance source...\n",
      " 25. run of importance source...\n",
      " 26. run of importance source...\n",
      "After 26 iterations, +29 mins: \n",
      " rejected 35 attributes: ATP6V0E2, C6orf52, CARS1, CCDC40, CGAS and 30 more;\n",
      " still have 22 attributes left.\n",
      "\n",
      " 27. run of importance source...\n",
      " 28. run of importance source...\n",
      " 29. run of importance source...\n",
      " 30. run of importance source...\n",
      "After 30 iterations, +29 mins: \n",
      " rejected 10 attributes: DDX60, GARIN1B, IFIT3, NABP1, NGF and 5 more;\n",
      " still have 12 attributes left.\n",
      "\n",
      " 31. run of importance source...\n",
      " 32. run of importance source...\n",
      " 33. run of importance source...\n",
      " 34. run of importance source...\n",
      "After 34 iterations, +29 mins: \n",
      " rejected 1 attribute: INSYN2B;\n",
      " still have 11 attributes left.\n",
      "\n",
      " 35. run of importance source...\n",
      " 36. run of importance source...\n",
      " 37. run of importance source...\n",
      " 38. run of importance source...\n",
      " 39. run of importance source...\n",
      " 40. run of importance source...\n",
      " 41. run of importance source...\n",
      "After 41 iterations, +29 mins: \n",
      " rejected 1 attribute: SP100;\n",
      " still have 10 attributes left.\n",
      "\n",
      " 42. run of importance source...\n",
      " 43. run of importance source...\n",
      " 44. run of importance source...\n",
      " 45. run of importance source...\n",
      " 46. run of importance source...\n",
      " 47. run of importance source...\n",
      " 48. run of importance source...\n",
      " 49. run of importance source...\n",
      " 50. run of importance source...\n",
      " 51. run of importance source...\n",
      "After 51 iterations, +29 mins: \n",
      " rejected 1 attribute: IFI44;\n",
      " still have 9 attributes left.\n",
      "\n",
      " 52. run of importance source...\n",
      " 53. run of importance source...\n",
      " 54. run of importance source...\n",
      " 55. run of importance source...\n",
      " 56. run of importance source...\n",
      " 57. run of importance source...\n",
      " 58. run of importance source...\n",
      " 59. run of importance source...\n",
      " 60. run of importance source...\n",
      " 61. run of importance source...\n",
      " 62. run of importance source...\n",
      " 63. run of importance source...\n",
      " 64. run of importance source...\n",
      " 65. run of importance source...\n",
      " 66. run of importance source...\n",
      " 67. run of importance source...\n",
      " 68. run of importance source...\n",
      " 69. run of importance source...\n",
      " 70. run of importance source...\n",
      " 71. run of importance source...\n",
      " 72. run of importance source...\n",
      "After 72 iterations, +29 mins: \n",
      " rejected 1 attribute: UBTD1;\n",
      " still have 8 attributes left.\n",
      "\n",
      " 73. run of importance source...\n",
      " 74. run of importance source...\n",
      "After 74 iterations, +29 mins: \n",
      " rejected 1 attribute: CAV1;\n",
      " still have 7 attributes left.\n",
      "\n",
      " 75. run of importance source...\n",
      " 76. run of importance source...\n",
      " 77. run of importance source...\n",
      " 78. run of importance source...\n",
      " 79. run of importance source...\n",
      " 80. run of importance source...\n",
      "After 80 iterations, +29 mins: \n",
      " rejected 1 attribute: LINC01638;\n",
      " still have 6 attributes left.\n",
      "\n",
      " 81. run of importance source...\n",
      " 82. run of importance source...\n",
      " 83. run of importance source...\n",
      " 84. run of importance source...\n",
      " 85. run of importance source...\n",
      " 86. run of importance source...\n",
      " 87. run of importance source...\n",
      " 88. run of importance source...\n",
      " 89. run of importance source...\n",
      " 90. run of importance source...\n",
      " 91. run of importance source...\n",
      " 92. run of importance source...\n",
      " 93. run of importance source...\n",
      " 94. run of importance source...\n",
      " 95. run of importance source...\n",
      " 96. run of importance source...\n",
      " 97. run of importance source...\n",
      " 98. run of importance source...\n",
      " 99. run of importance source...\n"
     ]
    },
    {
     "name": "stdout",
     "output_type": "stream",
     "text": [
      "\n",
      "Boruta is running for glioma\n",
      "Drug1: Boruta is running for ZD-6474"
     ]
    },
    {
     "name": "stderr",
     "output_type": "stream",
     "text": [
      " 1. run of importance source...\n",
      " 2. run of importance source...\n",
      " 3. run of importance source...\n",
      " 4. run of importance source...\n",
      " 5. run of importance source...\n",
      " 6. run of importance source...\n",
      " 7. run of importance source...\n",
      " 8. run of importance source...\n",
      " 9. run of importance source...\n",
      " 10. run of importance source...\n",
      " 11. run of importance source...\n",
      " 12. run of importance source...\n",
      " 13. run of importance source...\n",
      " 14. run of importance source...\n",
      " 15. run of importance source...\n",
      " 16. run of importance source...\n",
      " 17. run of importance source...\n",
      " 18. run of importance source...\n",
      " 19. run of importance source...\n",
      " 20. run of importance source...\n",
      " 21. run of importance source...\n",
      "After 21 iterations, +1.3 mins: \n",
      " rejected 20166 attributes: A1BG, A1BG-AS1, A1CF, A2M, A2M-AS1 and 20161 more;\n",
      " still have 8 attributes left.\n",
      "\n",
      " 22. run of importance source...\n",
      " 23. run of importance source...\n",
      " 24. run of importance source...\n",
      " 25. run of importance source...\n",
      " 26. run of importance source...\n",
      " 27. run of importance source...\n",
      " 28. run of importance source...\n",
      " 29. run of importance source...\n",
      " 30. run of importance source...\n",
      " 31. run of importance source...\n",
      " 32. run of importance source...\n",
      " 33. run of importance source...\n",
      " 34. run of importance source...\n",
      " 35. run of importance source...\n",
      " 36. run of importance source...\n",
      " 37. run of importance source...\n",
      " 38. run of importance source...\n",
      " 39. run of importance source...\n",
      " 40. run of importance source...\n",
      " 41. run of importance source...\n",
      " 42. run of importance source...\n",
      " 43. run of importance source...\n",
      " 44. run of importance source...\n",
      " 45. run of importance source...\n",
      " 46. run of importance source...\n",
      " 47. run of importance source...\n",
      " 48. run of importance source...\n",
      " 49. run of importance source...\n",
      " 50. run of importance source...\n",
      " 51. run of importance source...\n",
      "After 51 iterations, +1.3 mins: \n",
      " rejected 1 attribute: CAND2;\n",
      " still have 7 attributes left.\n",
      "\n",
      " 52. run of importance source...\n",
      " 53. run of importance source...\n",
      " 54. run of importance source...\n",
      " 55. run of importance source...\n",
      " 56. run of importance source...\n",
      " 57. run of importance source...\n",
      " 58. run of importance source...\n",
      " 59. run of importance source...\n",
      " 60. run of importance source...\n",
      " 61. run of importance source...\n",
      " 62. run of importance source...\n",
      " 63. run of importance source...\n",
      " 64. run of importance source...\n",
      " 65. run of importance source...\n",
      " 66. run of importance source...\n",
      " 67. run of importance source...\n",
      " 68. run of importance source...\n",
      " 69. run of importance source...\n",
      " 70. run of importance source...\n",
      " 71. run of importance source...\n",
      " 72. run of importance source...\n",
      " 73. run of importance source...\n",
      " 74. run of importance source...\n",
      " 75. run of importance source...\n",
      " 76. run of importance source...\n",
      " 77. run of importance source...\n",
      " 78. run of importance source...\n",
      " 79. run of importance source...\n",
      " 80. run of importance source...\n",
      " 81. run of importance source...\n",
      " 82. run of importance source...\n",
      " 83. run of importance source...\n",
      " 84. run of importance source...\n",
      " 85. run of importance source...\n",
      " 86. run of importance source...\n",
      " 87. run of importance source...\n",
      " 88. run of importance source...\n",
      " 89. run of importance source...\n",
      " 90. run of importance source...\n",
      " 91. run of importance source...\n",
      "After 91 iterations, +1.3 mins: \n",
      " confirmed 1 attribute: USP19;\n",
      " still have 6 attributes left.\n",
      "\n",
      " 92. run of importance source...\n",
      " 93. run of importance source...\n",
      " 94. run of importance source...\n",
      " 95. run of importance source...\n",
      " 96. run of importance source...\n",
      " 97. run of importance source...\n",
      " 98. run of importance source...\n",
      " 99. run of importance source...\n",
      "After 99 iterations, +1.3 mins: \n",
      " confirmed 3 attributes: EMC10, LINC02843, LY6D;\n",
      " still have 3 attributes left.\n",
      "\n"
     ]
    },
    {
     "name": "stdout",
     "output_type": "stream",
     "text": [
      "\n",
      "Drug2: Boruta is running for LBW242"
     ]
    },
    {
     "name": "stderr",
     "output_type": "stream",
     "text": [
      " 1. run of importance source...\n",
      " 2. run of importance source...\n",
      " 3. run of importance source...\n",
      " 4. run of importance source...\n",
      " 5. run of importance source...\n",
      " 6. run of importance source...\n",
      " 7. run of importance source...\n",
      " 8. run of importance source...\n",
      " 9. run of importance source...\n",
      " 10. run of importance source...\n",
      " 11. run of importance source...\n",
      " 12. run of importance source...\n",
      " 13. run of importance source...\n",
      " 14. run of importance source...\n",
      " 15. run of importance source...\n",
      " 16. run of importance source...\n",
      " 17. run of importance source...\n",
      " 18. run of importance source...\n",
      " 19. run of importance source...\n",
      " 20. run of importance source...\n",
      " 21. run of importance source...\n",
      "After 21 iterations, +1.1 mins: \n",
      " rejected 20154 attributes: A1BG, A1BG-AS1, A1CF, A2M, A2M-AS1 and 20149 more;\n",
      " still have 20 attributes left.\n",
      "\n",
      " 22. run of importance source...\n",
      " 23. run of importance source...\n",
      " 24. run of importance source...\n",
      " 25. run of importance source...\n",
      " 26. run of importance source...\n",
      "After 26 iterations, +1.1 mins: \n",
      " rejected 1 attribute: HELB;\n",
      " still have 19 attributes left.\n",
      "\n",
      " 27. run of importance source...\n",
      " 28. run of importance source...\n",
      " 29. run of importance source...\n",
      " 30. run of importance source...\n",
      " 31. run of importance source...\n",
      " 32. run of importance source...\n",
      " 33. run of importance source...\n",
      " 34. run of importance source...\n",
      " 35. run of importance source...\n",
      " 36. run of importance source...\n",
      " 37. run of importance source...\n",
      " 38. run of importance source...\n",
      " 39. run of importance source...\n",
      " 40. run of importance source...\n",
      " 41. run of importance source...\n",
      " 42. run of importance source...\n",
      " 43. run of importance source...\n",
      " 44. run of importance source...\n",
      " 45. run of importance source...\n",
      " 46. run of importance source...\n",
      " 47. run of importance source...\n",
      " 48. run of importance source...\n",
      " 49. run of importance source...\n",
      " 50. run of importance source...\n",
      " 51. run of importance source...\n",
      " 52. run of importance source...\n",
      " 53. run of importance source...\n",
      " 54. run of importance source...\n",
      " 55. run of importance source...\n",
      " 56. run of importance source...\n",
      " 57. run of importance source...\n",
      " 58. run of importance source...\n",
      " 59. run of importance source...\n",
      " 60. run of importance source...\n",
      " 61. run of importance source...\n",
      " 62. run of importance source...\n",
      " 63. run of importance source...\n",
      " 64. run of importance source...\n",
      " 65. run of importance source...\n",
      " 66. run of importance source...\n",
      " 67. run of importance source...\n",
      " 68. run of importance source...\n",
      " 69. run of importance source...\n",
      " 70. run of importance source...\n",
      " 71. run of importance source...\n",
      " 72. run of importance source...\n",
      " 73. run of importance source...\n",
      " 74. run of importance source...\n",
      " 75. run of importance source...\n",
      " 76. run of importance source...\n",
      " 77. run of importance source...\n",
      " 78. run of importance source...\n",
      " 79. run of importance source...\n",
      " 80. run of importance source...\n",
      " 81. run of importance source...\n",
      " 82. run of importance source...\n",
      " 83. run of importance source...\n",
      " 84. run of importance source...\n",
      " 85. run of importance source...\n",
      " 86. run of importance source...\n",
      " 87. run of importance source...\n",
      " 88. run of importance source...\n",
      "After 88 iterations, +1.2 mins: \n",
      " confirmed 1 attribute: IL22RA2;\n",
      " still have 18 attributes left.\n",
      "\n",
      " 89. run of importance source...\n",
      " 90. run of importance source...\n",
      " 91. run of importance source...\n",
      " 92. run of importance source...\n",
      " 93. run of importance source...\n",
      " 94. run of importance source...\n",
      "After 94 iterations, +1.2 mins: \n",
      " confirmed 1 attribute: OTOGL;\n",
      " still have 17 attributes left.\n",
      "\n",
      " 95. run of importance source...\n",
      " 96. run of importance source...\n",
      "After 96 iterations, +1.2 mins: \n",
      " confirmed 2 attributes: FBLN1, GSG1;\n",
      " still have 15 attributes left.\n",
      "\n",
      " 97. run of importance source...\n",
      " 98. run of importance source...\n",
      " 99. run of importance source...\n"
     ]
    },
    {
     "name": "stdout",
     "output_type": "stream",
     "text": [
      "\n",
      "Drug3: Boruta is running for Lapatinib"
     ]
    },
    {
     "name": "stderr",
     "output_type": "stream",
     "text": [
      " 1. run of importance source...\n",
      " 2. run of importance source...\n",
      " 3. run of importance source...\n",
      " 4. run of importance source...\n",
      " 5. run of importance source...\n",
      " 6. run of importance source...\n",
      " 7. run of importance source...\n",
      " 8. run of importance source...\n",
      " 9. run of importance source...\n",
      " 10. run of importance source...\n",
      " 11. run of importance source...\n",
      " 12. run of importance source...\n",
      " 13. run of importance source...\n",
      " 14. run of importance source...\n",
      " 15. run of importance source...\n",
      " 16. run of importance source...\n",
      " 17. run of importance source...\n",
      " 18. run of importance source...\n",
      " 19. run of importance source...\n",
      " 20. run of importance source...\n",
      " 21. run of importance source...\n",
      "After 21 iterations, +1.2 mins: \n",
      " rejected 20173 attributes: A1BG, A1BG-AS1, A1CF, A2M, A2M-AS1 and 20168 more;\n",
      " still have 1 attribute left.\n",
      "\n",
      " 22. run of importance source...\n",
      " 23. run of importance source...\n",
      " 24. run of importance source...\n",
      " 25. run of importance source...\n",
      " 26. run of importance source...\n",
      " 27. run of importance source...\n",
      " 28. run of importance source...\n",
      " 29. run of importance source...\n",
      " 30. run of importance source...\n",
      " 31. run of importance source...\n",
      " 32. run of importance source...\n",
      " 33. run of importance source...\n",
      " 34. run of importance source...\n",
      " 35. run of importance source...\n",
      " 36. run of importance source...\n",
      " 37. run of importance source...\n",
      " 38. run of importance source...\n",
      " 39. run of importance source...\n",
      " 40. run of importance source...\n",
      " 41. run of importance source...\n",
      " 42. run of importance source...\n",
      " 43. run of importance source...\n",
      " 44. run of importance source...\n",
      " 45. run of importance source...\n",
      " 46. run of importance source...\n",
      " 47. run of importance source...\n",
      " 48. run of importance source...\n",
      " 49. run of importance source...\n",
      " 50. run of importance source...\n",
      " 51. run of importance source...\n",
      " 52. run of importance source...\n",
      " 53. run of importance source...\n",
      " 54. run of importance source...\n",
      " 55. run of importance source...\n",
      " 56. run of importance source...\n",
      " 57. run of importance source...\n",
      " 58. run of importance source...\n",
      " 59. run of importance source...\n",
      " 60. run of importance source...\n",
      " 61. run of importance source...\n",
      " 62. run of importance source...\n",
      " 63. run of importance source...\n",
      " 64. run of importance source...\n",
      " 65. run of importance source...\n",
      " 66. run of importance source...\n",
      " 67. run of importance source...\n",
      " 68. run of importance source...\n",
      " 69. run of importance source...\n",
      " 70. run of importance source...\n",
      " 71. run of importance source...\n",
      " 72. run of importance source...\n",
      " 73. run of importance source...\n",
      " 74. run of importance source...\n",
      " 75. run of importance source...\n",
      " 76. run of importance source...\n",
      " 77. run of importance source...\n",
      " 78. run of importance source...\n",
      " 79. run of importance source...\n",
      " 80. run of importance source...\n",
      " 81. run of importance source...\n",
      " 82. run of importance source...\n",
      " 83. run of importance source...\n",
      " 84. run of importance source...\n",
      " 85. run of importance source...\n",
      " 86. run of importance source...\n",
      " 87. run of importance source...\n",
      " 88. run of importance source...\n",
      "After 88 iterations, +1.2 mins: \n",
      " confirmed 1 attribute: ATP5MC3;\n",
      " no more attributes left.\n",
      "\n",
      "Warning message in TentativeRoughFix(boruta):\n",
      "\"There are no Tentative attributes! Returning original object.\""
     ]
    },
    {
     "name": "stdout",
     "output_type": "stream",
     "text": [
      "\n",
      "Drug4: Boruta is running for PLX4720"
     ]
    },
    {
     "name": "stderr",
     "output_type": "stream",
     "text": [
      " 1. run of importance source...\n",
      " 2. run of importance source...\n",
      " 3. run of importance source...\n",
      " 4. run of importance source...\n",
      " 5. run of importance source...\n",
      " 6. run of importance source...\n",
      " 7. run of importance source...\n",
      " 8. run of importance source...\n",
      " 9. run of importance source...\n",
      " 10. run of importance source...\n",
      " 11. run of importance source...\n",
      " 12. run of importance source...\n",
      " 13. run of importance source...\n",
      " 14. run of importance source...\n",
      " 15. run of importance source...\n",
      " 16. run of importance source...\n",
      " 17. run of importance source...\n",
      " 18. run of importance source...\n",
      " 19. run of importance source...\n",
      " 20. run of importance source...\n",
      " 21. run of importance source...\n",
      "After 21 iterations, +1.2 mins: \n",
      " rejected 20173 attributes: A1BG, A1BG-AS1, A1CF, A2M, A2M-AS1 and 20168 more;\n",
      " still have 1 attribute left.\n",
      "\n",
      " 22. run of importance source...\n",
      " 23. run of importance source...\n",
      " 24. run of importance source...\n",
      " 25. run of importance source...\n",
      " 26. run of importance source...\n",
      " 27. run of importance source...\n",
      " 28. run of importance source...\n",
      " 29. run of importance source...\n",
      " 30. run of importance source...\n",
      " 31. run of importance source...\n",
      " 32. run of importance source...\n",
      " 33. run of importance source...\n",
      " 34. run of importance source...\n",
      " 35. run of importance source...\n",
      " 36. run of importance source...\n",
      " 37. run of importance source...\n",
      " 38. run of importance source...\n",
      " 39. run of importance source...\n",
      " 40. run of importance source...\n",
      " 41. run of importance source...\n",
      " 42. run of importance source...\n",
      " 43. run of importance source...\n",
      " 44. run of importance source...\n",
      " 45. run of importance source...\n",
      " 46. run of importance source...\n",
      " 47. run of importance source...\n",
      " 48. run of importance source...\n",
      " 49. run of importance source...\n",
      " 50. run of importance source...\n",
      " 51. run of importance source...\n",
      " 52. run of importance source...\n",
      " 53. run of importance source...\n",
      " 54. run of importance source...\n",
      " 55. run of importance source...\n",
      " 56. run of importance source...\n",
      " 57. run of importance source...\n",
      " 58. run of importance source...\n",
      " 59. run of importance source...\n",
      " 60. run of importance source...\n",
      " 61. run of importance source...\n",
      " 62. run of importance source...\n",
      " 63. run of importance source...\n",
      " 64. run of importance source...\n",
      " 65. run of importance source...\n",
      " 66. run of importance source...\n",
      " 67. run of importance source...\n",
      " 68. run of importance source...\n",
      " 69. run of importance source...\n",
      " 70. run of importance source...\n",
      " 71. run of importance source...\n",
      " 72. run of importance source...\n",
      " 73. run of importance source...\n",
      " 74. run of importance source...\n",
      " 75. run of importance source...\n",
      " 76. run of importance source...\n",
      " 77. run of importance source...\n",
      " 78. run of importance source...\n",
      " 79. run of importance source...\n",
      " 80. run of importance source...\n",
      " 81. run of importance source...\n",
      " 82. run of importance source...\n",
      " 83. run of importance source...\n",
      " 84. run of importance source...\n",
      " 85. run of importance source...\n",
      " 86. run of importance source...\n",
      "After 86 iterations, +1.3 mins: \n",
      " confirmed 1 attribute: TMEM243;\n",
      " no more attributes left.\n",
      "\n",
      "Warning message in TentativeRoughFix(boruta):\n",
      "\"There are no Tentative attributes! Returning original object.\""
     ]
    },
    {
     "name": "stdout",
     "output_type": "stream",
     "text": [
      "\n",
      "Drug5: Boruta is running for TAE684"
     ]
    },
    {
     "name": "stderr",
     "output_type": "stream",
     "text": [
      " 1. run of importance source...\n",
      " 2. run of importance source...\n",
      " 3. run of importance source...\n",
      " 4. run of importance source...\n",
      " 5. run of importance source...\n",
      " 6. run of importance source...\n",
      " 7. run of importance source...\n",
      " 8. run of importance source...\n",
      " 9. run of importance source...\n",
      " 10. run of importance source...\n",
      " 11. run of importance source...\n",
      " 12. run of importance source...\n",
      " 13. run of importance source...\n",
      " 14. run of importance source...\n",
      " 15. run of importance source...\n",
      " 16. run of importance source...\n",
      " 17. run of importance source...\n",
      " 18. run of importance source...\n",
      " 19. run of importance source...\n",
      " 20. run of importance source...\n",
      " 21. run of importance source...\n",
      "After 21 iterations, +1.4 mins: \n",
      " rejected 20165 attributes: A1BG, A1BG-AS1, A1CF, A2M, A2M-AS1 and 20160 more;\n",
      " still have 9 attributes left.\n",
      "\n",
      " 22. run of importance source...\n",
      " 23. run of importance source...\n",
      " 24. run of importance source...\n",
      " 25. run of importance source...\n",
      " 26. run of importance source...\n",
      " 27. run of importance source...\n",
      " 28. run of importance source...\n",
      " 29. run of importance source...\n",
      " 30. run of importance source...\n",
      " 31. run of importance source...\n",
      " 32. run of importance source...\n",
      " 33. run of importance source...\n",
      " 34. run of importance source...\n",
      "After 34 iterations, +1.4 mins: \n",
      " rejected 1 attribute: GPR84;\n",
      " still have 8 attributes left.\n",
      "\n",
      " 35. run of importance source...\n",
      " 36. run of importance source...\n",
      " 37. run of importance source...\n",
      " 38. run of importance source...\n",
      " 39. run of importance source...\n",
      " 40. run of importance source...\n",
      " 41. run of importance source...\n",
      " 42. run of importance source...\n",
      " 43. run of importance source...\n",
      " 44. run of importance source...\n",
      " 45. run of importance source...\n",
      " 46. run of importance source...\n",
      " 47. run of importance source...\n",
      " 48. run of importance source...\n",
      " 49. run of importance source...\n",
      " 50. run of importance source...\n",
      " 51. run of importance source...\n",
      " 52. run of importance source...\n",
      " 53. run of importance source...\n",
      " 54. run of importance source...\n",
      " 55. run of importance source...\n",
      " 56. run of importance source...\n",
      " 57. run of importance source...\n",
      " 58. run of importance source...\n",
      " 59. run of importance source...\n",
      " 60. run of importance source...\n",
      " 61. run of importance source...\n",
      " 62. run of importance source...\n",
      " 63. run of importance source...\n",
      " 64. run of importance source...\n",
      " 65. run of importance source...\n",
      " 66. run of importance source...\n",
      " 67. run of importance source...\n",
      " 68. run of importance source...\n",
      " 69. run of importance source...\n",
      " 70. run of importance source...\n",
      " 71. run of importance source...\n",
      " 72. run of importance source...\n",
      " 73. run of importance source...\n",
      " 74. run of importance source...\n",
      " 75. run of importance source...\n",
      " 76. run of importance source...\n",
      " 77. run of importance source...\n",
      " 78. run of importance source...\n",
      " 79. run of importance source...\n",
      " 80. run of importance source...\n",
      " 81. run of importance source...\n",
      " 82. run of importance source...\n",
      " 83. run of importance source...\n",
      " 84. run of importance source...\n",
      " 85. run of importance source...\n",
      " 86. run of importance source...\n",
      "After 86 iterations, +1.5 mins: \n",
      " confirmed 2 attributes: PTMAP1, RYR3;\n",
      " still have 6 attributes left.\n",
      "\n",
      " 87. run of importance source...\n",
      " 88. run of importance source...\n",
      "After 88 iterations, +1.5 mins: \n",
      " confirmed 2 attributes: NPC1L1, TONSL-AS1;\n",
      " still have 4 attributes left.\n",
      "\n",
      " 89. run of importance source...\n",
      " 90. run of importance source...\n",
      " 91. run of importance source...\n",
      "After 91 iterations, +1.5 mins: \n",
      " confirmed 3 attributes: P3H4, TNFSF14, XRRA1;\n",
      " still have 1 attribute left.\n",
      "\n",
      " 92. run of importance source...\n",
      " 93. run of importance source...\n",
      " 94. run of importance source...\n",
      " 95. run of importance source...\n",
      " 96. run of importance source...\n",
      " 97. run of importance source...\n",
      " 98. run of importance source...\n",
      " 99. run of importance source...\n"
     ]
    },
    {
     "name": "stdout",
     "output_type": "stream",
     "text": [
      "\n",
      "Drug6: Boruta is running for Paclitaxel"
     ]
    },
    {
     "name": "stderr",
     "output_type": "stream",
     "text": [
      " 1. run of importance source...\n",
      " 2. run of importance source...\n",
      " 3. run of importance source...\n",
      " 4. run of importance source...\n",
      " 5. run of importance source...\n",
      " 6. run of importance source...\n",
      " 7. run of importance source...\n",
      " 8. run of importance source...\n",
      " 9. run of importance source...\n",
      " 10. run of importance source...\n",
      " 11. run of importance source...\n",
      " 12. run of importance source...\n",
      " 13. run of importance source...\n",
      " 14. run of importance source...\n",
      " 15. run of importance source...\n",
      " 16. run of importance source...\n",
      " 17. run of importance source...\n",
      " 18. run of importance source...\n",
      " 19. run of importance source...\n",
      " 20. run of importance source...\n",
      " 21. run of importance source...\n",
      "After 21 iterations, +1.5 mins: \n",
      " rejected 20147 attributes: A1BG, A1BG-AS1, A1CF, A2M, A2M-AS1 and 20142 more;\n",
      " still have 27 attributes left.\n",
      "\n",
      " 22. run of importance source...\n",
      " 23. run of importance source...\n",
      " 24. run of importance source...\n",
      " 25. run of importance source...\n",
      " 26. run of importance source...\n",
      "After 26 iterations, +1.5 mins: \n",
      " rejected 4 attributes: GSDMD, IDO1, SMPD3, ZNF776;\n",
      " still have 23 attributes left.\n",
      "\n",
      " 27. run of importance source...\n",
      " 28. run of importance source...\n",
      " 29. run of importance source...\n",
      " 30. run of importance source...\n",
      "After 30 iterations, +1.5 mins: \n",
      " rejected 2 attributes: CHRD, PRAP1;\n",
      " still have 21 attributes left.\n",
      "\n",
      " 31. run of importance source...\n",
      " 32. run of importance source...\n",
      " 33. run of importance source...\n",
      " 34. run of importance source...\n",
      " 35. run of importance source...\n",
      " 36. run of importance source...\n",
      " 37. run of importance source...\n",
      " 38. run of importance source...\n",
      "After 38 iterations, +1.5 mins: \n",
      " rejected 1 attribute: UTP3;\n",
      " still have 20 attributes left.\n",
      "\n",
      " 39. run of importance source...\n",
      " 40. run of importance source...\n",
      " 41. run of importance source...\n",
      " 42. run of importance source...\n",
      " 43. run of importance source...\n",
      " 44. run of importance source...\n",
      " 45. run of importance source...\n",
      " 46. run of importance source...\n",
      " 47. run of importance source...\n",
      " 48. run of importance source...\n",
      " 49. run of importance source...\n",
      " 50. run of importance source...\n",
      " 51. run of importance source...\n",
      " 52. run of importance source...\n",
      " 53. run of importance source...\n",
      " 54. run of importance source...\n",
      " 55. run of importance source...\n",
      " 56. run of importance source...\n",
      " 57. run of importance source...\n",
      " 58. run of importance source...\n",
      " 59. run of importance source...\n",
      " 60. run of importance source...\n",
      " 61. run of importance source...\n",
      " 62. run of importance source...\n",
      " 63. run of importance source...\n",
      " 64. run of importance source...\n",
      " 65. run of importance source...\n",
      " 66. run of importance source...\n",
      "After 66 iterations, +1.5 mins: \n",
      " rejected 1 attribute: HMGB1;\n",
      " still have 19 attributes left.\n",
      "\n",
      " 67. run of importance source...\n",
      " 68. run of importance source...\n",
      " 69. run of importance source...\n",
      " 70. run of importance source...\n",
      " 71. run of importance source...\n",
      " 72. run of importance source...\n",
      " 73. run of importance source...\n",
      " 74. run of importance source...\n",
      "After 74 iterations, +1.5 mins: \n",
      " confirmed 1 attribute: FBXO4;\n",
      " still have 18 attributes left.\n",
      "\n",
      " 75. run of importance source...\n",
      " 76. run of importance source...\n",
      " 77. run of importance source...\n",
      " 78. run of importance source...\n",
      " 79. run of importance source...\n",
      " 80. run of importance source...\n",
      " 81. run of importance source...\n",
      " 82. run of importance source...\n",
      " 83. run of importance source...\n",
      "After 83 iterations, +1.5 mins: \n",
      " confirmed 2 attributes: CNTN3, OXGR1;\n",
      " still have 16 attributes left.\n",
      "\n",
      " 84. run of importance source...\n",
      " 85. run of importance source...\n",
      " 86. run of importance source...\n",
      " 87. run of importance source...\n",
      " 88. run of importance source...\n",
      "After 88 iterations, +1.5 mins: \n",
      " confirmed 3 attributes: ENTREP1, EPC1, LENG1;\n",
      " still have 13 attributes left.\n",
      "\n",
      " 89. run of importance source...\n",
      " 90. run of importance source...\n",
      " 91. run of importance source...\n",
      "After 91 iterations, +1.5 mins: \n",
      " confirmed 1 attribute: LINC02047;\n",
      " still have 12 attributes left.\n",
      "\n",
      " 92. run of importance source...\n",
      " 93. run of importance source...\n",
      " 94. run of importance source...\n",
      "After 94 iterations, +1.5 mins: \n",
      " confirmed 2 attributes: PRAC1, TRIM33;\n",
      " still have 10 attributes left.\n",
      "\n",
      " 95. run of importance source...\n",
      " 96. run of importance source...\n",
      "After 96 iterations, +1.5 mins: \n",
      " confirmed 2 attributes: GHDC, IL10RB;\n",
      " still have 8 attributes left.\n",
      "\n",
      " 97. run of importance source...\n",
      " 98. run of importance source...\n",
      " 99. run of importance source...\n",
      "After 99 iterations, +1.5 mins: \n",
      " confirmed 1 attribute: DBNL;\n",
      " still have 7 attributes left.\n",
      "\n"
     ]
    },
    {
     "name": "stdout",
     "output_type": "stream",
     "text": [
      "\n",
      "Drug7: Boruta is running for PHA-665752"
     ]
    },
    {
     "name": "stderr",
     "output_type": "stream",
     "text": [
      " 1. run of importance source...\n",
      " 2. run of importance source...\n",
      " 3. run of importance source...\n",
      " 4. run of importance source...\n",
      " 5. run of importance source...\n",
      " 6. run of importance source...\n",
      " 7. run of importance source...\n",
      " 8. run of importance source...\n",
      " 9. run of importance source...\n",
      " 10. run of importance source...\n",
      " 11. run of importance source...\n",
      " 12. run of importance source...\n",
      " 13. run of importance source...\n",
      " 14. run of importance source...\n",
      " 15. run of importance source...\n",
      " 16. run of importance source...\n",
      " 17. run of importance source...\n",
      " 18. run of importance source...\n",
      " 19. run of importance source...\n",
      " 20. run of importance source...\n",
      " 21. run of importance source...\n",
      "After 21 iterations, +1.2 mins: \n",
      " rejected 20174 attributes: A1BG, A1BG-AS1, A1CF, A2M, A2M-AS1 and 20169 more;\n",
      " no more attributes left.\n",
      "\n",
      "Warning message in TentativeRoughFix(boruta):\n",
      "\"There are no Tentative attributes! Returning original object.\""
     ]
    },
    {
     "name": "stdout",
     "output_type": "stream",
     "text": [
      "\n",
      "Drug8: Boruta is running for Panobinostat"
     ]
    },
    {
     "name": "stderr",
     "output_type": "stream",
     "text": [
      " 1. run of importance source...\n",
      " 2. run of importance source...\n",
      " 3. run of importance source...\n",
      " 4. run of importance source...\n",
      " 5. run of importance source...\n",
      " 6. run of importance source...\n",
      " 7. run of importance source...\n",
      " 8. run of importance source...\n",
      " 9. run of importance source...\n",
      " 10. run of importance source...\n",
      " 11. run of importance source...\n",
      " 12. run of importance source...\n",
      " 13. run of importance source...\n",
      " 14. run of importance source...\n",
      " 15. run of importance source...\n",
      " 16. run of importance source...\n",
      " 17. run of importance source...\n",
      " 18. run of importance source...\n",
      " 19. run of importance source...\n",
      " 20. run of importance source...\n",
      " 21. run of importance source...\n",
      "After 21 iterations, +1.5 mins: \n",
      " rejected 20157 attributes: A1BG, A1BG-AS1, A1CF, A2M, A2M-AS1 and 20152 more;\n",
      " still have 17 attributes left.\n",
      "\n",
      " 22. run of importance source...\n",
      " 23. run of importance source...\n",
      " 24. run of importance source...\n",
      " 25. run of importance source...\n",
      " 26. run of importance source...\n",
      "After 26 iterations, +1.5 mins: \n",
      " rejected 1 attribute: ARSF;\n",
      " still have 16 attributes left.\n",
      "\n",
      " 27. run of importance source...\n",
      " 28. run of importance source...\n",
      " 29. run of importance source...\n",
      " 30. run of importance source...\n",
      " 31. run of importance source...\n",
      " 32. run of importance source...\n",
      " 33. run of importance source...\n",
      " 34. run of importance source...\n",
      "After 34 iterations, +1.5 mins: \n",
      " rejected 1 attribute: C19orf53;\n",
      " still have 15 attributes left.\n",
      "\n",
      " 35. run of importance source...\n",
      " 36. run of importance source...\n",
      " 37. run of importance source...\n",
      " 38. run of importance source...\n",
      " 39. run of importance source...\n",
      " 40. run of importance source...\n",
      " 41. run of importance source...\n",
      " 42. run of importance source...\n",
      " 43. run of importance source...\n",
      " 44. run of importance source...\n",
      " 45. run of importance source...\n",
      " 46. run of importance source...\n",
      " 47. run of importance source...\n",
      " 48. run of importance source...\n",
      " 49. run of importance source...\n",
      " 50. run of importance source...\n",
      " 51. run of importance source...\n",
      " 52. run of importance source...\n",
      " 53. run of importance source...\n",
      " 54. run of importance source...\n",
      " 55. run of importance source...\n",
      " 56. run of importance source...\n",
      " 57. run of importance source...\n",
      " 58. run of importance source...\n",
      " 59. run of importance source...\n",
      " 60. run of importance source...\n",
      " 61. run of importance source...\n",
      " 62. run of importance source...\n",
      " 63. run of importance source...\n",
      " 64. run of importance source...\n",
      " 65. run of importance source...\n",
      " 66. run of importance source...\n",
      " 67. run of importance source...\n",
      " 68. run of importance source...\n",
      " 69. run of importance source...\n",
      " 70. run of importance source...\n",
      " 71. run of importance source...\n",
      " 72. run of importance source...\n",
      " 73. run of importance source...\n",
      " 74. run of importance source...\n",
      "After 74 iterations, +1.5 mins: \n",
      " rejected 1 attribute: MRPS7;\n",
      " still have 14 attributes left.\n",
      "\n",
      " 75. run of importance source...\n",
      " 76. run of importance source...\n",
      " 77. run of importance source...\n",
      " 78. run of importance source...\n",
      " 79. run of importance source...\n",
      " 80. run of importance source...\n",
      " 81. run of importance source...\n",
      " 82. run of importance source...\n",
      " 83. run of importance source...\n",
      "After 83 iterations, +1.5 mins: \n",
      " confirmed 1 attribute: CDC37;\n",
      " still have 13 attributes left.\n",
      "\n",
      " 84. run of importance source...\n",
      " 85. run of importance source...\n",
      " 86. run of importance source...\n",
      "After 86 iterations, +1.5 mins: \n",
      " confirmed 2 attributes: CCDC57, LINC02421;\n",
      " still have 11 attributes left.\n",
      "\n",
      " 87. run of importance source...\n",
      " 88. run of importance source...\n",
      "After 88 iterations, +1.5 mins: \n",
      " confirmed 2 attributes: CP, LOC284600;\n",
      " still have 9 attributes left.\n",
      "\n",
      " 89. run of importance source...\n",
      " 90. run of importance source...\n",
      " 91. run of importance source...\n",
      "After 91 iterations, +1.5 mins: \n",
      " confirmed 2 attributes: HOOK2, PKDREJ;\n",
      " still have 7 attributes left.\n",
      "\n",
      " 92. run of importance source...\n",
      " 93. run of importance source...\n",
      " 94. run of importance source...\n",
      " 95. run of importance source...\n",
      " 96. run of importance source...\n",
      "After 96 iterations, +1.5 mins: \n",
      " confirmed 2 attributes: AOPEP, YPEL5;\n",
      " still have 5 attributes left.\n",
      "\n",
      " 97. run of importance source...\n",
      " 98. run of importance source...\n",
      " 99. run of importance source...\n",
      "After 99 iterations, +1.5 mins: \n",
      " confirmed 1 attribute: PTPDC1;\n",
      " still have 4 attributes left.\n",
      "\n"
     ]
    },
    {
     "name": "stdout",
     "output_type": "stream",
     "text": [
      "\n",
      "Drug9: Boruta is running for AEW541"
     ]
    },
    {
     "name": "stderr",
     "output_type": "stream",
     "text": [
      " 1. run of importance source...\n",
      " 2. run of importance source...\n",
      " 3. run of importance source...\n",
      " 4. run of importance source...\n",
      " 5. run of importance source...\n",
      " 6. run of importance source...\n",
      " 7. run of importance source...\n",
      " 8. run of importance source...\n",
      " 9. run of importance source...\n",
      " 10. run of importance source...\n",
      " 11. run of importance source...\n",
      " 12. run of importance source...\n",
      " 13. run of importance source...\n",
      " 14. run of importance source...\n",
      " 15. run of importance source...\n",
      " 16. run of importance source...\n",
      " 17. run of importance source...\n",
      " 18. run of importance source...\n",
      " 19. run of importance source...\n",
      " 20. run of importance source...\n",
      " 21. run of importance source...\n",
      "After 21 iterations, +1.4 mins: \n",
      " rejected 20159 attributes: A1BG, A1BG-AS1, A1CF, A2M, A2M-AS1 and 20154 more;\n",
      " still have 15 attributes left.\n",
      "\n",
      " 22. run of importance source...\n",
      " 23. run of importance source...\n",
      " 24. run of importance source...\n",
      " 25. run of importance source...\n",
      " 26. run of importance source...\n",
      "After 26 iterations, +1.4 mins: \n",
      " rejected 1 attribute: FOXG1;\n",
      " still have 14 attributes left.\n",
      "\n",
      " 27. run of importance source...\n",
      " 28. run of importance source...\n",
      " 29. run of importance source...\n",
      " 30. run of importance source...\n",
      " 31. run of importance source...\n",
      " 32. run of importance source...\n",
      " 33. run of importance source...\n",
      " 34. run of importance source...\n",
      " 35. run of importance source...\n",
      " 36. run of importance source...\n",
      " 37. run of importance source...\n",
      " 38. run of importance source...\n",
      " 39. run of importance source...\n",
      " 40. run of importance source...\n",
      " 41. run of importance source...\n",
      " 42. run of importance source...\n",
      " 43. run of importance source...\n",
      " 44. run of importance source...\n",
      " 45. run of importance source...\n",
      " 46. run of importance source...\n",
      " 47. run of importance source...\n",
      " 48. run of importance source...\n",
      " 49. run of importance source...\n",
      " 50. run of importance source...\n",
      " 51. run of importance source...\n",
      " 52. run of importance source...\n",
      " 53. run of importance source...\n",
      " 54. run of importance source...\n",
      " 55. run of importance source...\n",
      " 56. run of importance source...\n",
      " 57. run of importance source...\n",
      " 58. run of importance source...\n",
      " 59. run of importance source...\n",
      " 60. run of importance source...\n",
      " 61. run of importance source...\n",
      " 62. run of importance source...\n",
      " 63. run of importance source...\n",
      " 64. run of importance source...\n",
      " 65. run of importance source...\n",
      " 66. run of importance source...\n",
      " 67. run of importance source...\n",
      " 68. run of importance source...\n",
      " 69. run of importance source...\n",
      " 70. run of importance source...\n",
      " 71. run of importance source...\n",
      " 72. run of importance source...\n",
      " 73. run of importance source...\n",
      " 74. run of importance source...\n",
      " 75. run of importance source...\n",
      " 76. run of importance source...\n",
      " 77. run of importance source...\n",
      " 78. run of importance source...\n",
      " 79. run of importance source...\n",
      " 80. run of importance source...\n",
      "After 80 iterations, +1.4 mins: \n",
      " confirmed 2 attributes: CD163, CD276;\n",
      " still have 12 attributes left.\n",
      "\n",
      " 81. run of importance source...\n",
      " 82. run of importance source...\n",
      " 83. run of importance source...\n",
      "After 83 iterations, +1.4 mins: \n",
      " confirmed 1 attribute: FAM53C;\n",
      " still have 11 attributes left.\n",
      "\n",
      " 84. run of importance source...\n",
      " 85. run of importance source...\n",
      " 86. run of importance source...\n",
      "After 86 iterations, +1.4 mins: \n",
      " confirmed 4 attributes: CNTNAP2-AS1, DIRAS1, NARS2, NUDT13;\n",
      " still have 7 attributes left.\n",
      "\n",
      " 87. run of importance source...\n",
      " 88. run of importance source...\n",
      "After 88 iterations, +1.4 mins: \n",
      " confirmed 1 attribute: PLOD3;\n",
      " still have 6 attributes left.\n",
      "\n",
      " 89. run of importance source...\n",
      " 90. run of importance source...\n",
      " 91. run of importance source...\n",
      " 92. run of importance source...\n",
      " 93. run of importance source...\n",
      " 94. run of importance source...\n",
      "After 94 iterations, +1.4 mins: \n",
      " confirmed 1 attribute: DFFB;\n",
      " still have 5 attributes left.\n",
      "\n",
      " 95. run of importance source...\n",
      " 96. run of importance source...\n",
      " 97. run of importance source...\n",
      " 98. run of importance source...\n",
      " 99. run of importance source...\n"
     ]
    },
    {
     "name": "stdout",
     "output_type": "stream",
     "text": [
      "\n",
      "Drug10: Boruta is running for Erlotinib"
     ]
    },
    {
     "name": "stderr",
     "output_type": "stream",
     "text": [
      " 1. run of importance source...\n",
      " 2. run of importance source...\n",
      " 3. run of importance source...\n",
      " 4. run of importance source...\n",
      " 5. run of importance source...\n",
      " 6. run of importance source...\n",
      " 7. run of importance source...\n",
      " 8. run of importance source...\n",
      " 9. run of importance source...\n",
      " 10. run of importance source...\n",
      " 11. run of importance source...\n",
      " 12. run of importance source...\n",
      " 13. run of importance source...\n",
      " 14. run of importance source...\n",
      " 15. run of importance source...\n",
      " 16. run of importance source...\n",
      " 17. run of importance source...\n",
      " 18. run of importance source...\n",
      " 19. run of importance source...\n",
      " 20. run of importance source...\n",
      " 21. run of importance source...\n",
      "After 21 iterations, +1.2 mins: \n",
      " rejected 20174 attributes: A1BG, A1BG-AS1, A1CF, A2M, A2M-AS1 and 20169 more;\n",
      " no more attributes left.\n",
      "\n",
      "Warning message in TentativeRoughFix(boruta):\n",
      "\"There are no Tentative attributes! Returning original object.\""
     ]
    },
    {
     "name": "stdout",
     "output_type": "stream",
     "text": [
      "\n",
      "Drug11: Boruta is running for TKI258"
     ]
    },
    {
     "name": "stderr",
     "output_type": "stream",
     "text": [
      " 1. run of importance source...\n",
      " 2. run of importance source...\n",
      " 3. run of importance source...\n",
      " 4. run of importance source...\n",
      " 5. run of importance source...\n",
      " 6. run of importance source...\n",
      " 7. run of importance source...\n",
      " 8. run of importance source...\n",
      " 9. run of importance source...\n",
      " 10. run of importance source...\n",
      " 11. run of importance source...\n",
      " 12. run of importance source...\n",
      " 13. run of importance source...\n",
      " 14. run of importance source...\n",
      " 15. run of importance source...\n",
      " 16. run of importance source...\n",
      " 17. run of importance source...\n",
      " 18. run of importance source...\n",
      " 19. run of importance source...\n",
      " 20. run of importance source...\n",
      " 21. run of importance source...\n",
      "After 21 iterations, +1.4 mins: \n",
      " rejected 20149 attributes: A1BG, A1BG-AS1, A1CF, A2M, A2M-AS1 and 20144 more;\n",
      " still have 25 attributes left.\n",
      "\n",
      " 22. run of importance source...\n",
      " 23. run of importance source...\n",
      " 24. run of importance source...\n",
      " 25. run of importance source...\n",
      " 26. run of importance source...\n",
      "After 26 iterations, +1.4 mins: \n",
      " rejected 3 attributes: AMZ1, LDB1, TLR5;\n",
      " still have 22 attributes left.\n",
      "\n",
      " 27. run of importance source...\n",
      " 28. run of importance source...\n",
      " 29. run of importance source...\n",
      " 30. run of importance source...\n",
      "After 30 iterations, +1.4 mins: \n",
      " rejected 1 attribute: P2RY4;\n",
      " still have 21 attributes left.\n",
      "\n",
      " 31. run of importance source...\n",
      " 32. run of importance source...\n",
      " 33. run of importance source...\n",
      " 34. run of importance source...\n",
      " 35. run of importance source...\n",
      " 36. run of importance source...\n",
      " 37. run of importance source...\n",
      " 38. run of importance source...\n",
      " 39. run of importance source...\n",
      " 40. run of importance source...\n",
      " 41. run of importance source...\n",
      " 42. run of importance source...\n",
      " 43. run of importance source...\n",
      " 44. run of importance source...\n",
      " 45. run of importance source...\n",
      " 46. run of importance source...\n",
      " 47. run of importance source...\n",
      " 48. run of importance source...\n",
      " 49. run of importance source...\n",
      " 50. run of importance source...\n",
      " 51. run of importance source...\n",
      " 52. run of importance source...\n",
      " 53. run of importance source...\n",
      " 54. run of importance source...\n",
      " 55. run of importance source...\n",
      " 56. run of importance source...\n",
      " 57. run of importance source...\n",
      " 58. run of importance source...\n",
      " 59. run of importance source...\n",
      " 60. run of importance source...\n",
      " 61. run of importance source...\n",
      " 62. run of importance source...\n",
      " 63. run of importance source...\n",
      " 64. run of importance source...\n",
      " 65. run of importance source...\n",
      " 66. run of importance source...\n",
      " 67. run of importance source...\n",
      " 68. run of importance source...\n",
      " 69. run of importance source...\n",
      " 70. run of importance source...\n",
      " 71. run of importance source...\n",
      " 72. run of importance source...\n",
      " 73. run of importance source...\n",
      " 74. run of importance source...\n",
      " 75. run of importance source...\n",
      " 76. run of importance source...\n",
      " 77. run of importance source...\n",
      " 78. run of importance source...\n",
      " 79. run of importance source...\n",
      " 80. run of importance source...\n",
      " 81. run of importance source...\n",
      " 82. run of importance source...\n",
      " 83. run of importance source...\n",
      "After 83 iterations, +1.5 mins: \n",
      " confirmed 5 attributes: GFER, HELQ, S1PR5, TCEANC2, TRIM41;\n",
      " still have 16 attributes left.\n",
      "\n",
      " 84. run of importance source...\n",
      " 85. run of importance source...\n",
      " 86. run of importance source...\n",
      " 87. run of importance source...\n",
      " 88. run of importance source...\n",
      "After 88 iterations, +1.5 mins: \n",
      " confirmed 3 attributes: BIN1, GPX3, IL17RC;\n",
      " still have 13 attributes left.\n",
      "\n",
      " 89. run of importance source...\n",
      " 90. run of importance source...\n",
      " 91. run of importance source...\n",
      " 92. run of importance source...\n",
      " 93. run of importance source...\n",
      " 94. run of importance source...\n",
      " 95. run of importance source...\n",
      " 96. run of importance source...\n",
      "After 96 iterations, +1.5 mins: \n",
      " confirmed 3 attributes: ATP9A, C14orf93, SPAG9;\n",
      " still have 10 attributes left.\n",
      "\n",
      " 97. run of importance source...\n",
      " 98. run of importance source...\n",
      " 99. run of importance source...\n"
     ]
    },
    {
     "name": "stdout",
     "output_type": "stream",
     "text": [
      "\n",
      "Drug12: Boruta is running for 17-AAG"
     ]
    },
    {
     "name": "stderr",
     "output_type": "stream",
     "text": [
      " 1. run of importance source...\n",
      " 2. run of importance source...\n",
      " 3. run of importance source...\n",
      " 4. run of importance source...\n",
      " 5. run of importance source...\n",
      " 6. run of importance source...\n",
      " 7. run of importance source...\n",
      " 8. run of importance source...\n",
      " 9. run of importance source...\n",
      " 10. run of importance source...\n",
      " 11. run of importance source...\n",
      " 12. run of importance source...\n",
      " 13. run of importance source...\n",
      " 14. run of importance source...\n",
      " 15. run of importance source...\n",
      " 16. run of importance source...\n",
      " 17. run of importance source...\n",
      " 18. run of importance source...\n",
      " 19. run of importance source...\n",
      " 20. run of importance source...\n",
      " 21. run of importance source...\n",
      "After 21 iterations, +1.6 mins: \n",
      " rejected 20135 attributes: A1BG, A1BG-AS1, A1CF, A2M, A2M-AS1 and 20130 more;\n",
      " still have 39 attributes left.\n",
      "\n",
      " 22. run of importance source...\n",
      " 23. run of importance source...\n",
      " 24. run of importance source...\n",
      " 25. run of importance source...\n",
      " 26. run of importance source...\n",
      "After 26 iterations, +1.6 mins: \n",
      " rejected 23 attributes: AHCYL2, APOBEC3A, CALML5, CASP6, CCDC65 and 18 more;\n",
      " still have 16 attributes left.\n",
      "\n",
      " 27. run of importance source...\n",
      " 28. run of importance source...\n",
      " 29. run of importance source...\n",
      " 30. run of importance source...\n",
      "After 30 iterations, +1.6 mins: \n",
      " rejected 3 attributes: SDHAF4, SLC17A8, TAF9;\n",
      " still have 13 attributes left.\n",
      "\n",
      " 31. run of importance source...\n",
      " 32. run of importance source...\n",
      " 33. run of importance source...\n",
      " 34. run of importance source...\n",
      " 35. run of importance source...\n",
      " 36. run of importance source...\n",
      " 37. run of importance source...\n",
      " 38. run of importance source...\n",
      "After 38 iterations, +1.7 mins: \n",
      " rejected 2 attributes: MYPN, PXK;\n",
      " still have 11 attributes left.\n",
      "\n",
      " 39. run of importance source...\n",
      " 40. run of importance source...\n",
      " 41. run of importance source...\n",
      "After 41 iterations, +1.7 mins: \n",
      " rejected 1 attribute: LINC02875;\n",
      " still have 10 attributes left.\n",
      "\n",
      " 42. run of importance source...\n",
      " 43. run of importance source...\n",
      " 44. run of importance source...\n",
      " 45. run of importance source...\n",
      " 46. run of importance source...\n",
      " 47. run of importance source...\n",
      " 48. run of importance source...\n",
      " 49. run of importance source...\n",
      " 50. run of importance source...\n",
      " 51. run of importance source...\n",
      " 52. run of importance source...\n",
      " 53. run of importance source...\n",
      " 54. run of importance source...\n",
      " 55. run of importance source...\n",
      " 56. run of importance source...\n",
      " 57. run of importance source...\n",
      " 58. run of importance source...\n",
      " 59. run of importance source...\n",
      " 60. run of importance source...\n",
      " 61. run of importance source...\n",
      " 62. run of importance source...\n",
      " 63. run of importance source...\n",
      " 64. run of importance source...\n",
      " 65. run of importance source...\n",
      " 66. run of importance source...\n",
      " 67. run of importance source...\n",
      " 68. run of importance source...\n",
      " 69. run of importance source...\n",
      " 70. run of importance source...\n",
      " 71. run of importance source...\n",
      " 72. run of importance source...\n",
      " 73. run of importance source...\n",
      " 74. run of importance source...\n",
      " 75. run of importance source...\n",
      " 76. run of importance source...\n",
      " 77. run of importance source...\n",
      "After 77 iterations, +1.7 mins: \n",
      " rejected 1 attribute: HRG;\n",
      " still have 9 attributes left.\n",
      "\n",
      " 78. run of importance source...\n",
      " 79. run of importance source...\n",
      " 80. run of importance source...\n",
      " 81. run of importance source...\n",
      " 82. run of importance source...\n",
      " 83. run of importance source...\n",
      " 84. run of importance source...\n",
      " 85. run of importance source...\n",
      " 86. run of importance source...\n",
      "After 86 iterations, +1.7 mins: \n",
      " rejected 1 attribute: ERCC8;\n",
      " still have 8 attributes left.\n",
      "\n",
      " 87. run of importance source...\n",
      " 88. run of importance source...\n",
      "After 88 iterations, +1.7 mins: \n",
      " confirmed 1 attribute: AMBN;\n",
      " still have 7 attributes left.\n",
      "\n",
      " 89. run of importance source...\n",
      " 90. run of importance source...\n",
      " 91. run of importance source...\n",
      " 92. run of importance source...\n",
      " 93. run of importance source...\n",
      " 94. run of importance source...\n",
      " 95. run of importance source...\n",
      " 96. run of importance source...\n",
      " 97. run of importance source...\n",
      " 98. run of importance source...\n",
      " 99. run of importance source...\n"
     ]
    },
    {
     "name": "stdout",
     "output_type": "stream",
     "text": [
      "\n",
      "Drug13: Boruta is running for Topotecan"
     ]
    },
    {
     "name": "stderr",
     "output_type": "stream",
     "text": [
      " 1. run of importance source...\n",
      " 2. run of importance source...\n",
      " 3. run of importance source...\n",
      " 4. run of importance source...\n",
      " 5. run of importance source...\n",
      " 6. run of importance source...\n",
      " 7. run of importance source...\n",
      " 8. run of importance source...\n",
      " 9. run of importance source...\n",
      " 10. run of importance source...\n",
      " 11. run of importance source...\n",
      " 12. run of importance source...\n",
      " 13. run of importance source...\n",
      " 14. run of importance source...\n",
      " 15. run of importance source...\n",
      " 16. run of importance source...\n",
      " 17. run of importance source...\n",
      " 18. run of importance source...\n",
      " 19. run of importance source...\n",
      " 20. run of importance source...\n",
      " 21. run of importance source...\n",
      "After 21 iterations, +1.6 mins: \n",
      " rejected 20158 attributes: A1BG, A1BG-AS1, A1CF, A2M, A2M-AS1 and 20153 more;\n",
      " still have 16 attributes left.\n",
      "\n",
      " 22. run of importance source...\n",
      " 23. run of importance source...\n",
      " 24. run of importance source...\n",
      " 25. run of importance source...\n",
      " 26. run of importance source...\n",
      "After 26 iterations, +1.6 mins: \n",
      " rejected 3 attributes: LOC254896, SPNS2, ZACN;\n",
      " still have 13 attributes left.\n",
      "\n",
      " 27. run of importance source...\n",
      " 28. run of importance source...\n",
      " 29. run of importance source...\n",
      " 30. run of importance source...\n",
      " 31. run of importance source...\n",
      " 32. run of importance source...\n",
      " 33. run of importance source...\n",
      " 34. run of importance source...\n",
      " 35. run of importance source...\n",
      " 36. run of importance source...\n",
      " 37. run of importance source...\n",
      " 38. run of importance source...\n",
      " 39. run of importance source...\n",
      " 40. run of importance source...\n",
      " 41. run of importance source...\n",
      "After 41 iterations, +1.6 mins: \n",
      " rejected 1 attribute: PPIEL;\n",
      " still have 12 attributes left.\n",
      "\n",
      " 42. run of importance source...\n",
      " 43. run of importance source...\n",
      " 44. run of importance source...\n",
      " 45. run of importance source...\n",
      " 46. run of importance source...\n",
      " 47. run of importance source...\n",
      " 48. run of importance source...\n",
      " 49. run of importance source...\n",
      " 50. run of importance source...\n",
      " 51. run of importance source...\n",
      " 52. run of importance source...\n",
      " 53. run of importance source...\n",
      " 54. run of importance source...\n",
      " 55. run of importance source...\n",
      " 56. run of importance source...\n",
      " 57. run of importance source...\n",
      " 58. run of importance source...\n",
      " 59. run of importance source...\n",
      " 60. run of importance source...\n",
      " 61. run of importance source...\n",
      " 62. run of importance source...\n",
      " 63. run of importance source...\n",
      " 64. run of importance source...\n",
      " 65. run of importance source...\n",
      " 66. run of importance source...\n",
      " 67. run of importance source...\n",
      " 68. run of importance source...\n",
      " 69. run of importance source...\n",
      " 70. run of importance source...\n",
      " 71. run of importance source...\n",
      " 72. run of importance source...\n",
      " 73. run of importance source...\n",
      " 74. run of importance source...\n",
      " 75. run of importance source...\n",
      " 76. run of importance source...\n",
      " 77. run of importance source...\n",
      " 78. run of importance source...\n",
      " 79. run of importance source...\n",
      " 80. run of importance source...\n",
      " 81. run of importance source...\n",
      " 82. run of importance source...\n",
      " 83. run of importance source...\n",
      " 84. run of importance source...\n",
      " 85. run of importance source...\n",
      " 86. run of importance source...\n",
      "After 86 iterations, +1.6 mins: \n",
      " confirmed 1 attribute: ELMOD1;\n",
      " still have 11 attributes left.\n",
      "\n",
      " 87. run of importance source...\n",
      " 88. run of importance source...\n",
      "After 88 iterations, +1.6 mins: \n",
      " confirmed 1 attribute: ABRACL;\n",
      " still have 10 attributes left.\n",
      "\n",
      " 89. run of importance source...\n",
      " 90. run of importance source...\n",
      " 91. run of importance source...\n",
      " 92. run of importance source...\n",
      " 93. run of importance source...\n",
      " 94. run of importance source...\n",
      " 95. run of importance source...\n",
      " 96. run of importance source...\n",
      " 97. run of importance source...\n",
      " 98. run of importance source...\n",
      " 99. run of importance source...\n"
     ]
    },
    {
     "name": "stdout",
     "output_type": "stream",
     "text": [
      "\n",
      "Drug14: Boruta is running for PF2341066"
     ]
    },
    {
     "name": "stderr",
     "output_type": "stream",
     "text": [
      " 1. run of importance source...\n",
      " 2. run of importance source...\n",
      " 3. run of importance source...\n",
      " 4. run of importance source...\n",
      " 5. run of importance source...\n",
      " 6. run of importance source...\n",
      " 7. run of importance source...\n",
      " 8. run of importance source...\n",
      " 9. run of importance source...\n",
      " 10. run of importance source...\n",
      " 11. run of importance source...\n",
      " 12. run of importance source...\n",
      " 13. run of importance source...\n",
      " 14. run of importance source...\n",
      " 15. run of importance source...\n",
      " 16. run of importance source...\n",
      " 17. run of importance source...\n",
      " 18. run of importance source...\n",
      " 19. run of importance source...\n",
      " 20. run of importance source...\n",
      " 21. run of importance source...\n",
      "After 21 iterations, +1.4 mins: \n",
      " rejected 20160 attributes: A1BG, A1BG-AS1, A1CF, A2M, A2M-AS1 and 20155 more;\n",
      " still have 14 attributes left.\n",
      "\n",
      " 22. run of importance source...\n",
      " 23. run of importance source...\n",
      " 24. run of importance source...\n",
      " 25. run of importance source...\n",
      " 26. run of importance source...\n",
      " 27. run of importance source...\n",
      " 28. run of importance source...\n",
      " 29. run of importance source...\n",
      " 30. run of importance source...\n",
      "After 30 iterations, +1.4 mins: \n",
      " rejected 1 attribute: HINT1;\n",
      " still have 13 attributes left.\n",
      "\n",
      " 31. run of importance source...\n",
      " 32. run of importance source...\n",
      " 33. run of importance source...\n",
      " 34. run of importance source...\n",
      " 35. run of importance source...\n",
      " 36. run of importance source...\n",
      " 37. run of importance source...\n",
      " 38. run of importance source...\n",
      " 39. run of importance source...\n",
      " 40. run of importance source...\n",
      " 41. run of importance source...\n",
      " 42. run of importance source...\n",
      " 43. run of importance source...\n",
      " 44. run of importance source...\n",
      " 45. run of importance source...\n",
      " 46. run of importance source...\n",
      " 47. run of importance source...\n",
      " 48. run of importance source...\n",
      " 49. run of importance source...\n",
      " 50. run of importance source...\n",
      " 51. run of importance source...\n",
      " 52. run of importance source...\n",
      " 53. run of importance source...\n",
      " 54. run of importance source...\n",
      " 55. run of importance source...\n",
      " 56. run of importance source...\n",
      " 57. run of importance source...\n",
      " 58. run of importance source...\n",
      " 59. run of importance source...\n",
      " 60. run of importance source...\n",
      " 61. run of importance source...\n",
      " 62. run of importance source...\n",
      " 63. run of importance source...\n",
      " 64. run of importance source...\n",
      " 65. run of importance source...\n",
      " 66. run of importance source...\n",
      " 67. run of importance source...\n",
      " 68. run of importance source...\n",
      " 69. run of importance source...\n",
      " 70. run of importance source...\n",
      " 71. run of importance source...\n",
      " 72. run of importance source...\n",
      " 73. run of importance source...\n",
      " 74. run of importance source...\n",
      " 75. run of importance source...\n",
      " 76. run of importance source...\n",
      " 77. run of importance source...\n",
      " 78. run of importance source...\n",
      " 79. run of importance source...\n",
      " 80. run of importance source...\n",
      " 81. run of importance source...\n",
      " 82. run of importance source...\n",
      " 83. run of importance source...\n",
      " 84. run of importance source...\n",
      " 85. run of importance source...\n",
      " 86. run of importance source...\n",
      "After 86 iterations, +1.4 mins: \n",
      " confirmed 6 attributes: BYSL, CTTNBP2NL, PPFIBP1, RBM42, SLC22A24 and 1 more;\n",
      " still have 7 attributes left.\n",
      "\n",
      " 87. run of importance source...\n",
      " 88. run of importance source...\n",
      "After 88 iterations, +1.4 mins: \n",
      " confirmed 2 attributes: FAM117B, LOC375196;\n",
      " still have 5 attributes left.\n",
      "\n",
      " 89. run of importance source...\n",
      " 90. run of importance source...\n",
      " 91. run of importance source...\n",
      " 92. run of importance source...\n",
      " 93. run of importance source...\n",
      " 94. run of importance source...\n",
      " 95. run of importance source...\n",
      " 96. run of importance source...\n",
      " 97. run of importance source...\n",
      " 98. run of importance source...\n",
      " 99. run of importance source...\n",
      "After 99 iterations, +1.4 mins: \n",
      " confirmed 1 attribute: SAMD11;\n",
      " still have 4 attributes left.\n",
      "\n"
     ]
    },
    {
     "name": "stdout",
     "output_type": "stream",
     "text": [
      "\n",
      "Drug15: Boruta is running for RAF265"
     ]
    },
    {
     "name": "stderr",
     "output_type": "stream",
     "text": [
      " 1. run of importance source...\n",
      " 2. run of importance source...\n",
      " 3. run of importance source...\n",
      " 4. run of importance source...\n",
      " 5. run of importance source...\n",
      " 6. run of importance source...\n",
      " 7. run of importance source...\n",
      " 8. run of importance source...\n",
      " 9. run of importance source...\n",
      " 10. run of importance source...\n",
      " 11. run of importance source...\n",
      " 12. run of importance source...\n",
      " 13. run of importance source...\n",
      " 14. run of importance source...\n",
      " 15. run of importance source...\n",
      " 16. run of importance source...\n",
      " 17. run of importance source...\n",
      " 18. run of importance source...\n",
      " 19. run of importance source...\n",
      " 20. run of importance source...\n",
      " 21. run of importance source...\n",
      "After 21 iterations, +1.3 mins: \n",
      " rejected 20165 attributes: A1BG, A1BG-AS1, A1CF, A2M, A2M-AS1 and 20160 more;\n",
      " still have 9 attributes left.\n",
      "\n",
      " 22. run of importance source...\n",
      " 23. run of importance source...\n",
      " 24. run of importance source...\n",
      " 25. run of importance source...\n",
      " 26. run of importance source...\n",
      " 27. run of importance source...\n",
      " 28. run of importance source...\n",
      " 29. run of importance source...\n",
      " 30. run of importance source...\n",
      " 31. run of importance source...\n",
      " 32. run of importance source...\n",
      " 33. run of importance source...\n",
      " 34. run of importance source...\n",
      " 35. run of importance source...\n",
      " 36. run of importance source...\n",
      " 37. run of importance source...\n",
      " 38. run of importance source...\n",
      " 39. run of importance source...\n",
      " 40. run of importance source...\n",
      " 41. run of importance source...\n",
      " 42. run of importance source...\n",
      " 43. run of importance source...\n",
      " 44. run of importance source...\n",
      " 45. run of importance source...\n",
      " 46. run of importance source...\n",
      " 47. run of importance source...\n",
      " 48. run of importance source...\n",
      " 49. run of importance source...\n",
      " 50. run of importance source...\n",
      " 51. run of importance source...\n",
      " 52. run of importance source...\n",
      " 53. run of importance source...\n",
      " 54. run of importance source...\n",
      " 55. run of importance source...\n",
      " 56. run of importance source...\n",
      " 57. run of importance source...\n",
      " 58. run of importance source...\n",
      " 59. run of importance source...\n",
      " 60. run of importance source...\n",
      " 61. run of importance source...\n",
      " 62. run of importance source...\n",
      " 63. run of importance source...\n",
      " 64. run of importance source...\n",
      " 65. run of importance source...\n",
      " 66. run of importance source...\n",
      " 67. run of importance source...\n",
      " 68. run of importance source...\n",
      " 69. run of importance source...\n",
      " 70. run of importance source...\n",
      " 71. run of importance source...\n",
      " 72. run of importance source...\n",
      " 73. run of importance source...\n",
      " 74. run of importance source...\n",
      " 75. run of importance source...\n",
      " 76. run of importance source...\n",
      " 77. run of importance source...\n",
      "After 77 iterations, +1.3 mins: \n",
      " confirmed 1 attribute: LINC01667;\n",
      " still have 8 attributes left.\n",
      "\n",
      " 78. run of importance source...\n",
      " 79. run of importance source...\n",
      " 80. run of importance source...\n",
      "After 80 iterations, +1.3 mins: \n",
      " confirmed 1 attribute: IFNA1;\n",
      " still have 7 attributes left.\n",
      "\n",
      " 81. run of importance source...\n",
      " 82. run of importance source...\n",
      " 83. run of importance source...\n",
      " 84. run of importance source...\n",
      " 85. run of importance source...\n",
      " 86. run of importance source...\n",
      "After 86 iterations, +1.3 mins: \n",
      " confirmed 4 attributes: CTSC, LOC105371019, NKAPL, TFDP3;\n",
      " still have 3 attributes left.\n",
      "\n",
      " 87. run of importance source...\n",
      " 88. run of importance source...\n",
      " 89. run of importance source...\n",
      " 90. run of importance source...\n",
      " 91. run of importance source...\n",
      " 92. run of importance source...\n",
      " 93. run of importance source...\n",
      " 94. run of importance source...\n",
      " 95. run of importance source...\n",
      " 96. run of importance source...\n",
      " 97. run of importance source...\n",
      " 98. run of importance source...\n",
      " 99. run of importance source...\n"
     ]
    },
    {
     "name": "stdout",
     "output_type": "stream",
     "text": [
      "\n",
      "Drug16: Boruta is running for AZD6244"
     ]
    },
    {
     "name": "stderr",
     "output_type": "stream",
     "text": [
      " 1. run of importance source...\n",
      " 2. run of importance source...\n",
      " 3. run of importance source...\n",
      " 4. run of importance source...\n",
      " 5. run of importance source...\n",
      " 6. run of importance source...\n",
      " 7. run of importance source...\n",
      " 8. run of importance source...\n",
      " 9. run of importance source...\n",
      " 10. run of importance source...\n",
      " 11. run of importance source...\n",
      " 12. run of importance source...\n",
      " 13. run of importance source...\n",
      " 14. run of importance source...\n",
      " 15. run of importance source...\n",
      " 16. run of importance source...\n",
      " 17. run of importance source...\n",
      " 18. run of importance source...\n",
      " 19. run of importance source...\n",
      " 20. run of importance source...\n",
      " 21. run of importance source...\n",
      "After 21 iterations, +1.3 mins: \n",
      " rejected 20174 attributes: A1BG, A1BG-AS1, A1CF, A2M, A2M-AS1 and 20169 more;\n",
      " no more attributes left.\n",
      "\n",
      "Warning message in TentativeRoughFix(boruta):\n",
      "\"There are no Tentative attributes! Returning original object.\""
     ]
    },
    {
     "name": "stdout",
     "output_type": "stream",
     "text": [
      "\n",
      "Drug17: Boruta is running for L-685458"
     ]
    },
    {
     "name": "stderr",
     "output_type": "stream",
     "text": [
      " 1. run of importance source...\n",
      " 2. run of importance source...\n",
      " 3. run of importance source...\n",
      " 4. run of importance source...\n",
      " 5. run of importance source...\n",
      " 6. run of importance source...\n",
      " 7. run of importance source...\n",
      " 8. run of importance source...\n",
      " 9. run of importance source...\n",
      " 10. run of importance source...\n",
      " 11. run of importance source...\n",
      " 12. run of importance source...\n",
      " 13. run of importance source...\n",
      " 14. run of importance source...\n",
      " 15. run of importance source...\n",
      " 16. run of importance source...\n",
      " 17. run of importance source...\n",
      " 18. run of importance source...\n",
      " 19. run of importance source...\n",
      " 20. run of importance source...\n",
      " 21. run of importance source...\n",
      "After 21 iterations, +1.3 mins: \n",
      " rejected 20169 attributes: A1BG, A1BG-AS1, A1CF, A2M, A2M-AS1 and 20164 more;\n",
      " still have 5 attributes left.\n",
      "\n",
      " 22. run of importance source...\n",
      " 23. run of importance source...\n",
      " 24. run of importance source...\n",
      " 25. run of importance source...\n",
      " 26. run of importance source...\n",
      " 27. run of importance source...\n",
      " 28. run of importance source...\n",
      " 29. run of importance source...\n",
      " 30. run of importance source...\n",
      " 31. run of importance source...\n",
      " 32. run of importance source...\n",
      " 33. run of importance source...\n",
      " 34. run of importance source...\n",
      " 35. run of importance source...\n",
      " 36. run of importance source...\n",
      " 37. run of importance source...\n",
      " 38. run of importance source...\n",
      " 39. run of importance source...\n",
      " 40. run of importance source...\n",
      " 41. run of importance source...\n",
      " 42. run of importance source...\n",
      " 43. run of importance source...\n",
      " 44. run of importance source...\n",
      " 45. run of importance source...\n",
      " 46. run of importance source...\n",
      " 47. run of importance source...\n",
      " 48. run of importance source...\n",
      " 49. run of importance source...\n",
      " 50. run of importance source...\n",
      " 51. run of importance source...\n",
      " 52. run of importance source...\n",
      " 53. run of importance source...\n",
      " 54. run of importance source...\n",
      " 55. run of importance source...\n",
      " 56. run of importance source...\n",
      " 57. run of importance source...\n",
      " 58. run of importance source...\n",
      " 59. run of importance source...\n",
      " 60. run of importance source...\n",
      " 61. run of importance source...\n",
      " 62. run of importance source...\n",
      " 63. run of importance source...\n",
      " 64. run of importance source...\n",
      " 65. run of importance source...\n",
      " 66. run of importance source...\n",
      " 67. run of importance source...\n",
      " 68. run of importance source...\n",
      " 69. run of importance source...\n",
      " 70. run of importance source...\n",
      " 71. run of importance source...\n",
      " 72. run of importance source...\n",
      " 73. run of importance source...\n",
      " 74. run of importance source...\n",
      " 75. run of importance source...\n",
      " 76. run of importance source...\n",
      " 77. run of importance source...\n",
      " 78. run of importance source...\n",
      " 79. run of importance source...\n",
      " 80. run of importance source...\n",
      " 81. run of importance source...\n",
      " 82. run of importance source...\n",
      " 83. run of importance source...\n",
      " 84. run of importance source...\n",
      " 85. run of importance source...\n",
      " 86. run of importance source...\n",
      " 87. run of importance source...\n",
      " 88. run of importance source...\n",
      "After 88 iterations, +1.3 mins: \n",
      " confirmed 1 attribute: ESYT3;\n",
      " still have 4 attributes left.\n",
      "\n",
      " 89. run of importance source...\n",
      " 90. run of importance source...\n",
      " 91. run of importance source...\n",
      " 92. run of importance source...\n",
      " 93. run of importance source...\n",
      " 94. run of importance source...\n",
      " 95. run of importance source...\n",
      " 96. run of importance source...\n",
      " 97. run of importance source...\n",
      " 98. run of importance source...\n",
      " 99. run of importance source...\n"
     ]
    },
    {
     "name": "stdout",
     "output_type": "stream",
     "text": [
      "\n",
      "Drug18: Boruta is running for AZD0530"
     ]
    },
    {
     "name": "stderr",
     "output_type": "stream",
     "text": [
      " 1. run of importance source...\n",
      " 2. run of importance source...\n",
      " 3. run of importance source...\n",
      " 4. run of importance source...\n",
      " 5. run of importance source...\n",
      " 6. run of importance source...\n",
      " 7. run of importance source...\n",
      " 8. run of importance source...\n",
      " 9. run of importance source...\n",
      " 10. run of importance source...\n",
      " 11. run of importance source...\n",
      " 12. run of importance source...\n",
      " 13. run of importance source...\n",
      " 14. run of importance source...\n",
      " 15. run of importance source...\n",
      " 16. run of importance source...\n",
      " 17. run of importance source...\n",
      " 18. run of importance source...\n",
      " 19. run of importance source...\n",
      " 20. run of importance source...\n",
      " 21. run of importance source...\n",
      "After 21 iterations, +1.3 mins: \n",
      " rejected 20166 attributes: A1BG, A1BG-AS1, A1CF, A2M, A2M-AS1 and 20161 more;\n",
      " still have 8 attributes left.\n",
      "\n",
      " 22. run of importance source...\n",
      " 23. run of importance source...\n",
      " 24. run of importance source...\n",
      " 25. run of importance source...\n",
      " 26. run of importance source...\n",
      " 27. run of importance source...\n",
      " 28. run of importance source...\n",
      " 29. run of importance source...\n",
      " 30. run of importance source...\n",
      " 31. run of importance source...\n",
      " 32. run of importance source...\n",
      " 33. run of importance source...\n",
      " 34. run of importance source...\n",
      " 35. run of importance source...\n",
      " 36. run of importance source...\n",
      " 37. run of importance source...\n",
      " 38. run of importance source...\n",
      " 39. run of importance source...\n",
      " 40. run of importance source...\n",
      " 41. run of importance source...\n",
      " 42. run of importance source...\n",
      " 43. run of importance source...\n",
      " 44. run of importance source...\n",
      " 45. run of importance source...\n",
      " 46. run of importance source...\n",
      " 47. run of importance source...\n",
      " 48. run of importance source...\n",
      " 49. run of importance source...\n",
      " 50. run of importance source...\n",
      " 51. run of importance source...\n",
      " 52. run of importance source...\n",
      " 53. run of importance source...\n",
      " 54. run of importance source...\n",
      " 55. run of importance source...\n",
      " 56. run of importance source...\n",
      " 57. run of importance source...\n",
      " 58. run of importance source...\n",
      " 59. run of importance source...\n",
      " 60. run of importance source...\n",
      " 61. run of importance source...\n",
      " 62. run of importance source...\n",
      " 63. run of importance source...\n",
      " 64. run of importance source...\n",
      " 65. run of importance source...\n",
      " 66. run of importance source...\n",
      " 67. run of importance source...\n",
      " 68. run of importance source...\n",
      " 69. run of importance source...\n",
      " 70. run of importance source...\n",
      " 71. run of importance source...\n",
      " 72. run of importance source...\n",
      " 73. run of importance source...\n",
      " 74. run of importance source...\n",
      " 75. run of importance source...\n",
      " 76. run of importance source...\n",
      " 77. run of importance source...\n",
      " 78. run of importance source...\n",
      " 79. run of importance source...\n",
      " 80. run of importance source...\n",
      " 81. run of importance source...\n",
      " 82. run of importance source...\n",
      " 83. run of importance source...\n",
      " 84. run of importance source...\n",
      " 85. run of importance source...\n",
      " 86. run of importance source...\n",
      "After 86 iterations, +1.3 mins: \n",
      " confirmed 1 attribute: LOC101927770;\n",
      " still have 7 attributes left.\n",
      "\n",
      " 87. run of importance source...\n",
      " 88. run of importance source...\n",
      "After 88 iterations, +1.3 mins: \n",
      " confirmed 6 attributes: AHCTF1, CD14, GMFG, HOXA3, HUWE1 and 1 more;\n",
      " still have 1 attribute left.\n",
      "\n",
      " 89. run of importance source...\n",
      " 90. run of importance source...\n",
      " 91. run of importance source...\n",
      " 92. run of importance source...\n",
      " 93. run of importance source...\n",
      " 94. run of importance source...\n",
      " 95. run of importance source...\n",
      " 96. run of importance source...\n",
      " 97. run of importance source...\n",
      " 98. run of importance source...\n",
      " 99. run of importance source...\n"
     ]
    },
    {
     "name": "stdout",
     "output_type": "stream",
     "text": [
      "\n",
      "Drug19: Boruta is running for Nutlin-3"
     ]
    },
    {
     "name": "stderr",
     "output_type": "stream",
     "text": [
      " 1. run of importance source...\n",
      " 2. run of importance source...\n",
      " 3. run of importance source...\n",
      " 4. run of importance source...\n",
      " 5. run of importance source...\n",
      " 6. run of importance source...\n",
      " 7. run of importance source...\n",
      " 8. run of importance source...\n",
      " 9. run of importance source...\n",
      " 10. run of importance source...\n",
      " 11. run of importance source...\n",
      " 12. run of importance source...\n",
      " 13. run of importance source...\n",
      " 14. run of importance source...\n",
      " 15. run of importance source...\n",
      " 16. run of importance source...\n",
      " 17. run of importance source...\n",
      " 18. run of importance source...\n",
      " 19. run of importance source...\n",
      " 20. run of importance source...\n",
      " 21. run of importance source...\n",
      "After 21 iterations, +1.2 mins: \n",
      " rejected 20174 attributes: A1BG, A1BG-AS1, A1CF, A2M, A2M-AS1 and 20169 more;\n",
      " no more attributes left.\n",
      "\n",
      "Warning message in TentativeRoughFix(boruta):\n",
      "\"There are no Tentative attributes! Returning original object.\""
     ]
    },
    {
     "name": "stdout",
     "output_type": "stream",
     "text": [
      "\n",
      "Drug20: Boruta is running for Sorafenib"
     ]
    },
    {
     "name": "stderr",
     "output_type": "stream",
     "text": [
      " 1. run of importance source...\n",
      " 2. run of importance source...\n",
      " 3. run of importance source...\n",
      " 4. run of importance source...\n",
      " 5. run of importance source...\n",
      " 6. run of importance source...\n",
      " 7. run of importance source...\n",
      " 8. run of importance source...\n",
      " 9. run of importance source...\n",
      " 10. run of importance source...\n",
      " 11. run of importance source...\n",
      " 12. run of importance source...\n",
      " 13. run of importance source...\n",
      " 14. run of importance source...\n",
      " 15. run of importance source...\n",
      " 16. run of importance source...\n",
      " 17. run of importance source...\n",
      " 18. run of importance source...\n",
      " 19. run of importance source...\n",
      " 20. run of importance source...\n",
      " 21. run of importance source...\n",
      "After 21 iterations, +1.6 mins: \n",
      " rejected 20171 attributes: A1BG, A1BG-AS1, A1CF, A2M, A2M-AS1 and 20166 more;\n",
      " still have 3 attributes left.\n",
      "\n",
      " 22. run of importance source...\n",
      " 23. run of importance source...\n",
      " 24. run of importance source...\n",
      " 25. run of importance source...\n",
      " 26. run of importance source...\n",
      " 27. run of importance source...\n",
      " 28. run of importance source...\n",
      " 29. run of importance source...\n",
      " 30. run of importance source...\n",
      " 31. run of importance source...\n",
      " 32. run of importance source...\n",
      " 33. run of importance source...\n",
      " 34. run of importance source...\n",
      " 35. run of importance source...\n",
      " 36. run of importance source...\n",
      " 37. run of importance source...\n",
      " 38. run of importance source...\n",
      " 39. run of importance source...\n",
      " 40. run of importance source...\n",
      " 41. run of importance source...\n",
      " 42. run of importance source...\n",
      " 43. run of importance source...\n",
      " 44. run of importance source...\n",
      " 45. run of importance source...\n",
      " 46. run of importance source...\n",
      " 47. run of importance source...\n",
      " 48. run of importance source...\n",
      " 49. run of importance source...\n",
      " 50. run of importance source...\n",
      " 51. run of importance source...\n",
      " 52. run of importance source...\n",
      " 53. run of importance source...\n",
      " 54. run of importance source...\n",
      " 55. run of importance source...\n",
      " 56. run of importance source...\n",
      " 57. run of importance source...\n",
      " 58. run of importance source...\n",
      " 59. run of importance source...\n",
      " 60. run of importance source...\n",
      " 61. run of importance source...\n",
      " 62. run of importance source...\n",
      " 63. run of importance source...\n",
      " 64. run of importance source...\n",
      " 65. run of importance source...\n",
      " 66. run of importance source...\n",
      " 67. run of importance source...\n",
      " 68. run of importance source...\n",
      " 69. run of importance source...\n",
      " 70. run of importance source...\n",
      " 71. run of importance source...\n",
      " 72. run of importance source...\n",
      " 73. run of importance source...\n",
      " 74. run of importance source...\n",
      " 75. run of importance source...\n",
      " 76. run of importance source...\n",
      " 77. run of importance source...\n",
      " 78. run of importance source...\n",
      " 79. run of importance source...\n",
      " 80. run of importance source...\n",
      " 81. run of importance source...\n",
      " 82. run of importance source...\n",
      " 83. run of importance source...\n",
      " 84. run of importance source...\n",
      " 85. run of importance source...\n",
      " 86. run of importance source...\n",
      "After 86 iterations, +1.6 mins: \n",
      " confirmed 1 attribute: MYC;\n",
      " still have 2 attributes left.\n",
      "\n",
      " 87. run of importance source...\n",
      " 88. run of importance source...\n",
      "After 88 iterations, +1.6 mins: \n",
      " confirmed 1 attribute: INTS3;\n",
      " still have 1 attribute left.\n",
      "\n",
      " 89. run of importance source...\n",
      " 90. run of importance source...\n",
      " 91. run of importance source...\n",
      "After 91 iterations, +1.6 mins: \n",
      " confirmed 1 attribute: GULP1;\n",
      " no more attributes left.\n",
      "\n",
      "Warning message in TentativeRoughFix(boruta):\n",
      "\"There are no Tentative attributes! Returning original object.\""
     ]
    },
    {
     "name": "stdout",
     "output_type": "stream",
     "text": [
      "\n",
      "Drug21: Boruta is running for PD-0325901"
     ]
    },
    {
     "name": "stderr",
     "output_type": "stream",
     "text": [
      " 1. run of importance source...\n",
      " 2. run of importance source...\n",
      " 3. run of importance source...\n",
      " 4. run of importance source...\n",
      " 5. run of importance source...\n",
      " 6. run of importance source...\n",
      " 7. run of importance source...\n",
      " 8. run of importance source...\n",
      " 9. run of importance source...\n",
      " 10. run of importance source...\n",
      " 11. run of importance source...\n",
      " 12. run of importance source...\n",
      " 13. run of importance source...\n",
      " 14. run of importance source...\n",
      " 15. run of importance source...\n",
      " 16. run of importance source...\n",
      " 17. run of importance source...\n",
      " 18. run of importance source...\n",
      " 19. run of importance source...\n",
      " 20. run of importance source...\n",
      " 21. run of importance source...\n",
      "After 21 iterations, +1.4 mins: \n",
      " rejected 20160 attributes: A1BG, A1BG-AS1, A1CF, A2M, A2M-AS1 and 20155 more;\n",
      " still have 14 attributes left.\n",
      "\n",
      " 22. run of importance source...\n",
      " 23. run of importance source...\n",
      " 24. run of importance source...\n",
      " 25. run of importance source...\n",
      " 26. run of importance source...\n",
      "After 26 iterations, +1.4 mins: \n",
      " rejected 1 attribute: JADE3;\n",
      " still have 13 attributes left.\n",
      "\n",
      " 27. run of importance source...\n",
      " 28. run of importance source...\n",
      " 29. run of importance source...\n",
      " 30. run of importance source...\n",
      "After 30 iterations, +1.4 mins: \n",
      " rejected 1 attribute: ARID4B;\n",
      " still have 12 attributes left.\n",
      "\n",
      " 31. run of importance source...\n",
      " 32. run of importance source...\n",
      " 33. run of importance source...\n",
      " 34. run of importance source...\n",
      " 35. run of importance source...\n",
      " 36. run of importance source...\n",
      " 37. run of importance source...\n",
      " 38. run of importance source...\n",
      " 39. run of importance source...\n",
      " 40. run of importance source...\n",
      " 41. run of importance source...\n",
      " 42. run of importance source...\n",
      " 43. run of importance source...\n",
      " 44. run of importance source...\n",
      " 45. run of importance source...\n",
      " 46. run of importance source...\n",
      " 47. run of importance source...\n",
      " 48. run of importance source...\n",
      " 49. run of importance source...\n",
      " 50. run of importance source...\n",
      " 51. run of importance source...\n",
      " 52. run of importance source...\n",
      " 53. run of importance source...\n",
      " 54. run of importance source...\n",
      " 55. run of importance source...\n",
      " 56. run of importance source...\n",
      " 57. run of importance source...\n",
      " 58. run of importance source...\n",
      " 59. run of importance source...\n",
      " 60. run of importance source...\n",
      " 61. run of importance source...\n",
      " 62. run of importance source...\n",
      " 63. run of importance source...\n",
      " 64. run of importance source...\n",
      " 65. run of importance source...\n",
      " 66. run of importance source...\n",
      " 67. run of importance source...\n",
      " 68. run of importance source...\n",
      " 69. run of importance source...\n",
      " 70. run of importance source...\n",
      " 71. run of importance source...\n",
      " 72. run of importance source...\n",
      " 73. run of importance source...\n",
      " 74. run of importance source...\n",
      " 75. run of importance source...\n",
      " 76. run of importance source...\n",
      " 77. run of importance source...\n",
      " 78. run of importance source...\n",
      " 79. run of importance source...\n",
      " 80. run of importance source...\n",
      " 81. run of importance source...\n",
      " 82. run of importance source...\n",
      " 83. run of importance source...\n",
      "After 83 iterations, +1.5 mins: \n",
      " confirmed 2 attributes: HORMAD1, UBAC2;\n",
      " still have 10 attributes left.\n",
      "\n",
      " 84. run of importance source...\n",
      " 85. run of importance source...\n",
      " 86. run of importance source...\n",
      "After 86 iterations, +1.5 mins: \n",
      " confirmed 2 attributes: LINC02375, UBR7;\n",
      " still have 8 attributes left.\n",
      "\n",
      " 87. run of importance source...\n",
      " 88. run of importance source...\n",
      " 89. run of importance source...\n",
      " 90. run of importance source...\n",
      " 91. run of importance source...\n",
      " 92. run of importance source...\n",
      " 93. run of importance source...\n",
      " 94. run of importance source...\n",
      "After 94 iterations, +1.5 mins: \n",
      " confirmed 1 attribute: SAP30;\n",
      " still have 7 attributes left.\n",
      "\n",
      " 95. run of importance source...\n",
      " 96. run of importance source...\n",
      " 97. run of importance source...\n",
      " 98. run of importance source...\n",
      " 99. run of importance source...\n"
     ]
    },
    {
     "name": "stdout",
     "output_type": "stream",
     "text": [
      "\n",
      "Drug22: Boruta is running for Irinotecan"
     ]
    },
    {
     "name": "stderr",
     "output_type": "stream",
     "text": [
      " 1. run of importance source...\n",
      " 2. run of importance source...\n",
      " 3. run of importance source...\n",
      " 4. run of importance source...\n",
      " 5. run of importance source...\n",
      " 6. run of importance source...\n",
      " 7. run of importance source...\n",
      " 8. run of importance source...\n",
      " 9. run of importance source...\n",
      " 10. run of importance source...\n",
      " 11. run of importance source...\n",
      " 12. run of importance source...\n",
      " 13. run of importance source...\n",
      " 14. run of importance source...\n",
      " 15. run of importance source...\n",
      " 16. run of importance source...\n",
      " 17. run of importance source...\n",
      " 18. run of importance source...\n",
      " 19. run of importance source...\n",
      " 20. run of importance source...\n",
      " 21. run of importance source...\n",
      "After 21 iterations, +1.2 mins: \n",
      " rejected 20157 attributes: A1BG, A1BG-AS1, A1CF, A2M, A2M-AS1 and 20152 more;\n",
      " still have 17 attributes left.\n",
      "\n",
      " 22. run of importance source...\n",
      " 23. run of importance source...\n",
      " 24. run of importance source...\n",
      " 25. run of importance source...\n",
      " 26. run of importance source...\n",
      "After 26 iterations, +1.2 mins: \n",
      " rejected 8 attributes: AOC3, DPH3, EIF3M, FAM193B, GZMK and 3 more;\n",
      " still have 9 attributes left.\n",
      "\n",
      " 27. run of importance source...\n",
      " 28. run of importance source...\n",
      " 29. run of importance source...\n",
      " 30. run of importance source...\n",
      " 31. run of importance source...\n",
      " 32. run of importance source...\n",
      " 33. run of importance source...\n",
      " 34. run of importance source...\n",
      " 35. run of importance source...\n",
      " 36. run of importance source...\n",
      " 37. run of importance source...\n",
      " 38. run of importance source...\n",
      " 39. run of importance source...\n",
      " 40. run of importance source...\n",
      " 41. run of importance source...\n",
      " 42. run of importance source...\n",
      " 43. run of importance source...\n",
      " 44. run of importance source...\n",
      " 45. run of importance source...\n",
      " 46. run of importance source...\n",
      " 47. run of importance source...\n",
      " 48. run of importance source...\n",
      " 49. run of importance source...\n",
      " 50. run of importance source...\n",
      " 51. run of importance source...\n",
      " 52. run of importance source...\n",
      " 53. run of importance source...\n",
      " 54. run of importance source...\n",
      " 55. run of importance source...\n",
      " 56. run of importance source...\n",
      " 57. run of importance source...\n",
      " 58. run of importance source...\n",
      " 59. run of importance source...\n",
      " 60. run of importance source...\n",
      " 61. run of importance source...\n",
      " 62. run of importance source...\n",
      " 63. run of importance source...\n",
      " 64. run of importance source...\n",
      " 65. run of importance source...\n",
      " 66. run of importance source...\n",
      " 67. run of importance source...\n",
      " 68. run of importance source...\n",
      " 69. run of importance source...\n",
      " 70. run of importance source...\n",
      " 71. run of importance source...\n",
      " 72. run of importance source...\n",
      " 73. run of importance source...\n",
      " 74. run of importance source...\n",
      " 75. run of importance source...\n",
      " 76. run of importance source...\n",
      " 77. run of importance source...\n",
      " 78. run of importance source...\n",
      " 79. run of importance source...\n",
      " 80. run of importance source...\n",
      " 81. run of importance source...\n",
      " 82. run of importance source...\n",
      " 83. run of importance source...\n",
      " 84. run of importance source...\n",
      " 85. run of importance source...\n",
      " 86. run of importance source...\n",
      " 87. run of importance source...\n",
      " 88. run of importance source...\n",
      " 89. run of importance source...\n",
      " 90. run of importance source...\n",
      " 91. run of importance source...\n",
      " 92. run of importance source...\n",
      " 93. run of importance source...\n",
      " 94. run of importance source...\n",
      "After 94 iterations, +1.3 mins: \n",
      " confirmed 1 attribute: AFF4;\n",
      " still have 8 attributes left.\n",
      "\n",
      " 95. run of importance source...\n",
      " 96. run of importance source...\n",
      "After 96 iterations, +1.3 mins: \n",
      " confirmed 1 attribute: NUDCD3;\n",
      " still have 7 attributes left.\n",
      "\n",
      " 97. run of importance source...\n",
      " 98. run of importance source...\n",
      " 99. run of importance source...\n"
     ]
    },
    {
     "name": "stdout",
     "output_type": "stream",
     "text": [
      "\n",
      "Drug23: Boruta is running for Nilotinib"
     ]
    },
    {
     "name": "stderr",
     "output_type": "stream",
     "text": [
      " 1. run of importance source...\n",
      " 2. run of importance source...\n",
      " 3. run of importance source...\n",
      " 4. run of importance source...\n",
      " 5. run of importance source...\n",
      " 6. run of importance source...\n",
      " 7. run of importance source...\n",
      " 8. run of importance source...\n",
      " 9. run of importance source...\n",
      " 10. run of importance source...\n",
      " 11. run of importance source...\n",
      " 12. run of importance source...\n",
      " 13. run of importance source...\n",
      " 14. run of importance source...\n",
      " 15. run of importance source...\n",
      " 16. run of importance source...\n",
      " 17. run of importance source...\n",
      " 18. run of importance source...\n",
      " 19. run of importance source...\n",
      " 20. run of importance source...\n",
      " 21. run of importance source...\n",
      "After 21 iterations, +1.2 mins: \n",
      " rejected 20167 attributes: A1BG, A1BG-AS1, A1CF, A2M, A2M-AS1 and 20162 more;\n",
      " still have 7 attributes left.\n",
      "\n",
      " 22. run of importance source...\n",
      " 23. run of importance source...\n",
      " 24. run of importance source...\n",
      " 25. run of importance source...\n",
      " 26. run of importance source...\n",
      "After 26 iterations, +1.2 mins: \n",
      " rejected 2 attributes: B4GALT6, NAPA-AS1;\n",
      " still have 5 attributes left.\n",
      "\n",
      " 27. run of importance source...\n",
      " 28. run of importance source...\n",
      " 29. run of importance source...\n",
      " 30. run of importance source...\n",
      " 31. run of importance source...\n",
      " 32. run of importance source...\n",
      " 33. run of importance source...\n",
      " 34. run of importance source...\n",
      "After 34 iterations, +1.2 mins: \n",
      " rejected 2 attributes: LRRC2, RASAL2;\n",
      " still have 3 attributes left.\n",
      "\n",
      " 35. run of importance source...\n",
      " 36. run of importance source...\n",
      " 37. run of importance source...\n",
      " 38. run of importance source...\n",
      " 39. run of importance source...\n",
      " 40. run of importance source...\n",
      " 41. run of importance source...\n",
      " 42. run of importance source...\n",
      " 43. run of importance source...\n",
      " 44. run of importance source...\n",
      " 45. run of importance source...\n",
      " 46. run of importance source...\n",
      " 47. run of importance source...\n",
      " 48. run of importance source...\n",
      " 49. run of importance source...\n",
      " 50. run of importance source...\n",
      " 51. run of importance source...\n",
      " 52. run of importance source...\n",
      " 53. run of importance source...\n",
      " 54. run of importance source...\n",
      " 55. run of importance source...\n",
      " 56. run of importance source...\n",
      " 57. run of importance source...\n",
      " 58. run of importance source...\n",
      " 59. run of importance source...\n",
      " 60. run of importance source...\n",
      " 61. run of importance source...\n",
      " 62. run of importance source...\n",
      " 63. run of importance source...\n",
      " 64. run of importance source...\n",
      " 65. run of importance source...\n",
      " 66. run of importance source...\n",
      " 67. run of importance source...\n",
      " 68. run of importance source...\n",
      " 69. run of importance source...\n",
      " 70. run of importance source...\n",
      " 71. run of importance source...\n",
      " 72. run of importance source...\n",
      " 73. run of importance source...\n",
      " 74. run of importance source...\n",
      " 75. run of importance source...\n",
      " 76. run of importance source...\n",
      " 77. run of importance source...\n",
      " 78. run of importance source...\n",
      " 79. run of importance source...\n",
      " 80. run of importance source...\n",
      " 81. run of importance source...\n",
      " 82. run of importance source...\n",
      " 83. run of importance source...\n",
      " 84. run of importance source...\n",
      " 85. run of importance source...\n",
      " 86. run of importance source...\n",
      " 87. run of importance source...\n",
      " 88. run of importance source...\n",
      " 89. run of importance source...\n",
      " 90. run of importance source...\n",
      " 91. run of importance source...\n",
      " 92. run of importance source...\n",
      " 93. run of importance source...\n",
      " 94. run of importance source...\n",
      " 95. run of importance source...\n",
      " 96. run of importance source...\n",
      " 97. run of importance source...\n",
      " 98. run of importance source...\n",
      " 99. run of importance source...\n",
      "After 99 iterations, +1.2 mins: \n",
      " confirmed 1 attribute: QRFPR;\n",
      " still have 2 attributes left.\n",
      "\n"
     ]
    },
    {
     "name": "stdout",
     "output_type": "stream",
     "text": [
      "\n",
      "Drug24: Boruta is running for PD-0332991"
     ]
    },
    {
     "name": "stderr",
     "output_type": "stream",
     "text": [
      " 1. run of importance source...\n",
      " 2. run of importance source...\n",
      " 3. run of importance source...\n",
      " 4. run of importance source...\n",
      " 5. run of importance source...\n",
      " 6. run of importance source...\n",
      " 7. run of importance source...\n",
      " 8. run of importance source...\n",
      " 9. run of importance source...\n",
      " 10. run of importance source...\n",
      " 11. run of importance source...\n",
      " 12. run of importance source...\n",
      " 13. run of importance source...\n",
      " 14. run of importance source...\n",
      " 15. run of importance source...\n",
      " 16. run of importance source...\n",
      " 17. run of importance source...\n",
      " 18. run of importance source...\n",
      " 19. run of importance source...\n",
      " 20. run of importance source...\n",
      " 21. run of importance source...\n",
      "After 21 iterations, +1.1 mins: \n",
      " rejected 20174 attributes: A1BG, A1BG-AS1, A1CF, A2M, A2M-AS1 and 20169 more;\n",
      " no more attributes left.\n",
      "\n",
      "Warning message in TentativeRoughFix(boruta):\n",
      "\"There are no Tentative attributes! Returning original object.\""
     ]
    },
    {
     "name": "stdout",
     "output_type": "stream",
     "text": [
      "\n",
      "Boruta is running for lymphoid_neoplasm\n",
      "Drug1: Boruta is running for PD-0332991"
     ]
    },
    {
     "name": "stderr",
     "output_type": "stream",
     "text": [
      " 1. run of importance source...\n",
      " 2. run of importance source...\n",
      " 3. run of importance source...\n",
      " 4. run of importance source...\n",
      " 5. run of importance source...\n",
      " 6. run of importance source...\n",
      " 7. run of importance source...\n",
      " 8. run of importance source...\n",
      " 9. run of importance source...\n",
      " 10. run of importance source...\n",
      " 11. run of importance source...\n",
      " 12. run of importance source...\n",
      " 13. run of importance source...\n",
      " 14. run of importance source...\n",
      " 15. run of importance source...\n",
      " 16. run of importance source...\n",
      " 17. run of importance source...\n",
      " 18. run of importance source...\n",
      " 19. run of importance source...\n",
      " 20. run of importance source...\n",
      " 21. run of importance source...\n",
      "After 21 iterations, +3.1 mins: \n",
      " rejected 20147 attributes: A1BG, A1BG-AS1, A1CF, A2M, A2M-AS1 and 20142 more;\n",
      " still have 27 attributes left.\n",
      "\n",
      " 22. run of importance source...\n",
      " 23. run of importance source...\n",
      " 24. run of importance source...\n",
      " 25. run of importance source...\n",
      " 26. run of importance source...\n",
      "After 26 iterations, +3.1 mins: \n",
      " rejected 3 attributes: BORCS6, GMNN, RSPRY1;\n",
      " still have 24 attributes left.\n",
      "\n",
      " 27. run of importance source...\n",
      " 28. run of importance source...\n",
      " 29. run of importance source...\n",
      " 30. run of importance source...\n",
      "After 30 iterations, +3.1 mins: \n",
      " rejected 2 attributes: FSTL4, WDR73;\n",
      " still have 22 attributes left.\n",
      "\n",
      " 31. run of importance source...\n",
      " 32. run of importance source...\n",
      " 33. run of importance source...\n",
      " 34. run of importance source...\n",
      "After 34 iterations, +3.1 mins: \n",
      " rejected 2 attributes: GTF2H4, NALF1-IT1;\n",
      " still have 20 attributes left.\n",
      "\n",
      " 35. run of importance source...\n",
      " 36. run of importance source...\n",
      " 37. run of importance source...\n",
      " 38. run of importance source...\n",
      " 39. run of importance source...\n",
      " 40. run of importance source...\n",
      " 41. run of importance source...\n",
      " 42. run of importance source...\n",
      " 43. run of importance source...\n",
      " 44. run of importance source...\n",
      " 45. run of importance source...\n",
      " 46. run of importance source...\n",
      " 47. run of importance source...\n",
      " 48. run of importance source...\n",
      " 49. run of importance source...\n",
      " 50. run of importance source...\n",
      " 51. run of importance source...\n",
      " 52. run of importance source...\n",
      " 53. run of importance source...\n",
      " 54. run of importance source...\n",
      " 55. run of importance source...\n",
      " 56. run of importance source...\n",
      " 57. run of importance source...\n",
      " 58. run of importance source...\n",
      " 59. run of importance source...\n",
      " 60. run of importance source...\n",
      " 61. run of importance source...\n",
      " 62. run of importance source...\n",
      " 63. run of importance source...\n",
      " 64. run of importance source...\n",
      " 65. run of importance source...\n",
      " 66. run of importance source...\n",
      " 67. run of importance source...\n",
      " 68. run of importance source...\n",
      " 69. run of importance source...\n",
      " 70. run of importance source...\n",
      " 71. run of importance source...\n",
      " 72. run of importance source...\n",
      " 73. run of importance source...\n",
      " 74. run of importance source...\n",
      " 75. run of importance source...\n",
      " 76. run of importance source...\n",
      " 77. run of importance source...\n",
      "After 77 iterations, +3.2 mins: \n",
      " confirmed 3 attributes: MORC2-AS1, WNT11, ZBTB37;\n",
      " still have 17 attributes left.\n",
      "\n",
      " 78. run of importance source...\n",
      " 79. run of importance source...\n",
      " 80. run of importance source...\n",
      " 81. run of importance source...\n",
      " 82. run of importance source...\n",
      " 83. run of importance source...\n",
      " 84. run of importance source...\n",
      " 85. run of importance source...\n",
      " 86. run of importance source...\n",
      "After 86 iterations, +3.2 mins: \n",
      " confirmed 4 attributes: FAM9C, GTF2H1, OAZ3, SURF2;\n",
      " still have 13 attributes left.\n",
      "\n",
      " 87. run of importance source...\n",
      " 88. run of importance source...\n",
      " 89. run of importance source...\n",
      " 90. run of importance source...\n",
      " 91. run of importance source...\n",
      "After 91 iterations, +3.2 mins: \n",
      " confirmed 1 attribute: FAM182B;\n",
      " still have 12 attributes left.\n",
      "\n",
      " 92. run of importance source...\n",
      " 93. run of importance source...\n",
      " 94. run of importance source...\n",
      "After 94 iterations, +3.2 mins: \n",
      " confirmed 2 attributes: CLDN14, PCDHB7;\n",
      " still have 10 attributes left.\n",
      "\n",
      " 95. run of importance source...\n",
      " 96. run of importance source...\n",
      " 97. run of importance source...\n",
      " 98. run of importance source...\n",
      " 99. run of importance source...\n",
      "After 99 iterations, +3.2 mins: \n",
      " confirmed 1 attribute: MRPL1;\n",
      " still have 9 attributes left.\n",
      "\n"
     ]
    },
    {
     "name": "stdout",
     "output_type": "stream",
     "text": [
      "\n",
      "Drug2: Boruta is running for PHA-665752"
     ]
    },
    {
     "name": "stderr",
     "output_type": "stream",
     "text": [
      " 1. run of importance source...\n",
      " 2. run of importance source...\n",
      " 3. run of importance source...\n",
      " 4. run of importance source...\n",
      " 5. run of importance source...\n",
      " 6. run of importance source...\n",
      " 7. run of importance source...\n",
      " 8. run of importance source...\n",
      " 9. run of importance source...\n",
      " 10. run of importance source...\n",
      " 11. run of importance source...\n",
      " 12. run of importance source...\n",
      " 13. run of importance source...\n",
      " 14. run of importance source...\n",
      " 15. run of importance source...\n",
      " 16. run of importance source...\n",
      " 17. run of importance source...\n",
      " 18. run of importance source...\n",
      " 19. run of importance source...\n",
      " 20. run of importance source...\n",
      " 21. run of importance source...\n",
      "After 21 iterations, +2.9 mins: \n",
      " rejected 20159 attributes: A1BG, A1BG-AS1, A1CF, A2M, A2M-AS1 and 20154 more;\n",
      " still have 15 attributes left.\n",
      "\n",
      " 22. run of importance source...\n",
      " 23. run of importance source...\n",
      " 24. run of importance source...\n",
      " 25. run of importance source...\n",
      " 26. run of importance source...\n",
      " 27. run of importance source...\n",
      " 28. run of importance source...\n",
      " 29. run of importance source...\n",
      " 30. run of importance source...\n",
      " 31. run of importance source...\n",
      " 32. run of importance source...\n",
      " 33. run of importance source...\n",
      " 34. run of importance source...\n",
      " 35. run of importance source...\n",
      " 36. run of importance source...\n",
      " 37. run of importance source...\n",
      " 38. run of importance source...\n",
      " 39. run of importance source...\n",
      " 40. run of importance source...\n",
      " 41. run of importance source...\n",
      " 42. run of importance source...\n",
      " 43. run of importance source...\n",
      " 44. run of importance source...\n",
      " 45. run of importance source...\n",
      " 46. run of importance source...\n",
      " 47. run of importance source...\n",
      " 48. run of importance source...\n",
      " 49. run of importance source...\n",
      " 50. run of importance source...\n",
      " 51. run of importance source...\n",
      " 52. run of importance source...\n",
      " 53. run of importance source...\n",
      " 54. run of importance source...\n",
      " 55. run of importance source...\n",
      " 56. run of importance source...\n",
      " 57. run of importance source...\n",
      " 58. run of importance source...\n",
      " 59. run of importance source...\n",
      " 60. run of importance source...\n",
      "After 60 iterations, +3 mins: \n",
      " rejected 1 attribute: LOC93622;\n",
      " still have 14 attributes left.\n",
      "\n",
      " 61. run of importance source...\n",
      " 62. run of importance source...\n",
      " 63. run of importance source...\n",
      "After 63 iterations, +3 mins: \n",
      " confirmed 1 attribute: CCDC105;\n",
      " still have 13 attributes left.\n",
      "\n",
      " 64. run of importance source...\n",
      " 65. run of importance source...\n",
      " 66. run of importance source...\n",
      "After 66 iterations, +3 mins: \n",
      " rejected 1 attribute: ZNF586;\n",
      " still have 12 attributes left.\n",
      "\n",
      " 67. run of importance source...\n",
      " 68. run of importance source...\n",
      " 69. run of importance source...\n",
      " 70. run of importance source...\n",
      " 71. run of importance source...\n",
      " 72. run of importance source...\n",
      " 73. run of importance source...\n",
      " 74. run of importance source...\n",
      " 75. run of importance source...\n",
      " 76. run of importance source...\n",
      " 77. run of importance source...\n",
      " 78. run of importance source...\n",
      " 79. run of importance source...\n",
      " 80. run of importance source...\n",
      " 81. run of importance source...\n",
      " 82. run of importance source...\n",
      " 83. run of importance source...\n",
      "After 83 iterations, +3 mins: \n",
      " confirmed 1 attribute: SUGT1P1;\n",
      " still have 11 attributes left.\n",
      "\n",
      " 84. run of importance source...\n",
      " 85. run of importance source...\n",
      " 86. run of importance source...\n",
      "After 86 iterations, +3 mins: \n",
      " confirmed 2 attributes: COX19, PPP1R3B;\n",
      " still have 9 attributes left.\n",
      "\n",
      " 87. run of importance source...\n",
      " 88. run of importance source...\n",
      " 89. run of importance source...\n",
      " 90. run of importance source...\n",
      " 91. run of importance source...\n",
      "After 91 iterations, +3 mins: \n",
      " confirmed 1 attribute: PHF2;\n",
      " still have 8 attributes left.\n",
      "\n",
      " 92. run of importance source...\n",
      " 93. run of importance source...\n",
      " 94. run of importance source...\n",
      " 95. run of importance source...\n",
      " 96. run of importance source...\n",
      " 97. run of importance source...\n",
      " 98. run of importance source...\n",
      " 99. run of importance source...\n"
     ]
    },
    {
     "name": "stdout",
     "output_type": "stream",
     "text": [
      "\n",
      "Drug3: Boruta is running for PLX4720"
     ]
    },
    {
     "name": "stderr",
     "output_type": "stream",
     "text": [
      " 1. run of importance source...\n",
      " 2. run of importance source...\n",
      " 3. run of importance source...\n",
      " 4. run of importance source...\n",
      " 5. run of importance source...\n",
      " 6. run of importance source...\n",
      " 7. run of importance source...\n",
      " 8. run of importance source...\n",
      " 9. run of importance source...\n",
      " 10. run of importance source...\n",
      " 11. run of importance source...\n",
      " 12. run of importance source...\n",
      " 13. run of importance source...\n",
      " 14. run of importance source...\n",
      " 15. run of importance source...\n",
      " 16. run of importance source...\n",
      " 17. run of importance source...\n",
      " 18. run of importance source...\n",
      " 19. run of importance source...\n",
      " 20. run of importance source...\n",
      " 21. run of importance source...\n",
      "After 21 iterations, +2.5 mins: \n",
      " rejected 20156 attributes: A1BG, A1BG-AS1, A1CF, A2M, A2M-AS1 and 20151 more;\n",
      " still have 18 attributes left.\n",
      "\n",
      " 22. run of importance source...\n",
      " 23. run of importance source...\n",
      " 24. run of importance source...\n",
      " 25. run of importance source...\n",
      " 26. run of importance source...\n",
      " 27. run of importance source...\n",
      " 28. run of importance source...\n",
      " 29. run of importance source...\n",
      " 30. run of importance source...\n",
      " 31. run of importance source...\n",
      " 32. run of importance source...\n",
      " 33. run of importance source...\n",
      " 34. run of importance source...\n",
      " 35. run of importance source...\n",
      " 36. run of importance source...\n",
      " 37. run of importance source...\n",
      " 38. run of importance source...\n",
      "After 38 iterations, +2.5 mins: \n",
      " rejected 1 attribute: MUCL1;\n",
      " still have 17 attributes left.\n",
      "\n",
      " 39. run of importance source...\n",
      " 40. run of importance source...\n",
      " 41. run of importance source...\n",
      " 42. run of importance source...\n",
      " 43. run of importance source...\n",
      " 44. run of importance source...\n",
      " 45. run of importance source...\n",
      " 46. run of importance source...\n",
      " 47. run of importance source...\n",
      " 48. run of importance source...\n",
      " 49. run of importance source...\n",
      " 50. run of importance source...\n",
      " 51. run of importance source...\n",
      " 52. run of importance source...\n",
      " 53. run of importance source...\n",
      " 54. run of importance source...\n",
      " 55. run of importance source...\n",
      " 56. run of importance source...\n",
      " 57. run of importance source...\n",
      " 58. run of importance source...\n",
      " 59. run of importance source...\n",
      " 60. run of importance source...\n",
      " 61. run of importance source...\n",
      " 62. run of importance source...\n",
      " 63. run of importance source...\n",
      " 64. run of importance source...\n",
      " 65. run of importance source...\n",
      " 66. run of importance source...\n",
      " 67. run of importance source...\n",
      " 68. run of importance source...\n",
      " 69. run of importance source...\n",
      " 70. run of importance source...\n",
      " 71. run of importance source...\n",
      " 72. run of importance source...\n",
      " 73. run of importance source...\n",
      " 74. run of importance source...\n",
      " 75. run of importance source...\n",
      " 76. run of importance source...\n",
      " 77. run of importance source...\n",
      " 78. run of importance source...\n",
      " 79. run of importance source...\n",
      " 80. run of importance source...\n",
      " 81. run of importance source...\n",
      " 82. run of importance source...\n",
      " 83. run of importance source...\n",
      " 84. run of importance source...\n",
      " 85. run of importance source...\n",
      " 86. run of importance source...\n",
      "After 86 iterations, +2.6 mins: \n",
      " confirmed 2 attributes: GIPC3, LINC02283;\n",
      " still have 15 attributes left.\n",
      "\n",
      " 87. run of importance source...\n",
      " 88. run of importance source...\n",
      "After 88 iterations, +2.6 mins: \n",
      " confirmed 3 attributes: DNAAF6, ELN, STPG4;\n",
      " still have 12 attributes left.\n",
      "\n",
      " 89. run of importance source...\n",
      " 90. run of importance source...\n",
      " 91. run of importance source...\n",
      "After 91 iterations, +2.6 mins: \n",
      " confirmed 3 attributes: HMGB3P1, KLHDC10, MUC19;\n",
      " still have 9 attributes left.\n",
      "\n",
      " 92. run of importance source...\n",
      " 93. run of importance source...\n",
      " 94. run of importance source...\n",
      "After 94 iterations, +2.6 mins: \n",
      " confirmed 1 attribute: SIGLEC10;\n",
      " still have 8 attributes left.\n",
      "\n",
      " 95. run of importance source...\n",
      " 96. run of importance source...\n",
      " 97. run of importance source...\n",
      " 98. run of importance source...\n",
      " 99. run of importance source...\n",
      "After 99 iterations, +2.6 mins: \n",
      " confirmed 1 attribute: ADAM6;\n",
      " still have 7 attributes left.\n",
      "\n"
     ]
    },
    {
     "name": "stdout",
     "output_type": "stream",
     "text": [
      "\n",
      "Drug4: Boruta is running for L-685458"
     ]
    },
    {
     "name": "stderr",
     "output_type": "stream",
     "text": [
      " 1. run of importance source...\n",
      " 2. run of importance source...\n",
      " 3. run of importance source...\n",
      " 4. run of importance source...\n",
      " 5. run of importance source...\n",
      " 6. run of importance source...\n",
      " 7. run of importance source...\n",
      " 8. run of importance source...\n",
      " 9. run of importance source...\n",
      " 10. run of importance source...\n",
      " 11. run of importance source...\n",
      " 12. run of importance source...\n",
      " 13. run of importance source...\n",
      " 14. run of importance source...\n",
      " 15. run of importance source...\n",
      " 16. run of importance source...\n",
      " 17. run of importance source...\n",
      " 18. run of importance source...\n",
      " 19. run of importance source...\n",
      " 20. run of importance source...\n",
      " 21. run of importance source...\n",
      "After 21 iterations, +3 mins: \n",
      " rejected 20151 attributes: A1BG, A1BG-AS1, A1CF, A2M, A2M-AS1 and 20146 more;\n",
      " still have 23 attributes left.\n",
      "\n",
      " 22. run of importance source...\n",
      " 23. run of importance source...\n",
      " 24. run of importance source...\n",
      " 25. run of importance source...\n",
      " 26. run of importance source...\n",
      "After 26 iterations, +3 mins: \n",
      " rejected 4 attributes: ADAMDEC1, INMT, RESF1, UBA5;\n",
      " still have 19 attributes left.\n",
      "\n",
      " 27. run of importance source...\n",
      " 28. run of importance source...\n",
      " 29. run of importance source...\n",
      " 30. run of importance source...\n",
      " 31. run of importance source...\n",
      " 32. run of importance source...\n",
      " 33. run of importance source...\n",
      " 34. run of importance source...\n",
      " 35. run of importance source...\n",
      " 36. run of importance source...\n",
      " 37. run of importance source...\n",
      " 38. run of importance source...\n",
      "After 38 iterations, +3 mins: \n",
      " rejected 1 attribute: MYO15B;\n",
      " still have 18 attributes left.\n",
      "\n",
      " 39. run of importance source...\n",
      " 40. run of importance source...\n",
      " 41. run of importance source...\n",
      " 42. run of importance source...\n",
      " 43. run of importance source...\n",
      " 44. run of importance source...\n",
      " 45. run of importance source...\n",
      " 46. run of importance source...\n",
      " 47. run of importance source...\n",
      " 48. run of importance source...\n",
      " 49. run of importance source...\n",
      " 50. run of importance source...\n",
      " 51. run of importance source...\n",
      " 52. run of importance source...\n",
      " 53. run of importance source...\n",
      " 54. run of importance source...\n",
      " 55. run of importance source...\n",
      " 56. run of importance source...\n",
      " 57. run of importance source...\n",
      " 58. run of importance source...\n",
      " 59. run of importance source...\n",
      " 60. run of importance source...\n",
      " 61. run of importance source...\n",
      " 62. run of importance source...\n",
      " 63. run of importance source...\n",
      " 64. run of importance source...\n",
      " 65. run of importance source...\n",
      " 66. run of importance source...\n",
      " 67. run of importance source...\n",
      " 68. run of importance source...\n",
      " 69. run of importance source...\n",
      " 70. run of importance source...\n",
      " 71. run of importance source...\n",
      " 72. run of importance source...\n",
      " 73. run of importance source...\n",
      " 74. run of importance source...\n",
      " 75. run of importance source...\n",
      " 76. run of importance source...\n",
      " 77. run of importance source...\n",
      " 78. run of importance source...\n",
      " 79. run of importance source...\n",
      " 80. run of importance source...\n",
      "After 80 iterations, +3 mins: \n",
      " confirmed 1 attribute: BOLA3;\n",
      " still have 17 attributes left.\n",
      "\n",
      " 81. run of importance source...\n",
      " 82. run of importance source...\n",
      " 83. run of importance source...\n",
      "After 83 iterations, +3 mins: \n",
      " confirmed 1 attribute: PPA2;\n",
      " still have 16 attributes left.\n",
      "\n",
      " 84. run of importance source...\n",
      " 85. run of importance source...\n",
      " 86. run of importance source...\n",
      "After 86 iterations, +3 mins: \n",
      " confirmed 4 attributes: FADS1, MIIP, NABP2, TAPBPL;\n",
      " still have 12 attributes left.\n",
      "\n",
      " 87. run of importance source...\n",
      " 88. run of importance source...\n",
      "After 88 iterations, +3 mins: \n",
      " confirmed 1 attribute: CASTOR1;\n",
      " still have 11 attributes left.\n",
      "\n",
      " 89. run of importance source...\n",
      " 90. run of importance source...\n",
      " 91. run of importance source...\n",
      " 92. run of importance source...\n",
      " 93. run of importance source...\n",
      " 94. run of importance source...\n",
      "After 94 iterations, +3 mins: \n",
      " confirmed 2 attributes: PTPN3, ZFP41;\n",
      " still have 9 attributes left.\n",
      "\n",
      " 95. run of importance source...\n",
      " 96. run of importance source...\n",
      "After 96 iterations, +3 mins: \n",
      " confirmed 2 attributes: GJD4, LINC00184;\n",
      " still have 7 attributes left.\n",
      "\n",
      " 97. run of importance source...\n",
      " 98. run of importance source...\n",
      " 99. run of importance source...\n"
     ]
    },
    {
     "name": "stdout",
     "output_type": "stream",
     "text": [
      "\n",
      "Drug5: Boruta is running for Lapatinib"
     ]
    },
    {
     "name": "stderr",
     "output_type": "stream",
     "text": [
      " 1. run of importance source...\n",
      " 2. run of importance source...\n",
      " 3. run of importance source...\n",
      " 4. run of importance source...\n",
      " 5. run of importance source...\n",
      " 6. run of importance source...\n",
      " 7. run of importance source...\n",
      " 8. run of importance source...\n",
      " 9. run of importance source...\n",
      " 10. run of importance source...\n",
      " 11. run of importance source...\n",
      " 12. run of importance source...\n",
      " 13. run of importance source...\n",
      " 14. run of importance source...\n",
      " 15. run of importance source...\n",
      " 16. run of importance source...\n",
      " 17. run of importance source...\n",
      " 18. run of importance source...\n",
      " 19. run of importance source...\n",
      " 20. run of importance source...\n",
      " 21. run of importance source...\n",
      "After 21 iterations, +3.2 mins: \n",
      " rejected 20154 attributes: A1BG, A1BG-AS1, A1CF, A2M, A2M-AS1 and 20149 more;\n",
      " still have 20 attributes left.\n",
      "\n",
      " 22. run of importance source...\n",
      " 23. run of importance source...\n",
      " 24. run of importance source...\n",
      " 25. run of importance source...\n",
      " 26. run of importance source...\n",
      " 27. run of importance source...\n",
      " 28. run of importance source...\n",
      " 29. run of importance source...\n",
      " 30. run of importance source...\n",
      "After 30 iterations, +3.2 mins: \n",
      " rejected 2 attributes: LOC439933, ZCCHC13;\n",
      " still have 18 attributes left.\n",
      "\n",
      " 31. run of importance source...\n",
      " 32. run of importance source...\n",
      " 33. run of importance source...\n",
      " 34. run of importance source...\n",
      " 35. run of importance source...\n",
      " 36. run of importance source...\n",
      " 37. run of importance source...\n",
      " 38. run of importance source...\n",
      " 39. run of importance source...\n",
      " 40. run of importance source...\n",
      " 41. run of importance source...\n",
      " 42. run of importance source...\n",
      " 43. run of importance source...\n",
      " 44. run of importance source...\n",
      " 45. run of importance source...\n",
      " 46. run of importance source...\n",
      " 47. run of importance source...\n",
      " 48. run of importance source...\n",
      " 49. run of importance source...\n",
      " 50. run of importance source...\n",
      " 51. run of importance source...\n",
      " 52. run of importance source...\n",
      " 53. run of importance source...\n",
      " 54. run of importance source...\n",
      " 55. run of importance source...\n",
      " 56. run of importance source...\n",
      " 57. run of importance source...\n",
      " 58. run of importance source...\n",
      " 59. run of importance source...\n",
      " 60. run of importance source...\n",
      " 61. run of importance source...\n",
      " 62. run of importance source...\n",
      " 63. run of importance source...\n",
      " 64. run of importance source...\n",
      " 65. run of importance source...\n",
      " 66. run of importance source...\n",
      " 67. run of importance source...\n",
      " 68. run of importance source...\n",
      " 69. run of importance source...\n",
      " 70. run of importance source...\n",
      " 71. run of importance source...\n",
      " 72. run of importance source...\n",
      "After 72 iterations, +3.2 mins: \n",
      " rejected 1 attribute: MEIOB;\n",
      " still have 17 attributes left.\n",
      "\n",
      " 73. run of importance source...\n",
      " 74. run of importance source...\n",
      " 75. run of importance source...\n",
      " 76. run of importance source...\n",
      " 77. run of importance source...\n",
      " 78. run of importance source...\n",
      " 79. run of importance source...\n",
      " 80. run of importance source...\n",
      "After 80 iterations, +3.2 mins: \n",
      " confirmed 2 attributes: CACYBP, GCN1;\n",
      " still have 15 attributes left.\n",
      "\n",
      " 81. run of importance source...\n",
      " 82. run of importance source...\n",
      " 83. run of importance source...\n",
      " 84. run of importance source...\n",
      " 85. run of importance source...\n",
      " 86. run of importance source...\n",
      "After 86 iterations, +3.2 mins: \n",
      " confirmed 1 attribute: BAP1;\n",
      " still have 14 attributes left.\n",
      "\n",
      " 87. run of importance source...\n",
      " 88. run of importance source...\n",
      " 89. run of importance source...\n",
      " 90. run of importance source...\n",
      " 91. run of importance source...\n",
      "After 91 iterations, +3.2 mins: \n",
      " confirmed 1 attribute: PTPN9;\n",
      " still have 13 attributes left.\n",
      "\n",
      " 92. run of importance source...\n",
      " 93. run of importance source...\n",
      " 94. run of importance source...\n",
      "After 94 iterations, +3.2 mins: \n",
      " confirmed 3 attributes: CYB5R4, KATNAL2, LMX1A;\n",
      " still have 10 attributes left.\n",
      "\n",
      " 95. run of importance source...\n",
      " 96. run of importance source...\n",
      "After 96 iterations, +3.2 mins: \n",
      " confirmed 1 attribute: KSR1;\n",
      " still have 9 attributes left.\n",
      "\n",
      " 97. run of importance source...\n",
      " 98. run of importance source...\n",
      " 99. run of importance source...\n"
     ]
    },
    {
     "name": "stdout",
     "output_type": "stream",
     "text": [
      "\n",
      "Drug6: Boruta is running for PF2341066"
     ]
    },
    {
     "name": "stderr",
     "output_type": "stream",
     "text": [
      " 1. run of importance source...\n",
      " 2. run of importance source...\n",
      " 3. run of importance source...\n",
      " 4. run of importance source...\n",
      " 5. run of importance source...\n",
      " 6. run of importance source...\n",
      " 7. run of importance source...\n",
      " 8. run of importance source...\n",
      " 9. run of importance source...\n",
      " 10. run of importance source...\n",
      " 11. run of importance source...\n",
      " 12. run of importance source...\n",
      " 13. run of importance source...\n",
      " 14. run of importance source...\n",
      " 15. run of importance source...\n",
      " 16. run of importance source...\n",
      " 17. run of importance source...\n",
      " 18. run of importance source...\n",
      " 19. run of importance source...\n",
      " 20. run of importance source...\n",
      " 21. run of importance source...\n",
      "After 21 iterations, +3.1 mins: \n",
      " rejected 20152 attributes: A1BG, A1BG-AS1, A1CF, A2M, A2M-AS1 and 20147 more;\n",
      " still have 22 attributes left.\n",
      "\n",
      " 22. run of importance source...\n",
      " 23. run of importance source...\n",
      " 24. run of importance source...\n",
      " 25. run of importance source...\n",
      " 26. run of importance source...\n",
      "After 26 iterations, +3.1 mins: \n",
      " rejected 1 attribute: DNAH3;\n",
      " still have 21 attributes left.\n",
      "\n",
      " 27. run of importance source...\n",
      " 28. run of importance source...\n",
      " 29. run of importance source...\n",
      " 30. run of importance source...\n",
      "After 30 iterations, +3.1 mins: \n",
      " rejected 1 attribute: LMX1A-AS1;\n",
      " still have 20 attributes left.\n",
      "\n",
      " 31. run of importance source...\n",
      " 32. run of importance source...\n",
      " 33. run of importance source...\n",
      " 34. run of importance source...\n",
      " 35. run of importance source...\n",
      " 36. run of importance source...\n",
      " 37. run of importance source...\n",
      " 38. run of importance source...\n",
      " 39. run of importance source...\n",
      " 40. run of importance source...\n",
      " 41. run of importance source...\n",
      " 42. run of importance source...\n",
      " 43. run of importance source...\n",
      " 44. run of importance source...\n",
      " 45. run of importance source...\n",
      " 46. run of importance source...\n",
      " 47. run of importance source...\n",
      " 48. run of importance source...\n",
      " 49. run of importance source...\n",
      " 50. run of importance source...\n",
      " 51. run of importance source...\n",
      " 52. run of importance source...\n",
      " 53. run of importance source...\n",
      " 54. run of importance source...\n",
      " 55. run of importance source...\n",
      " 56. run of importance source...\n",
      " 57. run of importance source...\n",
      " 58. run of importance source...\n",
      " 59. run of importance source...\n",
      " 60. run of importance source...\n",
      " 61. run of importance source...\n",
      " 62. run of importance source...\n",
      " 63. run of importance source...\n",
      " 64. run of importance source...\n",
      " 65. run of importance source...\n",
      " 66. run of importance source...\n",
      " 67. run of importance source...\n",
      " 68. run of importance source...\n",
      " 69. run of importance source...\n",
      " 70. run of importance source...\n",
      " 71. run of importance source...\n",
      " 72. run of importance source...\n",
      "After 72 iterations, +3.1 mins: \n",
      " confirmed 1 attribute: TAF1D;\n",
      " still have 19 attributes left.\n",
      "\n",
      " 73. run of importance source...\n",
      " 74. run of importance source...\n",
      " 75. run of importance source...\n",
      " 76. run of importance source...\n",
      " 77. run of importance source...\n",
      " 78. run of importance source...\n",
      " 79. run of importance source...\n",
      " 80. run of importance source...\n",
      " 81. run of importance source...\n",
      " 82. run of importance source...\n",
      " 83. run of importance source...\n",
      " 84. run of importance source...\n",
      " 85. run of importance source...\n",
      " 86. run of importance source...\n",
      "After 86 iterations, +3.1 mins: \n",
      " confirmed 5 attributes: BTAF1, CEBPA, EI24, PROK2, TXNDC12;\n",
      " still have 14 attributes left.\n",
      "\n",
      " 87. run of importance source...\n",
      " 88. run of importance source...\n",
      " 89. run of importance source...\n",
      " 90. run of importance source...\n",
      " 91. run of importance source...\n",
      "After 91 iterations, +3.1 mins: \n",
      " confirmed 2 attributes: ATP5MGP2, PDE4DIPP6;\n",
      " still have 12 attributes left.\n",
      "\n",
      " 92. run of importance source...\n",
      " 93. run of importance source...\n",
      " 94. run of importance source...\n",
      "After 94 iterations, +3.1 mins: \n",
      " confirmed 1 attribute: FNDC3B;\n",
      " still have 11 attributes left.\n",
      "\n",
      " 95. run of importance source...\n",
      " 96. run of importance source...\n",
      "After 96 iterations, +3.1 mins: \n",
      " confirmed 2 attributes: RAPGEF4-AS1, SRSF8;\n",
      " still have 9 attributes left.\n",
      "\n",
      " 97. run of importance source...\n",
      " 98. run of importance source...\n",
      " 99. run of importance source...\n",
      "After 99 iterations, +3.1 mins: \n",
      " confirmed 2 attributes: LOC105373876, RNASEL;\n",
      " still have 7 attributes left.\n",
      "\n"
     ]
    },
    {
     "name": "stdout",
     "output_type": "stream",
     "text": [
      "\n",
      "Drug7: Boruta is running for PD-0325901"
     ]
    },
    {
     "name": "stderr",
     "output_type": "stream",
     "text": [
      " 1. run of importance source...\n",
      " 2. run of importance source...\n",
      " 3. run of importance source...\n",
      " 4. run of importance source...\n",
      " 5. run of importance source...\n",
      " 6. run of importance source...\n",
      " 7. run of importance source...\n",
      " 8. run of importance source...\n",
      " 9. run of importance source...\n",
      " 10. run of importance source...\n",
      " 11. run of importance source...\n",
      " 12. run of importance source...\n",
      " 13. run of importance source...\n",
      " 14. run of importance source...\n",
      " 15. run of importance source...\n",
      " 16. run of importance source...\n",
      " 17. run of importance source...\n",
      " 18. run of importance source...\n",
      " 19. run of importance source...\n",
      " 20. run of importance source...\n",
      " 21. run of importance source...\n",
      "After 21 iterations, +2.6 mins: \n",
      " rejected 20144 attributes: A1BG, A1BG-AS1, A1CF, A2M, A2M-AS1 and 20139 more;\n",
      " still have 30 attributes left.\n",
      "\n",
      " 22. run of importance source...\n",
      " 23. run of importance source...\n",
      " 24. run of importance source...\n",
      " 25. run of importance source...\n",
      " 26. run of importance source...\n",
      "After 26 iterations, +2.6 mins: \n",
      " rejected 4 attributes: LINC02028, MIA2, RHOBTB3, ZIC2;\n",
      " still have 26 attributes left.\n",
      "\n",
      " 27. run of importance source...\n",
      " 28. run of importance source...\n",
      " 29. run of importance source...\n",
      " 30. run of importance source...\n",
      "After 30 iterations, +2.6 mins: \n",
      " rejected 2 attributes: RPL35P8, TEX33;\n",
      " still have 24 attributes left.\n",
      "\n",
      " 31. run of importance source...\n",
      " 32. run of importance source...\n",
      " 33. run of importance source...\n",
      " 34. run of importance source...\n",
      " 35. run of importance source...\n",
      " 36. run of importance source...\n",
      " 37. run of importance source...\n",
      " 38. run of importance source...\n",
      " 39. run of importance source...\n",
      " 40. run of importance source...\n",
      " 41. run of importance source...\n",
      " 42. run of importance source...\n",
      " 43. run of importance source...\n",
      " 44. run of importance source...\n",
      " 45. run of importance source...\n",
      " 46. run of importance source...\n",
      " 47. run of importance source...\n",
      " 48. run of importance source...\n",
      " 49. run of importance source...\n",
      " 50. run of importance source...\n",
      " 51. run of importance source...\n",
      " 52. run of importance source...\n",
      " 53. run of importance source...\n",
      " 54. run of importance source...\n",
      " 55. run of importance source...\n",
      " 56. run of importance source...\n",
      " 57. run of importance source...\n",
      " 58. run of importance source...\n",
      " 59. run of importance source...\n",
      " 60. run of importance source...\n",
      " 61. run of importance source...\n",
      " 62. run of importance source...\n",
      " 63. run of importance source...\n",
      " 64. run of importance source...\n",
      " 65. run of importance source...\n",
      " 66. run of importance source...\n",
      " 67. run of importance source...\n",
      " 68. run of importance source...\n",
      " 69. run of importance source...\n",
      " 70. run of importance source...\n",
      " 71. run of importance source...\n",
      " 72. run of importance source...\n",
      " 73. run of importance source...\n",
      " 74. run of importance source...\n",
      " 75. run of importance source...\n",
      " 76. run of importance source...\n",
      " 77. run of importance source...\n",
      " 78. run of importance source...\n",
      " 79. run of importance source...\n",
      " 80. run of importance source...\n",
      " 81. run of importance source...\n",
      " 82. run of importance source...\n",
      " 83. run of importance source...\n",
      "After 83 iterations, +2.6 mins: \n",
      " confirmed 2 attributes: EPC1, PDE7A;\n",
      " still have 22 attributes left.\n",
      "\n",
      " 84. run of importance source...\n",
      " 85. run of importance source...\n",
      " 86. run of importance source...\n",
      "After 86 iterations, +2.6 mins: \n",
      " confirmed 4 attributes: EPC2, PORCN, REXO4, ZC3H10;\n",
      " still have 18 attributes left.\n",
      "\n",
      " 87. run of importance source...\n",
      " 88. run of importance source...\n",
      "After 88 iterations, +2.6 mins: \n",
      " confirmed 1 attribute: CMTM4;\n",
      " still have 17 attributes left.\n",
      "\n",
      " 89. run of importance source...\n",
      " 90. run of importance source...\n",
      " 91. run of importance source...\n",
      "After 91 iterations, +2.6 mins: \n",
      " confirmed 3 attributes: ACOX2, CNOT4, ZNF202;\n",
      " still have 14 attributes left.\n",
      "\n",
      " 92. run of importance source...\n",
      " 93. run of importance source...\n",
      " 94. run of importance source...\n",
      "After 94 iterations, +2.6 mins: \n",
      " confirmed 1 attribute: MAN2B1;\n",
      " still have 13 attributes left.\n",
      "\n",
      " 95. run of importance source...\n",
      " 96. run of importance source...\n",
      "After 96 iterations, +2.6 mins: \n",
      " confirmed 3 attributes: DCAF10, NKAPD1, SMG7;\n",
      " still have 10 attributes left.\n",
      "\n",
      " 97. run of importance source...\n",
      " 98. run of importance source...\n",
      " 99. run of importance source...\n"
     ]
    },
    {
     "name": "stdout",
     "output_type": "stream",
     "text": [
      "\n",
      "Drug8: Boruta is running for TKI258"
     ]
    },
    {
     "name": "stderr",
     "output_type": "stream",
     "text": [
      " 1. run of importance source...\n",
      " 2. run of importance source...\n",
      " 3. run of importance source...\n",
      " 4. run of importance source...\n",
      " 5. run of importance source...\n",
      " 6. run of importance source...\n",
      " 7. run of importance source...\n",
      " 8. run of importance source...\n",
      " 9. run of importance source...\n",
      " 10. run of importance source...\n",
      " 11. run of importance source...\n",
      " 12. run of importance source...\n",
      " 13. run of importance source...\n",
      " 14. run of importance source...\n",
      " 15. run of importance source...\n",
      " 16. run of importance source...\n",
      " 17. run of importance source...\n",
      " 18. run of importance source...\n",
      " 19. run of importance source...\n",
      " 20. run of importance source...\n",
      " 21. run of importance source...\n",
      "After 21 iterations, +3 mins: \n",
      " rejected 20146 attributes: A1BG, A1BG-AS1, A1CF, A2M, A2M-AS1 and 20141 more;\n",
      " still have 28 attributes left.\n",
      "\n",
      " 22. run of importance source...\n",
      " 23. run of importance source...\n",
      " 24. run of importance source...\n",
      " 25. run of importance source...\n",
      " 26. run of importance source...\n",
      "After 26 iterations, +3 mins: \n",
      " rejected 4 attributes: C8orf44, CYP2A13, SERPINA6, TRABD2B;\n",
      " still have 24 attributes left.\n",
      "\n",
      " 27. run of importance source...\n",
      " 28. run of importance source...\n",
      " 29. run of importance source...\n",
      " 30. run of importance source...\n",
      " 31. run of importance source...\n",
      " 32. run of importance source...\n",
      " 33. run of importance source...\n",
      " 34. run of importance source...\n",
      "After 34 iterations, +3 mins: \n",
      " rejected 2 attributes: CD24, NXT2;\n",
      " still have 22 attributes left.\n",
      "\n",
      " 35. run of importance source...\n",
      " 36. run of importance source...\n",
      " 37. run of importance source...\n",
      " 38. run of importance source...\n",
      " 39. run of importance source...\n",
      " 40. run of importance source...\n",
      " 41. run of importance source...\n",
      " 42. run of importance source...\n",
      " 43. run of importance source...\n",
      " 44. run of importance source...\n",
      "After 44 iterations, +3.1 mins: \n",
      " rejected 2 attributes: CNOT2, PCDHB18P;\n",
      " still have 20 attributes left.\n",
      "\n",
      " 45. run of importance source...\n",
      " 46. run of importance source...\n",
      " 47. run of importance source...\n",
      " 48. run of importance source...\n",
      " 49. run of importance source...\n",
      " 50. run of importance source...\n",
      " 51. run of importance source...\n",
      " 52. run of importance source...\n",
      " 53. run of importance source...\n",
      " 54. run of importance source...\n",
      " 55. run of importance source...\n",
      " 56. run of importance source...\n",
      " 57. run of importance source...\n",
      " 58. run of importance source...\n",
      " 59. run of importance source...\n",
      " 60. run of importance source...\n",
      " 61. run of importance source...\n",
      " 62. run of importance source...\n",
      " 63. run of importance source...\n",
      " 64. run of importance source...\n",
      " 65. run of importance source...\n",
      " 66. run of importance source...\n",
      "After 66 iterations, +3.1 mins: \n",
      " confirmed 1 attribute: TBC1D9B;\n",
      " still have 19 attributes left.\n",
      "\n",
      " 67. run of importance source...\n",
      " 68. run of importance source...\n",
      " 69. run of importance source...\n",
      " 70. run of importance source...\n",
      " 71. run of importance source...\n",
      " 72. run of importance source...\n",
      " 73. run of importance source...\n",
      " 74. run of importance source...\n",
      " 75. run of importance source...\n",
      " 76. run of importance source...\n",
      " 77. run of importance source...\n",
      " 78. run of importance source...\n",
      " 79. run of importance source...\n",
      " 80. run of importance source...\n",
      " 81. run of importance source...\n",
      " 82. run of importance source...\n",
      " 83. run of importance source...\n",
      " 84. run of importance source...\n",
      " 85. run of importance source...\n",
      " 86. run of importance source...\n",
      "After 86 iterations, +3.1 mins: \n",
      " confirmed 2 attributes: CCDC102B, DSCAM;\n",
      " still have 17 attributes left.\n",
      "\n",
      " 87. run of importance source...\n",
      " 88. run of importance source...\n",
      "After 88 iterations, +3.1 mins: \n",
      " confirmed 2 attributes: FRYL, TAF1D;\n",
      " still have 15 attributes left.\n",
      "\n",
      " 89. run of importance source...\n",
      " 90. run of importance source...\n",
      " 91. run of importance source...\n",
      " 92. run of importance source...\n",
      " 93. run of importance source...\n",
      " 94. run of importance source...\n",
      " 95. run of importance source...\n",
      " 96. run of importance source...\n",
      "After 96 iterations, +3.1 mins: \n",
      " confirmed 2 attributes: HPF1, ZBTB37;\n",
      " still have 13 attributes left.\n",
      "\n",
      " 97. run of importance source...\n",
      " 98. run of importance source...\n",
      " 99. run of importance source...\n"
     ]
    },
    {
     "name": "stdout",
     "output_type": "stream",
     "text": [
      "\n",
      "Drug9: Boruta is running for Nilotinib"
     ]
    },
    {
     "name": "stderr",
     "output_type": "stream",
     "text": [
      " 1. run of importance source...\n",
      " 2. run of importance source...\n",
      " 3. run of importance source...\n",
      " 4. run of importance source...\n",
      " 5. run of importance source...\n",
      " 6. run of importance source...\n",
      " 7. run of importance source...\n",
      " 8. run of importance source...\n",
      " 9. run of importance source...\n",
      " 10. run of importance source...\n",
      " 11. run of importance source...\n",
      " 12. run of importance source...\n",
      " 13. run of importance source...\n",
      " 14. run of importance source...\n",
      " 15. run of importance source...\n",
      " 16. run of importance source...\n",
      " 17. run of importance source...\n",
      " 18. run of importance source...\n",
      " 19. run of importance source...\n",
      " 20. run of importance source...\n",
      " 21. run of importance source...\n",
      "After 21 iterations, +3 mins: \n",
      " rejected 20166 attributes: A1BG, A1BG-AS1, A1CF, A2M, A2M-AS1 and 20161 more;\n",
      " still have 8 attributes left.\n",
      "\n",
      " 22. run of importance source...\n",
      " 23. run of importance source...\n",
      " 24. run of importance source...\n",
      " 25. run of importance source...\n",
      " 26. run of importance source...\n",
      " 27. run of importance source...\n",
      " 28. run of importance source...\n",
      " 29. run of importance source...\n",
      " 30. run of importance source...\n",
      " 31. run of importance source...\n",
      " 32. run of importance source...\n",
      " 33. run of importance source...\n",
      " 34. run of importance source...\n",
      " 35. run of importance source...\n",
      " 36. run of importance source...\n",
      " 37. run of importance source...\n",
      " 38. run of importance source...\n",
      " 39. run of importance source...\n",
      " 40. run of importance source...\n",
      " 41. run of importance source...\n",
      " 42. run of importance source...\n",
      " 43. run of importance source...\n",
      " 44. run of importance source...\n",
      " 45. run of importance source...\n",
      " 46. run of importance source...\n",
      " 47. run of importance source...\n",
      " 48. run of importance source...\n",
      " 49. run of importance source...\n",
      " 50. run of importance source...\n",
      " 51. run of importance source...\n",
      " 52. run of importance source...\n",
      " 53. run of importance source...\n",
      " 54. run of importance source...\n",
      " 55. run of importance source...\n",
      " 56. run of importance source...\n",
      " 57. run of importance source...\n",
      " 58. run of importance source...\n",
      " 59. run of importance source...\n",
      " 60. run of importance source...\n",
      " 61. run of importance source...\n",
      " 62. run of importance source...\n",
      " 63. run of importance source...\n",
      " 64. run of importance source...\n",
      " 65. run of importance source...\n",
      " 66. run of importance source...\n",
      " 67. run of importance source...\n",
      " 68. run of importance source...\n",
      " 69. run of importance source...\n",
      " 70. run of importance source...\n",
      " 71. run of importance source...\n",
      " 72. run of importance source...\n",
      " 73. run of importance source...\n",
      " 74. run of importance source...\n",
      " 75. run of importance source...\n",
      " 76. run of importance source...\n",
      " 77. run of importance source...\n",
      " 78. run of importance source...\n",
      " 79. run of importance source...\n",
      " 80. run of importance source...\n",
      " 81. run of importance source...\n",
      " 82. run of importance source...\n",
      " 83. run of importance source...\n",
      " 84. run of importance source...\n",
      " 85. run of importance source...\n",
      " 86. run of importance source...\n",
      "After 86 iterations, +3.1 mins: \n",
      " confirmed 1 attribute: SOHLH2;\n",
      " still have 7 attributes left.\n",
      "\n",
      " 87. run of importance source...\n",
      " 88. run of importance source...\n",
      "After 88 iterations, +3.1 mins: \n",
      " confirmed 3 attributes: CLCN6, PCA3, SPAG5;\n",
      " still have 4 attributes left.\n",
      "\n",
      " 89. run of importance source...\n",
      " 90. run of importance source...\n",
      " 91. run of importance source...\n",
      " 92. run of importance source...\n",
      " 93. run of importance source...\n",
      " 94. run of importance source...\n",
      "After 94 iterations, +3.1 mins: \n",
      " confirmed 1 attribute: RIPPLY3;\n",
      " still have 3 attributes left.\n",
      "\n",
      " 95. run of importance source...\n",
      " 96. run of importance source...\n",
      "After 96 iterations, +3.1 mins: \n",
      " confirmed 1 attribute: PAQR6;\n",
      " still have 2 attributes left.\n",
      "\n",
      " 97. run of importance source...\n",
      " 98. run of importance source...\n",
      " 99. run of importance source...\n"
     ]
    },
    {
     "name": "stdout",
     "output_type": "stream",
     "text": [
      "\n",
      "Drug10: Boruta is running for 17-AAG"
     ]
    },
    {
     "name": "stderr",
     "output_type": "stream",
     "text": [
      " 1. run of importance source...\n",
      " 2. run of importance source...\n",
      " 3. run of importance source...\n",
      " 4. run of importance source...\n",
      " 5. run of importance source...\n",
      " 6. run of importance source...\n",
      " 7. run of importance source...\n",
      " 8. run of importance source...\n",
      " 9. run of importance source...\n",
      " 10. run of importance source...\n",
      " 11. run of importance source...\n",
      " 12. run of importance source...\n",
      " 13. run of importance source...\n",
      " 14. run of importance source...\n",
      " 15. run of importance source...\n",
      " 16. run of importance source...\n",
      " 17. run of importance source...\n",
      " 18. run of importance source...\n",
      " 19. run of importance source...\n",
      " 20. run of importance source...\n",
      " 21. run of importance source...\n",
      "After 21 iterations, +3.4 mins: \n",
      " rejected 20143 attributes: A1BG, A1BG-AS1, A1CF, A2M, A2M-AS1 and 20138 more;\n",
      " still have 31 attributes left.\n",
      "\n",
      " 22. run of importance source...\n",
      " 23. run of importance source...\n",
      " 24. run of importance source...\n",
      " 25. run of importance source...\n",
      " 26. run of importance source...\n",
      "After 26 iterations, +3.4 mins: \n",
      " rejected 12 attributes: ARHGEF15, EIF2AK2, MZT1, PHF12, PLBD2 and 7 more;\n",
      " still have 19 attributes left.\n",
      "\n",
      " 27. run of importance source...\n",
      " 28. run of importance source...\n",
      " 29. run of importance source...\n",
      " 30. run of importance source...\n",
      "After 30 iterations, +3.4 mins: \n",
      " rejected 2 attributes: FAM13B-AS1, NPTN;\n",
      " still have 17 attributes left.\n",
      "\n",
      " 31. run of importance source...\n",
      " 32. run of importance source...\n",
      " 33. run of importance source...\n",
      " 34. run of importance source...\n",
      " 35. run of importance source...\n",
      " 36. run of importance source...\n",
      " 37. run of importance source...\n",
      " 38. run of importance source...\n",
      " 39. run of importance source...\n",
      " 40. run of importance source...\n",
      " 41. run of importance source...\n",
      " 42. run of importance source...\n",
      " 43. run of importance source...\n",
      " 44. run of importance source...\n",
      " 45. run of importance source...\n",
      " 46. run of importance source...\n",
      " 47. run of importance source...\n",
      " 48. run of importance source...\n",
      " 49. run of importance source...\n",
      " 50. run of importance source...\n",
      " 51. run of importance source...\n",
      " 52. run of importance source...\n",
      " 53. run of importance source...\n",
      " 54. run of importance source...\n",
      " 55. run of importance source...\n",
      " 56. run of importance source...\n",
      " 57. run of importance source...\n",
      " 58. run of importance source...\n",
      " 59. run of importance source...\n",
      " 60. run of importance source...\n",
      " 61. run of importance source...\n",
      " 62. run of importance source...\n",
      " 63. run of importance source...\n",
      " 64. run of importance source...\n",
      " 65. run of importance source...\n",
      " 66. run of importance source...\n",
      " 67. run of importance source...\n",
      " 68. run of importance source...\n",
      " 69. run of importance source...\n",
      " 70. run of importance source...\n",
      " 71. run of importance source...\n",
      " 72. run of importance source...\n",
      " 73. run of importance source...\n",
      " 74. run of importance source...\n",
      " 75. run of importance source...\n",
      " 76. run of importance source...\n",
      " 77. run of importance source...\n",
      " 78. run of importance source...\n",
      " 79. run of importance source...\n",
      " 80. run of importance source...\n",
      " 81. run of importance source...\n",
      " 82. run of importance source...\n",
      " 83. run of importance source...\n",
      "After 83 iterations, +3.5 mins: \n",
      " confirmed 1 attribute: FADD;\n",
      " still have 16 attributes left.\n",
      "\n",
      " 84. run of importance source...\n",
      " 85. run of importance source...\n",
      " 86. run of importance source...\n",
      "After 86 iterations, +3.5 mins: \n",
      " confirmed 3 attributes: AIFM2, LOC105374809, TFDP2;\n",
      " still have 13 attributes left.\n",
      "\n",
      " 87. run of importance source...\n",
      " 88. run of importance source...\n",
      "After 88 iterations, +3.5 mins: \n",
      " confirmed 2 attributes: DIO1, ZNF584;\n",
      " still have 11 attributes left.\n",
      "\n",
      " 89. run of importance source...\n",
      " 90. run of importance source...\n",
      " 91. run of importance source...\n",
      " 92. run of importance source...\n",
      " 93. run of importance source...\n",
      " 94. run of importance source...\n",
      " 95. run of importance source...\n",
      " 96. run of importance source...\n",
      "After 96 iterations, +3.5 mins: \n",
      " confirmed 1 attribute: ANXA2;\n",
      " still have 10 attributes left.\n",
      "\n",
      " 97. run of importance source...\n",
      " 98. run of importance source...\n",
      " 99. run of importance source...\n",
      "After 99 iterations, +3.5 mins: \n",
      " confirmed 1 attribute: LOC101928361;\n",
      " still have 9 attributes left.\n",
      "\n"
     ]
    },
    {
     "name": "stdout",
     "output_type": "stream",
     "text": [
      "\n",
      "Drug11: Boruta is running for TAE684"
     ]
    },
    {
     "name": "stderr",
     "output_type": "stream",
     "text": [
      " 1. run of importance source...\n",
      " 2. run of importance source...\n",
      " 3. run of importance source...\n",
      " 4. run of importance source...\n",
      " 5. run of importance source...\n",
      " 6. run of importance source...\n",
      " 7. run of importance source...\n",
      " 8. run of importance source...\n",
      " 9. run of importance source...\n",
      " 10. run of importance source...\n",
      " 11. run of importance source...\n",
      " 12. run of importance source...\n",
      " 13. run of importance source...\n",
      " 14. run of importance source...\n",
      " 15. run of importance source...\n",
      " 16. run of importance source...\n",
      " 17. run of importance source...\n",
      " 18. run of importance source...\n",
      " 19. run of importance source...\n",
      " 20. run of importance source...\n",
      " 21. run of importance source...\n",
      "After 21 iterations, +3.3 mins: \n",
      " rejected 20111 attributes: A1BG, A1BG-AS1, A1CF, A2M, A2M-AS1 and 20106 more;\n",
      " still have 63 attributes left.\n",
      "\n",
      " 22. run of importance source...\n",
      " 23. run of importance source...\n",
      " 24. run of importance source...\n",
      " 25. run of importance source...\n",
      " 26. run of importance source...\n",
      "After 26 iterations, +3.3 mins: \n",
      " rejected 23 attributes: ATP11A, ATP6V0E2-AS1, BMP2K, CPT1A, DLX2 and 18 more;\n",
      " still have 40 attributes left.\n",
      "\n",
      " 27. run of importance source...\n",
      " 28. run of importance source...\n",
      " 29. run of importance source...\n",
      " 30. run of importance source...\n",
      "After 30 iterations, +3.3 mins: \n",
      " rejected 2 attributes: BBS10, MRPL58;\n",
      " still have 38 attributes left.\n",
      "\n",
      " 31. run of importance source...\n",
      " 32. run of importance source...\n",
      " 33. run of importance source...\n",
      " 34. run of importance source...\n",
      "After 34 iterations, +3.3 mins: \n",
      " rejected 1 attribute: TPM2;\n",
      " still have 37 attributes left.\n",
      "\n",
      " 35. run of importance source...\n",
      " 36. run of importance source...\n",
      " 37. run of importance source...\n",
      " 38. run of importance source...\n",
      " 39. run of importance source...\n",
      " 40. run of importance source...\n",
      " 41. run of importance source...\n",
      " 42. run of importance source...\n",
      " 43. run of importance source...\n",
      " 44. run of importance source...\n",
      " 45. run of importance source...\n",
      " 46. run of importance source...\n",
      " 47. run of importance source...\n",
      " 48. run of importance source...\n",
      " 49. run of importance source...\n",
      " 50. run of importance source...\n",
      " 51. run of importance source...\n",
      " 52. run of importance source...\n",
      " 53. run of importance source...\n",
      " 54. run of importance source...\n",
      " 55. run of importance source...\n",
      " 56. run of importance source...\n",
      " 57. run of importance source...\n",
      " 58. run of importance source...\n",
      " 59. run of importance source...\n",
      " 60. run of importance source...\n",
      " 61. run of importance source...\n",
      " 62. run of importance source...\n",
      " 63. run of importance source...\n",
      " 64. run of importance source...\n",
      " 65. run of importance source...\n",
      " 66. run of importance source...\n",
      " 67. run of importance source...\n",
      " 68. run of importance source...\n",
      " 69. run of importance source...\n",
      " 70. run of importance source...\n",
      " 71. run of importance source...\n",
      " 72. run of importance source...\n",
      "After 72 iterations, +3.3 mins: \n",
      " confirmed 1 attribute: RREB1;\n",
      " still have 36 attributes left.\n",
      "\n",
      " 73. run of importance source...\n",
      " 74. run of importance source...\n",
      " 75. run of importance source...\n",
      " 76. run of importance source...\n",
      " 77. run of importance source...\n",
      " 78. run of importance source...\n",
      " 79. run of importance source...\n",
      " 80. run of importance source...\n",
      "After 80 iterations, +3.3 mins: \n",
      " confirmed 1 attribute: ZNF593;\n",
      " still have 35 attributes left.\n",
      "\n",
      " 81. run of importance source...\n",
      " 82. run of importance source...\n",
      " 83. run of importance source...\n",
      "After 83 iterations, +3.3 mins: \n",
      " confirmed 1 attribute: PEDS1;\n",
      " still have 34 attributes left.\n",
      "\n",
      " 84. run of importance source...\n",
      " 85. run of importance source...\n",
      " 86. run of importance source...\n",
      "After 86 iterations, +3.4 mins: \n",
      " confirmed 1 attribute: GYG1;\n",
      " still have 33 attributes left.\n",
      "\n",
      " 87. run of importance source...\n",
      " 88. run of importance source...\n",
      "After 88 iterations, +3.4 mins: \n",
      " confirmed 1 attribute: ALG3;\n",
      " still have 32 attributes left.\n",
      "\n",
      " 89. run of importance source...\n",
      " 90. run of importance source...\n",
      " 91. run of importance source...\n",
      "After 91 iterations, +3.4 mins: \n",
      " confirmed 2 attributes: RNF10, TEX35;\n",
      " still have 30 attributes left.\n",
      "\n",
      " 92. run of importance source...\n",
      " 93. run of importance source...\n",
      " 94. run of importance source...\n",
      "After 94 iterations, +3.4 mins: \n",
      " confirmed 1 attribute: MRPL1;\n",
      " still have 29 attributes left.\n",
      "\n",
      " 95. run of importance source...\n",
      " 96. run of importance source...\n",
      " 97. run of importance source...\n",
      " 98. run of importance source...\n",
      " 99. run of importance source...\n",
      "After 99 iterations, +3.4 mins: \n",
      " confirmed 2 attributes: MIIP, PPP1R3B;\n",
      " still have 27 attributes left.\n",
      "\n"
     ]
    },
    {
     "name": "stdout",
     "output_type": "stream",
     "text": [
      "\n",
      "Drug12: Boruta is running for LBW242"
     ]
    },
    {
     "name": "stderr",
     "output_type": "stream",
     "text": [
      " 1. run of importance source...\n",
      " 2. run of importance source...\n",
      " 3. run of importance source...\n",
      " 4. run of importance source...\n",
      " 5. run of importance source...\n",
      " 6. run of importance source...\n",
      " 7. run of importance source...\n",
      " 8. run of importance source...\n",
      " 9. run of importance source...\n",
      " 10. run of importance source...\n",
      " 11. run of importance source...\n",
      " 12. run of importance source...\n",
      " 13. run of importance source...\n",
      " 14. run of importance source...\n",
      " 15. run of importance source...\n",
      " 16. run of importance source...\n",
      " 17. run of importance source...\n",
      " 18. run of importance source...\n",
      " 19. run of importance source...\n",
      " 20. run of importance source...\n",
      " 21. run of importance source...\n",
      "After 21 iterations, +2.5 mins: \n",
      " rejected 20163 attributes: A1BG, A1BG-AS1, A1CF, A2M, A2M-AS1 and 20158 more;\n",
      " still have 11 attributes left.\n",
      "\n",
      " 22. run of importance source...\n",
      " 23. run of importance source...\n",
      " 24. run of importance source...\n",
      " 25. run of importance source...\n",
      " 26. run of importance source...\n",
      " 27. run of importance source...\n",
      " 28. run of importance source...\n",
      " 29. run of importance source...\n",
      " 30. run of importance source...\n",
      "After 30 iterations, +2.5 mins: \n",
      " rejected 1 attribute: LST1;\n",
      " still have 10 attributes left.\n",
      "\n",
      " 31. run of importance source...\n",
      " 32. run of importance source...\n",
      " 33. run of importance source...\n",
      " 34. run of importance source...\n",
      " 35. run of importance source...\n",
      " 36. run of importance source...\n",
      " 37. run of importance source...\n",
      " 38. run of importance source...\n",
      " 39. run of importance source...\n",
      " 40. run of importance source...\n",
      " 41. run of importance source...\n",
      " 42. run of importance source...\n",
      " 43. run of importance source...\n",
      " 44. run of importance source...\n",
      " 45. run of importance source...\n",
      " 46. run of importance source...\n",
      " 47. run of importance source...\n",
      " 48. run of importance source...\n",
      " 49. run of importance source...\n",
      " 50. run of importance source...\n",
      " 51. run of importance source...\n",
      " 52. run of importance source...\n",
      " 53. run of importance source...\n",
      " 54. run of importance source...\n",
      " 55. run of importance source...\n",
      " 56. run of importance source...\n",
      " 57. run of importance source...\n",
      " 58. run of importance source...\n",
      " 59. run of importance source...\n",
      " 60. run of importance source...\n",
      " 61. run of importance source...\n",
      " 62. run of importance source...\n",
      " 63. run of importance source...\n",
      " 64. run of importance source...\n",
      " 65. run of importance source...\n",
      " 66. run of importance source...\n",
      " 67. run of importance source...\n",
      " 68. run of importance source...\n",
      " 69. run of importance source...\n",
      " 70. run of importance source...\n",
      " 71. run of importance source...\n",
      " 72. run of importance source...\n",
      " 73. run of importance source...\n",
      " 74. run of importance source...\n",
      " 75. run of importance source...\n",
      " 76. run of importance source...\n",
      " 77. run of importance source...\n",
      " 78. run of importance source...\n",
      " 79. run of importance source...\n",
      " 80. run of importance source...\n",
      " 81. run of importance source...\n",
      " 82. run of importance source...\n",
      " 83. run of importance source...\n",
      " 84. run of importance source...\n",
      " 85. run of importance source...\n",
      " 86. run of importance source...\n",
      "After 86 iterations, +2.5 mins: \n",
      " confirmed 4 attributes: ARRDC1-AS1, HK2, LOC107986777, TMEM161A;\n",
      " still have 6 attributes left.\n",
      "\n",
      " 87. run of importance source...\n",
      " 88. run of importance source...\n",
      "After 88 iterations, +2.5 mins: \n",
      " confirmed 1 attribute: LCE2B;\n",
      " still have 5 attributes left.\n",
      "\n",
      " 89. run of importance source...\n",
      " 90. run of importance source...\n",
      " 91. run of importance source...\n",
      "After 91 iterations, +2.5 mins: \n",
      " confirmed 1 attribute: AXIN1;\n",
      " still have 4 attributes left.\n",
      "\n",
      " 92. run of importance source...\n",
      " 93. run of importance source...\n",
      " 94. run of importance source...\n",
      " 95. run of importance source...\n",
      " 96. run of importance source...\n",
      " 97. run of importance source...\n",
      " 98. run of importance source...\n",
      " 99. run of importance source...\n"
     ]
    },
    {
     "name": "stdout",
     "output_type": "stream",
     "text": [
      "\n",
      "Drug13: Boruta is running for AEW541"
     ]
    },
    {
     "name": "stderr",
     "output_type": "stream",
     "text": [
      " 1. run of importance source...\n",
      " 2. run of importance source...\n",
      " 3. run of importance source...\n",
      " 4. run of importance source...\n",
      " 5. run of importance source...\n",
      " 6. run of importance source...\n",
      " 7. run of importance source...\n",
      " 8. run of importance source...\n",
      " 9. run of importance source...\n",
      " 10. run of importance source...\n",
      " 11. run of importance source...\n",
      " 12. run of importance source...\n",
      " 13. run of importance source...\n",
      " 14. run of importance source...\n",
      " 15. run of importance source...\n",
      " 16. run of importance source...\n",
      " 17. run of importance source...\n",
      " 18. run of importance source...\n",
      " 19. run of importance source...\n",
      " 20. run of importance source...\n",
      " 21. run of importance source...\n",
      "After 21 iterations, +3 mins: \n",
      " rejected 20127 attributes: A1BG, A1BG-AS1, A1CF, A2M, A2M-AS1 and 20122 more;\n",
      " still have 47 attributes left.\n",
      "\n",
      " 22. run of importance source...\n",
      " 23. run of importance source...\n",
      " 24. run of importance source...\n",
      " 25. run of importance source...\n",
      " 26. run of importance source...\n",
      "After 26 iterations, +3 mins: \n",
      " rejected 5 attributes: FZD1, HCST, KLF2, PIGS, RGPD4-AS1;\n",
      " still have 42 attributes left.\n",
      "\n",
      " 27. run of importance source...\n",
      " 28. run of importance source...\n",
      " 29. run of importance source...\n",
      " 30. run of importance source...\n",
      " 31. run of importance source...\n",
      " 32. run of importance source...\n",
      " 33. run of importance source...\n",
      " 34. run of importance source...\n",
      "After 34 iterations, +3 mins: \n",
      " rejected 1 attribute: SSBP2;\n",
      " still have 41 attributes left.\n",
      "\n",
      " 35. run of importance source...\n",
      " 36. run of importance source...\n",
      " 37. run of importance source...\n",
      " 38. run of importance source...\n",
      "After 38 iterations, +3 mins: \n",
      " rejected 1 attribute: LINC01333;\n",
      " still have 40 attributes left.\n",
      "\n",
      " 39. run of importance source...\n",
      " 40. run of importance source...\n",
      " 41. run of importance source...\n",
      "After 41 iterations, +3 mins: \n",
      " rejected 1 attribute: RPA4;\n",
      " still have 39 attributes left.\n",
      "\n",
      " 42. run of importance source...\n",
      " 43. run of importance source...\n",
      " 44. run of importance source...\n",
      " 45. run of importance source...\n",
      " 46. run of importance source...\n",
      " 47. run of importance source...\n",
      " 48. run of importance source...\n",
      " 49. run of importance source...\n",
      " 50. run of importance source...\n",
      " 51. run of importance source...\n",
      " 52. run of importance source...\n",
      " 53. run of importance source...\n",
      " 54. run of importance source...\n",
      " 55. run of importance source...\n",
      " 56. run of importance source...\n",
      " 57. run of importance source...\n",
      "After 57 iterations, +3 mins: \n",
      " rejected 2 attributes: ADGRF3, GAS6;\n",
      " still have 37 attributes left.\n",
      "\n",
      " 58. run of importance source...\n",
      " 59. run of importance source...\n",
      " 60. run of importance source...\n",
      " 61. run of importance source...\n",
      " 62. run of importance source...\n",
      " 63. run of importance source...\n",
      " 64. run of importance source...\n",
      " 65. run of importance source...\n",
      " 66. run of importance source...\n",
      " 67. run of importance source...\n",
      " 68. run of importance source...\n",
      " 69. run of importance source...\n",
      " 70. run of importance source...\n",
      " 71. run of importance source...\n",
      " 72. run of importance source...\n",
      " 73. run of importance source...\n",
      " 74. run of importance source...\n",
      " 75. run of importance source...\n",
      " 76. run of importance source...\n",
      " 77. run of importance source...\n",
      " 78. run of importance source...\n",
      " 79. run of importance source...\n",
      " 80. run of importance source...\n",
      "After 80 iterations, +3.1 mins: \n",
      " confirmed 1 attribute: RNF122;\n",
      " still have 36 attributes left.\n",
      "\n",
      " 81. run of importance source...\n",
      " 82. run of importance source...\n",
      " 83. run of importance source...\n",
      "After 83 iterations, +3.1 mins: \n",
      " confirmed 1 attribute: CORO1A;\n",
      " still have 35 attributes left.\n",
      "\n",
      " 84. run of importance source...\n",
      " 85. run of importance source...\n",
      " 86. run of importance source...\n",
      "After 86 iterations, +3.1 mins: \n",
      " confirmed 3 attributes: APOL3, TM9SF4, USP16;\n",
      " still have 32 attributes left.\n",
      "\n",
      " 87. run of importance source...\n",
      " 88. run of importance source...\n",
      "After 88 iterations, +3.1 mins: \n",
      " confirmed 3 attributes: MTF1, PTPRCAP, SNX18;\n",
      " still have 29 attributes left.\n",
      "\n",
      " 89. run of importance source...\n",
      " 90. run of importance source...\n",
      " 91. run of importance source...\n",
      " 92. run of importance source...\n",
      " 93. run of importance source...\n",
      " 94. run of importance source...\n",
      "After 94 iterations, +3.1 mins: \n",
      " confirmed 2 attributes: ARRDC3, TMEM208;\n",
      " still have 27 attributes left.\n",
      "\n",
      " 95. run of importance source...\n",
      " 96. run of importance source...\n",
      "After 96 iterations, +3.1 mins: \n",
      " confirmed 1 attribute: RTRAF;\n",
      " still have 26 attributes left.\n",
      "\n",
      " 97. run of importance source...\n",
      " 98. run of importance source...\n",
      " 99. run of importance source...\n",
      "After 99 iterations, +3.1 mins: \n",
      " confirmed 1 attribute: PRDM4;\n",
      " still have 25 attributes left.\n",
      "\n"
     ]
    },
    {
     "name": "stdout",
     "output_type": "stream",
     "text": [
      "\n",
      "Drug14: Boruta is running for Paclitaxel"
     ]
    },
    {
     "name": "stderr",
     "output_type": "stream",
     "text": [
      " 1. run of importance source...\n",
      " 2. run of importance source...\n",
      " 3. run of importance source...\n",
      " 4. run of importance source...\n",
      " 5. run of importance source...\n",
      " 6. run of importance source...\n",
      " 7. run of importance source...\n",
      " 8. run of importance source...\n",
      " 9. run of importance source...\n",
      " 10. run of importance source...\n",
      " 11. run of importance source...\n",
      " 12. run of importance source...\n",
      " 13. run of importance source...\n",
      " 14. run of importance source...\n",
      " 15. run of importance source...\n",
      " 16. run of importance source...\n",
      " 17. run of importance source...\n",
      " 18. run of importance source...\n",
      " 19. run of importance source...\n",
      " 20. run of importance source...\n",
      " 21. run of importance source...\n",
      "After 21 iterations, +3.8 mins: \n",
      " rejected 20141 attributes: A1BG, A1BG-AS1, A1CF, A2M, A2M-AS1 and 20136 more;\n",
      " still have 33 attributes left.\n",
      "\n",
      " 22. run of importance source...\n",
      " 23. run of importance source...\n",
      " 24. run of importance source...\n",
      " 25. run of importance source...\n",
      " 26. run of importance source...\n",
      "After 26 iterations, +3.8 mins: \n",
      " rejected 16 attributes: ASPHD2, BRPF1, CFAP43, KHK, LOC105370002 and 11 more;\n",
      " still have 17 attributes left.\n",
      "\n",
      " 27. run of importance source...\n",
      " 28. run of importance source...\n",
      " 29. run of importance source...\n",
      " 30. run of importance source...\n",
      "After 30 iterations, +3.8 mins: \n",
      " rejected 5 attributes: CYP4Z1, ENDOU, HSPA2-AS1, KRT76, RPS6KA4;\n",
      " still have 12 attributes left.\n",
      "\n",
      " 31. run of importance source...\n",
      " 32. run of importance source...\n",
      " 33. run of importance source...\n",
      " 34. run of importance source...\n",
      "After 34 iterations, +3.8 mins: \n",
      " rejected 7 attributes: ARID2, DNAJC21, DUSP8, IDH3A, LOC101928557 and 2 more;\n",
      " still have 5 attributes left.\n",
      "\n",
      " 35. run of importance source...\n",
      " 36. run of importance source...\n",
      " 37. run of importance source...\n",
      " 38. run of importance source...\n",
      "After 38 iterations, +3.8 mins: \n",
      " rejected 1 attribute: ACP4;\n",
      " still have 4 attributes left.\n",
      "\n",
      " 39. run of importance source...\n",
      " 40. run of importance source...\n",
      " 41. run of importance source...\n",
      " 42. run of importance source...\n",
      " 43. run of importance source...\n",
      " 44. run of importance source...\n",
      " 45. run of importance source...\n",
      " 46. run of importance source...\n",
      " 47. run of importance source...\n",
      " 48. run of importance source...\n",
      " 49. run of importance source...\n",
      " 50. run of importance source...\n",
      " 51. run of importance source...\n",
      " 52. run of importance source...\n",
      " 53. run of importance source...\n",
      " 54. run of importance source...\n",
      " 55. run of importance source...\n",
      " 56. run of importance source...\n",
      " 57. run of importance source...\n",
      " 58. run of importance source...\n",
      " 59. run of importance source...\n",
      " 60. run of importance source...\n",
      " 61. run of importance source...\n",
      " 62. run of importance source...\n",
      " 63. run of importance source...\n",
      " 64. run of importance source...\n",
      " 65. run of importance source...\n",
      " 66. run of importance source...\n",
      " 67. run of importance source...\n",
      " 68. run of importance source...\n",
      " 69. run of importance source...\n",
      " 70. run of importance source...\n",
      " 71. run of importance source...\n",
      " 72. run of importance source...\n",
      " 73. run of importance source...\n",
      " 74. run of importance source...\n",
      " 75. run of importance source...\n",
      " 76. run of importance source...\n",
      " 77. run of importance source...\n",
      " 78. run of importance source...\n",
      " 79. run of importance source...\n",
      " 80. run of importance source...\n",
      " 81. run of importance source...\n",
      " 82. run of importance source...\n",
      " 83. run of importance source...\n",
      " 84. run of importance source...\n",
      " 85. run of importance source...\n",
      " 86. run of importance source...\n",
      " 87. run of importance source...\n",
      " 88. run of importance source...\n",
      " 89. run of importance source...\n",
      " 90. run of importance source...\n",
      " 91. run of importance source...\n",
      " 92. run of importance source...\n",
      " 93. run of importance source...\n",
      " 94. run of importance source...\n",
      " 95. run of importance source...\n",
      " 96. run of importance source...\n",
      " 97. run of importance source...\n",
      " 98. run of importance source...\n",
      " 99. run of importance source...\n"
     ]
    },
    {
     "name": "stdout",
     "output_type": "stream",
     "text": [
      "\n",
      "Drug15: Boruta is running for ZD-6474"
     ]
    },
    {
     "name": "stderr",
     "output_type": "stream",
     "text": [
      " 1. run of importance source...\n",
      " 2. run of importance source...\n",
      " 3. run of importance source...\n",
      " 4. run of importance source...\n",
      " 5. run of importance source...\n",
      " 6. run of importance source...\n",
      " 7. run of importance source...\n",
      " 8. run of importance source...\n",
      " 9. run of importance source...\n",
      " 10. run of importance source...\n",
      " 11. run of importance source...\n",
      " 12. run of importance source...\n",
      " 13. run of importance source...\n",
      " 14. run of importance source...\n",
      " 15. run of importance source...\n",
      " 16. run of importance source...\n",
      " 17. run of importance source...\n",
      " 18. run of importance source...\n",
      " 19. run of importance source...\n",
      " 20. run of importance source...\n",
      " 21. run of importance source...\n",
      "After 21 iterations, +3 mins: \n",
      " rejected 20159 attributes: A1BG, A1BG-AS1, A1CF, A2M, A2M-AS1 and 20154 more;\n",
      " still have 15 attributes left.\n",
      "\n",
      " 22. run of importance source...\n",
      " 23. run of importance source...\n",
      " 24. run of importance source...\n",
      " 25. run of importance source...\n",
      " 26. run of importance source...\n",
      " 27. run of importance source...\n",
      " 28. run of importance source...\n",
      " 29. run of importance source...\n",
      " 30. run of importance source...\n",
      " 31. run of importance source...\n",
      " 32. run of importance source...\n",
      " 33. run of importance source...\n",
      " 34. run of importance source...\n",
      " 35. run of importance source...\n",
      " 36. run of importance source...\n",
      " 37. run of importance source...\n",
      " 38. run of importance source...\n",
      " 39. run of importance source...\n",
      " 40. run of importance source...\n",
      " 41. run of importance source...\n",
      " 42. run of importance source...\n",
      " 43. run of importance source...\n",
      " 44. run of importance source...\n",
      " 45. run of importance source...\n",
      " 46. run of importance source...\n",
      " 47. run of importance source...\n",
      " 48. run of importance source...\n",
      " 49. run of importance source...\n",
      " 50. run of importance source...\n",
      " 51. run of importance source...\n",
      " 52. run of importance source...\n",
      " 53. run of importance source...\n",
      " 54. run of importance source...\n",
      " 55. run of importance source...\n",
      " 56. run of importance source...\n",
      " 57. run of importance source...\n",
      " 58. run of importance source...\n",
      " 59. run of importance source...\n",
      " 60. run of importance source...\n",
      " 61. run of importance source...\n",
      " 62. run of importance source...\n",
      " 63. run of importance source...\n",
      " 64. run of importance source...\n",
      " 65. run of importance source...\n",
      " 66. run of importance source...\n",
      " 67. run of importance source...\n",
      " 68. run of importance source...\n",
      " 69. run of importance source...\n",
      " 70. run of importance source...\n",
      " 71. run of importance source...\n",
      " 72. run of importance source...\n",
      " 73. run of importance source...\n",
      " 74. run of importance source...\n",
      " 75. run of importance source...\n",
      " 76. run of importance source...\n",
      " 77. run of importance source...\n",
      "After 77 iterations, +3.1 mins: \n",
      " confirmed 1 attribute: PASK;\n",
      " still have 14 attributes left.\n",
      "\n",
      " 78. run of importance source...\n",
      " 79. run of importance source...\n",
      " 80. run of importance source...\n",
      " 81. run of importance source...\n",
      " 82. run of importance source...\n",
      " 83. run of importance source...\n",
      "After 83 iterations, +3.1 mins: \n",
      " confirmed 2 attributes: C1orf54, ZNF124;\n",
      " still have 12 attributes left.\n",
      "\n",
      " 84. run of importance source...\n",
      " 85. run of importance source...\n",
      " 86. run of importance source...\n",
      "After 86 iterations, +3.1 mins: \n",
      " confirmed 3 attributes: DDX25, MORF4L2, ODR4;\n",
      " still have 9 attributes left.\n",
      "\n",
      " 87. run of importance source...\n",
      " 88. run of importance source...\n",
      "After 88 iterations, +3.1 mins: \n",
      " confirmed 1 attribute: RLN1;\n",
      " still have 8 attributes left.\n",
      "\n",
      " 89. run of importance source...\n",
      " 90. run of importance source...\n",
      " 91. run of importance source...\n",
      " 92. run of importance source...\n",
      " 93. run of importance source...\n",
      " 94. run of importance source...\n",
      " 95. run of importance source...\n",
      " 96. run of importance source...\n",
      "After 96 iterations, +3.1 mins: \n",
      " confirmed 2 attributes: C4orf19, MIR3681HG;\n",
      " still have 6 attributes left.\n",
      "\n",
      " 97. run of importance source...\n",
      " 98. run of importance source...\n",
      " 99. run of importance source...\n",
      "After 99 iterations, +3.1 mins: \n",
      " confirmed 1 attribute: ZNF827;\n",
      " still have 5 attributes left.\n",
      "\n"
     ]
    },
    {
     "name": "stdout",
     "output_type": "stream",
     "text": [
      "\n",
      "Drug16: Boruta is running for Sorafenib"
     ]
    },
    {
     "name": "stderr",
     "output_type": "stream",
     "text": [
      " 1. run of importance source...\n",
      " 2. run of importance source...\n",
      " 3. run of importance source...\n",
      " 4. run of importance source...\n",
      " 5. run of importance source...\n",
      " 6. run of importance source...\n",
      " 7. run of importance source...\n",
      " 8. run of importance source...\n",
      " 9. run of importance source...\n",
      " 10. run of importance source...\n",
      " 11. run of importance source...\n",
      " 12. run of importance source...\n",
      " 13. run of importance source...\n",
      " 14. run of importance source...\n",
      " 15. run of importance source...\n",
      " 16. run of importance source...\n",
      " 17. run of importance source...\n",
      " 18. run of importance source...\n",
      " 19. run of importance source...\n",
      " 20. run of importance source...\n",
      " 21. run of importance source...\n",
      "After 21 iterations, +3.2 mins: \n",
      " rejected 20149 attributes: A1BG, A1BG-AS1, A1CF, A2M, A2M-AS1 and 20144 more;\n",
      " still have 25 attributes left.\n",
      "\n",
      " 22. run of importance source...\n",
      " 23. run of importance source...\n",
      " 24. run of importance source...\n",
      " 25. run of importance source...\n",
      " 26. run of importance source...\n",
      "After 26 iterations, +3.2 mins: \n",
      " rejected 4 attributes: HMGB4, IL10RA, PAXIP1, ZNF562;\n",
      " still have 21 attributes left.\n",
      "\n",
      " 27. run of importance source...\n",
      " 28. run of importance source...\n",
      " 29. run of importance source...\n",
      " 30. run of importance source...\n",
      "After 30 iterations, +3.2 mins: \n",
      " rejected 2 attributes: NETO2, ORC2;\n",
      " still have 19 attributes left.\n",
      "\n",
      " 31. run of importance source...\n",
      " 32. run of importance source...\n",
      " 33. run of importance source...\n",
      " 34. run of importance source...\n",
      " 35. run of importance source...\n",
      " 36. run of importance source...\n",
      " 37. run of importance source...\n",
      " 38. run of importance source...\n",
      "After 38 iterations, +3.2 mins: \n",
      " rejected 1 attribute: BBS4;\n",
      " still have 18 attributes left.\n",
      "\n",
      " 39. run of importance source...\n",
      " 40. run of importance source...\n",
      " 41. run of importance source...\n",
      " 42. run of importance source...\n",
      " 43. run of importance source...\n",
      " 44. run of importance source...\n",
      " 45. run of importance source...\n",
      " 46. run of importance source...\n",
      " 47. run of importance source...\n",
      " 48. run of importance source...\n",
      " 49. run of importance source...\n",
      " 50. run of importance source...\n",
      " 51. run of importance source...\n",
      " 52. run of importance source...\n",
      " 53. run of importance source...\n",
      " 54. run of importance source...\n",
      " 55. run of importance source...\n",
      " 56. run of importance source...\n",
      " 57. run of importance source...\n",
      " 58. run of importance source...\n",
      " 59. run of importance source...\n",
      " 60. run of importance source...\n",
      " 61. run of importance source...\n",
      " 62. run of importance source...\n",
      " 63. run of importance source...\n",
      " 64. run of importance source...\n",
      " 65. run of importance source...\n",
      " 66. run of importance source...\n",
      " 67. run of importance source...\n",
      " 68. run of importance source...\n",
      " 69. run of importance source...\n",
      " 70. run of importance source...\n",
      " 71. run of importance source...\n",
      " 72. run of importance source...\n",
      " 73. run of importance source...\n",
      " 74. run of importance source...\n",
      " 75. run of importance source...\n",
      " 76. run of importance source...\n",
      " 77. run of importance source...\n",
      " 78. run of importance source...\n",
      " 79. run of importance source...\n",
      " 80. run of importance source...\n",
      "After 80 iterations, +3.2 mins: \n",
      " confirmed 1 attribute: MGAT4C;\n",
      " still have 17 attributes left.\n",
      "\n",
      " 81. run of importance source...\n",
      " 82. run of importance source...\n",
      " 83. run of importance source...\n",
      " 84. run of importance source...\n",
      " 85. run of importance source...\n",
      " 86. run of importance source...\n",
      "After 86 iterations, +3.2 mins: \n",
      " confirmed 3 attributes: KRTAP11-1, LINC00487, PEG10;\n",
      " still have 14 attributes left.\n",
      "\n",
      " 87. run of importance source...\n",
      " 88. run of importance source...\n",
      "After 88 iterations, +3.2 mins: \n",
      " confirmed 2 attributes: LDLRAD4-AS1, MFF;\n",
      " still have 12 attributes left.\n",
      "\n",
      " 89. run of importance source...\n",
      " 90. run of importance source...\n",
      " 91. run of importance source...\n",
      " 92. run of importance source...\n",
      " 93. run of importance source...\n",
      " 94. run of importance source...\n",
      "After 94 iterations, +3.2 mins: \n",
      " confirmed 1 attribute: POLN;\n",
      " still have 11 attributes left.\n",
      "\n",
      " 95. run of importance source...\n",
      " 96. run of importance source...\n",
      "After 96 iterations, +3.2 mins: \n",
      " confirmed 1 attribute: AKAP13;\n",
      " rejected 1 attribute: AURKA;\n",
      " still have 9 attributes left.\n",
      "\n",
      " 97. run of importance source...\n",
      " 98. run of importance source...\n",
      " 99. run of importance source...\n"
     ]
    },
    {
     "name": "stdout",
     "output_type": "stream",
     "text": [
      "\n",
      "Drug17: Boruta is running for Topotecan"
     ]
    },
    {
     "name": "stderr",
     "output_type": "stream",
     "text": [
      " 1. run of importance source...\n",
      " 2. run of importance source...\n",
      " 3. run of importance source...\n",
      " 4. run of importance source...\n",
      " 5. run of importance source...\n",
      " 6. run of importance source...\n",
      " 7. run of importance source...\n",
      " 8. run of importance source...\n",
      " 9. run of importance source...\n",
      " 10. run of importance source...\n",
      " 11. run of importance source...\n",
      " 12. run of importance source...\n",
      " 13. run of importance source...\n",
      " 14. run of importance source...\n",
      " 15. run of importance source...\n",
      " 16. run of importance source...\n",
      " 17. run of importance source...\n",
      " 18. run of importance source...\n",
      " 19. run of importance source...\n",
      " 20. run of importance source...\n",
      " 21. run of importance source...\n",
      "After 21 iterations, +3.6 mins: \n",
      " rejected 20143 attributes: A1BG, A1BG-AS1, A1CF, A2M, A2M-AS1 and 20138 more;\n",
      " still have 31 attributes left.\n",
      "\n",
      " 22. run of importance source...\n",
      " 23. run of importance source...\n",
      " 24. run of importance source...\n",
      " 25. run of importance source...\n",
      " 26. run of importance source...\n",
      "After 26 iterations, +3.6 mins: \n",
      " rejected 9 attributes: CDK1, EZHIP, KLHDC4, LHCGR, LOC100505728 and 4 more;\n",
      " still have 22 attributes left.\n",
      "\n",
      " 27. run of importance source...\n",
      " 28. run of importance source...\n",
      " 29. run of importance source...\n",
      " 30. run of importance source...\n",
      "After 30 iterations, +3.6 mins: \n",
      " rejected 4 attributes: FES, LOC339975, NGF, VPS54;\n",
      " still have 18 attributes left.\n",
      "\n",
      " 31. run of importance source...\n",
      " 32. run of importance source...\n",
      " 33. run of importance source...\n",
      " 34. run of importance source...\n",
      " 35. run of importance source...\n",
      " 36. run of importance source...\n",
      " 37. run of importance source...\n",
      " 38. run of importance source...\n",
      " 39. run of importance source...\n",
      " 40. run of importance source...\n",
      " 41. run of importance source...\n",
      " 42. run of importance source...\n",
      " 43. run of importance source...\n",
      " 44. run of importance source...\n",
      " 45. run of importance source...\n",
      " 46. run of importance source...\n",
      " 47. run of importance source...\n",
      " 48. run of importance source...\n",
      " 49. run of importance source...\n",
      " 50. run of importance source...\n",
      " 51. run of importance source...\n",
      "After 51 iterations, +3.6 mins: \n",
      " rejected 1 attribute: GDAP1;\n",
      " still have 17 attributes left.\n",
      "\n",
      " 52. run of importance source...\n",
      " 53. run of importance source...\n",
      " 54. run of importance source...\n",
      " 55. run of importance source...\n",
      " 56. run of importance source...\n",
      " 57. run of importance source...\n",
      " 58. run of importance source...\n",
      " 59. run of importance source...\n",
      " 60. run of importance source...\n",
      " 61. run of importance source...\n",
      " 62. run of importance source...\n",
      " 63. run of importance source...\n",
      " 64. run of importance source...\n",
      " 65. run of importance source...\n",
      " 66. run of importance source...\n",
      " 67. run of importance source...\n",
      " 68. run of importance source...\n",
      " 69. run of importance source...\n",
      " 70. run of importance source...\n",
      " 71. run of importance source...\n",
      " 72. run of importance source...\n",
      " 73. run of importance source...\n",
      " 74. run of importance source...\n",
      " 75. run of importance source...\n",
      " 76. run of importance source...\n",
      " 77. run of importance source...\n",
      " 78. run of importance source...\n",
      " 79. run of importance source...\n",
      " 80. run of importance source...\n",
      " 81. run of importance source...\n",
      " 82. run of importance source...\n",
      " 83. run of importance source...\n",
      "After 83 iterations, +3.6 mins: \n",
      " confirmed 1 attribute: ARRDC3;\n",
      " still have 16 attributes left.\n",
      "\n",
      " 84. run of importance source...\n",
      " 85. run of importance source...\n",
      " 86. run of importance source...\n",
      "After 86 iterations, +3.6 mins: \n",
      " confirmed 2 attributes: TSPAN1, ZNF675;\n",
      " still have 14 attributes left.\n",
      "\n",
      " 87. run of importance source...\n",
      " 88. run of importance source...\n",
      "After 88 iterations, +3.6 mins: \n",
      " confirmed 1 attribute: SETBP1;\n",
      " still have 13 attributes left.\n",
      "\n",
      " 89. run of importance source...\n",
      " 90. run of importance source...\n",
      " 91. run of importance source...\n",
      "After 91 iterations, +3.6 mins: \n",
      " confirmed 1 attribute: DPPA5;\n",
      " still have 12 attributes left.\n",
      "\n",
      " 92. run of importance source...\n",
      " 93. run of importance source...\n",
      " 94. run of importance source...\n",
      "After 94 iterations, +3.6 mins: \n",
      " confirmed 1 attribute: PCDHB3;\n",
      " still have 11 attributes left.\n",
      "\n",
      " 95. run of importance source...\n",
      " 96. run of importance source...\n",
      " 97. run of importance source...\n",
      " 98. run of importance source...\n",
      " 99. run of importance source...\n",
      "After 99 iterations, +3.6 mins: \n",
      " confirmed 1 attribute: EPHX1;\n",
      " still have 10 attributes left.\n",
      "\n"
     ]
    },
    {
     "name": "stdout",
     "output_type": "stream",
     "text": [
      "\n",
      "Drug18: Boruta is running for AZD6244"
     ]
    },
    {
     "name": "stderr",
     "output_type": "stream",
     "text": [
      " 1. run of importance source...\n",
      " 2. run of importance source...\n",
      " 3. run of importance source...\n",
      " 4. run of importance source...\n",
      " 5. run of importance source...\n",
      " 6. run of importance source...\n",
      " 7. run of importance source...\n",
      " 8. run of importance source...\n",
      " 9. run of importance source...\n",
      " 10. run of importance source...\n",
      " 11. run of importance source...\n",
      " 12. run of importance source...\n",
      " 13. run of importance source...\n",
      " 14. run of importance source...\n",
      " 15. run of importance source...\n",
      " 16. run of importance source...\n",
      " 17. run of importance source...\n",
      " 18. run of importance source...\n",
      " 19. run of importance source...\n",
      " 20. run of importance source...\n",
      " 21. run of importance source...\n",
      "After 21 iterations, +2.5 mins: \n",
      " rejected 20156 attributes: A1BG, A1BG-AS1, A1CF, A2M, A2M-AS1 and 20151 more;\n",
      " still have 18 attributes left.\n",
      "\n",
      " 22. run of importance source...\n",
      " 23. run of importance source...\n",
      " 24. run of importance source...\n",
      " 25. run of importance source...\n",
      " 26. run of importance source...\n",
      "After 26 iterations, +2.5 mins: \n",
      " rejected 1 attribute: PABIR1;\n",
      " still have 17 attributes left.\n",
      "\n",
      " 27. run of importance source...\n",
      " 28. run of importance source...\n",
      " 29. run of importance source...\n",
      " 30. run of importance source...\n",
      " 31. run of importance source...\n",
      " 32. run of importance source...\n",
      " 33. run of importance source...\n",
      " 34. run of importance source...\n",
      " 35. run of importance source...\n",
      " 36. run of importance source...\n",
      " 37. run of importance source...\n",
      " 38. run of importance source...\n",
      " 39. run of importance source...\n",
      " 40. run of importance source...\n",
      " 41. run of importance source...\n",
      " 42. run of importance source...\n",
      " 43. run of importance source...\n",
      " 44. run of importance source...\n",
      " 45. run of importance source...\n",
      " 46. run of importance source...\n",
      " 47. run of importance source...\n",
      " 48. run of importance source...\n",
      " 49. run of importance source...\n",
      " 50. run of importance source...\n",
      " 51. run of importance source...\n",
      " 52. run of importance source...\n",
      " 53. run of importance source...\n",
      " 54. run of importance source...\n",
      " 55. run of importance source...\n",
      " 56. run of importance source...\n",
      " 57. run of importance source...\n",
      " 58. run of importance source...\n",
      " 59. run of importance source...\n",
      " 60. run of importance source...\n",
      " 61. run of importance source...\n",
      " 62. run of importance source...\n",
      " 63. run of importance source...\n",
      " 64. run of importance source...\n",
      " 65. run of importance source...\n",
      " 66. run of importance source...\n",
      " 67. run of importance source...\n",
      " 68. run of importance source...\n",
      " 69. run of importance source...\n",
      " 70. run of importance source...\n",
      " 71. run of importance source...\n",
      " 72. run of importance source...\n",
      " 73. run of importance source...\n",
      " 74. run of importance source...\n",
      "After 74 iterations, +2.5 mins: \n",
      " rejected 1 attribute: NFRKB;\n",
      " still have 16 attributes left.\n",
      "\n",
      " 75. run of importance source...\n",
      " 76. run of importance source...\n",
      " 77. run of importance source...\n",
      " 78. run of importance source...\n",
      " 79. run of importance source...\n",
      " 80. run of importance source...\n",
      "After 80 iterations, +2.5 mins: \n",
      " confirmed 1 attribute: ASIC3;\n",
      " still have 15 attributes left.\n",
      "\n",
      " 81. run of importance source...\n",
      " 82. run of importance source...\n",
      " 83. run of importance source...\n",
      "After 83 iterations, +2.5 mins: \n",
      " confirmed 2 attributes: ABCA9, MIEN1;\n",
      " still have 13 attributes left.\n",
      "\n",
      " 84. run of importance source...\n",
      " 85. run of importance source...\n",
      " 86. run of importance source...\n",
      "After 86 iterations, +2.5 mins: \n",
      " confirmed 3 attributes: ASB6, STRIT1, VSIG1;\n",
      " still have 10 attributes left.\n",
      "\n",
      " 87. run of importance source...\n",
      " 88. run of importance source...\n",
      "After 88 iterations, +2.5 mins: \n",
      " confirmed 1 attribute: DSC3;\n",
      " still have 9 attributes left.\n",
      "\n",
      " 89. run of importance source...\n",
      " 90. run of importance source...\n",
      " 91. run of importance source...\n",
      " 92. run of importance source...\n",
      " 93. run of importance source...\n",
      " 94. run of importance source...\n",
      " 95. run of importance source...\n",
      " 96. run of importance source...\n",
      "After 96 iterations, +2.5 mins: \n",
      " confirmed 3 attributes: CCNDBP1, RBMS3, TUBG1;\n",
      " still have 6 attributes left.\n",
      "\n",
      " 97. run of importance source...\n",
      " 98. run of importance source...\n",
      " 99. run of importance source...\n",
      "After 99 iterations, +2.5 mins: \n",
      " confirmed 1 attribute: GTPBP2;\n",
      " still have 5 attributes left.\n",
      "\n"
     ]
    },
    {
     "name": "stdout",
     "output_type": "stream",
     "text": [
      "\n",
      "Drug19: Boruta is running for RAF265"
     ]
    },
    {
     "name": "stderr",
     "output_type": "stream",
     "text": [
      " 1. run of importance source...\n",
      " 2. run of importance source...\n",
      " 3. run of importance source...\n",
      " 4. run of importance source...\n",
      " 5. run of importance source...\n",
      " 6. run of importance source...\n",
      " 7. run of importance source...\n",
      " 8. run of importance source...\n",
      " 9. run of importance source...\n",
      " 10. run of importance source...\n",
      " 11. run of importance source...\n",
      " 12. run of importance source...\n",
      " 13. run of importance source...\n",
      " 14. run of importance source...\n",
      " 15. run of importance source...\n",
      " 16. run of importance source...\n",
      " 17. run of importance source...\n",
      " 18. run of importance source...\n",
      " 19. run of importance source...\n",
      " 20. run of importance source...\n",
      " 21. run of importance source...\n",
      "After 21 iterations, +3 mins: \n",
      " rejected 20134 attributes: A1BG, A1BG-AS1, A1CF, A2M, A2M-AS1 and 20129 more;\n",
      " still have 40 attributes left.\n",
      "\n",
      " 22. run of importance source...\n",
      " 23. run of importance source...\n",
      " 24. run of importance source...\n",
      " 25. run of importance source...\n",
      " 26. run of importance source...\n",
      "After 26 iterations, +3 mins: \n",
      " rejected 1 attribute: HIBADH;\n",
      " still have 39 attributes left.\n",
      "\n",
      " 27. run of importance source...\n",
      " 28. run of importance source...\n",
      " 29. run of importance source...\n",
      " 30. run of importance source...\n",
      "After 30 iterations, +3 mins: \n",
      " rejected 1 attribute: GJD2;\n",
      " still have 38 attributes left.\n",
      "\n",
      " 31. run of importance source...\n",
      " 32. run of importance source...\n",
      " 33. run of importance source...\n",
      " 34. run of importance source...\n",
      "After 34 iterations, +3 mins: \n",
      " rejected 3 attributes: CLPTM1, PGAP3, USP9X;\n",
      " still have 35 attributes left.\n",
      "\n",
      " 35. run of importance source...\n",
      " 36. run of importance source...\n",
      " 37. run of importance source...\n",
      " 38. run of importance source...\n",
      "After 38 iterations, +3 mins: \n",
      " rejected 2 attributes: KRTAP1-1, TRPA1;\n",
      " still have 33 attributes left.\n",
      "\n",
      " 39. run of importance source...\n",
      " 40. run of importance source...\n",
      " 41. run of importance source...\n",
      "After 41 iterations, +3 mins: \n",
      " rejected 1 attribute: LINC02603;\n",
      " still have 32 attributes left.\n",
      "\n",
      " 42. run of importance source...\n",
      " 43. run of importance source...\n",
      " 44. run of importance source...\n",
      " 45. run of importance source...\n",
      " 46. run of importance source...\n",
      " 47. run of importance source...\n",
      " 48. run of importance source...\n",
      " 49. run of importance source...\n",
      " 50. run of importance source...\n",
      " 51. run of importance source...\n",
      " 52. run of importance source...\n",
      " 53. run of importance source...\n",
      " 54. run of importance source...\n",
      " 55. run of importance source...\n",
      " 56. run of importance source...\n",
      " 57. run of importance source...\n",
      " 58. run of importance source...\n",
      " 59. run of importance source...\n",
      " 60. run of importance source...\n",
      " 61. run of importance source...\n",
      " 62. run of importance source...\n",
      " 63. run of importance source...\n",
      " 64. run of importance source...\n",
      " 65. run of importance source...\n",
      " 66. run of importance source...\n",
      " 67. run of importance source...\n",
      " 68. run of importance source...\n",
      " 69. run of importance source...\n",
      " 70. run of importance source...\n",
      " 71. run of importance source...\n",
      " 72. run of importance source...\n",
      " 73. run of importance source...\n",
      " 74. run of importance source...\n",
      " 75. run of importance source...\n",
      " 76. run of importance source...\n",
      " 77. run of importance source...\n",
      " 78. run of importance source...\n",
      " 79. run of importance source...\n",
      " 80. run of importance source...\n",
      "After 80 iterations, +3 mins: \n",
      " confirmed 2 attributes: FDPS, ZNF749;\n",
      " still have 30 attributes left.\n",
      "\n",
      " 81. run of importance source...\n",
      " 82. run of importance source...\n",
      " 83. run of importance source...\n",
      "After 83 iterations, +3 mins: \n",
      " confirmed 2 attributes: IL17RE, LINC02804;\n",
      " still have 28 attributes left.\n",
      "\n",
      " 84. run of importance source...\n",
      " 85. run of importance source...\n",
      " 86. run of importance source...\n",
      "After 86 iterations, +3 mins: \n",
      " confirmed 2 attributes: MRPL24, SCYL3;\n",
      " still have 26 attributes left.\n",
      "\n",
      " 87. run of importance source...\n",
      " 88. run of importance source...\n",
      "After 88 iterations, +3 mins: \n",
      " confirmed 2 attributes: AQP8, PIAS3;\n",
      " still have 24 attributes left.\n",
      "\n",
      " 89. run of importance source...\n",
      " 90. run of importance source...\n",
      " 91. run of importance source...\n",
      " 92. run of importance source...\n",
      " 93. run of importance source...\n",
      " 94. run of importance source...\n",
      "After 94 iterations, +3 mins: \n",
      " confirmed 4 attributes: C1orf43, OR5E1P, RCAN2, TEAD2;\n",
      " still have 20 attributes left.\n",
      "\n",
      " 95. run of importance source...\n",
      " 96. run of importance source...\n",
      " 97. run of importance source...\n",
      " 98. run of importance source...\n",
      " 99. run of importance source...\n"
     ]
    },
    {
     "name": "stdout",
     "output_type": "stream",
     "text": [
      "\n",
      "Drug20: Boruta is running for Nutlin-3"
     ]
    },
    {
     "name": "stderr",
     "output_type": "stream",
     "text": [
      " 1. run of importance source...\n",
      " 2. run of importance source...\n",
      " 3. run of importance source...\n",
      " 4. run of importance source...\n",
      " 5. run of importance source...\n",
      " 6. run of importance source...\n",
      " 7. run of importance source...\n",
      " 8. run of importance source...\n",
      " 9. run of importance source...\n",
      " 10. run of importance source...\n",
      " 11. run of importance source...\n",
      " 12. run of importance source...\n",
      " 13. run of importance source...\n",
      " 14. run of importance source...\n",
      " 15. run of importance source...\n",
      " 16. run of importance source...\n",
      " 17. run of importance source...\n",
      " 18. run of importance source...\n",
      " 19. run of importance source...\n",
      " 20. run of importance source...\n",
      " 21. run of importance source...\n",
      "After 21 iterations, +3 mins: \n",
      " rejected 20148 attributes: A1BG, A1BG-AS1, A1CF, A2M, A2M-AS1 and 20143 more;\n",
      " still have 26 attributes left.\n",
      "\n",
      " 22. run of importance source...\n",
      " 23. run of importance source...\n",
      " 24. run of importance source...\n",
      " 25. run of importance source...\n",
      " 26. run of importance source...\n",
      "After 26 iterations, +3 mins: \n",
      " rejected 3 attributes: MED28, SPTA1, UNG;\n",
      " still have 23 attributes left.\n",
      "\n",
      " 27. run of importance source...\n",
      " 28. run of importance source...\n",
      " 29. run of importance source...\n",
      " 30. run of importance source...\n",
      "After 30 iterations, +3 mins: \n",
      " rejected 4 attributes: GPN3, LINC00638, LOC101929621, PTGDR;\n",
      " still have 19 attributes left.\n",
      "\n",
      " 31. run of importance source...\n",
      " 32. run of importance source...\n",
      " 33. run of importance source...\n",
      " 34. run of importance source...\n",
      " 35. run of importance source...\n",
      " 36. run of importance source...\n",
      " 37. run of importance source...\n",
      " 38. run of importance source...\n",
      "After 38 iterations, +3 mins: \n",
      " rejected 1 attribute: SLC9A5;\n",
      " still have 18 attributes left.\n",
      "\n",
      " 39. run of importance source...\n",
      " 40. run of importance source...\n",
      " 41. run of importance source...\n",
      " 42. run of importance source...\n",
      " 43. run of importance source...\n",
      " 44. run of importance source...\n",
      " 45. run of importance source...\n",
      " 46. run of importance source...\n",
      " 47. run of importance source...\n",
      " 48. run of importance source...\n",
      " 49. run of importance source...\n",
      " 50. run of importance source...\n",
      " 51. run of importance source...\n",
      " 52. run of importance source...\n",
      " 53. run of importance source...\n",
      " 54. run of importance source...\n",
      " 55. run of importance source...\n",
      " 56. run of importance source...\n",
      " 57. run of importance source...\n",
      " 58. run of importance source...\n",
      " 59. run of importance source...\n",
      " 60. run of importance source...\n",
      " 61. run of importance source...\n",
      " 62. run of importance source...\n",
      " 63. run of importance source...\n",
      " 64. run of importance source...\n",
      " 65. run of importance source...\n",
      " 66. run of importance source...\n",
      " 67. run of importance source...\n",
      " 68. run of importance source...\n",
      " 69. run of importance source...\n",
      " 70. run of importance source...\n",
      " 71. run of importance source...\n",
      " 72. run of importance source...\n",
      " 73. run of importance source...\n",
      " 74. run of importance source...\n",
      "After 74 iterations, +3 mins: \n",
      " confirmed 1 attribute: LINC02091;\n",
      " still have 17 attributes left.\n",
      "\n",
      " 75. run of importance source...\n",
      " 76. run of importance source...\n",
      " 77. run of importance source...\n",
      " 78. run of importance source...\n",
      " 79. run of importance source...\n",
      " 80. run of importance source...\n",
      "After 80 iterations, +3 mins: \n",
      " confirmed 1 attribute: TBC1D4;\n",
      " still have 16 attributes left.\n",
      "\n",
      " 81. run of importance source...\n",
      " 82. run of importance source...\n",
      " 83. run of importance source...\n",
      "After 83 iterations, +3 mins: \n",
      " confirmed 1 attribute: TSPAN10;\n",
      " still have 15 attributes left.\n",
      "\n",
      " 84. run of importance source...\n",
      " 85. run of importance source...\n",
      " 86. run of importance source...\n",
      "After 86 iterations, +3 mins: \n",
      " confirmed 3 attributes: BOLA3, CLBA1, IGFBPL1;\n",
      " still have 12 attributes left.\n",
      "\n",
      " 87. run of importance source...\n",
      " 88. run of importance source...\n",
      " 89. run of importance source...\n",
      " 90. run of importance source...\n",
      " 91. run of importance source...\n",
      " 92. run of importance source...\n",
      " 93. run of importance source...\n",
      " 94. run of importance source...\n",
      " 95. run of importance source...\n",
      " 96. run of importance source...\n",
      "After 96 iterations, +3 mins: \n",
      " confirmed 1 attribute: UQCC2;\n",
      " still have 11 attributes left.\n",
      "\n",
      " 97. run of importance source...\n",
      " 98. run of importance source...\n",
      " 99. run of importance source...\n"
     ]
    },
    {
     "name": "stdout",
     "output_type": "stream",
     "text": [
      "\n",
      "Drug21: Boruta is running for Erlotinib"
     ]
    },
    {
     "name": "stderr",
     "output_type": "stream",
     "text": [
      " 1. run of importance source...\n",
      " 2. run of importance source...\n",
      " 3. run of importance source...\n",
      " 4. run of importance source...\n",
      " 5. run of importance source...\n",
      " 6. run of importance source...\n",
      " 7. run of importance source...\n",
      " 8. run of importance source...\n",
      " 9. run of importance source...\n",
      " 10. run of importance source...\n",
      " 11. run of importance source...\n",
      " 12. run of importance source...\n",
      " 13. run of importance source...\n",
      " 14. run of importance source...\n",
      " 15. run of importance source...\n",
      " 16. run of importance source...\n",
      " 17. run of importance source...\n",
      " 18. run of importance source...\n",
      " 19. run of importance source...\n",
      " 20. run of importance source...\n",
      " 21. run of importance source...\n",
      "After 21 iterations, +2.6 mins: \n",
      " rejected 20140 attributes: A1BG, A1BG-AS1, A1CF, A2M, A2M-AS1 and 20135 more;\n",
      " still have 34 attributes left.\n",
      "\n",
      " 22. run of importance source...\n",
      " 23. run of importance source...\n",
      " 24. run of importance source...\n",
      " 25. run of importance source...\n",
      " 26. run of importance source...\n",
      "After 26 iterations, +2.6 mins: \n",
      " rejected 2 attributes: LINC01753, TIAM2;\n",
      " still have 32 attributes left.\n",
      "\n",
      " 27. run of importance source...\n",
      " 28. run of importance source...\n",
      " 29. run of importance source...\n",
      " 30. run of importance source...\n",
      "After 30 iterations, +2.6 mins: \n",
      " rejected 2 attributes: IGHV3-73, MACO1;\n",
      " still have 30 attributes left.\n",
      "\n",
      " 31. run of importance source...\n",
      " 32. run of importance source...\n",
      " 33. run of importance source...\n",
      " 34. run of importance source...\n",
      " 35. run of importance source...\n",
      " 36. run of importance source...\n",
      " 37. run of importance source...\n",
      " 38. run of importance source...\n",
      " 39. run of importance source...\n",
      " 40. run of importance source...\n",
      " 41. run of importance source...\n",
      " 42. run of importance source...\n",
      " 43. run of importance source...\n",
      " 44. run of importance source...\n",
      " 45. run of importance source...\n",
      " 46. run of importance source...\n",
      " 47. run of importance source...\n",
      " 48. run of importance source...\n",
      " 49. run of importance source...\n",
      " 50. run of importance source...\n",
      " 51. run of importance source...\n",
      " 52. run of importance source...\n",
      " 53. run of importance source...\n",
      " 54. run of importance source...\n",
      " 55. run of importance source...\n",
      " 56. run of importance source...\n",
      " 57. run of importance source...\n",
      " 58. run of importance source...\n",
      " 59. run of importance source...\n",
      " 60. run of importance source...\n",
      " 61. run of importance source...\n",
      " 62. run of importance source...\n",
      " 63. run of importance source...\n",
      " 64. run of importance source...\n",
      " 65. run of importance source...\n",
      " 66. run of importance source...\n",
      "After 66 iterations, +2.7 mins: \n",
      " rejected 1 attribute: SH3BGRL3;\n",
      " still have 29 attributes left.\n",
      "\n",
      " 67. run of importance source...\n",
      " 68. run of importance source...\n",
      " 69. run of importance source...\n",
      "After 69 iterations, +2.7 mins: \n",
      " confirmed 1 attribute: CAMKV;\n",
      " still have 28 attributes left.\n",
      "\n",
      " 70. run of importance source...\n",
      " 71. run of importance source...\n",
      " 72. run of importance source...\n",
      "After 72 iterations, +2.7 mins: \n",
      " confirmed 1 attribute: PTCHD1;\n",
      " still have 27 attributes left.\n",
      "\n",
      " 73. run of importance source...\n",
      " 74. run of importance source...\n",
      " 75. run of importance source...\n",
      " 76. run of importance source...\n",
      " 77. run of importance source...\n",
      "After 77 iterations, +2.7 mins: \n",
      " confirmed 1 attribute: ASB12;\n",
      " still have 26 attributes left.\n",
      "\n",
      " 78. run of importance source...\n",
      " 79. run of importance source...\n",
      " 80. run of importance source...\n",
      " 81. run of importance source...\n",
      " 82. run of importance source...\n",
      " 83. run of importance source...\n",
      " 84. run of importance source...\n",
      " 85. run of importance source...\n",
      " 86. run of importance source...\n",
      "After 86 iterations, +2.7 mins: \n",
      " confirmed 2 attributes: NPAS4, PDE5A;\n",
      " still have 24 attributes left.\n",
      "\n",
      " 87. run of importance source...\n",
      " 88. run of importance source...\n",
      "After 88 iterations, +2.7 mins: \n",
      " confirmed 1 attribute: DNM3OS;\n",
      " still have 23 attributes left.\n",
      "\n",
      " 89. run of importance source...\n",
      " 90. run of importance source...\n",
      " 91. run of importance source...\n",
      "After 91 iterations, +2.7 mins: \n",
      " confirmed 4 attributes: HPYR1, KMT5C, OR5E1P, UGT2B15;\n",
      " still have 19 attributes left.\n",
      "\n",
      " 92. run of importance source...\n",
      " 93. run of importance source...\n",
      " 94. run of importance source...\n",
      " 95. run of importance source...\n",
      " 96. run of importance source...\n",
      " 97. run of importance source...\n",
      " 98. run of importance source...\n",
      " 99. run of importance source...\n",
      "After 99 iterations, +2.7 mins: \n",
      " confirmed 1 attribute: HOXD9;\n",
      " still have 18 attributes left.\n",
      "\n"
     ]
    },
    {
     "name": "stdout",
     "output_type": "stream",
     "text": [
      "\n",
      "Drug22: Boruta is running for AZD0530"
     ]
    },
    {
     "name": "stderr",
     "output_type": "stream",
     "text": [
      " 1. run of importance source...\n",
      " 2. run of importance source...\n",
      " 3. run of importance source...\n",
      " 4. run of importance source...\n",
      " 5. run of importance source...\n",
      " 6. run of importance source...\n",
      " 7. run of importance source...\n",
      " 8. run of importance source...\n",
      " 9. run of importance source...\n",
      " 10. run of importance source...\n",
      " 11. run of importance source...\n",
      " 12. run of importance source...\n",
      " 13. run of importance source...\n",
      " 14. run of importance source...\n",
      " 15. run of importance source...\n",
      " 16. run of importance source...\n",
      " 17. run of importance source...\n",
      " 18. run of importance source...\n",
      " 19. run of importance source...\n",
      " 20. run of importance source...\n",
      " 21. run of importance source...\n",
      "After 21 iterations, +3.1 mins: \n",
      " rejected 20162 attributes: A1BG, A1BG-AS1, A1CF, A2M, A2M-AS1 and 20157 more;\n",
      " still have 12 attributes left.\n",
      "\n",
      " 22. run of importance source...\n",
      " 23. run of importance source...\n",
      " 24. run of importance source...\n",
      " 25. run of importance source...\n",
      " 26. run of importance source...\n",
      "After 26 iterations, +3.1 mins: \n",
      " rejected 6 attributes: BARX2, MRFAP1L1, RPAP1, STUB1, TIPARP-AS1 and 1 more;\n",
      " still have 6 attributes left.\n",
      "\n",
      " 27. run of importance source...\n",
      " 28. run of importance source...\n",
      " 29. run of importance source...\n",
      " 30. run of importance source...\n",
      " 31. run of importance source...\n",
      " 32. run of importance source...\n",
      " 33. run of importance source...\n",
      " 34. run of importance source...\n",
      " 35. run of importance source...\n",
      " 36. run of importance source...\n",
      " 37. run of importance source...\n",
      " 38. run of importance source...\n",
      " 39. run of importance source...\n",
      " 40. run of importance source...\n",
      " 41. run of importance source...\n",
      " 42. run of importance source...\n",
      " 43. run of importance source...\n",
      " 44. run of importance source...\n",
      " 45. run of importance source...\n",
      " 46. run of importance source...\n",
      " 47. run of importance source...\n",
      " 48. run of importance source...\n",
      " 49. run of importance source...\n",
      " 50. run of importance source...\n",
      " 51. run of importance source...\n",
      " 52. run of importance source...\n",
      " 53. run of importance source...\n",
      " 54. run of importance source...\n",
      " 55. run of importance source...\n",
      " 56. run of importance source...\n",
      " 57. run of importance source...\n",
      " 58. run of importance source...\n",
      " 59. run of importance source...\n",
      " 60. run of importance source...\n",
      " 61. run of importance source...\n",
      " 62. run of importance source...\n",
      " 63. run of importance source...\n",
      " 64. run of importance source...\n",
      " 65. run of importance source...\n",
      " 66. run of importance source...\n",
      " 67. run of importance source...\n",
      " 68. run of importance source...\n",
      " 69. run of importance source...\n",
      " 70. run of importance source...\n",
      " 71. run of importance source...\n",
      " 72. run of importance source...\n",
      " 73. run of importance source...\n",
      " 74. run of importance source...\n",
      " 75. run of importance source...\n",
      " 76. run of importance source...\n",
      " 77. run of importance source...\n",
      " 78. run of importance source...\n",
      " 79. run of importance source...\n",
      " 80. run of importance source...\n",
      " 81. run of importance source...\n",
      " 82. run of importance source...\n",
      " 83. run of importance source...\n",
      " 84. run of importance source...\n",
      " 85. run of importance source...\n",
      " 86. run of importance source...\n",
      "After 86 iterations, +3.1 mins: \n",
      " confirmed 2 attributes: CCT5, ENPP5;\n",
      " still have 4 attributes left.\n",
      "\n",
      " 87. run of importance source...\n",
      " 88. run of importance source...\n",
      "After 88 iterations, +3.1 mins: \n",
      " confirmed 1 attribute: MYH16;\n",
      " still have 3 attributes left.\n",
      "\n",
      " 89. run of importance source...\n",
      " 90. run of importance source...\n",
      " 91. run of importance source...\n",
      "After 91 iterations, +3.1 mins: \n",
      " confirmed 1 attribute: AMY2B;\n",
      " still have 2 attributes left.\n",
      "\n",
      " 92. run of importance source...\n",
      " 93. run of importance source...\n",
      " 94. run of importance source...\n",
      " 95. run of importance source...\n",
      " 96. run of importance source...\n",
      " 97. run of importance source...\n",
      " 98. run of importance source...\n",
      " 99. run of importance source...\n"
     ]
    },
    {
     "name": "stdout",
     "output_type": "stream",
     "text": [
      "\n",
      "Drug23: Boruta is running for Panobinostat"
     ]
    },
    {
     "name": "stderr",
     "output_type": "stream",
     "text": [
      " 1. run of importance source...\n",
      " 2. run of importance source...\n",
      " 3. run of importance source...\n",
      " 4. run of importance source...\n",
      " 5. run of importance source...\n",
      " 6. run of importance source...\n",
      " 7. run of importance source...\n",
      " 8. run of importance source...\n",
      " 9. run of importance source...\n",
      " 10. run of importance source...\n",
      " 11. run of importance source...\n",
      " 12. run of importance source...\n",
      " 13. run of importance source...\n",
      " 14. run of importance source...\n",
      " 15. run of importance source...\n",
      " 16. run of importance source...\n",
      " 17. run of importance source...\n",
      " 18. run of importance source...\n",
      " 19. run of importance source...\n",
      " 20. run of importance source...\n",
      " 21. run of importance source...\n",
      "After 21 iterations, +3.6 mins: \n",
      " rejected 20157 attributes: A1BG, A1BG-AS1, A1CF, A2M, A2M-AS1 and 20152 more;\n",
      " still have 17 attributes left.\n",
      "\n",
      " 22. run of importance source...\n",
      " 23. run of importance source...\n",
      " 24. run of importance source...\n",
      " 25. run of importance source...\n",
      " 26. run of importance source...\n",
      "After 26 iterations, +3.6 mins: \n",
      " rejected 1 attribute: PAK5;\n",
      " still have 16 attributes left.\n",
      "\n",
      " 27. run of importance source...\n",
      " 28. run of importance source...\n",
      " 29. run of importance source...\n",
      " 30. run of importance source...\n",
      "After 30 iterations, +3.6 mins: \n",
      " rejected 1 attribute: EMP3;\n",
      " still have 15 attributes left.\n",
      "\n",
      " 31. run of importance source...\n",
      " 32. run of importance source...\n",
      " 33. run of importance source...\n",
      " 34. run of importance source...\n",
      " 35. run of importance source...\n",
      " 36. run of importance source...\n",
      " 37. run of importance source...\n",
      " 38. run of importance source...\n",
      " 39. run of importance source...\n",
      " 40. run of importance source...\n",
      " 41. run of importance source...\n",
      "After 41 iterations, +3.6 mins: \n",
      " rejected 1 attribute: OR7E14P;\n",
      " still have 14 attributes left.\n",
      "\n",
      " 42. run of importance source...\n",
      " 43. run of importance source...\n",
      " 44. run of importance source...\n",
      "After 44 iterations, +3.6 mins: \n",
      " rejected 1 attribute: NTMT1;\n",
      " still have 13 attributes left.\n",
      "\n",
      " 45. run of importance source...\n",
      " 46. run of importance source...\n",
      " 47. run of importance source...\n",
      " 48. run of importance source...\n",
      "After 48 iterations, +3.6 mins: \n",
      " rejected 1 attribute: SCRG1;\n",
      " still have 12 attributes left.\n",
      "\n",
      " 49. run of importance source...\n",
      " 50. run of importance source...\n",
      " 51. run of importance source...\n",
      " 52. run of importance source...\n",
      " 53. run of importance source...\n",
      " 54. run of importance source...\n",
      " 55. run of importance source...\n",
      " 56. run of importance source...\n",
      " 57. run of importance source...\n",
      " 58. run of importance source...\n",
      " 59. run of importance source...\n",
      " 60. run of importance source...\n",
      " 61. run of importance source...\n",
      " 62. run of importance source...\n",
      " 63. run of importance source...\n",
      " 64. run of importance source...\n",
      " 65. run of importance source...\n",
      " 66. run of importance source...\n",
      " 67. run of importance source...\n",
      " 68. run of importance source...\n",
      " 69. run of importance source...\n",
      " 70. run of importance source...\n",
      " 71. run of importance source...\n",
      " 72. run of importance source...\n",
      " 73. run of importance source...\n",
      " 74. run of importance source...\n",
      " 75. run of importance source...\n",
      " 76. run of importance source...\n",
      " 77. run of importance source...\n",
      " 78. run of importance source...\n",
      " 79. run of importance source...\n",
      " 80. run of importance source...\n",
      " 81. run of importance source...\n",
      " 82. run of importance source...\n",
      " 83. run of importance source...\n",
      "After 83 iterations, +3.6 mins: \n",
      " confirmed 1 attribute: PABPN1P1;\n",
      " still have 11 attributes left.\n",
      "\n",
      " 84. run of importance source...\n",
      " 85. run of importance source...\n",
      " 86. run of importance source...\n",
      "After 86 iterations, +3.6 mins: \n",
      " confirmed 2 attributes: COMMD1, TRAV39;\n",
      " still have 9 attributes left.\n",
      "\n",
      " 87. run of importance source...\n",
      " 88. run of importance source...\n",
      "After 88 iterations, +3.6 mins: \n",
      " confirmed 2 attributes: GNG12, LOC101928361;\n",
      " still have 7 attributes left.\n",
      "\n",
      " 89. run of importance source...\n",
      " 90. run of importance source...\n",
      " 91. run of importance source...\n",
      " 92. run of importance source...\n",
      " 93. run of importance source...\n",
      " 94. run of importance source...\n",
      " 95. run of importance source...\n",
      " 96. run of importance source...\n",
      " 97. run of importance source...\n",
      " 98. run of importance source...\n",
      " 99. run of importance source...\n"
     ]
    },
    {
     "name": "stdout",
     "output_type": "stream",
     "text": [
      "\n",
      "Drug24: Boruta is running for Irinotecan"
     ]
    },
    {
     "name": "stderr",
     "output_type": "stream",
     "text": [
      " 1. run of importance source...\n",
      " 2. run of importance source...\n",
      " 3. run of importance source...\n",
      " 4. run of importance source...\n",
      " 5. run of importance source...\n",
      " 6. run of importance source...\n",
      " 7. run of importance source...\n",
      " 8. run of importance source...\n",
      " 9. run of importance source...\n",
      " 10. run of importance source...\n",
      " 11. run of importance source...\n",
      " 12. run of importance source...\n",
      " 13. run of importance source...\n",
      " 14. run of importance source...\n",
      " 15. run of importance source...\n",
      " 16. run of importance source...\n",
      " 17. run of importance source...\n",
      " 18. run of importance source...\n",
      " 19. run of importance source...\n",
      " 20. run of importance source...\n",
      " 21. run of importance source...\n",
      "After 21 iterations, +2.4 mins: \n",
      " rejected 20138 attributes: A1BG, A1BG-AS1, A1CF, A2M, A2M-AS1 and 20133 more;\n",
      " still have 36 attributes left.\n",
      "\n",
      " 22. run of importance source...\n",
      " 23. run of importance source...\n",
      " 24. run of importance source...\n",
      " 25. run of importance source...\n",
      " 26. run of importance source...\n",
      "After 26 iterations, +2.4 mins: \n",
      " rejected 23 attributes: BLTP3B, BMP6, CCDC15, ELMO1, HIVEP2 and 18 more;\n",
      " still have 13 attributes left.\n",
      "\n",
      " 27. run of importance source...\n",
      " 28. run of importance source...\n",
      " 29. run of importance source...\n",
      " 30. run of importance source...\n",
      "After 30 iterations, +2.4 mins: \n",
      " rejected 2 attributes: LINC00485, NRSN1;\n",
      " still have 11 attributes left.\n",
      "\n",
      " 31. run of importance source...\n",
      " 32. run of importance source...\n",
      " 33. run of importance source...\n",
      " 34. run of importance source...\n",
      "After 34 iterations, +2.4 mins: \n",
      " rejected 1 attribute: MEIS1;\n",
      " still have 10 attributes left.\n",
      "\n",
      " 35. run of importance source...\n",
      " 36. run of importance source...\n",
      " 37. run of importance source...\n",
      " 38. run of importance source...\n",
      "After 38 iterations, +2.4 mins: \n",
      " rejected 1 attribute: REG3G;\n",
      " still have 9 attributes left.\n",
      "\n",
      " 39. run of importance source...\n",
      " 40. run of importance source...\n",
      " 41. run of importance source...\n",
      " 42. run of importance source...\n",
      " 43. run of importance source...\n",
      " 44. run of importance source...\n",
      " 45. run of importance source...\n",
      " 46. run of importance source...\n",
      " 47. run of importance source...\n",
      " 48. run of importance source...\n",
      " 49. run of importance source...\n",
      " 50. run of importance source...\n",
      " 51. run of importance source...\n",
      " 52. run of importance source...\n",
      " 53. run of importance source...\n",
      " 54. run of importance source...\n",
      " 55. run of importance source...\n",
      " 56. run of importance source...\n",
      " 57. run of importance source...\n",
      " 58. run of importance source...\n",
      " 59. run of importance source...\n",
      " 60. run of importance source...\n",
      " 61. run of importance source...\n",
      " 62. run of importance source...\n",
      " 63. run of importance source...\n",
      " 64. run of importance source...\n",
      " 65. run of importance source...\n",
      " 66. run of importance source...\n",
      " 67. run of importance source...\n",
      " 68. run of importance source...\n",
      " 69. run of importance source...\n",
      " 70. run of importance source...\n",
      " 71. run of importance source...\n",
      " 72. run of importance source...\n",
      " 73. run of importance source...\n",
      " 74. run of importance source...\n",
      " 75. run of importance source...\n",
      " 76. run of importance source...\n",
      " 77. run of importance source...\n",
      " 78. run of importance source...\n",
      " 79. run of importance source...\n",
      " 80. run of importance source...\n",
      " 81. run of importance source...\n",
      " 82. run of importance source...\n",
      " 83. run of importance source...\n",
      "After 83 iterations, +2.4 mins: \n",
      " confirmed 1 attribute: PDE9A;\n",
      " still have 8 attributes left.\n",
      "\n",
      " 84. run of importance source...\n",
      " 85. run of importance source...\n",
      " 86. run of importance source...\n",
      "After 86 iterations, +2.4 mins: \n",
      " confirmed 2 attributes: EOLA1-DT, TSPAN11;\n",
      " still have 6 attributes left.\n",
      "\n",
      " 87. run of importance source...\n",
      " 88. run of importance source...\n",
      "After 88 iterations, +2.4 mins: \n",
      " confirmed 1 attribute: PRG3;\n",
      " still have 5 attributes left.\n",
      "\n",
      " 89. run of importance source...\n",
      " 90. run of importance source...\n",
      " 91. run of importance source...\n",
      " 92. run of importance source...\n",
      " 93. run of importance source...\n",
      " 94. run of importance source...\n",
      " 95. run of importance source...\n",
      " 96. run of importance source...\n",
      " 97. run of importance source...\n",
      " 98. run of importance source...\n",
      " 99. run of importance source...\n"
     ]
    },
    {
     "name": "stdout",
     "output_type": "stream",
     "text": [
      "\n",
      "Boruta is running for malignant_melanoma\n",
      "Drug1: Boruta is running for PF2341066"
     ]
    },
    {
     "name": "stderr",
     "output_type": "stream",
     "text": [
      " 1. run of importance source...\n",
      " 2. run of importance source...\n",
      " 3. run of importance source...\n",
      " 4. run of importance source...\n",
      " 5. run of importance source...\n",
      " 6. run of importance source...\n",
      " 7. run of importance source...\n",
      " 8. run of importance source...\n",
      " 9. run of importance source...\n",
      " 10. run of importance source...\n",
      " 11. run of importance source...\n",
      " 12. run of importance source...\n",
      " 13. run of importance source...\n",
      " 14. run of importance source...\n",
      " 15. run of importance source...\n",
      " 16. run of importance source...\n",
      " 17. run of importance source...\n",
      " 18. run of importance source...\n",
      " 19. run of importance source...\n",
      " 20. run of importance source...\n",
      " 21. run of importance source...\n",
      "After 21 iterations, +2.4 mins: \n",
      " rejected 20149 attributes: A1BG, A1BG-AS1, A1CF, A2M, A2M-AS1 and 20144 more;\n",
      " still have 25 attributes left.\n",
      "\n",
      " 22. run of importance source...\n",
      " 23. run of importance source...\n",
      " 24. run of importance source...\n",
      " 25. run of importance source...\n",
      " 26. run of importance source...\n",
      "After 26 iterations, +2.4 mins: \n",
      " rejected 2 attributes: LINC00682, NRIP2;\n",
      " still have 23 attributes left.\n",
      "\n",
      " 27. run of importance source...\n",
      " 28. run of importance source...\n",
      " 29. run of importance source...\n",
      " 30. run of importance source...\n",
      " 31. run of importance source...\n",
      " 32. run of importance source...\n",
      " 33. run of importance source...\n",
      " 34. run of importance source...\n",
      " 35. run of importance source...\n",
      " 36. run of importance source...\n",
      " 37. run of importance source...\n",
      " 38. run of importance source...\n",
      " 39. run of importance source...\n",
      " 40. run of importance source...\n",
      " 41. run of importance source...\n",
      " 42. run of importance source...\n",
      " 43. run of importance source...\n",
      " 44. run of importance source...\n",
      " 45. run of importance source...\n",
      " 46. run of importance source...\n",
      " 47. run of importance source...\n",
      " 48. run of importance source...\n",
      " 49. run of importance source...\n",
      " 50. run of importance source...\n",
      " 51. run of importance source...\n",
      " 52. run of importance source...\n",
      " 53. run of importance source...\n",
      " 54. run of importance source...\n",
      " 55. run of importance source...\n",
      " 56. run of importance source...\n",
      " 57. run of importance source...\n",
      " 58. run of importance source...\n",
      " 59. run of importance source...\n",
      " 60. run of importance source...\n",
      " 61. run of importance source...\n",
      " 62. run of importance source...\n",
      " 63. run of importance source...\n",
      " 64. run of importance source...\n",
      " 65. run of importance source...\n",
      " 66. run of importance source...\n",
      " 67. run of importance source...\n",
      " 68. run of importance source...\n",
      " 69. run of importance source...\n",
      " 70. run of importance source...\n",
      " 71. run of importance source...\n",
      " 72. run of importance source...\n",
      "After 72 iterations, +2.4 mins: \n",
      " confirmed 1 attribute: SRPK2;\n",
      " still have 22 attributes left.\n",
      "\n",
      " 73. run of importance source...\n",
      " 74. run of importance source...\n",
      " 75. run of importance source...\n",
      " 76. run of importance source...\n",
      " 77. run of importance source...\n",
      " 78. run of importance source...\n",
      " 79. run of importance source...\n",
      " 80. run of importance source...\n",
      " 81. run of importance source...\n",
      " 82. run of importance source...\n",
      " 83. run of importance source...\n",
      "After 83 iterations, +2.4 mins: \n",
      " confirmed 1 attribute: LINC00467;\n",
      " still have 21 attributes left.\n",
      "\n",
      " 84. run of importance source...\n",
      " 85. run of importance source...\n",
      " 86. run of importance source...\n",
      "After 86 iterations, +2.4 mins: \n",
      " confirmed 4 attributes: GNPTG, IL12RB1, RINT1, ZNF502;\n",
      " still have 17 attributes left.\n",
      "\n",
      " 87. run of importance source...\n",
      " 88. run of importance source...\n",
      "After 88 iterations, +2.4 mins: \n",
      " confirmed 3 attributes: CHST7, MTERF1, SUMF1;\n",
      " still have 14 attributes left.\n",
      "\n",
      " 89. run of importance source...\n",
      " 90. run of importance source...\n",
      " 91. run of importance source...\n",
      "After 91 iterations, +2.4 mins: \n",
      " confirmed 1 attribute: SH3TC2;\n",
      " still have 13 attributes left.\n",
      "\n",
      " 92. run of importance source...\n",
      " 93. run of importance source...\n",
      " 94. run of importance source...\n",
      " 95. run of importance source...\n",
      " 96. run of importance source...\n",
      " 97. run of importance source...\n",
      " 98. run of importance source...\n",
      " 99. run of importance source...\n"
     ]
    },
    {
     "name": "stdout",
     "output_type": "stream",
     "text": [
      "\n",
      "Drug2: Boruta is running for LBW242"
     ]
    },
    {
     "name": "stderr",
     "output_type": "stream",
     "text": [
      " 1. run of importance source...\n",
      " 2. run of importance source...\n",
      " 3. run of importance source...\n",
      " 4. run of importance source...\n",
      " 5. run of importance source...\n",
      " 6. run of importance source...\n",
      " 7. run of importance source...\n",
      " 8. run of importance source...\n",
      " 9. run of importance source...\n",
      " 10. run of importance source...\n",
      " 11. run of importance source...\n",
      " 12. run of importance source...\n",
      " 13. run of importance source...\n",
      " 14. run of importance source...\n",
      " 15. run of importance source...\n",
      " 16. run of importance source...\n",
      " 17. run of importance source...\n",
      " 18. run of importance source...\n",
      " 19. run of importance source...\n",
      " 20. run of importance source...\n",
      " 21. run of importance source...\n",
      "After 21 iterations, +1.9 mins: \n",
      " rejected 20153 attributes: A1BG, A1BG-AS1, A1CF, A2M, A2M-AS1 and 20148 more;\n",
      " still have 21 attributes left.\n",
      "\n",
      " 22. run of importance source...\n",
      " 23. run of importance source...\n",
      " 24. run of importance source...\n",
      " 25. run of importance source...\n",
      " 26. run of importance source...\n",
      "After 26 iterations, +1.9 mins: \n",
      " rejected 1 attribute: MRPL27;\n",
      " still have 20 attributes left.\n",
      "\n",
      " 27. run of importance source...\n",
      " 28. run of importance source...\n",
      " 29. run of importance source...\n",
      " 30. run of importance source...\n",
      "After 30 iterations, +1.9 mins: \n",
      " rejected 2 attributes: ARID5B, TSPYL2;\n",
      " still have 18 attributes left.\n",
      "\n",
      " 31. run of importance source...\n",
      " 32. run of importance source...\n",
      " 33. run of importance source...\n",
      " 34. run of importance source...\n",
      " 35. run of importance source...\n",
      " 36. run of importance source...\n",
      " 37. run of importance source...\n",
      " 38. run of importance source...\n",
      " 39. run of importance source...\n",
      " 40. run of importance source...\n",
      " 41. run of importance source...\n",
      " 42. run of importance source...\n",
      " 43. run of importance source...\n",
      " 44. run of importance source...\n",
      " 45. run of importance source...\n",
      " 46. run of importance source...\n",
      " 47. run of importance source...\n",
      " 48. run of importance source...\n",
      " 49. run of importance source...\n",
      " 50. run of importance source...\n",
      " 51. run of importance source...\n",
      " 52. run of importance source...\n",
      " 53. run of importance source...\n",
      " 54. run of importance source...\n",
      " 55. run of importance source...\n",
      " 56. run of importance source...\n",
      " 57. run of importance source...\n",
      " 58. run of importance source...\n",
      " 59. run of importance source...\n",
      " 60. run of importance source...\n",
      " 61. run of importance source...\n",
      " 62. run of importance source...\n",
      " 63. run of importance source...\n",
      " 64. run of importance source...\n",
      " 65. run of importance source...\n",
      " 66. run of importance source...\n",
      " 67. run of importance source...\n",
      " 68. run of importance source...\n",
      " 69. run of importance source...\n",
      " 70. run of importance source...\n",
      " 71. run of importance source...\n",
      " 72. run of importance source...\n",
      " 73. run of importance source...\n",
      " 74. run of importance source...\n",
      " 75. run of importance source...\n",
      " 76. run of importance source...\n",
      " 77. run of importance source...\n",
      "After 77 iterations, +1.9 mins: \n",
      " confirmed 1 attribute: LINC00922;\n",
      " still have 17 attributes left.\n",
      "\n",
      " 78. run of importance source...\n",
      " 79. run of importance source...\n",
      " 80. run of importance source...\n",
      " 81. run of importance source...\n",
      " 82. run of importance source...\n",
      " 83. run of importance source...\n",
      "After 83 iterations, +1.9 mins: \n",
      " confirmed 2 attributes: CXCL10, PPP1R18;\n",
      " still have 15 attributes left.\n",
      "\n",
      " 84. run of importance source...\n",
      " 85. run of importance source...\n",
      " 86. run of importance source...\n",
      "After 86 iterations, +2 mins: \n",
      " confirmed 1 attribute: SCAF8;\n",
      " still have 14 attributes left.\n",
      "\n",
      " 87. run of importance source...\n",
      " 88. run of importance source...\n",
      "After 88 iterations, +2 mins: \n",
      " confirmed 5 attributes: ARID1B, IL1A, LY6E, PRKCB, ZNF770;\n",
      " still have 9 attributes left.\n",
      "\n",
      " 89. run of importance source...\n",
      " 90. run of importance source...\n",
      " 91. run of importance source...\n",
      "After 91 iterations, +2 mins: \n",
      " confirmed 1 attribute: OR6A2;\n",
      " still have 8 attributes left.\n",
      "\n",
      " 92. run of importance source...\n",
      " 93. run of importance source...\n",
      " 94. run of importance source...\n",
      "After 94 iterations, +2 mins: \n",
      " confirmed 2 attributes: HINT3, LINC00567;\n",
      " still have 6 attributes left.\n",
      "\n",
      " 95. run of importance source...\n",
      " 96. run of importance source...\n",
      " 97. run of importance source...\n",
      " 98. run of importance source...\n",
      " 99. run of importance source...\n"
     ]
    },
    {
     "name": "stdout",
     "output_type": "stream",
     "text": [
      "\n",
      "Drug3: Boruta is running for AZD6244"
     ]
    },
    {
     "name": "stderr",
     "output_type": "stream",
     "text": [
      " 1. run of importance source...\n",
      " 2. run of importance source...\n",
      " 3. run of importance source...\n",
      " 4. run of importance source...\n",
      " 5. run of importance source...\n",
      " 6. run of importance source...\n",
      " 7. run of importance source...\n",
      " 8. run of importance source...\n",
      " 9. run of importance source...\n",
      " 10. run of importance source...\n",
      " 11. run of importance source...\n",
      " 12. run of importance source...\n",
      " 13. run of importance source...\n",
      " 14. run of importance source...\n",
      " 15. run of importance source...\n",
      " 16. run of importance source...\n",
      " 17. run of importance source...\n",
      " 18. run of importance source...\n",
      " 19. run of importance source...\n",
      " 20. run of importance source...\n",
      " 21. run of importance source...\n",
      "After 21 iterations, +2.4 mins: \n",
      " rejected 20057 attributes: A1BG, A1BG-AS1, A1CF, A2M, A2M-AS1 and 20052 more;\n",
      " still have 117 attributes left.\n",
      "\n",
      " 22. run of importance source...\n",
      " 23. run of importance source...\n",
      " 24. run of importance source...\n",
      " 25. run of importance source...\n",
      " 26. run of importance source...\n",
      "After 26 iterations, +2.4 mins: \n",
      " rejected 30 attributes: CAMK2N1, CCDC138, CEP19, FABP2, FOXB1 and 25 more;\n",
      " still have 87 attributes left.\n",
      "\n",
      " 27. run of importance source...\n",
      " 28. run of importance source...\n",
      " 29. run of importance source...\n",
      " 30. run of importance source...\n",
      "After 30 iterations, +2.4 mins: \n",
      " rejected 8 attributes: ACAD9, ANO10, DDT, KDM7A-DT, PLSCR1 and 3 more;\n",
      " still have 79 attributes left.\n",
      "\n",
      " 31. run of importance source...\n",
      " 32. run of importance source...\n",
      " 33. run of importance source...\n",
      " 34. run of importance source...\n",
      "After 34 iterations, +2.4 mins: \n",
      " rejected 2 attributes: FLG2, ZMAT4;\n",
      " still have 77 attributes left.\n",
      "\n",
      " 35. run of importance source...\n",
      " 36. run of importance source...\n",
      " 37. run of importance source...\n",
      " 38. run of importance source...\n",
      "After 38 iterations, +2.4 mins: \n",
      " rejected 2 attributes: PPARGC1B, TSLP;\n",
      " still have 75 attributes left.\n",
      "\n",
      " 39. run of importance source...\n",
      " 40. run of importance source...\n",
      " 41. run of importance source...\n",
      "After 41 iterations, +2.4 mins: \n",
      " rejected 1 attribute: COL13A1;\n",
      " still have 74 attributes left.\n",
      "\n",
      " 42. run of importance source...\n",
      " 43. run of importance source...\n",
      " 44. run of importance source...\n",
      " 45. run of importance source...\n",
      " 46. run of importance source...\n",
      " 47. run of importance source...\n",
      " 48. run of importance source...\n",
      "After 48 iterations, +2.4 mins: \n",
      " rejected 1 attribute: NAP1L3;\n",
      " still have 73 attributes left.\n",
      "\n",
      " 49. run of importance source...\n",
      " 50. run of importance source...\n",
      " 51. run of importance source...\n",
      "After 51 iterations, +2.4 mins: \n",
      " rejected 1 attribute: CHCHD4;\n",
      " still have 72 attributes left.\n",
      "\n",
      " 52. run of importance source...\n",
      " 53. run of importance source...\n",
      " 54. run of importance source...\n",
      " 55. run of importance source...\n",
      " 56. run of importance source...\n",
      " 57. run of importance source...\n",
      " 58. run of importance source...\n",
      " 59. run of importance source...\n",
      " 60. run of importance source...\n",
      "After 60 iterations, +2.4 mins: \n",
      " rejected 1 attribute: ZNF469;\n",
      " still have 71 attributes left.\n",
      "\n",
      " 61. run of importance source...\n",
      " 62. run of importance source...\n",
      " 63. run of importance source...\n",
      "After 63 iterations, +2.4 mins: \n",
      " rejected 3 attributes: AAMDC, ABTB3, SLC9A9;\n",
      " still have 68 attributes left.\n",
      "\n",
      " 64. run of importance source...\n",
      " 65. run of importance source...\n",
      " 66. run of importance source...\n",
      "After 66 iterations, +2.4 mins: \n",
      " rejected 3 attributes: EDN1, GIGYF2, THSD4;\n",
      " still have 65 attributes left.\n",
      "\n",
      " 67. run of importance source...\n",
      " 68. run of importance source...\n",
      " 69. run of importance source...\n",
      " 70. run of importance source...\n",
      " 71. run of importance source...\n",
      " 72. run of importance source...\n",
      "After 72 iterations, +2.5 mins: \n",
      " confirmed 3 attributes: MRPS25, RAB38, RNF144A;\n",
      " rejected 2 attributes: CCNH, NUAK1;\n",
      " still have 60 attributes left.\n",
      "\n",
      " 73. run of importance source...\n",
      " 74. run of importance source...\n",
      "After 74 iterations, +2.5 mins: \n",
      " confirmed 1 attribute: MXI1;\n",
      " rejected 1 attribute: PKP1;\n",
      " still have 58 attributes left.\n",
      "\n",
      " 75. run of importance source...\n",
      " 76. run of importance source...\n",
      " 77. run of importance source...\n",
      "After 77 iterations, +2.5 mins: \n",
      " confirmed 2 attributes: PCBP3, TMEM60;\n",
      " still have 56 attributes left.\n",
      "\n",
      " 78. run of importance source...\n",
      " 79. run of importance source...\n",
      " 80. run of importance source...\n",
      "After 80 iterations, +2.5 mins: \n",
      " confirmed 3 attributes: FAM78A, MN1, TRPC1;\n",
      " still have 53 attributes left.\n",
      "\n",
      " 81. run of importance source...\n",
      " 82. run of importance source...\n",
      " 83. run of importance source...\n",
      "After 83 iterations, +2.5 mins: \n",
      " rejected 1 attribute: UBFD1;\n",
      " still have 52 attributes left.\n",
      "\n",
      " 84. run of importance source...\n",
      " 85. run of importance source...\n",
      " 86. run of importance source...\n",
      "After 86 iterations, +2.5 mins: \n",
      " confirmed 4 attributes: CRISPLD2, FBXO22, TMEM45A, ZNF629;\n",
      " rejected 1 attribute: SSBP2;\n",
      " still have 47 attributes left.\n",
      "\n",
      " 87. run of importance source...\n",
      " 88. run of importance source...\n",
      " 89. run of importance source...\n",
      " 90. run of importance source...\n",
      " 91. run of importance source...\n",
      " 92. run of importance source...\n",
      " 93. run of importance source...\n",
      " 94. run of importance source...\n",
      "After 94 iterations, +2.5 mins: \n",
      " confirmed 2 attributes: ADAMTS15, ZNF75D;\n",
      " still have 45 attributes left.\n",
      "\n",
      " 95. run of importance source...\n",
      " 96. run of importance source...\n",
      " 97. run of importance source...\n",
      " 98. run of importance source...\n",
      " 99. run of importance source...\n",
      "After 99 iterations, +2.5 mins: \n",
      " confirmed 2 attributes: CARD14, TRIB1;\n",
      " still have 43 attributes left.\n",
      "\n"
     ]
    },
    {
     "name": "stdout",
     "output_type": "stream",
     "text": [
      "\n",
      "Drug4: Boruta is running for Erlotinib"
     ]
    },
    {
     "name": "stderr",
     "output_type": "stream",
     "text": [
      " 1. run of importance source...\n",
      " 2. run of importance source...\n",
      " 3. run of importance source...\n",
      " 4. run of importance source...\n",
      " 5. run of importance source...\n",
      " 6. run of importance source...\n",
      " 7. run of importance source...\n",
      " 8. run of importance source...\n",
      " 9. run of importance source...\n",
      " 10. run of importance source...\n",
      " 11. run of importance source...\n",
      " 12. run of importance source...\n",
      " 13. run of importance source...\n",
      " 14. run of importance source...\n",
      " 15. run of importance source...\n",
      " 16. run of importance source...\n",
      " 17. run of importance source...\n",
      " 18. run of importance source...\n",
      " 19. run of importance source...\n",
      " 20. run of importance source...\n",
      " 21. run of importance source...\n",
      "After 21 iterations, +2 mins: \n",
      " rejected 20113 attributes: A1BG, A1BG-AS1, A1CF, A2M, A2M-AS1 and 20108 more;\n",
      " still have 61 attributes left.\n",
      "\n",
      " 22. run of importance source...\n",
      " 23. run of importance source...\n",
      " 24. run of importance source...\n",
      " 25. run of importance source...\n",
      " 26. run of importance source...\n",
      "After 26 iterations, +2 mins: \n",
      " rejected 2 attributes: LINC01859, TTC39A;\n",
      " still have 59 attributes left.\n",
      "\n",
      " 27. run of importance source...\n",
      " 28. run of importance source...\n",
      " 29. run of importance source...\n",
      " 30. run of importance source...\n",
      "After 30 iterations, +2 mins: \n",
      " rejected 1 attribute: ARHGAP39;\n",
      " still have 58 attributes left.\n",
      "\n",
      " 31. run of importance source...\n",
      " 32. run of importance source...\n",
      " 33. run of importance source...\n",
      " 34. run of importance source...\n",
      " 35. run of importance source...\n",
      " 36. run of importance source...\n",
      " 37. run of importance source...\n",
      " 38. run of importance source...\n",
      " 39. run of importance source...\n",
      " 40. run of importance source...\n",
      " 41. run of importance source...\n",
      " 42. run of importance source...\n",
      " 43. run of importance source...\n",
      " 44. run of importance source...\n",
      " 45. run of importance source...\n",
      " 46. run of importance source...\n",
      " 47. run of importance source...\n",
      " 48. run of importance source...\n",
      " 49. run of importance source...\n",
      " 50. run of importance source...\n",
      " 51. run of importance source...\n",
      " 52. run of importance source...\n",
      " 53. run of importance source...\n",
      " 54. run of importance source...\n",
      " 55. run of importance source...\n",
      " 56. run of importance source...\n",
      " 57. run of importance source...\n",
      " 58. run of importance source...\n",
      " 59. run of importance source...\n",
      " 60. run of importance source...\n",
      " 61. run of importance source...\n",
      " 62. run of importance source...\n",
      " 63. run of importance source...\n",
      "After 63 iterations, +2 mins: \n",
      " rejected 1 attribute: CCDC146;\n",
      " still have 57 attributes left.\n",
      "\n",
      " 64. run of importance source...\n",
      " 65. run of importance source...\n",
      " 66. run of importance source...\n",
      " 67. run of importance source...\n",
      " 68. run of importance source...\n",
      " 69. run of importance source...\n",
      " 70. run of importance source...\n",
      " 71. run of importance source...\n",
      " 72. run of importance source...\n",
      " 73. run of importance source...\n",
      " 74. run of importance source...\n",
      " 75. run of importance source...\n",
      " 76. run of importance source...\n",
      " 77. run of importance source...\n",
      "After 77 iterations, +2 mins: \n",
      " rejected 1 attribute: MIR924HG;\n",
      " still have 56 attributes left.\n",
      "\n",
      " 78. run of importance source...\n",
      " 79. run of importance source...\n",
      " 80. run of importance source...\n",
      "After 80 iterations, +2 mins: \n",
      " rejected 1 attribute: ZNF107;\n",
      " still have 55 attributes left.\n",
      "\n",
      " 81. run of importance source...\n",
      " 82. run of importance source...\n",
      " 83. run of importance source...\n",
      " 84. run of importance source...\n",
      " 85. run of importance source...\n",
      " 86. run of importance source...\n",
      " 87. run of importance source...\n",
      " 88. run of importance source...\n",
      "After 88 iterations, +2 mins: \n",
      " confirmed 1 attribute: ARHGAP26;\n",
      " still have 54 attributes left.\n",
      "\n",
      " 89. run of importance source...\n",
      " 90. run of importance source...\n",
      " 91. run of importance source...\n",
      "After 91 iterations, +2 mins: \n",
      " confirmed 2 attributes: DLC1, POP1;\n",
      " still have 52 attributes left.\n",
      "\n",
      " 92. run of importance source...\n",
      " 93. run of importance source...\n",
      " 94. run of importance source...\n",
      "After 94 iterations, +2 mins: \n",
      " confirmed 5 attributes: ABHD17B, CABIN1, DKKL1, ERICH6, RIMKLA;\n",
      " still have 47 attributes left.\n",
      "\n",
      " 95. run of importance source...\n",
      " 96. run of importance source...\n",
      "After 96 iterations, +2 mins: \n",
      " confirmed 1 attribute: TOM1L2;\n",
      " still have 46 attributes left.\n",
      "\n",
      " 97. run of importance source...\n",
      " 98. run of importance source...\n",
      " 99. run of importance source...\n"
     ]
    },
    {
     "name": "stdout",
     "output_type": "stream",
     "text": [
      "\n",
      "Drug5: Boruta is running for Panobinostat"
     ]
    },
    {
     "name": "stderr",
     "output_type": "stream",
     "text": [
      " 1. run of importance source...\n",
      " 2. run of importance source...\n",
      " 3. run of importance source...\n",
      " 4. run of importance source...\n",
      " 5. run of importance source...\n",
      " 6. run of importance source...\n",
      " 7. run of importance source...\n",
      " 8. run of importance source...\n",
      " 9. run of importance source...\n",
      " 10. run of importance source...\n",
      " 11. run of importance source...\n",
      " 12. run of importance source...\n",
      " 13. run of importance source...\n",
      " 14. run of importance source...\n",
      " 15. run of importance source...\n",
      " 16. run of importance source...\n",
      " 17. run of importance source...\n",
      " 18. run of importance source...\n",
      " 19. run of importance source...\n",
      " 20. run of importance source...\n",
      " 21. run of importance source...\n",
      "After 21 iterations, +2.7 mins: \n",
      " rejected 20139 attributes: A1BG, A1BG-AS1, A1CF, A2M, A2M-AS1 and 20134 more;\n",
      " still have 35 attributes left.\n",
      "\n",
      " 22. run of importance source...\n",
      " 23. run of importance source...\n",
      " 24. run of importance source...\n",
      " 25. run of importance source...\n",
      " 26. run of importance source...\n",
      "After 26 iterations, +2.7 mins: \n",
      " rejected 13 attributes: DSG2-AS1, FAM184B, GSK3B, LOC101927358, LRRC15 and 8 more;\n",
      " still have 22 attributes left.\n",
      "\n",
      " 27. run of importance source...\n",
      " 28. run of importance source...\n",
      " 29. run of importance source...\n",
      " 30. run of importance source...\n",
      "After 30 iterations, +2.7 mins: \n",
      " rejected 5 attributes: EBP, GGA2, TMUB1, TRAIP, ZNF155;\n",
      " still have 17 attributes left.\n",
      "\n",
      " 31. run of importance source...\n",
      " 32. run of importance source...\n",
      " 33. run of importance source...\n",
      " 34. run of importance source...\n",
      "After 34 iterations, +2.7 mins: \n",
      " rejected 2 attributes: ABL2, PXN-AS1;\n",
      " still have 15 attributes left.\n",
      "\n",
      " 35. run of importance source...\n",
      " 36. run of importance source...\n",
      " 37. run of importance source...\n",
      " 38. run of importance source...\n",
      " 39. run of importance source...\n",
      " 40. run of importance source...\n",
      " 41. run of importance source...\n",
      "After 41 iterations, +2.7 mins: \n",
      " rejected 2 attributes: KCTD10, NCOA6;\n",
      " still have 13 attributes left.\n",
      "\n",
      " 42. run of importance source...\n",
      " 43. run of importance source...\n",
      " 44. run of importance source...\n",
      "After 44 iterations, +2.7 mins: \n",
      " rejected 1 attribute: DNAJB2;\n",
      " still have 12 attributes left.\n",
      "\n",
      " 45. run of importance source...\n",
      " 46. run of importance source...\n",
      " 47. run of importance source...\n",
      " 48. run of importance source...\n",
      " 49. run of importance source...\n",
      " 50. run of importance source...\n",
      " 51. run of importance source...\n",
      "After 51 iterations, +2.7 mins: \n",
      " rejected 1 attribute: CCDC196;\n",
      " still have 11 attributes left.\n",
      "\n",
      " 52. run of importance source...\n",
      " 53. run of importance source...\n",
      " 54. run of importance source...\n",
      " 55. run of importance source...\n",
      " 56. run of importance source...\n",
      " 57. run of importance source...\n",
      "After 57 iterations, +2.7 mins: \n",
      " rejected 1 attribute: LIG1;\n",
      " still have 10 attributes left.\n",
      "\n",
      " 58. run of importance source...\n",
      " 59. run of importance source...\n",
      " 60. run of importance source...\n",
      " 61. run of importance source...\n",
      " 62. run of importance source...\n",
      " 63. run of importance source...\n",
      " 64. run of importance source...\n",
      " 65. run of importance source...\n",
      " 66. run of importance source...\n",
      "After 66 iterations, +2.7 mins: \n",
      " rejected 1 attribute: CHPF2;\n",
      " still have 9 attributes left.\n",
      "\n",
      " 67. run of importance source...\n",
      " 68. run of importance source...\n",
      " 69. run of importance source...\n",
      " 70. run of importance source...\n",
      " 71. run of importance source...\n",
      " 72. run of importance source...\n",
      " 73. run of importance source...\n",
      " 74. run of importance source...\n",
      " 75. run of importance source...\n",
      " 76. run of importance source...\n",
      " 77. run of importance source...\n",
      " 78. run of importance source...\n",
      " 79. run of importance source...\n",
      " 80. run of importance source...\n",
      " 81. run of importance source...\n",
      " 82. run of importance source...\n",
      " 83. run of importance source...\n",
      " 84. run of importance source...\n",
      " 85. run of importance source...\n",
      " 86. run of importance source...\n",
      " 87. run of importance source...\n",
      " 88. run of importance source...\n",
      " 89. run of importance source...\n",
      " 90. run of importance source...\n",
      " 91. run of importance source...\n",
      " 92. run of importance source...\n",
      " 93. run of importance source...\n",
      " 94. run of importance source...\n",
      " 95. run of importance source...\n",
      " 96. run of importance source...\n",
      " 97. run of importance source...\n",
      " 98. run of importance source...\n",
      " 99. run of importance source...\n"
     ]
    },
    {
     "name": "stdout",
     "output_type": "stream",
     "text": [
      "\n",
      "Drug6: Boruta is running for TAE684"
     ]
    },
    {
     "name": "stderr",
     "output_type": "stream",
     "text": [
      " 1. run of importance source...\n",
      " 2. run of importance source...\n",
      " 3. run of importance source...\n",
      " 4. run of importance source...\n",
      " 5. run of importance source...\n",
      " 6. run of importance source...\n",
      " 7. run of importance source...\n",
      " 8. run of importance source...\n",
      " 9. run of importance source...\n",
      " 10. run of importance source...\n",
      " 11. run of importance source...\n",
      " 12. run of importance source...\n",
      " 13. run of importance source...\n",
      " 14. run of importance source...\n",
      " 15. run of importance source...\n",
      " 16. run of importance source...\n",
      " 17. run of importance source...\n",
      " 18. run of importance source...\n",
      " 19. run of importance source...\n",
      " 20. run of importance source...\n",
      " 21. run of importance source...\n",
      "After 21 iterations, +2.3 mins: \n",
      " rejected 20098 attributes: A1BG, A1BG-AS1, A1CF, A2M, A2M-AS1 and 20093 more;\n",
      " still have 76 attributes left.\n",
      "\n",
      " 22. run of importance source...\n",
      " 23. run of importance source...\n",
      " 24. run of importance source...\n",
      " 25. run of importance source...\n",
      " 26. run of importance source...\n",
      "After 26 iterations, +2.3 mins: \n",
      " rejected 15 attributes: ATOX1, CAMK2G, DYDC2, ENC1, GAK and 10 more;\n",
      " still have 61 attributes left.\n",
      "\n",
      " 27. run of importance source...\n",
      " 28. run of importance source...\n",
      " 29. run of importance source...\n",
      " 30. run of importance source...\n",
      "After 30 iterations, +2.3 mins: \n",
      " rejected 6 attributes: C1orf54, ETAA1, HSD17B2, NAA20, NPHS2 and 1 more;\n",
      " still have 55 attributes left.\n",
      "\n",
      " 31. run of importance source...\n",
      " 32. run of importance source...\n",
      " 33. run of importance source...\n",
      " 34. run of importance source...\n",
      "After 34 iterations, +2.3 mins: \n",
      " rejected 3 attributes: FAM171A1, FUS, SLC25A4;\n",
      " still have 52 attributes left.\n",
      "\n",
      " 35. run of importance source...\n",
      " 36. run of importance source...\n",
      " 37. run of importance source...\n",
      " 38. run of importance source...\n",
      " 39. run of importance source...\n",
      " 40. run of importance source...\n",
      " 41. run of importance source...\n",
      " 42. run of importance source...\n",
      " 43. run of importance source...\n",
      " 44. run of importance source...\n",
      "After 44 iterations, +2.3 mins: \n",
      " rejected 2 attributes: LINC01085, SCN4A;\n",
      " still have 50 attributes left.\n",
      "\n",
      " 45. run of importance source...\n",
      " 46. run of importance source...\n",
      " 47. run of importance source...\n",
      " 48. run of importance source...\n",
      " 49. run of importance source...\n",
      " 50. run of importance source...\n",
      " 51. run of importance source...\n",
      " 52. run of importance source...\n",
      " 53. run of importance source...\n",
      " 54. run of importance source...\n",
      "After 54 iterations, +2.3 mins: \n",
      " rejected 1 attribute: RASSF1-AS1;\n",
      " still have 49 attributes left.\n",
      "\n",
      " 55. run of importance source...\n",
      " 56. run of importance source...\n",
      " 57. run of importance source...\n",
      " 58. run of importance source...\n",
      " 59. run of importance source...\n",
      " 60. run of importance source...\n",
      " 61. run of importance source...\n",
      " 62. run of importance source...\n",
      " 63. run of importance source...\n",
      " 64. run of importance source...\n",
      " 65. run of importance source...\n",
      " 66. run of importance source...\n",
      " 67. run of importance source...\n",
      " 68. run of importance source...\n",
      " 69. run of importance source...\n",
      " 70. run of importance source...\n",
      " 71. run of importance source...\n",
      " 72. run of importance source...\n",
      "After 72 iterations, +2.3 mins: \n",
      " confirmed 1 attribute: IL16;\n",
      " still have 48 attributes left.\n",
      "\n",
      " 73. run of importance source...\n",
      " 74. run of importance source...\n",
      " 75. run of importance source...\n",
      " 76. run of importance source...\n",
      " 77. run of importance source...\n",
      " 78. run of importance source...\n",
      " 79. run of importance source...\n",
      " 80. run of importance source...\n",
      "After 80 iterations, +2.3 mins: \n",
      " confirmed 1 attribute: GM2A;\n",
      " still have 47 attributes left.\n",
      "\n",
      " 81. run of importance source...\n",
      " 82. run of importance source...\n",
      " 83. run of importance source...\n",
      "After 83 iterations, +2.3 mins: \n",
      " confirmed 1 attribute: COPS8;\n",
      " still have 46 attributes left.\n",
      "\n",
      " 84. run of importance source...\n",
      " 85. run of importance source...\n",
      " 86. run of importance source...\n",
      "After 86 iterations, +2.3 mins: \n",
      " confirmed 4 attributes: ARL3, CATSPER3, CEP41, DHRS12;\n",
      " still have 42 attributes left.\n",
      "\n",
      " 87. run of importance source...\n",
      " 88. run of importance source...\n",
      " 89. run of importance source...\n",
      " 90. run of importance source...\n",
      " 91. run of importance source...\n",
      "After 91 iterations, +2.3 mins: \n",
      " confirmed 1 attribute: TGFBRAP1;\n",
      " still have 41 attributes left.\n",
      "\n",
      " 92. run of importance source...\n",
      " 93. run of importance source...\n",
      " 94. run of importance source...\n",
      "After 94 iterations, +2.3 mins: \n",
      " confirmed 1 attribute: RNF123;\n",
      " still have 40 attributes left.\n",
      "\n",
      " 95. run of importance source...\n",
      " 96. run of importance source...\n",
      " 97. run of importance source...\n",
      " 98. run of importance source...\n",
      " 99. run of importance source...\n",
      "After 99 iterations, +2.3 mins: \n",
      " confirmed 2 attributes: PRRX2, TRAF3IP2;\n",
      " still have 38 attributes left.\n",
      "\n"
     ]
    },
    {
     "name": "stdout",
     "output_type": "stream",
     "text": [
      "\n",
      "Drug7: Boruta is running for TKI258"
     ]
    },
    {
     "name": "stderr",
     "output_type": "stream",
     "text": [
      " 1. run of importance source...\n",
      " 2. run of importance source...\n",
      " 3. run of importance source...\n",
      " 4. run of importance source...\n",
      " 5. run of importance source...\n",
      " 6. run of importance source...\n",
      " 7. run of importance source...\n",
      " 8. run of importance source...\n",
      " 9. run of importance source...\n",
      " 10. run of importance source...\n",
      " 11. run of importance source...\n",
      " 12. run of importance source...\n",
      " 13. run of importance source...\n",
      " 14. run of importance source...\n",
      " 15. run of importance source...\n",
      " 16. run of importance source...\n",
      " 17. run of importance source...\n",
      " 18. run of importance source...\n",
      " 19. run of importance source...\n",
      " 20. run of importance source...\n",
      " 21. run of importance source...\n",
      "After 21 iterations, +2.2 mins: \n",
      " rejected 20157 attributes: A1BG, A1BG-AS1, A1CF, A2M, A2M-AS1 and 20152 more;\n",
      " still have 17 attributes left.\n",
      "\n",
      " 22. run of importance source...\n",
      " 23. run of importance source...\n",
      " 24. run of importance source...\n",
      " 25. run of importance source...\n",
      " 26. run of importance source...\n",
      "After 26 iterations, +2.2 mins: \n",
      " rejected 1 attribute: E2F3;\n",
      " still have 16 attributes left.\n",
      "\n",
      " 27. run of importance source...\n",
      " 28. run of importance source...\n",
      " 29. run of importance source...\n",
      " 30. run of importance source...\n",
      " 31. run of importance source...\n",
      " 32. run of importance source...\n",
      " 33. run of importance source...\n",
      " 34. run of importance source...\n",
      "After 34 iterations, +2.3 mins: \n",
      " rejected 1 attribute: LINC02997;\n",
      " still have 15 attributes left.\n",
      "\n",
      " 35. run of importance source...\n",
      " 36. run of importance source...\n",
      " 37. run of importance source...\n",
      " 38. run of importance source...\n",
      " 39. run of importance source...\n",
      " 40. run of importance source...\n",
      " 41. run of importance source...\n",
      " 42. run of importance source...\n",
      " 43. run of importance source...\n",
      " 44. run of importance source...\n",
      " 45. run of importance source...\n",
      " 46. run of importance source...\n",
      " 47. run of importance source...\n",
      " 48. run of importance source...\n",
      " 49. run of importance source...\n",
      " 50. run of importance source...\n",
      " 51. run of importance source...\n",
      " 52. run of importance source...\n",
      " 53. run of importance source...\n",
      " 54. run of importance source...\n",
      " 55. run of importance source...\n",
      " 56. run of importance source...\n",
      " 57. run of importance source...\n",
      " 58. run of importance source...\n",
      " 59. run of importance source...\n",
      " 60. run of importance source...\n",
      " 61. run of importance source...\n",
      " 62. run of importance source...\n",
      " 63. run of importance source...\n",
      " 64. run of importance source...\n",
      " 65. run of importance source...\n",
      " 66. run of importance source...\n",
      " 67. run of importance source...\n",
      " 68. run of importance source...\n",
      " 69. run of importance source...\n",
      " 70. run of importance source...\n",
      " 71. run of importance source...\n",
      " 72. run of importance source...\n",
      " 73. run of importance source...\n",
      " 74. run of importance source...\n",
      " 75. run of importance source...\n",
      " 76. run of importance source...\n",
      " 77. run of importance source...\n",
      "After 77 iterations, +2.3 mins: \n",
      " confirmed 1 attribute: SCAMP1-AS1;\n",
      " still have 14 attributes left.\n",
      "\n",
      " 78. run of importance source...\n",
      " 79. run of importance source...\n",
      " 80. run of importance source...\n",
      "After 80 iterations, +2.3 mins: \n",
      " confirmed 1 attribute: NFIA-AS2;\n",
      " still have 13 attributes left.\n",
      "\n",
      " 81. run of importance source...\n",
      " 82. run of importance source...\n",
      " 83. run of importance source...\n",
      " 84. run of importance source...\n",
      " 85. run of importance source...\n",
      " 86. run of importance source...\n",
      "After 86 iterations, +2.3 mins: \n",
      " confirmed 3 attributes: FAM230I, TOLLIP-DT, UGT2B17;\n",
      " still have 10 attributes left.\n",
      "\n",
      " 87. run of importance source...\n",
      " 88. run of importance source...\n",
      "After 88 iterations, +2.3 mins: \n",
      " confirmed 1 attribute: MAP3K1;\n",
      " still have 9 attributes left.\n",
      "\n",
      " 89. run of importance source...\n",
      " 90. run of importance source...\n",
      " 91. run of importance source...\n",
      " 92. run of importance source...\n",
      " 93. run of importance source...\n",
      " 94. run of importance source...\n",
      " 95. run of importance source...\n",
      " 96. run of importance source...\n",
      "After 96 iterations, +2.3 mins: \n",
      " confirmed 1 attribute: LINC01119;\n",
      " still have 8 attributes left.\n",
      "\n",
      " 97. run of importance source...\n",
      " 98. run of importance source...\n",
      " 99. run of importance source...\n",
      "After 99 iterations, +2.3 mins: \n",
      " confirmed 1 attribute: VWA8-AS1;\n",
      " still have 7 attributes left.\n",
      "\n"
     ]
    },
    {
     "name": "stdout",
     "output_type": "stream",
     "text": [
      "\n",
      "Drug8: Boruta is running for 17-AAG"
     ]
    },
    {
     "name": "stderr",
     "output_type": "stream",
     "text": [
      " 1. run of importance source...\n",
      " 2. run of importance source...\n",
      " 3. run of importance source...\n",
      " 4. run of importance source...\n",
      " 5. run of importance source...\n",
      " 6. run of importance source...\n",
      " 7. run of importance source...\n",
      " 8. run of importance source...\n",
      " 9. run of importance source...\n",
      " 10. run of importance source...\n",
      " 11. run of importance source...\n",
      " 12. run of importance source...\n",
      " 13. run of importance source...\n",
      " 14. run of importance source...\n",
      " 15. run of importance source...\n",
      " 16. run of importance source...\n",
      " 17. run of importance source...\n",
      " 18. run of importance source...\n",
      " 19. run of importance source...\n",
      " 20. run of importance source...\n",
      " 21. run of importance source...\n",
      "After 21 iterations, +2.6 mins: \n",
      " rejected 20138 attributes: A1BG, A1BG-AS1, A1CF, A2M, A2M-AS1 and 20133 more;\n",
      " still have 36 attributes left.\n",
      "\n",
      " 22. run of importance source...\n",
      " 23. run of importance source...\n",
      " 24. run of importance source...\n",
      " 25. run of importance source...\n",
      " 26. run of importance source...\n",
      "After 26 iterations, +2.6 mins: \n",
      " rejected 18 attributes: AGAP2-AS1, BLTP2, C14orf180, CBARP, CYP17A1 and 13 more;\n",
      " still have 18 attributes left.\n",
      "\n",
      " 27. run of importance source...\n",
      " 28. run of importance source...\n",
      " 29. run of importance source...\n",
      " 30. run of importance source...\n",
      " 31. run of importance source...\n",
      " 32. run of importance source...\n",
      " 33. run of importance source...\n",
      " 34. run of importance source...\n",
      " 35. run of importance source...\n",
      " 36. run of importance source...\n",
      " 37. run of importance source...\n",
      " 38. run of importance source...\n",
      " 39. run of importance source...\n",
      " 40. run of importance source...\n",
      " 41. run of importance source...\n",
      " 42. run of importance source...\n",
      " 43. run of importance source...\n",
      " 44. run of importance source...\n",
      " 45. run of importance source...\n",
      " 46. run of importance source...\n",
      " 47. run of importance source...\n",
      " 48. run of importance source...\n",
      " 49. run of importance source...\n",
      " 50. run of importance source...\n",
      " 51. run of importance source...\n",
      " 52. run of importance source...\n",
      " 53. run of importance source...\n",
      " 54. run of importance source...\n",
      " 55. run of importance source...\n",
      " 56. run of importance source...\n",
      " 57. run of importance source...\n",
      " 58. run of importance source...\n",
      " 59. run of importance source...\n",
      " 60. run of importance source...\n",
      " 61. run of importance source...\n",
      " 62. run of importance source...\n",
      " 63. run of importance source...\n",
      " 64. run of importance source...\n",
      " 65. run of importance source...\n",
      " 66. run of importance source...\n",
      " 67. run of importance source...\n",
      " 68. run of importance source...\n",
      " 69. run of importance source...\n",
      " 70. run of importance source...\n",
      " 71. run of importance source...\n",
      " 72. run of importance source...\n",
      "After 72 iterations, +2.6 mins: \n",
      " confirmed 1 attribute: CDC42EP5;\n",
      " still have 17 attributes left.\n",
      "\n",
      " 73. run of importance source...\n",
      " 74. run of importance source...\n",
      " 75. run of importance source...\n",
      " 76. run of importance source...\n",
      " 77. run of importance source...\n",
      "After 77 iterations, +2.6 mins: \n",
      " confirmed 1 attribute: EPS15;\n",
      " still have 16 attributes left.\n",
      "\n",
      " 78. run of importance source...\n",
      " 79. run of importance source...\n",
      " 80. run of importance source...\n",
      "After 80 iterations, +2.7 mins: \n",
      " confirmed 1 attribute: CDC42SE2;\n",
      " still have 15 attributes left.\n",
      "\n",
      " 81. run of importance source...\n",
      " 82. run of importance source...\n",
      " 83. run of importance source...\n",
      " 84. run of importance source...\n",
      " 85. run of importance source...\n",
      " 86. run of importance source...\n",
      "After 86 iterations, +2.7 mins: \n",
      " confirmed 2 attributes: GDF11, RCHY1;\n",
      " rejected 1 attribute: ALOX15;\n",
      " still have 12 attributes left.\n",
      "\n",
      " 87. run of importance source...\n",
      " 88. run of importance source...\n",
      "After 88 iterations, +2.7 mins: \n",
      " confirmed 1 attribute: KIAA2013;\n",
      " still have 11 attributes left.\n",
      "\n",
      " 89. run of importance source...\n",
      " 90. run of importance source...\n",
      " 91. run of importance source...\n",
      "After 91 iterations, +2.7 mins: \n",
      " confirmed 3 attributes: LAMA2, TCP1, ZC3H14;\n",
      " still have 8 attributes left.\n",
      "\n",
      " 92. run of importance source...\n",
      " 93. run of importance source...\n",
      " 94. run of importance source...\n",
      " 95. run of importance source...\n",
      " 96. run of importance source...\n",
      "After 96 iterations, +2.7 mins: \n",
      " confirmed 3 attributes: CMBL, GNL2, PPIH;\n",
      " still have 5 attributes left.\n",
      "\n",
      " 97. run of importance source...\n",
      " 98. run of importance source...\n",
      " 99. run of importance source...\n"
     ]
    },
    {
     "name": "stdout",
     "output_type": "stream",
     "text": [
      "\n",
      "Drug9: Boruta is running for L-685458"
     ]
    },
    {
     "name": "stderr",
     "output_type": "stream",
     "text": [
      " 1. run of importance source...\n",
      " 2. run of importance source...\n",
      " 3. run of importance source...\n",
      " 4. run of importance source...\n",
      " 5. run of importance source...\n",
      " 6. run of importance source...\n",
      " 7. run of importance source...\n",
      " 8. run of importance source...\n",
      " 9. run of importance source...\n",
      " 10. run of importance source...\n",
      " 11. run of importance source...\n",
      " 12. run of importance source...\n",
      " 13. run of importance source...\n",
      " 14. run of importance source...\n",
      " 15. run of importance source...\n",
      " 16. run of importance source...\n",
      " 17. run of importance source...\n",
      " 18. run of importance source...\n",
      " 19. run of importance source...\n",
      " 20. run of importance source...\n",
      " 21. run of importance source...\n",
      "After 21 iterations, +1.8 mins: \n",
      " rejected 20172 attributes: A1BG, A1BG-AS1, A1CF, A2M, A2M-AS1 and 20167 more;\n",
      " still have 2 attributes left.\n",
      "\n",
      " 22. run of importance source...\n",
      " 23. run of importance source...\n",
      " 24. run of importance source...\n",
      " 25. run of importance source...\n",
      " 26. run of importance source...\n",
      " 27. run of importance source...\n",
      " 28. run of importance source...\n",
      " 29. run of importance source...\n",
      " 30. run of importance source...\n",
      " 31. run of importance source...\n",
      " 32. run of importance source...\n",
      " 33. run of importance source...\n",
      " 34. run of importance source...\n",
      " 35. run of importance source...\n",
      " 36. run of importance source...\n",
      " 37. run of importance source...\n",
      " 38. run of importance source...\n",
      " 39. run of importance source...\n",
      " 40. run of importance source...\n",
      " 41. run of importance source...\n",
      " 42. run of importance source...\n",
      " 43. run of importance source...\n",
      " 44. run of importance source...\n",
      " 45. run of importance source...\n",
      " 46. run of importance source...\n",
      " 47. run of importance source...\n",
      " 48. run of importance source...\n",
      " 49. run of importance source...\n",
      " 50. run of importance source...\n",
      " 51. run of importance source...\n",
      " 52. run of importance source...\n",
      " 53. run of importance source...\n",
      " 54. run of importance source...\n",
      " 55. run of importance source...\n",
      " 56. run of importance source...\n",
      " 57. run of importance source...\n",
      " 58. run of importance source...\n",
      " 59. run of importance source...\n",
      " 60. run of importance source...\n",
      " 61. run of importance source...\n",
      " 62. run of importance source...\n",
      " 63. run of importance source...\n",
      " 64. run of importance source...\n",
      " 65. run of importance source...\n",
      " 66. run of importance source...\n",
      " 67. run of importance source...\n",
      " 68. run of importance source...\n",
      " 69. run of importance source...\n",
      " 70. run of importance source...\n",
      " 71. run of importance source...\n",
      " 72. run of importance source...\n",
      " 73. run of importance source...\n",
      " 74. run of importance source...\n",
      " 75. run of importance source...\n",
      " 76. run of importance source...\n",
      " 77. run of importance source...\n",
      " 78. run of importance source...\n",
      " 79. run of importance source...\n",
      " 80. run of importance source...\n",
      " 81. run of importance source...\n",
      " 82. run of importance source...\n",
      " 83. run of importance source...\n",
      " 84. run of importance source...\n",
      " 85. run of importance source...\n",
      " 86. run of importance source...\n",
      " 87. run of importance source...\n",
      " 88. run of importance source...\n",
      "After 88 iterations, +1.9 mins: \n",
      " confirmed 1 attribute: FARSB;\n",
      " still have 1 attribute left.\n",
      "\n",
      " 89. run of importance source...\n",
      " 90. run of importance source...\n",
      " 91. run of importance source...\n",
      " 92. run of importance source...\n",
      " 93. run of importance source...\n",
      " 94. run of importance source...\n",
      "After 94 iterations, +1.9 mins: \n",
      " confirmed 1 attribute: DNAJC19;\n",
      " no more attributes left.\n",
      "\n",
      "Warning message in TentativeRoughFix(boruta):\n",
      "\"There are no Tentative attributes! Returning original object.\""
     ]
    },
    {
     "name": "stdout",
     "output_type": "stream",
     "text": [
      "\n",
      "Drug10: Boruta is running for Topotecan"
     ]
    },
    {
     "name": "stderr",
     "output_type": "stream",
     "text": [
      " 1. run of importance source...\n",
      " 2. run of importance source...\n",
      " 3. run of importance source...\n",
      " 4. run of importance source...\n",
      " 5. run of importance source...\n",
      " 6. run of importance source...\n",
      " 7. run of importance source...\n",
      " 8. run of importance source...\n",
      " 9. run of importance source...\n",
      " 10. run of importance source...\n",
      " 11. run of importance source...\n",
      " 12. run of importance source...\n",
      " 13. run of importance source...\n",
      " 14. run of importance source...\n",
      " 15. run of importance source...\n",
      " 16. run of importance source...\n",
      " 17. run of importance source...\n",
      " 18. run of importance source...\n",
      " 19. run of importance source...\n",
      " 20. run of importance source...\n",
      " 21. run of importance source...\n",
      "After 21 iterations, +2.5 mins: \n",
      " rejected 20145 attributes: A1BG, A1BG-AS1, A1CF, A2M, A2M-AS1 and 20140 more;\n",
      " still have 29 attributes left.\n",
      "\n",
      " 22. run of importance source...\n",
      " 23. run of importance source...\n",
      " 24. run of importance source...\n",
      " 25. run of importance source...\n",
      " 26. run of importance source...\n",
      "After 26 iterations, +2.5 mins: \n",
      " rejected 8 attributes: ADAM19, DPH6-DT, EFCAB11, KRT37, MIR2052HG and 3 more;\n",
      " still have 21 attributes left.\n",
      "\n",
      " 27. run of importance source...\n",
      " 28. run of importance source...\n",
      " 29. run of importance source...\n",
      " 30. run of importance source...\n",
      "After 30 iterations, +2.5 mins: \n",
      " rejected 1 attribute: FNDC10;\n",
      " still have 20 attributes left.\n",
      "\n",
      " 31. run of importance source...\n",
      " 32. run of importance source...\n",
      " 33. run of importance source...\n",
      " 34. run of importance source...\n",
      " 35. run of importance source...\n",
      " 36. run of importance source...\n",
      " 37. run of importance source...\n",
      " 38. run of importance source...\n",
      " 39. run of importance source...\n",
      " 40. run of importance source...\n",
      " 41. run of importance source...\n",
      " 42. run of importance source...\n",
      " 43. run of importance source...\n",
      " 44. run of importance source...\n",
      " 45. run of importance source...\n",
      " 46. run of importance source...\n",
      " 47. run of importance source...\n",
      " 48. run of importance source...\n",
      " 49. run of importance source...\n",
      " 50. run of importance source...\n",
      " 51. run of importance source...\n",
      " 52. run of importance source...\n",
      " 53. run of importance source...\n",
      " 54. run of importance source...\n",
      " 55. run of importance source...\n",
      " 56. run of importance source...\n",
      " 57. run of importance source...\n",
      " 58. run of importance source...\n",
      " 59. run of importance source...\n",
      " 60. run of importance source...\n",
      " 61. run of importance source...\n",
      " 62. run of importance source...\n",
      " 63. run of importance source...\n",
      " 64. run of importance source...\n",
      " 65. run of importance source...\n",
      " 66. run of importance source...\n",
      " 67. run of importance source...\n",
      " 68. run of importance source...\n",
      " 69. run of importance source...\n",
      " 70. run of importance source...\n",
      " 71. run of importance source...\n",
      " 72. run of importance source...\n",
      " 73. run of importance source...\n",
      " 74. run of importance source...\n",
      " 75. run of importance source...\n",
      " 76. run of importance source...\n",
      " 77. run of importance source...\n",
      " 78. run of importance source...\n",
      " 79. run of importance source...\n",
      " 80. run of importance source...\n",
      " 81. run of importance source...\n",
      " 82. run of importance source...\n",
      " 83. run of importance source...\n",
      " 84. run of importance source...\n",
      " 85. run of importance source...\n",
      " 86. run of importance source...\n",
      "After 86 iterations, +2.6 mins: \n",
      " confirmed 1 attribute: TMEM45A;\n",
      " still have 19 attributes left.\n",
      "\n",
      " 87. run of importance source...\n",
      " 88. run of importance source...\n",
      "After 88 iterations, +2.6 mins: \n",
      " confirmed 1 attribute: YJU2;\n",
      " still have 18 attributes left.\n",
      "\n",
      " 89. run of importance source...\n",
      " 90. run of importance source...\n",
      " 91. run of importance source...\n",
      "After 91 iterations, +2.6 mins: \n",
      " confirmed 4 attributes: C2CD3, DYNLRB1, FBXO45, NECAB3;\n",
      " still have 14 attributes left.\n",
      "\n",
      " 92. run of importance source...\n",
      " 93. run of importance source...\n",
      " 94. run of importance source...\n",
      "After 94 iterations, +2.6 mins: \n",
      " confirmed 2 attributes: GALNT2, SOX8;\n",
      " still have 12 attributes left.\n",
      "\n",
      " 95. run of importance source...\n",
      " 96. run of importance source...\n",
      "After 96 iterations, +2.6 mins: \n",
      " confirmed 1 attribute: ZNF750;\n",
      " still have 11 attributes left.\n",
      "\n",
      " 97. run of importance source...\n",
      " 98. run of importance source...\n",
      " 99. run of importance source...\n"
     ]
    },
    {
     "name": "stdout",
     "output_type": "stream",
     "text": [
      "\n",
      "Drug11: Boruta is running for Nutlin-3"
     ]
    },
    {
     "name": "stderr",
     "output_type": "stream",
     "text": [
      " 1. run of importance source...\n",
      " 2. run of importance source...\n",
      " 3. run of importance source...\n",
      " 4. run of importance source...\n",
      " 5. run of importance source...\n",
      " 6. run of importance source...\n",
      " 7. run of importance source...\n",
      " 8. run of importance source...\n",
      " 9. run of importance source...\n",
      " 10. run of importance source...\n",
      " 11. run of importance source...\n",
      " 12. run of importance source...\n",
      " 13. run of importance source...\n",
      " 14. run of importance source...\n",
      " 15. run of importance source...\n",
      " 16. run of importance source...\n",
      " 17. run of importance source...\n",
      " 18. run of importance source...\n",
      " 19. run of importance source...\n",
      " 20. run of importance source...\n",
      " 21. run of importance source...\n",
      "After 21 iterations, +1.7 mins: \n",
      " rejected 20174 attributes: A1BG, A1BG-AS1, A1CF, A2M, A2M-AS1 and 20169 more;\n",
      " no more attributes left.\n",
      "\n",
      "Warning message in TentativeRoughFix(boruta):\n",
      "\"There are no Tentative attributes! Returning original object.\""
     ]
    },
    {
     "name": "stdout",
     "output_type": "stream",
     "text": [
      "\n",
      "Drug12: Boruta is running for ZD-6474"
     ]
    },
    {
     "name": "stderr",
     "output_type": "stream",
     "text": [
      " 1. run of importance source...\n",
      " 2. run of importance source...\n",
      " 3. run of importance source...\n",
      " 4. run of importance source...\n",
      " 5. run of importance source...\n",
      " 6. run of importance source...\n",
      " 7. run of importance source...\n",
      " 8. run of importance source...\n",
      " 9. run of importance source...\n",
      " 10. run of importance source...\n",
      " 11. run of importance source...\n",
      " 12. run of importance source...\n",
      " 13. run of importance source...\n",
      " 14. run of importance source...\n",
      " 15. run of importance source...\n",
      " 16. run of importance source...\n",
      " 17. run of importance source...\n",
      " 18. run of importance source...\n",
      " 19. run of importance source...\n",
      " 20. run of importance source...\n",
      " 21. run of importance source...\n",
      "After 21 iterations, +2.2 mins: \n",
      " rejected 20142 attributes: A1BG, A1BG-AS1, A1CF, A2M, A2M-AS1 and 20137 more;\n",
      " still have 32 attributes left.\n",
      "\n",
      " 22. run of importance source...\n",
      " 23. run of importance source...\n",
      " 24. run of importance source...\n",
      " 25. run of importance source...\n",
      " 26. run of importance source...\n",
      "After 26 iterations, +2.2 mins: \n",
      " rejected 2 attributes: AOC1, HAO1;\n",
      " still have 30 attributes left.\n",
      "\n",
      " 27. run of importance source...\n",
      " 28. run of importance source...\n",
      " 29. run of importance source...\n",
      " 30. run of importance source...\n",
      "After 30 iterations, +2.2 mins: \n",
      " rejected 2 attributes: LDAH, PCDH18;\n",
      " still have 28 attributes left.\n",
      "\n",
      " 31. run of importance source...\n",
      " 32. run of importance source...\n",
      " 33. run of importance source...\n",
      " 34. run of importance source...\n",
      " 35. run of importance source...\n",
      " 36. run of importance source...\n",
      " 37. run of importance source...\n",
      " 38. run of importance source...\n",
      " 39. run of importance source...\n",
      " 40. run of importance source...\n",
      " 41. run of importance source...\n",
      "After 41 iterations, +2.2 mins: \n",
      " rejected 1 attribute: SMPD1;\n",
      " still have 27 attributes left.\n",
      "\n",
      " 42. run of importance source...\n",
      " 43. run of importance source...\n",
      " 44. run of importance source...\n",
      " 45. run of importance source...\n",
      " 46. run of importance source...\n",
      " 47. run of importance source...\n",
      " 48. run of importance source...\n",
      " 49. run of importance source...\n",
      " 50. run of importance source...\n",
      " 51. run of importance source...\n",
      " 52. run of importance source...\n",
      " 53. run of importance source...\n",
      " 54. run of importance source...\n",
      " 55. run of importance source...\n",
      " 56. run of importance source...\n",
      " 57. run of importance source...\n",
      " 58. run of importance source...\n",
      " 59. run of importance source...\n",
      " 60. run of importance source...\n",
      " 61. run of importance source...\n",
      " 62. run of importance source...\n",
      " 63. run of importance source...\n",
      " 64. run of importance source...\n",
      " 65. run of importance source...\n",
      " 66. run of importance source...\n",
      " 67. run of importance source...\n",
      " 68. run of importance source...\n",
      " 69. run of importance source...\n",
      " 70. run of importance source...\n",
      " 71. run of importance source...\n",
      " 72. run of importance source...\n",
      " 73. run of importance source...\n",
      " 74. run of importance source...\n",
      "After 74 iterations, +2.2 mins: \n",
      " confirmed 1 attribute: LINC01988;\n",
      " still have 26 attributes left.\n",
      "\n",
      " 75. run of importance source...\n",
      " 76. run of importance source...\n",
      " 77. run of importance source...\n",
      " 78. run of importance source...\n",
      " 79. run of importance source...\n",
      " 80. run of importance source...\n",
      "After 80 iterations, +2.2 mins: \n",
      " confirmed 1 attribute: TMEM132B;\n",
      " still have 25 attributes left.\n",
      "\n",
      " 81. run of importance source...\n",
      " 82. run of importance source...\n",
      " 83. run of importance source...\n",
      "After 83 iterations, +2.2 mins: \n",
      " confirmed 1 attribute: SERPINA7;\n",
      " still have 24 attributes left.\n",
      "\n",
      " 84. run of importance source...\n",
      " 85. run of importance source...\n",
      " 86. run of importance source...\n",
      "After 86 iterations, +2.2 mins: \n",
      " confirmed 2 attributes: FOXO6, TIGD7;\n",
      " still have 22 attributes left.\n",
      "\n",
      " 87. run of importance source...\n",
      " 88. run of importance source...\n",
      "After 88 iterations, +2.2 mins: \n",
      " confirmed 2 attributes: ADAM11, LRSAM1;\n",
      " still have 20 attributes left.\n",
      "\n",
      " 89. run of importance source...\n",
      " 90. run of importance source...\n",
      " 91. run of importance source...\n",
      "After 91 iterations, +2.2 mins: \n",
      " confirmed 1 attribute: FBXW5;\n",
      " still have 19 attributes left.\n",
      "\n",
      " 92. run of importance source...\n",
      " 93. run of importance source...\n",
      " 94. run of importance source...\n",
      " 95. run of importance source...\n",
      " 96. run of importance source...\n",
      "After 96 iterations, +2.2 mins: \n",
      " confirmed 1 attribute: TMEM167B;\n",
      " still have 18 attributes left.\n",
      "\n",
      " 97. run of importance source...\n",
      " 98. run of importance source...\n",
      " 99. run of importance source...\n",
      "After 99 iterations, +2.2 mins: \n",
      " confirmed 2 attributes: HMGB2, VWA8-AS1;\n",
      " still have 16 attributes left.\n",
      "\n"
     ]
    },
    {
     "name": "stdout",
     "output_type": "stream",
     "text": [
      "\n",
      "Drug13: Boruta is running for Paclitaxel"
     ]
    },
    {
     "name": "stderr",
     "output_type": "stream",
     "text": [
      " 1. run of importance source...\n",
      " 2. run of importance source...\n",
      " 3. run of importance source...\n",
      " 4. run of importance source...\n",
      " 5. run of importance source...\n",
      " 6. run of importance source...\n",
      " 7. run of importance source...\n",
      " 8. run of importance source...\n",
      " 9. run of importance source...\n",
      " 10. run of importance source...\n",
      " 11. run of importance source...\n",
      " 12. run of importance source...\n",
      " 13. run of importance source...\n",
      " 14. run of importance source...\n",
      " 15. run of importance source...\n",
      " 16. run of importance source...\n",
      " 17. run of importance source...\n",
      " 18. run of importance source...\n",
      " 19. run of importance source...\n",
      " 20. run of importance source...\n",
      " 21. run of importance source...\n",
      "After 21 iterations, +2.6 mins: \n",
      " rejected 20142 attributes: A1BG, A1BG-AS1, A1CF, A2M, A2M-AS1 and 20137 more;\n",
      " still have 32 attributes left.\n",
      "\n",
      " 22. run of importance source...\n",
      " 23. run of importance source...\n",
      " 24. run of importance source...\n",
      " 25. run of importance source...\n",
      " 26. run of importance source...\n",
      "After 26 iterations, +2.6 mins: \n",
      " rejected 21 attributes: ATP5F1C, CALML4, CLEC2B, DLL4, EMSLR and 16 more;\n",
      " still have 11 attributes left.\n",
      "\n",
      " 27. run of importance source...\n",
      " 28. run of importance source...\n",
      " 29. run of importance source...\n",
      " 30. run of importance source...\n",
      "After 30 iterations, +2.6 mins: \n",
      " rejected 4 attributes: CEBPZ, KPNA6, NIPAL2, RPL35A;\n",
      " still have 7 attributes left.\n",
      "\n",
      " 31. run of importance source...\n",
      " 32. run of importance source...\n",
      " 33. run of importance source...\n",
      " 34. run of importance source...\n",
      "After 34 iterations, +2.6 mins: \n",
      " rejected 2 attributes: TFAM, ZNF638;\n",
      " still have 5 attributes left.\n",
      "\n",
      " 35. run of importance source...\n",
      " 36. run of importance source...\n",
      " 37. run of importance source...\n",
      " 38. run of importance source...\n",
      " 39. run of importance source...\n",
      " 40. run of importance source...\n",
      " 41. run of importance source...\n",
      " 42. run of importance source...\n",
      " 43. run of importance source...\n",
      " 44. run of importance source...\n",
      " 45. run of importance source...\n",
      " 46. run of importance source...\n",
      " 47. run of importance source...\n",
      " 48. run of importance source...\n",
      " 49. run of importance source...\n",
      " 50. run of importance source...\n",
      " 51. run of importance source...\n",
      " 52. run of importance source...\n",
      " 53. run of importance source...\n",
      " 54. run of importance source...\n",
      " 55. run of importance source...\n",
      " 56. run of importance source...\n",
      " 57. run of importance source...\n",
      " 58. run of importance source...\n",
      " 59. run of importance source...\n",
      " 60. run of importance source...\n",
      " 61. run of importance source...\n",
      " 62. run of importance source...\n",
      " 63. run of importance source...\n",
      " 64. run of importance source...\n",
      " 65. run of importance source...\n",
      " 66. run of importance source...\n",
      " 67. run of importance source...\n",
      " 68. run of importance source...\n",
      " 69. run of importance source...\n",
      " 70. run of importance source...\n",
      " 71. run of importance source...\n",
      " 72. run of importance source...\n",
      " 73. run of importance source...\n",
      " 74. run of importance source...\n",
      " 75. run of importance source...\n",
      " 76. run of importance source...\n",
      " 77. run of importance source...\n",
      " 78. run of importance source...\n",
      " 79. run of importance source...\n",
      " 80. run of importance source...\n",
      " 81. run of importance source...\n",
      " 82. run of importance source...\n",
      " 83. run of importance source...\n",
      " 84. run of importance source...\n",
      " 85. run of importance source...\n",
      " 86. run of importance source...\n",
      " 87. run of importance source...\n",
      " 88. run of importance source...\n",
      "After 88 iterations, +2.6 mins: \n",
      " confirmed 1 attribute: IL22RA2;\n",
      " still have 4 attributes left.\n",
      "\n",
      " 89. run of importance source...\n",
      " 90. run of importance source...\n",
      " 91. run of importance source...\n",
      " 92. run of importance source...\n",
      " 93. run of importance source...\n",
      " 94. run of importance source...\n",
      " 95. run of importance source...\n",
      " 96. run of importance source...\n",
      " 97. run of importance source...\n",
      " 98. run of importance source...\n",
      " 99. run of importance source...\n"
     ]
    },
    {
     "name": "stdout",
     "output_type": "stream",
     "text": [
      "\n",
      "Drug14: Boruta is running for Irinotecan"
     ]
    },
    {
     "name": "stderr",
     "output_type": "stream",
     "text": [
      " 1. run of importance source...\n",
      " 2. run of importance source...\n",
      " 3. run of importance source...\n",
      " 4. run of importance source...\n",
      " 5. run of importance source...\n",
      " 6. run of importance source...\n",
      " 7. run of importance source...\n",
      " 8. run of importance source...\n",
      " 9. run of importance source...\n",
      " 10. run of importance source...\n",
      " 11. run of importance source...\n",
      " 12. run of importance source...\n",
      " 13. run of importance source...\n",
      " 14. run of importance source...\n",
      " 15. run of importance source...\n",
      " 16. run of importance source...\n",
      " 17. run of importance source...\n",
      " 18. run of importance source...\n",
      " 19. run of importance source...\n",
      " 20. run of importance source...\n",
      " 21. run of importance source...\n",
      "After 21 iterations, +2 mins: \n",
      " rejected 20154 attributes: A1BG, A1BG-AS1, A1CF, A2M, A2M-AS1 and 20149 more;\n",
      " still have 20 attributes left.\n",
      "\n",
      " 22. run of importance source...\n",
      " 23. run of importance source...\n",
      " 24. run of importance source...\n",
      " 25. run of importance source...\n",
      " 26. run of importance source...\n",
      "After 26 iterations, +2 mins: \n",
      " rejected 6 attributes: HGD, LINC00920, SGSM2, SLC15A4, TAS2R3 and 1 more;\n",
      " still have 14 attributes left.\n",
      "\n",
      " 27. run of importance source...\n",
      " 28. run of importance source...\n",
      " 29. run of importance source...\n",
      " 30. run of importance source...\n",
      " 31. run of importance source...\n",
      " 32. run of importance source...\n",
      " 33. run of importance source...\n",
      " 34. run of importance source...\n",
      " 35. run of importance source...\n",
      " 36. run of importance source...\n",
      " 37. run of importance source...\n",
      " 38. run of importance source...\n",
      "After 38 iterations, +2.1 mins: \n",
      " rejected 2 attributes: LOC100131676, MARK2;\n",
      " still have 12 attributes left.\n",
      "\n",
      " 39. run of importance source...\n",
      " 40. run of importance source...\n",
      " 41. run of importance source...\n",
      " 42. run of importance source...\n",
      " 43. run of importance source...\n",
      " 44. run of importance source...\n",
      " 45. run of importance source...\n",
      " 46. run of importance source...\n",
      " 47. run of importance source...\n",
      " 48. run of importance source...\n",
      " 49. run of importance source...\n",
      " 50. run of importance source...\n",
      " 51. run of importance source...\n",
      " 52. run of importance source...\n",
      " 53. run of importance source...\n",
      " 54. run of importance source...\n",
      " 55. run of importance source...\n",
      " 56. run of importance source...\n",
      " 57. run of importance source...\n",
      " 58. run of importance source...\n",
      " 59. run of importance source...\n",
      " 60. run of importance source...\n",
      " 61. run of importance source...\n",
      " 62. run of importance source...\n",
      " 63. run of importance source...\n",
      " 64. run of importance source...\n",
      " 65. run of importance source...\n",
      " 66. run of importance source...\n",
      " 67. run of importance source...\n",
      " 68. run of importance source...\n",
      " 69. run of importance source...\n",
      " 70. run of importance source...\n",
      " 71. run of importance source...\n",
      " 72. run of importance source...\n",
      " 73. run of importance source...\n",
      " 74. run of importance source...\n",
      " 75. run of importance source...\n",
      " 76. run of importance source...\n",
      " 77. run of importance source...\n",
      " 78. run of importance source...\n",
      " 79. run of importance source...\n",
      " 80. run of importance source...\n",
      " 81. run of importance source...\n",
      " 82. run of importance source...\n",
      " 83. run of importance source...\n",
      " 84. run of importance source...\n",
      " 85. run of importance source...\n",
      " 86. run of importance source...\n",
      " 87. run of importance source...\n",
      " 88. run of importance source...\n",
      " 89. run of importance source...\n",
      " 90. run of importance source...\n",
      " 91. run of importance source...\n",
      "After 91 iterations, +2.1 mins: \n",
      " confirmed 3 attributes: BCCIP, GVQW3, SH3BP5-AS1;\n",
      " still have 9 attributes left.\n",
      "\n",
      " 92. run of importance source...\n",
      " 93. run of importance source...\n",
      " 94. run of importance source...\n",
      " 95. run of importance source...\n",
      " 96. run of importance source...\n",
      " 97. run of importance source...\n",
      " 98. run of importance source...\n",
      " 99. run of importance source...\n"
     ]
    },
    {
     "name": "stdout",
     "output_type": "stream",
     "text": [
      "\n",
      "Drug15: Boruta is running for Sorafenib"
     ]
    },
    {
     "name": "stderr",
     "output_type": "stream",
     "text": [
      " 1. run of importance source...\n",
      " 2. run of importance source...\n",
      " 3. run of importance source...\n",
      " 4. run of importance source...\n",
      " 5. run of importance source...\n",
      " 6. run of importance source...\n",
      " 7. run of importance source...\n",
      " 8. run of importance source...\n",
      " 9. run of importance source...\n",
      " 10. run of importance source...\n",
      " 11. run of importance source...\n",
      " 12. run of importance source...\n",
      " 13. run of importance source...\n",
      " 14. run of importance source...\n",
      " 15. run of importance source...\n",
      " 16. run of importance source...\n",
      " 17. run of importance source...\n",
      " 18. run of importance source...\n",
      " 19. run of importance source...\n",
      " 20. run of importance source...\n",
      " 21. run of importance source...\n",
      "After 21 iterations, +2.1 mins: \n",
      " rejected 20142 attributes: A1BG, A1BG-AS1, A1CF, A2M, A2M-AS1 and 20137 more;\n",
      " still have 32 attributes left.\n",
      "\n",
      " 22. run of importance source...\n",
      " 23. run of importance source...\n",
      " 24. run of importance source...\n",
      " 25. run of importance source...\n",
      " 26. run of importance source...\n",
      "After 26 iterations, +2.1 mins: \n",
      " rejected 5 attributes: C22orf42, EVA1A, SLC25A10, TRAF6, ZFP62;\n",
      " still have 27 attributes left.\n",
      "\n",
      " 27. run of importance source...\n",
      " 28. run of importance source...\n",
      " 29. run of importance source...\n",
      " 30. run of importance source...\n",
      " 31. run of importance source...\n",
      " 32. run of importance source...\n",
      " 33. run of importance source...\n",
      " 34. run of importance source...\n",
      "After 34 iterations, +2.1 mins: \n",
      " rejected 1 attribute: SYTL3;\n",
      " still have 26 attributes left.\n",
      "\n",
      " 35. run of importance source...\n",
      " 36. run of importance source...\n",
      " 37. run of importance source...\n",
      " 38. run of importance source...\n",
      " 39. run of importance source...\n",
      " 40. run of importance source...\n",
      " 41. run of importance source...\n",
      "After 41 iterations, +2.1 mins: \n",
      " rejected 1 attribute: IFT46;\n",
      " still have 25 attributes left.\n",
      "\n",
      " 42. run of importance source...\n",
      " 43. run of importance source...\n",
      " 44. run of importance source...\n",
      " 45. run of importance source...\n",
      " 46. run of importance source...\n",
      " 47. run of importance source...\n",
      " 48. run of importance source...\n",
      " 49. run of importance source...\n",
      " 50. run of importance source...\n",
      " 51. run of importance source...\n",
      " 52. run of importance source...\n",
      " 53. run of importance source...\n",
      " 54. run of importance source...\n",
      " 55. run of importance source...\n",
      " 56. run of importance source...\n",
      " 57. run of importance source...\n",
      "After 57 iterations, +2.2 mins: \n",
      " rejected 1 attribute: TERT;\n",
      " still have 24 attributes left.\n",
      "\n",
      " 58. run of importance source...\n",
      " 59. run of importance source...\n",
      " 60. run of importance source...\n",
      " 61. run of importance source...\n",
      " 62. run of importance source...\n",
      " 63. run of importance source...\n",
      " 64. run of importance source...\n",
      " 65. run of importance source...\n",
      " 66. run of importance source...\n",
      " 67. run of importance source...\n",
      " 68. run of importance source...\n",
      " 69. run of importance source...\n",
      " 70. run of importance source...\n",
      " 71. run of importance source...\n",
      " 72. run of importance source...\n",
      " 73. run of importance source...\n",
      " 74. run of importance source...\n",
      " 75. run of importance source...\n",
      " 76. run of importance source...\n",
      " 77. run of importance source...\n",
      " 78. run of importance source...\n",
      " 79. run of importance source...\n",
      " 80. run of importance source...\n",
      " 81. run of importance source...\n",
      " 82. run of importance source...\n",
      " 83. run of importance source...\n",
      "After 83 iterations, +2.2 mins: \n",
      " confirmed 1 attribute: KLHL36;\n",
      " still have 23 attributes left.\n",
      "\n",
      " 84. run of importance source...\n",
      " 85. run of importance source...\n",
      " 86. run of importance source...\n",
      "After 86 iterations, +2.2 mins: \n",
      " confirmed 4 attributes: RORB, TEX51, TLN2, ZNF483;\n",
      " still have 19 attributes left.\n",
      "\n",
      " 87. run of importance source...\n",
      " 88. run of importance source...\n",
      " 89. run of importance source...\n",
      " 90. run of importance source...\n",
      " 91. run of importance source...\n",
      "After 91 iterations, +2.2 mins: \n",
      " confirmed 1 attribute: VWA8-AS1;\n",
      " still have 18 attributes left.\n",
      "\n",
      " 92. run of importance source...\n",
      " 93. run of importance source...\n",
      " 94. run of importance source...\n",
      "After 94 iterations, +2.2 mins: \n",
      " confirmed 1 attribute: DPPA4;\n",
      " still have 17 attributes left.\n",
      "\n",
      " 95. run of importance source...\n",
      " 96. run of importance source...\n",
      " 97. run of importance source...\n",
      " 98. run of importance source...\n",
      " 99. run of importance source...\n"
     ]
    },
    {
     "name": "stdout",
     "output_type": "stream",
     "text": [
      "\n",
      "Drug16: Boruta is running for AZD0530"
     ]
    },
    {
     "name": "stderr",
     "output_type": "stream",
     "text": [
      " 1. run of importance source...\n",
      " 2. run of importance source...\n",
      " 3. run of importance source...\n",
      " 4. run of importance source...\n",
      " 5. run of importance source...\n",
      " 6. run of importance source...\n",
      " 7. run of importance source...\n",
      " 8. run of importance source...\n",
      " 9. run of importance source...\n",
      " 10. run of importance source...\n",
      " 11. run of importance source...\n",
      " 12. run of importance source...\n",
      " 13. run of importance source...\n",
      " 14. run of importance source...\n",
      " 15. run of importance source...\n",
      " 16. run of importance source...\n",
      " 17. run of importance source...\n",
      " 18. run of importance source...\n",
      " 19. run of importance source...\n",
      " 20. run of importance source...\n",
      " 21. run of importance source...\n",
      "After 21 iterations, +2 mins: \n",
      " rejected 20144 attributes: A1BG, A1BG-AS1, A1CF, A2M, A2M-AS1 and 20139 more;\n",
      " still have 30 attributes left.\n",
      "\n",
      " 22. run of importance source...\n",
      " 23. run of importance source...\n",
      " 24. run of importance source...\n",
      " 25. run of importance source...\n",
      " 26. run of importance source...\n",
      "After 26 iterations, +2 mins: \n",
      " rejected 5 attributes: ACTR5, ADAM28, CABS1, LEKR1, WRAP53;\n",
      " still have 25 attributes left.\n",
      "\n",
      " 27. run of importance source...\n",
      " 28. run of importance source...\n",
      " 29. run of importance source...\n",
      " 30. run of importance source...\n",
      " 31. run of importance source...\n",
      " 32. run of importance source...\n",
      " 33. run of importance source...\n",
      " 34. run of importance source...\n",
      " 35. run of importance source...\n",
      " 36. run of importance source...\n",
      " 37. run of importance source...\n",
      " 38. run of importance source...\n",
      " 39. run of importance source...\n",
      " 40. run of importance source...\n",
      " 41. run of importance source...\n",
      " 42. run of importance source...\n",
      " 43. run of importance source...\n",
      " 44. run of importance source...\n",
      " 45. run of importance source...\n",
      " 46. run of importance source...\n",
      " 47. run of importance source...\n",
      " 48. run of importance source...\n",
      " 49. run of importance source...\n",
      " 50. run of importance source...\n",
      " 51. run of importance source...\n",
      " 52. run of importance source...\n",
      " 53. run of importance source...\n",
      " 54. run of importance source...\n",
      " 55. run of importance source...\n",
      " 56. run of importance source...\n",
      " 57. run of importance source...\n",
      " 58. run of importance source...\n",
      " 59. run of importance source...\n",
      " 60. run of importance source...\n",
      " 61. run of importance source...\n",
      " 62. run of importance source...\n",
      " 63. run of importance source...\n",
      " 64. run of importance source...\n",
      " 65. run of importance source...\n",
      " 66. run of importance source...\n",
      " 67. run of importance source...\n",
      " 68. run of importance source...\n",
      " 69. run of importance source...\n",
      " 70. run of importance source...\n",
      " 71. run of importance source...\n",
      " 72. run of importance source...\n",
      " 73. run of importance source...\n",
      " 74. run of importance source...\n",
      " 75. run of importance source...\n",
      " 76. run of importance source...\n",
      " 77. run of importance source...\n",
      " 78. run of importance source...\n",
      " 79. run of importance source...\n",
      " 80. run of importance source...\n",
      "After 80 iterations, +2 mins: \n",
      " confirmed 1 attribute: KIF2A;\n",
      " still have 24 attributes left.\n",
      "\n",
      " 81. run of importance source...\n",
      " 82. run of importance source...\n",
      " 83. run of importance source...\n",
      "After 83 iterations, +2 mins: \n",
      " confirmed 1 attribute: MRPL57;\n",
      " still have 23 attributes left.\n",
      "\n",
      " 84. run of importance source...\n",
      " 85. run of importance source...\n",
      " 86. run of importance source...\n",
      "After 86 iterations, +2 mins: \n",
      " confirmed 4 attributes: NDUFA9, SMIM15, TMEM150A, TTLL9;\n",
      " still have 19 attributes left.\n",
      "\n",
      " 87. run of importance source...\n",
      " 88. run of importance source...\n",
      "After 88 iterations, +2 mins: \n",
      " confirmed 3 attributes: GRK1, LINC00661, SRFBP1;\n",
      " still have 16 attributes left.\n",
      "\n",
      " 89. run of importance source...\n",
      " 90. run of importance source...\n",
      " 91. run of importance source...\n",
      " 92. run of importance source...\n",
      " 93. run of importance source...\n",
      " 94. run of importance source...\n",
      " 95. run of importance source...\n",
      " 96. run of importance source...\n",
      " 97. run of importance source...\n",
      " 98. run of importance source...\n",
      " 99. run of importance source...\n",
      "After 99 iterations, +2 mins: \n",
      " confirmed 1 attribute: C8orf88;\n",
      " still have 15 attributes left.\n",
      "\n"
     ]
    },
    {
     "name": "stdout",
     "output_type": "stream",
     "text": [
      "\n",
      "Drug17: Boruta is running for Nilotinib"
     ]
    },
    {
     "name": "stderr",
     "output_type": "stream",
     "text": [
      " 1. run of importance source...\n",
      " 2. run of importance source...\n",
      " 3. run of importance source...\n",
      " 4. run of importance source...\n",
      " 5. run of importance source...\n",
      " 6. run of importance source...\n",
      " 7. run of importance source...\n",
      " 8. run of importance source...\n",
      " 9. run of importance source...\n",
      " 10. run of importance source...\n",
      " 11. run of importance source...\n",
      " 12. run of importance source...\n",
      " 13. run of importance source...\n",
      " 14. run of importance source...\n",
      " 15. run of importance source...\n",
      " 16. run of importance source...\n",
      " 17. run of importance source...\n",
      " 18. run of importance source...\n",
      " 19. run of importance source...\n",
      " 20. run of importance source...\n",
      " 21. run of importance source...\n",
      "After 21 iterations, +2 mins: \n",
      " rejected 20146 attributes: A1BG, A1BG-AS1, A1CF, A2M, A2M-AS1 and 20141 more;\n",
      " still have 28 attributes left.\n",
      "\n",
      " 22. run of importance source...\n",
      " 23. run of importance source...\n",
      " 24. run of importance source...\n",
      " 25. run of importance source...\n",
      " 26. run of importance source...\n",
      "After 26 iterations, +2 mins: \n",
      " rejected 3 attributes: LYPD5, ODF3, OTOGL;\n",
      " still have 25 attributes left.\n",
      "\n",
      " 27. run of importance source...\n",
      " 28. run of importance source...\n",
      " 29. run of importance source...\n",
      " 30. run of importance source...\n",
      "After 30 iterations, +2 mins: \n",
      " rejected 2 attributes: KCNIP3, PDSS2;\n",
      " still have 23 attributes left.\n",
      "\n",
      " 31. run of importance source...\n",
      " 32. run of importance source...\n",
      " 33. run of importance source...\n",
      " 34. run of importance source...\n",
      " 35. run of importance source...\n",
      " 36. run of importance source...\n",
      " 37. run of importance source...\n",
      " 38. run of importance source...\n",
      " 39. run of importance source...\n",
      " 40. run of importance source...\n",
      " 41. run of importance source...\n",
      "After 41 iterations, +2 mins: \n",
      " rejected 2 attributes: MKS1, MUC6;\n",
      " still have 21 attributes left.\n",
      "\n",
      " 42. run of importance source...\n",
      " 43. run of importance source...\n",
      " 44. run of importance source...\n",
      "After 44 iterations, +2 mins: \n",
      " rejected 1 attribute: NPR1;\n",
      " still have 20 attributes left.\n",
      "\n",
      " 45. run of importance source...\n",
      " 46. run of importance source...\n",
      " 47. run of importance source...\n",
      " 48. run of importance source...\n",
      " 49. run of importance source...\n",
      " 50. run of importance source...\n",
      " 51. run of importance source...\n",
      "After 51 iterations, +2 mins: \n",
      " rejected 1 attribute: ZMAT3;\n",
      " still have 19 attributes left.\n",
      "\n",
      " 52. run of importance source...\n",
      " 53. run of importance source...\n",
      " 54. run of importance source...\n",
      " 55. run of importance source...\n",
      " 56. run of importance source...\n",
      " 57. run of importance source...\n",
      " 58. run of importance source...\n",
      " 59. run of importance source...\n",
      " 60. run of importance source...\n",
      " 61. run of importance source...\n",
      " 62. run of importance source...\n",
      " 63. run of importance source...\n",
      " 64. run of importance source...\n",
      " 65. run of importance source...\n",
      " 66. run of importance source...\n",
      " 67. run of importance source...\n",
      " 68. run of importance source...\n",
      " 69. run of importance source...\n",
      " 70. run of importance source...\n",
      " 71. run of importance source...\n",
      " 72. run of importance source...\n",
      " 73. run of importance source...\n",
      " 74. run of importance source...\n",
      " 75. run of importance source...\n",
      " 76. run of importance source...\n",
      " 77. run of importance source...\n",
      " 78. run of importance source...\n",
      " 79. run of importance source...\n",
      " 80. run of importance source...\n",
      " 81. run of importance source...\n",
      " 82. run of importance source...\n",
      " 83. run of importance source...\n",
      "After 83 iterations, +2 mins: \n",
      " confirmed 2 attributes: CFAP52, LOC107986160;\n",
      " still have 17 attributes left.\n",
      "\n",
      " 84. run of importance source...\n",
      " 85. run of importance source...\n",
      " 86. run of importance source...\n",
      "After 86 iterations, +2 mins: \n",
      " confirmed 2 attributes: CDKN1A, FGL2;\n",
      " still have 15 attributes left.\n",
      "\n",
      " 87. run of importance source...\n",
      " 88. run of importance source...\n",
      "After 88 iterations, +2 mins: \n",
      " confirmed 1 attribute: LIPE;\n",
      " still have 14 attributes left.\n",
      "\n",
      " 89. run of importance source...\n",
      " 90. run of importance source...\n",
      " 91. run of importance source...\n",
      "After 91 iterations, +2 mins: \n",
      " confirmed 1 attribute: MYT1L;\n",
      " still have 13 attributes left.\n",
      "\n",
      " 92. run of importance source...\n",
      " 93. run of importance source...\n",
      " 94. run of importance source...\n",
      " 95. run of importance source...\n",
      " 96. run of importance source...\n",
      " 97. run of importance source...\n",
      " 98. run of importance source...\n",
      " 99. run of importance source...\n"
     ]
    },
    {
     "name": "stdout",
     "output_type": "stream",
     "text": [
      "\n",
      "Drug18: Boruta is running for PD-0332991"
     ]
    },
    {
     "name": "stderr",
     "output_type": "stream",
     "text": [
      " 1. run of importance source...\n",
      " 2. run of importance source...\n",
      " 3. run of importance source...\n",
      " 4. run of importance source...\n",
      " 5. run of importance source...\n",
      " 6. run of importance source...\n",
      " 7. run of importance source...\n",
      " 8. run of importance source...\n",
      " 9. run of importance source...\n",
      " 10. run of importance source...\n",
      " 11. run of importance source...\n",
      " 12. run of importance source...\n",
      " 13. run of importance source...\n",
      " 14. run of importance source...\n",
      " 15. run of importance source...\n",
      " 16. run of importance source...\n",
      " 17. run of importance source...\n",
      " 18. run of importance source...\n",
      " 19. run of importance source...\n",
      " 20. run of importance source...\n",
      " 21. run of importance source...\n",
      "After 21 iterations, +1.7 mins: \n",
      " rejected 20142 attributes: A1BG, A1BG-AS1, A1CF, A2M, A2M-AS1 and 20137 more;\n",
      " still have 32 attributes left.\n",
      "\n",
      " 22. run of importance source...\n",
      " 23. run of importance source...\n",
      " 24. run of importance source...\n",
      " 25. run of importance source...\n",
      " 26. run of importance source...\n",
      "After 26 iterations, +1.7 mins: \n",
      " rejected 3 attributes: DENND4B, HEXB, SCIN;\n",
      " still have 29 attributes left.\n",
      "\n",
      " 27. run of importance source...\n",
      " 28. run of importance source...\n",
      " 29. run of importance source...\n",
      " 30. run of importance source...\n",
      "After 30 iterations, +1.7 mins: \n",
      " rejected 1 attribute: INTS9;\n",
      " still have 28 attributes left.\n",
      "\n",
      " 31. run of importance source...\n",
      " 32. run of importance source...\n",
      " 33. run of importance source...\n",
      " 34. run of importance source...\n",
      " 35. run of importance source...\n",
      " 36. run of importance source...\n",
      " 37. run of importance source...\n",
      " 38. run of importance source...\n",
      " 39. run of importance source...\n",
      " 40. run of importance source...\n",
      " 41. run of importance source...\n",
      " 42. run of importance source...\n",
      " 43. run of importance source...\n",
      " 44. run of importance source...\n",
      " 45. run of importance source...\n",
      " 46. run of importance source...\n",
      " 47. run of importance source...\n",
      " 48. run of importance source...\n",
      " 49. run of importance source...\n",
      " 50. run of importance source...\n",
      " 51. run of importance source...\n",
      " 52. run of importance source...\n",
      " 53. run of importance source...\n",
      " 54. run of importance source...\n",
      " 55. run of importance source...\n",
      " 56. run of importance source...\n",
      " 57. run of importance source...\n",
      " 58. run of importance source...\n",
      " 59. run of importance source...\n",
      " 60. run of importance source...\n",
      " 61. run of importance source...\n",
      " 62. run of importance source...\n",
      " 63. run of importance source...\n",
      "After 63 iterations, +1.7 mins: \n",
      " rejected 1 attribute: NDUFB10;\n",
      " still have 27 attributes left.\n",
      "\n",
      " 64. run of importance source...\n",
      " 65. run of importance source...\n",
      " 66. run of importance source...\n",
      " 67. run of importance source...\n",
      " 68. run of importance source...\n",
      " 69. run of importance source...\n",
      " 70. run of importance source...\n",
      " 71. run of importance source...\n",
      " 72. run of importance source...\n",
      " 73. run of importance source...\n",
      " 74. run of importance source...\n",
      "After 74 iterations, +1.7 mins: \n",
      " confirmed 2 attributes: PEX13, STAM2;\n",
      " still have 25 attributes left.\n",
      "\n",
      " 75. run of importance source...\n",
      " 76. run of importance source...\n",
      " 77. run of importance source...\n",
      "After 77 iterations, +1.7 mins: \n",
      " confirmed 1 attribute: VAC14;\n",
      " still have 24 attributes left.\n",
      "\n",
      " 78. run of importance source...\n",
      " 79. run of importance source...\n",
      " 80. run of importance source...\n",
      "After 80 iterations, +1.7 mins: \n",
      " confirmed 1 attribute: PRUNE1;\n",
      " still have 23 attributes left.\n",
      "\n",
      " 81. run of importance source...\n",
      " 82. run of importance source...\n",
      " 83. run of importance source...\n",
      "After 83 iterations, +1.7 mins: \n",
      " confirmed 1 attribute: CHIC2;\n",
      " still have 22 attributes left.\n",
      "\n",
      " 84. run of importance source...\n",
      " 85. run of importance source...\n",
      " 86. run of importance source...\n",
      "After 86 iterations, +1.7 mins: \n",
      " confirmed 6 attributes: ALDOA, CLCN7, CRAT, HOXD-AS2, NR3C1 and 1 more;\n",
      " still have 16 attributes left.\n",
      "\n",
      " 87. run of importance source...\n",
      " 88. run of importance source...\n",
      "After 88 iterations, +1.7 mins: \n",
      " confirmed 1 attribute: MED24;\n",
      " still have 15 attributes left.\n",
      "\n",
      " 89. run of importance source...\n",
      " 90. run of importance source...\n",
      " 91. run of importance source...\n",
      "After 91 iterations, +1.7 mins: \n",
      " confirmed 1 attribute: PTPN23;\n",
      " still have 14 attributes left.\n",
      "\n",
      " 92. run of importance source...\n",
      " 93. run of importance source...\n",
      " 94. run of importance source...\n",
      "After 94 iterations, +1.7 mins: \n",
      " confirmed 1 attribute: SRP68;\n",
      " still have 13 attributes left.\n",
      "\n",
      " 95. run of importance source...\n",
      " 96. run of importance source...\n",
      " 97. run of importance source...\n",
      " 98. run of importance source...\n",
      " 99. run of importance source...\n",
      "After 99 iterations, +1.7 mins: \n",
      " confirmed 2 attributes: AKT2, NEXN-AS1;\n",
      " still have 11 attributes left.\n",
      "\n"
     ]
    },
    {
     "name": "stdout",
     "output_type": "stream",
     "text": [
      "\n",
      "Drug19: Boruta is running for PHA-665752"
     ]
    },
    {
     "name": "stderr",
     "output_type": "stream",
     "text": [
      " 1. run of importance source...\n",
      " 2. run of importance source...\n",
      " 3. run of importance source...\n",
      " 4. run of importance source...\n",
      " 5. run of importance source...\n",
      " 6. run of importance source...\n",
      " 7. run of importance source...\n",
      " 8. run of importance source...\n",
      " 9. run of importance source...\n",
      " 10. run of importance source...\n",
      " 11. run of importance source...\n",
      " 12. run of importance source...\n",
      " 13. run of importance source...\n",
      " 14. run of importance source...\n",
      " 15. run of importance source...\n",
      " 16. run of importance source...\n",
      " 17. run of importance source...\n",
      " 18. run of importance source...\n",
      " 19. run of importance source...\n",
      " 20. run of importance source...\n",
      " 21. run of importance source...\n",
      "After 21 iterations, +2 mins: \n",
      " rejected 20151 attributes: A1BG, A1BG-AS1, A1CF, A2M, A2M-AS1 and 20146 more;\n",
      " still have 23 attributes left.\n",
      "\n",
      " 22. run of importance source...\n",
      " 23. run of importance source...\n",
      " 24. run of importance source...\n",
      " 25. run of importance source...\n",
      " 26. run of importance source...\n",
      "After 26 iterations, +2 mins: \n",
      " rejected 6 attributes: LRIG2, PABPC1L2B, PDCD1LG2, PRR29, TMED4 and 1 more;\n",
      " still have 17 attributes left.\n",
      "\n",
      " 27. run of importance source...\n",
      " 28. run of importance source...\n",
      " 29. run of importance source...\n",
      " 30. run of importance source...\n",
      " 31. run of importance source...\n",
      " 32. run of importance source...\n",
      " 33. run of importance source...\n",
      " 34. run of importance source...\n",
      " 35. run of importance source...\n",
      " 36. run of importance source...\n",
      " 37. run of importance source...\n",
      " 38. run of importance source...\n",
      " 39. run of importance source...\n",
      " 40. run of importance source...\n",
      " 41. run of importance source...\n",
      "After 41 iterations, +2 mins: \n",
      " rejected 1 attribute: SS18L1;\n",
      " still have 16 attributes left.\n",
      "\n",
      " 42. run of importance source...\n",
      " 43. run of importance source...\n",
      " 44. run of importance source...\n",
      "After 44 iterations, +2 mins: \n",
      " rejected 1 attribute: KEL;\n",
      " still have 15 attributes left.\n",
      "\n",
      " 45. run of importance source...\n",
      " 46. run of importance source...\n",
      " 47. run of importance source...\n",
      " 48. run of importance source...\n",
      " 49. run of importance source...\n",
      " 50. run of importance source...\n",
      " 51. run of importance source...\n",
      " 52. run of importance source...\n",
      " 53. run of importance source...\n",
      " 54. run of importance source...\n",
      " 55. run of importance source...\n",
      " 56. run of importance source...\n",
      " 57. run of importance source...\n",
      " 58. run of importance source...\n",
      " 59. run of importance source...\n",
      " 60. run of importance source...\n",
      " 61. run of importance source...\n",
      " 62. run of importance source...\n",
      " 63. run of importance source...\n",
      " 64. run of importance source...\n",
      " 65. run of importance source...\n",
      " 66. run of importance source...\n",
      " 67. run of importance source...\n",
      " 68. run of importance source...\n",
      " 69. run of importance source...\n",
      " 70. run of importance source...\n",
      " 71. run of importance source...\n",
      " 72. run of importance source...\n",
      " 73. run of importance source...\n",
      " 74. run of importance source...\n",
      " 75. run of importance source...\n",
      " 76. run of importance source...\n",
      " 77. run of importance source...\n",
      " 78. run of importance source...\n",
      " 79. run of importance source...\n",
      " 80. run of importance source...\n",
      " 81. run of importance source...\n",
      " 82. run of importance source...\n",
      " 83. run of importance source...\n",
      " 84. run of importance source...\n",
      " 85. run of importance source...\n",
      " 86. run of importance source...\n",
      "After 86 iterations, +2 mins: \n",
      " confirmed 5 attributes: DAD1, FGD4, GMPR2, LOC102723506, MSR1;\n",
      " still have 10 attributes left.\n",
      "\n",
      " 87. run of importance source...\n",
      " 88. run of importance source...\n",
      "After 88 iterations, +2 mins: \n",
      " confirmed 2 attributes: GDF3, MMP25;\n",
      " still have 8 attributes left.\n",
      "\n",
      " 89. run of importance source...\n",
      " 90. run of importance source...\n",
      " 91. run of importance source...\n",
      "After 91 iterations, +2 mins: \n",
      " confirmed 1 attribute: CEP20;\n",
      " still have 7 attributes left.\n",
      "\n",
      " 92. run of importance source...\n",
      " 93. run of importance source...\n",
      " 94. run of importance source...\n",
      " 95. run of importance source...\n",
      " 96. run of importance source...\n",
      " 97. run of importance source...\n",
      " 98. run of importance source...\n",
      " 99. run of importance source...\n"
     ]
    },
    {
     "name": "stdout",
     "output_type": "stream",
     "text": [
      "\n",
      "Drug20: Boruta is running for AEW541"
     ]
    },
    {
     "name": "stderr",
     "output_type": "stream",
     "text": [
      " 1. run of importance source...\n",
      " 2. run of importance source...\n",
      " 3. run of importance source...\n",
      " 4. run of importance source...\n",
      " 5. run of importance source...\n",
      " 6. run of importance source...\n",
      " 7. run of importance source...\n",
      " 8. run of importance source...\n",
      " 9. run of importance source...\n",
      " 10. run of importance source...\n",
      " 11. run of importance source...\n",
      " 12. run of importance source...\n",
      " 13. run of importance source...\n",
      " 14. run of importance source...\n",
      " 15. run of importance source...\n",
      " 16. run of importance source...\n",
      " 17. run of importance source...\n",
      " 18. run of importance source...\n",
      " 19. run of importance source...\n",
      " 20. run of importance source...\n",
      " 21. run of importance source...\n",
      "After 21 iterations, +2.3 mins: \n",
      " rejected 20170 attributes: A1BG, A1BG-AS1, A1CF, A2M, A2M-AS1 and 20165 more;\n",
      " still have 4 attributes left.\n",
      "\n",
      " 22. run of importance source...\n",
      " 23. run of importance source...\n",
      " 24. run of importance source...\n",
      " 25. run of importance source...\n",
      " 26. run of importance source...\n",
      " 27. run of importance source...\n",
      " 28. run of importance source...\n",
      " 29. run of importance source...\n",
      " 30. run of importance source...\n",
      " 31. run of importance source...\n",
      " 32. run of importance source...\n",
      " 33. run of importance source...\n",
      " 34. run of importance source...\n",
      " 35. run of importance source...\n",
      " 36. run of importance source...\n",
      " 37. run of importance source...\n",
      " 38. run of importance source...\n",
      " 39. run of importance source...\n",
      " 40. run of importance source...\n",
      " 41. run of importance source...\n",
      " 42. run of importance source...\n",
      " 43. run of importance source...\n",
      " 44. run of importance source...\n",
      " 45. run of importance source...\n",
      " 46. run of importance source...\n",
      " 47. run of importance source...\n",
      " 48. run of importance source...\n",
      " 49. run of importance source...\n",
      " 50. run of importance source...\n",
      " 51. run of importance source...\n",
      " 52. run of importance source...\n",
      " 53. run of importance source...\n",
      " 54. run of importance source...\n",
      " 55. run of importance source...\n",
      " 56. run of importance source...\n",
      " 57. run of importance source...\n",
      " 58. run of importance source...\n",
      " 59. run of importance source...\n",
      " 60. run of importance source...\n",
      " 61. run of importance source...\n",
      " 62. run of importance source...\n",
      " 63. run of importance source...\n",
      " 64. run of importance source...\n",
      " 65. run of importance source...\n",
      " 66. run of importance source...\n",
      " 67. run of importance source...\n",
      " 68. run of importance source...\n",
      " 69. run of importance source...\n",
      " 70. run of importance source...\n",
      " 71. run of importance source...\n",
      " 72. run of importance source...\n",
      " 73. run of importance source...\n",
      " 74. run of importance source...\n",
      " 75. run of importance source...\n",
      " 76. run of importance source...\n",
      " 77. run of importance source...\n",
      " 78. run of importance source...\n",
      " 79. run of importance source...\n",
      " 80. run of importance source...\n",
      " 81. run of importance source...\n",
      " 82. run of importance source...\n",
      " 83. run of importance source...\n",
      "After 83 iterations, +2.3 mins: \n",
      " confirmed 1 attribute: BSN-DT;\n",
      " still have 3 attributes left.\n",
      "\n",
      " 84. run of importance source...\n",
      " 85. run of importance source...\n",
      " 86. run of importance source...\n",
      "After 86 iterations, +2.3 mins: \n",
      " confirmed 2 attributes: GZMA, LOC100129455;\n",
      " still have 1 attribute left.\n",
      "\n",
      " 87. run of importance source...\n",
      " 88. run of importance source...\n",
      " 89. run of importance source...\n",
      " 90. run of importance source...\n",
      " 91. run of importance source...\n",
      " 92. run of importance source...\n",
      " 93. run of importance source...\n",
      " 94. run of importance source...\n",
      " 95. run of importance source...\n",
      " 96. run of importance source...\n",
      " 97. run of importance source...\n",
      " 98. run of importance source...\n",
      " 99. run of importance source...\n"
     ]
    },
    {
     "name": "stdout",
     "output_type": "stream",
     "text": [
      "\n",
      "Drug21: Boruta is running for PD-0325901"
     ]
    },
    {
     "name": "stderr",
     "output_type": "stream",
     "text": [
      " 1. run of importance source...\n",
      " 2. run of importance source...\n",
      " 3. run of importance source...\n",
      " 4. run of importance source...\n",
      " 5. run of importance source...\n",
      " 6. run of importance source...\n",
      " 7. run of importance source...\n",
      " 8. run of importance source...\n",
      " 9. run of importance source...\n",
      " 10. run of importance source...\n",
      " 11. run of importance source...\n",
      " 12. run of importance source...\n",
      " 13. run of importance source...\n",
      " 14. run of importance source...\n",
      " 15. run of importance source...\n",
      " 16. run of importance source...\n",
      " 17. run of importance source...\n",
      " 18. run of importance source...\n",
      " 19. run of importance source...\n",
      " 20. run of importance source...\n",
      " 21. run of importance source...\n",
      "After 21 iterations, +2.7 mins: \n",
      " rejected 20146 attributes: A1BG, A1BG-AS1, A1CF, A2M, A2M-AS1 and 20141 more;\n",
      " still have 28 attributes left.\n",
      "\n",
      " 22. run of importance source...\n",
      " 23. run of importance source...\n",
      " 24. run of importance source...\n",
      " 25. run of importance source...\n",
      " 26. run of importance source...\n",
      "After 26 iterations, +2.7 mins: \n",
      " rejected 16 attributes: ATOX1, CBLL1, H2BW2, MCMBP, NAT8L and 11 more;\n",
      " still have 12 attributes left.\n",
      "\n",
      " 27. run of importance source...\n",
      " 28. run of importance source...\n",
      " 29. run of importance source...\n",
      " 30. run of importance source...\n",
      " 31. run of importance source...\n",
      " 32. run of importance source...\n",
      " 33. run of importance source...\n",
      " 34. run of importance source...\n",
      " 35. run of importance source...\n",
      " 36. run of importance source...\n",
      " 37. run of importance source...\n",
      " 38. run of importance source...\n",
      "After 38 iterations, +2.7 mins: \n",
      " rejected 1 attribute: TCF4;\n",
      " still have 11 attributes left.\n",
      "\n",
      " 39. run of importance source...\n",
      " 40. run of importance source...\n",
      " 41. run of importance source...\n",
      " 42. run of importance source...\n",
      " 43. run of importance source...\n",
      " 44. run of importance source...\n",
      " 45. run of importance source...\n",
      " 46. run of importance source...\n",
      " 47. run of importance source...\n",
      " 48. run of importance source...\n",
      " 49. run of importance source...\n",
      " 50. run of importance source...\n",
      " 51. run of importance source...\n",
      " 52. run of importance source...\n",
      " 53. run of importance source...\n",
      " 54. run of importance source...\n",
      " 55. run of importance source...\n",
      " 56. run of importance source...\n",
      " 57. run of importance source...\n",
      " 58. run of importance source...\n",
      " 59. run of importance source...\n",
      " 60. run of importance source...\n",
      " 61. run of importance source...\n",
      " 62. run of importance source...\n",
      " 63. run of importance source...\n",
      " 64. run of importance source...\n",
      " 65. run of importance source...\n",
      " 66. run of importance source...\n",
      " 67. run of importance source...\n",
      " 68. run of importance source...\n",
      " 69. run of importance source...\n",
      " 70. run of importance source...\n",
      " 71. run of importance source...\n",
      " 72. run of importance source...\n",
      " 73. run of importance source...\n",
      " 74. run of importance source...\n",
      " 75. run of importance source...\n",
      " 76. run of importance source...\n",
      " 77. run of importance source...\n",
      " 78. run of importance source...\n",
      " 79. run of importance source...\n",
      " 80. run of importance source...\n",
      "After 80 iterations, +2.7 mins: \n",
      " confirmed 1 attribute: RNF144A;\n",
      " still have 10 attributes left.\n",
      "\n",
      " 81. run of importance source...\n",
      " 82. run of importance source...\n",
      " 83. run of importance source...\n",
      "After 83 iterations, +2.7 mins: \n",
      " confirmed 1 attribute: HMGB3;\n",
      " still have 9 attributes left.\n",
      "\n",
      " 84. run of importance source...\n",
      " 85. run of importance source...\n",
      " 86. run of importance source...\n",
      "After 86 iterations, +2.7 mins: \n",
      " confirmed 3 attributes: ACAP3, NUDT1, TTLL4;\n",
      " still have 6 attributes left.\n",
      "\n",
      " 87. run of importance source...\n",
      " 88. run of importance source...\n",
      " 89. run of importance source...\n",
      " 90. run of importance source...\n",
      " 91. run of importance source...\n",
      " 92. run of importance source...\n",
      " 93. run of importance source...\n",
      " 94. run of importance source...\n",
      "After 94 iterations, +2.7 mins: \n",
      " confirmed 1 attribute: DNMT3A;\n",
      " still have 5 attributes left.\n",
      "\n",
      " 95. run of importance source...\n",
      " 96. run of importance source...\n",
      "After 96 iterations, +2.7 mins: \n",
      " confirmed 2 attributes: PSD3, TMEM132A;\n",
      " still have 3 attributes left.\n",
      "\n",
      " 97. run of importance source...\n",
      " 98. run of importance source...\n",
      " 99. run of importance source...\n",
      "After 99 iterations, +2.7 mins: \n",
      " confirmed 1 attribute: ODAD2;\n",
      " still have 2 attributes left.\n",
      "\n"
     ]
    },
    {
     "name": "stdout",
     "output_type": "stream",
     "text": [
      "\n",
      "Drug22: Boruta is running for PLX4720"
     ]
    },
    {
     "name": "stderr",
     "output_type": "stream",
     "text": [
      " 1. run of importance source...\n",
      " 2. run of importance source...\n",
      " 3. run of importance source...\n",
      " 4. run of importance source...\n",
      " 5. run of importance source...\n",
      " 6. run of importance source...\n",
      " 7. run of importance source...\n",
      " 8. run of importance source...\n",
      " 9. run of importance source...\n",
      " 10. run of importance source...\n",
      " 11. run of importance source...\n",
      " 12. run of importance source...\n",
      " 13. run of importance source...\n",
      " 14. run of importance source...\n",
      " 15. run of importance source...\n",
      " 16. run of importance source...\n",
      " 17. run of importance source...\n",
      " 18. run of importance source...\n",
      " 19. run of importance source...\n",
      " 20. run of importance source...\n",
      " 21. run of importance source...\n",
      "After 21 iterations, +2.3 mins: \n",
      " rejected 20137 attributes: A1BG, A1BG-AS1, A1CF, A2M, A2M-AS1 and 20132 more;\n",
      " still have 37 attributes left.\n",
      "\n",
      " 22. run of importance source...\n",
      " 23. run of importance source...\n",
      " 24. run of importance source...\n",
      " 25. run of importance source...\n",
      " 26. run of importance source...\n",
      "After 26 iterations, +2.3 mins: \n",
      " rejected 1 attribute: NPPB;\n",
      " still have 36 attributes left.\n",
      "\n",
      " 27. run of importance source...\n",
      " 28. run of importance source...\n",
      " 29. run of importance source...\n",
      " 30. run of importance source...\n",
      "After 30 iterations, +2.3 mins: \n",
      " rejected 2 attributes: ARL3, TSPAN5;\n",
      " still have 34 attributes left.\n",
      "\n",
      " 31. run of importance source...\n",
      " 32. run of importance source...\n",
      " 33. run of importance source...\n",
      " 34. run of importance source...\n",
      " 35. run of importance source...\n",
      " 36. run of importance source...\n",
      " 37. run of importance source...\n",
      " 38. run of importance source...\n",
      "After 38 iterations, +2.3 mins: \n",
      " rejected 1 attribute: TRAM2-AS1;\n",
      " still have 33 attributes left.\n",
      "\n",
      " 39. run of importance source...\n",
      " 40. run of importance source...\n",
      " 41. run of importance source...\n",
      "After 41 iterations, +2.3 mins: \n",
      " rejected 1 attribute: MAST4;\n",
      " still have 32 attributes left.\n",
      "\n",
      " 42. run of importance source...\n",
      " 43. run of importance source...\n",
      " 44. run of importance source...\n",
      " 45. run of importance source...\n",
      " 46. run of importance source...\n",
      " 47. run of importance source...\n",
      " 48. run of importance source...\n",
      "After 48 iterations, +2.3 mins: \n",
      " rejected 1 attribute: CDHR2;\n",
      " still have 31 attributes left.\n",
      "\n",
      " 49. run of importance source...\n",
      " 50. run of importance source...\n",
      " 51. run of importance source...\n",
      "After 51 iterations, +2.3 mins: \n",
      " rejected 2 attributes: FBN2, NUTM2B-AS1;\n",
      " still have 29 attributes left.\n",
      "\n",
      " 52. run of importance source...\n",
      " 53. run of importance source...\n",
      " 54. run of importance source...\n",
      " 55. run of importance source...\n",
      " 56. run of importance source...\n",
      " 57. run of importance source...\n",
      " 58. run of importance source...\n",
      " 59. run of importance source...\n",
      " 60. run of importance source...\n",
      "After 60 iterations, +2.4 mins: \n",
      " rejected 1 attribute: CAMK2G;\n",
      " still have 28 attributes left.\n",
      "\n",
      " 61. run of importance source...\n",
      " 62. run of importance source...\n",
      " 63. run of importance source...\n",
      " 64. run of importance source...\n",
      " 65. run of importance source...\n",
      " 66. run of importance source...\n",
      "After 66 iterations, +2.4 mins: \n",
      " rejected 1 attribute: IGSF8;\n",
      " still have 27 attributes left.\n",
      "\n",
      " 67. run of importance source...\n",
      " 68. run of importance source...\n",
      " 69. run of importance source...\n",
      " 70. run of importance source...\n",
      " 71. run of importance source...\n",
      " 72. run of importance source...\n",
      " 73. run of importance source...\n",
      " 74. run of importance source...\n",
      " 75. run of importance source...\n",
      " 76. run of importance source...\n",
      " 77. run of importance source...\n",
      "After 77 iterations, +2.4 mins: \n",
      " confirmed 1 attribute: ZNF585B;\n",
      " still have 26 attributes left.\n",
      "\n",
      " 78. run of importance source...\n",
      " 79. run of importance source...\n",
      " 80. run of importance source...\n",
      "After 80 iterations, +2.4 mins: \n",
      " confirmed 1 attribute: AAMDC;\n",
      " still have 25 attributes left.\n",
      "\n",
      " 81. run of importance source...\n",
      " 82. run of importance source...\n",
      " 83. run of importance source...\n",
      "After 83 iterations, +2.4 mins: \n",
      " confirmed 5 attributes: ARHGEF17, BBS5, PCBP3, RUBCNL, STYK1;\n",
      " still have 20 attributes left.\n",
      "\n",
      " 84. run of importance source...\n",
      " 85. run of importance source...\n",
      " 86. run of importance source...\n",
      "After 86 iterations, +2.4 mins: \n",
      " confirmed 5 attributes: DCLK2, ELOVL2, LOC105369151, MAGI3, PFKP;\n",
      " still have 15 attributes left.\n",
      "\n",
      " 87. run of importance source...\n",
      " 88. run of importance source...\n",
      "After 88 iterations, +2.4 mins: \n",
      " confirmed 2 attributes: TESK2, ZRANB1;\n",
      " still have 13 attributes left.\n",
      "\n",
      " 89. run of importance source...\n",
      " 90. run of importance source...\n",
      " 91. run of importance source...\n",
      " 92. run of importance source...\n",
      " 93. run of importance source...\n",
      " 94. run of importance source...\n",
      " 95. run of importance source...\n",
      " 96. run of importance source...\n",
      "After 96 iterations, +2.4 mins: \n",
      " confirmed 1 attribute: RNF144A;\n",
      " still have 12 attributes left.\n",
      "\n",
      " 97. run of importance source...\n",
      " 98. run of importance source...\n",
      " 99. run of importance source...\n"
     ]
    },
    {
     "name": "stdout",
     "output_type": "stream",
     "text": [
      "\n",
      "Drug23: Boruta is running for RAF265"
     ]
    },
    {
     "name": "stderr",
     "output_type": "stream",
     "text": [
      " 1. run of importance source...\n",
      " 2. run of importance source...\n",
      " 3. run of importance source...\n",
      " 4. run of importance source...\n",
      " 5. run of importance source...\n",
      " 6. run of importance source...\n",
      " 7. run of importance source...\n",
      " 8. run of importance source...\n",
      " 9. run of importance source...\n",
      " 10. run of importance source...\n",
      " 11. run of importance source...\n",
      " 12. run of importance source...\n",
      " 13. run of importance source...\n",
      " 14. run of importance source...\n",
      " 15. run of importance source...\n",
      " 16. run of importance source...\n",
      " 17. run of importance source...\n",
      " 18. run of importance source...\n",
      " 19. run of importance source...\n",
      " 20. run of importance source...\n",
      " 21. run of importance source...\n",
      "After 21 iterations, +2.4 mins: \n",
      " rejected 20154 attributes: A1BG, A1BG-AS1, A1CF, A2M, A2M-AS1 and 20149 more;\n",
      " still have 20 attributes left.\n",
      "\n",
      " 22. run of importance source...\n",
      " 23. run of importance source...\n",
      " 24. run of importance source...\n",
      " 25. run of importance source...\n",
      " 26. run of importance source...\n",
      "After 26 iterations, +2.4 mins: \n",
      " rejected 2 attributes: ETFDH, OPN1SW;\n",
      " still have 18 attributes left.\n",
      "\n",
      " 27. run of importance source...\n",
      " 28. run of importance source...\n",
      " 29. run of importance source...\n",
      " 30. run of importance source...\n",
      "After 30 iterations, +2.4 mins: \n",
      " rejected 1 attribute: RALGAPA2;\n",
      " still have 17 attributes left.\n",
      "\n",
      " 31. run of importance source...\n",
      " 32. run of importance source...\n",
      " 33. run of importance source...\n",
      " 34. run of importance source...\n",
      "After 34 iterations, +2.4 mins: \n",
      " rejected 1 attribute: ID2-AS1;\n",
      " still have 16 attributes left.\n",
      "\n",
      " 35. run of importance source...\n",
      " 36. run of importance source...\n",
      " 37. run of importance source...\n",
      " 38. run of importance source...\n",
      " 39. run of importance source...\n",
      " 40. run of importance source...\n",
      " 41. run of importance source...\n",
      " 42. run of importance source...\n",
      " 43. run of importance source...\n",
      " 44. run of importance source...\n",
      " 45. run of importance source...\n",
      " 46. run of importance source...\n",
      " 47. run of importance source...\n",
      " 48. run of importance source...\n",
      " 49. run of importance source...\n",
      " 50. run of importance source...\n",
      " 51. run of importance source...\n",
      " 52. run of importance source...\n",
      " 53. run of importance source...\n",
      " 54. run of importance source...\n",
      " 55. run of importance source...\n",
      " 56. run of importance source...\n",
      " 57. run of importance source...\n",
      " 58. run of importance source...\n",
      " 59. run of importance source...\n",
      " 60. run of importance source...\n",
      " 61. run of importance source...\n",
      " 62. run of importance source...\n",
      " 63. run of importance source...\n",
      " 64. run of importance source...\n",
      " 65. run of importance source...\n",
      " 66. run of importance source...\n",
      " 67. run of importance source...\n",
      " 68. run of importance source...\n",
      " 69. run of importance source...\n",
      " 70. run of importance source...\n",
      " 71. run of importance source...\n",
      " 72. run of importance source...\n",
      " 73. run of importance source...\n",
      " 74. run of importance source...\n",
      "After 74 iterations, +2.4 mins: \n",
      " confirmed 1 attribute: SLC8A2;\n",
      " still have 15 attributes left.\n",
      "\n",
      " 75. run of importance source...\n",
      " 76. run of importance source...\n",
      " 77. run of importance source...\n",
      " 78. run of importance source...\n",
      " 79. run of importance source...\n",
      " 80. run of importance source...\n",
      " 81. run of importance source...\n",
      " 82. run of importance source...\n",
      " 83. run of importance source...\n",
      "After 83 iterations, +2.4 mins: \n",
      " confirmed 1 attribute: CEBPZOS;\n",
      " still have 14 attributes left.\n",
      "\n",
      " 84. run of importance source...\n",
      " 85. run of importance source...\n",
      " 86. run of importance source...\n",
      "After 86 iterations, +2.4 mins: \n",
      " confirmed 5 attributes: F8, NF1, TPX2, VLDLR-AS1, ZNF436;\n",
      " still have 9 attributes left.\n",
      "\n",
      " 87. run of importance source...\n",
      " 88. run of importance source...\n",
      "After 88 iterations, +2.4 mins: \n",
      " confirmed 2 attributes: LOC105378231, TMEM108;\n",
      " still have 7 attributes left.\n",
      "\n",
      " 89. run of importance source...\n",
      " 90. run of importance source...\n",
      " 91. run of importance source...\n",
      " 92. run of importance source...\n",
      " 93. run of importance source...\n",
      " 94. run of importance source...\n",
      "After 94 iterations, +2.4 mins: \n",
      " confirmed 1 attribute: BOD1L2;\n",
      " still have 6 attributes left.\n",
      "\n",
      " 95. run of importance source...\n",
      " 96. run of importance source...\n",
      "After 96 iterations, +2.4 mins: \n",
      " confirmed 1 attribute: CDKL1;\n",
      " still have 5 attributes left.\n",
      "\n",
      " 97. run of importance source...\n",
      " 98. run of importance source...\n",
      " 99. run of importance source...\n",
      "After 99 iterations, +2.4 mins: \n",
      " confirmed 1 attribute: SET;\n",
      " still have 4 attributes left.\n",
      "\n"
     ]
    },
    {
     "name": "stdout",
     "output_type": "stream",
     "text": [
      "\n",
      "Drug24: Boruta is running for Lapatinib"
     ]
    },
    {
     "name": "stderr",
     "output_type": "stream",
     "text": [
      " 1. run of importance source...\n",
      " 2. run of importance source...\n",
      " 3. run of importance source...\n",
      " 4. run of importance source...\n",
      " 5. run of importance source...\n",
      " 6. run of importance source...\n",
      " 7. run of importance source...\n",
      " 8. run of importance source...\n",
      " 9. run of importance source...\n",
      " 10. run of importance source...\n",
      " 11. run of importance source...\n",
      " 12. run of importance source...\n",
      " 13. run of importance source...\n",
      " 14. run of importance source...\n",
      " 15. run of importance source...\n",
      " 16. run of importance source...\n",
      " 17. run of importance source...\n",
      " 18. run of importance source...\n",
      " 19. run of importance source...\n",
      " 20. run of importance source...\n",
      " 21. run of importance source...\n",
      "After 21 iterations, +2.1 mins: \n",
      " rejected 20146 attributes: A1BG, A1BG-AS1, A1CF, A2M, A2M-AS1 and 20141 more;\n",
      " still have 28 attributes left.\n",
      "\n",
      " 22. run of importance source...\n",
      " 23. run of importance source...\n",
      " 24. run of importance source...\n",
      " 25. run of importance source...\n",
      " 26. run of importance source...\n",
      "After 26 iterations, +2.1 mins: \n",
      " rejected 4 attributes: APOL4, GRHL2, HIC2, RC3H2;\n",
      " still have 24 attributes left.\n",
      "\n",
      " 27. run of importance source...\n",
      " 28. run of importance source...\n",
      " 29. run of importance source...\n",
      " 30. run of importance source...\n",
      " 31. run of importance source...\n",
      " 32. run of importance source...\n",
      " 33. run of importance source...\n",
      " 34. run of importance source...\n",
      " 35. run of importance source...\n",
      " 36. run of importance source...\n",
      " 37. run of importance source...\n",
      " 38. run of importance source...\n",
      " 39. run of importance source...\n",
      " 40. run of importance source...\n",
      " 41. run of importance source...\n",
      " 42. run of importance source...\n",
      " 43. run of importance source...\n",
      " 44. run of importance source...\n",
      " 45. run of importance source...\n",
      " 46. run of importance source...\n",
      " 47. run of importance source...\n",
      " 48. run of importance source...\n",
      " 49. run of importance source...\n",
      " 50. run of importance source...\n",
      " 51. run of importance source...\n",
      " 52. run of importance source...\n",
      " 53. run of importance source...\n",
      " 54. run of importance source...\n",
      " 55. run of importance source...\n",
      " 56. run of importance source...\n",
      " 57. run of importance source...\n",
      " 58. run of importance source...\n",
      " 59. run of importance source...\n",
      " 60. run of importance source...\n",
      " 61. run of importance source...\n",
      " 62. run of importance source...\n",
      " 63. run of importance source...\n",
      " 64. run of importance source...\n",
      " 65. run of importance source...\n",
      " 66. run of importance source...\n",
      " 67. run of importance source...\n",
      " 68. run of importance source...\n",
      " 69. run of importance source...\n",
      " 70. run of importance source...\n",
      " 71. run of importance source...\n",
      " 72. run of importance source...\n",
      " 73. run of importance source...\n",
      " 74. run of importance source...\n",
      " 75. run of importance source...\n",
      " 76. run of importance source...\n",
      " 77. run of importance source...\n",
      " 78. run of importance source...\n",
      " 79. run of importance source...\n",
      " 80. run of importance source...\n",
      " 81. run of importance source...\n",
      " 82. run of importance source...\n",
      " 83. run of importance source...\n",
      "After 83 iterations, +2.1 mins: \n",
      " confirmed 2 attributes: IL18R1, SLC13A3;\n",
      " still have 22 attributes left.\n",
      "\n",
      " 84. run of importance source...\n",
      " 85. run of importance source...\n",
      " 86. run of importance source...\n",
      "After 86 iterations, +2.1 mins: \n",
      " confirmed 5 attributes: AGO2, DMWD, ERICH6, LINC01312, VWA8-AS1;\n",
      " still have 17 attributes left.\n",
      "\n",
      " 87. run of importance source...\n",
      " 88. run of importance source...\n",
      " 89. run of importance source...\n",
      " 90. run of importance source...\n",
      " 91. run of importance source...\n",
      " 92. run of importance source...\n",
      " 93. run of importance source...\n",
      " 94. run of importance source...\n",
      "After 94 iterations, +2.1 mins: \n",
      " confirmed 1 attribute: TK2;\n",
      " still have 16 attributes left.\n",
      "\n",
      " 95. run of importance source...\n",
      " 96. run of importance source...\n",
      "After 96 iterations, +2.1 mins: \n",
      " confirmed 1 attribute: C6orf226;\n",
      " still have 15 attributes left.\n",
      "\n",
      " 97. run of importance source...\n",
      " 98. run of importance source...\n",
      " 99. run of importance source...\n",
      "After 99 iterations, +2.1 mins: \n",
      " confirmed 2 attributes: CHCHD1, RIF1;\n",
      " still have 13 attributes left.\n",
      "\n"
     ]
    }
   ],
   "source": [
    "for(histology in histologies){    \n",
    "    setwd(paste0(output_dir,\"/\",histology))   \n",
    "    histology_data <- read.delim(paste(histology, \"- Histology.tsv\", sep = \" \")) \n",
    "\n",
    "    merge_histology_annotation <- merge(ccle_rnaseq_annotation_data,\n",
    "                                    histology_data,\n",
    "                                    by.x = \"title\",\n",
    "                                    by.y = \"Cell_Line\")\n",
    "    filtered_histology_annotation <- merge_histology_annotation[,c(\"GSM\",\"title\",\"Drug\",\"IC50\",\"Activity_Area\",\"histology\")]\n",
    "    colnames(filtered_histology_annotation) <- c(\"Sample_Name\",\"Cell_Line\",\"Drug\",\"IC50\",\"Activity_Area\",\"Histology\")\n",
    "\n",
    "    if(length(unique(filtered_histology_annotation$Sample_Name)) >= 20) {\n",
    "\n",
    "    cat(paste0(\"\\nBoruta is running for \", histology))\n",
    "    flush.console()\n",
    "        \n",
    "    selected_drugs <- unique(histology_data$Drug)\n",
    "       ind <- 1\n",
    "       for(selected_drug in selected_drugs){\n",
    "\n",
    "           cat(paste0(\"\\nDrug\", ind ,\": Boruta is running for \", selected_drug))\n",
    "           flush.console()\n",
    "           \n",
    "           dir.create(paste0(output_dir,\"/\",histology,\"/\",selected_drug),\n",
    "                             showWarnings = FALSE)\n",
    "           setwd(paste0(output_dir,\"/\",histology,\"/\",selected_drug))\n",
    "\n",
    "           selected_drug_sample_info <- filtered_histology_annotation[filtered_histology_annotation$Drug %in% selected_drug, ]\n",
    "           selected_drug_samples_rnaseq_data <- ccle_rnaseq_data[rownames(ccle_rnaseq_data) %in% selected_drug_sample_info$Sample_Name,]\n",
    "           selected_drug_samples_rnaseq_data_final <- cbind(rownames(selected_drug_samples_rnaseq_data),\n",
    "                                                              selected_drug_samples_rnaseq_data)\n",
    "           colnames(selected_drug_samples_rnaseq_data_final)[1] <- \"Sample_Name\"\n",
    "           rownames(selected_drug_samples_rnaseq_data_final) <- NULL\n",
    "           \n",
    "           \n",
    "           \n",
    "           boruta_ready_data <- merge(selected_drug_sample_info,\n",
    "                           selected_drug_samples_rnaseq_data_final,\n",
    "                           by = \"Sample_Name\")\n",
    "           IC50_boruta_ready_data <- boruta_ready_data[,c(4, 7:ncol(boruta_ready_data))]\n",
    "           rownames(IC50_boruta_ready_data) <- boruta_ready_data$Sample_Name\n",
    "           IC50_boruta_ready_data <- as.data.frame(sapply(IC50_boruta_ready_data, as.numeric))\n",
    "           boruta <- Boruta(IC50 ~ ., data = IC50_boruta_ready_data, doTrace = 2, maxRuns = 100)\n",
    "           boruta_check <- TentativeRoughFix(boruta)\n",
    "           boruta_stats <- attStats(boruta_check)\n",
    "           head(boruta_stats[order(boruta_stats$meanImp, decreasing = TRUE),], 20)  \n",
    "           boruta_confirmed_features <- boruta_stats[boruta_stats$decision == \"Confirmed\",]  \n",
    "           selected_drug_features <- rownames(boruta_confirmed_features)\n",
    "           selected_drug_after_boruta_data <- boruta_ready_data[,c(\"Sample_Name\",\"IC50\",selected_drug_features)] \n",
    "\n",
    "           write.table(selected_drug_after_boruta_data,\n",
    "                paste(selected_drug, \"- Expression Data (IC50).tsv\" , sep = \" \"),\n",
    "                row.names = FALSE,\n",
    "                quote = FALSE,\n",
    "                sep = \"\\t\")\n",
    "\n",
    "\n",
    "\n",
    "           ind <- ind + 1\n",
    "           }\n",
    "        }\n",
    "\n",
    "       }\n",
    "    \n",
    "    \n",
    "    \n",
    "\n",
    "    \n",
    "    "
   ]
  },
  {
   "cell_type": "code",
   "execution_count": null,
   "id": "0c6f8f02-f750-4286-b768-9838d480cdda",
   "metadata": {},
   "outputs": [],
   "source": []
  },
  {
   "cell_type": "code",
   "execution_count": null,
   "id": "58e349bf-fa26-4d9c-93ab-bb9ac4440760",
   "metadata": {},
   "outputs": [],
   "source": []
  },
  {
   "cell_type": "code",
   "execution_count": null,
   "id": "5128fb19-f33a-49c1-b909-420c63aaee55",
   "metadata": {},
   "outputs": [],
   "source": []
  },
  {
   "cell_type": "code",
   "execution_count": null,
   "id": "16e90630-4704-4047-8675-ae3bac0e5a7a",
   "metadata": {},
   "outputs": [],
   "source": []
  }
 ],
 "metadata": {
  "kernelspec": {
   "display_name": "R",
   "language": "R",
   "name": "ir"
  },
  "language_info": {
   "codemirror_mode": "r",
   "file_extension": ".r",
   "mimetype": "text/x-r-source",
   "name": "R",
   "pygments_lexer": "r",
   "version": "3.6.1"
  }
 },
 "nbformat": 4,
 "nbformat_minor": 5
}
