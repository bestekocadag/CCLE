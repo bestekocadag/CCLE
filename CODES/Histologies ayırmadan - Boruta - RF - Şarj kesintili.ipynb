{
 "cells": [
  {
   "cell_type": "code",
   "execution_count": 5,
   "id": "927f2d37",
   "metadata": {},
   "outputs": [],
   "source": [
    "#install.packages(\"plyr\")\n",
    "suppressPackageStartupMessages(library(plyr))"
   ]
  },
  {
   "cell_type": "code",
   "execution_count": 6,
   "id": "af4a7660",
   "metadata": {},
   "outputs": [],
   "source": [
    "#install.packages(\"randomForest\")\n",
    "suppressPackageStartupMessages(library(randomForest))"
   ]
  },
  {
   "cell_type": "code",
   "execution_count": 7,
   "id": "0799aa5f",
   "metadata": {},
   "outputs": [
    {
     "name": "stderr",
     "output_type": "stream",
     "text": [
      "Warning message:\n",
      "\"package 'ranger' was built under R version 3.6.3\""
     ]
    }
   ],
   "source": [
    "#install.packages(\"ranger\")\n",
    "suppressPackageStartupMessages(library(ranger))\n"
   ]
  },
  {
   "cell_type": "code",
   "execution_count": 8,
   "id": "ef3bb528",
   "metadata": {},
   "outputs": [
    {
     "ename": "ERROR",
     "evalue": "Error in library(lifecycle): there is no package called 'lifecycle'\n",
     "output_type": "error",
     "traceback": [
      "Error in library(lifecycle): there is no package called 'lifecycle'\nTraceback:\n",
      "1. suppressPackageStartupMessages(library(lifecycle))",
      "2. withCallingHandlers(expr, packageStartupMessage = function(c) invokeRestart(\"muffleMessage\"))",
      "3. library(lifecycle)"
     ]
    }
   ],
   "source": [
    "#install.packages(\"lifecycle\")\n",
    "suppressPackageStartupMessages(library(lifecycle))"
   ]
  },
  {
   "cell_type": "code",
   "execution_count": 9,
   "id": "d034765f",
   "metadata": {},
   "outputs": [
    {
     "name": "stderr",
     "output_type": "stream",
     "text": [
      "Warning message:\n",
      "\"package 'dplyr' was built under R version 3.6.3\""
     ]
    },
    {
     "ename": "ERROR",
     "evalue": "Error: package or namespace load failed for 'dplyr' in loadNamespace(j <- i[[1L]], c(lib.loc, .libPaths()), versionCheck = vI[[j]]):\n there is no package called 'lifecycle'\n",
     "output_type": "error",
     "traceback": [
      "Error: package or namespace load failed for 'dplyr' in loadNamespace(j <- i[[1L]], c(lib.loc, .libPaths()), versionCheck = vI[[j]]):\n there is no package called 'lifecycle'\nTraceback:\n",
      "1. suppressPackageStartupMessages(library(dplyr))",
      "2. withCallingHandlers(expr, packageStartupMessage = function(c) invokeRestart(\"muffleMessage\"))",
      "3. library(dplyr)",
      "4. tryCatch({\n .     attr(package, \"LibPath\") <- which.lib.loc\n .     ns <- loadNamespace(package, lib.loc)\n .     env <- attachNamespace(ns, pos = pos, deps, exclude, include.only)\n . }, error = function(e) {\n .     P <- if (!is.null(cc <- conditionCall(e))) \n .         paste(\" in\", deparse(cc)[1L])\n .     else \"\"\n .     msg <- gettextf(\"package or namespace load failed for %s%s:\\n %s\", \n .         sQuote(package), P, conditionMessage(e))\n .     if (logical.return) \n .         message(paste(\"Error:\", msg), domain = NA)\n .     else stop(msg, call. = FALSE, domain = NA)\n . })",
      "5. tryCatchList(expr, classes, parentenv, handlers)",
      "6. tryCatchOne(expr, names, parentenv, handlers[[1L]])",
      "7. value[[3L]](cond)",
      "8. stop(msg, call. = FALSE, domain = NA)"
     ]
    }
   ],
   "source": [
    "#install.packages(\"dplyr\")\n",
    "suppressPackageStartupMessages(library(dplyr))"
   ]
  },
  {
   "cell_type": "code",
   "execution_count": 10,
   "id": "1a9188a6",
   "metadata": {},
   "outputs": [
    {
     "name": "stderr",
     "output_type": "stream",
     "text": [
      "Warning message:\n",
      "\"package 'magrittr' was built under R version 3.6.3\""
     ]
    }
   ],
   "source": [
    "#install.packages(\"magrittr\")\n",
    "suppressPackageStartupMessages(library(magrittr))"
   ]
  },
  {
   "cell_type": "code",
   "execution_count": 11,
   "id": "38449bb2",
   "metadata": {},
   "outputs": [
    {
     "ename": "ERROR",
     "evalue": "Error in library(lifecycle): there is no package called 'lifecycle'\n",
     "output_type": "error",
     "traceback": [
      "Error in library(lifecycle): there is no package called 'lifecycle'\nTraceback:\n",
      "1. suppressPackageStartupMessages(library(lifecycle))",
      "2. withCallingHandlers(expr, packageStartupMessage = function(c) invokeRestart(\"muffleMessage\"))",
      "3. library(lifecycle)"
     ]
    }
   ],
   "source": [
    "#install.packages(\"lifecycle\")\n",
    "suppressPackageStartupMessages(library(lifecycle))"
   ]
  },
  {
   "cell_type": "code",
   "execution_count": 12,
   "id": "9059f562",
   "metadata": {},
   "outputs": [
    {
     "ename": "ERROR",
     "evalue": "Error in library(tidyverse): there is no package called 'tidyverse'\n",
     "output_type": "error",
     "traceback": [
      "Error in library(tidyverse): there is no package called 'tidyverse'\nTraceback:\n",
      "1. suppressPackageStartupMessages(library(tidyverse))",
      "2. withCallingHandlers(expr, packageStartupMessage = function(c) invokeRestart(\"muffleMessage\"))",
      "3. library(tidyverse)"
     ]
    }
   ],
   "source": [
    "#install.packages(\"tidyverse\")\n",
    "suppressPackageStartupMessages(library(tidyverse))"
   ]
  },
  {
   "cell_type": "code",
   "execution_count": 13,
   "id": "a1705cb0",
   "metadata": {},
   "outputs": [],
   "source": [
    "#install.packages(\"plyr\")\n",
    "suppressPackageStartupMessages(library(plyr))"
   ]
  },
  {
   "cell_type": "code",
   "execution_count": 2,
   "id": "96c97233",
   "metadata": {},
   "outputs": [],
   "source": [
    "suppressPackageStartupMessages(library(Boruta))"
   ]
  },
  {
   "cell_type": "code",
   "execution_count": 3,
   "id": "ab829f74",
   "metadata": {},
   "outputs": [
    {
     "data": {
      "text/html": [
       "'C:/Users/MONSTER/Desktop/TEZ/CCLE/CODES'"
      ],
      "text/latex": [
       "'C:/Users/MONSTER/Desktop/TEZ/CCLE/CODES'"
      ],
      "text/markdown": [
       "'C:/Users/MONSTER/Desktop/TEZ/CCLE/CODES'"
      ],
      "text/plain": [
       "[1] \"C:/Users/MONSTER/Desktop/TEZ/CCLE/CODES\""
      ]
     },
     "metadata": {},
     "output_type": "display_data"
    }
   ],
   "source": [
    "getwd()"
   ]
  },
  {
   "cell_type": "code",
   "execution_count": 27,
   "id": "9d8abcbf",
   "metadata": {},
   "outputs": [],
   "source": [
    "setwd(\"C:/Users/MONSTER/Desktop/TEZ/CCLE\")"
   ]
  },
  {
   "cell_type": "code",
   "execution_count": 29,
   "id": "6db2ee8a",
   "metadata": {},
   "outputs": [
    {
     "name": "stderr",
     "output_type": "stream",
     "text": [
      "Warning message in dir.create(\"OUTPUT2\", recursive = TRUE):\n",
      "\"'OUTPUT2' zaten var\""
     ]
    }
   ],
   "source": [
    "dir.create(\"OUTPUT2\", recursive = TRUE)"
   ]
  },
  {
   "cell_type": "code",
   "execution_count": 4,
   "id": "b3b442d7",
   "metadata": {},
   "outputs": [],
   "source": [
    "output_dir <- \"C:/Users/MONSTER/Desktop/TEZ/CCLE/OUTPUT\"\n",
    "input_dir <- \"C:/Users/MONSTER/Desktop/TEZ/CCLE/INPUT\"\n",
    "output2_dir <- \"C:/Users/MONSTER/Desktop/TEZ/CCLE/OUTPUT2\""
   ]
  },
  {
   "cell_type": "code",
   "execution_count": 30,
   "id": "d1965174",
   "metadata": {},
   "outputs": [],
   "source": [
    "setwd(\"C:/Users/MONSTER/Desktop/TEZ/CCLE\")"
   ]
  },
  {
   "cell_type": "code",
   "execution_count": 33,
   "id": "5a9a1802",
   "metadata": {},
   "outputs": [],
   "source": [
    "setwd(output_dir)"
   ]
  },
  {
   "cell_type": "code",
   "execution_count": 34,
   "id": "83bcdd85",
   "metadata": {},
   "outputs": [
    {
     "data": {
      "text/html": [
       "'C:/Users/MONSTER/Desktop/TEZ/CCLE/OUTPUT'"
      ],
      "text/latex": [
       "'C:/Users/MONSTER/Desktop/TEZ/CCLE/OUTPUT'"
      ],
      "text/markdown": [
       "'C:/Users/MONSTER/Desktop/TEZ/CCLE/OUTPUT'"
      ],
      "text/plain": [
       "[1] \"C:/Users/MONSTER/Desktop/TEZ/CCLE/OUTPUT\""
      ]
     },
     "metadata": {},
     "output_type": "display_data"
    }
   ],
   "source": [
    "getwd()"
   ]
  },
  {
   "cell_type": "code",
   "execution_count": 36,
   "id": "c92e773e",
   "metadata": {},
   "outputs": [
    {
     "data": {
      "text/html": [
       "18"
      ],
      "text/latex": [
       "18"
      ],
      "text/markdown": [
       "18"
      ],
      "text/plain": [
       "[1] 18"
      ]
     },
     "metadata": {},
     "output_type": "display_data"
    }
   ],
   "source": [
    "Histologies <- list.dirs(full.names = FALSE, recursive = FALSE)\n",
    "length(Histologies)"
   ]
  },
  {
   "cell_type": "code",
   "execution_count": 39,
   "id": "fbd6fcb6",
   "metadata": {},
   "outputs": [],
   "source": [
    "inner_list <- list()\n",
    "for(histology in Histologies){\n",
    "    setwd(paste0(output_dir,\"/\",histology))\n",
    "    Histology_Data <- read.delim(paste(histology, \"- Histology.tsv\", sep = \" \"))\n",
    "    inner_list[[histology]] <- Histology_Data\n",
    "}\n",
    "All_Histologies <- ldply(inner_list, \"rbind\")\n",
    "\n"
   ]
  },
  {
   "cell_type": "code",
   "execution_count": 41,
   "id": "e7cb598e",
   "metadata": {},
   "outputs": [
    {
     "data": {
      "text/html": [
       "<table>\n",
       "<thead><tr><th scope=col>.id</th><th scope=col>Cell_Line</th><th scope=col>Histology</th><th scope=col>Drug</th><th scope=col>IC50</th><th scope=col>Activity_Area</th></tr></thead>\n",
       "<tbody>\n",
       "\t<tr><td>carcinoid-endocrine_tumour</td><td>NCI-H727                  </td><td>carcinoid-endocrine_tumour</td><td>Panobinostat              </td><td>0.07609612                </td><td>2.9172                    </td></tr>\n",
       "\t<tr><td>carcinoid-endocrine_tumour</td><td>NCI-H727                  </td><td>carcinoid-endocrine_tumour</td><td>AEW541                    </td><td>1.01434231                </td><td>1.3035                    </td></tr>\n",
       "\t<tr><td>carcinoid-endocrine_tumour</td><td>NCI-H727                  </td><td>carcinoid-endocrine_tumour</td><td>Nutlin-3                  </td><td>8.00000000                </td><td>0.4471                    </td></tr>\n",
       "\t<tr><td>carcinoid-endocrine_tumour</td><td>NCI-H727                  </td><td>carcinoid-endocrine_tumour</td><td>RAF265                    </td><td>8.00000000                </td><td>0.4526                    </td></tr>\n",
       "\t<tr><td>carcinoid-endocrine_tumour</td><td>NCI-H727                  </td><td>carcinoid-endocrine_tumour</td><td>Sorafenib                 </td><td>8.00000000                </td><td>0.2139                    </td></tr>\n",
       "\t<tr><td>carcinoid-endocrine_tumour</td><td>NCI-H727                  </td><td>carcinoid-endocrine_tumour</td><td>Nilotinib                 </td><td>8.00000000                </td><td>0.5898                    </td></tr>\n",
       "</tbody>\n",
       "</table>\n"
      ],
      "text/latex": [
       "\\begin{tabular}{r|llllll}\n",
       " .id & Cell\\_Line & Histology & Drug & IC50 & Activity\\_Area\\\\\n",
       "\\hline\n",
       "\t carcinoid-endocrine\\_tumour & NCI-H727                     & carcinoid-endocrine\\_tumour & Panobinostat                 & 0.07609612                   & 2.9172                      \\\\\n",
       "\t carcinoid-endocrine\\_tumour & NCI-H727                     & carcinoid-endocrine\\_tumour & AEW541                       & 1.01434231                   & 1.3035                      \\\\\n",
       "\t carcinoid-endocrine\\_tumour & NCI-H727                     & carcinoid-endocrine\\_tumour & Nutlin-3                     & 8.00000000                   & 0.4471                      \\\\\n",
       "\t carcinoid-endocrine\\_tumour & NCI-H727                     & carcinoid-endocrine\\_tumour & RAF265                       & 8.00000000                   & 0.4526                      \\\\\n",
       "\t carcinoid-endocrine\\_tumour & NCI-H727                     & carcinoid-endocrine\\_tumour & Sorafenib                    & 8.00000000                   & 0.2139                      \\\\\n",
       "\t carcinoid-endocrine\\_tumour & NCI-H727                     & carcinoid-endocrine\\_tumour & Nilotinib                    & 8.00000000                   & 0.5898                      \\\\\n",
       "\\end{tabular}\n"
      ],
      "text/markdown": [
       "\n",
       "| .id | Cell_Line | Histology | Drug | IC50 | Activity_Area |\n",
       "|---|---|---|---|---|---|\n",
       "| carcinoid-endocrine_tumour | NCI-H727                   | carcinoid-endocrine_tumour | Panobinostat               | 0.07609612                 | 2.9172                     |\n",
       "| carcinoid-endocrine_tumour | NCI-H727                   | carcinoid-endocrine_tumour | AEW541                     | 1.01434231                 | 1.3035                     |\n",
       "| carcinoid-endocrine_tumour | NCI-H727                   | carcinoid-endocrine_tumour | Nutlin-3                   | 8.00000000                 | 0.4471                     |\n",
       "| carcinoid-endocrine_tumour | NCI-H727                   | carcinoid-endocrine_tumour | RAF265                     | 8.00000000                 | 0.4526                     |\n",
       "| carcinoid-endocrine_tumour | NCI-H727                   | carcinoid-endocrine_tumour | Sorafenib                  | 8.00000000                 | 0.2139                     |\n",
       "| carcinoid-endocrine_tumour | NCI-H727                   | carcinoid-endocrine_tumour | Nilotinib                  | 8.00000000                 | 0.5898                     |\n",
       "\n"
      ],
      "text/plain": [
       "  .id                        Cell_Line Histology                  Drug        \n",
       "1 carcinoid-endocrine_tumour NCI-H727  carcinoid-endocrine_tumour Panobinostat\n",
       "2 carcinoid-endocrine_tumour NCI-H727  carcinoid-endocrine_tumour AEW541      \n",
       "3 carcinoid-endocrine_tumour NCI-H727  carcinoid-endocrine_tumour Nutlin-3    \n",
       "4 carcinoid-endocrine_tumour NCI-H727  carcinoid-endocrine_tumour RAF265      \n",
       "5 carcinoid-endocrine_tumour NCI-H727  carcinoid-endocrine_tumour Sorafenib   \n",
       "6 carcinoid-endocrine_tumour NCI-H727  carcinoid-endocrine_tumour Nilotinib   \n",
       "  IC50       Activity_Area\n",
       "1 0.07609612 2.9172       \n",
       "2 1.01434231 1.3035       \n",
       "3 8.00000000 0.4471       \n",
       "4 8.00000000 0.4526       \n",
       "5 8.00000000 0.2139       \n",
       "6 8.00000000 0.5898       "
      ]
     },
     "metadata": {},
     "output_type": "display_data"
    }
   ],
   "source": [
    "head(All_Histologies)"
   ]
  },
  {
   "cell_type": "code",
   "execution_count": 43,
   "id": "a0ec9200",
   "metadata": {},
   "outputs": [
    {
     "data": {
      "text/html": [
       "18"
      ],
      "text/latex": [
       "18"
      ],
      "text/markdown": [
       "18"
      ],
      "text/plain": [
       "[1] 18"
      ]
     },
     "metadata": {},
     "output_type": "display_data"
    }
   ],
   "source": [
    "length(unique(All_Histologies$Histology))"
   ]
  },
  {
   "cell_type": "code",
   "execution_count": 44,
   "id": "28154392",
   "metadata": {},
   "outputs": [],
   "source": [
    "All_Histologies <- subset(All_Histologies, select = -.id)"
   ]
  },
  {
   "cell_type": "code",
   "execution_count": 50,
   "id": "e721df1a",
   "metadata": {},
   "outputs": [
    {
     "data": {
      "text/html": [
       "<table>\n",
       "<thead><tr><th scope=col>Cell_Line</th><th scope=col>Histology</th><th scope=col>Drug</th><th scope=col>IC50</th><th scope=col>Activity_Area</th></tr></thead>\n",
       "<tbody>\n",
       "\t<tr><td>NCI-H727                  </td><td>carcinoid-endocrine_tumour</td><td>Panobinostat              </td><td>0.07609612                </td><td>2.9172                    </td></tr>\n",
       "\t<tr><td>NCI-H727                  </td><td>carcinoid-endocrine_tumour</td><td>AEW541                    </td><td>1.01434231                </td><td>1.3035                    </td></tr>\n",
       "\t<tr><td>NCI-H727                  </td><td>carcinoid-endocrine_tumour</td><td>Nutlin-3                  </td><td>8.00000000                </td><td>0.4471                    </td></tr>\n",
       "\t<tr><td>NCI-H727                  </td><td>carcinoid-endocrine_tumour</td><td>RAF265                    </td><td>8.00000000                </td><td>0.4526                    </td></tr>\n",
       "\t<tr><td>NCI-H727                  </td><td>carcinoid-endocrine_tumour</td><td>Sorafenib                 </td><td>8.00000000                </td><td>0.2139                    </td></tr>\n",
       "\t<tr><td>NCI-H727                  </td><td>carcinoid-endocrine_tumour</td><td>Nilotinib                 </td><td>8.00000000                </td><td>0.5898                    </td></tr>\n",
       "</tbody>\n",
       "</table>\n"
      ],
      "text/latex": [
       "\\begin{tabular}{r|lllll}\n",
       " Cell\\_Line & Histology & Drug & IC50 & Activity\\_Area\\\\\n",
       "\\hline\n",
       "\t NCI-H727                     & carcinoid-endocrine\\_tumour & Panobinostat                 & 0.07609612                   & 2.9172                      \\\\\n",
       "\t NCI-H727                     & carcinoid-endocrine\\_tumour & AEW541                       & 1.01434231                   & 1.3035                      \\\\\n",
       "\t NCI-H727                     & carcinoid-endocrine\\_tumour & Nutlin-3                     & 8.00000000                   & 0.4471                      \\\\\n",
       "\t NCI-H727                     & carcinoid-endocrine\\_tumour & RAF265                       & 8.00000000                   & 0.4526                      \\\\\n",
       "\t NCI-H727                     & carcinoid-endocrine\\_tumour & Sorafenib                    & 8.00000000                   & 0.2139                      \\\\\n",
       "\t NCI-H727                     & carcinoid-endocrine\\_tumour & Nilotinib                    & 8.00000000                   & 0.5898                      \\\\\n",
       "\\end{tabular}\n"
      ],
      "text/markdown": [
       "\n",
       "| Cell_Line | Histology | Drug | IC50 | Activity_Area |\n",
       "|---|---|---|---|---|\n",
       "| NCI-H727                   | carcinoid-endocrine_tumour | Panobinostat               | 0.07609612                 | 2.9172                     |\n",
       "| NCI-H727                   | carcinoid-endocrine_tumour | AEW541                     | 1.01434231                 | 1.3035                     |\n",
       "| NCI-H727                   | carcinoid-endocrine_tumour | Nutlin-3                   | 8.00000000                 | 0.4471                     |\n",
       "| NCI-H727                   | carcinoid-endocrine_tumour | RAF265                     | 8.00000000                 | 0.4526                     |\n",
       "| NCI-H727                   | carcinoid-endocrine_tumour | Sorafenib                  | 8.00000000                 | 0.2139                     |\n",
       "| NCI-H727                   | carcinoid-endocrine_tumour | Nilotinib                  | 8.00000000                 | 0.5898                     |\n",
       "\n"
      ],
      "text/plain": [
       "  Cell_Line Histology                  Drug         IC50       Activity_Area\n",
       "1 NCI-H727  carcinoid-endocrine_tumour Panobinostat 0.07609612 2.9172       \n",
       "2 NCI-H727  carcinoid-endocrine_tumour AEW541       1.01434231 1.3035       \n",
       "3 NCI-H727  carcinoid-endocrine_tumour Nutlin-3     8.00000000 0.4471       \n",
       "4 NCI-H727  carcinoid-endocrine_tumour RAF265       8.00000000 0.4526       \n",
       "5 NCI-H727  carcinoid-endocrine_tumour Sorafenib    8.00000000 0.2139       \n",
       "6 NCI-H727  carcinoid-endocrine_tumour Nilotinib    8.00000000 0.5898       "
      ]
     },
     "metadata": {},
     "output_type": "display_data"
    }
   ],
   "source": [
    "head(All_Histologies)"
   ]
  },
  {
   "cell_type": "code",
   "execution_count": 47,
   "id": "e6effd67",
   "metadata": {},
   "outputs": [],
   "source": [
    "write.table(All_Histologies,\n",
    "           \"C:/Users/MONSTER/Desktop/TEZ/CCLE/OUTPUT2/All_Histologies.tsv\",\n",
    "            row.names = FALSE,\n",
    "            quote = FALSE,\n",
    "            sep = \"\\t\")"
   ]
  },
  {
   "cell_type": "code",
   "execution_count": null,
   "id": "7b08f748",
   "metadata": {},
   "outputs": [],
   "source": [
    "# BORUTA"
   ]
  },
  {
   "cell_type": "code",
   "execution_count": 51,
   "id": "e6f8774f",
   "metadata": {},
   "outputs": [],
   "source": [
    "setwd(input_dir)"
   ]
  },
  {
   "cell_type": "code",
   "execution_count": 52,
   "id": "53e732ea",
   "metadata": {},
   "outputs": [
    {
     "data": {
      "text/html": [
       "<table>\n",
       "<thead><tr><th></th><th scope=col>GSM886835</th><th scope=col>GSM886836</th><th scope=col>GSM886837</th><th scope=col>GSM886838</th><th scope=col>GSM886839</th><th scope=col>GSM886840</th><th scope=col>GSM886841</th><th scope=col>GSM886842</th><th scope=col>GSM886843</th><th scope=col>GSM886844</th><th scope=col>...</th><th scope=col>GSM887742</th><th scope=col>GSM887743</th><th scope=col>GSM887744</th><th scope=col>GSM887745</th><th scope=col>GSM887746</th><th scope=col>GSM887747</th><th scope=col>GSM887748</th><th scope=col>GSM887749</th><th scope=col>GSM887750</th><th scope=col>GSM887751</th></tr></thead>\n",
       "<tbody>\n",
       "\t<tr><th scope=row>A1BG</th><td>5.899963</td><td>5.495630</td><td>4.915154</td><td>4.386444</td><td>8.018313</td><td>4.440586</td><td>7.108326</td><td>4.974334</td><td>7.542390</td><td>4.769888</td><td>...     </td><td>4.750698</td><td>4.899243</td><td>4.071518</td><td>4.630944</td><td>4.617563</td><td>7.214694</td><td>5.955572</td><td>8.455509</td><td>7.726960</td><td>6.890627</td></tr>\n",
       "\t<tr><th scope=row>A1BG-AS1</th><td>4.198575</td><td>4.288757</td><td>4.359141</td><td>4.480000</td><td>4.967571</td><td>4.347018</td><td>4.625651</td><td>3.904524</td><td>4.520180</td><td>4.199256</td><td>...     </td><td>3.961551</td><td>4.857442</td><td>3.912837</td><td>4.158353</td><td>4.251507</td><td>4.576859</td><td>4.293843</td><td>4.936280</td><td>4.550335</td><td>4.542611</td></tr>\n",
       "\t<tr><th scope=row>A1CF</th><td>3.417583</td><td>3.525042</td><td>7.542882</td><td>6.040017</td><td>3.594282</td><td>3.745547</td><td>3.810901</td><td>3.801650</td><td>3.581691</td><td>4.806474</td><td>...     </td><td>3.728103</td><td>3.926467</td><td>3.628426</td><td>3.674687</td><td>3.516588</td><td>3.647283</td><td>3.462856</td><td>3.634708</td><td>3.638426</td><td>3.583976</td></tr>\n",
       "\t<tr><th scope=row>A2M</th><td>4.151092</td><td>4.867485</td><td>4.683452</td><td>3.770537</td><td>3.992411</td><td>3.668579</td><td>3.643959</td><td>3.799457</td><td>3.985218</td><td>3.708740</td><td>...     </td><td>3.532178</td><td>4.184472</td><td>3.778447</td><td>3.898891</td><td>4.298302</td><td>4.583785</td><td>3.854023</td><td>4.372195</td><td>3.680397</td><td>4.555957</td></tr>\n",
       "\t<tr><th scope=row>A2M-AS1</th><td>3.762424</td><td>4.137505</td><td>5.460368</td><td>4.362451</td><td>3.399720</td><td>4.016473</td><td>4.214320</td><td>3.873390</td><td>4.371387</td><td>4.227194</td><td>...     </td><td>3.950108</td><td>4.085309</td><td>3.765956</td><td>3.790026</td><td>6.153343</td><td>3.559259</td><td>3.627579</td><td>6.262938</td><td>5.726388</td><td>4.205392</td></tr>\n",
       "\t<tr><th scope=row>A2ML1</th><td>3.732278</td><td>3.662743</td><td>3.610375</td><td>3.732523</td><td>3.725832</td><td>4.007599</td><td>3.874659</td><td>3.720081</td><td>3.855083</td><td>3.791364</td><td>...     </td><td>3.550914</td><td>3.812484</td><td>3.661177</td><td>3.869864</td><td>3.762442</td><td>3.614379</td><td>3.604870</td><td>3.791852</td><td>3.791549</td><td>3.798503</td></tr>\n",
       "</tbody>\n",
       "</table>\n"
      ],
      "text/latex": [
       "\\begin{tabular}{r|lllllllllllllllllllllllllllllllllllllllllllllllllllllllllllllllllllllllllllllllllllllllllllllllllllllllllllllllllllllllllllllllllllllllllllllllllllllllllllllllllllllllllllllllllllllllllllllllllllllllllllllllllllllllllllllllllllllllllllllllllllllllllllllllllllllllllllllllllllllllllllllllllllllllllllllllllllllllllllllllllllllllllllllllllllllllllllllllllllllllllllllllllllllllllllllllllllllllllllllllllllllllllllllllllllllllllllllllllllllllllllllllllllllllllllllllllllllllllllllllllllllllllllllllllllllllllllllllllllllllllllllllllllllllllllllllllllllllllllllllllllllllllllllllllllllllllllllllllllllllllllllllllllllllllllllllllllllllllllllllllllllllllllllllllllllllllllllllllllllllllllllllllllllllllllllllllllllllllllllllllllllllllllllllllllllllllllllllllllllllllllllllllllllllllllllllllllllllllllllllllllllllllllllllllllllllllllllllllllllllllllllllllllllllllllllllllllllllllllllllllllllllllllllllllllllllllllllllllllll}\n",
       "  & GSM886835 & GSM886836 & GSM886837 & GSM886838 & GSM886839 & GSM886840 & GSM886841 & GSM886842 & GSM886843 & GSM886844 & ... & GSM887742 & GSM887743 & GSM887744 & GSM887745 & GSM887746 & GSM887747 & GSM887748 & GSM887749 & GSM887750 & GSM887751\\\\\n",
       "\\hline\n",
       "\tA1BG & 5.899963 & 5.495630 & 4.915154 & 4.386444 & 8.018313 & 4.440586 & 7.108326 & 4.974334 & 7.542390 & 4.769888 & ...      & 4.750698 & 4.899243 & 4.071518 & 4.630944 & 4.617563 & 7.214694 & 5.955572 & 8.455509 & 7.726960 & 6.890627\\\\\n",
       "\tA1BG-AS1 & 4.198575 & 4.288757 & 4.359141 & 4.480000 & 4.967571 & 4.347018 & 4.625651 & 3.904524 & 4.520180 & 4.199256 & ...      & 3.961551 & 4.857442 & 3.912837 & 4.158353 & 4.251507 & 4.576859 & 4.293843 & 4.936280 & 4.550335 & 4.542611\\\\\n",
       "\tA1CF & 3.417583 & 3.525042 & 7.542882 & 6.040017 & 3.594282 & 3.745547 & 3.810901 & 3.801650 & 3.581691 & 4.806474 & ...      & 3.728103 & 3.926467 & 3.628426 & 3.674687 & 3.516588 & 3.647283 & 3.462856 & 3.634708 & 3.638426 & 3.583976\\\\\n",
       "\tA2M & 4.151092 & 4.867485 & 4.683452 & 3.770537 & 3.992411 & 3.668579 & 3.643959 & 3.799457 & 3.985218 & 3.708740 & ...      & 3.532178 & 4.184472 & 3.778447 & 3.898891 & 4.298302 & 4.583785 & 3.854023 & 4.372195 & 3.680397 & 4.555957\\\\\n",
       "\tA2M-AS1 & 3.762424 & 4.137505 & 5.460368 & 4.362451 & 3.399720 & 4.016473 & 4.214320 & 3.873390 & 4.371387 & 4.227194 & ...      & 3.950108 & 4.085309 & 3.765956 & 3.790026 & 6.153343 & 3.559259 & 3.627579 & 6.262938 & 5.726388 & 4.205392\\\\\n",
       "\tA2ML1 & 3.732278 & 3.662743 & 3.610375 & 3.732523 & 3.725832 & 4.007599 & 3.874659 & 3.720081 & 3.855083 & 3.791364 & ...      & 3.550914 & 3.812484 & 3.661177 & 3.869864 & 3.762442 & 3.614379 & 3.604870 & 3.791852 & 3.791549 & 3.798503\\\\\n",
       "\\end{tabular}\n"
      ],
      "text/markdown": [
       "\n",
       "| <!--/--> | GSM886835 | GSM886836 | GSM886837 | GSM886838 | GSM886839 | GSM886840 | GSM886841 | GSM886842 | GSM886843 | GSM886844 | ... | GSM887742 | GSM887743 | GSM887744 | GSM887745 | GSM887746 | GSM887747 | GSM887748 | GSM887749 | GSM887750 | GSM887751 |\n",
       "|---|---|---|---|---|---|---|---|---|---|---|---|---|---|---|---|---|---|---|---|---|---|\n",
       "| A1BG | 5.899963 | 5.495630 | 4.915154 | 4.386444 | 8.018313 | 4.440586 | 7.108326 | 4.974334 | 7.542390 | 4.769888 | ...      | 4.750698 | 4.899243 | 4.071518 | 4.630944 | 4.617563 | 7.214694 | 5.955572 | 8.455509 | 7.726960 | 6.890627 |\n",
       "| A1BG-AS1 | 4.198575 | 4.288757 | 4.359141 | 4.480000 | 4.967571 | 4.347018 | 4.625651 | 3.904524 | 4.520180 | 4.199256 | ...      | 3.961551 | 4.857442 | 3.912837 | 4.158353 | 4.251507 | 4.576859 | 4.293843 | 4.936280 | 4.550335 | 4.542611 |\n",
       "| A1CF | 3.417583 | 3.525042 | 7.542882 | 6.040017 | 3.594282 | 3.745547 | 3.810901 | 3.801650 | 3.581691 | 4.806474 | ...      | 3.728103 | 3.926467 | 3.628426 | 3.674687 | 3.516588 | 3.647283 | 3.462856 | 3.634708 | 3.638426 | 3.583976 |\n",
       "| A2M | 4.151092 | 4.867485 | 4.683452 | 3.770537 | 3.992411 | 3.668579 | 3.643959 | 3.799457 | 3.985218 | 3.708740 | ...      | 3.532178 | 4.184472 | 3.778447 | 3.898891 | 4.298302 | 4.583785 | 3.854023 | 4.372195 | 3.680397 | 4.555957 |\n",
       "| A2M-AS1 | 3.762424 | 4.137505 | 5.460368 | 4.362451 | 3.399720 | 4.016473 | 4.214320 | 3.873390 | 4.371387 | 4.227194 | ...      | 3.950108 | 4.085309 | 3.765956 | 3.790026 | 6.153343 | 3.559259 | 3.627579 | 6.262938 | 5.726388 | 4.205392 |\n",
       "| A2ML1 | 3.732278 | 3.662743 | 3.610375 | 3.732523 | 3.725832 | 4.007599 | 3.874659 | 3.720081 | 3.855083 | 3.791364 | ...      | 3.550914 | 3.812484 | 3.661177 | 3.869864 | 3.762442 | 3.614379 | 3.604870 | 3.791852 | 3.791549 | 3.798503 |\n",
       "\n"
      ],
      "text/plain": [
       "         GSM886835 GSM886836 GSM886837 GSM886838 GSM886839 GSM886840 GSM886841\n",
       "A1BG     5.899963  5.495630  4.915154  4.386444  8.018313  4.440586  7.108326 \n",
       "A1BG-AS1 4.198575  4.288757  4.359141  4.480000  4.967571  4.347018  4.625651 \n",
       "A1CF     3.417583  3.525042  7.542882  6.040017  3.594282  3.745547  3.810901 \n",
       "A2M      4.151092  4.867485  4.683452  3.770537  3.992411  3.668579  3.643959 \n",
       "A2M-AS1  3.762424  4.137505  5.460368  4.362451  3.399720  4.016473  4.214320 \n",
       "A2ML1    3.732278  3.662743  3.610375  3.732523  3.725832  4.007599  3.874659 \n",
       "         GSM886842 GSM886843 GSM886844 ... GSM887742 GSM887743 GSM887744\n",
       "A1BG     4.974334  7.542390  4.769888  ... 4.750698  4.899243  4.071518 \n",
       "A1BG-AS1 3.904524  4.520180  4.199256  ... 3.961551  4.857442  3.912837 \n",
       "A1CF     3.801650  3.581691  4.806474  ... 3.728103  3.926467  3.628426 \n",
       "A2M      3.799457  3.985218  3.708740  ... 3.532178  4.184472  3.778447 \n",
       "A2M-AS1  3.873390  4.371387  4.227194  ... 3.950108  4.085309  3.765956 \n",
       "A2ML1    3.720081  3.855083  3.791364  ... 3.550914  3.812484  3.661177 \n",
       "         GSM887745 GSM887746 GSM887747 GSM887748 GSM887749 GSM887750 GSM887751\n",
       "A1BG     4.630944  4.617563  7.214694  5.955572  8.455509  7.726960  6.890627 \n",
       "A1BG-AS1 4.158353  4.251507  4.576859  4.293843  4.936280  4.550335  4.542611 \n",
       "A1CF     3.674687  3.516588  3.647283  3.462856  3.634708  3.638426  3.583976 \n",
       "A2M      3.898891  4.298302  4.583785  3.854023  4.372195  3.680397  4.555957 \n",
       "A2M-AS1  3.790026  6.153343  3.559259  3.627579  6.262938  5.726388  4.205392 \n",
       "A2ML1    3.869864  3.762442  3.614379  3.604870  3.791852  3.791549  3.798503 "
      ]
     },
     "metadata": {},
     "output_type": "display_data"
    }
   ],
   "source": [
    "ccle_rnaseq_data <- read.delim(\"GSE36133.BrainArray.RMAlog2Average.SYMBOL.Expr.tsv\")\n",
    "head(ccle_rnaseq_data)"
   ]
  },
  {
   "cell_type": "code",
   "execution_count": 53,
   "id": "0962e806",
   "metadata": {},
   "outputs": [],
   "source": [
    "ccle_rnaseq_data <- t(ccle_rnaseq_data)"
   ]
  },
  {
   "cell_type": "code",
   "execution_count": 54,
   "id": "324dcaa7",
   "metadata": {},
   "outputs": [
    {
     "name": "stderr",
     "output_type": "stream",
     "text": [
      "ERROR while rich displaying an object: Error in sprintf(wrap, header, body): 'fmt' uzunluğu maksimum biçim uzunluğu 8192'i geçiyor\n",
      "\n",
      "Traceback:\n",
      "1. tryCatch(withCallingHandlers({\n",
      " .     if (!mime %in% names(repr::mime2repr)) \n",
      " .         stop(\"No repr_* for mimetype \", mime, \" in repr::mime2repr\")\n",
      " .     rpr <- repr::mime2repr[[mime]](obj)\n",
      " .     if (is.null(rpr)) \n",
      " .         return(NULL)\n",
      " .     prepare_content(is.raw(rpr), rpr)\n",
      " . }, error = error_handler), error = outer_handler)\n",
      "2. tryCatchList(expr, classes, parentenv, handlers)\n",
      "3. tryCatchOne(expr, names, parentenv, handlers[[1L]])\n",
      "4. doTryCatch(return(expr), name, parentenv, handler)\n",
      "5. withCallingHandlers({\n",
      " .     if (!mime %in% names(repr::mime2repr)) \n",
      " .         stop(\"No repr_* for mimetype \", mime, \" in repr::mime2repr\")\n",
      " .     rpr <- repr::mime2repr[[mime]](obj)\n",
      " .     if (is.null(rpr)) \n",
      " .         return(NULL)\n",
      " .     prepare_content(is.raw(rpr), rpr)\n",
      " . }, error = error_handler)\n",
      "6. repr::mime2repr[[mime]](obj)\n",
      "7. repr_latex.matrix(obj)\n",
      "8. repr_matrix_generic(obj, sprintf(\"\\\\begin{tabular}{%s}\\n%%s%%s\\\\end{tabular}\\n\", \n",
      " .     cols), \"%s\\\\\\\\\\n\\\\hline\\n\", \"  &\", \" %s &\", \"%s\", \"\\t%s\\\\\\\\\\n\", \n",
      " .     \"%s &\", \" %s &\", escape_fun = latex_escape_vec, ...)\n",
      "9. sprintf(wrap, header, body)\n"
     ]
    },
    {
     "data": {
      "text/html": [
       "<table>\n",
       "<thead><tr><th></th><th scope=col>A1BG</th><th scope=col>A1BG-AS1</th><th scope=col>A1CF</th><th scope=col>A2M</th><th scope=col>A2M-AS1</th><th scope=col>A2ML1</th><th scope=col>A4GALT</th><th scope=col>A4GNT</th><th scope=col>AA06</th><th scope=col>AAAS</th><th scope=col>...</th><th scope=col>ZWILCH</th><th scope=col>ZWINT</th><th scope=col>ZXDA</th><th scope=col>ZXDB</th><th scope=col>ZXDC</th><th scope=col>ZYG11A</th><th scope=col>ZYG11B</th><th scope=col>ZYX</th><th scope=col>ZZEF1</th><th scope=col>ZZZ3</th></tr></thead>\n",
       "<tbody>\n",
       "\t<tr><th scope=row>GSM886835</th><td>5.899963</td><td>4.198575</td><td>3.417583</td><td>4.151092</td><td>3.762424</td><td>3.732278</td><td>4.601793</td><td>4.120159</td><td>3.775451</td><td>7.746676</td><td>...     </td><td>11.53997</td><td>12.05005</td><td>5.062282</td><td>5.008791</td><td>6.960315</td><td>4.722003</td><td>9.417772</td><td>8.431670</td><td>5.840868</td><td>8.712982</td></tr>\n",
       "\t<tr><th scope=row>GSM886836</th><td>5.495630</td><td>4.288757</td><td>3.525042</td><td>4.867485</td><td>4.137505</td><td>3.662743</td><td>4.100075</td><td>4.248690</td><td>3.866216</td><td>7.817647</td><td>...     </td><td>11.55064</td><td>12.67412</td><td>5.113557</td><td>5.306325</td><td>6.847328</td><td>8.401546</td><td>8.559293</td><td>9.492206</td><td>6.702743</td><td>9.381748</td></tr>\n",
       "\t<tr><th scope=row>GSM886837</th><td>4.915154</td><td>4.359141</td><td>7.542882</td><td>4.683452</td><td>5.460368</td><td>3.610375</td><td>3.717582</td><td>3.942868</td><td>4.114708</td><td>8.531752</td><td>...     </td><td>11.03134</td><td>12.75829</td><td>5.161531</td><td>5.216974</td><td>6.739969</td><td>5.047310</td><td>8.619068</td><td>6.438087</td><td>5.778127</td><td>8.865624</td></tr>\n",
       "\t<tr><th scope=row>GSM886838</th><td>4.386444</td><td>4.480000</td><td>6.040017</td><td>3.770537</td><td>4.362451</td><td>3.732523</td><td>4.371752</td><td>3.991243</td><td>3.655252</td><td>7.435340</td><td>...     </td><td>10.36492</td><td>12.03812</td><td>5.716673</td><td>5.811547</td><td>6.872836</td><td>4.824522</td><td>8.331147</td><td>7.748450</td><td>5.904140</td><td>9.142657</td></tr>\n",
       "\t<tr><th scope=row>GSM886839</th><td>8.018313</td><td>4.967571</td><td>3.594282</td><td>3.992411</td><td>3.399720</td><td>3.725832</td><td>3.742307</td><td>3.826548</td><td>3.864680</td><td>7.415949</td><td>...     </td><td>10.85602</td><td>11.98229</td><td>4.647602</td><td>4.817213</td><td>6.179972</td><td>5.111314</td><td>9.087052</td><td>8.752901</td><td>5.857895</td><td>9.213310</td></tr>\n",
       "\t<tr><th scope=row>GSM886840</th><td>4.440586</td><td>4.347018</td><td>3.745547</td><td>3.668579</td><td>4.016473</td><td>4.007599</td><td>5.443397</td><td>4.212212</td><td>4.163725</td><td>7.758437</td><td>...     </td><td>10.03659</td><td>11.91195</td><td>5.034868</td><td>4.904330</td><td>6.401517</td><td>5.784584</td><td>8.046474</td><td>9.286192</td><td>5.913842</td><td>8.374144</td></tr>\n",
       "</tbody>\n",
       "</table>\n"
      ],
      "text/markdown": [
       "\n",
       "| <!--/--> | A1BG | A1BG-AS1 | A1CF | A2M | A2M-AS1 | A2ML1 | A4GALT | A4GNT | AA06 | AAAS | ... | ZWILCH | ZWINT | ZXDA | ZXDB | ZXDC | ZYG11A | ZYG11B | ZYX | ZZEF1 | ZZZ3 |\n",
       "|---|---|---|---|---|---|---|---|---|---|---|---|---|---|---|---|---|---|---|---|---|---|\n",
       "| GSM886835 | 5.899963 | 4.198575 | 3.417583 | 4.151092 | 3.762424 | 3.732278 | 4.601793 | 4.120159 | 3.775451 | 7.746676 | ...      | 11.53997 | 12.05005 | 5.062282 | 5.008791 | 6.960315 | 4.722003 | 9.417772 | 8.431670 | 5.840868 | 8.712982 |\n",
       "| GSM886836 | 5.495630 | 4.288757 | 3.525042 | 4.867485 | 4.137505 | 3.662743 | 4.100075 | 4.248690 | 3.866216 | 7.817647 | ...      | 11.55064 | 12.67412 | 5.113557 | 5.306325 | 6.847328 | 8.401546 | 8.559293 | 9.492206 | 6.702743 | 9.381748 |\n",
       "| GSM886837 | 4.915154 | 4.359141 | 7.542882 | 4.683452 | 5.460368 | 3.610375 | 3.717582 | 3.942868 | 4.114708 | 8.531752 | ...      | 11.03134 | 12.75829 | 5.161531 | 5.216974 | 6.739969 | 5.047310 | 8.619068 | 6.438087 | 5.778127 | 8.865624 |\n",
       "| GSM886838 | 4.386444 | 4.480000 | 6.040017 | 3.770537 | 4.362451 | 3.732523 | 4.371752 | 3.991243 | 3.655252 | 7.435340 | ...      | 10.36492 | 12.03812 | 5.716673 | 5.811547 | 6.872836 | 4.824522 | 8.331147 | 7.748450 | 5.904140 | 9.142657 |\n",
       "| GSM886839 | 8.018313 | 4.967571 | 3.594282 | 3.992411 | 3.399720 | 3.725832 | 3.742307 | 3.826548 | 3.864680 | 7.415949 | ...      | 10.85602 | 11.98229 | 4.647602 | 4.817213 | 6.179972 | 5.111314 | 9.087052 | 8.752901 | 5.857895 | 9.213310 |\n",
       "| GSM886840 | 4.440586 | 4.347018 | 3.745547 | 3.668579 | 4.016473 | 4.007599 | 5.443397 | 4.212212 | 4.163725 | 7.758437 | ...      | 10.03659 | 11.91195 | 5.034868 | 4.904330 | 6.401517 | 5.784584 | 8.046474 | 9.286192 | 5.913842 | 8.374144 |\n",
       "\n"
      ],
      "text/plain": [
       "          A1BG     A1BG-AS1 A1CF     A2M      A2M-AS1  A2ML1    A4GALT  \n",
       "GSM886835 5.899963 4.198575 3.417583 4.151092 3.762424 3.732278 4.601793\n",
       "GSM886836 5.495630 4.288757 3.525042 4.867485 4.137505 3.662743 4.100075\n",
       "GSM886837 4.915154 4.359141 7.542882 4.683452 5.460368 3.610375 3.717582\n",
       "GSM886838 4.386444 4.480000 6.040017 3.770537 4.362451 3.732523 4.371752\n",
       "GSM886839 8.018313 4.967571 3.594282 3.992411 3.399720 3.725832 3.742307\n",
       "GSM886840 4.440586 4.347018 3.745547 3.668579 4.016473 4.007599 5.443397\n",
       "          A4GNT    AA06     AAAS     ... ZWILCH   ZWINT    ZXDA     ZXDB    \n",
       "GSM886835 4.120159 3.775451 7.746676 ... 11.53997 12.05005 5.062282 5.008791\n",
       "GSM886836 4.248690 3.866216 7.817647 ... 11.55064 12.67412 5.113557 5.306325\n",
       "GSM886837 3.942868 4.114708 8.531752 ... 11.03134 12.75829 5.161531 5.216974\n",
       "GSM886838 3.991243 3.655252 7.435340 ... 10.36492 12.03812 5.716673 5.811547\n",
       "GSM886839 3.826548 3.864680 7.415949 ... 10.85602 11.98229 4.647602 4.817213\n",
       "GSM886840 4.212212 4.163725 7.758437 ... 10.03659 11.91195 5.034868 4.904330\n",
       "          ZXDC     ZYG11A   ZYG11B   ZYX      ZZEF1    ZZZ3    \n",
       "GSM886835 6.960315 4.722003 9.417772 8.431670 5.840868 8.712982\n",
       "GSM886836 6.847328 8.401546 8.559293 9.492206 6.702743 9.381748\n",
       "GSM886837 6.739969 5.047310 8.619068 6.438087 5.778127 8.865624\n",
       "GSM886838 6.872836 4.824522 8.331147 7.748450 5.904140 9.142657\n",
       "GSM886839 6.179972 5.111314 9.087052 8.752901 5.857895 9.213310\n",
       "GSM886840 6.401517 5.784584 8.046474 9.286192 5.913842 8.374144"
      ]
     },
     "metadata": {},
     "output_type": "display_data"
    }
   ],
   "source": [
    "head(ccle_rnaseq_data)"
   ]
  },
  {
   "cell_type": "code",
   "execution_count": 55,
   "id": "144dcb36",
   "metadata": {},
   "outputs": [
    {
     "data": {
      "text/html": [
       "<ol class=list-inline>\n",
       "\t<li>917</li>\n",
       "\t<li>20174</li>\n",
       "</ol>\n"
      ],
      "text/latex": [
       "\\begin{enumerate*}\n",
       "\\item 917\n",
       "\\item 20174\n",
       "\\end{enumerate*}\n"
      ],
      "text/markdown": [
       "1. 917\n",
       "2. 20174\n",
       "\n",
       "\n"
      ],
      "text/plain": [
       "[1]   917 20174"
      ]
     },
     "metadata": {},
     "output_type": "display_data"
    }
   ],
   "source": [
    "dim(ccle_rnaseq_data)"
   ]
  },
  {
   "cell_type": "code",
   "execution_count": 56,
   "id": "04ce4e12",
   "metadata": {},
   "outputs": [],
   "source": [
    "#.........."
   ]
  },
  {
   "cell_type": "code",
   "execution_count": 58,
   "id": "9c7e60bf",
   "metadata": {},
   "outputs": [],
   "source": [
    "ccle_rnaseq_annotation_data <- read.delim(\"CCLE_expressions.annotations.tsv\")"
   ]
  },
  {
   "cell_type": "code",
   "execution_count": 59,
   "id": "649fc6d5",
   "metadata": {},
   "outputs": [
    {
     "data": {
      "text/html": [
       "<table>\n",
       "<thead><tr><th scope=col>GSM</th><th scope=col>title</th><th scope=col>source</th><th scope=col>primary.site</th><th scope=col>histology</th><th scope=col>histology.subtype1</th><th scope=col>CCLE_name</th></tr></thead>\n",
       "<tbody>\n",
       "\t<tr><td>GSM886835                    </td><td>1321N1                       </td><td>ECACC                        </td><td>central_nervous_system       </td><td>glioma                       </td><td>astrocytoma                  </td><td>1321N1_CENTRAL_NERVOUS_SYSTEM</td></tr>\n",
       "\t<tr><td>GSM886836                    </td><td>143B                         </td><td>ATCC                         </td><td>bone                         </td><td>osteosarcoma                 </td><td>                             </td><td>143B_BONE                    </td></tr>\n",
       "\t<tr><td>GSM886837                    </td><td>22Rv1                        </td><td>ATCC                         </td><td>prostate                     </td><td>carcinoma                    </td><td>                             </td><td>22RV1_PROSTATE               </td></tr>\n",
       "</tbody>\n",
       "</table>\n"
      ],
      "text/latex": [
       "\\begin{tabular}{r|lllllll}\n",
       " GSM & title & source & primary.site & histology & histology.subtype1 & CCLE\\_name\\\\\n",
       "\\hline\n",
       "\t GSM886835                           & 1321N1                              & ECACC                               & central\\_nervous\\_system          & glioma                              & astrocytoma                         & 1321N1\\_CENTRAL\\_NERVOUS\\_SYSTEM\\\\\n",
       "\t GSM886836                       & 143B                            & ATCC                            & bone                            & osteosarcoma                    &                                 & 143B\\_BONE                    \\\\\n",
       "\t GSM886837                       & 22Rv1                           & ATCC                            & prostate                        & carcinoma                       &                                 & 22RV1\\_PROSTATE               \\\\\n",
       "\\end{tabular}\n"
      ],
      "text/markdown": [
       "\n",
       "| GSM | title | source | primary.site | histology | histology.subtype1 | CCLE_name |\n",
       "|---|---|---|---|---|---|---|\n",
       "| GSM886835                     | 1321N1                        | ECACC                         | central_nervous_system        | glioma                        | astrocytoma                   | 1321N1_CENTRAL_NERVOUS_SYSTEM |\n",
       "| GSM886836                     | 143B                          | ATCC                          | bone                          | osteosarcoma                  |                               | 143B_BONE                     |\n",
       "| GSM886837                     | 22Rv1                         | ATCC                          | prostate                      | carcinoma                     |                               | 22RV1_PROSTATE                |\n",
       "\n"
      ],
      "text/plain": [
       "  GSM       title  source primary.site           histology   \n",
       "1 GSM886835 1321N1 ECACC  central_nervous_system glioma      \n",
       "2 GSM886836 143B   ATCC   bone                   osteosarcoma\n",
       "3 GSM886837 22Rv1  ATCC   prostate               carcinoma   \n",
       "  histology.subtype1 CCLE_name                    \n",
       "1 astrocytoma        1321N1_CENTRAL_NERVOUS_SYSTEM\n",
       "2                    143B_BONE                    \n",
       "3                    22RV1_PROSTATE               "
      ]
     },
     "metadata": {},
     "output_type": "display_data"
    }
   ],
   "source": [
    "head(ccle_rnaseq_annotation_data, 3)"
   ]
  },
  {
   "cell_type": "code",
   "execution_count": 60,
   "id": "9bb6d677",
   "metadata": {},
   "outputs": [
    {
     "data": {
      "text/html": [
       "<ol class=list-inline>\n",
       "\t<li>'GSM'</li>\n",
       "\t<li>'title'</li>\n",
       "\t<li>'source'</li>\n",
       "\t<li>'primary.site'</li>\n",
       "\t<li>'histology'</li>\n",
       "\t<li>'histology.subtype1'</li>\n",
       "\t<li>'CCLE_name'</li>\n",
       "</ol>\n"
      ],
      "text/latex": [
       "\\begin{enumerate*}\n",
       "\\item 'GSM'\n",
       "\\item 'title'\n",
       "\\item 'source'\n",
       "\\item 'primary.site'\n",
       "\\item 'histology'\n",
       "\\item 'histology.subtype1'\n",
       "\\item 'CCLE\\_name'\n",
       "\\end{enumerate*}\n"
      ],
      "text/markdown": [
       "1. 'GSM'\n",
       "2. 'title'\n",
       "3. 'source'\n",
       "4. 'primary.site'\n",
       "5. 'histology'\n",
       "6. 'histology.subtype1'\n",
       "7. 'CCLE_name'\n",
       "\n",
       "\n"
      ],
      "text/plain": [
       "[1] \"GSM\"                \"title\"              \"source\"            \n",
       "[4] \"primary.site\"       \"histology\"          \"histology.subtype1\"\n",
       "[7] \"CCLE_name\"         "
      ]
     },
     "metadata": {},
     "output_type": "display_data"
    }
   ],
   "source": [
    "colnames(ccle_rnaseq_annotation_data)"
   ]
  },
  {
   "cell_type": "code",
   "execution_count": 61,
   "id": "37413e13",
   "metadata": {},
   "outputs": [],
   "source": [
    "#..................."
   ]
  },
  {
   "cell_type": "code",
   "execution_count": 64,
   "id": "f6223886",
   "metadata": {},
   "outputs": [],
   "source": [
    "setwd(\"C:/Users/MONSTER/Desktop/TEZ/CCLE/OUTPUT2\")"
   ]
  },
  {
   "cell_type": "code",
   "execution_count": 68,
   "id": "aa7405c5",
   "metadata": {},
   "outputs": [],
   "source": [
    "histologies_data <- read.delim(\"All_Histologies.tsv\")"
   ]
  },
  {
   "cell_type": "code",
   "execution_count": 69,
   "id": "76291964",
   "metadata": {},
   "outputs": [],
   "source": [
    "merge_histology_annotation <- merge(ccle_rnaseq_annotation_data,\n",
    "                                   histologies_data,\n",
    "                                   by.x = \"title\",\n",
    "                                   by.y = \"Cell_Line\")"
   ]
  },
  {
   "cell_type": "code",
   "execution_count": 70,
   "id": "ac2b40b9",
   "metadata": {},
   "outputs": [
    {
     "data": {
      "text/html": [
       "<table>\n",
       "<thead><tr><th scope=col>title</th><th scope=col>GSM</th><th scope=col>source</th><th scope=col>primary.site</th><th scope=col>histology</th><th scope=col>histology.subtype1</th><th scope=col>CCLE_name</th><th scope=col>Histology</th><th scope=col>Drug</th><th scope=col>IC50</th><th scope=col>Activity_Area</th></tr></thead>\n",
       "<tbody>\n",
       "\t<tr><td>1321N1                       </td><td>GSM886835                    </td><td>ECACC                        </td><td>central_nervous_system       </td><td>glioma                       </td><td>astrocytoma                  </td><td>1321N1_CENTRAL_NERVOUS_SYSTEM</td><td>glioma                       </td><td>Nutlin-3                     </td><td>8.000000                     </td><td>0.21360                      </td></tr>\n",
       "\t<tr><td>1321N1                       </td><td>GSM886835                    </td><td>ECACC                        </td><td>central_nervous_system       </td><td>glioma                       </td><td>astrocytoma                  </td><td>1321N1_CENTRAL_NERVOUS_SYSTEM</td><td>glioma                       </td><td>AZD0530                      </td><td>8.000000                     </td><td>1.63640                      </td></tr>\n",
       "\t<tr><td>1321N1                       </td><td>GSM886835                    </td><td>ECACC                        </td><td>central_nervous_system       </td><td>glioma                       </td><td>astrocytoma                  </td><td>1321N1_CENTRAL_NERVOUS_SYSTEM</td><td>glioma                       </td><td>Sorafenib                    </td><td>8.000000                     </td><td>0.26720                      </td></tr>\n",
       "\t<tr><td>1321N1                       </td><td>GSM886835                    </td><td>ECACC                        </td><td>central_nervous_system       </td><td>glioma                       </td><td>astrocytoma                  </td><td>1321N1_CENTRAL_NERVOUS_SYSTEM</td><td>glioma                       </td><td>PD-0325901                   </td><td>8.000000                     </td><td>0.65160                      </td></tr>\n",
       "\t<tr><td>1321N1                       </td><td>GSM886835                    </td><td>ECACC                        </td><td>central_nervous_system       </td><td>glioma                       </td><td>astrocytoma                  </td><td>1321N1_CENTRAL_NERVOUS_SYSTEM</td><td>glioma                       </td><td>ZD-6474                      </td><td>5.601102                     </td><td>1.02380                      </td></tr>\n",
       "\t<tr><td>1321N1                       </td><td>GSM886835                    </td><td>ECACC                        </td><td>central_nervous_system       </td><td>glioma                       </td><td>astrocytoma                  </td><td>1321N1_CENTRAL_NERVOUS_SYSTEM</td><td>glioma                       </td><td>PHA-665752                   </td><td>8.000000                     </td><td>0.08719                      </td></tr>\n",
       "</tbody>\n",
       "</table>\n"
      ],
      "text/latex": [
       "\\begin{tabular}{r|lllllllllll}\n",
       " title & GSM & source & primary.site & histology & histology.subtype1 & CCLE\\_name & Histology & Drug & IC50 & Activity\\_Area\\\\\n",
       "\\hline\n",
       "\t 1321N1                              & GSM886835                           & ECACC                               & central\\_nervous\\_system          & glioma                              & astrocytoma                         & 1321N1\\_CENTRAL\\_NERVOUS\\_SYSTEM & glioma                              & Nutlin-3                            & 8.000000                            & 0.21360                            \\\\\n",
       "\t 1321N1                              & GSM886835                           & ECACC                               & central\\_nervous\\_system          & glioma                              & astrocytoma                         & 1321N1\\_CENTRAL\\_NERVOUS\\_SYSTEM & glioma                              & AZD0530                             & 8.000000                            & 1.63640                            \\\\\n",
       "\t 1321N1                              & GSM886835                           & ECACC                               & central\\_nervous\\_system          & glioma                              & astrocytoma                         & 1321N1\\_CENTRAL\\_NERVOUS\\_SYSTEM & glioma                              & Sorafenib                           & 8.000000                            & 0.26720                            \\\\\n",
       "\t 1321N1                              & GSM886835                           & ECACC                               & central\\_nervous\\_system          & glioma                              & astrocytoma                         & 1321N1\\_CENTRAL\\_NERVOUS\\_SYSTEM & glioma                              & PD-0325901                          & 8.000000                            & 0.65160                            \\\\\n",
       "\t 1321N1                              & GSM886835                           & ECACC                               & central\\_nervous\\_system          & glioma                              & astrocytoma                         & 1321N1\\_CENTRAL\\_NERVOUS\\_SYSTEM & glioma                              & ZD-6474                             & 5.601102                            & 1.02380                            \\\\\n",
       "\t 1321N1                              & GSM886835                           & ECACC                               & central\\_nervous\\_system          & glioma                              & astrocytoma                         & 1321N1\\_CENTRAL\\_NERVOUS\\_SYSTEM & glioma                              & PHA-665752                          & 8.000000                            & 0.08719                            \\\\\n",
       "\\end{tabular}\n"
      ],
      "text/markdown": [
       "\n",
       "| title | GSM | source | primary.site | histology | histology.subtype1 | CCLE_name | Histology | Drug | IC50 | Activity_Area |\n",
       "|---|---|---|---|---|---|---|---|---|---|---|\n",
       "| 1321N1                        | GSM886835                     | ECACC                         | central_nervous_system        | glioma                        | astrocytoma                   | 1321N1_CENTRAL_NERVOUS_SYSTEM | glioma                        | Nutlin-3                      | 8.000000                      | 0.21360                       |\n",
       "| 1321N1                        | GSM886835                     | ECACC                         | central_nervous_system        | glioma                        | astrocytoma                   | 1321N1_CENTRAL_NERVOUS_SYSTEM | glioma                        | AZD0530                       | 8.000000                      | 1.63640                       |\n",
       "| 1321N1                        | GSM886835                     | ECACC                         | central_nervous_system        | glioma                        | astrocytoma                   | 1321N1_CENTRAL_NERVOUS_SYSTEM | glioma                        | Sorafenib                     | 8.000000                      | 0.26720                       |\n",
       "| 1321N1                        | GSM886835                     | ECACC                         | central_nervous_system        | glioma                        | astrocytoma                   | 1321N1_CENTRAL_NERVOUS_SYSTEM | glioma                        | PD-0325901                    | 8.000000                      | 0.65160                       |\n",
       "| 1321N1                        | GSM886835                     | ECACC                         | central_nervous_system        | glioma                        | astrocytoma                   | 1321N1_CENTRAL_NERVOUS_SYSTEM | glioma                        | ZD-6474                       | 5.601102                      | 1.02380                       |\n",
       "| 1321N1                        | GSM886835                     | ECACC                         | central_nervous_system        | glioma                        | astrocytoma                   | 1321N1_CENTRAL_NERVOUS_SYSTEM | glioma                        | PHA-665752                    | 8.000000                      | 0.08719                       |\n",
       "\n"
      ],
      "text/plain": [
       "  title  GSM       source primary.site           histology histology.subtype1\n",
       "1 1321N1 GSM886835 ECACC  central_nervous_system glioma    astrocytoma       \n",
       "2 1321N1 GSM886835 ECACC  central_nervous_system glioma    astrocytoma       \n",
       "3 1321N1 GSM886835 ECACC  central_nervous_system glioma    astrocytoma       \n",
       "4 1321N1 GSM886835 ECACC  central_nervous_system glioma    astrocytoma       \n",
       "5 1321N1 GSM886835 ECACC  central_nervous_system glioma    astrocytoma       \n",
       "6 1321N1 GSM886835 ECACC  central_nervous_system glioma    astrocytoma       \n",
       "  CCLE_name                     Histology Drug       IC50     Activity_Area\n",
       "1 1321N1_CENTRAL_NERVOUS_SYSTEM glioma    Nutlin-3   8.000000 0.21360      \n",
       "2 1321N1_CENTRAL_NERVOUS_SYSTEM glioma    AZD0530    8.000000 1.63640      \n",
       "3 1321N1_CENTRAL_NERVOUS_SYSTEM glioma    Sorafenib  8.000000 0.26720      \n",
       "4 1321N1_CENTRAL_NERVOUS_SYSTEM glioma    PD-0325901 8.000000 0.65160      \n",
       "5 1321N1_CENTRAL_NERVOUS_SYSTEM glioma    ZD-6474    5.601102 1.02380      \n",
       "6 1321N1_CENTRAL_NERVOUS_SYSTEM glioma    PHA-665752 8.000000 0.08719      "
      ]
     },
     "metadata": {},
     "output_type": "display_data"
    }
   ],
   "source": [
    "head(merge_histology_annotation)"
   ]
  },
  {
   "cell_type": "code",
   "execution_count": 71,
   "id": "1bd9719e",
   "metadata": {},
   "outputs": [
    {
     "data": {
      "text/html": [
       "<ol class=list-inline>\n",
       "\t<li>'title'</li>\n",
       "\t<li>'GSM'</li>\n",
       "\t<li>'source'</li>\n",
       "\t<li>'primary.site'</li>\n",
       "\t<li>'histology'</li>\n",
       "\t<li>'histology.subtype1'</li>\n",
       "\t<li>'CCLE_name'</li>\n",
       "\t<li>'Histology'</li>\n",
       "\t<li>'Drug'</li>\n",
       "\t<li>'IC50'</li>\n",
       "\t<li>'Activity_Area'</li>\n",
       "</ol>\n"
      ],
      "text/latex": [
       "\\begin{enumerate*}\n",
       "\\item 'title'\n",
       "\\item 'GSM'\n",
       "\\item 'source'\n",
       "\\item 'primary.site'\n",
       "\\item 'histology'\n",
       "\\item 'histology.subtype1'\n",
       "\\item 'CCLE\\_name'\n",
       "\\item 'Histology'\n",
       "\\item 'Drug'\n",
       "\\item 'IC50'\n",
       "\\item 'Activity\\_Area'\n",
       "\\end{enumerate*}\n"
      ],
      "text/markdown": [
       "1. 'title'\n",
       "2. 'GSM'\n",
       "3. 'source'\n",
       "4. 'primary.site'\n",
       "5. 'histology'\n",
       "6. 'histology.subtype1'\n",
       "7. 'CCLE_name'\n",
       "8. 'Histology'\n",
       "9. 'Drug'\n",
       "10. 'IC50'\n",
       "11. 'Activity_Area'\n",
       "\n",
       "\n"
      ],
      "text/plain": [
       " [1] \"title\"              \"GSM\"                \"source\"            \n",
       " [4] \"primary.site\"       \"histology\"          \"histology.subtype1\"\n",
       " [7] \"CCLE_name\"          \"Histology\"          \"Drug\"              \n",
       "[10] \"IC50\"               \"Activity_Area\"     "
      ]
     },
     "metadata": {},
     "output_type": "display_data"
    }
   ],
   "source": [
    "colnames(merge_histology_annotation)"
   ]
  },
  {
   "cell_type": "code",
   "execution_count": 73,
   "id": "c82884e8",
   "metadata": {},
   "outputs": [],
   "source": [
    "filtered_histology_annotation <- merge_histology_annotation[,c(\"GSM\",\"title\",\"Drug\",\"IC50\",\"Activity_Area\",\"histology\")]"
   ]
  },
  {
   "cell_type": "code",
   "execution_count": 74,
   "id": "6ecd737a",
   "metadata": {},
   "outputs": [],
   "source": [
    "colnames(filtered_histology_annotation) <- c(\"Sample_Name\",\"Cell_Line\",\"Drug\",\"IC50\",\"Activity_Area\",\"Histology\")"
   ]
  },
  {
   "cell_type": "code",
   "execution_count": 75,
   "id": "ad082667",
   "metadata": {},
   "outputs": [
    {
     "data": {
      "text/html": [
       "<table>\n",
       "<thead><tr><th scope=col>Sample_Name</th><th scope=col>Cell_Line</th><th scope=col>Drug</th><th scope=col>IC50</th><th scope=col>Activity_Area</th><th scope=col>Histology</th></tr></thead>\n",
       "<tbody>\n",
       "\t<tr><td>GSM886835 </td><td>1321N1    </td><td>Nutlin-3  </td><td>8.000000  </td><td>0.21360   </td><td>glioma    </td></tr>\n",
       "\t<tr><td>GSM886835 </td><td>1321N1    </td><td>AZD0530   </td><td>8.000000  </td><td>1.63640   </td><td>glioma    </td></tr>\n",
       "\t<tr><td>GSM886835 </td><td>1321N1    </td><td>Sorafenib </td><td>8.000000  </td><td>0.26720   </td><td>glioma    </td></tr>\n",
       "\t<tr><td>GSM886835 </td><td>1321N1    </td><td>PD-0325901</td><td>8.000000  </td><td>0.65160   </td><td>glioma    </td></tr>\n",
       "\t<tr><td>GSM886835 </td><td>1321N1    </td><td>ZD-6474   </td><td>5.601102  </td><td>1.02380   </td><td>glioma    </td></tr>\n",
       "\t<tr><td>GSM886835 </td><td>1321N1    </td><td>PHA-665752</td><td>8.000000  </td><td>0.08719   </td><td>glioma    </td></tr>\n",
       "</tbody>\n",
       "</table>\n"
      ],
      "text/latex": [
       "\\begin{tabular}{r|llllll}\n",
       " Sample\\_Name & Cell\\_Line & Drug & IC50 & Activity\\_Area & Histology\\\\\n",
       "\\hline\n",
       "\t GSM886835  & 1321N1     & Nutlin-3   & 8.000000   & 0.21360    & glioma    \\\\\n",
       "\t GSM886835  & 1321N1     & AZD0530    & 8.000000   & 1.63640    & glioma    \\\\\n",
       "\t GSM886835  & 1321N1     & Sorafenib  & 8.000000   & 0.26720    & glioma    \\\\\n",
       "\t GSM886835  & 1321N1     & PD-0325901 & 8.000000   & 0.65160    & glioma    \\\\\n",
       "\t GSM886835  & 1321N1     & ZD-6474    & 5.601102   & 1.02380    & glioma    \\\\\n",
       "\t GSM886835  & 1321N1     & PHA-665752 & 8.000000   & 0.08719    & glioma    \\\\\n",
       "\\end{tabular}\n"
      ],
      "text/markdown": [
       "\n",
       "| Sample_Name | Cell_Line | Drug | IC50 | Activity_Area | Histology |\n",
       "|---|---|---|---|---|---|\n",
       "| GSM886835  | 1321N1     | Nutlin-3   | 8.000000   | 0.21360    | glioma     |\n",
       "| GSM886835  | 1321N1     | AZD0530    | 8.000000   | 1.63640    | glioma     |\n",
       "| GSM886835  | 1321N1     | Sorafenib  | 8.000000   | 0.26720    | glioma     |\n",
       "| GSM886835  | 1321N1     | PD-0325901 | 8.000000   | 0.65160    | glioma     |\n",
       "| GSM886835  | 1321N1     | ZD-6474    | 5.601102   | 1.02380    | glioma     |\n",
       "| GSM886835  | 1321N1     | PHA-665752 | 8.000000   | 0.08719    | glioma     |\n",
       "\n"
      ],
      "text/plain": [
       "  Sample_Name Cell_Line Drug       IC50     Activity_Area Histology\n",
       "1 GSM886835   1321N1    Nutlin-3   8.000000 0.21360       glioma   \n",
       "2 GSM886835   1321N1    AZD0530    8.000000 1.63640       glioma   \n",
       "3 GSM886835   1321N1    Sorafenib  8.000000 0.26720       glioma   \n",
       "4 GSM886835   1321N1    PD-0325901 8.000000 0.65160       glioma   \n",
       "5 GSM886835   1321N1    ZD-6474    5.601102 1.02380       glioma   \n",
       "6 GSM886835   1321N1    PHA-665752 8.000000 0.08719       glioma   "
      ]
     },
     "metadata": {},
     "output_type": "display_data"
    }
   ],
   "source": [
    "head(filtered_histology_annotation)"
   ]
  },
  {
   "cell_type": "code",
   "execution_count": 80,
   "id": "b0b41d20",
   "metadata": {},
   "outputs": [
    {
     "data": {
      "text/html": [
       "'C:/Users/MONSTER/Desktop/TEZ/CCLE/OUTPUT2'"
      ],
      "text/latex": [
       "'C:/Users/MONSTER/Desktop/TEZ/CCLE/OUTPUT2'"
      ],
      "text/markdown": [
       "'C:/Users/MONSTER/Desktop/TEZ/CCLE/OUTPUT2'"
      ],
      "text/plain": [
       "[1] \"C:/Users/MONSTER/Desktop/TEZ/CCLE/OUTPUT2\""
      ]
     },
     "metadata": {},
     "output_type": "display_data"
    }
   ],
   "source": [
    "getwd()"
   ]
  },
  {
   "cell_type": "code",
   "execution_count": 81,
   "id": "81a55b76",
   "metadata": {},
   "outputs": [
    {
     "name": "stdout",
     "output_type": "stream",
     "text": [
      "\n",
      "Drug1: Boruta is running for Nutlin-3"
     ]
    },
    {
     "name": "stderr",
     "output_type": "stream",
     "text": [
      " 1. run of importance source...\n"
     ]
    },
    {
     "name": "stdout",
     "output_type": "stream",
     "text": [
      "Computing permutation importance.. Progress: 24%. Estimated remaining time: 1 minute, 39 seconds.\n",
      "Computing permutation importance.. Progress: 47%. Estimated remaining time: 1 minute, 8 seconds.\n",
      "Computing permutation importance.. Progress: 71%. Estimated remaining time: 37 seconds.\n",
      "Computing permutation importance.. Progress: 95%. Estimated remaining time: 7 seconds.\n"
     ]
    },
    {
     "name": "stderr",
     "output_type": "stream",
     "text": [
      " 2. run of importance source...\n"
     ]
    },
    {
     "name": "stdout",
     "output_type": "stream",
     "text": [
      "Computing permutation importance.. Progress: 21%. Estimated remaining time: 1 minute, 56 seconds.\n",
      "Computing permutation importance.. Progress: 46%. Estimated remaining time: 1 minute, 13 seconds.\n",
      "Computing permutation importance.. Progress: 70%. Estimated remaining time: 39 seconds.\n",
      "Computing permutation importance.. Progress: 95%. Estimated remaining time: 6 seconds.\n"
     ]
    },
    {
     "name": "stderr",
     "output_type": "stream",
     "text": [
      " 3. run of importance source...\n"
     ]
    },
    {
     "name": "stdout",
     "output_type": "stream",
     "text": [
      "Computing permutation importance.. Progress: 24%. Estimated remaining time: 1 minute, 37 seconds.\n",
      "Computing permutation importance.. Progress: 50%. Estimated remaining time: 1 minute, 2 seconds.\n",
      "Computing permutation importance.. Progress: 75%. Estimated remaining time: 30 seconds.\n"
     ]
    },
    {
     "name": "stderr",
     "output_type": "stream",
     "text": [
      " 4. run of importance source...\n"
     ]
    },
    {
     "name": "stdout",
     "output_type": "stream",
     "text": [
      "Computing permutation importance.. Progress: 24%. Estimated remaining time: 1 minute, 36 seconds.\n",
      "Computing permutation importance.. Progress: 49%. Estimated remaining time: 1 minute, 4 seconds.\n",
      "Computing permutation importance.. Progress: 74%. Estimated remaining time: 33 seconds.\n",
      "Computing permutation importance.. Progress: 99%. Estimated remaining time: 1 seconds.\n"
     ]
    },
    {
     "name": "stderr",
     "output_type": "stream",
     "text": [
      " 5. run of importance source...\n"
     ]
    },
    {
     "name": "stdout",
     "output_type": "stream",
     "text": [
      "Computing permutation importance.. Progress: 24%. Estimated remaining time: 1 minute, 37 seconds.\n",
      "Computing permutation importance.. Progress: 50%. Estimated remaining time: 1 minute, 3 seconds.\n",
      "Computing permutation importance.. Progress: 75%. Estimated remaining time: 30 seconds.\n",
      "Computing permutation importance.. Progress: 100%. Estimated remaining time: 0 seconds.\n"
     ]
    },
    {
     "name": "stderr",
     "output_type": "stream",
     "text": [
      " 6. run of importance source...\n"
     ]
    },
    {
     "name": "stdout",
     "output_type": "stream",
     "text": [
      "Computing permutation importance.. Progress: 25%. Estimated remaining time: 1 minute, 33 seconds.\n",
      "Computing permutation importance.. Progress: 50%. Estimated remaining time: 1 minute, 2 seconds.\n",
      "Computing permutation importance.. Progress: 74%. Estimated remaining time: 32 seconds.\n",
      "Computing permutation importance.. Progress: 99%. Estimated remaining time: 0 seconds.\n"
     ]
    },
    {
     "name": "stderr",
     "output_type": "stream",
     "text": [
      " 7. run of importance source...\n"
     ]
    },
    {
     "name": "stdout",
     "output_type": "stream",
     "text": [
      "Computing permutation importance.. Progress: 24%. Estimated remaining time: 1 minute, 36 seconds.\n",
      "Computing permutation importance.. Progress: 49%. Estimated remaining time: 1 minute, 4 seconds.\n",
      "Computing permutation importance.. Progress: 74%. Estimated remaining time: 33 seconds.\n",
      "Computing permutation importance.. Progress: 98%. Estimated remaining time: 2 seconds.\n"
     ]
    },
    {
     "name": "stderr",
     "output_type": "stream",
     "text": [
      " 8. run of importance source...\n"
     ]
    },
    {
     "name": "stdout",
     "output_type": "stream",
     "text": [
      "Computing permutation importance.. Progress: 24%. Estimated remaining time: 1 minute, 37 seconds.\n",
      "Computing permutation importance.. Progress: 49%. Estimated remaining time: 1 minute, 3 seconds.\n",
      "Computing permutation importance.. Progress: 74%. Estimated remaining time: 32 seconds.\n",
      "Computing permutation importance.. Progress: 100%. Estimated remaining time: 0 seconds.\n"
     ]
    },
    {
     "name": "stderr",
     "output_type": "stream",
     "text": [
      " 9. run of importance source...\n"
     ]
    },
    {
     "name": "stdout",
     "output_type": "stream",
     "text": [
      "Computing permutation importance.. Progress: 24%. Estimated remaining time: 1 minute, 38 seconds.\n",
      "Computing permutation importance.. Progress: 49%. Estimated remaining time: 1 minute, 4 seconds.\n",
      "Computing permutation importance.. Progress: 75%. Estimated remaining time: 31 seconds.\n",
      "Computing permutation importance.. Progress: 100%. Estimated remaining time: 0 seconds.\n"
     ]
    },
    {
     "name": "stderr",
     "output_type": "stream",
     "text": [
      " 10. run of importance source...\n"
     ]
    },
    {
     "name": "stdout",
     "output_type": "stream",
     "text": [
      "Computing permutation importance.. Progress: 24%. Estimated remaining time: 1 minute, 37 seconds.\n",
      "Computing permutation importance.. Progress: 49%. Estimated remaining time: 1 minute, 5 seconds.\n",
      "Computing permutation importance.. Progress: 74%. Estimated remaining time: 33 seconds.\n",
      "Computing permutation importance.. Progress: 98%. Estimated remaining time: 2 seconds.\n"
     ]
    },
    {
     "name": "stderr",
     "output_type": "stream",
     "text": [
      " 11. run of importance source...\n"
     ]
    },
    {
     "name": "stdout",
     "output_type": "stream",
     "text": [
      "Computing permutation importance.. Progress: 24%. Estimated remaining time: 1 minute, 36 seconds.\n",
      "Computing permutation importance.. Progress: 49%. Estimated remaining time: 1 minute, 3 seconds.\n",
      "Computing permutation importance.. Progress: 75%. Estimated remaining time: 31 seconds.\n",
      "Computing permutation importance.. Progress: 100%. Estimated remaining time: 0 seconds.\n"
     ]
    },
    {
     "name": "stderr",
     "output_type": "stream",
     "text": [
      " 12. run of importance source...\n"
     ]
    },
    {
     "name": "stdout",
     "output_type": "stream",
     "text": [
      "Computing permutation importance.. Progress: 24%. Estimated remaining time: 1 minute, 37 seconds.\n",
      "Computing permutation importance.. Progress: 49%. Estimated remaining time: 1 minute, 5 seconds.\n",
      "Computing permutation importance.. Progress: 73%. Estimated remaining time: 35 seconds.\n",
      "Computing permutation importance.. Progress: 98%. Estimated remaining time: 3 seconds.\n"
     ]
    },
    {
     "name": "stderr",
     "output_type": "stream",
     "text": [
      " 13. run of importance source...\n"
     ]
    },
    {
     "name": "stdout",
     "output_type": "stream",
     "text": [
      "Computing permutation importance.. Progress: 24%. Estimated remaining time: 1 minute, 37 seconds.\n",
      "Computing permutation importance.. Progress: 49%. Estimated remaining time: 1 minute, 4 seconds.\n",
      "Computing permutation importance.. Progress: 74%. Estimated remaining time: 31 seconds.\n",
      "Computing permutation importance.. Progress: 99%. Estimated remaining time: 0 seconds.\n"
     ]
    },
    {
     "name": "stderr",
     "output_type": "stream",
     "text": [
      " 14. run of importance source...\n"
     ]
    },
    {
     "name": "stdout",
     "output_type": "stream",
     "text": [
      "Computing permutation importance.. Progress: 23%. Estimated remaining time: 1 minute, 43 seconds.\n",
      "Computing permutation importance.. Progress: 48%. Estimated remaining time: 1 minute, 7 seconds.\n",
      "Computing permutation importance.. Progress: 72%. Estimated remaining time: 35 seconds.\n",
      "Computing permutation importance.. Progress: 98%. Estimated remaining time: 2 seconds.\n"
     ]
    },
    {
     "name": "stderr",
     "output_type": "stream",
     "text": [
      " 15. run of importance source...\n"
     ]
    },
    {
     "name": "stdout",
     "output_type": "stream",
     "text": [
      "Computing permutation importance.. Progress: 24%. Estimated remaining time: 1 minute, 38 seconds.\n",
      "Computing permutation importance.. Progress: 49%. Estimated remaining time: 1 minute, 5 seconds.\n",
      "Computing permutation importance.. Progress: 74%. Estimated remaining time: 32 seconds.\n",
      "Computing permutation importance.. Progress: 99%. Estimated remaining time: 0 seconds.\n"
     ]
    },
    {
     "name": "stderr",
     "output_type": "stream",
     "text": [
      " 16. run of importance source...\n"
     ]
    },
    {
     "name": "stdout",
     "output_type": "stream",
     "text": [
      "Computing permutation importance.. Progress: 24%. Estimated remaining time: 1 minute, 38 seconds.\n",
      "Computing permutation importance.. Progress: 49%. Estimated remaining time: 1 minute, 4 seconds.\n",
      "Computing permutation importance.. Progress: 73%. Estimated remaining time: 35 seconds.\n",
      "Computing permutation importance.. Progress: 94%. Estimated remaining time: 7 seconds.\n"
     ]
    },
    {
     "name": "stderr",
     "output_type": "stream",
     "text": [
      " 17. run of importance source...\n"
     ]
    },
    {
     "name": "stdout",
     "output_type": "stream",
     "text": [
      "Computing permutation importance.. Progress: 30%. Estimated remaining time: 1 minute, 13 seconds.\n",
      "Computing permutation importance.. Progress: 59%. Estimated remaining time: 42 seconds.\n",
      "Computing permutation importance.. Progress: 88%. Estimated remaining time: 12 seconds.\n"
     ]
    },
    {
     "name": "stderr",
     "output_type": "stream",
     "text": [
      " 18. run of importance source...\n"
     ]
    },
    {
     "name": "stdout",
     "output_type": "stream",
     "text": [
      "Computing permutation importance.. Progress: 29%. Estimated remaining time: 1 minute, 16 seconds.\n",
      "Computing permutation importance.. Progress: 59%. Estimated remaining time: 43 seconds.\n",
      "Computing permutation importance.. Progress: 89%. Estimated remaining time: 11 seconds.\n"
     ]
    },
    {
     "name": "stderr",
     "output_type": "stream",
     "text": [
      " 19. run of importance source...\n"
     ]
    },
    {
     "name": "stdout",
     "output_type": "stream",
     "text": [
      "Computing permutation importance.. Progress: 30%. Estimated remaining time: 1 minute, 10 seconds.\n",
      "Computing permutation importance.. Progress: 58%. Estimated remaining time: 44 seconds.\n",
      "Computing permutation importance.. Progress: 87%. Estimated remaining time: 14 seconds.\n"
     ]
    },
    {
     "name": "stderr",
     "output_type": "stream",
     "text": [
      " 20. run of importance source...\n"
     ]
    },
    {
     "name": "stdout",
     "output_type": "stream",
     "text": [
      "Computing permutation importance.. Progress: 29%. Estimated remaining time: 1 minute, 16 seconds.\n",
      "Computing permutation importance.. Progress: 58%. Estimated remaining time: 44 seconds.\n",
      "Computing permutation importance.. Progress: 86%. Estimated remaining time: 14 seconds.\n"
     ]
    },
    {
     "name": "stderr",
     "output_type": "stream",
     "text": [
      " 21. run of importance source...\n"
     ]
    },
    {
     "name": "stdout",
     "output_type": "stream",
     "text": [
      "Computing permutation importance.. Progress: 29%. Estimated remaining time: 1 minute, 14 seconds.\n",
      "Computing permutation importance.. Progress: 61%. Estimated remaining time: 40 seconds.\n",
      "Computing permutation importance.. Progress: 92%. Estimated remaining time: 8 seconds.\n"
     ]
    },
    {
     "name": "stderr",
     "output_type": "stream",
     "text": [
      "After 21 iterations, +45 mins: \n",
      " rejected 20146 attributes: A1BG, A1BG-AS1, A1CF, A2M, A2M-AS1 and 20141 more;\n",
      " still have 28 attributes left.\n",
      "\n",
      " 22. run of importance source...\n",
      " 23. run of importance source...\n",
      " 24. run of importance source...\n",
      " 25. run of importance source...\n",
      " 26. run of importance source...\n",
      "After 26 iterations, +46 mins: \n",
      " rejected 1 attribute: ATRNL1;\n",
      " still have 27 attributes left.\n",
      "\n",
      " 27. run of importance source...\n",
      " 28. run of importance source...\n",
      " 29. run of importance source...\n",
      " 30. run of importance source...\n",
      "After 30 iterations, +46 mins: \n",
      " rejected 3 attributes: B3GALNT1, HMX2, NCOA5;\n",
      " still have 24 attributes left.\n",
      "\n",
      " 31. run of importance source...\n",
      " 32. run of importance source...\n",
      " 33. run of importance source...\n",
      " 34. run of importance source...\n",
      " 35. run of importance source...\n",
      " 36. run of importance source...\n",
      " 37. run of importance source...\n",
      " 38. run of importance source...\n",
      " 39. run of importance source...\n",
      " 40. run of importance source...\n",
      " 41. run of importance source...\n",
      " 42. run of importance source...\n",
      " 43. run of importance source...\n",
      " 44. run of importance source...\n",
      "After 44 iterations, +46 mins: \n",
      " rejected 1 attribute: FBRSL1;\n",
      " still have 23 attributes left.\n",
      "\n",
      " 45. run of importance source...\n",
      " 46. run of importance source...\n",
      " 47. run of importance source...\n",
      " 48. run of importance source...\n",
      " 49. run of importance source...\n",
      " 50. run of importance source...\n",
      " 51. run of importance source...\n",
      " 52. run of importance source...\n",
      " 53. run of importance source...\n",
      " 54. run of importance source...\n",
      " 55. run of importance source...\n",
      " 56. run of importance source...\n",
      " 57. run of importance source...\n",
      " 58. run of importance source...\n",
      " 59. run of importance source...\n",
      " 60. run of importance source...\n",
      " 61. run of importance source...\n",
      " 62. run of importance source...\n",
      " 63. run of importance source...\n",
      " 64. run of importance source...\n",
      " 65. run of importance source...\n",
      " 66. run of importance source...\n",
      " 67. run of importance source...\n",
      " 68. run of importance source...\n",
      " 69. run of importance source...\n",
      " 70. run of importance source...\n",
      " 71. run of importance source...\n",
      " 72. run of importance source...\n",
      " 73. run of importance source...\n",
      " 74. run of importance source...\n",
      " 75. run of importance source...\n",
      " 76. run of importance source...\n",
      " 77. run of importance source...\n",
      "After 77 iterations, +46 mins: \n",
      " confirmed 1 attribute: MEF2D;\n",
      " still have 22 attributes left.\n",
      "\n",
      " 78. run of importance source...\n",
      " 79. run of importance source...\n",
      " 80. run of importance source...\n",
      "After 80 iterations, +46 mins: \n",
      " confirmed 2 attributes: IRAK3, MAPKAPK2;\n",
      " still have 20 attributes left.\n",
      "\n",
      " 81. run of importance source...\n",
      " 82. run of importance source...\n",
      " 83. run of importance source...\n",
      "After 83 iterations, +46 mins: \n",
      " confirmed 1 attribute: ECE1;\n",
      " still have 19 attributes left.\n",
      "\n",
      " 84. run of importance source...\n",
      " 85. run of importance source...\n",
      " 86. run of importance source...\n",
      "After 86 iterations, +46 mins: \n",
      " confirmed 1 attribute: DDHD2;\n",
      " still have 18 attributes left.\n",
      "\n",
      " 87. run of importance source...\n",
      " 88. run of importance source...\n",
      "After 88 iterations, +46 mins: \n",
      " confirmed 5 attributes: AUTS2, CD300A, DAD1, PHC2, SLAMF1;\n",
      " still have 13 attributes left.\n",
      "\n",
      " 89. run of importance source...\n",
      " 90. run of importance source...\n",
      " 91. run of importance source...\n",
      " 92. run of importance source...\n",
      " 93. run of importance source...\n",
      " 94. run of importance source...\n",
      " 95. run of importance source...\n",
      " 96. run of importance source...\n",
      " 97. run of importance source...\n",
      " 98. run of importance source...\n",
      " 99. run of importance source...\n"
     ]
    },
    {
     "name": "stdout",
     "output_type": "stream",
     "text": [
      "\n",
      "Drug2: Boruta is running for AZD0530"
     ]
    },
    {
     "name": "stderr",
     "output_type": "stream",
     "text": [
      " 1. run of importance source...\n"
     ]
    },
    {
     "name": "stdout",
     "output_type": "stream",
     "text": [
      "Computing permutation importance.. Progress: 23%. Estimated remaining time: 1 minute, 41 seconds.\n",
      "Computing permutation importance.. Progress: 44%. Estimated remaining time: 1 minute, 18 seconds.\n",
      "Computing permutation importance.. Progress: 66%. Estimated remaining time: 48 seconds.\n",
      "Computing permutation importance.. Progress: 87%. Estimated remaining time: 18 seconds.\n"
     ]
    },
    {
     "name": "stderr",
     "output_type": "stream",
     "text": [
      " 2. run of importance source...\n"
     ]
    },
    {
     "name": "stdout",
     "output_type": "stream",
     "text": [
      "Computing permutation importance.. Progress: 25%. Estimated remaining time: 1 minute, 31 seconds.\n",
      "Computing permutation importance.. Progress: 51%. Estimated remaining time: 58 seconds.\n",
      "Computing permutation importance.. Progress: 76%. Estimated remaining time: 30 seconds.\n",
      "Computing permutation importance.. Progress: 99%. Estimated remaining time: 0 seconds.\n"
     ]
    },
    {
     "name": "stderr",
     "output_type": "stream",
     "text": [
      " 3. run of importance source...\n"
     ]
    },
    {
     "name": "stdout",
     "output_type": "stream",
     "text": [
      "Computing permutation importance.. Progress: 25%. Estimated remaining time: 1 minute, 34 seconds.\n",
      "Computing permutation importance.. Progress: 48%. Estimated remaining time: 1 minute, 6 seconds.\n",
      "Computing permutation importance.. Progress: 73%. Estimated remaining time: 35 seconds.\n",
      "Computing permutation importance.. Progress: 97%. Estimated remaining time: 4 seconds.\n"
     ]
    },
    {
     "name": "stderr",
     "output_type": "stream",
     "text": [
      " 4. run of importance source...\n"
     ]
    },
    {
     "name": "stdout",
     "output_type": "stream",
     "text": [
      "Computing permutation importance.. Progress: 24%. Estimated remaining time: 1 minute, 40 seconds.\n",
      "Computing permutation importance.. Progress: 48%. Estimated remaining time: 1 minute, 8 seconds.\n",
      "Computing permutation importance.. Progress: 71%. Estimated remaining time: 37 seconds.\n",
      "Computing permutation importance.. Progress: 96%. Estimated remaining time: 5 seconds.\n"
     ]
    },
    {
     "name": "stderr",
     "output_type": "stream",
     "text": [
      " 5. run of importance source...\n"
     ]
    },
    {
     "name": "stdout",
     "output_type": "stream",
     "text": [
      "Computing permutation importance.. Progress: 23%. Estimated remaining time: 1 minute, 42 seconds.\n",
      "Computing permutation importance.. Progress: 48%. Estimated remaining time: 1 minute, 8 seconds.\n",
      "Computing permutation importance.. Progress: 71%. Estimated remaining time: 37 seconds.\n",
      "Computing permutation importance.. Progress: 97%. Estimated remaining time: 4 seconds.\n"
     ]
    },
    {
     "name": "stderr",
     "output_type": "stream",
     "text": [
      " 6. run of importance source...\n"
     ]
    },
    {
     "name": "stdout",
     "output_type": "stream",
     "text": [
      "Computing permutation importance.. Progress: 24%. Estimated remaining time: 1 minute, 37 seconds.\n",
      "Computing permutation importance.. Progress: 47%. Estimated remaining time: 1 minute, 8 seconds.\n",
      "Computing permutation importance.. Progress: 72%. Estimated remaining time: 36 seconds.\n",
      "Computing permutation importance.. Progress: 96%. Estimated remaining time: 5 seconds.\n"
     ]
    },
    {
     "name": "stderr",
     "output_type": "stream",
     "text": [
      " 7. run of importance source...\n"
     ]
    },
    {
     "name": "stdout",
     "output_type": "stream",
     "text": [
      "Computing permutation importance.. Progress: 25%. Estimated remaining time: 1 minute, 33 seconds.\n",
      "Computing permutation importance.. Progress: 47%. Estimated remaining time: 1 minute, 9 seconds.\n",
      "Computing permutation importance.. Progress: 68%. Estimated remaining time: 43 seconds.\n",
      "Computing permutation importance.. Progress: 90%. Estimated remaining time: 14 seconds.\n"
     ]
    },
    {
     "name": "stderr",
     "output_type": "stream",
     "text": [
      " 8. run of importance source...\n"
     ]
    },
    {
     "name": "stdout",
     "output_type": "stream",
     "text": [
      "Computing permutation importance.. Progress: 23%. Estimated remaining time: 1 minute, 46 seconds.\n",
      "Computing permutation importance.. Progress: 46%. Estimated remaining time: 1 minute, 12 seconds.\n",
      "Computing permutation importance.. Progress: 70%. Estimated remaining time: 40 seconds.\n",
      "Computing permutation importance.. Progress: 90%. Estimated remaining time: 13 seconds.\n"
     ]
    },
    {
     "name": "stderr",
     "output_type": "stream",
     "text": [
      " 9. run of importance source...\n"
     ]
    },
    {
     "name": "stdout",
     "output_type": "stream",
     "text": [
      "Computing permutation importance.. Progress: 27%. Estimated remaining time: 1 minute, 25 seconds.\n",
      "Computing permutation importance.. Progress: 49%. Estimated remaining time: 1 minute, 4 seconds.\n",
      "Computing permutation importance.. Progress: 73%. Estimated remaining time: 34 seconds.\n",
      "Computing permutation importance.. Progress: 96%. Estimated remaining time: 4 seconds.\n"
     ]
    },
    {
     "name": "stderr",
     "output_type": "stream",
     "text": [
      " 10. run of importance source...\n"
     ]
    },
    {
     "name": "stdout",
     "output_type": "stream",
     "text": [
      "Computing permutation importance.. Progress: 21%. Estimated remaining time: 1 minute, 59 seconds.\n",
      "Computing permutation importance.. Progress: 42%. Estimated remaining time: 1 minute, 24 seconds.\n",
      "Computing permutation importance.. Progress: 64%. Estimated remaining time: 51 seconds.\n",
      "Computing permutation importance.. Progress: 90%. Estimated remaining time: 13 seconds.\n"
     ]
    },
    {
     "name": "stderr",
     "output_type": "stream",
     "text": [
      " 11. run of importance source...\n"
     ]
    },
    {
     "name": "stdout",
     "output_type": "stream",
     "text": [
      "Computing permutation importance.. Progress: 29%. Estimated remaining time: 1 minute, 17 seconds.\n",
      "Computing permutation importance.. Progress: 56%. Estimated remaining time: 47 seconds.\n",
      "Computing permutation importance.. Progress: 83%. Estimated remaining time: 19 seconds.\n"
     ]
    },
    {
     "name": "stderr",
     "output_type": "stream",
     "text": [
      " 12. run of importance source...\n"
     ]
    },
    {
     "name": "stdout",
     "output_type": "stream",
     "text": [
      "Computing permutation importance.. Progress: 26%. Estimated remaining time: 1 minute, 29 seconds.\n",
      "Computing permutation importance.. Progress: 52%. Estimated remaining time: 56 seconds.\n",
      "Computing permutation importance.. Progress: 77%. Estimated remaining time: 27 seconds.\n"
     ]
    },
    {
     "name": "stderr",
     "output_type": "stream",
     "text": [
      " 13. run of importance source...\n"
     ]
    },
    {
     "name": "stdout",
     "output_type": "stream",
     "text": [
      "Computing permutation importance.. Progress: 26%. Estimated remaining time: 1 minute, 28 seconds.\n",
      "Computing permutation importance.. Progress: 52%. Estimated remaining time: 58 seconds.\n",
      "Computing permutation importance.. Progress: 77%. Estimated remaining time: 27 seconds.\n"
     ]
    },
    {
     "name": "stderr",
     "output_type": "stream",
     "text": [
      " 14. run of importance source...\n"
     ]
    },
    {
     "name": "stdout",
     "output_type": "stream",
     "text": [
      "Computing permutation importance.. Progress: 26%. Estimated remaining time: 1 minute, 28 seconds.\n",
      "Computing permutation importance.. Progress: 51%. Estimated remaining time: 58 seconds.\n",
      "Computing permutation importance.. Progress: 76%. Estimated remaining time: 28 seconds.\n"
     ]
    },
    {
     "name": "stderr",
     "output_type": "stream",
     "text": [
      " 15. run of importance source...\n"
     ]
    },
    {
     "name": "stdout",
     "output_type": "stream",
     "text": [
      "Computing permutation importance.. Progress: 26%. Estimated remaining time: 1 minute, 30 seconds.\n",
      "Computing permutation importance.. Progress: 51%. Estimated remaining time: 1 minute, 0 seconds.\n",
      "Computing permutation importance.. Progress: 76%. Estimated remaining time: 29 seconds.\n"
     ]
    },
    {
     "name": "stderr",
     "output_type": "stream",
     "text": [
      " 16. run of importance source...\n"
     ]
    },
    {
     "name": "stdout",
     "output_type": "stream",
     "text": [
      "Computing permutation importance.. Progress: 26%. Estimated remaining time: 1 minute, 30 seconds.\n",
      "Computing permutation importance.. Progress: 51%. Estimated remaining time: 59 seconds.\n",
      "Computing permutation importance.. Progress: 77%. Estimated remaining time: 27 seconds.\n"
     ]
    },
    {
     "name": "stderr",
     "output_type": "stream",
     "text": [
      " 17. run of importance source...\n"
     ]
    },
    {
     "name": "stdout",
     "output_type": "stream",
     "text": [
      "Computing permutation importance.. Progress: 26%. Estimated remaining time: 1 minute, 28 seconds.\n",
      "Computing permutation importance.. Progress: 52%. Estimated remaining time: 57 seconds.\n",
      "Computing permutation importance.. Progress: 77%. Estimated remaining time: 27 seconds.\n"
     ]
    },
    {
     "name": "stderr",
     "output_type": "stream",
     "text": [
      " 18. run of importance source...\n"
     ]
    },
    {
     "name": "stdout",
     "output_type": "stream",
     "text": [
      "Computing permutation importance.. Progress: 25%. Estimated remaining time: 1 minute, 32 seconds.\n",
      "Computing permutation importance.. Progress: 50%. Estimated remaining time: 1 minute, 3 seconds.\n",
      "Computing permutation importance.. Progress: 75%. Estimated remaining time: 30 seconds.\n"
     ]
    },
    {
     "name": "stderr",
     "output_type": "stream",
     "text": [
      " 19. run of importance source...\n"
     ]
    },
    {
     "name": "stdout",
     "output_type": "stream",
     "text": [
      "Computing permutation importance.. Progress: 25%. Estimated remaining time: 1 minute, 32 seconds.\n",
      "Computing permutation importance.. Progress: 50%. Estimated remaining time: 1 minute, 1 seconds.\n",
      "Computing permutation importance.. Progress: 76%. Estimated remaining time: 29 seconds.\n"
     ]
    },
    {
     "name": "stderr",
     "output_type": "stream",
     "text": [
      " 20. run of importance source...\n"
     ]
    },
    {
     "name": "stdout",
     "output_type": "stream",
     "text": [
      "Computing permutation importance.. Progress: 25%. Estimated remaining time: 1 minute, 32 seconds.\n",
      "Computing permutation importance.. Progress: 51%. Estimated remaining time: 58 seconds.\n",
      "Computing permutation importance.. Progress: 77%. Estimated remaining time: 27 seconds.\n"
     ]
    },
    {
     "name": "stderr",
     "output_type": "stream",
     "text": [
      " 21. run of importance source...\n"
     ]
    },
    {
     "name": "stdout",
     "output_type": "stream",
     "text": [
      "Computing permutation importance.. Progress: 25%. Estimated remaining time: 1 minute, 31 seconds.\n",
      "Computing permutation importance.. Progress: 51%. Estimated remaining time: 1 minute, 0 seconds.\n",
      "Computing permutation importance.. Progress: 76%. Estimated remaining time: 28 seconds.\n"
     ]
    },
    {
     "name": "stderr",
     "output_type": "stream",
     "text": [
      "After 21 iterations, +51 mins: \n",
      " rejected 20120 attributes: A1BG, A1BG-AS1, A1CF, A2M, A2M-AS1 and 20115 more;\n",
      " still have 54 attributes left.\n",
      "\n",
      " 22. run of importance source...\n",
      " 23. run of importance source...\n",
      " 24. run of importance source...\n",
      " 25. run of importance source...\n",
      " 26. run of importance source...\n",
      "After 26 iterations, +51 mins: \n",
      " rejected 6 attributes: CBLC, CFAP126, GZF1, MAL2, PTPN6 and 1 more;\n",
      " still have 48 attributes left.\n",
      "\n",
      " 27. run of importance source...\n",
      " 28. run of importance source...\n",
      " 29. run of importance source...\n",
      " 30. run of importance source...\n",
      "After 30 iterations, +52 mins: \n",
      " rejected 3 attributes: CAMLG, ITGB6, KRT16;\n",
      " still have 45 attributes left.\n",
      "\n",
      " 31. run of importance source...\n",
      " 32. run of importance source...\n",
      " 33. run of importance source...\n",
      " 34. run of importance source...\n",
      " 35. run of importance source...\n",
      " 36. run of importance source...\n",
      " 37. run of importance source...\n",
      " 38. run of importance source...\n",
      " 39. run of importance source...\n",
      " 40. run of importance source...\n",
      " 41. run of importance source...\n",
      "After 41 iterations, +52 mins: \n",
      " rejected 4 attributes: LINC01676, MED14, SYTL1, TMEM95;\n",
      " still have 41 attributes left.\n",
      "\n",
      " 42. run of importance source...\n",
      " 43. run of importance source...\n",
      " 44. run of importance source...\n",
      "After 44 iterations, +52 mins: \n",
      " rejected 2 attributes: ORAI2, RIC8B;\n",
      " still have 39 attributes left.\n",
      "\n",
      " 45. run of importance source...\n",
      " 46. run of importance source...\n",
      " 47. run of importance source...\n",
      " 48. run of importance source...\n",
      " 49. run of importance source...\n",
      " 50. run of importance source...\n",
      " 51. run of importance source...\n",
      " 52. run of importance source...\n",
      " 53. run of importance source...\n",
      " 54. run of importance source...\n",
      " 55. run of importance source...\n",
      " 56. run of importance source...\n",
      " 57. run of importance source...\n",
      "After 57 iterations, +52 mins: \n",
      " rejected 1 attribute: P2RY2;\n",
      " still have 38 attributes left.\n",
      "\n",
      " 58. run of importance source...\n",
      " 59. run of importance source...\n",
      " 60. run of importance source...\n",
      " 61. run of importance source...\n",
      " 62. run of importance source...\n",
      " 63. run of importance source...\n",
      " 64. run of importance source...\n",
      " 65. run of importance source...\n",
      " 66. run of importance source...\n",
      " 67. run of importance source...\n",
      " 68. run of importance source...\n",
      " 69. run of importance source...\n",
      "After 69 iterations, +52 mins: \n",
      " rejected 1 attribute: PMPCB;\n",
      " still have 37 attributes left.\n",
      "\n",
      " 70. run of importance source...\n",
      " 71. run of importance source...\n",
      " 72. run of importance source...\n",
      " 73. run of importance source...\n",
      " 74. run of importance source...\n",
      " 75. run of importance source...\n",
      " 76. run of importance source...\n",
      " 77. run of importance source...\n",
      "After 77 iterations, +52 mins: \n",
      " confirmed 2 attributes: APOL2, DMKN;\n",
      " rejected 2 attributes: NUDT2, PRNP;\n",
      " still have 33 attributes left.\n",
      "\n",
      " 78. run of importance source...\n",
      " 79. run of importance source...\n",
      " 80. run of importance source...\n",
      " 81. run of importance source...\n",
      " 82. run of importance source...\n",
      " 83. run of importance source...\n",
      "After 83 iterations, +52 mins: \n",
      " confirmed 1 attribute: TMEM167B;\n",
      " still have 32 attributes left.\n",
      "\n",
      " 84. run of importance source...\n",
      " 85. run of importance source...\n",
      " 86. run of importance source...\n",
      "After 86 iterations, +52 mins: \n",
      " confirmed 2 attributes: CAPN12, SLC4A1;\n",
      " still have 30 attributes left.\n",
      "\n",
      " 87. run of importance source...\n",
      " 88. run of importance source...\n",
      "After 88 iterations, +52 mins: \n",
      " confirmed 1 attribute: PAX8;\n",
      " still have 29 attributes left.\n",
      "\n",
      " 89. run of importance source...\n",
      " 90. run of importance source...\n",
      " 91. run of importance source...\n",
      "After 91 iterations, +52 mins: \n",
      " confirmed 1 attribute: ZNF451;\n",
      " still have 28 attributes left.\n",
      "\n",
      " 92. run of importance source...\n",
      " 93. run of importance source...\n",
      " 94. run of importance source...\n",
      "After 94 iterations, +52 mins: \n",
      " confirmed 3 attributes: CARD6, RBFOX2, SRF;\n",
      " still have 25 attributes left.\n",
      "\n",
      " 95. run of importance source...\n",
      " 96. run of importance source...\n",
      "After 96 iterations, +52 mins: \n",
      " confirmed 1 attribute: ACE2;\n",
      " still have 24 attributes left.\n",
      "\n",
      " 97. run of importance source...\n",
      " 98. run of importance source...\n",
      " 99. run of importance source...\n"
     ]
    },
    {
     "name": "stdout",
     "output_type": "stream",
     "text": [
      "\n",
      "Drug3: Boruta is running for Sorafenib"
     ]
    },
    {
     "name": "stderr",
     "output_type": "stream",
     "text": [
      " 1. run of importance source...\n"
     ]
    },
    {
     "name": "stdout",
     "output_type": "stream",
     "text": [
      "Computing permutation importance.. Progress: 17%. Estimated remaining time: 2 minutes, 31 seconds.\n",
      "Computing permutation importance.. Progress: 31%. Estimated remaining time: 2 minutes, 18 seconds.\n",
      "Computing permutation importance.. Progress: 45%. Estimated remaining time: 1 minute, 54 seconds.\n",
      "Computing permutation importance.. Progress: 59%. Estimated remaining time: 1 minute, 28 seconds.\n",
      "Computing permutation importance.. Progress: 72%. Estimated remaining time: 1 minute, 0 seconds.\n",
      "Computing permutation importance.. Progress: 87%. Estimated remaining time: 29 seconds.\n",
      "Computing permutation importance.. Progress: 100%. Estimated remaining time: 0 seconds.\n"
     ]
    },
    {
     "name": "stderr",
     "output_type": "stream",
     "text": [
      " 2. run of importance source...\n"
     ]
    },
    {
     "name": "stdout",
     "output_type": "stream",
     "text": [
      "Computing permutation importance.. Progress: 13%. Estimated remaining time: 3 minutes, 27 seconds.\n",
      "Computing permutation importance.. Progress: 27%. Estimated remaining time: 2 minutes, 49 seconds.\n",
      "Computing permutation importance.. Progress: 41%. Estimated remaining time: 2 minutes, 14 seconds.\n",
      "Computing permutation importance.. Progress: 55%. Estimated remaining time: 1 minute, 40 seconds.\n",
      "Computing permutation importance.. Progress: 69%. Estimated remaining time: 1 minute, 9 seconds.\n",
      "Computing permutation importance.. Progress: 83%. Estimated remaining time: 37 seconds.\n",
      "Computing permutation importance.. Progress: 97%. Estimated remaining time: 5 seconds.\n"
     ]
    },
    {
     "name": "stderr",
     "output_type": "stream",
     "text": [
      " 3. run of importance source...\n"
     ]
    },
    {
     "name": "stdout",
     "output_type": "stream",
     "text": [
      "Computing permutation importance.. Progress: 13%. Estimated remaining time: 3 minutes, 23 seconds.\n",
      "Computing permutation importance.. Progress: 27%. Estimated remaining time: 2 minutes, 44 seconds.\n",
      "Computing permutation importance.. Progress: 41%. Estimated remaining time: 2 minutes, 13 seconds.\n",
      "Computing permutation importance.. Progress: 55%. Estimated remaining time: 1 minute, 42 seconds.\n",
      "Computing permutation importance.. Progress: 69%. Estimated remaining time: 1 minute, 10 seconds.\n",
      "Computing permutation importance.. Progress: 82%. Estimated remaining time: 39 seconds.\n",
      "Computing permutation importance.. Progress: 96%. Estimated remaining time: 9 seconds.\n"
     ]
    },
    {
     "name": "stderr",
     "output_type": "stream",
     "text": [
      " 4. run of importance source...\n"
     ]
    },
    {
     "name": "stdout",
     "output_type": "stream",
     "text": [
      "Computing permutation importance.. Progress: 13%. Estimated remaining time: 3 minutes, 27 seconds.\n",
      "Computing permutation importance.. Progress: 27%. Estimated remaining time: 2 minutes, 47 seconds.\n",
      "Computing permutation importance.. Progress: 40%. Estimated remaining time: 2 minutes, 17 seconds.\n",
      "Computing permutation importance.. Progress: 55%. Estimated remaining time: 1 minute, 43 seconds.\n",
      "Computing permutation importance.. Progress: 68%. Estimated remaining time: 1 minute, 14 seconds.\n",
      "Computing permutation importance.. Progress: 81%. Estimated remaining time: 43 seconds.\n",
      "Computing permutation importance.. Progress: 95%. Estimated remaining time: 12 seconds.\n"
     ]
    },
    {
     "name": "stderr",
     "output_type": "stream",
     "text": [
      " 5. run of importance source...\n"
     ]
    },
    {
     "name": "stdout",
     "output_type": "stream",
     "text": [
      "Computing permutation importance.. Progress: 14%. Estimated remaining time: 3 minutes, 16 seconds.\n",
      "Computing permutation importance.. Progress: 28%. Estimated remaining time: 2 minutes, 41 seconds.\n",
      "Computing permutation importance.. Progress: 41%. Estimated remaining time: 2 minutes, 12 seconds.\n",
      "Computing permutation importance.. Progress: 55%. Estimated remaining time: 1 minute, 43 seconds.\n",
      "Computing permutation importance.. Progress: 69%. Estimated remaining time: 1 minute, 11 seconds.\n",
      "Computing permutation importance.. Progress: 83%. Estimated remaining time: 38 seconds.\n",
      "Computing permutation importance.. Progress: 97%. Estimated remaining time: 6 seconds.\n"
     ]
    },
    {
     "name": "stderr",
     "output_type": "stream",
     "text": [
      " 6. run of importance source...\n"
     ]
    },
    {
     "name": "stdout",
     "output_type": "stream",
     "text": [
      "Computing permutation importance.. Progress: 13%. Estimated remaining time: 3 minutes, 20 seconds.\n",
      "Computing permutation importance.. Progress: 27%. Estimated remaining time: 2 minutes, 44 seconds.\n",
      "Computing permutation importance.. Progress: 41%. Estimated remaining time: 2 minutes, 11 seconds.\n",
      "Computing permutation importance.. Progress: 55%. Estimated remaining time: 1 minute, 41 seconds.\n",
      "Computing permutation importance.. Progress: 69%. Estimated remaining time: 1 minute, 8 seconds.\n",
      "Computing permutation importance.. Progress: 84%. Estimated remaining time: 35 seconds.\n",
      "Computing permutation importance.. Progress: 98%. Estimated remaining time: 3 seconds.\n"
     ]
    },
    {
     "name": "stderr",
     "output_type": "stream",
     "text": [
      " 7. run of importance source...\n"
     ]
    },
    {
     "name": "stdout",
     "output_type": "stream",
     "text": [
      "Computing permutation importance.. Progress: 13%. Estimated remaining time: 3 minutes, 23 seconds.\n",
      "Computing permutation importance.. Progress: 28%. Estimated remaining time: 2 minutes, 42 seconds.\n",
      "Computing permutation importance.. Progress: 42%. Estimated remaining time: 2 minutes, 11 seconds.\n",
      "Computing permutation importance.. Progress: 56%. Estimated remaining time: 1 minute, 37 seconds.\n",
      "Computing permutation importance.. Progress: 70%. Estimated remaining time: 1 minute, 6 seconds.\n",
      "Computing permutation importance.. Progress: 85%. Estimated remaining time: 34 seconds.\n",
      "Computing permutation importance.. Progress: 99%. Estimated remaining time: 2 seconds.\n"
     ]
    },
    {
     "name": "stderr",
     "output_type": "stream",
     "text": [
      " 8. run of importance source...\n"
     ]
    },
    {
     "name": "stdout",
     "output_type": "stream",
     "text": [
      "Computing permutation importance.. Progress: 13%. Estimated remaining time: 3 minutes, 20 seconds.\n",
      "Computing permutation importance.. Progress: 28%. Estimated remaining time: 2 minutes, 37 seconds.\n",
      "Computing permutation importance.. Progress: 42%. Estimated remaining time: 2 minutes, 8 seconds.\n",
      "Computing permutation importance.. Progress: 57%. Estimated remaining time: 1 minute, 34 seconds.\n",
      "Computing permutation importance.. Progress: 70%. Estimated remaining time: 1 minute, 5 seconds.\n",
      "Computing permutation importance.. Progress: 85%. Estimated remaining time: 33 seconds.\n",
      "Computing permutation importance.. Progress: 99%. Estimated remaining time: 1 seconds.\n"
     ]
    },
    {
     "name": "stderr",
     "output_type": "stream",
     "text": [
      " 9. run of importance source...\n"
     ]
    },
    {
     "name": "stdout",
     "output_type": "stream",
     "text": [
      "Computing permutation importance.. Progress: 13%. Estimated remaining time: 3 minutes, 20 seconds.\n",
      "Computing permutation importance.. Progress: 28%. Estimated remaining time: 2 minutes, 36 seconds.\n",
      "Computing permutation importance.. Progress: 43%. Estimated remaining time: 2 minutes, 6 seconds.\n",
      "Computing permutation importance.. Progress: 57%. Estimated remaining time: 1 minute, 34 seconds.\n",
      "Computing permutation importance.. Progress: 71%. Estimated remaining time: 1 minute, 2 seconds.\n",
      "Computing permutation importance.. Progress: 85%. Estimated remaining time: 33 seconds.\n",
      "Computing permutation importance.. Progress: 100%. Estimated remaining time: 0 seconds.\n"
     ]
    },
    {
     "name": "stderr",
     "output_type": "stream",
     "text": [
      " 10. run of importance source...\n"
     ]
    },
    {
     "name": "stdout",
     "output_type": "stream",
     "text": [
      "Computing permutation importance.. Progress: 14%. Estimated remaining time: 3 minutes, 13 seconds.\n",
      "Computing permutation importance.. Progress: 28%. Estimated remaining time: 2 minutes, 41 seconds.\n",
      "Computing permutation importance.. Progress: 42%. Estimated remaining time: 2 minutes, 9 seconds.\n",
      "Computing permutation importance.. Progress: 56%. Estimated remaining time: 1 minute, 36 seconds.\n",
      "Computing permutation importance.. Progress: 71%. Estimated remaining time: 1 minute, 5 seconds.\n",
      "Computing permutation importance.. Progress: 85%. Estimated remaining time: 33 seconds.\n",
      "Computing permutation importance.. Progress: 99%. Estimated remaining time: 3 seconds.\n"
     ]
    },
    {
     "name": "stderr",
     "output_type": "stream",
     "text": [
      " 11. run of importance source...\n"
     ]
    },
    {
     "name": "stdout",
     "output_type": "stream",
     "text": [
      "Computing permutation importance.. Progress: 14%. Estimated remaining time: 3 minutes, 23 seconds.\n",
      "Computing permutation importance.. Progress: 28%. Estimated remaining time: 2 minutes, 41 seconds.\n",
      "Computing permutation importance.. Progress: 42%. Estimated remaining time: 2 minutes, 9 seconds.\n",
      "Computing permutation importance.. Progress: 56%. Estimated remaining time: 1 minute, 37 seconds.\n",
      "Computing permutation importance.. Progress: 71%. Estimated remaining time: 1 minute, 4 seconds.\n",
      "Computing permutation importance.. Progress: 84%. Estimated remaining time: 34 seconds.\n",
      "Computing permutation importance.. Progress: 99%. Estimated remaining time: 1 seconds.\n"
     ]
    },
    {
     "name": "stderr",
     "output_type": "stream",
     "text": [
      " 12. run of importance source...\n"
     ]
    },
    {
     "name": "stdout",
     "output_type": "stream",
     "text": [
      "Computing permutation importance.. Progress: 14%. Estimated remaining time: 3 minutes, 16 seconds.\n",
      "Computing permutation importance.. Progress: 28%. Estimated remaining time: 2 minutes, 37 seconds.\n",
      "Computing permutation importance.. Progress: 42%. Estimated remaining time: 2 minutes, 8 seconds.\n",
      "Computing permutation importance.. Progress: 56%. Estimated remaining time: 1 minute, 39 seconds.\n",
      "Computing permutation importance.. Progress: 70%. Estimated remaining time: 1 minute, 7 seconds.\n",
      "Computing permutation importance.. Progress: 84%. Estimated remaining time: 36 seconds.\n",
      "Computing permutation importance.. Progress: 98%. Estimated remaining time: 4 seconds.\n"
     ]
    },
    {
     "name": "stderr",
     "output_type": "stream",
     "text": [
      " 13. run of importance source...\n"
     ]
    },
    {
     "name": "stdout",
     "output_type": "stream",
     "text": [
      "Computing permutation importance.. Progress: 13%. Estimated remaining time: 3 minutes, 20 seconds.\n",
      "Computing permutation importance.. Progress: 27%. Estimated remaining time: 2 minutes, 44 seconds.\n",
      "Computing permutation importance.. Progress: 42%. Estimated remaining time: 2 minutes, 10 seconds.\n",
      "Computing permutation importance.. Progress: 56%. Estimated remaining time: 1 minute, 36 seconds.\n",
      "Computing permutation importance.. Progress: 71%. Estimated remaining time: 1 minute, 4 seconds.\n",
      "Computing permutation importance.. Progress: 85%. Estimated remaining time: 33 seconds.\n",
      "Computing permutation importance.. Progress: 99%. Estimated remaining time: 2 seconds.\n"
     ]
    },
    {
     "name": "stderr",
     "output_type": "stream",
     "text": [
      " 14. run of importance source...\n"
     ]
    },
    {
     "name": "stdout",
     "output_type": "stream",
     "text": [
      "Computing permutation importance.. Progress: 13%. Estimated remaining time: 3 minutes, 20 seconds.\n",
      "Computing permutation importance.. Progress: 27%. Estimated remaining time: 2 minutes, 44 seconds.\n",
      "Computing permutation importance.. Progress: 40%. Estimated remaining time: 2 minutes, 22 seconds.\n",
      "Computing permutation importance.. Progress: 54%. Estimated remaining time: 1 minute, 46 seconds.\n",
      "Computing permutation importance.. Progress: 67%. Estimated remaining time: 1 minute, 15 seconds.\n",
      "Computing permutation importance.. Progress: 82%. Estimated remaining time: 42 seconds.\n",
      "Computing permutation importance.. Progress: 96%. Estimated remaining time: 10 seconds.\n"
     ]
    },
    {
     "name": "stderr",
     "output_type": "stream",
     "text": [
      " 15. run of importance source...\n"
     ]
    },
    {
     "name": "stdout",
     "output_type": "stream",
     "text": [
      "Computing permutation importance.. Progress: 13%. Estimated remaining time: 3 minutes, 20 seconds.\n",
      "Computing permutation importance.. Progress: 27%. Estimated remaining time: 2 minutes, 44 seconds.\n",
      "Computing permutation importance.. Progress: 41%. Estimated remaining time: 2 minutes, 12 seconds.\n",
      "Computing permutation importance.. Progress: 55%. Estimated remaining time: 1 minute, 42 seconds.\n",
      "Computing permutation importance.. Progress: 69%. Estimated remaining time: 1 minute, 10 seconds.\n",
      "Computing permutation importance.. Progress: 83%. Estimated remaining time: 39 seconds.\n",
      "Computing permutation importance.. Progress: 97%. Estimated remaining time: 7 seconds.\n"
     ]
    },
    {
     "name": "stderr",
     "output_type": "stream",
     "text": [
      " 16. run of importance source...\n"
     ]
    },
    {
     "name": "stdout",
     "output_type": "stream",
     "text": [
      "Computing permutation importance.. Progress: 14%. Estimated remaining time: 3 minutes, 13 seconds.\n",
      "Computing permutation importance.. Progress: 28%. Estimated remaining time: 2 minutes, 41 seconds.\n",
      "Computing permutation importance.. Progress: 43%. Estimated remaining time: 2 minutes, 4 seconds.\n",
      "Computing permutation importance.. Progress: 57%. Estimated remaining time: 1 minute, 34 seconds.\n",
      "Computing permutation importance.. Progress: 71%. Estimated remaining time: 1 minute, 3 seconds.\n",
      "Computing permutation importance.. Progress: 85%. Estimated remaining time: 32 seconds.\n",
      "Computing permutation importance.. Progress: 99%. Estimated remaining time: 1 seconds.\n"
     ]
    },
    {
     "name": "stderr",
     "output_type": "stream",
     "text": [
      " 17. run of importance source...\n"
     ]
    },
    {
     "name": "stdout",
     "output_type": "stream",
     "text": [
      "Computing permutation importance.. Progress: 13%. Estimated remaining time: 3 minutes, 27 seconds.\n",
      "Computing permutation importance.. Progress: 30%. Estimated remaining time: 2 minutes, 26 seconds.\n",
      "Computing permutation importance.. Progress: 47%. Estimated remaining time: 1 minute, 44 seconds.\n",
      "Computing permutation importance.. Progress: 64%. Estimated remaining time: 1 minute, 8 seconds.\n",
      "Computing permutation importance.. Progress: 81%. Estimated remaining time: 35 seconds.\n",
      "Computing permutation importance.. Progress: 99%. Estimated remaining time: 1 seconds.\n"
     ]
    },
    {
     "name": "stderr",
     "output_type": "stream",
     "text": [
      " 18. run of importance source...\n"
     ]
    },
    {
     "name": "stdout",
     "output_type": "stream",
     "text": [
      "Computing permutation importance.. Progress: 17%. Estimated remaining time: 2 minutes, 31 seconds.\n",
      "Computing permutation importance.. Progress: 35%. Estimated remaining time: 1 minute, 57 seconds.\n",
      "Computing permutation importance.. Progress: 51%. Estimated remaining time: 1 minute, 28 seconds.\n",
      "Computing permutation importance.. Progress: 69%. Estimated remaining time: 57 seconds.\n",
      "Computing permutation importance.. Progress: 86%. Estimated remaining time: 25 seconds.\n"
     ]
    },
    {
     "name": "stderr",
     "output_type": "stream",
     "text": [
      " 19. run of importance source...\n"
     ]
    },
    {
     "name": "stdout",
     "output_type": "stream",
     "text": [
      "Computing permutation importance.. Progress: 17%. Estimated remaining time: 2 minutes, 27 seconds.\n",
      "Computing permutation importance.. Progress: 35%. Estimated remaining time: 1 minute, 56 seconds.\n",
      "Computing permutation importance.. Progress: 53%. Estimated remaining time: 1 minute, 24 seconds.\n",
      "Computing permutation importance.. Progress: 70%. Estimated remaining time: 53 seconds.\n",
      "Computing permutation importance.. Progress: 88%. Estimated remaining time: 21 seconds.\n"
     ]
    },
    {
     "name": "stderr",
     "output_type": "stream",
     "text": [
      " 20. run of importance source...\n"
     ]
    },
    {
     "name": "stdout",
     "output_type": "stream",
     "text": [
      "Computing permutation importance.. Progress: 17%. Estimated remaining time: 2 minutes, 29 seconds.\n",
      "Computing permutation importance.. Progress: 35%. Estimated remaining time: 1 minute, 57 seconds.\n",
      "Computing permutation importance.. Progress: 52%. Estimated remaining time: 1 minute, 26 seconds.\n",
      "Computing permutation importance.. Progress: 69%. Estimated remaining time: 56 seconds.\n",
      "Computing permutation importance.. Progress: 87%. Estimated remaining time: 23 seconds.\n"
     ]
    },
    {
     "name": "stderr",
     "output_type": "stream",
     "text": [
      " 21. run of importance source...\n"
     ]
    },
    {
     "name": "stdout",
     "output_type": "stream",
     "text": [
      "Computing permutation importance.. Progress: 17%. Estimated remaining time: 2 minutes, 33 seconds.\n",
      "Computing permutation importance.. Progress: 35%. Estimated remaining time: 1 minute, 59 seconds.\n",
      "Computing permutation importance.. Progress: 51%. Estimated remaining time: 1 minute, 28 seconds.\n",
      "Computing permutation importance.. Progress: 69%. Estimated remaining time: 56 seconds.\n",
      "Computing permutation importance.. Progress: 87%. Estimated remaining time: 24 seconds.\n"
     ]
    },
    {
     "name": "stderr",
     "output_type": "stream",
     "text": [
      "After 21 iterations, +1.3 hours: \n",
      " rejected 20118 attributes: A1BG, A1BG-AS1, A1CF, A2M, A2M-AS1 and 20113 more;\n",
      " still have 56 attributes left.\n",
      "\n",
      " 22. run of importance source...\n",
      " 23. run of importance source...\n",
      " 24. run of importance source...\n",
      " 25. run of importance source...\n",
      " 26. run of importance source...\n",
      "After 26 iterations, +1.3 hours: \n",
      " rejected 3 attributes: H1-3, PAN2, SURF4;\n",
      " still have 53 attributes left.\n",
      "\n",
      " 27. run of importance source...\n",
      " 28. run of importance source...\n",
      " 29. run of importance source...\n",
      " 30. run of importance source...\n",
      " 31. run of importance source...\n",
      " 32. run of importance source...\n",
      " 33. run of importance source...\n",
      " 34. run of importance source...\n",
      " 35. run of importance source...\n",
      " 36. run of importance source...\n",
      " 37. run of importance source...\n",
      " 38. run of importance source...\n",
      " 39. run of importance source...\n",
      " 40. run of importance source...\n",
      " 41. run of importance source...\n",
      " 42. run of importance source...\n",
      " 43. run of importance source...\n",
      " 44. run of importance source...\n",
      " 45. run of importance source...\n",
      " 46. run of importance source...\n",
      " 47. run of importance source...\n",
      " 48. run of importance source...\n",
      "After 48 iterations, +1.3 hours: \n",
      " rejected 1 attribute: HACE1;\n",
      " still have 52 attributes left.\n",
      "\n",
      " 49. run of importance source...\n",
      " 50. run of importance source...\n",
      " 51. run of importance source...\n",
      " 52. run of importance source...\n",
      " 53. run of importance source...\n",
      " 54. run of importance source...\n",
      " 55. run of importance source...\n",
      " 56. run of importance source...\n",
      " 57. run of importance source...\n",
      " 58. run of importance source...\n",
      " 59. run of importance source...\n",
      " 60. run of importance source...\n",
      " 61. run of importance source...\n",
      " 62. run of importance source...\n",
      " 63. run of importance source...\n",
      " 64. run of importance source...\n",
      " 65. run of importance source...\n",
      " 66. run of importance source...\n",
      " 67. run of importance source...\n",
      " 68. run of importance source...\n",
      " 69. run of importance source...\n",
      "After 69 iterations, +1.3 hours: \n",
      " confirmed 1 attribute: GTF2E1;\n",
      " still have 51 attributes left.\n",
      "\n",
      " 70. run of importance source...\n",
      " 71. run of importance source...\n",
      " 72. run of importance source...\n",
      " 73. run of importance source...\n",
      " 74. run of importance source...\n",
      "After 74 iterations, +1.3 hours: \n",
      " confirmed 2 attributes: CDK2AP1, CNOT6L;\n",
      " still have 49 attributes left.\n",
      "\n",
      " 75. run of importance source...\n",
      " 76. run of importance source...\n",
      " 77. run of importance source...\n",
      "After 77 iterations, +1.3 hours: \n",
      " confirmed 2 attributes: LINC00921, ZNF548;\n",
      " still have 47 attributes left.\n",
      "\n",
      " 78. run of importance source...\n",
      " 79. run of importance source...\n",
      " 80. run of importance source...\n",
      "After 80 iterations, +1.3 hours: \n",
      " confirmed 3 attributes: ARHGEF28, CORO7, WDR12;\n",
      " rejected 1 attribute: TMEM147-AS1;\n",
      " still have 43 attributes left.\n",
      "\n",
      " 81. run of importance source...\n",
      " 82. run of importance source...\n",
      " 83. run of importance source...\n",
      "After 83 iterations, +1.3 hours: \n",
      " confirmed 5 attributes: ABHD11, SEC63, SELPLG, SMCP, ZNF496;\n",
      " still have 38 attributes left.\n",
      "\n",
      " 84. run of importance source...\n",
      " 85. run of importance source...\n",
      " 86. run of importance source...\n",
      "After 86 iterations, +1.3 hours: \n",
      " confirmed 10 attributes: ATF6, CCNI, CNOT7, ELANE, GCNT4 and 5 more;\n",
      " still have 28 attributes left.\n",
      "\n",
      " 87. run of importance source...\n",
      " 88. run of importance source...\n",
      "After 88 iterations, +1.3 hours: \n",
      " confirmed 1 attribute: AGO4;\n",
      " still have 27 attributes left.\n",
      "\n",
      " 89. run of importance source...\n",
      " 90. run of importance source...\n",
      " 91. run of importance source...\n",
      "After 91 iterations, +1.3 hours: \n",
      " confirmed 1 attribute: CSF3R;\n",
      " still have 26 attributes left.\n",
      "\n",
      " 92. run of importance source...\n",
      " 93. run of importance source...\n",
      " 94. run of importance source...\n",
      "After 94 iterations, +1.3 hours: \n",
      " rejected 1 attribute: CCL4;\n",
      " still have 25 attributes left.\n",
      "\n",
      " 95. run of importance source...\n",
      " 96. run of importance source...\n",
      "After 96 iterations, +1.3 hours: \n",
      " confirmed 1 attribute: N4BP2L1;\n",
      " still have 24 attributes left.\n",
      "\n",
      " 97. run of importance source...\n",
      " 98. run of importance source...\n",
      " 99. run of importance source...\n",
      "After 99 iterations, +1.3 hours: \n",
      " confirmed 1 attribute: BTG2;\n",
      " still have 23 attributes left.\n",
      "\n"
     ]
    },
    {
     "name": "stdout",
     "output_type": "stream",
     "text": [
      "\n",
      "Drug4: Boruta is running for PD-0325901"
     ]
    },
    {
     "name": "stderr",
     "output_type": "stream",
     "text": [
      " 1. run of importance source...\n"
     ]
    },
    {
     "name": "stdout",
     "output_type": "stream",
     "text": [
      "Computing permutation importance.. Progress: 35%. Estimated remaining time: 57 seconds.\n",
      "Computing permutation importance.. Progress: 68%. Estimated remaining time: 29 seconds.\n",
      "Computing permutation importance.. Progress: 100%. Estimated remaining time: 0 seconds.\n"
     ]
    },
    {
     "name": "stderr",
     "output_type": "stream",
     "text": [
      " 2. run of importance source...\n"
     ]
    },
    {
     "name": "stdout",
     "output_type": "stream",
     "text": [
      "Computing permutation importance.. Progress: 33%. Estimated remaining time: 1 minute, 2 seconds.\n",
      "Computing permutation importance.. Progress: 65%. Estimated remaining time: 33 seconds.\n",
      "Computing permutation importance.. Progress: 96%. Estimated remaining time: 3 seconds.\n"
     ]
    },
    {
     "name": "stderr",
     "output_type": "stream",
     "text": [
      " 3. run of importance source...\n"
     ]
    },
    {
     "name": "stdout",
     "output_type": "stream",
     "text": [
      "Computing permutation importance.. Progress: 32%. Estimated remaining time: 1 minute, 5 seconds.\n",
      "Computing permutation importance.. Progress: 65%. Estimated remaining time: 33 seconds.\n",
      "Computing permutation importance.. Progress: 98%. Estimated remaining time: 2 seconds.\n"
     ]
    },
    {
     "name": "stderr",
     "output_type": "stream",
     "text": [
      " 4. run of importance source...\n"
     ]
    },
    {
     "name": "stdout",
     "output_type": "stream",
     "text": [
      "Computing permutation importance.. Progress: 32%. Estimated remaining time: 1 minute, 5 seconds.\n",
      "Computing permutation importance.. Progress: 65%. Estimated remaining time: 33 seconds.\n",
      "Computing permutation importance.. Progress: 97%. Estimated remaining time: 2 seconds.\n"
     ]
    },
    {
     "name": "stderr",
     "output_type": "stream",
     "text": [
      " 5. run of importance source...\n"
     ]
    },
    {
     "name": "stdout",
     "output_type": "stream",
     "text": [
      "Computing permutation importance.. Progress: 33%. Estimated remaining time: 1 minute, 3 seconds.\n",
      "Computing permutation importance.. Progress: 65%. Estimated remaining time: 33 seconds.\n",
      "Computing permutation importance.. Progress: 97%. Estimated remaining time: 2 seconds.\n"
     ]
    },
    {
     "name": "stderr",
     "output_type": "stream",
     "text": [
      " 6. run of importance source...\n"
     ]
    },
    {
     "name": "stdout",
     "output_type": "stream",
     "text": [
      "Computing permutation importance.. Progress: 32%. Estimated remaining time: 1 minute, 5 seconds.\n",
      "Computing permutation importance.. Progress: 64%. Estimated remaining time: 34 seconds.\n",
      "Computing permutation importance.. Progress: 97%. Estimated remaining time: 2 seconds.\n"
     ]
    },
    {
     "name": "stderr",
     "output_type": "stream",
     "text": [
      " 7. run of importance source...\n"
     ]
    },
    {
     "name": "stdout",
     "output_type": "stream",
     "text": [
      "Computing permutation importance.. Progress: 32%. Estimated remaining time: 1 minute, 4 seconds.\n",
      "Computing permutation importance.. Progress: 65%. Estimated remaining time: 33 seconds.\n",
      "Computing permutation importance.. Progress: 97%. Estimated remaining time: 2 seconds.\n"
     ]
    },
    {
     "name": "stderr",
     "output_type": "stream",
     "text": [
      " 8. run of importance source...\n"
     ]
    },
    {
     "name": "stdout",
     "output_type": "stream",
     "text": [
      "Computing permutation importance.. Progress: 33%. Estimated remaining time: 1 minute, 4 seconds.\n",
      "Computing permutation importance.. Progress: 65%. Estimated remaining time: 33 seconds.\n",
      "Computing permutation importance.. Progress: 97%. Estimated remaining time: 2 seconds.\n"
     ]
    },
    {
     "name": "stderr",
     "output_type": "stream",
     "text": [
      " 9. run of importance source...\n"
     ]
    },
    {
     "name": "stdout",
     "output_type": "stream",
     "text": [
      "Computing permutation importance.. Progress: 32%. Estimated remaining time: 1 minute, 6 seconds.\n",
      "Computing permutation importance.. Progress: 64%. Estimated remaining time: 35 seconds.\n",
      "Computing permutation importance.. Progress: 95%. Estimated remaining time: 4 seconds.\n"
     ]
    },
    {
     "name": "stderr",
     "output_type": "stream",
     "text": [
      " 10. run of importance source...\n"
     ]
    },
    {
     "name": "stdout",
     "output_type": "stream",
     "text": [
      "Computing permutation importance.. Progress: 33%. Estimated remaining time: 1 minute, 4 seconds.\n",
      "Computing permutation importance.. Progress: 59%. Estimated remaining time: 42 seconds.\n",
      "Computing permutation importance.. Progress: 85%. Estimated remaining time: 16 seconds.\n"
     ]
    },
    {
     "name": "stderr",
     "output_type": "stream",
     "text": [
      " 11. run of importance source...\n"
     ]
    },
    {
     "name": "stdout",
     "output_type": "stream",
     "text": [
      "Computing permutation importance.. Progress: 26%. Estimated remaining time: 1 minute, 30 seconds.\n",
      "Computing permutation importance.. Progress: 51%. Estimated remaining time: 59 seconds.\n",
      "Computing permutation importance.. Progress: 77%. Estimated remaining time: 27 seconds.\n"
     ]
    },
    {
     "name": "stderr",
     "output_type": "stream",
     "text": [
      " 12. run of importance source...\n"
     ]
    },
    {
     "name": "stdout",
     "output_type": "stream",
     "text": [
      "Computing permutation importance.. Progress: 25%. Estimated remaining time: 1 minute, 33 seconds.\n",
      "Computing permutation importance.. Progress: 50%. Estimated remaining time: 1 minute, 2 seconds.\n",
      "Computing permutation importance.. Progress: 76%. Estimated remaining time: 29 seconds.\n"
     ]
    },
    {
     "name": "stderr",
     "output_type": "stream",
     "text": [
      " 13. run of importance source...\n"
     ]
    },
    {
     "name": "stdout",
     "output_type": "stream",
     "text": [
      "Computing permutation importance.. Progress: 26%. Estimated remaining time: 1 minute, 30 seconds.\n",
      "Computing permutation importance.. Progress: 52%. Estimated remaining time: 56 seconds.\n",
      "Computing permutation importance.. Progress: 79%. Estimated remaining time: 25 seconds.\n"
     ]
    },
    {
     "name": "stderr",
     "output_type": "stream",
     "text": [
      " 14. run of importance source...\n"
     ]
    },
    {
     "name": "stdout",
     "output_type": "stream",
     "text": [
      "Computing permutation importance.. Progress: 25%. Estimated remaining time: 1 minute, 31 seconds.\n",
      "Computing permutation importance.. Progress: 52%. Estimated remaining time: 56 seconds.\n",
      "Computing permutation importance.. Progress: 79%. Estimated remaining time: 25 seconds.\n"
     ]
    },
    {
     "name": "stderr",
     "output_type": "stream",
     "text": [
      " 15. run of importance source...\n"
     ]
    },
    {
     "name": "stdout",
     "output_type": "stream",
     "text": [
      "Computing permutation importance.. Progress: 25%. Estimated remaining time: 1 minute, 31 seconds.\n",
      "Computing permutation importance.. Progress: 51%. Estimated remaining time: 59 seconds.\n",
      "Computing permutation importance.. Progress: 77%. Estimated remaining time: 27 seconds.\n"
     ]
    },
    {
     "name": "stderr",
     "output_type": "stream",
     "text": [
      " 16. run of importance source...\n"
     ]
    },
    {
     "name": "stdout",
     "output_type": "stream",
     "text": [
      "Computing permutation importance.. Progress: 26%. Estimated remaining time: 1 minute, 30 seconds.\n",
      "Computing permutation importance.. Progress: 52%. Estimated remaining time: 57 seconds.\n",
      "Computing permutation importance.. Progress: 79%. Estimated remaining time: 25 seconds.\n"
     ]
    },
    {
     "name": "stderr",
     "output_type": "stream",
     "text": [
      " 17. run of importance source...\n"
     ]
    },
    {
     "name": "stdout",
     "output_type": "stream",
     "text": [
      "Computing permutation importance.. Progress: 26%. Estimated remaining time: 1 minute, 29 seconds.\n",
      "Computing permutation importance.. Progress: 52%. Estimated remaining time: 56 seconds.\n",
      "Computing permutation importance.. Progress: 79%. Estimated remaining time: 24 seconds.\n"
     ]
    },
    {
     "name": "stderr",
     "output_type": "stream",
     "text": [
      " 18. run of importance source...\n"
     ]
    },
    {
     "name": "stdout",
     "output_type": "stream",
     "text": [
      "Computing permutation importance.. Progress: 26%. Estimated remaining time: 1 minute, 30 seconds.\n",
      "Computing permutation importance.. Progress: 52%. Estimated remaining time: 56 seconds.\n",
      "Computing permutation importance.. Progress: 79%. Estimated remaining time: 24 seconds.\n"
     ]
    },
    {
     "name": "stderr",
     "output_type": "stream",
     "text": [
      " 19. run of importance source...\n"
     ]
    },
    {
     "name": "stdout",
     "output_type": "stream",
     "text": [
      "Computing permutation importance.. Progress: 26%. Estimated remaining time: 1 minute, 27 seconds.\n",
      "Computing permutation importance.. Progress: 52%. Estimated remaining time: 56 seconds.\n",
      "Computing permutation importance.. Progress: 78%. Estimated remaining time: 25 seconds.\n"
     ]
    },
    {
     "name": "stderr",
     "output_type": "stream",
     "text": [
      " 20. run of importance source...\n"
     ]
    },
    {
     "name": "stdout",
     "output_type": "stream",
     "text": [
      "Computing permutation importance.. Progress: 25%. Estimated remaining time: 1 minute, 31 seconds.\n",
      "Computing permutation importance.. Progress: 52%. Estimated remaining time: 57 seconds.\n",
      "Computing permutation importance.. Progress: 79%. Estimated remaining time: 24 seconds.\n"
     ]
    },
    {
     "name": "stderr",
     "output_type": "stream",
     "text": [
      " 21. run of importance source...\n"
     ]
    },
    {
     "name": "stdout",
     "output_type": "stream",
     "text": [
      "Computing permutation importance.. Progress: 26%. Estimated remaining time: 1 minute, 27 seconds.\n",
      "Computing permutation importance.. Progress: 52%. Estimated remaining time: 56 seconds.\n",
      "Computing permutation importance.. Progress: 79%. Estimated remaining time: 24 seconds.\n"
     ]
    },
    {
     "name": "stderr",
     "output_type": "stream",
     "text": [
      "After 21 iterations, +41 mins: \n",
      " rejected 19933 attributes: A1BG, A1BG-AS1, A1CF, A2M, A2M-AS1 and 19928 more;\n",
      " still have 241 attributes left.\n",
      "\n",
      " 22. run of importance source...\n",
      " 23. run of importance source...\n",
      " 24. run of importance source...\n",
      " 25. run of importance source...\n",
      " 26. run of importance source...\n",
      "After 26 iterations, +41 mins: \n",
      " confirmed 1 attribute: ETV4;\n",
      " rejected 88 attributes: ACSS2, ALB, ANKS4B, APOA2, AREG and 83 more;\n",
      " still have 152 attributes left.\n",
      "\n",
      " 27. run of importance source...\n",
      " 28. run of importance source...\n",
      " 29. run of importance source...\n",
      " 30. run of importance source...\n",
      "After 30 iterations, +41 mins: \n",
      " rejected 27 attributes: ARHGEF11, CCDC117, CCNO, CHMP4C, CLDN7 and 22 more;\n",
      " still have 125 attributes left.\n",
      "\n",
      " 31. run of importance source...\n",
      " 32. run of importance source...\n",
      " 33. run of importance source...\n",
      " 34. run of importance source...\n",
      "After 34 iterations, +42 mins: \n",
      " rejected 6 attributes: ART3, INPP4B, LGALS8, LINC02946, PHF21A and 1 more;\n",
      " still have 119 attributes left.\n",
      "\n",
      " 35. run of importance source...\n",
      " 36. run of importance source...\n",
      " 37. run of importance source...\n",
      " 38. run of importance source...\n",
      "After 38 iterations, +42 mins: \n",
      " rejected 2 attributes: SAP30, SFXN3;\n",
      " still have 117 attributes left.\n",
      "\n",
      " 39. run of importance source...\n",
      " 40. run of importance source...\n",
      " 41. run of importance source...\n",
      "After 41 iterations, +42 mins: \n",
      " confirmed 2 attributes: DUSP6, SH3TC2;\n",
      " rejected 2 attributes: CHST15, FAM89A;\n",
      " still have 113 attributes left.\n",
      "\n",
      " 42. run of importance source...\n",
      " 43. run of importance source...\n",
      " 44. run of importance source...\n",
      " 45. run of importance source...\n",
      " 46. run of importance source...\n",
      " 47. run of importance source...\n",
      " 48. run of importance source...\n",
      "After 48 iterations, +42 mins: \n",
      " confirmed 1 attribute: GJB1;\n",
      " still have 112 attributes left.\n",
      "\n",
      " 49. run of importance source...\n",
      " 50. run of importance source...\n",
      " 51. run of importance source...\n",
      "After 51 iterations, +42 mins: \n",
      " confirmed 2 attributes: HSD17B6, NPAS2;\n",
      " rejected 1 attribute: EML1;\n",
      " still have 109 attributes left.\n",
      "\n",
      " 52. run of importance source...\n",
      " 53. run of importance source...\n",
      " 54. run of importance source...\n",
      " 55. run of importance source...\n",
      " 56. run of importance source...\n",
      " 57. run of importance source...\n",
      " 58. run of importance source...\n",
      " 59. run of importance source...\n",
      " 60. run of importance source...\n",
      "After 60 iterations, +42 mins: \n",
      " confirmed 1 attribute: CEACAM1;\n",
      " still have 108 attributes left.\n",
      "\n",
      " 61. run of importance source...\n",
      " 62. run of importance source...\n",
      " 63. run of importance source...\n",
      "After 63 iterations, +42 mins: \n",
      " confirmed 3 attributes: PLEKHG4B, SPRED1, TOR4A;\n",
      " still have 105 attributes left.\n",
      "\n",
      " 64. run of importance source...\n",
      " 65. run of importance source...\n",
      " 66. run of importance source...\n",
      "After 66 iterations, +42 mins: \n",
      " confirmed 3 attributes: HIVEP1, KLF3, SLCO4A1-AS1;\n",
      " still have 102 attributes left.\n",
      "\n",
      " 67. run of importance source...\n",
      " 68. run of importance source...\n",
      " 69. run of importance source...\n",
      "After 69 iterations, +42 mins: \n",
      " confirmed 4 attributes: GPR35, LINC00920, LYZ, RNF125;\n",
      " rejected 1 attribute: EMILIN2;\n",
      " still have 97 attributes left.\n",
      "\n",
      " 70. run of importance source...\n",
      " 71. run of importance source...\n",
      " 72. run of importance source...\n",
      " 73. run of importance source...\n",
      " 74. run of importance source...\n",
      "After 74 iterations, +42 mins: \n",
      " rejected 1 attribute: PLP1;\n",
      " still have 96 attributes left.\n",
      "\n",
      " 75. run of importance source...\n",
      " 76. run of importance source...\n",
      " 77. run of importance source...\n",
      "After 77 iterations, +42 mins: \n",
      " confirmed 1 attribute: SLC43A3;\n",
      " still have 95 attributes left.\n",
      "\n",
      " 78. run of importance source...\n",
      " 79. run of importance source...\n",
      " 80. run of importance source...\n",
      "After 80 iterations, +42 mins: \n",
      " confirmed 1 attribute: PHLDA1;\n",
      " rejected 1 attribute: POF1B;\n",
      " still have 93 attributes left.\n",
      "\n",
      " 81. run of importance source...\n",
      " 82. run of importance source...\n",
      " 83. run of importance source...\n",
      "After 83 iterations, +42 mins: \n",
      " confirmed 1 attribute: ITGA6;\n",
      " still have 92 attributes left.\n",
      "\n",
      " 84. run of importance source...\n",
      " 85. run of importance source...\n",
      " 86. run of importance source...\n",
      "After 86 iterations, +42 mins: \n",
      " confirmed 4 attributes: EPS8L3, IL1RN, ITPRID2, SPRY2;\n",
      " still have 88 attributes left.\n",
      "\n",
      " 87. run of importance source...\n",
      " 88. run of importance source...\n",
      " 89. run of importance source...\n",
      " 90. run of importance source...\n",
      " 91. run of importance source...\n",
      "After 91 iterations, +42 mins: \n",
      " confirmed 2 attributes: MNDA, PRSS3;\n",
      " still have 86 attributes left.\n",
      "\n",
      " 92. run of importance source...\n",
      " 93. run of importance source...\n",
      " 94. run of importance source...\n",
      "After 94 iterations, +43 mins: \n",
      " confirmed 2 attributes: ETV5, FYB1;\n",
      " still have 84 attributes left.\n",
      "\n",
      " 95. run of importance source...\n",
      " 96. run of importance source...\n",
      "After 96 iterations, +43 mins: \n",
      " confirmed 3 attributes: HHLA3, PTPRH, SLC35D2;\n",
      " still have 81 attributes left.\n",
      "\n",
      " 97. run of importance source...\n",
      " 98. run of importance source...\n",
      " 99. run of importance source...\n"
     ]
    },
    {
     "name": "stdout",
     "output_type": "stream",
     "text": [
      "\n",
      "Drug5: Boruta is running for ZD-6474"
     ]
    },
    {
     "name": "stderr",
     "output_type": "stream",
     "text": [
      " 1. run of importance source...\n"
     ]
    },
    {
     "name": "stdout",
     "output_type": "stream",
     "text": [
      "Computing permutation importance.. Progress: 21%. Estimated remaining time: 1 minute, 56 seconds.\n",
      "Computing permutation importance.. Progress: 43%. Estimated remaining time: 1 minute, 22 seconds.\n",
      "Computing permutation importance.. Progress: 66%. Estimated remaining time: 47 seconds.\n",
      "Computing permutation importance.. Progress: 90%. Estimated remaining time: 13 seconds.\n"
     ]
    },
    {
     "name": "stderr",
     "output_type": "stream",
     "text": [
      " 2. run of importance source...\n"
     ]
    },
    {
     "name": "stdout",
     "output_type": "stream",
     "text": [
      "Computing permutation importance.. Progress: 24%. Estimated remaining time: 1 minute, 38 seconds.\n",
      "Computing permutation importance.. Progress: 48%. Estimated remaining time: 1 minute, 7 seconds.\n",
      "Computing permutation importance.. Progress: 73%. Estimated remaining time: 34 seconds.\n",
      "Computing permutation importance.. Progress: 97%. Estimated remaining time: 3 seconds.\n"
     ]
    },
    {
     "name": "stderr",
     "output_type": "stream",
     "text": [
      " 3. run of importance source...\n"
     ]
    },
    {
     "name": "stdout",
     "output_type": "stream",
     "text": [
      "Computing permutation importance.. Progress: 23%. Estimated remaining time: 1 minute, 43 seconds.\n",
      "Computing permutation importance.. Progress: 47%. Estimated remaining time: 1 minute, 9 seconds.\n",
      "Computing permutation importance.. Progress: 72%. Estimated remaining time: 36 seconds.\n",
      "Computing permutation importance.. Progress: 96%. Estimated remaining time: 5 seconds.\n"
     ]
    },
    {
     "name": "stderr",
     "output_type": "stream",
     "text": [
      " 4. run of importance source...\n"
     ]
    },
    {
     "name": "stdout",
     "output_type": "stream",
     "text": [
      "Computing permutation importance.. Progress: 24%. Estimated remaining time: 1 minute, 36 seconds.\n",
      "Computing permutation importance.. Progress: 48%. Estimated remaining time: 1 minute, 7 seconds.\n",
      "Computing permutation importance.. Progress: 73%. Estimated remaining time: 35 seconds.\n",
      "Computing permutation importance.. Progress: 97%. Estimated remaining time: 4 seconds.\n"
     ]
    },
    {
     "name": "stderr",
     "output_type": "stream",
     "text": [
      " 5. run of importance source...\n"
     ]
    },
    {
     "name": "stdout",
     "output_type": "stream",
     "text": [
      "Computing permutation importance.. Progress: 23%. Estimated remaining time: 1 minute, 44 seconds.\n",
      "Computing permutation importance.. Progress: 46%. Estimated remaining time: 1 minute, 11 seconds.\n",
      "Computing permutation importance.. Progress: 70%. Estimated remaining time: 39 seconds.\n",
      "Computing permutation importance.. Progress: 95%. Estimated remaining time: 7 seconds.\n"
     ]
    },
    {
     "name": "stderr",
     "output_type": "stream",
     "text": [
      " 6. run of importance source...\n"
     ]
    },
    {
     "name": "stdout",
     "output_type": "stream",
     "text": [
      "Computing permutation importance.. Progress: 24%. Estimated remaining time: 1 minute, 38 seconds.\n",
      "Computing permutation importance.. Progress: 48%. Estimated remaining time: 1 minute, 7 seconds.\n",
      "Computing permutation importance.. Progress: 73%. Estimated remaining time: 35 seconds.\n",
      "Computing permutation importance.. Progress: 96%. Estimated remaining time: 4 seconds.\n"
     ]
    },
    {
     "name": "stderr",
     "output_type": "stream",
     "text": [
      " 7. run of importance source...\n"
     ]
    },
    {
     "name": "stdout",
     "output_type": "stream",
     "text": [
      "Computing permutation importance.. Progress: 23%. Estimated remaining time: 1 minute, 42 seconds.\n",
      "Computing permutation importance.. Progress: 48%. Estimated remaining time: 1 minute, 7 seconds.\n",
      "Computing permutation importance.. Progress: 72%. Estimated remaining time: 35 seconds.\n",
      "Computing permutation importance.. Progress: 96%. Estimated remaining time: 4 seconds.\n"
     ]
    },
    {
     "name": "stderr",
     "output_type": "stream",
     "text": [
      " 8. run of importance source...\n"
     ]
    },
    {
     "name": "stdout",
     "output_type": "stream",
     "text": [
      "Computing permutation importance.. Progress: 23%. Estimated remaining time: 1 minute, 41 seconds.\n",
      "Computing permutation importance.. Progress: 47%. Estimated remaining time: 1 minute, 8 seconds.\n",
      "Computing permutation importance.. Progress: 71%. Estimated remaining time: 37 seconds.\n",
      "Computing permutation importance.. Progress: 95%. Estimated remaining time: 6 seconds.\n"
     ]
    },
    {
     "name": "stderr",
     "output_type": "stream",
     "text": [
      " 9. run of importance source...\n"
     ]
    },
    {
     "name": "stdout",
     "output_type": "stream",
     "text": [
      "Computing permutation importance.. Progress: 24%. Estimated remaining time: 1 minute, 40 seconds.\n",
      "Computing permutation importance.. Progress: 47%. Estimated remaining time: 1 minute, 8 seconds.\n",
      "Computing permutation importance.. Progress: 71%. Estimated remaining time: 37 seconds.\n",
      "Computing permutation importance.. Progress: 95%. Estimated remaining time: 6 seconds.\n"
     ]
    },
    {
     "name": "stderr",
     "output_type": "stream",
     "text": [
      " 10. run of importance source...\n"
     ]
    },
    {
     "name": "stdout",
     "output_type": "stream",
     "text": [
      "Computing permutation importance.. Progress: 23%. Estimated remaining time: 1 minute, 42 seconds.\n",
      "Computing permutation importance.. Progress: 48%. Estimated remaining time: 1 minute, 8 seconds.\n",
      "Computing permutation importance.. Progress: 71%. Estimated remaining time: 37 seconds.\n",
      "Computing permutation importance.. Progress: 95%. Estimated remaining time: 6 seconds.\n"
     ]
    },
    {
     "name": "stderr",
     "output_type": "stream",
     "text": [
      " 11. run of importance source...\n"
     ]
    },
    {
     "name": "stdout",
     "output_type": "stream",
     "text": [
      "Computing permutation importance.. Progress: 24%. Estimated remaining time: 1 minute, 38 seconds.\n",
      "Computing permutation importance.. Progress: 48%. Estimated remaining time: 1 minute, 6 seconds.\n",
      "Computing permutation importance.. Progress: 73%. Estimated remaining time: 35 seconds.\n",
      "Computing permutation importance.. Progress: 97%. Estimated remaining time: 3 seconds.\n"
     ]
    },
    {
     "name": "stderr",
     "output_type": "stream",
     "text": [
      " 12. run of importance source...\n"
     ]
    },
    {
     "name": "stdout",
     "output_type": "stream",
     "text": [
      "Computing permutation importance.. Progress: 24%. Estimated remaining time: 1 minute, 39 seconds.\n",
      "Computing permutation importance.. Progress: 48%. Estimated remaining time: 1 minute, 7 seconds.\n",
      "Computing permutation importance.. Progress: 73%. Estimated remaining time: 35 seconds.\n",
      "Computing permutation importance.. Progress: 97%. Estimated remaining time: 4 seconds.\n"
     ]
    },
    {
     "name": "stderr",
     "output_type": "stream",
     "text": [
      " 13. run of importance source...\n"
     ]
    },
    {
     "name": "stdout",
     "output_type": "stream",
     "text": [
      "Computing permutation importance.. Progress: 24%. Estimated remaining time: 1 minute, 40 seconds.\n",
      "Computing permutation importance.. Progress: 49%. Estimated remaining time: 1 minute, 5 seconds.\n",
      "Computing permutation importance.. Progress: 72%. Estimated remaining time: 35 seconds.\n",
      "Computing permutation importance.. Progress: 95%. Estimated remaining time: 5 seconds.\n"
     ]
    },
    {
     "name": "stderr",
     "output_type": "stream",
     "text": [
      " 14. run of importance source...\n"
     ]
    },
    {
     "name": "stdout",
     "output_type": "stream",
     "text": [
      "Computing permutation importance.. Progress: 23%. Estimated remaining time: 1 minute, 41 seconds.\n",
      "Computing permutation importance.. Progress: 48%. Estimated remaining time: 1 minute, 7 seconds.\n",
      "Computing permutation importance.. Progress: 72%. Estimated remaining time: 36 seconds.\n",
      "Computing permutation importance.. Progress: 95%. Estimated remaining time: 6 seconds.\n"
     ]
    },
    {
     "name": "stderr",
     "output_type": "stream",
     "text": [
      " 15. run of importance source...\n"
     ]
    },
    {
     "name": "stdout",
     "output_type": "stream",
     "text": [
      "Computing permutation importance.. Progress: 23%. Estimated remaining time: 1 minute, 42 seconds.\n",
      "Computing permutation importance.. Progress: 48%. Estimated remaining time: 1 minute, 7 seconds.\n",
      "Computing permutation importance.. Progress: 71%. Estimated remaining time: 37 seconds.\n",
      "Computing permutation importance.. Progress: 96%. Estimated remaining time: 5 seconds.\n"
     ]
    },
    {
     "name": "stderr",
     "output_type": "stream",
     "text": [
      " 16. run of importance source...\n"
     ]
    },
    {
     "name": "stdout",
     "output_type": "stream",
     "text": [
      "Computing permutation importance.. Progress: 23%. Estimated remaining time: 1 minute, 41 seconds.\n",
      "Computing permutation importance.. Progress: 48%. Estimated remaining time: 1 minute, 6 seconds.\n",
      "Computing permutation importance.. Progress: 72%. Estimated remaining time: 36 seconds.\n",
      "Computing permutation importance.. Progress: 96%. Estimated remaining time: 5 seconds.\n"
     ]
    },
    {
     "name": "stderr",
     "output_type": "stream",
     "text": [
      " 17. run of importance source...\n"
     ]
    },
    {
     "name": "stdout",
     "output_type": "stream",
     "text": [
      "Computing permutation importance.. Progress: 24%. Estimated remaining time: 1 minute, 39 seconds.\n",
      "Computing permutation importance.. Progress: 48%. Estimated remaining time: 1 minute, 8 seconds.\n",
      "Computing permutation importance.. Progress: 72%. Estimated remaining time: 36 seconds.\n",
      "Computing permutation importance.. Progress: 96%. Estimated remaining time: 5 seconds.\n"
     ]
    },
    {
     "name": "stderr",
     "output_type": "stream",
     "text": [
      " 18. run of importance source...\n"
     ]
    },
    {
     "name": "stdout",
     "output_type": "stream",
     "text": [
      "Computing permutation importance.. Progress: 24%. Estimated remaining time: 1 minute, 37 seconds.\n",
      "Computing permutation importance.. Progress: 48%. Estimated remaining time: 1 minute, 7 seconds.\n",
      "Computing permutation importance.. Progress: 72%. Estimated remaining time: 36 seconds.\n",
      "Computing permutation importance.. Progress: 96%. Estimated remaining time: 4 seconds.\n"
     ]
    },
    {
     "name": "stderr",
     "output_type": "stream",
     "text": [
      " 19. run of importance source...\n"
     ]
    },
    {
     "name": "stdout",
     "output_type": "stream",
     "text": [
      "Computing permutation importance.. Progress: 24%. Estimated remaining time: 1 minute, 39 seconds.\n",
      "Computing permutation importance.. Progress: 47%. Estimated remaining time: 1 minute, 8 seconds.\n",
      "Computing permutation importance.. Progress: 72%. Estimated remaining time: 36 seconds.\n",
      "Computing permutation importance.. Progress: 96%. Estimated remaining time: 5 seconds.\n"
     ]
    },
    {
     "name": "stderr",
     "output_type": "stream",
     "text": [
      " 20. run of importance source...\n"
     ]
    },
    {
     "name": "stdout",
     "output_type": "stream",
     "text": [
      "Computing permutation importance.. Progress: 23%. Estimated remaining time: 1 minute, 43 seconds.\n",
      "Computing permutation importance.. Progress: 48%. Estimated remaining time: 1 minute, 8 seconds.\n",
      "Computing permutation importance.. Progress: 71%. Estimated remaining time: 37 seconds.\n",
      "Computing permutation importance.. Progress: 95%. Estimated remaining time: 6 seconds.\n"
     ]
    },
    {
     "name": "stderr",
     "output_type": "stream",
     "text": [
      " 21. run of importance source...\n"
     ]
    },
    {
     "name": "stdout",
     "output_type": "stream",
     "text": [
      "Computing permutation importance.. Progress: 24%. Estimated remaining time: 1 minute, 37 seconds.\n",
      "Computing permutation importance.. Progress: 48%. Estimated remaining time: 1 minute, 6 seconds.\n",
      "Computing permutation importance.. Progress: 72%. Estimated remaining time: 36 seconds.\n",
      "Computing permutation importance.. Progress: 95%. Estimated remaining time: 5 seconds.\n"
     ]
    },
    {
     "name": "stderr",
     "output_type": "stream",
     "text": [
      "After 21 iterations, +49 mins: \n",
      " rejected 20130 attributes: A1BG, A1BG-AS1, A1CF, A2M, A2M-AS1 and 20125 more;\n",
      " still have 44 attributes left.\n",
      "\n",
      " 22. run of importance source...\n",
      " 23. run of importance source...\n",
      " 24. run of importance source...\n",
      " 25. run of importance source...\n",
      " 26. run of importance source...\n",
      "After 26 iterations, +49 mins: \n",
      " rejected 9 attributes: BARX2, C10orf126, IL4R, LOC105372695, ODF3B and 4 more;\n",
      " still have 35 attributes left.\n",
      "\n",
      " 27. run of importance source...\n",
      " 28. run of importance source...\n",
      " 29. run of importance source...\n",
      " 30. run of importance source...\n",
      "After 30 iterations, +49 mins: \n",
      " rejected 2 attributes: A2ML1, ADGB-DT;\n",
      " still have 33 attributes left.\n",
      "\n",
      " 31. run of importance source...\n",
      " 32. run of importance source...\n",
      " 33. run of importance source...\n",
      " 34. run of importance source...\n",
      " 35. run of importance source...\n",
      " 36. run of importance source...\n",
      " 37. run of importance source...\n",
      " 38. run of importance source...\n",
      " 39. run of importance source...\n",
      " 40. run of importance source...\n",
      " 41. run of importance source...\n",
      "After 41 iterations, +49 mins: \n",
      " rejected 2 attributes: FHL2, TNK1;\n",
      " still have 31 attributes left.\n",
      "\n",
      " 42. run of importance source...\n",
      " 43. run of importance source...\n",
      " 44. run of importance source...\n",
      " 45. run of importance source...\n",
      " 46. run of importance source...\n",
      " 47. run of importance source...\n",
      " 48. run of importance source...\n",
      " 49. run of importance source...\n",
      " 50. run of importance source...\n",
      " 51. run of importance source...\n",
      " 52. run of importance source...\n",
      " 53. run of importance source...\n",
      " 54. run of importance source...\n",
      " 55. run of importance source...\n",
      " 56. run of importance source...\n",
      " 57. run of importance source...\n",
      " 58. run of importance source...\n",
      " 59. run of importance source...\n",
      " 60. run of importance source...\n",
      " 61. run of importance source...\n",
      " 62. run of importance source...\n",
      " 63. run of importance source...\n",
      " 64. run of importance source...\n",
      " 65. run of importance source...\n",
      " 66. run of importance source...\n",
      " 67. run of importance source...\n",
      " 68. run of importance source...\n",
      " 69. run of importance source...\n",
      " 70. run of importance source...\n",
      " 71. run of importance source...\n",
      " 72. run of importance source...\n",
      " 73. run of importance source...\n",
      " 74. run of importance source...\n",
      "After 74 iterations, +49 mins: \n",
      " confirmed 1 attribute: PLCD1;\n",
      " still have 30 attributes left.\n",
      "\n",
      " 75. run of importance source...\n",
      " 76. run of importance source...\n",
      " 77. run of importance source...\n",
      " 78. run of importance source...\n",
      " 79. run of importance source...\n",
      " 80. run of importance source...\n",
      " 81. run of importance source...\n",
      " 82. run of importance source...\n",
      " 83. run of importance source...\n",
      "After 83 iterations, +49 mins: \n",
      " confirmed 3 attributes: GRAMD2A, NPC1L1, TNFSF10;\n",
      " still have 27 attributes left.\n",
      "\n",
      " 84. run of importance source...\n",
      " 85. run of importance source...\n",
      " 86. run of importance source...\n",
      "After 86 iterations, +49 mins: \n",
      " confirmed 4 attributes: HIVEP3, IGLL1, MRTFA, TIMP1;\n",
      " still have 23 attributes left.\n",
      "\n",
      " 87. run of importance source...\n",
      " 88. run of importance source...\n",
      "After 88 iterations, +49 mins: \n",
      " confirmed 1 attribute: SLC48A1;\n",
      " still have 22 attributes left.\n",
      "\n",
      " 89. run of importance source...\n",
      " 90. run of importance source...\n",
      " 91. run of importance source...\n",
      "After 91 iterations, +49 mins: \n",
      " confirmed 1 attribute: CDH3;\n",
      " still have 21 attributes left.\n",
      "\n",
      " 92. run of importance source...\n",
      " 93. run of importance source...\n",
      " 94. run of importance source...\n",
      "After 94 iterations, +49 mins: \n",
      " confirmed 1 attribute: MKNK1;\n",
      " still have 20 attributes left.\n",
      "\n",
      " 95. run of importance source...\n",
      " 96. run of importance source...\n",
      " 97. run of importance source...\n",
      " 98. run of importance source...\n",
      " 99. run of importance source...\n",
      "After 99 iterations, +49 mins: \n",
      " confirmed 1 attribute: SYTL1;\n",
      " still have 19 attributes left.\n",
      "\n"
     ]
    },
    {
     "name": "stdout",
     "output_type": "stream",
     "text": [
      "\n",
      "Drug6: Boruta is running for PHA-665752"
     ]
    },
    {
     "name": "stderr",
     "output_type": "stream",
     "text": [
      " 1. run of importance source...\n"
     ]
    },
    {
     "name": "stdout",
     "output_type": "stream",
     "text": [
      "Computing permutation importance.. Progress: 21%. Estimated remaining time: 1 minute, 58 seconds.\n",
      "Computing permutation importance.. Progress: 42%. Estimated remaining time: 1 minute, 25 seconds.\n",
      "Computing permutation importance.. Progress: 64%. Estimated remaining time: 52 seconds.\n",
      "Computing permutation importance.. Progress: 86%. Estimated remaining time: 20 seconds.\n"
     ]
    },
    {
     "name": "stderr",
     "output_type": "stream",
     "text": [
      " 2. run of importance source...\n"
     ]
    },
    {
     "name": "stdout",
     "output_type": "stream",
     "text": [
      "Computing permutation importance.. Progress: 21%. Estimated remaining time: 1 minute, 59 seconds.\n",
      "Computing permutation importance.. Progress: 42%. Estimated remaining time: 1 minute, 26 seconds.\n",
      "Computing permutation importance.. Progress: 63%. Estimated remaining time: 54 seconds.\n",
      "Computing permutation importance.. Progress: 84%. Estimated remaining time: 23 seconds.\n"
     ]
    },
    {
     "name": "stderr",
     "output_type": "stream",
     "text": [
      " 3. run of importance source...\n"
     ]
    },
    {
     "name": "stdout",
     "output_type": "stream",
     "text": [
      "Computing permutation importance.. Progress: 21%. Estimated remaining time: 1 minute, 58 seconds.\n",
      "Computing permutation importance.. Progress: 42%. Estimated remaining time: 1 minute, 25 seconds.\n",
      "Computing permutation importance.. Progress: 64%. Estimated remaining time: 52 seconds.\n",
      "Computing permutation importance.. Progress: 86%. Estimated remaining time: 21 seconds.\n"
     ]
    },
    {
     "name": "stderr",
     "output_type": "stream",
     "text": [
      " 4. run of importance source...\n"
     ]
    },
    {
     "name": "stdout",
     "output_type": "stream",
     "text": [
      "Computing permutation importance.. Progress: 21%. Estimated remaining time: 1 minute, 56 seconds.\n",
      "Computing permutation importance.. Progress: 43%. Estimated remaining time: 1 minute, 22 seconds.\n",
      "Computing permutation importance.. Progress: 64%. Estimated remaining time: 51 seconds.\n",
      "Computing permutation importance.. Progress: 86%. Estimated remaining time: 20 seconds.\n"
     ]
    },
    {
     "name": "stderr",
     "output_type": "stream",
     "text": [
      " 5. run of importance source...\n"
     ]
    },
    {
     "name": "stdout",
     "output_type": "stream",
     "text": [
      "Computing permutation importance.. Progress: 24%. Estimated remaining time: 1 minute, 36 seconds.\n",
      "Computing permutation importance.. Progress: 49%. Estimated remaining time: 1 minute, 5 seconds.\n",
      "Computing permutation importance.. Progress: 75%. Estimated remaining time: 30 seconds.\n"
     ]
    },
    {
     "name": "stderr",
     "output_type": "stream",
     "text": [
      " 6. run of importance source...\n"
     ]
    },
    {
     "name": "stdout",
     "output_type": "stream",
     "text": [
      "Computing permutation importance.. Progress: 27%. Estimated remaining time: 1 minute, 23 seconds.\n",
      "Computing permutation importance.. Progress: 53%. Estimated remaining time: 54 seconds.\n",
      "Computing permutation importance.. Progress: 80%. Estimated remaining time: 23 seconds.\n"
     ]
    },
    {
     "name": "stderr",
     "output_type": "stream",
     "text": [
      " 7. run of importance source...\n"
     ]
    },
    {
     "name": "stdout",
     "output_type": "stream",
     "text": [
      "Computing permutation importance.. Progress: 26%. Estimated remaining time: 1 minute, 27 seconds.\n",
      "Computing permutation importance.. Progress: 53%. Estimated remaining time: 55 seconds.\n",
      "Computing permutation importance.. Progress: 79%. Estimated remaining time: 25 seconds.\n"
     ]
    },
    {
     "name": "stderr",
     "output_type": "stream",
     "text": [
      " 8. run of importance source...\n"
     ]
    },
    {
     "name": "stdout",
     "output_type": "stream",
     "text": [
      "Computing permutation importance.. Progress: 25%. Estimated remaining time: 1 minute, 31 seconds.\n",
      "Computing permutation importance.. Progress: 52%. Estimated remaining time: 57 seconds.\n",
      "Computing permutation importance.. Progress: 78%. Estimated remaining time: 25 seconds.\n"
     ]
    },
    {
     "name": "stderr",
     "output_type": "stream",
     "text": [
      " 9. run of importance source...\n"
     ]
    },
    {
     "name": "stdout",
     "output_type": "stream",
     "text": [
      "Computing permutation importance.. Progress: 27%. Estimated remaining time: 1 minute, 25 seconds.\n",
      "Computing permutation importance.. Progress: 53%. Estimated remaining time: 54 seconds.\n",
      "Computing permutation importance.. Progress: 80%. Estimated remaining time: 22 seconds.\n"
     ]
    },
    {
     "name": "stderr",
     "output_type": "stream",
     "text": [
      " 10. run of importance source...\n"
     ]
    },
    {
     "name": "stdout",
     "output_type": "stream",
     "text": [
      "Computing permutation importance.. Progress: 27%. Estimated remaining time: 1 minute, 24 seconds.\n",
      "Computing permutation importance.. Progress: 53%. Estimated remaining time: 54 seconds.\n",
      "Computing permutation importance.. Progress: 80%. Estimated remaining time: 22 seconds.\n"
     ]
    },
    {
     "name": "stderr",
     "output_type": "stream",
     "text": [
      " 11. run of importance source...\n"
     ]
    },
    {
     "name": "stdout",
     "output_type": "stream",
     "text": [
      "Computing permutation importance.. Progress: 26%. Estimated remaining time: 1 minute, 26 seconds.\n",
      "Computing permutation importance.. Progress: 54%. Estimated remaining time: 53 seconds.\n",
      "Computing permutation importance.. Progress: 79%. Estimated remaining time: 24 seconds.\n"
     ]
    },
    {
     "name": "stderr",
     "output_type": "stream",
     "text": [
      " 12. run of importance source...\n"
     ]
    },
    {
     "name": "stdout",
     "output_type": "stream",
     "text": [
      "Computing permutation importance.. Progress: 26%. Estimated remaining time: 1 minute, 26 seconds.\n",
      "Computing permutation importance.. Progress: 53%. Estimated remaining time: 54 seconds.\n",
      "Computing permutation importance.. Progress: 80%. Estimated remaining time: 22 seconds.\n"
     ]
    },
    {
     "name": "stderr",
     "output_type": "stream",
     "text": [
      " 13. run of importance source...\n"
     ]
    },
    {
     "name": "stdout",
     "output_type": "stream",
     "text": [
      "Computing permutation importance.. Progress: 27%. Estimated remaining time: 1 minute, 25 seconds.\n",
      "Computing permutation importance.. Progress: 53%. Estimated remaining time: 55 seconds.\n",
      "Computing permutation importance.. Progress: 80%. Estimated remaining time: 22 seconds.\n"
     ]
    },
    {
     "name": "stderr",
     "output_type": "stream",
     "text": [
      " 14. run of importance source...\n"
     ]
    },
    {
     "name": "stdout",
     "output_type": "stream",
     "text": [
      "Computing permutation importance.. Progress: 26%. Estimated remaining time: 1 minute, 27 seconds.\n",
      "Computing permutation importance.. Progress: 53%. Estimated remaining time: 55 seconds.\n",
      "Computing permutation importance.. Progress: 79%. Estimated remaining time: 24 seconds.\n"
     ]
    },
    {
     "name": "stderr",
     "output_type": "stream",
     "text": [
      " 15. run of importance source...\n"
     ]
    },
    {
     "name": "stdout",
     "output_type": "stream",
     "text": [
      "Computing permutation importance.. Progress: 27%. Estimated remaining time: 1 minute, 22 seconds.\n",
      "Computing permutation importance.. Progress: 54%. Estimated remaining time: 52 seconds.\n",
      "Computing permutation importance.. Progress: 81%. Estimated remaining time: 21 seconds.\n"
     ]
    },
    {
     "name": "stderr",
     "output_type": "stream",
     "text": [
      " 16. run of importance source...\n"
     ]
    },
    {
     "name": "stdout",
     "output_type": "stream",
     "text": [
      "Computing permutation importance.. Progress: 26%. Estimated remaining time: 1 minute, 29 seconds.\n",
      "Computing permutation importance.. Progress: 52%. Estimated remaining time: 56 seconds.\n",
      "Computing permutation importance.. Progress: 78%. Estimated remaining time: 25 seconds.\n"
     ]
    },
    {
     "name": "stderr",
     "output_type": "stream",
     "text": [
      " 17. run of importance source...\n"
     ]
    },
    {
     "name": "stdout",
     "output_type": "stream",
     "text": [
      "Computing permutation importance.. Progress: 27%. Estimated remaining time: 1 minute, 25 seconds.\n",
      "Computing permutation importance.. Progress: 53%. Estimated remaining time: 54 seconds.\n",
      "Computing permutation importance.. Progress: 80%. Estimated remaining time: 23 seconds.\n"
     ]
    },
    {
     "name": "stderr",
     "output_type": "stream",
     "text": [
      " 18. run of importance source...\n"
     ]
    },
    {
     "name": "stdout",
     "output_type": "stream",
     "text": [
      "Computing permutation importance.. Progress: 27%. Estimated remaining time: 1 minute, 25 seconds.\n",
      "Computing permutation importance.. Progress: 54%. Estimated remaining time: 52 seconds.\n",
      "Computing permutation importance.. Progress: 80%. Estimated remaining time: 22 seconds.\n"
     ]
    },
    {
     "name": "stderr",
     "output_type": "stream",
     "text": [
      " 19. run of importance source...\n"
     ]
    },
    {
     "name": "stdout",
     "output_type": "stream",
     "text": [
      "Computing permutation importance.. Progress: 27%. Estimated remaining time: 1 minute, 23 seconds.\n",
      "Computing permutation importance.. Progress: 54%. Estimated remaining time: 53 seconds.\n",
      "Computing permutation importance.. Progress: 80%. Estimated remaining time: 22 seconds.\n"
     ]
    },
    {
     "name": "stderr",
     "output_type": "stream",
     "text": [
      " 20. run of importance source...\n"
     ]
    },
    {
     "name": "stdout",
     "output_type": "stream",
     "text": [
      "Computing permutation importance.. Progress: 26%. Estimated remaining time: 1 minute, 27 seconds.\n",
      "Computing permutation importance.. Progress: 53%. Estimated remaining time: 54 seconds.\n",
      "Computing permutation importance.. Progress: 80%. Estimated remaining time: 23 seconds.\n"
     ]
    },
    {
     "name": "stderr",
     "output_type": "stream",
     "text": [
      " 21. run of importance source...\n"
     ]
    },
    {
     "name": "stdout",
     "output_type": "stream",
     "text": [
      "Computing permutation importance.. Progress: 27%. Estimated remaining time: 1 minute, 23 seconds.\n",
      "Computing permutation importance.. Progress: 54%. Estimated remaining time: 53 seconds.\n",
      "Computing permutation importance.. Progress: 79%. Estimated remaining time: 24 seconds.\n"
     ]
    },
    {
     "name": "stderr",
     "output_type": "stream",
     "text": [
      "After 21 iterations, +46 mins: \n",
      " rejected 20132 attributes: A1BG, A1BG-AS1, A1CF, A2M, A2M-AS1 and 20127 more;\n",
      " still have 42 attributes left.\n",
      "\n",
      " 22. run of importance source...\n",
      " 23. run of importance source...\n",
      " 24. run of importance source...\n",
      " 25. run of importance source...\n",
      " 26. run of importance source...\n",
      "After 26 iterations, +46 mins: \n",
      " rejected 1 attribute: TAS2R8;\n",
      " still have 41 attributes left.\n",
      "\n",
      " 27. run of importance source...\n",
      " 28. run of importance source...\n",
      " 29. run of importance source...\n",
      " 30. run of importance source...\n",
      "After 30 iterations, +46 mins: \n",
      " rejected 1 attribute: SLA;\n",
      " still have 40 attributes left.\n",
      "\n",
      " 31. run of importance source...\n",
      " 32. run of importance source...\n",
      " 33. run of importance source...\n",
      " 34. run of importance source...\n",
      "After 34 iterations, +46 mins: \n",
      " rejected 1 attribute: LOC100500719;\n",
      " still have 39 attributes left.\n",
      "\n",
      " 35. run of importance source...\n",
      " 36. run of importance source...\n",
      " 37. run of importance source...\n",
      " 38. run of importance source...\n",
      " 39. run of importance source...\n",
      " 40. run of importance source...\n",
      " 41. run of importance source...\n",
      "After 41 iterations, +46 mins: \n",
      " rejected 2 attributes: KRT83, RABAC1;\n",
      " still have 37 attributes left.\n",
      "\n",
      " 42. run of importance source...\n",
      " 43. run of importance source...\n",
      " 44. run of importance source...\n",
      " 45. run of importance source...\n",
      " 46. run of importance source...\n",
      " 47. run of importance source...\n",
      " 48. run of importance source...\n",
      "After 48 iterations, +46 mins: \n",
      " rejected 1 attribute: ATAD2B;\n",
      " still have 36 attributes left.\n",
      "\n",
      " 49. run of importance source...\n",
      " 50. run of importance source...\n",
      " 51. run of importance source...\n",
      " 52. run of importance source...\n",
      " 53. run of importance source...\n",
      " 54. run of importance source...\n",
      " 55. run of importance source...\n",
      " 56. run of importance source...\n",
      " 57. run of importance source...\n",
      " 58. run of importance source...\n",
      " 59. run of importance source...\n",
      " 60. run of importance source...\n",
      " 61. run of importance source...\n",
      " 62. run of importance source...\n",
      " 63. run of importance source...\n",
      " 64. run of importance source...\n",
      " 65. run of importance source...\n",
      " 66. run of importance source...\n",
      " 67. run of importance source...\n",
      " 68. run of importance source...\n",
      " 69. run of importance source...\n",
      "After 69 iterations, +46 mins: \n",
      " confirmed 2 attributes: FMNL1, TLE3;\n",
      " still have 34 attributes left.\n",
      "\n",
      " 70. run of importance source...\n",
      " 71. run of importance source...\n",
      " 72. run of importance source...\n",
      " 73. run of importance source...\n",
      " 74. run of importance source...\n",
      "After 74 iterations, +46 mins: \n",
      " confirmed 1 attribute: COPS7B;\n",
      " still have 33 attributes left.\n",
      "\n",
      " 75. run of importance source...\n",
      " 76. run of importance source...\n",
      " 77. run of importance source...\n",
      "After 77 iterations, +46 mins: \n",
      " confirmed 1 attribute: RPL18AP16;\n",
      " still have 32 attributes left.\n",
      "\n",
      " 78. run of importance source...\n",
      " 79. run of importance source...\n",
      " 80. run of importance source...\n",
      "After 80 iterations, +46 mins: \n",
      " confirmed 2 attributes: SIGLEC8, TIRAP;\n",
      " still have 30 attributes left.\n",
      "\n",
      " 81. run of importance source...\n",
      " 82. run of importance source...\n",
      " 83. run of importance source...\n",
      "After 83 iterations, +46 mins: \n",
      " confirmed 1 attribute: KLHL12;\n",
      " still have 29 attributes left.\n",
      "\n",
      " 84. run of importance source...\n",
      " 85. run of importance source...\n",
      " 86. run of importance source...\n",
      "After 86 iterations, +46 mins: \n",
      " confirmed 5 attributes: CST7, CTDSPL2, LINC00870, NFYB, SP1;\n",
      " still have 24 attributes left.\n",
      "\n",
      " 87. run of importance source...\n",
      " 88. run of importance source...\n",
      "After 88 iterations, +46 mins: \n",
      " confirmed 2 attributes: ALKBH4, FGD4;\n",
      " still have 22 attributes left.\n",
      "\n",
      " 89. run of importance source...\n",
      " 90. run of importance source...\n",
      " 91. run of importance source...\n",
      " 92. run of importance source...\n",
      " 93. run of importance source...\n",
      " 94. run of importance source...\n",
      "After 94 iterations, +46 mins: \n",
      " confirmed 4 attributes: AP5B1, CPSF6, PRDM1, ZNF891;\n",
      " still have 18 attributes left.\n",
      "\n",
      " 95. run of importance source...\n",
      " 96. run of importance source...\n",
      " 97. run of importance source...\n",
      " 98. run of importance source...\n",
      " 99. run of importance source...\n",
      "After 99 iterations, +46 mins: \n",
      " confirmed 1 attribute: PRSS54;\n",
      " still have 17 attributes left.\n",
      "\n"
     ]
    },
    {
     "name": "stdout",
     "output_type": "stream",
     "text": [
      "\n",
      "Drug7: Boruta is running for Paclitaxel"
     ]
    },
    {
     "name": "stderr",
     "output_type": "stream",
     "text": [
      " 1. run of importance source...\n"
     ]
    },
    {
     "name": "stdout",
     "output_type": "stream",
     "text": [
      "Computing permutation importance.. Progress: 13%. Estimated remaining time: 3 minutes, 20 seconds.\n",
      "Computing permutation importance.. Progress: 27%. Estimated remaining time: 2 minutes, 53 seconds.\n",
      "Computing permutation importance.. Progress: 40%. Estimated remaining time: 2 minutes, 21 seconds.\n",
      "Computing permutation importance.. Progress: 54%. Estimated remaining time: 1 minute, 47 seconds.\n",
      "Computing permutation importance.. Progress: 67%. Estimated remaining time: 1 minute, 17 seconds.\n",
      "Computing permutation importance.. Progress: 80%. Estimated remaining time: 48 seconds.\n",
      "Computing permutation importance.. Progress: 93%. Estimated remaining time: 16 seconds.\n"
     ]
    },
    {
     "name": "stderr",
     "output_type": "stream",
     "text": [
      " 2. run of importance source...\n"
     ]
    },
    {
     "name": "stdout",
     "output_type": "stream",
     "text": [
      "Computing permutation importance.. Progress: 13%. Estimated remaining time: 3 minutes, 31 seconds.\n",
      "Computing permutation importance.. Progress: 26%. Estimated remaining time: 2 minutes, 57 seconds.\n",
      "Computing permutation importance.. Progress: 39%. Estimated remaining time: 2 minutes, 28 seconds.\n",
      "Computing permutation importance.. Progress: 52%. Estimated remaining time: 1 minute, 54 seconds.\n",
      "Computing permutation importance.. Progress: 65%. Estimated remaining time: 1 minute, 24 seconds.\n",
      "Computing permutation importance.. Progress: 78%. Estimated remaining time: 54 seconds.\n",
      "Computing permutation importance.. Progress: 91%. Estimated remaining time: 22 seconds.\n"
     ]
    },
    {
     "name": "stderr",
     "output_type": "stream",
     "text": [
      " 3. run of importance source...\n"
     ]
    },
    {
     "name": "stdout",
     "output_type": "stream",
     "text": [
      "Computing permutation importance.. Progress: 13%. Estimated remaining time: 3 minutes, 35 seconds.\n",
      "Computing permutation importance.. Progress: 26%. Estimated remaining time: 2 minutes, 54 seconds.\n",
      "Computing permutation importance.. Progress: 39%. Estimated remaining time: 2 minutes, 24 seconds.\n",
      "Computing permutation importance.. Progress: 53%. Estimated remaining time: 1 minute, 51 seconds.\n",
      "Computing permutation importance.. Progress: 66%. Estimated remaining time: 1 minute, 21 seconds.\n",
      "Computing permutation importance.. Progress: 78%. Estimated remaining time: 51 seconds.\n",
      "Computing permutation importance.. Progress: 92%. Estimated remaining time: 20 seconds.\n"
     ]
    },
    {
     "name": "stderr",
     "output_type": "stream",
     "text": [
      " 4. run of importance source...\n"
     ]
    },
    {
     "name": "stdout",
     "output_type": "stream",
     "text": [
      "Computing permutation importance.. Progress: 13%. Estimated remaining time: 3 minutes, 35 seconds.\n",
      "Computing permutation importance.. Progress: 26%. Estimated remaining time: 2 minutes, 54 seconds.\n",
      "Computing permutation importance.. Progress: 39%. Estimated remaining time: 2 minutes, 24 seconds.\n",
      "Computing permutation importance.. Progress: 52%. Estimated remaining time: 1 minute, 54 seconds.\n",
      "Computing permutation importance.. Progress: 66%. Estimated remaining time: 1 minute, 21 seconds.\n",
      "Computing permutation importance.. Progress: 80%. Estimated remaining time: 48 seconds.\n",
      "Computing permutation importance.. Progress: 93%. Estimated remaining time: 17 seconds.\n"
     ]
    },
    {
     "name": "stderr",
     "output_type": "stream",
     "text": [
      " 5. run of importance source...\n"
     ]
    },
    {
     "name": "stdout",
     "output_type": "stream",
     "text": [
      "Computing permutation importance.. Progress: 12%. Estimated remaining time: 3 minutes, 39 seconds.\n",
      "Computing permutation importance.. Progress: 26%. Estimated remaining time: 3 minutes, 3 seconds.\n",
      "Computing permutation importance.. Progress: 39%. Estimated remaining time: 2 minutes, 29 seconds.\n",
      "Computing permutation importance.. Progress: 52%. Estimated remaining time: 1 minute, 56 seconds.\n",
      "Computing permutation importance.. Progress: 65%. Estimated remaining time: 1 minute, 24 seconds.\n",
      "Computing permutation importance.. Progress: 78%. Estimated remaining time: 52 seconds.\n",
      "Computing permutation importance.. Progress: 92%. Estimated remaining time: 19 seconds.\n"
     ]
    },
    {
     "name": "stderr",
     "output_type": "stream",
     "text": [
      " 6. run of importance source...\n"
     ]
    },
    {
     "name": "stdout",
     "output_type": "stream",
     "text": [
      "Computing permutation importance.. Progress: 13%. Estimated remaining time: 3 minutes, 35 seconds.\n",
      "Computing permutation importance.. Progress: 26%. Estimated remaining time: 2 minutes, 58 seconds.\n",
      "Computing permutation importance.. Progress: 39%. Estimated remaining time: 2 minutes, 29 seconds.\n",
      "Computing permutation importance.. Progress: 52%. Estimated remaining time: 1 minute, 57 seconds.\n",
      "Computing permutation importance.. Progress: 65%. Estimated remaining time: 1 minute, 25 seconds.\n",
      "Computing permutation importance.. Progress: 78%. Estimated remaining time: 52 seconds.\n",
      "Computing permutation importance.. Progress: 91%. Estimated remaining time: 21 seconds.\n"
     ]
    },
    {
     "name": "stderr",
     "output_type": "stream",
     "text": [
      " 7. run of importance source...\n"
     ]
    },
    {
     "name": "stdout",
     "output_type": "stream",
     "text": [
      "Computing permutation importance.. Progress: 12%. Estimated remaining time: 3 minutes, 39 seconds.\n",
      "Computing permutation importance.. Progress: 25%. Estimated remaining time: 3 minutes, 4 seconds.\n",
      "Computing permutation importance.. Progress: 39%. Estimated remaining time: 2 minutes, 26 seconds.\n",
      "Computing permutation importance.. Progress: 52%. Estimated remaining time: 1 minute, 54 seconds.\n",
      "Computing permutation importance.. Progress: 65%. Estimated remaining time: 1 minute, 24 seconds.\n",
      "Computing permutation importance.. Progress: 78%. Estimated remaining time: 53 seconds.\n",
      "Computing permutation importance.. Progress: 91%. Estimated remaining time: 21 seconds.\n"
     ]
    },
    {
     "name": "stderr",
     "output_type": "stream",
     "text": [
      " 8. run of importance source...\n"
     ]
    },
    {
     "name": "stdout",
     "output_type": "stream",
     "text": [
      "Computing permutation importance.. Progress: 11%. Estimated remaining time: 4 minutes, 21 seconds.\n",
      "Computing permutation importance.. Progress: 21%. Estimated remaining time: 3 minutes, 53 seconds.\n",
      "Computing permutation importance.. Progress: 31%. Estimated remaining time: 3 minutes, 27 seconds.\n",
      "Computing permutation importance.. Progress: 43%. Estimated remaining time: 2 minutes, 49 seconds.\n",
      "Computing permutation importance.. Progress: 53%. Estimated remaining time: 2 minutes, 20 seconds.\n",
      "Computing permutation importance.. Progress: 64%. Estimated remaining time: 1 minute, 48 seconds.\n",
      "Computing permutation importance.. Progress: 74%. Estimated remaining time: 1 minute, 17 seconds.\n",
      "Computing permutation importance.. Progress: 85%. Estimated remaining time: 45 seconds.\n",
      "Computing permutation importance.. Progress: 96%. Estimated remaining time: 13 seconds.\n"
     ]
    },
    {
     "name": "stderr",
     "output_type": "stream",
     "text": [
      " 9. run of importance source...\n"
     ]
    },
    {
     "name": "stdout",
     "output_type": "stream",
     "text": [
      "Computing permutation importance.. Progress: 10%. Estimated remaining time: 4 minutes, 54 seconds.\n",
      "Computing permutation importance.. Progress: 20%. Estimated remaining time: 4 minutes, 12 seconds.\n",
      "Computing permutation importance.. Progress: 30%. Estimated remaining time: 3 minutes, 35 seconds.\n",
      "Computing permutation importance.. Progress: 41%. Estimated remaining time: 2 minutes, 56 seconds.\n",
      "Computing permutation importance.. Progress: 51%. Estimated remaining time: 2 minutes, 28 seconds.\n",
      "Computing permutation importance.. Progress: 62%. Estimated remaining time: 1 minute, 54 seconds.\n",
      "Computing permutation importance.. Progress: 72%. Estimated remaining time: 1 minute, 23 seconds.\n",
      "Computing permutation importance.. Progress: 83%. Estimated remaining time: 50 seconds.\n",
      "Computing permutation importance.. Progress: 94%. Estimated remaining time: 18 seconds.\n"
     ]
    },
    {
     "name": "stderr",
     "output_type": "stream",
     "text": [
      " 10. run of importance source...\n"
     ]
    },
    {
     "name": "stdout",
     "output_type": "stream",
     "text": [
      "Computing permutation importance.. Progress: 10%. Estimated remaining time: 4 minutes, 54 seconds.\n",
      "Computing permutation importance.. Progress: 21%. Estimated remaining time: 4 minutes, 2 seconds.\n",
      "Computing permutation importance.. Progress: 31%. Estimated remaining time: 3 minutes, 29 seconds.\n",
      "Computing permutation importance.. Progress: 42%. Estimated remaining time: 2 minutes, 56 seconds.\n",
      "Computing permutation importance.. Progress: 52%. Estimated remaining time: 2 minutes, 25 seconds.\n",
      "Computing permutation importance.. Progress: 63%. Estimated remaining time: 1 minute, 51 seconds.\n",
      "Computing permutation importance.. Progress: 73%. Estimated remaining time: 1 minute, 20 seconds.\n",
      "Computing permutation importance.. Progress: 84%. Estimated remaining time: 48 seconds.\n",
      "Computing permutation importance.. Progress: 94%. Estimated remaining time: 16 seconds.\n"
     ]
    },
    {
     "name": "stderr",
     "output_type": "stream",
     "text": [
      " 11. run of importance source...\n"
     ]
    },
    {
     "name": "stdout",
     "output_type": "stream",
     "text": [
      "Computing permutation importance.. Progress: 10%. Estimated remaining time: 4 minutes, 48 seconds.\n",
      "Computing permutation importance.. Progress: 15%. Estimated remaining time: 11 minutes, 53 seconds.\n",
      "Computing permutation importance.. Progress: 25%. Estimated remaining time: 7 minutes, 39 seconds.\n",
      "Computing permutation importance.. Progress: 35%. Estimated remaining time: 5 minutes, 35 seconds.\n",
      "Computing permutation importance.. Progress: 45%. Estimated remaining time: 4 minutes, 19 seconds.\n",
      "Computing permutation importance.. Progress: 56%. Estimated remaining time: 3 minutes, 10 seconds.\n",
      "Computing permutation importance.. Progress: 66%. Estimated remaining time: 2 minutes, 21 seconds.\n",
      "Computing permutation importance.. Progress: 75%. Estimated remaining time: 1 minute, 43 seconds.\n",
      "Computing permutation importance.. Progress: 85%. Estimated remaining time: 1 minute, 2 seconds.\n",
      "Computing permutation importance.. Progress: 94%. Estimated remaining time: 22 seconds.\n"
     ]
    },
    {
     "name": "stderr",
     "output_type": "stream",
     "text": [
      " 12. run of importance source...\n"
     ]
    },
    {
     "name": "stdout",
     "output_type": "stream",
     "text": [
      "Computing permutation importance.. Progress: 9%. Estimated remaining time: 5 minutes, 29 seconds.\n",
      "Computing permutation importance.. Progress: 19%. Estimated remaining time: 4 minutes, 31 seconds.\n",
      "Computing permutation importance.. Progress: 30%. Estimated remaining time: 3 minutes, 41 seconds.\n",
      "Computing permutation importance.. Progress: 40%. Estimated remaining time: 3 minutes, 9 seconds.\n",
      "Computing permutation importance.. Progress: 51%. Estimated remaining time: 2 minutes, 31 seconds.\n",
      "Computing permutation importance.. Progress: 61%. Estimated remaining time: 1 minute, 59 seconds.\n",
      "Computing permutation importance.. Progress: 71%. Estimated remaining time: 1 minute, 28 seconds.\n",
      "Computing permutation importance.. Progress: 81%. Estimated remaining time: 57 seconds.\n",
      "Computing permutation importance.. Progress: 91%. Estimated remaining time: 26 seconds.\n"
     ]
    },
    {
     "name": "stderr",
     "output_type": "stream",
     "text": [
      " 13. run of importance source...\n"
     ]
    },
    {
     "name": "stdout",
     "output_type": "stream",
     "text": [
      "Computing permutation importance.. Progress: 9%. Estimated remaining time: 5 minutes, 13 seconds.\n",
      "Computing permutation importance.. Progress: 19%. Estimated remaining time: 4 minutes, 35 seconds.\n",
      "Computing permutation importance.. Progress: 29%. Estimated remaining time: 3 minutes, 57 seconds.\n",
      "Computing permutation importance.. Progress: 39%. Estimated remaining time: 3 minutes, 22 seconds.\n",
      "Computing permutation importance.. Progress: 49%. Estimated remaining time: 2 minutes, 47 seconds.\n",
      "Computing permutation importance.. Progress: 59%. Estimated remaining time: 2 minutes, 11 seconds.\n",
      "Computing permutation importance.. Progress: 69%. Estimated remaining time: 1 minute, 40 seconds.\n",
      "Computing permutation importance.. Progress: 78%. Estimated remaining time: 1 minute, 10 seconds.\n",
      "Computing permutation importance.. Progress: 89%. Estimated remaining time: 35 seconds.\n",
      "Computing permutation importance.. Progress: 99%. Estimated remaining time: 2 seconds.\n"
     ]
    },
    {
     "name": "stderr",
     "output_type": "stream",
     "text": [
      " 14. run of importance source...\n"
     ]
    },
    {
     "name": "stdout",
     "output_type": "stream",
     "text": [
      "Computing permutation importance.. Progress: 9%. Estimated remaining time: 5 minutes, 5 seconds.\n",
      "Computing permutation importance.. Progress: 18%. Estimated remaining time: 4 minutes, 42 seconds.\n",
      "Computing permutation importance.. Progress: 28%. Estimated remaining time: 4 minutes, 1 seconds.\n",
      "Computing permutation importance.. Progress: 38%. Estimated remaining time: 3 minutes, 25 seconds.\n",
      "Computing permutation importance.. Progress: 48%. Estimated remaining time: 2 minutes, 50 seconds.\n",
      "Computing permutation importance.. Progress: 58%. Estimated remaining time: 2 minutes, 17 seconds.\n",
      "Computing permutation importance.. Progress: 68%. Estimated remaining time: 1 minute, 42 seconds.\n",
      "Computing permutation importance.. Progress: 79%. Estimated remaining time: 1 minute, 6 seconds.\n",
      "Computing permutation importance.. Progress: 90%. Estimated remaining time: 32 seconds.\n",
      "Computing permutation importance.. Progress: 100%. Estimated remaining time: 0 seconds.\n"
     ]
    },
    {
     "name": "stderr",
     "output_type": "stream",
     "text": [
      " 15. run of importance source...\n"
     ]
    },
    {
     "name": "stdout",
     "output_type": "stream",
     "text": [
      "Computing permutation importance.. Progress: 10%. Estimated remaining time: 4 minutes, 39 seconds.\n",
      "Computing permutation importance.. Progress: 21%. Estimated remaining time: 3 minutes, 58 seconds.\n",
      "Computing permutation importance.. Progress: 30%. Estimated remaining time: 3 minutes, 39 seconds.\n",
      "Computing permutation importance.. Progress: 38%. Estimated remaining time: 3 minutes, 25 seconds.\n",
      "Computing permutation importance.. Progress: 47%. Estimated remaining time: 2 minutes, 58 seconds.\n",
      "Computing permutation importance.. Progress: 58%. Estimated remaining time: 2 minutes, 18 seconds.\n",
      "Computing permutation importance.. Progress: 67%. Estimated remaining time: 1 minute, 49 seconds.\n",
      "Computing permutation importance.. Progress: 76%. Estimated remaining time: 1 minute, 19 seconds.\n",
      "Computing permutation importance.. Progress: 86%. Estimated remaining time: 46 seconds.\n",
      "Computing permutation importance.. Progress: 96%. Estimated remaining time: 13 seconds.\n"
     ]
    },
    {
     "name": "stderr",
     "output_type": "stream",
     "text": [
      " 16. run of importance source...\n"
     ]
    },
    {
     "name": "stdout",
     "output_type": "stream",
     "text": [
      "Computing permutation importance.. Progress: 10%. Estimated remaining time: 4 minutes, 39 seconds.\n",
      "Computing permutation importance.. Progress: 21%. Estimated remaining time: 3 minutes, 58 seconds.\n",
      "Computing permutation importance.. Progress: 31%. Estimated remaining time: 3 minutes, 27 seconds.\n",
      "Computing permutation importance.. Progress: 42%. Estimated remaining time: 2 minutes, 52 seconds.\n",
      "Computing permutation importance.. Progress: 53%. Estimated remaining time: 2 minutes, 22 seconds.\n",
      "Computing permutation importance.. Progress: 64%. Estimated remaining time: 1 minute, 47 seconds.\n",
      "Computing permutation importance.. Progress: 75%. Estimated remaining time: 1 minute, 14 seconds.\n",
      "Computing permutation importance.. Progress: 85%. Estimated remaining time: 44 seconds.\n",
      "Computing permutation importance.. Progress: 95%. Estimated remaining time: 13 seconds.\n"
     ]
    },
    {
     "name": "stderr",
     "output_type": "stream",
     "text": [
      " 17. run of importance source...\n"
     ]
    },
    {
     "name": "stdout",
     "output_type": "stream",
     "text": [
      "Computing permutation importance.. Progress: 10%. Estimated remaining time: 4 minutes, 45 seconds.\n",
      "Computing permutation importance.. Progress: 20%. Estimated remaining time: 4 minutes, 1 seconds.\n",
      "Computing permutation importance.. Progress: 31%. Estimated remaining time: 3 minutes, 25 seconds.\n",
      "Computing permutation importance.. Progress: 42%. Estimated remaining time: 2 minutes, 54 seconds.\n",
      "Computing permutation importance.. Progress: 53%. Estimated remaining time: 2 minutes, 20 seconds.\n",
      "Computing permutation importance.. Progress: 64%. Estimated remaining time: 1 minute, 48 seconds.\n",
      "Computing permutation importance.. Progress: 74%. Estimated remaining time: 1 minute, 16 seconds.\n",
      "Computing permutation importance.. Progress: 85%. Estimated remaining time: 45 seconds.\n",
      "Computing permutation importance.. Progress: 94%. Estimated remaining time: 17 seconds.\n"
     ]
    },
    {
     "name": "stderr",
     "output_type": "stream",
     "text": [
      " 18. run of importance source...\n"
     ]
    },
    {
     "name": "stdout",
     "output_type": "stream",
     "text": [
      "Computing permutation importance.. Progress: 9%. Estimated remaining time: 5 minutes, 5 seconds.\n",
      "Computing permutation importance.. Progress: 20%. Estimated remaining time: 4 minutes, 1 seconds.\n",
      "Computing permutation importance.. Progress: 32%. Estimated remaining time: 3 minutes, 21 seconds.\n",
      "Computing permutation importance.. Progress: 42%. Estimated remaining time: 2 minutes, 51 seconds.\n",
      "Computing permutation importance.. Progress: 53%. Estimated remaining time: 2 minutes, 18 seconds.\n",
      "Computing permutation importance.. Progress: 64%. Estimated remaining time: 1 minute, 47 seconds.\n",
      "Computing permutation importance.. Progress: 75%. Estimated remaining time: 1 minute, 14 seconds.\n",
      "Computing permutation importance.. Progress: 85%. Estimated remaining time: 43 seconds.\n",
      "Computing permutation importance.. Progress: 96%. Estimated remaining time: 11 seconds.\n"
     ]
    },
    {
     "name": "stderr",
     "output_type": "stream",
     "text": [
      " 19. run of importance source...\n"
     ]
    },
    {
     "name": "stdout",
     "output_type": "stream",
     "text": [
      "Computing permutation importance.. Progress: 10%. Estimated remaining time: 4 minutes, 45 seconds.\n",
      "Computing permutation importance.. Progress: 21%. Estimated remaining time: 3 minutes, 56 seconds.\n",
      "Computing permutation importance.. Progress: 31%. Estimated remaining time: 3 minutes, 23 seconds.\n",
      "Computing permutation importance.. Progress: 42%. Estimated remaining time: 2 minutes, 52 seconds.\n",
      "Computing permutation importance.. Progress: 52%. Estimated remaining time: 2 minutes, 22 seconds.\n",
      "Computing permutation importance.. Progress: 62%. Estimated remaining time: 1 minute, 54 seconds.\n",
      "Computing permutation importance.. Progress: 73%. Estimated remaining time: 1 minute, 20 seconds.\n",
      "Computing permutation importance.. Progress: 85%. Estimated remaining time: 45 seconds.\n",
      "Computing permutation importance.. Progress: 95%. Estimated remaining time: 15 seconds.\n"
     ]
    },
    {
     "name": "stderr",
     "output_type": "stream",
     "text": [
      " 20. run of importance source...\n"
     ]
    },
    {
     "name": "stdout",
     "output_type": "stream",
     "text": [
      "Computing permutation importance.. Progress: 10%. Estimated remaining time: 4 minutes, 48 seconds.\n",
      "Computing permutation importance.. Progress: 21%. Estimated remaining time: 4 minutes, 2 seconds.\n",
      "Computing permutation importance.. Progress: 31%. Estimated remaining time: 3 minutes, 25 seconds.\n",
      "Computing permutation importance.. Progress: 42%. Estimated remaining time: 2 minutes, 52 seconds.\n",
      "Computing permutation importance.. Progress: 53%. Estimated remaining time: 2 minutes, 21 seconds.\n",
      "Computing permutation importance.. Progress: 64%. Estimated remaining time: 1 minute, 48 seconds.\n",
      "Computing permutation importance.. Progress: 74%. Estimated remaining time: 1 minute, 16 seconds.\n",
      "Computing permutation importance.. Progress: 85%. Estimated remaining time: 44 seconds.\n",
      "Computing permutation importance.. Progress: 96%. Estimated remaining time: 13 seconds.\n"
     ]
    },
    {
     "name": "stderr",
     "output_type": "stream",
     "text": [
      " 21. run of importance source...\n"
     ]
    },
    {
     "name": "stdout",
     "output_type": "stream",
     "text": [
      "Computing permutation importance.. Progress: 10%. Estimated remaining time: 4 minutes, 48 seconds.\n",
      "Computing permutation importance.. Progress: 20%. Estimated remaining time: 4 minutes, 5 seconds.\n",
      "Computing permutation importance.. Progress: 31%. Estimated remaining time: 3 minutes, 31 seconds.\n",
      "Computing permutation importance.. Progress: 41%. Estimated remaining time: 2 minutes, 59 seconds.\n",
      "Computing permutation importance.. Progress: 51%. Estimated remaining time: 2 minutes, 28 seconds.\n",
      "Computing permutation importance.. Progress: 62%. Estimated remaining time: 1 minute, 55 seconds.\n",
      "Computing permutation importance.. Progress: 73%. Estimated remaining time: 1 minute, 22 seconds.\n",
      "Computing permutation importance.. Progress: 84%. Estimated remaining time: 49 seconds.\n",
      "Computing permutation importance.. Progress: 94%. Estimated remaining time: 17 seconds.\n"
     ]
    },
    {
     "name": "stderr",
     "output_type": "stream",
     "text": [
      "After 21 iterations, +1.8 hours: \n",
      " rejected 20132 attributes: A1BG, A1BG-AS1, A1CF, A2M, A2M-AS1 and 20127 more;\n",
      " still have 42 attributes left.\n",
      "\n",
      " 22. run of importance source...\n",
      " 23. run of importance source...\n",
      " 24. run of importance source...\n",
      " 25. run of importance source...\n",
      " 26. run of importance source...\n",
      "After 26 iterations, +1.8 hours: \n",
      " rejected 8 attributes: ARAF, BOK, EN1, ITGB5, LINC00608 and 3 more;\n",
      " still have 34 attributes left.\n",
      "\n",
      " 27. run of importance source...\n",
      " 28. run of importance source...\n",
      " 29. run of importance source...\n",
      " 30. run of importance source...\n",
      "After 30 iterations, +1.8 hours: \n",
      " rejected 3 attributes: ABCB1, SKP2, SLN;\n",
      " still have 31 attributes left.\n",
      "\n",
      " 31. run of importance source...\n",
      " 32. run of importance source...\n",
      " 33. run of importance source...\n",
      " 34. run of importance source...\n",
      "After 34 iterations, +1.8 hours: \n",
      " rejected 2 attributes: ALDH1B1, HIF1A;\n",
      " still have 29 attributes left.\n",
      "\n",
      " 35. run of importance source...\n",
      " 36. run of importance source...\n",
      " 37. run of importance source...\n",
      " 38. run of importance source...\n",
      "After 38 iterations, +1.8 hours: \n",
      " rejected 1 attribute: LINC02114;\n",
      " still have 28 attributes left.\n",
      "\n",
      " 39. run of importance source...\n",
      " 40. run of importance source...\n",
      " 41. run of importance source...\n",
      " 42. run of importance source...\n",
      " 43. run of importance source...\n",
      " 44. run of importance source...\n",
      " 45. run of importance source...\n",
      " 46. run of importance source...\n",
      " 47. run of importance source...\n",
      " 48. run of importance source...\n",
      " 49. run of importance source...\n",
      " 50. run of importance source...\n",
      " 51. run of importance source...\n",
      " 52. run of importance source...\n",
      " 53. run of importance source...\n",
      " 54. run of importance source...\n",
      "After 54 iterations, +1.8 hours: \n",
      " confirmed 1 attribute: MAP4K3;\n",
      " still have 27 attributes left.\n",
      "\n",
      " 55. run of importance source...\n",
      " 56. run of importance source...\n",
      " 57. run of importance source...\n",
      " 58. run of importance source...\n",
      " 59. run of importance source...\n",
      " 60. run of importance source...\n",
      " 61. run of importance source...\n",
      " 62. run of importance source...\n",
      " 63. run of importance source...\n",
      " 64. run of importance source...\n",
      " 65. run of importance source...\n",
      " 66. run of importance source...\n",
      "After 66 iterations, +1.8 hours: \n",
      " rejected 1 attribute: FLNC;\n",
      " still have 26 attributes left.\n",
      "\n",
      " 67. run of importance source...\n",
      " 68. run of importance source...\n",
      " 69. run of importance source...\n",
      " 70. run of importance source...\n",
      " 71. run of importance source...\n",
      " 72. run of importance source...\n",
      " 73. run of importance source...\n",
      " 74. run of importance source...\n",
      "After 74 iterations, +1.8 hours: \n",
      " confirmed 1 attribute: LOC107986785;\n",
      " still have 25 attributes left.\n",
      "\n",
      " 75. run of importance source...\n",
      " 76. run of importance source...\n",
      " 77. run of importance source...\n",
      "After 77 iterations, +1.8 hours: \n",
      " confirmed 2 attributes: ARRDC4, PSPC1;\n",
      " still have 23 attributes left.\n",
      "\n",
      " 78. run of importance source...\n",
      " 79. run of importance source...\n",
      " 80. run of importance source...\n",
      "After 80 iterations, +1.8 hours: \n",
      " rejected 1 attribute: SLC30A2;\n",
      " still have 22 attributes left.\n",
      "\n",
      " 81. run of importance source...\n",
      " 82. run of importance source...\n",
      " 83. run of importance source...\n",
      " 84. run of importance source...\n",
      " 85. run of importance source...\n",
      " 86. run of importance source...\n",
      "After 86 iterations, +1.8 hours: \n",
      " confirmed 6 attributes: APOA1, C4BPB, FHOD1, MPP7, MTCL1 and 1 more;\n",
      " still have 16 attributes left.\n",
      "\n",
      " 87. run of importance source...\n",
      " 88. run of importance source...\n",
      "After 88 iterations, +1.8 hours: \n",
      " confirmed 2 attributes: SLC22A2, XKRX;\n",
      " still have 14 attributes left.\n",
      "\n",
      " 89. run of importance source...\n",
      " 90. run of importance source...\n",
      " 91. run of importance source...\n",
      " 92. run of importance source...\n",
      " 93. run of importance source...\n",
      " 94. run of importance source...\n",
      "After 94 iterations, +1.8 hours: \n",
      " confirmed 1 attribute: RPL30;\n",
      " still have 13 attributes left.\n",
      "\n",
      " 95. run of importance source...\n",
      " 96. run of importance source...\n",
      "After 96 iterations, +1.8 hours: \n",
      " confirmed 3 attributes: LRRC57, POP4, UBE2V2;\n",
      " still have 10 attributes left.\n",
      "\n",
      " 97. run of importance source...\n",
      " 98. run of importance source...\n",
      " 99. run of importance source...\n",
      "After 99 iterations, +1.8 hours: \n",
      " confirmed 1 attribute: DCDC2;\n",
      " still have 9 attributes left.\n",
      "\n"
     ]
    },
    {
     "name": "stdout",
     "output_type": "stream",
     "text": [
      "\n",
      "Drug8: Boruta is running for Topotecan"
     ]
    },
    {
     "name": "stderr",
     "output_type": "stream",
     "text": [
      " 1. run of importance source...\n"
     ]
    },
    {
     "name": "stdout",
     "output_type": "stream",
     "text": [
      "Computing permutation importance.. Progress: 15%. Estimated remaining time: 2 minutes, 52 seconds.\n",
      "Computing permutation importance.. Progress: 31%. Estimated remaining time: 2 minutes, 16 seconds.\n",
      "Computing permutation importance.. Progress: 48%. Estimated remaining time: 1 minute, 42 seconds.\n",
      "Computing permutation importance.. Progress: 64%. Estimated remaining time: 1 minute, 9 seconds.\n",
      "Computing permutation importance.. Progress: 81%. Estimated remaining time: 36 seconds.\n",
      "Computing permutation importance.. Progress: 98%. Estimated remaining time: 3 seconds.\n"
     ]
    },
    {
     "name": "stderr",
     "output_type": "stream",
     "text": [
      " 2. run of importance source...\n"
     ]
    },
    {
     "name": "stdout",
     "output_type": "stream",
     "text": [
      "Computing permutation importance.. Progress: 16%. Estimated remaining time: 2 minutes, 42 seconds.\n",
      "Computing permutation importance.. Progress: 33%. Estimated remaining time: 2 minutes, 5 seconds.\n",
      "Computing permutation importance.. Progress: 49%. Estimated remaining time: 1 minute, 36 seconds.\n",
      "Computing permutation importance.. Progress: 66%. Estimated remaining time: 1 minute, 3 seconds.\n",
      "Computing permutation importance.. Progress: 83%. Estimated remaining time: 31 seconds.\n",
      "Computing permutation importance.. Progress: 100%. Estimated remaining time: 0 seconds.\n"
     ]
    },
    {
     "name": "stderr",
     "output_type": "stream",
     "text": [
      " 3. run of importance source...\n"
     ]
    },
    {
     "name": "stdout",
     "output_type": "stream",
     "text": [
      "Computing permutation importance.. Progress: 16%. Estimated remaining time: 2 minutes, 45 seconds.\n",
      "Computing permutation importance.. Progress: 32%. Estimated remaining time: 2 minutes, 9 seconds.\n",
      "Computing permutation importance.. Progress: 49%. Estimated remaining time: 1 minute, 36 seconds.\n",
      "Computing permutation importance.. Progress: 66%. Estimated remaining time: 1 minute, 3 seconds.\n",
      "Computing permutation importance.. Progress: 84%. Estimated remaining time: 30 seconds.\n",
      "Computing permutation importance.. Progress: 100%. Estimated remaining time: 0 seconds.\n"
     ]
    },
    {
     "name": "stderr",
     "output_type": "stream",
     "text": [
      " 4. run of importance source...\n"
     ]
    },
    {
     "name": "stdout",
     "output_type": "stream",
     "text": [
      "Computing permutation importance.. Progress: 16%. Estimated remaining time: 2 minutes, 43 seconds.\n",
      "Computing permutation importance.. Progress: 33%. Estimated remaining time: 2 minutes, 6 seconds.\n",
      "Computing permutation importance.. Progress: 50%. Estimated remaining time: 1 minute, 34 seconds.\n",
      "Computing permutation importance.. Progress: 66%. Estimated remaining time: 1 minute, 3 seconds.\n",
      "Computing permutation importance.. Progress: 83%. Estimated remaining time: 31 seconds.\n",
      "Computing permutation importance.. Progress: 100%. Estimated remaining time: 0 seconds.\n"
     ]
    },
    {
     "name": "stderr",
     "output_type": "stream",
     "text": [
      " 5. run of importance source...\n"
     ]
    },
    {
     "name": "stdout",
     "output_type": "stream",
     "text": [
      "Computing permutation importance.. Progress: 16%. Estimated remaining time: 2 minutes, 45 seconds.\n",
      "Computing permutation importance.. Progress: 33%. Estimated remaining time: 2 minutes, 7 seconds.\n",
      "Computing permutation importance.. Progress: 49%. Estimated remaining time: 1 minute, 35 seconds.\n",
      "Computing permutation importance.. Progress: 66%. Estimated remaining time: 1 minute, 3 seconds.\n",
      "Computing permutation importance.. Progress: 83%. Estimated remaining time: 32 seconds.\n",
      "Computing permutation importance.. Progress: 100%. Estimated remaining time: 0 seconds.\n"
     ]
    },
    {
     "name": "stderr",
     "output_type": "stream",
     "text": [
      " 6. run of importance source...\n"
     ]
    },
    {
     "name": "stdout",
     "output_type": "stream",
     "text": [
      "Computing permutation importance.. Progress: 16%. Estimated remaining time: 2 minutes, 47 seconds.\n",
      "Computing permutation importance.. Progress: 32%. Estimated remaining time: 2 minutes, 11 seconds.\n",
      "Computing permutation importance.. Progress: 49%. Estimated remaining time: 1 minute, 37 seconds.\n",
      "Computing permutation importance.. Progress: 65%. Estimated remaining time: 1 minute, 6 seconds.\n",
      "Computing permutation importance.. Progress: 82%. Estimated remaining time: 34 seconds.\n",
      "Computing permutation importance.. Progress: 98%. Estimated remaining time: 3 seconds.\n"
     ]
    },
    {
     "name": "stderr",
     "output_type": "stream",
     "text": [
      " 7. run of importance source...\n"
     ]
    },
    {
     "name": "stdout",
     "output_type": "stream",
     "text": [
      "Computing permutation importance.. Progress: 16%. Estimated remaining time: 2 minutes, 47 seconds.\n",
      "Computing permutation importance.. Progress: 31%. Estimated remaining time: 2 minutes, 15 seconds.\n",
      "Computing permutation importance.. Progress: 48%. Estimated remaining time: 1 minute, 42 seconds.\n",
      "Computing permutation importance.. Progress: 64%. Estimated remaining time: 1 minute, 9 seconds.\n",
      "Computing permutation importance.. Progress: 81%. Estimated remaining time: 35 seconds.\n",
      "Computing permutation importance.. Progress: 99%. Estimated remaining time: 2 seconds.\n"
     ]
    },
    {
     "name": "stderr",
     "output_type": "stream",
     "text": [
      " 8. run of importance source...\n"
     ]
    },
    {
     "name": "stdout",
     "output_type": "stream",
     "text": [
      "Computing permutation importance.. Progress: 16%. Estimated remaining time: 2 minutes, 48 seconds.\n",
      "Computing permutation importance.. Progress: 32%. Estimated remaining time: 2 minutes, 13 seconds.\n",
      "Computing permutation importance.. Progress: 48%. Estimated remaining time: 1 minute, 41 seconds.\n",
      "Computing permutation importance.. Progress: 65%. Estimated remaining time: 1 minute, 8 seconds.\n",
      "Computing permutation importance.. Progress: 82%. Estimated remaining time: 35 seconds.\n",
      "Computing permutation importance.. Progress: 98%. Estimated remaining time: 4 seconds.\n"
     ]
    },
    {
     "name": "stderr",
     "output_type": "stream",
     "text": [
      " 9. run of importance source...\n"
     ]
    },
    {
     "name": "stdout",
     "output_type": "stream",
     "text": [
      "Computing permutation importance.. Progress: 15%. Estimated remaining time: 2 minutes, 50 seconds.\n",
      "Computing permutation importance.. Progress: 32%. Estimated remaining time: 2 minutes, 11 seconds.\n",
      "Computing permutation importance.. Progress: 49%. Estimated remaining time: 1 minute, 38 seconds.\n",
      "Computing permutation importance.. Progress: 66%. Estimated remaining time: 1 minute, 5 seconds.\n",
      "Computing permutation importance.. Progress: 82%. Estimated remaining time: 35 seconds.\n",
      "Computing permutation importance.. Progress: 98%. Estimated remaining time: 3 seconds.\n"
     ]
    },
    {
     "name": "stderr",
     "output_type": "stream",
     "text": [
      " 10. run of importance source...\n"
     ]
    },
    {
     "name": "stdout",
     "output_type": "stream",
     "text": [
      "Computing permutation importance.. Progress: 16%. Estimated remaining time: 2 minutes, 38 seconds.\n",
      "Computing permutation importance.. Progress: 33%. Estimated remaining time: 2 minutes, 4 seconds.\n",
      "Computing permutation importance.. Progress: 49%. Estimated remaining time: 1 minute, 36 seconds.\n",
      "Computing permutation importance.. Progress: 66%. Estimated remaining time: 1 minute, 5 seconds.\n",
      "Computing permutation importance.. Progress: 83%. Estimated remaining time: 32 seconds.\n",
      "Computing permutation importance.. Progress: 99%. Estimated remaining time: 1 seconds.\n"
     ]
    },
    {
     "name": "stderr",
     "output_type": "stream",
     "text": [
      " 11. run of importance source...\n"
     ]
    },
    {
     "name": "stdout",
     "output_type": "stream",
     "text": [
      "Computing permutation importance.. Progress: 16%. Estimated remaining time: 2 minutes, 45 seconds.\n",
      "Computing permutation importance.. Progress: 33%. Estimated remaining time: 2 minutes, 8 seconds.\n",
      "Computing permutation importance.. Progress: 49%. Estimated remaining time: 1 minute, 37 seconds.\n",
      "Computing permutation importance.. Progress: 65%. Estimated remaining time: 1 minute, 6 seconds.\n",
      "Computing permutation importance.. Progress: 82%. Estimated remaining time: 33 seconds.\n",
      "Computing permutation importance.. Progress: 99%. Estimated remaining time: 2 seconds.\n"
     ]
    },
    {
     "name": "stderr",
     "output_type": "stream",
     "text": [
      " 12. run of importance source...\n"
     ]
    },
    {
     "name": "stdout",
     "output_type": "stream",
     "text": [
      "Computing permutation importance.. Progress: 16%. Estimated remaining time: 2 minutes, 45 seconds.\n",
      "Computing permutation importance.. Progress: 32%. Estimated remaining time: 2 minutes, 9 seconds.\n",
      "Computing permutation importance.. Progress: 49%. Estimated remaining time: 1 minute, 35 seconds.\n",
      "Computing permutation importance.. Progress: 66%. Estimated remaining time: 1 minute, 5 seconds.\n",
      "Computing permutation importance.. Progress: 83%. Estimated remaining time: 32 seconds.\n",
      "Computing permutation importance.. Progress: 100%. Estimated remaining time: 0 seconds.\n"
     ]
    },
    {
     "name": "stderr",
     "output_type": "stream",
     "text": [
      " 13. run of importance source...\n"
     ]
    },
    {
     "name": "stdout",
     "output_type": "stream",
     "text": [
      "Computing permutation importance.. Progress: 16%. Estimated remaining time: 2 minutes, 40 seconds.\n",
      "Computing permutation importance.. Progress: 33%. Estimated remaining time: 2 minutes, 7 seconds.\n",
      "Computing permutation importance.. Progress: 50%. Estimated remaining time: 1 minute, 35 seconds.\n",
      "Computing permutation importance.. Progress: 66%. Estimated remaining time: 1 minute, 3 seconds.\n",
      "Computing permutation importance.. Progress: 82%. Estimated remaining time: 33 seconds.\n",
      "Computing permutation importance.. Progress: 99%. Estimated remaining time: 1 seconds.\n"
     ]
    },
    {
     "name": "stderr",
     "output_type": "stream",
     "text": [
      " 14. run of importance source...\n"
     ]
    },
    {
     "name": "stdout",
     "output_type": "stream",
     "text": [
      "Computing permutation importance.. Progress: 16%. Estimated remaining time: 2 minutes, 45 seconds.\n",
      "Computing permutation importance.. Progress: 33%. Estimated remaining time: 2 minutes, 7 seconds.\n",
      "Computing permutation importance.. Progress: 48%. Estimated remaining time: 1 minute, 39 seconds.\n",
      "Computing permutation importance.. Progress: 65%. Estimated remaining time: 1 minute, 6 seconds.\n",
      "Computing permutation importance.. Progress: 82%. Estimated remaining time: 34 seconds.\n",
      "Computing permutation importance.. Progress: 99%. Estimated remaining time: 1 seconds.\n"
     ]
    },
    {
     "name": "stderr",
     "output_type": "stream",
     "text": [
      " 15. run of importance source...\n"
     ]
    },
    {
     "name": "stdout",
     "output_type": "stream",
     "text": [
      "Computing permutation importance.. Progress: 16%. Estimated remaining time: 2 minutes, 42 seconds.\n",
      "Computing permutation importance.. Progress: 33%. Estimated remaining time: 2 minutes, 5 seconds.\n",
      "Computing permutation importance.. Progress: 49%. Estimated remaining time: 1 minute, 35 seconds.\n",
      "Computing permutation importance.. Progress: 66%. Estimated remaining time: 1 minute, 3 seconds.\n",
      "Computing permutation importance.. Progress: 83%. Estimated remaining time: 32 seconds.\n",
      "Computing permutation importance.. Progress: 100%. Estimated remaining time: 0 seconds.\n"
     ]
    },
    {
     "name": "stderr",
     "output_type": "stream",
     "text": [
      " 16. run of importance source...\n"
     ]
    },
    {
     "name": "stdout",
     "output_type": "stream",
     "text": [
      "Computing permutation importance.. Progress: 16%. Estimated remaining time: 2 minutes, 45 seconds.\n",
      "Computing permutation importance.. Progress: 32%. Estimated remaining time: 2 minutes, 11 seconds.\n",
      "Computing permutation importance.. Progress: 49%. Estimated remaining time: 1 minute, 39 seconds.\n",
      "Computing permutation importance.. Progress: 65%. Estimated remaining time: 1 minute, 6 seconds.\n",
      "Computing permutation importance.. Progress: 83%. Estimated remaining time: 32 seconds.\n",
      "Computing permutation importance.. Progress: 100%. Estimated remaining time: 0 seconds.\n"
     ]
    },
    {
     "name": "stderr",
     "output_type": "stream",
     "text": [
      " 17. run of importance source...\n"
     ]
    },
    {
     "name": "stdout",
     "output_type": "stream",
     "text": [
      "Computing permutation importance.. Progress: 16%. Estimated remaining time: 2 minutes, 40 seconds.\n",
      "Computing permutation importance.. Progress: 32%. Estimated remaining time: 2 minutes, 10 seconds.\n",
      "Computing permutation importance.. Progress: 49%. Estimated remaining time: 1 minute, 38 seconds.\n",
      "Computing permutation importance.. Progress: 65%. Estimated remaining time: 1 minute, 6 seconds.\n",
      "Computing permutation importance.. Progress: 81%. Estimated remaining time: 35 seconds.\n",
      "Computing permutation importance.. Progress: 97%. Estimated remaining time: 4 seconds.\n"
     ]
    },
    {
     "name": "stderr",
     "output_type": "stream",
     "text": [
      " 18. run of importance source...\n"
     ]
    },
    {
     "name": "stdout",
     "output_type": "stream",
     "text": [
      "Computing permutation importance.. Progress: 16%. Estimated remaining time: 2 minutes, 38 seconds.\n",
      "Computing permutation importance.. Progress: 33%. Estimated remaining time: 2 minutes, 5 seconds.\n",
      "Computing permutation importance.. Progress: 50%. Estimated remaining time: 1 minute, 32 seconds.\n",
      "Computing permutation importance.. Progress: 67%. Estimated remaining time: 1 minute, 2 seconds.\n",
      "Computing permutation importance.. Progress: 84%. Estimated remaining time: 30 seconds.\n"
     ]
    },
    {
     "name": "stderr",
     "output_type": "stream",
     "text": [
      " 19. run of importance source...\n"
     ]
    },
    {
     "name": "stdout",
     "output_type": "stream",
     "text": [
      "Computing permutation importance.. Progress: 16%. Estimated remaining time: 2 minutes, 42 seconds.\n",
      "Computing permutation importance.. Progress: 32%. Estimated remaining time: 2 minutes, 9 seconds.\n",
      "Computing permutation importance.. Progress: 50%. Estimated remaining time: 1 minute, 33 seconds.\n",
      "Computing permutation importance.. Progress: 66%. Estimated remaining time: 1 minute, 2 seconds.\n",
      "Computing permutation importance.. Progress: 83%. Estimated remaining time: 31 seconds.\n",
      "Computing permutation importance.. Progress: 100%. Estimated remaining time: 0 seconds.\n"
     ]
    },
    {
     "name": "stderr",
     "output_type": "stream",
     "text": [
      " 20. run of importance source...\n"
     ]
    },
    {
     "name": "stdout",
     "output_type": "stream",
     "text": [
      "Computing permutation importance.. Progress: 16%. Estimated remaining time: 2 minutes, 38 seconds.\n",
      "Computing permutation importance.. Progress: 33%. Estimated remaining time: 2 minutes, 3 seconds.\n",
      "Computing permutation importance.. Progress: 50%. Estimated remaining time: 1 minute, 33 seconds.\n",
      "Computing permutation importance.. Progress: 67%. Estimated remaining time: 1 minute, 1 seconds.\n",
      "Computing permutation importance.. Progress: 83%. Estimated remaining time: 30 seconds.\n",
      "Computing permutation importance.. Progress: 100%. Estimated remaining time: 0 seconds.\n"
     ]
    },
    {
     "name": "stderr",
     "output_type": "stream",
     "text": [
      " 21. run of importance source...\n"
     ]
    },
    {
     "name": "stdout",
     "output_type": "stream",
     "text": [
      "Computing permutation importance.. Progress: 16%. Estimated remaining time: 2 minutes, 47 seconds.\n",
      "Computing permutation importance.. Progress: 32%. Estimated remaining time: 2 minutes, 9 seconds.\n",
      "Computing permutation importance.. Progress: 50%. Estimated remaining time: 1 minute, 35 seconds.\n",
      "Computing permutation importance.. Progress: 66%. Estimated remaining time: 1 minute, 3 seconds.\n",
      "Computing permutation importance.. Progress: 83%. Estimated remaining time: 32 seconds.\n",
      "Computing permutation importance.. Progress: 100%. Estimated remaining time: 0 seconds.\n"
     ]
    },
    {
     "name": "stderr",
     "output_type": "stream",
     "text": [
      "After 21 iterations, +1.2 hours: \n",
      " rejected 20107 attributes: A1BG, A1BG-AS1, A1CF, A2M, A2M-AS1 and 20102 more;\n",
      " still have 67 attributes left.\n",
      "\n",
      " 22. run of importance source...\n",
      " 23. run of importance source...\n",
      " 24. run of importance source...\n",
      " 25. run of importance source...\n",
      " 26. run of importance source...\n",
      "After 26 iterations, +1.2 hours: \n",
      " rejected 14 attributes: ABLIM3, ARHGAP5-AS1, CSNK1G2, DSTN, EBP and 9 more;\n",
      " still have 53 attributes left.\n",
      "\n",
      " 27. run of importance source...\n",
      " 28. run of importance source...\n",
      " 29. run of importance source...\n",
      " 30. run of importance source...\n",
      "After 30 iterations, +1.2 hours: \n",
      " rejected 3 attributes: GIPC1, GPR143, MANEA;\n",
      " still have 50 attributes left.\n",
      "\n",
      " 31. run of importance source...\n",
      " 32. run of importance source...\n",
      " 33. run of importance source...\n",
      " 34. run of importance source...\n",
      " 35. run of importance source...\n",
      " 36. run of importance source...\n",
      " 37. run of importance source...\n",
      " 38. run of importance source...\n",
      " 39. run of importance source...\n",
      " 40. run of importance source...\n",
      " 41. run of importance source...\n",
      " 42. run of importance source...\n",
      " 43. run of importance source...\n",
      " 44. run of importance source...\n",
      " 45. run of importance source...\n",
      " 46. run of importance source...\n",
      " 47. run of importance source...\n",
      " 48. run of importance source...\n",
      "After 48 iterations, +1.2 hours: \n",
      " confirmed 1 attribute: SLFN11;\n",
      " rejected 1 attribute: PARM1;\n",
      " still have 48 attributes left.\n",
      "\n",
      " 49. run of importance source...\n",
      " 50. run of importance source...\n",
      " 51. run of importance source...\n",
      " 52. run of importance source...\n",
      " 53. run of importance source...\n",
      " 54. run of importance source...\n",
      " 55. run of importance source...\n",
      " 56. run of importance source...\n",
      " 57. run of importance source...\n",
      " 58. run of importance source...\n",
      " 59. run of importance source...\n",
      " 60. run of importance source...\n",
      " 61. run of importance source...\n",
      " 62. run of importance source...\n",
      " 63. run of importance source...\n",
      " 64. run of importance source...\n",
      " 65. run of importance source...\n",
      " 66. run of importance source...\n",
      " 67. run of importance source...\n",
      " 68. run of importance source...\n",
      " 69. run of importance source...\n",
      "After 69 iterations, +1.2 hours: \n",
      " confirmed 1 attribute: FBL;\n",
      " rejected 1 attribute: CDKN1B;\n",
      " still have 46 attributes left.\n",
      "\n",
      " 70. run of importance source...\n",
      " 71. run of importance source...\n",
      " 72. run of importance source...\n",
      "After 72 iterations, +1.2 hours: \n",
      " confirmed 1 attribute: ANP32A;\n",
      " still have 45 attributes left.\n",
      "\n",
      " 73. run of importance source...\n",
      " 74. run of importance source...\n",
      " 75. run of importance source...\n",
      " 76. run of importance source...\n",
      " 77. run of importance source...\n",
      "After 77 iterations, +1.2 hours: \n",
      " confirmed 2 attributes: ITGB5, SEZ6L2;\n",
      " still have 43 attributes left.\n",
      "\n",
      " 78. run of importance source...\n",
      " 79. run of importance source...\n",
      " 80. run of importance source...\n",
      " 81. run of importance source...\n",
      " 82. run of importance source...\n",
      " 83. run of importance source...\n",
      " 84. run of importance source...\n",
      " 85. run of importance source...\n",
      " 86. run of importance source...\n",
      "After 86 iterations, +1.2 hours: \n",
      " confirmed 5 attributes: CRISPLD2, IGLV2-14, MCF2L, PDK4, RPL4;\n",
      " still have 38 attributes left.\n",
      "\n",
      " 87. run of importance source...\n",
      " 88. run of importance source...\n",
      "After 88 iterations, +1.2 hours: \n",
      " confirmed 1 attribute: SP4;\n",
      " still have 37 attributes left.\n",
      "\n",
      " 89. run of importance source...\n",
      " 90. run of importance source...\n",
      " 91. run of importance source...\n",
      "After 91 iterations, +1.2 hours: \n",
      " confirmed 1 attribute: INPP5B;\n",
      " still have 36 attributes left.\n",
      "\n",
      " 92. run of importance source...\n",
      " 93. run of importance source...\n",
      " 94. run of importance source...\n",
      "After 94 iterations, +1.2 hours: \n",
      " confirmed 3 attributes: AMBRA1, CRYGS, TEX36-AS1;\n",
      " still have 33 attributes left.\n",
      "\n",
      " 95. run of importance source...\n",
      " 96. run of importance source...\n",
      "After 96 iterations, +1.2 hours: \n",
      " confirmed 2 attributes: HMGB2, TAF5;\n",
      " still have 31 attributes left.\n",
      "\n",
      " 97. run of importance source...\n",
      " 98. run of importance source...\n",
      " 99. run of importance source...\n",
      "After 99 iterations, +1.2 hours: \n",
      " confirmed 1 attribute: IKZF5;\n",
      " rejected 1 attribute: VASN;\n",
      " still have 29 attributes left.\n",
      "\n"
     ]
    },
    {
     "name": "stdout",
     "output_type": "stream",
     "text": [
      "\n",
      "Drug9: Boruta is running for LBW242"
     ]
    },
    {
     "name": "stderr",
     "output_type": "stream",
     "text": [
      " 1. run of importance source...\n"
     ]
    },
    {
     "name": "stdout",
     "output_type": "stream",
     "text": [
      "Computing permutation importance.. Progress: 24%. Estimated remaining time: 1 minute, 40 seconds.\n",
      "Computing permutation importance.. Progress: 48%. Estimated remaining time: 1 minute, 6 seconds.\n",
      "Computing permutation importance.. Progress: 73%. Estimated remaining time: 34 seconds.\n",
      "Computing permutation importance.. Progress: 98%. Estimated remaining time: 2 seconds.\n"
     ]
    },
    {
     "name": "stderr",
     "output_type": "stream",
     "text": [
      " 2. run of importance source...\n"
     ]
    },
    {
     "name": "stdout",
     "output_type": "stream",
     "text": [
      "Computing permutation importance.. Progress: 23%. Estimated remaining time: 1 minute, 43 seconds.\n",
      "Computing permutation importance.. Progress: 47%. Estimated remaining time: 1 minute, 8 seconds.\n",
      "Computing permutation importance.. Progress: 71%. Estimated remaining time: 37 seconds.\n",
      "Computing permutation importance.. Progress: 96%. Estimated remaining time: 5 seconds.\n"
     ]
    },
    {
     "name": "stderr",
     "output_type": "stream",
     "text": [
      " 3. run of importance source...\n"
     ]
    },
    {
     "name": "stdout",
     "output_type": "stream",
     "text": [
      "Computing permutation importance.. Progress: 24%. Estimated remaining time: 1 minute, 40 seconds.\n",
      "Computing permutation importance.. Progress: 49%. Estimated remaining time: 1 minute, 5 seconds.\n",
      "Computing permutation importance.. Progress: 72%. Estimated remaining time: 35 seconds.\n",
      "Computing permutation importance.. Progress: 97%. Estimated remaining time: 3 seconds.\n"
     ]
    },
    {
     "name": "stderr",
     "output_type": "stream",
     "text": [
      " 4. run of importance source...\n"
     ]
    },
    {
     "name": "stdout",
     "output_type": "stream",
     "text": [
      "Computing permutation importance.. Progress: 23%. Estimated remaining time: 1 minute, 43 seconds.\n",
      "Computing permutation importance.. Progress: 47%. Estimated remaining time: 1 minute, 9 seconds.\n",
      "Computing permutation importance.. Progress: 71%. Estimated remaining time: 37 seconds.\n",
      "Computing permutation importance.. Progress: 95%. Estimated remaining time: 6 seconds.\n"
     ]
    },
    {
     "name": "stderr",
     "output_type": "stream",
     "text": [
      " 5. run of importance source...\n"
     ]
    },
    {
     "name": "stdout",
     "output_type": "stream",
     "text": [
      "Computing permutation importance.. Progress: 23%. Estimated remaining time: 1 minute, 42 seconds.\n",
      "Computing permutation importance.. Progress: 47%. Estimated remaining time: 1 minute, 9 seconds.\n",
      "Computing permutation importance.. Progress: 72%. Estimated remaining time: 36 seconds.\n",
      "Computing permutation importance.. Progress: 95%. Estimated remaining time: 5 seconds.\n"
     ]
    },
    {
     "name": "stderr",
     "output_type": "stream",
     "text": [
      " 6. run of importance source...\n"
     ]
    },
    {
     "name": "stdout",
     "output_type": "stream",
     "text": [
      "Computing permutation importance.. Progress: 23%. Estimated remaining time: 1 minute, 41 seconds.\n",
      "Computing permutation importance.. Progress: 47%. Estimated remaining time: 1 minute, 9 seconds.\n",
      "Computing permutation importance.. Progress: 71%. Estimated remaining time: 38 seconds.\n",
      "Computing permutation importance.. Progress: 95%. Estimated remaining time: 6 seconds.\n"
     ]
    },
    {
     "name": "stderr",
     "output_type": "stream",
     "text": [
      " 7. run of importance source...\n"
     ]
    },
    {
     "name": "stdout",
     "output_type": "stream",
     "text": [
      "Computing permutation importance.. Progress: 24%. Estimated remaining time: 1 minute, 39 seconds.\n",
      "Computing permutation importance.. Progress: 47%. Estimated remaining time: 1 minute, 8 seconds.\n",
      "Computing permutation importance.. Progress: 72%. Estimated remaining time: 36 seconds.\n",
      "Computing permutation importance.. Progress: 96%. Estimated remaining time: 5 seconds.\n"
     ]
    },
    {
     "name": "stderr",
     "output_type": "stream",
     "text": [
      " 8. run of importance source...\n"
     ]
    },
    {
     "name": "stdout",
     "output_type": "stream",
     "text": [
      "Computing permutation importance.. Progress: 24%. Estimated remaining time: 1 minute, 40 seconds.\n",
      "Computing permutation importance.. Progress: 47%. Estimated remaining time: 1 minute, 9 seconds.\n",
      "Computing permutation importance.. Progress: 71%. Estimated remaining time: 38 seconds.\n",
      "Computing permutation importance.. Progress: 94%. Estimated remaining time: 7 seconds.\n"
     ]
    },
    {
     "name": "stderr",
     "output_type": "stream",
     "text": [
      " 9. run of importance source...\n"
     ]
    },
    {
     "name": "stdout",
     "output_type": "stream",
     "text": [
      "Computing permutation importance.. Progress: 24%. Estimated remaining time: 1 minute, 36 seconds.\n",
      "Computing permutation importance.. Progress: 49%. Estimated remaining time: 1 minute, 4 seconds.\n",
      "Computing permutation importance.. Progress: 73%. Estimated remaining time: 34 seconds.\n",
      "Computing permutation importance.. Progress: 97%. Estimated remaining time: 3 seconds.\n"
     ]
    },
    {
     "name": "stderr",
     "output_type": "stream",
     "text": [
      " 10. run of importance source...\n"
     ]
    },
    {
     "name": "stdout",
     "output_type": "stream",
     "text": [
      "Computing permutation importance.. Progress: 24%. Estimated remaining time: 1 minute, 38 seconds.\n",
      "Computing permutation importance.. Progress: 48%. Estimated remaining time: 1 minute, 6 seconds.\n",
      "Computing permutation importance.. Progress: 73%. Estimated remaining time: 34 seconds.\n",
      "Computing permutation importance.. Progress: 97%. Estimated remaining time: 4 seconds.\n"
     ]
    },
    {
     "name": "stderr",
     "output_type": "stream",
     "text": [
      " 11. run of importance source...\n"
     ]
    },
    {
     "name": "stdout",
     "output_type": "stream",
     "text": [
      "Computing permutation importance.. Progress: 23%. Estimated remaining time: 1 minute, 44 seconds.\n",
      "Computing permutation importance.. Progress: 47%. Estimated remaining time: 1 minute, 9 seconds.\n",
      "Computing permutation importance.. Progress: 71%. Estimated remaining time: 38 seconds.\n",
      "Computing permutation importance.. Progress: 95%. Estimated remaining time: 7 seconds.\n"
     ]
    },
    {
     "name": "stderr",
     "output_type": "stream",
     "text": [
      " 12. run of importance source...\n"
     ]
    },
    {
     "name": "stdout",
     "output_type": "stream",
     "text": [
      "Computing permutation importance.. Progress: 23%. Estimated remaining time: 1 minute, 41 seconds.\n",
      "Computing permutation importance.. Progress: 48%. Estimated remaining time: 1 minute, 6 seconds.\n",
      "Computing permutation importance.. Progress: 72%. Estimated remaining time: 35 seconds.\n",
      "Computing permutation importance.. Progress: 97%. Estimated remaining time: 4 seconds.\n"
     ]
    },
    {
     "name": "stderr",
     "output_type": "stream",
     "text": [
      " 13. run of importance source...\n"
     ]
    },
    {
     "name": "stdout",
     "output_type": "stream",
     "text": [
      "Computing permutation importance.. Progress: 24%. Estimated remaining time: 1 minute, 40 seconds.\n",
      "Computing permutation importance.. Progress: 48%. Estimated remaining time: 1 minute, 7 seconds.\n",
      "Computing permutation importance.. Progress: 73%. Estimated remaining time: 34 seconds.\n",
      "Computing permutation importance.. Progress: 98%. Estimated remaining time: 3 seconds.\n"
     ]
    },
    {
     "name": "stderr",
     "output_type": "stream",
     "text": [
      " 14. run of importance source...\n"
     ]
    },
    {
     "name": "stdout",
     "output_type": "stream",
     "text": [
      "Computing permutation importance.. Progress: 23%. Estimated remaining time: 1 minute, 43 seconds.\n",
      "Computing permutation importance.. Progress: 47%. Estimated remaining time: 1 minute, 9 seconds.\n",
      "Computing permutation importance.. Progress: 71%. Estimated remaining time: 38 seconds.\n",
      "Computing permutation importance.. Progress: 95%. Estimated remaining time: 6 seconds.\n"
     ]
    },
    {
     "name": "stderr",
     "output_type": "stream",
     "text": [
      " 15. run of importance source...\n"
     ]
    },
    {
     "name": "stdout",
     "output_type": "stream",
     "text": [
      "Computing permutation importance.. Progress: 24%. Estimated remaining time: 1 minute, 40 seconds.\n",
      "Computing permutation importance.. Progress: 48%. Estimated remaining time: 1 minute, 8 seconds.\n",
      "Computing permutation importance.. Progress: 71%. Estimated remaining time: 37 seconds.\n",
      "Computing permutation importance.. Progress: 95%. Estimated remaining time: 5 seconds.\n"
     ]
    },
    {
     "name": "stderr",
     "output_type": "stream",
     "text": [
      " 16. run of importance source...\n"
     ]
    },
    {
     "name": "stdout",
     "output_type": "stream",
     "text": [
      "Computing permutation importance.. Progress: 24%. Estimated remaining time: 1 minute, 39 seconds.\n",
      "Computing permutation importance.. Progress: 48%. Estimated remaining time: 1 minute, 7 seconds.\n",
      "Computing permutation importance.. Progress: 71%. Estimated remaining time: 37 seconds.\n",
      "Computing permutation importance.. Progress: 96%. Estimated remaining time: 5 seconds.\n"
     ]
    },
    {
     "name": "stderr",
     "output_type": "stream",
     "text": [
      " 17. run of importance source...\n"
     ]
    },
    {
     "name": "stdout",
     "output_type": "stream",
     "text": [
      "Computing permutation importance.. Progress: 24%. Estimated remaining time: 1 minute, 40 seconds.\n",
      "Computing permutation importance.. Progress: 49%. Estimated remaining time: 1 minute, 5 seconds.\n",
      "Computing permutation importance.. Progress: 73%. Estimated remaining time: 35 seconds.\n",
      "Computing permutation importance.. Progress: 97%. Estimated remaining time: 4 seconds.\n"
     ]
    },
    {
     "name": "stderr",
     "output_type": "stream",
     "text": [
      " 18. run of importance source...\n"
     ]
    },
    {
     "name": "stdout",
     "output_type": "stream",
     "text": [
      "Computing permutation importance.. Progress: 24%. Estimated remaining time: 1 minute, 40 seconds.\n",
      "Computing permutation importance.. Progress: 48%. Estimated remaining time: 1 minute, 7 seconds.\n",
      "Computing permutation importance.. Progress: 72%. Estimated remaining time: 35 seconds.\n",
      "Computing permutation importance.. Progress: 96%. Estimated remaining time: 4 seconds.\n"
     ]
    },
    {
     "name": "stderr",
     "output_type": "stream",
     "text": [
      " 19. run of importance source...\n"
     ]
    },
    {
     "name": "stdout",
     "output_type": "stream",
     "text": [
      "Computing permutation importance.. Progress: 23%. Estimated remaining time: 1 minute, 41 seconds.\n",
      "Computing permutation importance.. Progress: 47%. Estimated remaining time: 1 minute, 8 seconds.\n",
      "Computing permutation importance.. Progress: 71%. Estimated remaining time: 37 seconds.\n",
      "Computing permutation importance.. Progress: 96%. Estimated remaining time: 5 seconds.\n"
     ]
    },
    {
     "name": "stderr",
     "output_type": "stream",
     "text": [
      " 20. run of importance source...\n"
     ]
    },
    {
     "name": "stdout",
     "output_type": "stream",
     "text": [
      "Computing permutation importance.. Progress: 24%. Estimated remaining time: 1 minute, 39 seconds.\n",
      "Computing permutation importance.. Progress: 49%. Estimated remaining time: 1 minute, 5 seconds.\n",
      "Computing permutation importance.. Progress: 73%. Estimated remaining time: 34 seconds.\n",
      "Computing permutation importance.. Progress: 97%. Estimated remaining time: 3 seconds.\n"
     ]
    },
    {
     "name": "stderr",
     "output_type": "stream",
     "text": [
      " 21. run of importance source...\n"
     ]
    },
    {
     "name": "stdout",
     "output_type": "stream",
     "text": [
      "Computing permutation importance.. Progress: 24%. Estimated remaining time: 1 minute, 37 seconds.\n",
      "Computing permutation importance.. Progress: 49%. Estimated remaining time: 1 minute, 5 seconds.\n",
      "Computing permutation importance.. Progress: 73%. Estimated remaining time: 34 seconds.\n",
      "Computing permutation importance.. Progress: 98%. Estimated remaining time: 2 seconds.\n"
     ]
    },
    {
     "name": "stderr",
     "output_type": "stream",
     "text": [
      "After 21 iterations, +48 mins: \n",
      " rejected 20164 attributes: A1BG, A1BG-AS1, A1CF, A2M, A2M-AS1 and 20159 more;\n",
      " still have 10 attributes left.\n",
      "\n",
      " 22. run of importance source...\n",
      " 23. run of importance source...\n",
      " 24. run of importance source...\n",
      " 25. run of importance source...\n",
      " 26. run of importance source...\n",
      " 27. run of importance source...\n",
      " 28. run of importance source...\n",
      " 29. run of importance source...\n",
      " 30. run of importance source...\n",
      " 31. run of importance source...\n",
      " 32. run of importance source...\n",
      " 33. run of importance source...\n",
      " 34. run of importance source...\n",
      " 35. run of importance source...\n",
      " 36. run of importance source...\n",
      " 37. run of importance source...\n",
      " 38. run of importance source...\n",
      " 39. run of importance source...\n",
      " 40. run of importance source...\n",
      " 41. run of importance source...\n",
      " 42. run of importance source...\n",
      " 43. run of importance source...\n",
      " 44. run of importance source...\n",
      " 45. run of importance source...\n",
      " 46. run of importance source...\n",
      " 47. run of importance source...\n",
      " 48. run of importance source...\n",
      " 49. run of importance source...\n",
      " 50. run of importance source...\n",
      " 51. run of importance source...\n",
      " 52. run of importance source...\n",
      " 53. run of importance source...\n",
      " 54. run of importance source...\n",
      " 55. run of importance source...\n",
      " 56. run of importance source...\n",
      " 57. run of importance source...\n",
      " 58. run of importance source...\n",
      " 59. run of importance source...\n",
      " 60. run of importance source...\n",
      " 61. run of importance source...\n",
      " 62. run of importance source...\n",
      " 63. run of importance source...\n",
      " 64. run of importance source...\n",
      " 65. run of importance source...\n",
      " 66. run of importance source...\n",
      " 67. run of importance source...\n",
      " 68. run of importance source...\n",
      " 69. run of importance source...\n",
      " 70. run of importance source...\n",
      " 71. run of importance source...\n",
      " 72. run of importance source...\n",
      " 73. run of importance source...\n",
      " 74. run of importance source...\n",
      " 75. run of importance source...\n",
      " 76. run of importance source...\n",
      " 77. run of importance source...\n",
      " 78. run of importance source...\n",
      " 79. run of importance source...\n",
      " 80. run of importance source...\n",
      "After 80 iterations, +48 mins: \n",
      " confirmed 3 attributes: LOC105372485, SCAMP4, TMEM52;\n",
      " still have 7 attributes left.\n",
      "\n",
      " 81. run of importance source...\n",
      " 82. run of importance source...\n",
      " 83. run of importance source...\n",
      " 84. run of importance source...\n",
      " 85. run of importance source...\n",
      " 86. run of importance source...\n",
      "After 86 iterations, +48 mins: \n",
      " confirmed 2 attributes: LINC02762, MRGPRX3;\n",
      " still have 5 attributes left.\n",
      "\n",
      " 87. run of importance source...\n",
      " 88. run of importance source...\n",
      "After 88 iterations, +48 mins: \n",
      " confirmed 1 attribute: SACS;\n",
      " still have 4 attributes left.\n",
      "\n",
      " 89. run of importance source...\n",
      " 90. run of importance source...\n",
      " 91. run of importance source...\n",
      "After 91 iterations, +48 mins: \n",
      " confirmed 1 attribute: RNF128;\n",
      " still have 3 attributes left.\n",
      "\n",
      " 92. run of importance source...\n",
      " 93. run of importance source...\n",
      " 94. run of importance source...\n",
      " 95. run of importance source...\n",
      " 96. run of importance source...\n",
      " 97. run of importance source...\n",
      " 98. run of importance source...\n",
      " 99. run of importance source...\n",
      "After 99 iterations, +48 mins: \n",
      " confirmed 1 attribute: MT1HL1;\n",
      " still have 2 attributes left.\n",
      "\n"
     ]
    },
    {
     "name": "stdout",
     "output_type": "stream",
     "text": [
      "\n",
      "Drug10: Boruta is running for PLX4720"
     ]
    },
    {
     "name": "stderr",
     "output_type": "stream",
     "text": [
      " 1. run of importance source...\n"
     ]
    },
    {
     "name": "stdout",
     "output_type": "stream",
     "text": [
      "Computing permutation importance.. Progress: 21%. Estimated remaining time: 1 minute, 56 seconds.\n",
      "Computing permutation importance.. Progress: 42%. Estimated remaining time: 1 minute, 24 seconds.\n",
      "Computing permutation importance.. Progress: 64%. Estimated remaining time: 53 seconds.\n",
      "Computing permutation importance.. Progress: 85%. Estimated remaining time: 22 seconds.\n"
     ]
    },
    {
     "name": "stderr",
     "output_type": "stream",
     "text": [
      " 2. run of importance source...\n"
     ]
    },
    {
     "name": "stdout",
     "output_type": "stream",
     "text": [
      "Computing permutation importance.. Progress: 21%. Estimated remaining time: 1 minute, 53 seconds.\n",
      "Computing permutation importance.. Progress: 43%. Estimated remaining time: 1 minute, 23 seconds.\n",
      "Computing permutation importance.. Progress: 65%. Estimated remaining time: 51 seconds.\n",
      "Computing permutation importance.. Progress: 86%. Estimated remaining time: 20 seconds.\n"
     ]
    },
    {
     "name": "stderr",
     "output_type": "stream",
     "text": [
      " 3. run of importance source...\n"
     ]
    },
    {
     "name": "stdout",
     "output_type": "stream",
     "text": [
      "Computing permutation importance.. Progress: 21%. Estimated remaining time: 1 minute, 58 seconds.\n",
      "Computing permutation importance.. Progress: 42%. Estimated remaining time: 1 minute, 27 seconds.\n",
      "Computing permutation importance.. Progress: 63%. Estimated remaining time: 55 seconds.\n",
      "Computing permutation importance.. Progress: 83%. Estimated remaining time: 24 seconds.\n"
     ]
    },
    {
     "name": "stderr",
     "output_type": "stream",
     "text": [
      " 4. run of importance source...\n"
     ]
    },
    {
     "name": "stdout",
     "output_type": "stream",
     "text": [
      "Computing permutation importance.. Progress: 22%. Estimated remaining time: 1 minute, 52 seconds.\n",
      "Computing permutation importance.. Progress: 43%. Estimated remaining time: 1 minute, 22 seconds.\n",
      "Computing permutation importance.. Progress: 64%. Estimated remaining time: 51 seconds.\n",
      "Computing permutation importance.. Progress: 87%. Estimated remaining time: 19 seconds.\n"
     ]
    },
    {
     "name": "stderr",
     "output_type": "stream",
     "text": [
      " 5. run of importance source...\n"
     ]
    },
    {
     "name": "stdout",
     "output_type": "stream",
     "text": [
      "Computing permutation importance.. Progress: 21%. Estimated remaining time: 1 minute, 58 seconds.\n",
      "Computing permutation importance.. Progress: 43%. Estimated remaining time: 1 minute, 22 seconds.\n",
      "Computing permutation importance.. Progress: 64%. Estimated remaining time: 51 seconds.\n",
      "Computing permutation importance.. Progress: 86%. Estimated remaining time: 20 seconds.\n"
     ]
    },
    {
     "name": "stderr",
     "output_type": "stream",
     "text": [
      " 6. run of importance source...\n"
     ]
    },
    {
     "name": "stdout",
     "output_type": "stream",
     "text": [
      "Computing permutation importance.. Progress: 20%. Estimated remaining time: 2 minutes, 2 seconds.\n",
      "Computing permutation importance.. Progress: 42%. Estimated remaining time: 1 minute, 26 seconds.\n",
      "Computing permutation importance.. Progress: 63%. Estimated remaining time: 55 seconds.\n",
      "Computing permutation importance.. Progress: 84%. Estimated remaining time: 23 seconds.\n"
     ]
    },
    {
     "name": "stderr",
     "output_type": "stream",
     "text": [
      " 7. run of importance source...\n"
     ]
    },
    {
     "name": "stdout",
     "output_type": "stream",
     "text": [
      "Computing permutation importance.. Progress: 20%. Estimated remaining time: 2 minutes, 0 seconds.\n",
      "Computing permutation importance.. Progress: 42%. Estimated remaining time: 1 minute, 26 seconds.\n",
      "Computing permutation importance.. Progress: 64%. Estimated remaining time: 52 seconds.\n",
      "Computing permutation importance.. Progress: 86%. Estimated remaining time: 20 seconds.\n"
     ]
    },
    {
     "name": "stderr",
     "output_type": "stream",
     "text": [
      " 8. run of importance source...\n"
     ]
    },
    {
     "name": "stdout",
     "output_type": "stream",
     "text": [
      "Computing permutation importance.. Progress: 20%. Estimated remaining time: 2 minutes, 0 seconds.\n",
      "Computing permutation importance.. Progress: 41%. Estimated remaining time: 1 minute, 28 seconds.\n",
      "Computing permutation importance.. Progress: 62%. Estimated remaining time: 56 seconds.\n",
      "Computing permutation importance.. Progress: 84%. Estimated remaining time: 23 seconds.\n"
     ]
    },
    {
     "name": "stderr",
     "output_type": "stream",
     "text": [
      " 9. run of importance source...\n"
     ]
    },
    {
     "name": "stdout",
     "output_type": "stream",
     "text": [
      "Computing permutation importance.. Progress: 21%. Estimated remaining time: 1 minute, 59 seconds.\n",
      "Computing permutation importance.. Progress: 42%. Estimated remaining time: 1 minute, 27 seconds.\n",
      "Computing permutation importance.. Progress: 63%. Estimated remaining time: 54 seconds.\n",
      "Computing permutation importance.. Progress: 85%. Estimated remaining time: 21 seconds.\n"
     ]
    },
    {
     "name": "stderr",
     "output_type": "stream",
     "text": [
      " 10. run of importance source...\n"
     ]
    },
    {
     "name": "stdout",
     "output_type": "stream",
     "text": [
      "Computing permutation importance.. Progress: 20%. Estimated remaining time: 2 minutes, 0 seconds.\n",
      "Computing permutation importance.. Progress: 42%. Estimated remaining time: 1 minute, 27 seconds.\n",
      "Computing permutation importance.. Progress: 63%. Estimated remaining time: 55 seconds.\n",
      "Computing permutation importance.. Progress: 83%. Estimated remaining time: 25 seconds.\n"
     ]
    },
    {
     "name": "stderr",
     "output_type": "stream",
     "text": [
      " 11. run of importance source...\n"
     ]
    },
    {
     "name": "stdout",
     "output_type": "stream",
     "text": [
      "Computing permutation importance.. Progress: 21%. Estimated remaining time: 1 minute, 56 seconds.\n",
      "Computing permutation importance.. Progress: 43%. Estimated remaining time: 1 minute, 22 seconds.\n",
      "Computing permutation importance.. Progress: 65%. Estimated remaining time: 51 seconds.\n",
      "Computing permutation importance.. Progress: 86%. Estimated remaining time: 20 seconds.\n"
     ]
    },
    {
     "name": "stderr",
     "output_type": "stream",
     "text": [
      " 12. run of importance source...\n"
     ]
    },
    {
     "name": "stdout",
     "output_type": "stream",
     "text": [
      "Computing permutation importance.. Progress: 22%. Estimated remaining time: 1 minute, 52 seconds.\n",
      "Computing permutation importance.. Progress: 43%. Estimated remaining time: 1 minute, 21 seconds.\n",
      "Computing permutation importance.. Progress: 64%. Estimated remaining time: 51 seconds.\n",
      "Computing permutation importance.. Progress: 86%. Estimated remaining time: 21 seconds.\n"
     ]
    },
    {
     "name": "stderr",
     "output_type": "stream",
     "text": [
      " 13. run of importance source...\n"
     ]
    },
    {
     "name": "stdout",
     "output_type": "stream",
     "text": [
      "Computing permutation importance.. Progress: 21%. Estimated remaining time: 1 minute, 56 seconds.\n",
      "Computing permutation importance.. Progress: 42%. Estimated remaining time: 1 minute, 24 seconds.\n",
      "Computing permutation importance.. Progress: 64%. Estimated remaining time: 52 seconds.\n",
      "Computing permutation importance.. Progress: 85%. Estimated remaining time: 22 seconds.\n"
     ]
    },
    {
     "name": "stderr",
     "output_type": "stream",
     "text": [
      " 14. run of importance source...\n"
     ]
    },
    {
     "name": "stdout",
     "output_type": "stream",
     "text": [
      "Computing permutation importance.. Progress: 20%. Estimated remaining time: 2 minutes, 2 seconds.\n",
      "Computing permutation importance.. Progress: 42%. Estimated remaining time: 1 minute, 25 seconds.\n",
      "Computing permutation importance.. Progress: 63%. Estimated remaining time: 54 seconds.\n",
      "Computing permutation importance.. Progress: 85%. Estimated remaining time: 22 seconds.\n"
     ]
    },
    {
     "name": "stderr",
     "output_type": "stream",
     "text": [
      " 15. run of importance source...\n"
     ]
    },
    {
     "name": "stdout",
     "output_type": "stream",
     "text": [
      "Computing permutation importance.. Progress: 20%. Estimated remaining time: 2 minutes, 0 seconds.\n",
      "Computing permutation importance.. Progress: 42%. Estimated remaining time: 1 minute, 27 seconds.\n",
      "Computing permutation importance.. Progress: 63%. Estimated remaining time: 54 seconds.\n",
      "Computing permutation importance.. Progress: 84%. Estimated remaining time: 23 seconds.\n"
     ]
    },
    {
     "name": "stderr",
     "output_type": "stream",
     "text": [
      " 16. run of importance source...\n"
     ]
    },
    {
     "name": "stdout",
     "output_type": "stream",
     "text": [
      "Computing permutation importance.. Progress: 20%. Estimated remaining time: 2 minutes, 0 seconds.\n",
      "Computing permutation importance.. Progress: 42%. Estimated remaining time: 1 minute, 27 seconds.\n",
      "Computing permutation importance.. Progress: 63%. Estimated remaining time: 54 seconds.\n",
      "Computing permutation importance.. Progress: 84%. Estimated remaining time: 22 seconds.\n"
     ]
    },
    {
     "name": "stderr",
     "output_type": "stream",
     "text": [
      " 17. run of importance source...\n"
     ]
    },
    {
     "name": "stdout",
     "output_type": "stream",
     "text": [
      "Computing permutation importance.. Progress: 21%. Estimated remaining time: 1 minute, 56 seconds.\n",
      "Computing permutation importance.. Progress: 42%. Estimated remaining time: 1 minute, 26 seconds.\n",
      "Computing permutation importance.. Progress: 63%. Estimated remaining time: 53 seconds.\n",
      "Computing permutation importance.. Progress: 85%. Estimated remaining time: 22 seconds.\n"
     ]
    },
    {
     "name": "stderr",
     "output_type": "stream",
     "text": [
      " 18. run of importance source...\n"
     ]
    },
    {
     "name": "stdout",
     "output_type": "stream",
     "text": [
      "Computing permutation importance.. Progress: 21%. Estimated remaining time: 1 minute, 58 seconds.\n",
      "Computing permutation importance.. Progress: 43%. Estimated remaining time: 1 minute, 24 seconds.\n",
      "Computing permutation importance.. Progress: 64%. Estimated remaining time: 52 seconds.\n",
      "Computing permutation importance.. Progress: 85%. Estimated remaining time: 22 seconds.\n"
     ]
    },
    {
     "name": "stderr",
     "output_type": "stream",
     "text": [
      " 19. run of importance source...\n"
     ]
    },
    {
     "name": "stdout",
     "output_type": "stream",
     "text": [
      "Computing permutation importance.. Progress: 20%. Estimated remaining time: 2 minutes, 2 seconds.\n",
      "Computing permutation importance.. Progress: 42%. Estimated remaining time: 1 minute, 25 seconds.\n",
      "Computing permutation importance.. Progress: 64%. Estimated remaining time: 52 seconds.\n",
      "Computing permutation importance.. Progress: 85%. Estimated remaining time: 21 seconds.\n"
     ]
    },
    {
     "name": "stderr",
     "output_type": "stream",
     "text": [
      " 20. run of importance source...\n"
     ]
    },
    {
     "name": "stdout",
     "output_type": "stream",
     "text": [
      "Computing permutation importance.. Progress: 21%. Estimated remaining time: 1 minute, 59 seconds.\n",
      "Computing permutation importance.. Progress: 41%. Estimated remaining time: 1 minute, 30 seconds.\n",
      "Computing permutation importance.. Progress: 62%. Estimated remaining time: 57 seconds.\n",
      "Computing permutation importance.. Progress: 84%. Estimated remaining time: 24 seconds.\n"
     ]
    },
    {
     "name": "stderr",
     "output_type": "stream",
     "text": [
      " 21. run of importance source...\n"
     ]
    },
    {
     "name": "stdout",
     "output_type": "stream",
     "text": [
      "Computing permutation importance.. Progress: 21%. Estimated remaining time: 1 minute, 58 seconds.\n",
      "Computing permutation importance.. Progress: 42%. Estimated remaining time: 1 minute, 24 seconds.\n",
      "Computing permutation importance.. Progress: 64%. Estimated remaining time: 53 seconds.\n",
      "Computing permutation importance.. Progress: 85%. Estimated remaining time: 21 seconds.\n"
     ]
    },
    {
     "name": "stderr",
     "output_type": "stream",
     "text": [
      "After 21 iterations, +55 mins: \n",
      " rejected 20053 attributes: A1BG, A1BG-AS1, A1CF, A2M, A2M-AS1 and 20048 more;\n",
      " still have 121 attributes left.\n",
      "\n",
      " 22. run of importance source...\n",
      " 23. run of importance source...\n",
      " 24. run of importance source...\n",
      " 25. run of importance source...\n",
      " 26. run of importance source...\n",
      "After 26 iterations, +55 mins: \n",
      " rejected 20 attributes: BIN3, ENTPD6, FOXD3, GPR137B, ITGB3 and 15 more;\n",
      " still have 101 attributes left.\n",
      "\n",
      " 27. run of importance source...\n",
      " 28. run of importance source...\n",
      " 29. run of importance source...\n",
      " 30. run of importance source...\n",
      "After 30 iterations, +55 mins: \n",
      " rejected 16 attributes: ADCY1, BCL2A1, BIN3-IT1, CDH19, CREBL2 and 11 more;\n",
      " still have 85 attributes left.\n",
      "\n",
      " 31. run of importance source...\n",
      " 32. run of importance source...\n",
      " 33. run of importance source...\n",
      " 34. run of importance source...\n",
      "After 34 iterations, +55 mins: \n",
      " rejected 14 attributes: BAIAP2L2, BEST1, CAPN3, FABP7, HCCAT5 and 9 more;\n",
      " still have 71 attributes left.\n",
      "\n",
      " 35. run of importance source...\n",
      " 36. run of importance source...\n",
      " 37. run of importance source...\n",
      " 38. run of importance source...\n",
      "After 38 iterations, +55 mins: \n",
      " rejected 4 attributes: BANCR, PAX3, POLR2F, SAMMSON;\n",
      " still have 67 attributes left.\n",
      "\n",
      " 39. run of importance source...\n",
      " 40. run of importance source...\n",
      " 41. run of importance source...\n",
      "After 41 iterations, +55 mins: \n",
      " confirmed 1 attribute: TRIM63;\n",
      " rejected 1 attribute: LINC00520;\n",
      " still have 65 attributes left.\n",
      "\n",
      " 42. run of importance source...\n",
      " 43. run of importance source...\n",
      " 44. run of importance source...\n",
      "After 44 iterations, +55 mins: \n",
      " rejected 1 attribute: TNFRSF14;\n",
      " still have 64 attributes left.\n",
      "\n",
      " 45. run of importance source...\n",
      " 46. run of importance source...\n",
      " 47. run of importance source...\n",
      " 48. run of importance source...\n",
      "After 48 iterations, +55 mins: \n",
      " confirmed 1 attribute: DCT;\n",
      " rejected 2 attributes: CPN1, ZNF33A;\n",
      " still have 61 attributes left.\n",
      "\n",
      " 49. run of importance source...\n",
      " 50. run of importance source...\n",
      " 51. run of importance source...\n",
      "After 51 iterations, +55 mins: \n",
      " confirmed 1 attribute: LINC02946;\n",
      " still have 60 attributes left.\n",
      "\n",
      " 52. run of importance source...\n",
      " 53. run of importance source...\n",
      " 54. run of importance source...\n",
      "After 54 iterations, +55 mins: \n",
      " rejected 1 attribute: SLC27A3;\n",
      " still have 59 attributes left.\n",
      "\n",
      " 55. run of importance source...\n",
      " 56. run of importance source...\n",
      " 57. run of importance source...\n",
      " 58. run of importance source...\n",
      " 59. run of importance source...\n",
      " 60. run of importance source...\n",
      " 61. run of importance source...\n",
      " 62. run of importance source...\n",
      " 63. run of importance source...\n",
      "After 63 iterations, +55 mins: \n",
      " confirmed 1 attribute: BBS5;\n",
      " rejected 1 attribute: SOX10;\n",
      " still have 57 attributes left.\n",
      "\n",
      " 64. run of importance source...\n",
      " 65. run of importance source...\n",
      " 66. run of importance source...\n",
      " 67. run of importance source...\n",
      " 68. run of importance source...\n",
      " 69. run of importance source...\n",
      " 70. run of importance source...\n",
      " 71. run of importance source...\n",
      " 72. run of importance source...\n",
      "After 72 iterations, +55 mins: \n",
      " confirmed 2 attributes: KCNB2, RXRG;\n",
      " still have 55 attributes left.\n",
      "\n",
      " 73. run of importance source...\n",
      " 74. run of importance source...\n",
      "After 74 iterations, +55 mins: \n",
      " confirmed 1 attribute: MMP8;\n",
      " still have 54 attributes left.\n",
      "\n",
      " 75. run of importance source...\n",
      " 76. run of importance source...\n",
      " 77. run of importance source...\n",
      "After 77 iterations, +55 mins: \n",
      " confirmed 1 attribute: MYO5A;\n",
      " rejected 1 attribute: ATP10B;\n",
      " still have 52 attributes left.\n",
      "\n",
      " 78. run of importance source...\n",
      " 79. run of importance source...\n",
      " 80. run of importance source...\n",
      " 81. run of importance source...\n",
      " 82. run of importance source...\n",
      " 83. run of importance source...\n",
      " 84. run of importance source...\n",
      " 85. run of importance source...\n",
      " 86. run of importance source...\n",
      "After 86 iterations, +55 mins: \n",
      " confirmed 3 attributes: GAPDHS, MFSD12, PMEL;\n",
      " still have 49 attributes left.\n",
      "\n",
      " 87. run of importance source...\n",
      " 88. run of importance source...\n",
      "After 88 iterations, +55 mins: \n",
      " confirmed 3 attributes: CEMIP, CYP27A1, LINC02685;\n",
      " still have 46 attributes left.\n",
      "\n",
      " 89. run of importance source...\n",
      " 90. run of importance source...\n",
      " 91. run of importance source...\n",
      " 92. run of importance source...\n",
      " 93. run of importance source...\n",
      " 94. run of importance source...\n",
      "After 94 iterations, +56 mins: \n",
      " confirmed 1 attribute: TRIB2;\n",
      " still have 45 attributes left.\n",
      "\n",
      " 95. run of importance source...\n",
      " 96. run of importance source...\n",
      "After 96 iterations, +56 mins: \n",
      " confirmed 1 attribute: ANKRD54;\n",
      " still have 44 attributes left.\n",
      "\n",
      " 97. run of importance source...\n",
      " 98. run of importance source...\n",
      " 99. run of importance source...\n",
      "After 99 iterations, +56 mins: \n",
      " confirmed 2 attributes: LINC00326, ROPN1;\n",
      " still have 42 attributes left.\n",
      "\n"
     ]
    },
    {
     "name": "stdout",
     "output_type": "stream",
     "text": [
      "\n",
      "Drug11: Boruta is running for TAE684"
     ]
    },
    {
     "name": "stderr",
     "output_type": "stream",
     "text": [
      " 1. run of importance source...\n"
     ]
    },
    {
     "name": "stdout",
     "output_type": "stream",
     "text": [
      "Computing permutation importance.. Progress: 26%. Estimated remaining time: 1 minute, 27 seconds.\n",
      "Computing permutation importance.. Progress: 53%. Estimated remaining time: 55 seconds.\n",
      "Computing permutation importance.. Progress: 79%. Estimated remaining time: 24 seconds.\n"
     ]
    },
    {
     "name": "stderr",
     "output_type": "stream",
     "text": [
      " 2. run of importance source...\n"
     ]
    },
    {
     "name": "stdout",
     "output_type": "stream",
     "text": [
      "Computing permutation importance.. Progress: 26%. Estimated remaining time: 1 minute, 28 seconds.\n",
      "Computing permutation importance.. Progress: 53%. Estimated remaining time: 54 seconds.\n",
      "Computing permutation importance.. Progress: 79%. Estimated remaining time: 24 seconds.\n"
     ]
    },
    {
     "name": "stderr",
     "output_type": "stream",
     "text": [
      " 3. run of importance source...\n"
     ]
    },
    {
     "name": "stdout",
     "output_type": "stream",
     "text": [
      "Computing permutation importance.. Progress: 26%. Estimated remaining time: 1 minute, 29 seconds.\n",
      "Computing permutation importance.. Progress: 53%. Estimated remaining time: 55 seconds.\n",
      "Computing permutation importance.. Progress: 79%. Estimated remaining time: 24 seconds.\n"
     ]
    },
    {
     "name": "stderr",
     "output_type": "stream",
     "text": [
      " 4. run of importance source...\n"
     ]
    },
    {
     "name": "stdout",
     "output_type": "stream",
     "text": [
      "Computing permutation importance.. Progress: 26%. Estimated remaining time: 1 minute, 28 seconds.\n",
      "Computing permutation importance.. Progress: 53%. Estimated remaining time: 55 seconds.\n",
      "Computing permutation importance.. Progress: 80%. Estimated remaining time: 23 seconds.\n"
     ]
    },
    {
     "name": "stderr",
     "output_type": "stream",
     "text": [
      " 5. run of importance source...\n"
     ]
    },
    {
     "name": "stdout",
     "output_type": "stream",
     "text": [
      "Computing permutation importance.. Progress: 26%. Estimated remaining time: 1 minute, 28 seconds.\n",
      "Computing permutation importance.. Progress: 53%. Estimated remaining time: 54 seconds.\n",
      "Computing permutation importance.. Progress: 80%. Estimated remaining time: 23 seconds.\n"
     ]
    },
    {
     "name": "stderr",
     "output_type": "stream",
     "text": [
      " 6. run of importance source...\n"
     ]
    },
    {
     "name": "stdout",
     "output_type": "stream",
     "text": [
      "Computing permutation importance.. Progress: 26%. Estimated remaining time: 1 minute, 29 seconds.\n",
      "Computing permutation importance.. Progress: 52%. Estimated remaining time: 56 seconds.\n",
      "Computing permutation importance.. Progress: 79%. Estimated remaining time: 24 seconds.\n"
     ]
    },
    {
     "name": "stderr",
     "output_type": "stream",
     "text": [
      " 7. run of importance source...\n"
     ]
    },
    {
     "name": "stdout",
     "output_type": "stream",
     "text": [
      "Computing permutation importance.. Progress: 26%. Estimated remaining time: 1 minute, 28 seconds.\n",
      "Computing permutation importance.. Progress: 53%. Estimated remaining time: 55 seconds.\n",
      "Computing permutation importance.. Progress: 79%. Estimated remaining time: 24 seconds.\n"
     ]
    },
    {
     "name": "stderr",
     "output_type": "stream",
     "text": [
      " 8. run of importance source...\n"
     ]
    },
    {
     "name": "stdout",
     "output_type": "stream",
     "text": [
      "Computing permutation importance.. Progress: 26%. Estimated remaining time: 1 minute, 28 seconds.\n",
      "Computing permutation importance.. Progress: 53%. Estimated remaining time: 55 seconds.\n",
      "Computing permutation importance.. Progress: 79%. Estimated remaining time: 25 seconds.\n"
     ]
    },
    {
     "name": "stderr",
     "output_type": "stream",
     "text": [
      " 9. run of importance source...\n"
     ]
    },
    {
     "name": "stdout",
     "output_type": "stream",
     "text": [
      "Computing permutation importance.. Progress: 26%. Estimated remaining time: 1 minute, 28 seconds.\n",
      "Computing permutation importance.. Progress: 53%. Estimated remaining time: 55 seconds.\n",
      "Computing permutation importance.. Progress: 79%. Estimated remaining time: 24 seconds.\n"
     ]
    },
    {
     "name": "stderr",
     "output_type": "stream",
     "text": [
      " 10. run of importance source...\n"
     ]
    },
    {
     "name": "stdout",
     "output_type": "stream",
     "text": [
      "Computing permutation importance.. Progress: 26%. Estimated remaining time: 1 minute, 29 seconds.\n",
      "Computing permutation importance.. Progress: 52%. Estimated remaining time: 56 seconds.\n",
      "Computing permutation importance.. Progress: 79%. Estimated remaining time: 25 seconds.\n"
     ]
    },
    {
     "name": "stderr",
     "output_type": "stream",
     "text": [
      " 11. run of importance source...\n"
     ]
    },
    {
     "name": "stdout",
     "output_type": "stream",
     "text": [
      "Computing permutation importance.. Progress: 26%. Estimated remaining time: 1 minute, 27 seconds.\n",
      "Computing permutation importance.. Progress: 53%. Estimated remaining time: 55 seconds.\n",
      "Computing permutation importance.. Progress: 79%. Estimated remaining time: 24 seconds.\n"
     ]
    },
    {
     "name": "stderr",
     "output_type": "stream",
     "text": [
      " 12. run of importance source...\n"
     ]
    },
    {
     "name": "stdout",
     "output_type": "stream",
     "text": [
      "Computing permutation importance.. Progress: 26%. Estimated remaining time: 1 minute, 27 seconds.\n",
      "Computing permutation importance.. Progress: 53%. Estimated remaining time: 55 seconds.\n",
      "Computing permutation importance.. Progress: 79%. Estimated remaining time: 24 seconds.\n"
     ]
    },
    {
     "name": "stderr",
     "output_type": "stream",
     "text": [
      " 13. run of importance source...\n"
     ]
    },
    {
     "name": "stdout",
     "output_type": "stream",
     "text": [
      "Computing permutation importance.. Progress: 26%. Estimated remaining time: 1 minute, 28 seconds.\n",
      "Computing permutation importance.. Progress: 53%. Estimated remaining time: 54 seconds.\n",
      "Computing permutation importance.. Progress: 79%. Estimated remaining time: 24 seconds.\n"
     ]
    },
    {
     "name": "stderr",
     "output_type": "stream",
     "text": [
      " 14. run of importance source...\n"
     ]
    },
    {
     "name": "stdout",
     "output_type": "stream",
     "text": [
      "Computing permutation importance.. Progress: 26%. Estimated remaining time: 1 minute, 29 seconds.\n",
      "Computing permutation importance.. Progress: 53%. Estimated remaining time: 55 seconds.\n",
      "Computing permutation importance.. Progress: 80%. Estimated remaining time: 23 seconds.\n"
     ]
    },
    {
     "name": "stderr",
     "output_type": "stream",
     "text": [
      " 15. run of importance source...\n"
     ]
    },
    {
     "name": "stdout",
     "output_type": "stream",
     "text": [
      "Computing permutation importance.. Progress: 26%. Estimated remaining time: 1 minute, 28 seconds.\n",
      "Computing permutation importance.. Progress: 53%. Estimated remaining time: 55 seconds.\n",
      "Computing permutation importance.. Progress: 79%. Estimated remaining time: 24 seconds.\n"
     ]
    },
    {
     "name": "stderr",
     "output_type": "stream",
     "text": [
      " 16. run of importance source...\n"
     ]
    },
    {
     "name": "stdout",
     "output_type": "stream",
     "text": [
      "Computing permutation importance.. Progress: 26%. Estimated remaining time: 1 minute, 27 seconds.\n",
      "Computing permutation importance.. Progress: 53%. Estimated remaining time: 55 seconds.\n",
      "Computing permutation importance.. Progress: 79%. Estimated remaining time: 25 seconds.\n"
     ]
    },
    {
     "name": "stderr",
     "output_type": "stream",
     "text": [
      " 17. run of importance source...\n"
     ]
    },
    {
     "name": "stdout",
     "output_type": "stream",
     "text": [
      "Computing permutation importance.. Progress: 26%. Estimated remaining time: 1 minute, 28 seconds.\n",
      "Computing permutation importance.. Progress: 53%. Estimated remaining time: 55 seconds.\n",
      "Computing permutation importance.. Progress: 79%. Estimated remaining time: 24 seconds.\n"
     ]
    },
    {
     "name": "stderr",
     "output_type": "stream",
     "text": [
      " 18. run of importance source...\n"
     ]
    },
    {
     "name": "stdout",
     "output_type": "stream",
     "text": [
      "Computing permutation importance.. Progress: 26%. Estimated remaining time: 1 minute, 28 seconds.\n",
      "Computing permutation importance.. Progress: 52%. Estimated remaining time: 56 seconds.\n",
      "Computing permutation importance.. Progress: 80%. Estimated remaining time: 23 seconds.\n"
     ]
    },
    {
     "name": "stderr",
     "output_type": "stream",
     "text": [
      " 19. run of importance source...\n"
     ]
    },
    {
     "name": "stdout",
     "output_type": "stream",
     "text": [
      "Computing permutation importance.. Progress: 26%. Estimated remaining time: 1 minute, 28 seconds.\n",
      "Computing permutation importance.. Progress: 53%. Estimated remaining time: 55 seconds.\n",
      "Computing permutation importance.. Progress: 79%. Estimated remaining time: 24 seconds.\n"
     ]
    },
    {
     "name": "stderr",
     "output_type": "stream",
     "text": [
      " 20. run of importance source...\n"
     ]
    },
    {
     "name": "stdout",
     "output_type": "stream",
     "text": [
      "Computing permutation importance.. Progress: 26%. Estimated remaining time: 1 minute, 27 seconds.\n",
      "Computing permutation importance.. Progress: 53%. Estimated remaining time: 54 seconds.\n",
      "Computing permutation importance.. Progress: 80%. Estimated remaining time: 23 seconds.\n"
     ]
    },
    {
     "name": "stderr",
     "output_type": "stream",
     "text": [
      " 21. run of importance source...\n"
     ]
    },
    {
     "name": "stdout",
     "output_type": "stream",
     "text": [
      "Computing permutation importance.. Progress: 26%. Estimated remaining time: 1 minute, 28 seconds.\n",
      "Computing permutation importance.. Progress: 53%. Estimated remaining time: 55 seconds.\n",
      "Computing permutation importance.. Progress: 79%. Estimated remaining time: 24 seconds.\n"
     ]
    },
    {
     "name": "stderr",
     "output_type": "stream",
     "text": [
      "After 21 iterations, +44 mins: \n",
      " rejected 20100 attributes: A1BG, A1BG-AS1, A1CF, A2M, A2M-AS1 and 20095 more;\n",
      " still have 74 attributes left.\n",
      "\n",
      " 22. run of importance source...\n",
      " 23. run of importance source...\n",
      " 24. run of importance source...\n",
      " 25. run of importance source...\n",
      " 26. run of importance source...\n",
      "After 26 iterations, +44 mins: \n",
      " rejected 34 attributes: ABRAXAS1, ACTG1, AHI1, ARHGEF7, CCDC117 and 29 more;\n",
      " still have 40 attributes left.\n",
      "\n",
      " 27. run of importance source...\n",
      " 28. run of importance source...\n",
      " 29. run of importance source...\n",
      " 30. run of importance source...\n",
      "After 30 iterations, +44 mins: \n",
      " rejected 1 attribute: OSTM1;\n",
      " still have 39 attributes left.\n",
      "\n",
      " 31. run of importance source...\n",
      " 32. run of importance source...\n",
      " 33. run of importance source...\n",
      " 34. run of importance source...\n",
      "After 34 iterations, +44 mins: \n",
      " rejected 2 attributes: BRCA2, RBM12;\n",
      " still have 37 attributes left.\n",
      "\n",
      " 35. run of importance source...\n",
      " 36. run of importance source...\n",
      " 37. run of importance source...\n",
      " 38. run of importance source...\n",
      "After 38 iterations, +44 mins: \n",
      " rejected 2 attributes: ALKBH8, MBTD1;\n",
      " still have 35 attributes left.\n",
      "\n",
      " 39. run of importance source...\n",
      " 40. run of importance source...\n",
      " 41. run of importance source...\n",
      " 42. run of importance source...\n",
      " 43. run of importance source...\n",
      " 44. run of importance source...\n",
      " 45. run of importance source...\n",
      " 46. run of importance source...\n",
      " 47. run of importance source...\n",
      " 48. run of importance source...\n",
      " 49. run of importance source...\n",
      " 50. run of importance source...\n",
      " 51. run of importance source...\n",
      " 52. run of importance source...\n",
      " 53. run of importance source...\n",
      " 54. run of importance source...\n",
      "After 54 iterations, +45 mins: \n",
      " rejected 1 attribute: KIF2A;\n",
      " still have 34 attributes left.\n",
      "\n",
      " 55. run of importance source...\n",
      " 56. run of importance source...\n",
      " 57. run of importance source...\n",
      " 58. run of importance source...\n",
      " 59. run of importance source...\n",
      " 60. run of importance source...\n",
      " 61. run of importance source...\n",
      " 62. run of importance source...\n",
      " 63. run of importance source...\n",
      " 64. run of importance source...\n",
      " 65. run of importance source...\n",
      " 66. run of importance source...\n",
      " 67. run of importance source...\n",
      " 68. run of importance source...\n",
      " 69. run of importance source...\n",
      " 70. run of importance source...\n",
      " 71. run of importance source...\n",
      " 72. run of importance source...\n",
      " 73. run of importance source...\n",
      " 74. run of importance source...\n",
      " 75. run of importance source...\n",
      " 76. run of importance source...\n",
      " 77. run of importance source...\n",
      " 78. run of importance source...\n",
      " 79. run of importance source...\n",
      " 80. run of importance source...\n",
      " 81. run of importance source...\n",
      " 82. run of importance source...\n",
      " 83. run of importance source...\n",
      "After 83 iterations, +45 mins: \n",
      " confirmed 2 attributes: IGSF3, PCF11;\n",
      " still have 32 attributes left.\n",
      "\n",
      " 84. run of importance source...\n",
      " 85. run of importance source...\n",
      " 86. run of importance source...\n",
      "After 86 iterations, +45 mins: \n",
      " confirmed 1 attribute: LGI3;\n",
      " rejected 1 attribute: INPP4A;\n",
      " still have 30 attributes left.\n",
      "\n",
      " 87. run of importance source...\n",
      " 88. run of importance source...\n",
      " 89. run of importance source...\n",
      " 90. run of importance source...\n",
      " 91. run of importance source...\n",
      "After 91 iterations, +45 mins: \n",
      " confirmed 1 attribute: LMCD1;\n",
      " still have 29 attributes left.\n",
      "\n",
      " 92. run of importance source...\n",
      " 93. run of importance source...\n",
      " 94. run of importance source...\n",
      "After 94 iterations, +45 mins: \n",
      " confirmed 2 attributes: ARID3A, FHDC1;\n",
      " still have 27 attributes left.\n",
      "\n",
      " 95. run of importance source...\n",
      " 96. run of importance source...\n",
      "After 96 iterations, +45 mins: \n",
      " confirmed 2 attributes: EZH2, NEK3;\n",
      " still have 25 attributes left.\n",
      "\n",
      " 97. run of importance source...\n",
      " 98. run of importance source...\n",
      " 99. run of importance source...\n"
     ]
    },
    {
     "name": "stdout",
     "output_type": "stream",
     "text": [
      "\n",
      "Drug12: Boruta is running for 17-AAG"
     ]
    },
    {
     "name": "stderr",
     "output_type": "stream",
     "text": [
      " 1. run of importance source...\n"
     ]
    },
    {
     "name": "stdout",
     "output_type": "stream",
     "text": [
      "Computing permutation importance.. Progress: 11%. Estimated remaining time: 4 minutes, 0 seconds.\n",
      "Computing permutation importance.. Progress: 23%. Estimated remaining time: 3 minutes, 27 seconds.\n",
      "Computing permutation importance.. Progress: 35%. Estimated remaining time: 2 minutes, 54 seconds.\n",
      "Computing permutation importance.. Progress: 46%. Estimated remaining time: 2 minutes, 24 seconds.\n",
      "Computing permutation importance.. Progress: 58%. Estimated remaining time: 1 minute, 51 seconds.\n",
      "Computing permutation importance.. Progress: 70%. Estimated remaining time: 1 minute, 19 seconds.\n",
      "Computing permutation importance.. Progress: 82%. Estimated remaining time: 47 seconds.\n",
      "Computing permutation importance.. Progress: 94%. Estimated remaining time: 17 seconds.\n"
     ]
    },
    {
     "name": "stderr",
     "output_type": "stream",
     "text": [
      " 2. run of importance source...\n"
     ]
    },
    {
     "name": "stdout",
     "output_type": "stream",
     "text": [
      "Computing permutation importance.. Progress: 11%. Estimated remaining time: 4 minutes, 10 seconds.\n",
      "Computing permutation importance.. Progress: 23%. Estimated remaining time: 3 minutes, 33 seconds.\n",
      "Computing permutation importance.. Progress: 35%. Estimated remaining time: 2 minutes, 56 seconds.\n",
      "Computing permutation importance.. Progress: 47%. Estimated remaining time: 2 minutes, 22 seconds.\n",
      "Computing permutation importance.. Progress: 59%. Estimated remaining time: 1 minute, 49 seconds.\n",
      "Computing permutation importance.. Progress: 71%. Estimated remaining time: 1 minute, 18 seconds.\n",
      "Computing permutation importance.. Progress: 83%. Estimated remaining time: 45 seconds.\n",
      "Computing permutation importance.. Progress: 95%. Estimated remaining time: 13 seconds.\n"
     ]
    },
    {
     "name": "stderr",
     "output_type": "stream",
     "text": [
      " 3. run of importance source...\n"
     ]
    },
    {
     "name": "stdout",
     "output_type": "stream",
     "text": [
      "Computing permutation importance.. Progress: 10%. Estimated remaining time: 4 minutes, 27 seconds.\n",
      "Computing permutation importance.. Progress: 22%. Estimated remaining time: 3 minutes, 39 seconds.\n",
      "Computing permutation importance.. Progress: 33%. Estimated remaining time: 3 minutes, 7 seconds.\n",
      "Computing permutation importance.. Progress: 45%. Estimated remaining time: 2 minutes, 35 seconds.\n",
      "Computing permutation importance.. Progress: 56%. Estimated remaining time: 2 minutes, 3 seconds.\n",
      "Computing permutation importance.. Progress: 67%. Estimated remaining time: 1 minute, 31 seconds.\n",
      "Computing permutation importance.. Progress: 79%. Estimated remaining time: 58 seconds.\n",
      "Computing permutation importance.. Progress: 90%. Estimated remaining time: 27 seconds.\n"
     ]
    },
    {
     "name": "stderr",
     "output_type": "stream",
     "text": [
      " 4. run of importance source...\n"
     ]
    },
    {
     "name": "stdout",
     "output_type": "stream",
     "text": [
      "Computing permutation importance.. Progress: 11%. Estimated remaining time: 4 minutes, 5 seconds.\n",
      "Computing permutation importance.. Progress: 23%. Estimated remaining time: 3 minutes, 26 seconds.\n",
      "Computing permutation importance.. Progress: 35%. Estimated remaining time: 2 minutes, 51 seconds.\n",
      "Computing permutation importance.. Progress: 48%. Estimated remaining time: 2 minutes, 17 seconds.\n",
      "Computing permutation importance.. Progress: 59%. Estimated remaining time: 1 minute, 49 seconds.\n",
      "Computing permutation importance.. Progress: 71%. Estimated remaining time: 1 minute, 17 seconds.\n",
      "Computing permutation importance.. Progress: 82%. Estimated remaining time: 46 seconds.\n",
      "Computing permutation importance.. Progress: 94%. Estimated remaining time: 14 seconds.\n"
     ]
    },
    {
     "name": "stderr",
     "output_type": "stream",
     "text": [
      " 5. run of importance source...\n"
     ]
    },
    {
     "name": "stdout",
     "output_type": "stream",
     "text": [
      "Computing permutation importance.. Progress: 11%. Estimated remaining time: 4 minutes, 0 seconds.\n",
      "Computing permutation importance.. Progress: 23%. Estimated remaining time: 3 minutes, 33 seconds.\n",
      "Computing permutation importance.. Progress: 35%. Estimated remaining time: 2 minutes, 56 seconds.\n",
      "Computing permutation importance.. Progress: 47%. Estimated remaining time: 2 minutes, 23 seconds.\n",
      "Computing permutation importance.. Progress: 58%. Estimated remaining time: 1 minute, 51 seconds.\n",
      "Computing permutation importance.. Progress: 70%. Estimated remaining time: 1 minute, 19 seconds.\n",
      "Computing permutation importance.. Progress: 82%. Estimated remaining time: 46 seconds.\n",
      "Computing permutation importance.. Progress: 94%. Estimated remaining time: 16 seconds.\n"
     ]
    },
    {
     "name": "stderr",
     "output_type": "stream",
     "text": [
      " 6. run of importance source...\n"
     ]
    },
    {
     "name": "stdout",
     "output_type": "stream",
     "text": [
      "Computing permutation importance.. Progress: 11%. Estimated remaining time: 4 minutes, 10 seconds.\n",
      "Computing permutation importance.. Progress: 23%. Estimated remaining time: 3 minutes, 27 seconds.\n",
      "Computing permutation importance.. Progress: 35%. Estimated remaining time: 2 minutes, 57 seconds.\n",
      "Computing permutation importance.. Progress: 47%. Estimated remaining time: 2 minutes, 22 seconds.\n",
      "Computing permutation importance.. Progress: 59%. Estimated remaining time: 1 minute, 49 seconds.\n",
      "Computing permutation importance.. Progress: 70%. Estimated remaining time: 1 minute, 20 seconds.\n",
      "Computing permutation importance.. Progress: 82%. Estimated remaining time: 47 seconds.\n",
      "Computing permutation importance.. Progress: 94%. Estimated remaining time: 14 seconds.\n"
     ]
    },
    {
     "name": "stderr",
     "output_type": "stream",
     "text": [
      " 7. run of importance source...\n"
     ]
    },
    {
     "name": "stdout",
     "output_type": "stream",
     "text": [
      "Computing permutation importance.. Progress: 12%. Estimated remaining time: 4 minutes, 3 seconds.\n",
      "Computing permutation importance.. Progress: 23%. Estimated remaining time: 3 minutes, 28 seconds.\n",
      "Computing permutation importance.. Progress: 35%. Estimated remaining time: 2 minutes, 53 seconds.\n",
      "Computing permutation importance.. Progress: 47%. Estimated remaining time: 2 minutes, 22 seconds.\n",
      "Computing permutation importance.. Progress: 59%. Estimated remaining time: 1 minute, 49 seconds.\n",
      "Computing permutation importance.. Progress: 71%. Estimated remaining time: 1 minute, 16 seconds.\n",
      "Computing permutation importance.. Progress: 83%. Estimated remaining time: 45 seconds.\n",
      "Computing permutation importance.. Progress: 94%. Estimated remaining time: 14 seconds.\n"
     ]
    },
    {
     "name": "stderr",
     "output_type": "stream",
     "text": [
      " 8. run of importance source...\n"
     ]
    },
    {
     "name": "stdout",
     "output_type": "stream",
     "text": [
      "Computing permutation importance.. Progress: 12%. Estimated remaining time: 4 minutes, 3 seconds.\n",
      "Computing permutation importance.. Progress: 24%. Estimated remaining time: 3 minutes, 23 seconds.\n",
      "Computing permutation importance.. Progress: 36%. Estimated remaining time: 2 minutes, 52 seconds.\n",
      "Computing permutation importance.. Progress: 48%. Estimated remaining time: 2 minutes, 18 seconds.\n",
      "Computing permutation importance.. Progress: 60%. Estimated remaining time: 1 minute, 44 seconds.\n",
      "Computing permutation importance.. Progress: 72%. Estimated remaining time: 1 minute, 12 seconds.\n",
      "Computing permutation importance.. Progress: 84%. Estimated remaining time: 41 seconds.\n",
      "Computing permutation importance.. Progress: 96%. Estimated remaining time: 10 seconds.\n"
     ]
    },
    {
     "name": "stderr",
     "output_type": "stream",
     "text": [
      " 9. run of importance source...\n"
     ]
    },
    {
     "name": "stdout",
     "output_type": "stream",
     "text": [
      "Computing permutation importance.. Progress: 11%. Estimated remaining time: 4 minutes, 16 seconds.\n",
      "Computing permutation importance.. Progress: 23%. Estimated remaining time: 3 minutes, 32 seconds.\n",
      "Computing permutation importance.. Progress: 35%. Estimated remaining time: 2 minutes, 57 seconds.\n",
      "Computing permutation importance.. Progress: 46%. Estimated remaining time: 2 minutes, 26 seconds.\n",
      "Computing permutation importance.. Progress: 58%. Estimated remaining time: 1 minute, 51 seconds.\n",
      "Computing permutation importance.. Progress: 70%. Estimated remaining time: 1 minute, 19 seconds.\n",
      "Computing permutation importance.. Progress: 82%. Estimated remaining time: 47 seconds.\n",
      "Computing permutation importance.. Progress: 94%. Estimated remaining time: 16 seconds.\n"
     ]
    },
    {
     "name": "stderr",
     "output_type": "stream",
     "text": [
      " 10. run of importance source...\n"
     ]
    },
    {
     "name": "stdout",
     "output_type": "stream",
     "text": [
      "Computing permutation importance.. Progress: 11%. Estimated remaining time: 4 minutes, 5 seconds.\n",
      "Computing permutation importance.. Progress: 22%. Estimated remaining time: 3 minutes, 34 seconds.\n",
      "Computing permutation importance.. Progress: 35%. Estimated remaining time: 2 minutes, 56 seconds.\n",
      "Computing permutation importance.. Progress: 46%. Estimated remaining time: 2 minutes, 24 seconds.\n",
      "Computing permutation importance.. Progress: 58%. Estimated remaining time: 1 minute, 52 seconds.\n",
      "Computing permutation importance.. Progress: 70%. Estimated remaining time: 1 minute, 20 seconds.\n",
      "Computing permutation importance.. Progress: 82%. Estimated remaining time: 48 seconds.\n",
      "Computing permutation importance.. Progress: 94%. Estimated remaining time: 16 seconds.\n"
     ]
    },
    {
     "name": "stderr",
     "output_type": "stream",
     "text": [
      " 11. run of importance source...\n"
     ]
    },
    {
     "name": "stdout",
     "output_type": "stream",
     "text": [
      "Computing permutation importance.. Progress: 11%. Estimated remaining time: 4 minutes, 5 seconds.\n",
      "Computing permutation importance.. Progress: 23%. Estimated remaining time: 3 minutes, 26 seconds.\n",
      "Computing permutation importance.. Progress: 36%. Estimated remaining time: 2 minutes, 50 seconds.\n",
      "Computing permutation importance.. Progress: 48%. Estimated remaining time: 2 minutes, 17 seconds.\n",
      "Computing permutation importance.. Progress: 60%. Estimated remaining time: 1 minute, 46 seconds.\n",
      "Computing permutation importance.. Progress: 72%. Estimated remaining time: 1 minute, 14 seconds.\n",
      "Computing permutation importance.. Progress: 84%. Estimated remaining time: 43 seconds.\n",
      "Computing permutation importance.. Progress: 95%. Estimated remaining time: 13 seconds.\n"
     ]
    },
    {
     "name": "stderr",
     "output_type": "stream",
     "text": [
      " 12. run of importance source...\n"
     ]
    },
    {
     "name": "stdout",
     "output_type": "stream",
     "text": [
      "Computing permutation importance.. Progress: 11%. Estimated remaining time: 4 minutes, 5 seconds.\n",
      "Computing permutation importance.. Progress: 24%. Estimated remaining time: 3 minutes, 23 seconds.\n",
      "Computing permutation importance.. Progress: 35%. Estimated remaining time: 2 minutes, 51 seconds.\n",
      "Computing permutation importance.. Progress: 47%. Estimated remaining time: 2 minutes, 22 seconds.\n",
      "Computing permutation importance.. Progress: 59%. Estimated remaining time: 1 minute, 50 seconds.\n",
      "Computing permutation importance.. Progress: 71%. Estimated remaining time: 1 minute, 18 seconds.\n",
      "Computing permutation importance.. Progress: 82%. Estimated remaining time: 47 seconds.\n",
      "Computing permutation importance.. Progress: 94%. Estimated remaining time: 16 seconds.\n"
     ]
    },
    {
     "name": "stderr",
     "output_type": "stream",
     "text": [
      " 13. run of importance source...\n"
     ]
    },
    {
     "name": "stdout",
     "output_type": "stream",
     "text": [
      "Computing permutation importance.. Progress: 11%. Estimated remaining time: 4 minutes, 13 seconds.\n",
      "Computing permutation importance.. Progress: 23%. Estimated remaining time: 3 minutes, 28 seconds.\n",
      "Computing permutation importance.. Progress: 35%. Estimated remaining time: 2 minutes, 54 seconds.\n",
      "Computing permutation importance.. Progress: 47%. Estimated remaining time: 2 minutes, 20 seconds.\n",
      "Computing permutation importance.. Progress: 58%. Estimated remaining time: 1 minute, 51 seconds.\n",
      "Computing permutation importance.. Progress: 71%. Estimated remaining time: 1 minute, 18 seconds.\n",
      "Computing permutation importance.. Progress: 83%. Estimated remaining time: 45 seconds.\n",
      "Computing permutation importance.. Progress: 94%. Estimated remaining time: 14 seconds.\n"
     ]
    },
    {
     "name": "stderr",
     "output_type": "stream",
     "text": [
      " 14. run of importance source...\n"
     ]
    },
    {
     "name": "stdout",
     "output_type": "stream",
     "text": [
      "Computing permutation importance.. Progress: 11%. Estimated remaining time: 4 minutes, 10 seconds.\n",
      "Computing permutation importance.. Progress: 23%. Estimated remaining time: 3 minutes, 33 seconds.\n",
      "Computing permutation importance.. Progress: 34%. Estimated remaining time: 3 minutes, 4 seconds.\n",
      "Computing permutation importance.. Progress: 46%. Estimated remaining time: 2 minutes, 30 seconds.\n",
      "Computing permutation importance.. Progress: 57%. Estimated remaining time: 1 minute, 56 seconds.\n",
      "Computing permutation importance.. Progress: 70%. Estimated remaining time: 1 minute, 22 seconds.\n",
      "Computing permutation importance.. Progress: 82%. Estimated remaining time: 50 seconds.\n",
      "Computing permutation importance.. Progress: 94%. Estimated remaining time: 16 seconds.\n"
     ]
    },
    {
     "name": "stderr",
     "output_type": "stream",
     "text": [
      " 15. run of importance source...\n"
     ]
    },
    {
     "name": "stdout",
     "output_type": "stream",
     "text": [
      "Computing permutation importance.. Progress: 11%. Estimated remaining time: 4 minutes, 0 seconds.\n",
      "Computing permutation importance.. Progress: 23%. Estimated remaining time: 3 minutes, 29 seconds.\n",
      "Computing permutation importance.. Progress: 35%. Estimated remaining time: 2 minutes, 55 seconds.\n",
      "Computing permutation importance.. Progress: 46%. Estimated remaining time: 2 minutes, 26 seconds.\n",
      "Computing permutation importance.. Progress: 58%. Estimated remaining time: 1 minute, 52 seconds.\n",
      "Computing permutation importance.. Progress: 69%. Estimated remaining time: 1 minute, 22 seconds.\n",
      "Computing permutation importance.. Progress: 81%. Estimated remaining time: 50 seconds.\n",
      "Computing permutation importance.. Progress: 94%. Estimated remaining time: 16 seconds.\n"
     ]
    },
    {
     "name": "stderr",
     "output_type": "stream",
     "text": [
      " 16. run of importance source...\n"
     ]
    },
    {
     "name": "stdout",
     "output_type": "stream",
     "text": [
      "Computing permutation importance.. Progress: 11%. Estimated remaining time: 4 minutes, 5 seconds.\n",
      "Computing permutation importance.. Progress: 23%. Estimated remaining time: 3 minutes, 27 seconds.\n",
      "Computing permutation importance.. Progress: 34%. Estimated remaining time: 2 minutes, 57 seconds.\n",
      "Computing permutation importance.. Progress: 46%. Estimated remaining time: 2 minutes, 25 seconds.\n",
      "Computing permutation importance.. Progress: 58%. Estimated remaining time: 1 minute, 52 seconds.\n",
      "Computing permutation importance.. Progress: 70%. Estimated remaining time: 1 minute, 21 seconds.\n",
      "Computing permutation importance.. Progress: 81%. Estimated remaining time: 50 seconds.\n",
      "Computing permutation importance.. Progress: 93%. Estimated remaining time: 18 seconds.\n"
     ]
    },
    {
     "name": "stderr",
     "output_type": "stream",
     "text": [
      " 17. run of importance source...\n"
     ]
    },
    {
     "name": "stdout",
     "output_type": "stream",
     "text": [
      "Computing permutation importance.. Progress: 11%. Estimated remaining time: 4 minutes, 0 seconds.\n",
      "Computing permutation importance.. Progress: 23%. Estimated remaining time: 3 minutes, 34 seconds.\n",
      "Computing permutation importance.. Progress: 35%. Estimated remaining time: 2 minutes, 56 seconds.\n",
      "Computing permutation importance.. Progress: 46%. Estimated remaining time: 2 minutes, 26 seconds.\n",
      "Computing permutation importance.. Progress: 59%. Estimated remaining time: 1 minute, 51 seconds.\n",
      "Computing permutation importance.. Progress: 70%. Estimated remaining time: 1 minute, 19 seconds.\n",
      "Computing permutation importance.. Progress: 82%. Estimated remaining time: 49 seconds.\n",
      "Computing permutation importance.. Progress: 93%. Estimated remaining time: 18 seconds.\n"
     ]
    },
    {
     "name": "stderr",
     "output_type": "stream",
     "text": [
      " 18. run of importance source...\n"
     ]
    },
    {
     "name": "stdout",
     "output_type": "stream",
     "text": [
      "Computing permutation importance.. Progress: 11%. Estimated remaining time: 4 minutes, 16 seconds.\n",
      "Computing permutation importance.. Progress: 23%. Estimated remaining time: 3 minutes, 32 seconds.\n",
      "Computing permutation importance.. Progress: 34%. Estimated remaining time: 2 minutes, 57 seconds.\n",
      "Computing permutation importance.. Progress: 46%. Estimated remaining time: 2 minutes, 24 seconds.\n",
      "Computing permutation importance.. Progress: 58%. Estimated remaining time: 1 minute, 52 seconds.\n",
      "Computing permutation importance.. Progress: 70%. Estimated remaining time: 1 minute, 19 seconds.\n",
      "Computing permutation importance.. Progress: 83%. Estimated remaining time: 46 seconds.\n",
      "Computing permutation importance.. Progress: 94%. Estimated remaining time: 15 seconds.\n"
     ]
    },
    {
     "name": "stderr",
     "output_type": "stream",
     "text": [
      " 19. run of importance source...\n"
     ]
    },
    {
     "name": "stdout",
     "output_type": "stream",
     "text": [
      "Computing permutation importance.. Progress: 11%. Estimated remaining time: 4 minutes, 5 seconds.\n",
      "Computing permutation importance.. Progress: 23%. Estimated remaining time: 3 minutes, 27 seconds.\n",
      "Computing permutation importance.. Progress: 35%. Estimated remaining time: 2 minutes, 54 seconds.\n",
      "Computing permutation importance.. Progress: 47%. Estimated remaining time: 2 minutes, 20 seconds.\n",
      "Computing permutation importance.. Progress: 59%. Estimated remaining time: 1 minute, 50 seconds.\n",
      "Computing permutation importance.. Progress: 70%. Estimated remaining time: 1 minute, 20 seconds.\n",
      "Computing permutation importance.. Progress: 82%. Estimated remaining time: 46 seconds.\n",
      "Computing permutation importance.. Progress: 95%. Estimated remaining time: 14 seconds.\n"
     ]
    },
    {
     "name": "stderr",
     "output_type": "stream",
     "text": [
      " 20. run of importance source...\n"
     ]
    },
    {
     "name": "stdout",
     "output_type": "stream",
     "text": [
      "Computing permutation importance.. Progress: 11%. Estimated remaining time: 4 minutes, 13 seconds.\n",
      "Computing permutation importance.. Progress: 23%. Estimated remaining time: 3 minutes, 28 seconds.\n",
      "Computing permutation importance.. Progress: 35%. Estimated remaining time: 2 minutes, 56 seconds.\n",
      "Computing permutation importance.. Progress: 47%. Estimated remaining time: 2 minutes, 20 seconds.\n",
      "Computing permutation importance.. Progress: 59%. Estimated remaining time: 1 minute, 49 seconds.\n",
      "Computing permutation importance.. Progress: 71%. Estimated remaining time: 1 minute, 16 seconds.\n",
      "Computing permutation importance.. Progress: 83%. Estimated remaining time: 45 seconds.\n",
      "Computing permutation importance.. Progress: 95%. Estimated remaining time: 13 seconds.\n"
     ]
    },
    {
     "name": "stderr",
     "output_type": "stream",
     "text": [
      " 21. run of importance source...\n"
     ]
    },
    {
     "name": "stdout",
     "output_type": "stream",
     "text": [
      "Computing permutation importance.. Progress: 11%. Estimated remaining time: 4 minutes, 5 seconds.\n",
      "Computing permutation importance.. Progress: 23%. Estimated remaining time: 3 minutes, 29 seconds.\n",
      "Computing permutation importance.. Progress: 35%. Estimated remaining time: 2 minutes, 54 seconds.\n",
      "Computing permutation importance.. Progress: 46%. Estimated remaining time: 2 minutes, 25 seconds.\n",
      "Computing permutation importance.. Progress: 58%. Estimated remaining time: 1 minute, 53 seconds.\n",
      "Computing permutation importance.. Progress: 70%. Estimated remaining time: 1 minute, 20 seconds.\n",
      "Computing permutation importance.. Progress: 82%. Estimated remaining time: 48 seconds.\n",
      "Computing permutation importance.. Progress: 93%. Estimated remaining time: 17 seconds.\n"
     ]
    },
    {
     "name": "stderr",
     "output_type": "stream",
     "text": [
      "After 21 iterations, +1.6 hours: \n",
      " rejected 20113 attributes: A1BG, A1BG-AS1, A1CF, A2M, A2M-AS1 and 20108 more;\n",
      " still have 61 attributes left.\n",
      "\n",
      " 22. run of importance source...\n",
      " 23. run of importance source...\n",
      " 24. run of importance source...\n",
      " 25. run of importance source...\n",
      " 26. run of importance source...\n",
      "After 26 iterations, +1.6 hours: \n",
      " rejected 21 attributes: AGAP2, ANXA2P2, ATP6V1G2, CSF1R, DMRT1 and 16 more;\n",
      " still have 40 attributes left.\n",
      "\n",
      " 27. run of importance source...\n",
      " 28. run of importance source...\n",
      " 29. run of importance source...\n",
      " 30. run of importance source...\n",
      "After 30 iterations, +1.6 hours: \n",
      " rejected 2 attributes: LIPG, PREX2;\n",
      " still have 38 attributes left.\n",
      "\n",
      " 31. run of importance source...\n",
      " 32. run of importance source...\n",
      " 33. run of importance source...\n",
      " 34. run of importance source...\n",
      "After 34 iterations, +1.6 hours: \n",
      " rejected 2 attributes: MAP6, SENP1;\n",
      " still have 36 attributes left.\n",
      "\n",
      " 35. run of importance source...\n",
      " 36. run of importance source...\n",
      " 37. run of importance source...\n",
      " 38. run of importance source...\n",
      "After 38 iterations, +1.6 hours: \n",
      " rejected 1 attribute: RNF40;\n",
      " still have 35 attributes left.\n",
      "\n",
      " 39. run of importance source...\n",
      " 40. run of importance source...\n",
      " 41. run of importance source...\n",
      " 42. run of importance source...\n",
      " 43. run of importance source...\n",
      " 44. run of importance source...\n",
      " 45. run of importance source...\n",
      " 46. run of importance source...\n",
      " 47. run of importance source...\n",
      " 48. run of importance source...\n",
      "After 48 iterations, +1.6 hours: \n",
      " rejected 1 attribute: NRSN1;\n",
      " still have 34 attributes left.\n",
      "\n",
      " 49. run of importance source...\n",
      " 50. run of importance source...\n",
      " 51. run of importance source...\n",
      "After 51 iterations, +1.6 hours: \n",
      " rejected 1 attribute: ANXA2;\n",
      " still have 33 attributes left.\n",
      "\n",
      " 52. run of importance source...\n",
      " 53. run of importance source...\n",
      " 54. run of importance source...\n",
      " 55. run of importance source...\n",
      " 56. run of importance source...\n",
      " 57. run of importance source...\n",
      " 58. run of importance source...\n",
      " 59. run of importance source...\n",
      " 60. run of importance source...\n",
      " 61. run of importance source...\n",
      " 62. run of importance source...\n",
      " 63. run of importance source...\n",
      " 64. run of importance source...\n",
      " 65. run of importance source...\n",
      " 66. run of importance source...\n",
      " 67. run of importance source...\n",
      " 68. run of importance source...\n",
      " 69. run of importance source...\n",
      " 70. run of importance source...\n",
      " 71. run of importance source...\n",
      " 72. run of importance source...\n",
      " 73. run of importance source...\n",
      " 74. run of importance source...\n",
      " 75. run of importance source...\n",
      " 76. run of importance source...\n",
      " 77. run of importance source...\n",
      " 78. run of importance source...\n",
      " 79. run of importance source...\n",
      " 80. run of importance source...\n",
      " 81. run of importance source...\n",
      " 82. run of importance source...\n",
      " 83. run of importance source...\n",
      "After 83 iterations, +1.6 hours: \n",
      " confirmed 2 attributes: NR4A3, SEZ6L2;\n",
      " still have 31 attributes left.\n",
      "\n",
      " 84. run of importance source...\n",
      " 85. run of importance source...\n",
      " 86. run of importance source...\n",
      "After 86 iterations, +1.7 hours: \n",
      " confirmed 1 attribute: BRME1;\n",
      " still have 30 attributes left.\n",
      "\n",
      " 87. run of importance source...\n",
      " 88. run of importance source...\n",
      "After 88 iterations, +1.7 hours: \n",
      " confirmed 2 attributes: ATRX, ZNF727;\n",
      " still have 28 attributes left.\n",
      "\n",
      " 89. run of importance source...\n",
      " 90. run of importance source...\n",
      " 91. run of importance source...\n",
      "After 91 iterations, +1.7 hours: \n",
      " confirmed 4 attributes: LHFPL3-AS1, MTSS2, TDRD10, ZNF354A;\n",
      " still have 24 attributes left.\n",
      "\n",
      " 92. run of importance source...\n",
      " 93. run of importance source...\n",
      " 94. run of importance source...\n",
      "After 94 iterations, +1.7 hours: \n",
      " confirmed 4 attributes: IPO8, MYOZ2, NF2, SORT1;\n",
      " still have 20 attributes left.\n",
      "\n",
      " 95. run of importance source...\n",
      " 96. run of importance source...\n",
      "After 96 iterations, +1.7 hours: \n",
      " confirmed 2 attributes: NPHP4, ZNF582-DT;\n",
      " rejected 1 attribute: AQP10;\n",
      " still have 17 attributes left.\n",
      "\n",
      " 97. run of importance source...\n",
      " 98. run of importance source...\n",
      " 99. run of importance source...\n"
     ]
    },
    {
     "name": "stdout",
     "output_type": "stream",
     "text": [
      "\n",
      "Drug13: Boruta is running for RAF265"
     ]
    },
    {
     "name": "stderr",
     "output_type": "stream",
     "text": [
      " 1. run of importance source...\n"
     ]
    },
    {
     "name": "stdout",
     "output_type": "stream",
     "text": [
      "Computing permutation importance.. Progress: 29%. Estimated remaining time: 1 minute, 16 seconds.\n",
      "Computing permutation importance.. Progress: 59%. Estimated remaining time: 43 seconds.\n",
      "Computing permutation importance.. Progress: 88%. Estimated remaining time: 12 seconds.\n"
     ]
    },
    {
     "name": "stderr",
     "output_type": "stream",
     "text": [
      " 2. run of importance source...\n"
     ]
    },
    {
     "name": "stdout",
     "output_type": "stream",
     "text": [
      "Computing permutation importance.. Progress: 29%. Estimated remaining time: 1 minute, 14 seconds.\n",
      "Computing permutation importance.. Progress: 59%. Estimated remaining time: 42 seconds.\n",
      "Computing permutation importance.. Progress: 89%. Estimated remaining time: 11 seconds.\n"
     ]
    },
    {
     "name": "stderr",
     "output_type": "stream",
     "text": [
      " 3. run of importance source...\n"
     ]
    },
    {
     "name": "stdout",
     "output_type": "stream",
     "text": [
      "Computing permutation importance.. Progress: 29%. Estimated remaining time: 1 minute, 17 seconds.\n",
      "Computing permutation importance.. Progress: 58%. Estimated remaining time: 44 seconds.\n",
      "Computing permutation importance.. Progress: 87%. Estimated remaining time: 13 seconds.\n"
     ]
    },
    {
     "name": "stderr",
     "output_type": "stream",
     "text": [
      " 4. run of importance source...\n"
     ]
    },
    {
     "name": "stdout",
     "output_type": "stream",
     "text": [
      "Computing permutation importance.. Progress: 30%. Estimated remaining time: 1 minute, 13 seconds.\n",
      "Computing permutation importance.. Progress: 59%. Estimated remaining time: 43 seconds.\n",
      "Computing permutation importance.. Progress: 89%. Estimated remaining time: 11 seconds.\n"
     ]
    },
    {
     "name": "stderr",
     "output_type": "stream",
     "text": [
      " 5. run of importance source...\n"
     ]
    },
    {
     "name": "stdout",
     "output_type": "stream",
     "text": [
      "Computing permutation importance.. Progress: 29%. Estimated remaining time: 1 minute, 15 seconds.\n",
      "Computing permutation importance.. Progress: 59%. Estimated remaining time: 43 seconds.\n",
      "Computing permutation importance.. Progress: 88%. Estimated remaining time: 12 seconds.\n"
     ]
    },
    {
     "name": "stderr",
     "output_type": "stream",
     "text": [
      " 6. run of importance source...\n"
     ]
    },
    {
     "name": "stdout",
     "output_type": "stream",
     "text": [
      "Computing permutation importance.. Progress: 30%. Estimated remaining time: 1 minute, 13 seconds.\n",
      "Computing permutation importance.. Progress: 59%. Estimated remaining time: 42 seconds.\n",
      "Computing permutation importance.. Progress: 89%. Estimated remaining time: 11 seconds.\n"
     ]
    },
    {
     "name": "stderr",
     "output_type": "stream",
     "text": [
      " 7. run of importance source...\n"
     ]
    },
    {
     "name": "stdout",
     "output_type": "stream",
     "text": [
      "Computing permutation importance.. Progress: 28%. Estimated remaining time: 1 minute, 18 seconds.\n",
      "Computing permutation importance.. Progress: 58%. Estimated remaining time: 44 seconds.\n",
      "Computing permutation importance.. Progress: 88%. Estimated remaining time: 13 seconds.\n"
     ]
    },
    {
     "name": "stderr",
     "output_type": "stream",
     "text": [
      " 8. run of importance source...\n"
     ]
    },
    {
     "name": "stdout",
     "output_type": "stream",
     "text": [
      "Computing permutation importance.. Progress: 29%. Estimated remaining time: 1 minute, 15 seconds.\n",
      "Computing permutation importance.. Progress: 59%. Estimated remaining time: 43 seconds.\n",
      "Computing permutation importance.. Progress: 88%. Estimated remaining time: 12 seconds.\n"
     ]
    },
    {
     "name": "stderr",
     "output_type": "stream",
     "text": [
      " 9. run of importance source...\n"
     ]
    },
    {
     "name": "stdout",
     "output_type": "stream",
     "text": [
      "Computing permutation importance.. Progress: 29%. Estimated remaining time: 1 minute, 15 seconds.\n",
      "Computing permutation importance.. Progress: 58%. Estimated remaining time: 45 seconds.\n",
      "Computing permutation importance.. Progress: 87%. Estimated remaining time: 14 seconds.\n"
     ]
    },
    {
     "name": "stderr",
     "output_type": "stream",
     "text": [
      " 10. run of importance source...\n"
     ]
    },
    {
     "name": "stdout",
     "output_type": "stream",
     "text": [
      "Computing permutation importance.. Progress: 29%. Estimated remaining time: 1 minute, 15 seconds.\n",
      "Computing permutation importance.. Progress: 59%. Estimated remaining time: 43 seconds.\n",
      "Computing permutation importance.. Progress: 88%. Estimated remaining time: 12 seconds.\n"
     ]
    },
    {
     "name": "stderr",
     "output_type": "stream",
     "text": [
      " 11. run of importance source...\n"
     ]
    },
    {
     "name": "stdout",
     "output_type": "stream",
     "text": [
      "Computing permutation importance.. Progress: 29%. Estimated remaining time: 1 minute, 15 seconds.\n",
      "Computing permutation importance.. Progress: 58%. Estimated remaining time: 44 seconds.\n",
      "Computing permutation importance.. Progress: 88%. Estimated remaining time: 13 seconds.\n"
     ]
    },
    {
     "name": "stderr",
     "output_type": "stream",
     "text": [
      " 12. run of importance source...\n"
     ]
    },
    {
     "name": "stdout",
     "output_type": "stream",
     "text": [
      "Computing permutation importance.. Progress: 29%. Estimated remaining time: 1 minute, 17 seconds.\n",
      "Computing permutation importance.. Progress: 58%. Estimated remaining time: 44 seconds.\n",
      "Computing permutation importance.. Progress: 87%. Estimated remaining time: 14 seconds.\n"
     ]
    },
    {
     "name": "stderr",
     "output_type": "stream",
     "text": [
      " 13. run of importance source...\n"
     ]
    },
    {
     "name": "stdout",
     "output_type": "stream",
     "text": [
      "Computing permutation importance.. Progress: 29%. Estimated remaining time: 1 minute, 14 seconds.\n",
      "Computing permutation importance.. Progress: 59%. Estimated remaining time: 43 seconds.\n",
      "Computing permutation importance.. Progress: 89%. Estimated remaining time: 11 seconds.\n"
     ]
    },
    {
     "name": "stderr",
     "output_type": "stream",
     "text": [
      " 14. run of importance source...\n"
     ]
    },
    {
     "name": "stdout",
     "output_type": "stream",
     "text": [
      "Computing permutation importance.. Progress: 29%. Estimated remaining time: 1 minute, 14 seconds.\n",
      "Computing permutation importance.. Progress: 59%. Estimated remaining time: 42 seconds.\n",
      "Computing permutation importance.. Progress: 89%. Estimated remaining time: 11 seconds.\n"
     ]
    },
    {
     "name": "stderr",
     "output_type": "stream",
     "text": [
      " 15. run of importance source...\n"
     ]
    },
    {
     "name": "stdout",
     "output_type": "stream",
     "text": [
      "Computing permutation importance.. Progress: 29%. Estimated remaining time: 1 minute, 16 seconds.\n",
      "Computing permutation importance.. Progress: 57%. Estimated remaining time: 46 seconds.\n",
      "Computing permutation importance.. Progress: 87%. Estimated remaining time: 14 seconds.\n"
     ]
    },
    {
     "name": "stderr",
     "output_type": "stream",
     "text": [
      " 16. run of importance source...\n"
     ]
    },
    {
     "name": "stdout",
     "output_type": "stream",
     "text": [
      "Computing permutation importance.. Progress: 29%. Estimated remaining time: 1 minute, 15 seconds.\n",
      "Computing permutation importance.. Progress: 59%. Estimated remaining time: 43 seconds.\n",
      "Computing permutation importance.. Progress: 89%. Estimated remaining time: 11 seconds.\n"
     ]
    },
    {
     "name": "stderr",
     "output_type": "stream",
     "text": [
      " 17. run of importance source...\n"
     ]
    },
    {
     "name": "stdout",
     "output_type": "stream",
     "text": [
      "Computing permutation importance.. Progress: 29%. Estimated remaining time: 1 minute, 17 seconds.\n",
      "Computing permutation importance.. Progress: 58%. Estimated remaining time: 44 seconds.\n",
      "Computing permutation importance.. Progress: 88%. Estimated remaining time: 13 seconds.\n"
     ]
    },
    {
     "name": "stderr",
     "output_type": "stream",
     "text": [
      " 18. run of importance source...\n"
     ]
    },
    {
     "name": "stdout",
     "output_type": "stream",
     "text": [
      "Computing permutation importance.. Progress: 29%. Estimated remaining time: 1 minute, 16 seconds.\n",
      "Computing permutation importance.. Progress: 58%. Estimated remaining time: 44 seconds.\n",
      "Computing permutation importance.. Progress: 87%. Estimated remaining time: 13 seconds.\n"
     ]
    },
    {
     "name": "stderr",
     "output_type": "stream",
     "text": [
      " 19. run of importance source...\n"
     ]
    },
    {
     "name": "stdout",
     "output_type": "stream",
     "text": [
      "Computing permutation importance.. Progress: 28%. Estimated remaining time: 1 minute, 18 seconds.\n",
      "Computing permutation importance.. Progress: 58%. Estimated remaining time: 45 seconds.\n",
      "Computing permutation importance.. Progress: 87%. Estimated remaining time: 13 seconds.\n"
     ]
    },
    {
     "name": "stderr",
     "output_type": "stream",
     "text": [
      " 20. run of importance source...\n"
     ]
    },
    {
     "name": "stdout",
     "output_type": "stream",
     "text": [
      "Computing permutation importance.. Progress: 29%. Estimated remaining time: 1 minute, 16 seconds.\n",
      "Computing permutation importance.. Progress: 58%. Estimated remaining time: 45 seconds.\n",
      "Computing permutation importance.. Progress: 87%. Estimated remaining time: 13 seconds.\n"
     ]
    },
    {
     "name": "stderr",
     "output_type": "stream",
     "text": [
      " 21. run of importance source...\n"
     ]
    },
    {
     "name": "stdout",
     "output_type": "stream",
     "text": [
      "Computing permutation importance.. Progress: 29%. Estimated remaining time: 1 minute, 15 seconds.\n",
      "Computing permutation importance.. Progress: 59%. Estimated remaining time: 43 seconds.\n",
      "Computing permutation importance.. Progress: 88%. Estimated remaining time: 12 seconds.\n"
     ]
    },
    {
     "name": "stderr",
     "output_type": "stream",
     "text": [
      "After 21 iterations, +40 mins: \n",
      " rejected 20134 attributes: A1BG, A1BG-AS1, A1CF, A2M, A2M-AS1 and 20129 more;\n",
      " still have 40 attributes left.\n",
      "\n",
      " 22. run of importance source...\n",
      " 23. run of importance source...\n",
      " 24. run of importance source...\n",
      " 25. run of importance source...\n",
      " 26. run of importance source...\n",
      "After 26 iterations, +40 mins: \n",
      " rejected 13 attributes: COG3, CRYBG1, CXorf38, DNAI7, EMP2 and 8 more;\n",
      " still have 27 attributes left.\n",
      "\n",
      " 27. run of importance source...\n",
      " 28. run of importance source...\n",
      " 29. run of importance source...\n",
      " 30. run of importance source...\n",
      "After 30 iterations, +40 mins: \n",
      " rejected 1 attribute: ZNF736;\n",
      " still have 26 attributes left.\n",
      "\n",
      " 31. run of importance source...\n",
      " 32. run of importance source...\n",
      " 33. run of importance source...\n",
      " 34. run of importance source...\n",
      " 35. run of importance source...\n",
      " 36. run of importance source...\n",
      " 37. run of importance source...\n",
      " 38. run of importance source...\n",
      " 39. run of importance source...\n",
      " 40. run of importance source...\n",
      " 41. run of importance source...\n",
      " 42. run of importance source...\n",
      " 43. run of importance source...\n",
      " 44. run of importance source...\n",
      " 45. run of importance source...\n",
      " 46. run of importance source...\n",
      " 47. run of importance source...\n",
      " 48. run of importance source...\n",
      " 49. run of importance source...\n",
      " 50. run of importance source...\n",
      " 51. run of importance source...\n",
      " 52. run of importance source...\n",
      " 53. run of importance source...\n",
      " 54. run of importance source...\n",
      " 55. run of importance source...\n",
      " 56. run of importance source...\n",
      " 57. run of importance source...\n",
      " 58. run of importance source...\n",
      " 59. run of importance source...\n",
      " 60. run of importance source...\n",
      " 61. run of importance source...\n",
      " 62. run of importance source...\n",
      " 63. run of importance source...\n",
      " 64. run of importance source...\n",
      " 65. run of importance source...\n",
      " 66. run of importance source...\n",
      " 67. run of importance source...\n",
      " 68. run of importance source...\n",
      " 69. run of importance source...\n",
      "After 69 iterations, +40 mins: \n",
      " rejected 1 attribute: TRPV2;\n",
      " still have 25 attributes left.\n",
      "\n",
      " 70. run of importance source...\n",
      " 71. run of importance source...\n",
      " 72. run of importance source...\n",
      " 73. run of importance source...\n",
      " 74. run of importance source...\n",
      " 75. run of importance source...\n",
      " 76. run of importance source...\n",
      " 77. run of importance source...\n",
      " 78. run of importance source...\n",
      " 79. run of importance source...\n",
      " 80. run of importance source...\n",
      " 81. run of importance source...\n",
      " 82. run of importance source...\n",
      " 83. run of importance source...\n",
      "After 83 iterations, +40 mins: \n",
      " confirmed 4 attributes: AGAP2-AS1, MRPS18C, VPS33B, ZBTB7C;\n",
      " still have 21 attributes left.\n",
      "\n",
      " 84. run of importance source...\n",
      " 85. run of importance source...\n",
      " 86. run of importance source...\n",
      "After 86 iterations, +40 mins: \n",
      " confirmed 5 attributes: HMG20A, KMT2E, P4HA1, RAB30, VPS37B;\n",
      " still have 16 attributes left.\n",
      "\n",
      " 87. run of importance source...\n",
      " 88. run of importance source...\n",
      "After 88 iterations, +40 mins: \n",
      " confirmed 1 attribute: LIPT2-AS1;\n",
      " still have 15 attributes left.\n",
      "\n",
      " 89. run of importance source...\n",
      " 90. run of importance source...\n",
      " 91. run of importance source...\n",
      "After 91 iterations, +40 mins: \n",
      " confirmed 2 attributes: MIR3936HG, SNRPD1;\n",
      " still have 13 attributes left.\n",
      "\n",
      " 92. run of importance source...\n",
      " 93. run of importance source...\n",
      " 94. run of importance source...\n",
      " 95. run of importance source...\n",
      " 96. run of importance source...\n",
      "After 96 iterations, +40 mins: \n",
      " confirmed 1 attribute: PRR15L;\n",
      " still have 12 attributes left.\n",
      "\n",
      " 97. run of importance source...\n",
      " 98. run of importance source...\n",
      " 99. run of importance source...\n"
     ]
    },
    {
     "name": "stdout",
     "output_type": "stream",
     "text": [
      "\n",
      "Drug14: Boruta is running for L-685458"
     ]
    },
    {
     "name": "stderr",
     "output_type": "stream",
     "text": [
      " 1. run of importance source...\n"
     ]
    },
    {
     "name": "stdout",
     "output_type": "stream",
     "text": [
      "Computing permutation importance.. Progress: 17%. Estimated remaining time: 2 minutes, 29 seconds.\n",
      "Computing permutation importance.. Progress: 36%. Estimated remaining time: 1 minute, 52 seconds.\n",
      "Computing permutation importance.. Progress: 54%. Estimated remaining time: 1 minute, 20 seconds.\n",
      "Computing permutation importance.. Progress: 72%. Estimated remaining time: 48 seconds.\n",
      "Computing permutation importance.. Progress: 90%. Estimated remaining time: 16 seconds.\n"
     ]
    },
    {
     "name": "stderr",
     "output_type": "stream",
     "text": [
      " 2. run of importance source...\n"
     ]
    },
    {
     "name": "stdout",
     "output_type": "stream",
     "text": [
      "Computing permutation importance.. Progress: 17%. Estimated remaining time: 2 minutes, 27 seconds.\n",
      "Computing permutation importance.. Progress: 35%. Estimated remaining time: 1 minute, 54 seconds.\n",
      "Computing permutation importance.. Progress: 53%. Estimated remaining time: 1 minute, 22 seconds.\n",
      "Computing permutation importance.. Progress: 72%. Estimated remaining time: 49 seconds.\n",
      "Computing permutation importance.. Progress: 89%. Estimated remaining time: 19 seconds.\n"
     ]
    },
    {
     "name": "stderr",
     "output_type": "stream",
     "text": [
      " 3. run of importance source...\n"
     ]
    },
    {
     "name": "stdout",
     "output_type": "stream",
     "text": [
      "Computing permutation importance.. Progress: 17%. Estimated remaining time: 2 minutes, 29 seconds.\n",
      "Computing permutation importance.. Progress: 36%. Estimated remaining time: 1 minute, 50 seconds.\n",
      "Computing permutation importance.. Progress: 54%. Estimated remaining time: 1 minute, 19 seconds.\n",
      "Computing permutation importance.. Progress: 73%. Estimated remaining time: 47 seconds.\n",
      "Computing permutation importance.. Progress: 90%. Estimated remaining time: 17 seconds.\n"
     ]
    },
    {
     "name": "stderr",
     "output_type": "stream",
     "text": [
      " 4. run of importance source...\n"
     ]
    },
    {
     "name": "stdout",
     "output_type": "stream",
     "text": [
      "Computing permutation importance.. Progress: 17%. Estimated remaining time: 2 minutes, 31 seconds.\n",
      "Computing permutation importance.. Progress: 35%. Estimated remaining time: 1 minute, 55 seconds.\n",
      "Computing permutation importance.. Progress: 53%. Estimated remaining time: 1 minute, 22 seconds.\n",
      "Computing permutation importance.. Progress: 72%. Estimated remaining time: 48 seconds.\n",
      "Computing permutation importance.. Progress: 90%. Estimated remaining time: 18 seconds.\n"
     ]
    },
    {
     "name": "stderr",
     "output_type": "stream",
     "text": [
      " 5. run of importance source...\n"
     ]
    },
    {
     "name": "stdout",
     "output_type": "stream",
     "text": [
      "Computing permutation importance.. Progress: 18%. Estimated remaining time: 2 minutes, 25 seconds.\n",
      "Computing permutation importance.. Progress: 36%. Estimated remaining time: 1 minute, 51 seconds.\n",
      "Computing permutation importance.. Progress: 54%. Estimated remaining time: 1 minute, 20 seconds.\n",
      "Computing permutation importance.. Progress: 73%. Estimated remaining time: 47 seconds.\n",
      "Computing permutation importance.. Progress: 91%. Estimated remaining time: 16 seconds.\n"
     ]
    },
    {
     "name": "stderr",
     "output_type": "stream",
     "text": [
      " 6. run of importance source...\n"
     ]
    },
    {
     "name": "stdout",
     "output_type": "stream",
     "text": [
      "Computing permutation importance.. Progress: 17%. Estimated remaining time: 2 minutes, 27 seconds.\n",
      "Computing permutation importance.. Progress: 35%. Estimated remaining time: 1 minute, 54 seconds.\n",
      "Computing permutation importance.. Progress: 54%. Estimated remaining time: 1 minute, 20 seconds.\n",
      "Computing permutation importance.. Progress: 71%. Estimated remaining time: 50 seconds.\n",
      "Computing permutation importance.. Progress: 89%. Estimated remaining time: 18 seconds.\n"
     ]
    },
    {
     "name": "stderr",
     "output_type": "stream",
     "text": [
      " 7. run of importance source...\n"
     ]
    },
    {
     "name": "stdout",
     "output_type": "stream",
     "text": [
      "Computing permutation importance.. Progress: 18%. Estimated remaining time: 2 minutes, 17 seconds.\n",
      "Computing permutation importance.. Progress: 36%. Estimated remaining time: 1 minute, 49 seconds.\n",
      "Computing permutation importance.. Progress: 55%. Estimated remaining time: 1 minute, 17 seconds.\n",
      "Computing permutation importance.. Progress: 73%. Estimated remaining time: 46 seconds.\n",
      "Computing permutation importance.. Progress: 91%. Estimated remaining time: 14 seconds.\n"
     ]
    },
    {
     "name": "stderr",
     "output_type": "stream",
     "text": [
      " 8. run of importance source...\n"
     ]
    },
    {
     "name": "stdout",
     "output_type": "stream",
     "text": [
      "Computing permutation importance.. Progress: 18%. Estimated remaining time: 2 minutes, 25 seconds.\n",
      "Computing permutation importance.. Progress: 35%. Estimated remaining time: 1 minute, 54 seconds.\n",
      "Computing permutation importance.. Progress: 54%. Estimated remaining time: 1 minute, 19 seconds.\n",
      "Computing permutation importance.. Progress: 72%. Estimated remaining time: 47 seconds.\n",
      "Computing permutation importance.. Progress: 91%. Estimated remaining time: 15 seconds.\n"
     ]
    },
    {
     "name": "stderr",
     "output_type": "stream",
     "text": [
      " 9. run of importance source...\n"
     ]
    },
    {
     "name": "stdout",
     "output_type": "stream",
     "text": [
      "Computing permutation importance.. Progress: 16%. Estimated remaining time: 2 minutes, 42 seconds.\n",
      "Computing permutation importance.. Progress: 34%. Estimated remaining time: 1 minute, 59 seconds.\n",
      "Computing permutation importance.. Progress: 52%. Estimated remaining time: 1 minute, 26 seconds.\n",
      "Computing permutation importance.. Progress: 70%. Estimated remaining time: 52 seconds.\n",
      "Computing permutation importance.. Progress: 88%. Estimated remaining time: 20 seconds.\n"
     ]
    },
    {
     "name": "stderr",
     "output_type": "stream",
     "text": [
      " 10. run of importance source...\n"
     ]
    },
    {
     "name": "stdout",
     "output_type": "stream",
     "text": [
      "Computing permutation importance.. Progress: 17%. Estimated remaining time: 2 minutes, 29 seconds.\n",
      "Computing permutation importance.. Progress: 35%. Estimated remaining time: 1 minute, 56 seconds.\n",
      "Computing permutation importance.. Progress: 53%. Estimated remaining time: 1 minute, 22 seconds.\n",
      "Computing permutation importance.. Progress: 71%. Estimated remaining time: 50 seconds.\n",
      "Computing permutation importance.. Progress: 89%. Estimated remaining time: 18 seconds.\n"
     ]
    },
    {
     "name": "stderr",
     "output_type": "stream",
     "text": [
      " 11. run of importance source...\n"
     ]
    },
    {
     "name": "stdout",
     "output_type": "stream",
     "text": [
      "Computing permutation importance.. Progress: 18%. Estimated remaining time: 2 minutes, 21 seconds.\n",
      "Computing permutation importance.. Progress: 36%. Estimated remaining time: 1 minute, 52 seconds.\n",
      "Computing permutation importance.. Progress: 54%. Estimated remaining time: 1 minute, 18 seconds.\n",
      "Computing permutation importance.. Progress: 72%. Estimated remaining time: 48 seconds.\n",
      "Computing permutation importance.. Progress: 90%. Estimated remaining time: 16 seconds.\n"
     ]
    },
    {
     "name": "stderr",
     "output_type": "stream",
     "text": [
      " 12. run of importance source...\n"
     ]
    },
    {
     "name": "stdout",
     "output_type": "stream",
     "text": [
      "Computing permutation importance.. Progress: 17%. Estimated remaining time: 2 minutes, 29 seconds.\n",
      "Computing permutation importance.. Progress: 36%. Estimated remaining time: 1 minute, 52 seconds.\n",
      "Computing permutation importance.. Progress: 54%. Estimated remaining time: 1 minute, 19 seconds.\n",
      "Computing permutation importance.. Progress: 71%. Estimated remaining time: 49 seconds.\n",
      "Computing permutation importance.. Progress: 90%. Estimated remaining time: 17 seconds.\n"
     ]
    },
    {
     "name": "stderr",
     "output_type": "stream",
     "text": [
      " 13. run of importance source...\n"
     ]
    },
    {
     "name": "stdout",
     "output_type": "stream",
     "text": [
      "Computing permutation importance.. Progress: 18%. Estimated remaining time: 2 minutes, 25 seconds.\n",
      "Computing permutation importance.. Progress: 35%. Estimated remaining time: 1 minute, 53 seconds.\n",
      "Computing permutation importance.. Progress: 53%. Estimated remaining time: 1 minute, 21 seconds.\n",
      "Computing permutation importance.. Progress: 72%. Estimated remaining time: 47 seconds.\n",
      "Computing permutation importance.. Progress: 90%. Estimated remaining time: 16 seconds.\n"
     ]
    },
    {
     "name": "stderr",
     "output_type": "stream",
     "text": [
      " 14. run of importance source...\n"
     ]
    },
    {
     "name": "stdout",
     "output_type": "stream",
     "text": [
      "Computing permutation importance.. Progress: 18%. Estimated remaining time: 2 minutes, 25 seconds.\n",
      "Computing permutation importance.. Progress: 35%. Estimated remaining time: 1 minute, 53 seconds.\n",
      "Computing permutation importance.. Progress: 53%. Estimated remaining time: 1 minute, 22 seconds.\n",
      "Computing permutation importance.. Progress: 71%. Estimated remaining time: 50 seconds.\n",
      "Computing permutation importance.. Progress: 89%. Estimated remaining time: 19 seconds.\n"
     ]
    },
    {
     "name": "stderr",
     "output_type": "stream",
     "text": [
      " 15. run of importance source...\n"
     ]
    },
    {
     "name": "stdout",
     "output_type": "stream",
     "text": [
      "Computing permutation importance.. Progress: 18%. Estimated remaining time: 2 minutes, 23 seconds.\n",
      "Computing permutation importance.. Progress: 36%. Estimated remaining time: 1 minute, 52 seconds.\n",
      "Computing permutation importance.. Progress: 54%. Estimated remaining time: 1 minute, 19 seconds.\n",
      "Computing permutation importance.. Progress: 71%. Estimated remaining time: 50 seconds.\n",
      "Computing permutation importance.. Progress: 90%. Estimated remaining time: 17 seconds.\n"
     ]
    },
    {
     "name": "stderr",
     "output_type": "stream",
     "text": [
      " 16. run of importance source...\n"
     ]
    },
    {
     "name": "stdout",
     "output_type": "stream",
     "text": [
      "Computing permutation importance.. Progress: 18%. Estimated remaining time: 2 minutes, 21 seconds.\n",
      "Computing permutation importance.. Progress: 37%. Estimated remaining time: 1 minute, 47 seconds.\n",
      "Computing permutation importance.. Progress: 56%. Estimated remaining time: 1 minute, 13 seconds.\n",
      "Computing permutation importance.. Progress: 73%. Estimated remaining time: 45 seconds.\n",
      "Computing permutation importance.. Progress: 91%. Estimated remaining time: 14 seconds.\n"
     ]
    },
    {
     "name": "stderr",
     "output_type": "stream",
     "text": [
      " 17. run of importance source...\n"
     ]
    },
    {
     "name": "stdout",
     "output_type": "stream",
     "text": [
      "Computing permutation importance.. Progress: 17%. Estimated remaining time: 2 minutes, 27 seconds.\n",
      "Computing permutation importance.. Progress: 36%. Estimated remaining time: 1 minute, 52 seconds.\n",
      "Computing permutation importance.. Progress: 54%. Estimated remaining time: 1 minute, 21 seconds.\n",
      "Computing permutation importance.. Progress: 72%. Estimated remaining time: 49 seconds.\n",
      "Computing permutation importance.. Progress: 89%. Estimated remaining time: 19 seconds.\n"
     ]
    },
    {
     "name": "stderr",
     "output_type": "stream",
     "text": [
      " 18. run of importance source...\n"
     ]
    },
    {
     "name": "stdout",
     "output_type": "stream",
     "text": [
      "Computing permutation importance.. Progress: 17%. Estimated remaining time: 2 minutes, 31 seconds.\n",
      "Computing permutation importance.. Progress: 35%. Estimated remaining time: 1 minute, 55 seconds.\n",
      "Computing permutation importance.. Progress: 53%. Estimated remaining time: 1 minute, 22 seconds.\n",
      "Computing permutation importance.. Progress: 71%. Estimated remaining time: 49 seconds.\n",
      "Computing permutation importance.. Progress: 89%. Estimated remaining time: 18 seconds.\n"
     ]
    },
    {
     "name": "stderr",
     "output_type": "stream",
     "text": [
      " 19. run of importance source...\n"
     ]
    },
    {
     "name": "stdout",
     "output_type": "stream",
     "text": [
      "Computing permutation importance.. Progress: 18%. Estimated remaining time: 2 minutes, 25 seconds.\n",
      "Computing permutation importance.. Progress: 35%. Estimated remaining time: 1 minute, 53 seconds.\n",
      "Computing permutation importance.. Progress: 54%. Estimated remaining time: 1 minute, 18 seconds.\n",
      "Computing permutation importance.. Progress: 73%. Estimated remaining time: 47 seconds.\n",
      "Computing permutation importance.. Progress: 91%. Estimated remaining time: 15 seconds.\n"
     ]
    },
    {
     "name": "stderr",
     "output_type": "stream",
     "text": [
      " 20. run of importance source...\n"
     ]
    },
    {
     "name": "stdout",
     "output_type": "stream",
     "text": [
      "Computing permutation importance.. Progress: 17%. Estimated remaining time: 2 minutes, 29 seconds.\n",
      "Computing permutation importance.. Progress: 35%. Estimated remaining time: 1 minute, 55 seconds.\n",
      "Computing permutation importance.. Progress: 53%. Estimated remaining time: 1 minute, 22 seconds.\n",
      "Computing permutation importance.. Progress: 71%. Estimated remaining time: 51 seconds.\n",
      "Computing permutation importance.. Progress: 89%. Estimated remaining time: 19 seconds.\n"
     ]
    },
    {
     "name": "stderr",
     "output_type": "stream",
     "text": [
      " 21. run of importance source...\n"
     ]
    },
    {
     "name": "stdout",
     "output_type": "stream",
     "text": [
      "Computing permutation importance.. Progress: 18%. Estimated remaining time: 2 minutes, 25 seconds.\n",
      "Computing permutation importance.. Progress: 36%. Estimated remaining time: 1 minute, 50 seconds.\n",
      "Computing permutation importance.. Progress: 54%. Estimated remaining time: 1 minute, 20 seconds.\n",
      "Computing permutation importance.. Progress: 72%. Estimated remaining time: 48 seconds.\n",
      "Computing permutation importance.. Progress: 90%. Estimated remaining time: 16 seconds.\n"
     ]
    },
    {
     "name": "stderr",
     "output_type": "stream",
     "text": [
      "After 21 iterations, +1.1 hours: \n",
      " rejected 20068 attributes: A1BG, A1BG-AS1, A1CF, A2M, A2M-AS1 and 20063 more;\n",
      " still have 106 attributes left.\n",
      "\n",
      " 22. run of importance source...\n",
      " 23. run of importance source...\n",
      " 24. run of importance source...\n",
      " 25. run of importance source...\n",
      " 26. run of importance source...\n",
      "After 26 iterations, +1.1 hours: \n",
      " rejected 27 attributes: ADAM2, ARHGAP9, ARID1B, CNOT6L, DDN and 22 more;\n",
      " still have 79 attributes left.\n",
      "\n",
      " 27. run of importance source...\n",
      " 28. run of importance source...\n",
      " 29. run of importance source...\n",
      " 30. run of importance source...\n",
      "After 30 iterations, +1.1 hours: \n",
      " rejected 7 attributes: CASKIN2, EPB41L4A, ERMN, FLI1, RALGPS2 and 2 more;\n",
      " still have 72 attributes left.\n",
      "\n",
      " 31. run of importance source...\n",
      " 32. run of importance source...\n",
      " 33. run of importance source...\n",
      " 34. run of importance source...\n",
      "After 34 iterations, +1.1 hours: \n",
      " rejected 2 attributes: LGR4, RASSF5;\n",
      " still have 70 attributes left.\n",
      "\n",
      " 35. run of importance source...\n",
      " 36. run of importance source...\n",
      " 37. run of importance source...\n",
      " 38. run of importance source...\n",
      "After 38 iterations, +1.1 hours: \n",
      " rejected 2 attributes: CELF2, LINC00957;\n",
      " still have 68 attributes left.\n",
      "\n",
      " 39. run of importance source...\n",
      " 40. run of importance source...\n",
      " 41. run of importance source...\n",
      " 42. run of importance source...\n",
      " 43. run of importance source...\n",
      " 44. run of importance source...\n",
      " 45. run of importance source...\n",
      " 46. run of importance source...\n",
      " 47. run of importance source...\n",
      " 48. run of importance source...\n",
      " 49. run of importance source...\n",
      " 50. run of importance source...\n",
      " 51. run of importance source...\n",
      " 52. run of importance source...\n",
      " 53. run of importance source...\n",
      " 54. run of importance source...\n",
      " 55. run of importance source...\n",
      " 56. run of importance source...\n",
      " 57. run of importance source...\n",
      " 58. run of importance source...\n",
      " 59. run of importance source...\n",
      " 60. run of importance source...\n",
      "After 60 iterations, +1.1 hours: \n",
      " rejected 1 attribute: CBX3P2;\n",
      " still have 67 attributes left.\n",
      "\n",
      " 61. run of importance source...\n",
      " 62. run of importance source...\n",
      " 63. run of importance source...\n",
      " 64. run of importance source...\n",
      " 65. run of importance source...\n",
      " 66. run of importance source...\n",
      "After 66 iterations, +1.1 hours: \n",
      " confirmed 1 attribute: AGO1;\n",
      " still have 66 attributes left.\n",
      "\n",
      " 67. run of importance source...\n",
      " 68. run of importance source...\n",
      " 69. run of importance source...\n",
      " 70. run of importance source...\n",
      " 71. run of importance source...\n",
      " 72. run of importance source...\n",
      "After 72 iterations, +1.1 hours: \n",
      " confirmed 1 attribute: CBFA2T3;\n",
      " rejected 1 attribute: SPI1;\n",
      " still have 64 attributes left.\n",
      "\n",
      " 73. run of importance source...\n",
      " 74. run of importance source...\n",
      "After 74 iterations, +1.1 hours: \n",
      " confirmed 1 attribute: KRTAP11-1;\n",
      " still have 63 attributes left.\n",
      "\n",
      " 75. run of importance source...\n",
      " 76. run of importance source...\n",
      " 77. run of importance source...\n",
      "After 77 iterations, +1.1 hours: \n",
      " confirmed 2 attributes: CD79B, RPL3;\n",
      " still have 61 attributes left.\n",
      "\n",
      " 78. run of importance source...\n",
      " 79. run of importance source...\n",
      " 80. run of importance source...\n",
      "After 80 iterations, +1.1 hours: \n",
      " confirmed 1 attribute: SMCHD1;\n",
      " still have 60 attributes left.\n",
      "\n",
      " 81. run of importance source...\n",
      " 82. run of importance source...\n",
      " 83. run of importance source...\n",
      "After 83 iterations, +1.1 hours: \n",
      " confirmed 3 attributes: AGO4, ELOA2, ZMAT5;\n",
      " rejected 1 attribute: FLAD1;\n",
      " still have 56 attributes left.\n",
      "\n",
      " 84. run of importance source...\n",
      " 85. run of importance source...\n",
      " 86. run of importance source...\n",
      "After 86 iterations, +1.1 hours: \n",
      " confirmed 3 attributes: MFNG, NDUFAF1, PIK3CG;\n",
      " still have 53 attributes left.\n",
      "\n",
      " 87. run of importance source...\n",
      " 88. run of importance source...\n",
      "After 88 iterations, +1.1 hours: \n",
      " confirmed 4 attributes: CCDC88C, MORN3, PCNX2, PTK2B;\n",
      " still have 49 attributes left.\n",
      "\n",
      " 89. run of importance source...\n",
      " 90. run of importance source...\n",
      " 91. run of importance source...\n",
      " 92. run of importance source...\n",
      " 93. run of importance source...\n",
      " 94. run of importance source...\n",
      "After 94 iterations, +1.1 hours: \n",
      " confirmed 1 attribute: DENND4B;\n",
      " still have 48 attributes left.\n",
      "\n",
      " 95. run of importance source...\n",
      " 96. run of importance source...\n",
      "After 96 iterations, +1.1 hours: \n",
      " confirmed 1 attribute: SCMH1;\n",
      " still have 47 attributes left.\n",
      "\n",
      " 97. run of importance source...\n",
      " 98. run of importance source...\n",
      " 99. run of importance source...\n",
      "After 99 iterations, +1.1 hours: \n",
      " confirmed 1 attribute: TCEAL9;\n",
      " still have 46 attributes left.\n",
      "\n"
     ]
    },
    {
     "name": "stdout",
     "output_type": "stream",
     "text": [
      "\n",
      "Drug15: Boruta is running for Panobinostat"
     ]
    },
    {
     "name": "stderr",
     "output_type": "stream",
     "text": [
      " 1. run of importance source...\n"
     ]
    },
    {
     "name": "stdout",
     "output_type": "stream",
     "text": [
      "Computing permutation importance.. Progress: 21%. Estimated remaining time: 1 minute, 59 seconds.\n",
      "Computing permutation importance.. Progress: 42%. Estimated remaining time: 1 minute, 26 seconds.\n",
      "Computing permutation importance.. Progress: 64%. Estimated remaining time: 52 seconds.\n",
      "Computing permutation importance.. Progress: 85%. Estimated remaining time: 21 seconds.\n"
     ]
    },
    {
     "name": "stderr",
     "output_type": "stream",
     "text": [
      " 2. run of importance source...\n"
     ]
    },
    {
     "name": "stdout",
     "output_type": "stream",
     "text": [
      "Computing permutation importance.. Progress: 21%. Estimated remaining time: 1 minute, 56 seconds.\n",
      "Computing permutation importance.. Progress: 42%. Estimated remaining time: 1 minute, 26 seconds.\n",
      "Computing permutation importance.. Progress: 64%. Estimated remaining time: 53 seconds.\n",
      "Computing permutation importance.. Progress: 85%. Estimated remaining time: 22 seconds.\n"
     ]
    },
    {
     "name": "stderr",
     "output_type": "stream",
     "text": [
      " 3. run of importance source...\n"
     ]
    },
    {
     "name": "stdout",
     "output_type": "stream",
     "text": [
      "Computing permutation importance.. Progress: 21%. Estimated remaining time: 1 minute, 59 seconds.\n",
      "Computing permutation importance.. Progress: 42%. Estimated remaining time: 1 minute, 25 seconds.\n",
      "Computing permutation importance.. Progress: 63%. Estimated remaining time: 54 seconds.\n",
      "Computing permutation importance.. Progress: 84%. Estimated remaining time: 23 seconds.\n"
     ]
    },
    {
     "name": "stderr",
     "output_type": "stream",
     "text": [
      " 4. run of importance source...\n"
     ]
    },
    {
     "name": "stdout",
     "output_type": "stream",
     "text": [
      "Computing permutation importance.. Progress: 21%. Estimated remaining time: 1 minute, 59 seconds.\n",
      "Computing permutation importance.. Progress: 42%. Estimated remaining time: 1 minute, 26 seconds.\n",
      "Computing permutation importance.. Progress: 63%. Estimated remaining time: 53 seconds.\n",
      "Computing permutation importance.. Progress: 85%. Estimated remaining time: 22 seconds.\n"
     ]
    },
    {
     "name": "stderr",
     "output_type": "stream",
     "text": [
      " 5. run of importance source...\n"
     ]
    },
    {
     "name": "stdout",
     "output_type": "stream",
     "text": [
      "Computing permutation importance.. Progress: 21%. Estimated remaining time: 1 minute, 58 seconds.\n",
      "Computing permutation importance.. Progress: 42%. Estimated remaining time: 1 minute, 24 seconds.\n",
      "Computing permutation importance.. Progress: 63%. Estimated remaining time: 54 seconds.\n",
      "Computing permutation importance.. Progress: 85%. Estimated remaining time: 21 seconds.\n"
     ]
    },
    {
     "name": "stderr",
     "output_type": "stream",
     "text": [
      " 6. run of importance source...\n"
     ]
    },
    {
     "name": "stdout",
     "output_type": "stream",
     "text": [
      "Computing permutation importance.. Progress: 21%. Estimated remaining time: 1 minute, 55 seconds.\n",
      "Computing permutation importance.. Progress: 42%. Estimated remaining time: 1 minute, 25 seconds.\n",
      "Computing permutation importance.. Progress: 63%. Estimated remaining time: 53 seconds.\n",
      "Computing permutation importance.. Progress: 85%. Estimated remaining time: 22 seconds.\n"
     ]
    },
    {
     "name": "stderr",
     "output_type": "stream",
     "text": [
      " 7. run of importance source...\n"
     ]
    },
    {
     "name": "stdout",
     "output_type": "stream",
     "text": [
      "Computing permutation importance.. Progress: 21%. Estimated remaining time: 1 minute, 56 seconds.\n",
      "Computing permutation importance.. Progress: 42%. Estimated remaining time: 1 minute, 25 seconds.\n",
      "Computing permutation importance.. Progress: 64%. Estimated remaining time: 52 seconds.\n",
      "Computing permutation importance.. Progress: 85%. Estimated remaining time: 21 seconds.\n"
     ]
    },
    {
     "name": "stderr",
     "output_type": "stream",
     "text": [
      " 8. run of importance source...\n"
     ]
    },
    {
     "name": "stdout",
     "output_type": "stream",
     "text": [
      "Computing permutation importance.. Progress: 21%. Estimated remaining time: 1 minute, 59 seconds.\n",
      "Computing permutation importance.. Progress: 42%. Estimated remaining time: 1 minute, 26 seconds.\n",
      "Computing permutation importance.. Progress: 63%. Estimated remaining time: 54 seconds.\n",
      "Computing permutation importance.. Progress: 85%. Estimated remaining time: 22 seconds.\n"
     ]
    },
    {
     "name": "stderr",
     "output_type": "stream",
     "text": [
      " 9. run of importance source...\n"
     ]
    },
    {
     "name": "stdout",
     "output_type": "stream",
     "text": [
      "Computing permutation importance.. Progress: 21%. Estimated remaining time: 1 minute, 58 seconds.\n",
      "Computing permutation importance.. Progress: 42%. Estimated remaining time: 1 minute, 25 seconds.\n",
      "Computing permutation importance.. Progress: 64%. Estimated remaining time: 53 seconds.\n",
      "Computing permutation importance.. Progress: 85%. Estimated remaining time: 21 seconds.\n"
     ]
    },
    {
     "name": "stderr",
     "output_type": "stream",
     "text": [
      " 10. run of importance source...\n"
     ]
    },
    {
     "name": "stdout",
     "output_type": "stream",
     "text": [
      "Computing permutation importance.. Progress: 21%. Estimated remaining time: 1 minute, 58 seconds.\n",
      "Computing permutation importance.. Progress: 42%. Estimated remaining time: 1 minute, 26 seconds.\n",
      "Computing permutation importance.. Progress: 64%. Estimated remaining time: 53 seconds.\n",
      "Computing permutation importance.. Progress: 85%. Estimated remaining time: 21 seconds.\n"
     ]
    },
    {
     "name": "stderr",
     "output_type": "stream",
     "text": [
      " 11. run of importance source...\n"
     ]
    },
    {
     "name": "stdout",
     "output_type": "stream",
     "text": [
      "Computing permutation importance.. Progress: 21%. Estimated remaining time: 1 minute, 56 seconds.\n",
      "Computing permutation importance.. Progress: 43%. Estimated remaining time: 1 minute, 24 seconds.\n",
      "Computing permutation importance.. Progress: 64%. Estimated remaining time: 52 seconds.\n",
      "Computing permutation importance.. Progress: 85%. Estimated remaining time: 22 seconds.\n"
     ]
    },
    {
     "name": "stderr",
     "output_type": "stream",
     "text": [
      " 12. run of importance source...\n"
     ]
    },
    {
     "name": "stdout",
     "output_type": "stream",
     "text": [
      "Computing permutation importance.. Progress: 21%. Estimated remaining time: 1 minute, 56 seconds.\n",
      "Computing permutation importance.. Progress: 42%. Estimated remaining time: 1 minute, 24 seconds.\n",
      "Computing permutation importance.. Progress: 64%. Estimated remaining time: 53 seconds.\n",
      "Computing permutation importance.. Progress: 85%. Estimated remaining time: 22 seconds.\n"
     ]
    },
    {
     "name": "stderr",
     "output_type": "stream",
     "text": [
      " 13. run of importance source...\n"
     ]
    },
    {
     "name": "stdout",
     "output_type": "stream",
     "text": [
      "Computing permutation importance.. Progress: 20%. Estimated remaining time: 2 minutes, 2 seconds.\n",
      "Computing permutation importance.. Progress: 42%. Estimated remaining time: 1 minute, 27 seconds.\n",
      "Computing permutation importance.. Progress: 63%. Estimated remaining time: 55 seconds.\n",
      "Computing permutation importance.. Progress: 84%. Estimated remaining time: 23 seconds.\n"
     ]
    },
    {
     "name": "stderr",
     "output_type": "stream",
     "text": [
      " 14. run of importance source...\n"
     ]
    },
    {
     "name": "stdout",
     "output_type": "stream",
     "text": [
      "Computing permutation importance.. Progress: 21%. Estimated remaining time: 1 minute, 58 seconds.\n",
      "Computing permutation importance.. Progress: 41%. Estimated remaining time: 1 minute, 27 seconds.\n",
      "Computing permutation importance.. Progress: 63%. Estimated remaining time: 55 seconds.\n",
      "Computing permutation importance.. Progress: 84%. Estimated remaining time: 23 seconds.\n"
     ]
    },
    {
     "name": "stderr",
     "output_type": "stream",
     "text": [
      " 15. run of importance source...\n"
     ]
    },
    {
     "name": "stdout",
     "output_type": "stream",
     "text": [
      "Computing permutation importance.. Progress: 21%. Estimated remaining time: 1 minute, 58 seconds.\n",
      "Computing permutation importance.. Progress: 42%. Estimated remaining time: 1 minute, 24 seconds.\n",
      "Computing permutation importance.. Progress: 64%. Estimated remaining time: 53 seconds.\n",
      "Computing permutation importance.. Progress: 86%. Estimated remaining time: 21 seconds.\n"
     ]
    },
    {
     "name": "stderr",
     "output_type": "stream",
     "text": [
      " 16. run of importance source...\n"
     ]
    },
    {
     "name": "stdout",
     "output_type": "stream",
     "text": [
      "Computing permutation importance.. Progress: 21%. Estimated remaining time: 1 minute, 56 seconds.\n",
      "Computing permutation importance.. Progress: 43%. Estimated remaining time: 1 minute, 23 seconds.\n",
      "Computing permutation importance.. Progress: 64%. Estimated remaining time: 51 seconds.\n",
      "Computing permutation importance.. Progress: 86%. Estimated remaining time: 20 seconds.\n"
     ]
    },
    {
     "name": "stderr",
     "output_type": "stream",
     "text": [
      " 17. run of importance source...\n"
     ]
    },
    {
     "name": "stdout",
     "output_type": "stream",
     "text": [
      "Computing permutation importance.. Progress: 21%. Estimated remaining time: 1 minute, 58 seconds.\n",
      "Computing permutation importance.. Progress: 42%. Estimated remaining time: 1 minute, 27 seconds.\n",
      "Computing permutation importance.. Progress: 63%. Estimated remaining time: 55 seconds.\n",
      "Computing permutation importance.. Progress: 84%. Estimated remaining time: 24 seconds.\n"
     ]
    },
    {
     "name": "stderr",
     "output_type": "stream",
     "text": [
      " 18. run of importance source...\n"
     ]
    },
    {
     "name": "stdout",
     "output_type": "stream",
     "text": [
      "Computing permutation importance.. Progress: 20%. Estimated remaining time: 2 minutes, 0 seconds.\n",
      "Computing permutation importance.. Progress: 41%. Estimated remaining time: 1 minute, 27 seconds.\n",
      "Computing permutation importance.. Progress: 62%. Estimated remaining time: 56 seconds.\n",
      "Computing permutation importance.. Progress: 84%. Estimated remaining time: 24 seconds.\n"
     ]
    },
    {
     "name": "stderr",
     "output_type": "stream",
     "text": [
      " 19. run of importance source...\n"
     ]
    },
    {
     "name": "stdout",
     "output_type": "stream",
     "text": [
      "Computing permutation importance.. Progress: 19%. Estimated remaining time: 2 minutes, 18 seconds.\n",
      "Computing permutation importance.. Progress: 46%. Estimated remaining time: 1 minute, 15 seconds.\n",
      "Computing permutation importance.. Progress: 72%. Estimated remaining time: 36 seconds.\n",
      "Computing permutation importance.. Progress: 99%. Estimated remaining time: 1 seconds.\n"
     ]
    },
    {
     "name": "stderr",
     "output_type": "stream",
     "text": [
      " 20. run of importance source...\n"
     ]
    },
    {
     "name": "stdout",
     "output_type": "stream",
     "text": [
      "Computing permutation importance.. Progress: 26%. Estimated remaining time: 1 minute, 28 seconds.\n",
      "Computing permutation importance.. Progress: 52%. Estimated remaining time: 58 seconds.\n",
      "Computing permutation importance.. Progress: 78%. Estimated remaining time: 26 seconds.\n"
     ]
    },
    {
     "name": "stderr",
     "output_type": "stream",
     "text": [
      " 21. run of importance source...\n"
     ]
    },
    {
     "name": "stdout",
     "output_type": "stream",
     "text": [
      "Computing permutation importance.. Progress: 26%. Estimated remaining time: 1 minute, 28 seconds.\n",
      "Computing permutation importance.. Progress: 53%. Estimated remaining time: 55 seconds.\n",
      "Computing permutation importance.. Progress: 79%. Estimated remaining time: 25 seconds.\n"
     ]
    },
    {
     "name": "stderr",
     "output_type": "stream",
     "text": [
      "After 21 iterations, +54 mins: \n",
      " rejected 20064 attributes: A1BG, A1BG-AS1, A1CF, A2M, A2M-AS1 and 20059 more;\n",
      " still have 110 attributes left.\n",
      "\n",
      " 22. run of importance source...\n",
      " 23. run of importance source...\n",
      " 24. run of importance source...\n",
      " 25. run of importance source...\n",
      " 26. run of importance source...\n",
      "After 26 iterations, +54 mins: \n",
      " rejected 53 attributes: ABCA3, AGAP2-AS1, ARHGEF28, BCL3, C7orf57 and 48 more;\n",
      " still have 57 attributes left.\n",
      "\n",
      " 27. run of importance source...\n",
      " 28. run of importance source...\n",
      " 29. run of importance source...\n",
      " 30. run of importance source...\n",
      "After 30 iterations, +54 mins: \n",
      " rejected 14 attributes: ARID3A, BDH1, CAV1, CAVIN1, CPSF6 and 9 more;\n",
      " still have 43 attributes left.\n",
      "\n",
      " 31. run of importance source...\n",
      " 32. run of importance source...\n",
      " 33. run of importance source...\n",
      " 34. run of importance source...\n",
      "After 34 iterations, +54 mins: \n",
      " rejected 3 attributes: ATP8B1, MFNG, MIR23AHG;\n",
      " still have 40 attributes left.\n",
      "\n",
      " 35. run of importance source...\n",
      " 36. run of importance source...\n",
      " 37. run of importance source...\n",
      " 38. run of importance source...\n",
      "After 38 iterations, +54 mins: \n",
      " rejected 3 attributes: ABHD18, CLCF1, GPR39;\n",
      " still have 37 attributes left.\n",
      "\n",
      " 39. run of importance source...\n",
      " 40. run of importance source...\n",
      " 41. run of importance source...\n",
      "After 41 iterations, +54 mins: \n",
      " rejected 2 attributes: THSD4, UST;\n",
      " still have 35 attributes left.\n",
      "\n",
      " 42. run of importance source...\n",
      " 43. run of importance source...\n",
      " 44. run of importance source...\n",
      "After 44 iterations, +54 mins: \n",
      " rejected 2 attributes: BCOR, CSF1;\n",
      " still have 33 attributes left.\n",
      "\n",
      " 45. run of importance source...\n",
      " 46. run of importance source...\n",
      " 47. run of importance source...\n",
      " 48. run of importance source...\n",
      " 49. run of importance source...\n",
      " 50. run of importance source...\n",
      " 51. run of importance source...\n",
      "After 51 iterations, +54 mins: \n",
      " rejected 1 attribute: ITPRIPL1;\n",
      " still have 32 attributes left.\n",
      "\n",
      " 52. run of importance source...\n",
      " 53. run of importance source...\n",
      " 54. run of importance source...\n",
      " 55. run of importance source...\n",
      " 56. run of importance source...\n",
      " 57. run of importance source...\n",
      "After 57 iterations, +54 mins: \n",
      " rejected 1 attribute: ITGA3;\n",
      " still have 31 attributes left.\n",
      "\n",
      " 58. run of importance source...\n",
      " 59. run of importance source...\n",
      " 60. run of importance source...\n",
      "After 60 iterations, +54 mins: \n",
      " rejected 2 attributes: AJUBA, UBTD1;\n",
      " still have 29 attributes left.\n",
      "\n",
      " 61. run of importance source...\n",
      " 62. run of importance source...\n",
      " 63. run of importance source...\n",
      " 64. run of importance source...\n",
      " 65. run of importance source...\n",
      " 66. run of importance source...\n",
      " 67. run of importance source...\n",
      " 68. run of importance source...\n",
      " 69. run of importance source...\n",
      " 70. run of importance source...\n",
      " 71. run of importance source...\n",
      " 72. run of importance source...\n",
      "After 72 iterations, +54 mins: \n",
      " rejected 1 attribute: NUP210;\n",
      " still have 28 attributes left.\n",
      "\n",
      " 73. run of importance source...\n",
      " 74. run of importance source...\n",
      " 75. run of importance source...\n",
      " 76. run of importance source...\n",
      " 77. run of importance source...\n",
      " 78. run of importance source...\n",
      " 79. run of importance source...\n",
      " 80. run of importance source...\n",
      " 81. run of importance source...\n",
      " 82. run of importance source...\n",
      " 83. run of importance source...\n",
      " 84. run of importance source...\n",
      " 85. run of importance source...\n",
      " 86. run of importance source...\n",
      " 87. run of importance source...\n",
      " 88. run of importance source...\n",
      "After 88 iterations, +54 mins: \n",
      " confirmed 1 attribute: MYOF;\n",
      " still have 27 attributes left.\n",
      "\n",
      " 89. run of importance source...\n",
      " 90. run of importance source...\n",
      " 91. run of importance source...\n",
      " 92. run of importance source...\n",
      " 93. run of importance source...\n",
      " 94. run of importance source...\n",
      "After 94 iterations, +54 mins: \n",
      " confirmed 2 attributes: ARSJ, ZBED4;\n",
      " still have 25 attributes left.\n",
      "\n",
      " 95. run of importance source...\n",
      " 96. run of importance source...\n",
      "After 96 iterations, +54 mins: \n",
      " confirmed 1 attribute: RBMS2;\n",
      " still have 24 attributes left.\n",
      "\n",
      " 97. run of importance source...\n",
      " 98. run of importance source...\n",
      " 99. run of importance source...\n"
     ]
    },
    {
     "name": "stdout",
     "output_type": "stream",
     "text": [
      "\n",
      "Drug16: Boruta is running for PF2341066"
     ]
    },
    {
     "name": "stderr",
     "output_type": "stream",
     "text": [
      " 1. run of importance source...\n"
     ]
    },
    {
     "name": "stdout",
     "output_type": "stream",
     "text": [
      "Computing permutation importance.. Progress: 25%. Estimated remaining time: 1 minute, 32 seconds.\n",
      "Computing permutation importance.. Progress: 49%. Estimated remaining time: 1 minute, 4 seconds.\n",
      "Computing permutation importance.. Progress: 73%. Estimated remaining time: 35 seconds.\n",
      "Computing permutation importance.. Progress: 96%. Estimated remaining time: 4 seconds.\n"
     ]
    },
    {
     "name": "stderr",
     "output_type": "stream",
     "text": [
      " 2. run of importance source...\n"
     ]
    },
    {
     "name": "stdout",
     "output_type": "stream",
     "text": [
      "Computing permutation importance.. Progress: 23%. Estimated remaining time: 1 minute, 43 seconds.\n",
      "Computing permutation importance.. Progress: 47%. Estimated remaining time: 1 minute, 11 seconds.\n",
      "Computing permutation importance.. Progress: 70%. Estimated remaining time: 39 seconds.\n",
      "Computing permutation importance.. Progress: 94%. Estimated remaining time: 7 seconds.\n"
     ]
    },
    {
     "name": "stderr",
     "output_type": "stream",
     "text": [
      " 3. run of importance source...\n"
     ]
    },
    {
     "name": "stdout",
     "output_type": "stream",
     "text": [
      "Computing permutation importance.. Progress: 23%. Estimated remaining time: 1 minute, 41 seconds.\n",
      "Computing permutation importance.. Progress: 48%. Estimated remaining time: 1 minute, 8 seconds.\n",
      "Computing permutation importance.. Progress: 71%. Estimated remaining time: 37 seconds.\n",
      "Computing permutation importance.. Progress: 95%. Estimated remaining time: 6 seconds.\n"
     ]
    },
    {
     "name": "stderr",
     "output_type": "stream",
     "text": [
      " 4. run of importance source...\n"
     ]
    },
    {
     "name": "stdout",
     "output_type": "stream",
     "text": [
      "Computing permutation importance.. Progress: 24%. Estimated remaining time: 1 minute, 40 seconds.\n",
      "Computing permutation importance.. Progress: 47%. Estimated remaining time: 1 minute, 9 seconds.\n",
      "Computing permutation importance.. Progress: 71%. Estimated remaining time: 37 seconds.\n",
      "Computing permutation importance.. Progress: 95%. Estimated remaining time: 5 seconds.\n"
     ]
    },
    {
     "name": "stderr",
     "output_type": "stream",
     "text": [
      " 5. run of importance source...\n"
     ]
    },
    {
     "name": "stdout",
     "output_type": "stream",
     "text": [
      "Computing permutation importance.. Progress: 23%. Estimated remaining time: 1 minute, 42 seconds.\n",
      "Computing permutation importance.. Progress: 47%. Estimated remaining time: 1 minute, 9 seconds.\n",
      "Computing permutation importance.. Progress: 71%. Estimated remaining time: 39 seconds.\n",
      "Computing permutation importance.. Progress: 94%. Estimated remaining time: 7 seconds.\n"
     ]
    },
    {
     "name": "stderr",
     "output_type": "stream",
     "text": [
      " 6. run of importance source...\n"
     ]
    },
    {
     "name": "stdout",
     "output_type": "stream",
     "text": [
      "Computing permutation importance.. Progress: 23%. Estimated remaining time: 1 minute, 43 seconds.\n",
      "Computing permutation importance.. Progress: 47%. Estimated remaining time: 1 minute, 11 seconds.\n",
      "Computing permutation importance.. Progress: 70%. Estimated remaining time: 39 seconds.\n",
      "Computing permutation importance.. Progress: 94%. Estimated remaining time: 7 seconds.\n"
     ]
    },
    {
     "name": "stderr",
     "output_type": "stream",
     "text": [
      " 7. run of importance source...\n"
     ]
    },
    {
     "name": "stdout",
     "output_type": "stream",
     "text": [
      "Computing permutation importance.. Progress: 23%. Estimated remaining time: 1 minute, 41 seconds.\n",
      "Computing permutation importance.. Progress: 47%. Estimated remaining time: 1 minute, 9 seconds.\n",
      "Computing permutation importance.. Progress: 71%. Estimated remaining time: 38 seconds.\n",
      "Computing permutation importance.. Progress: 95%. Estimated remaining time: 6 seconds.\n"
     ]
    },
    {
     "name": "stderr",
     "output_type": "stream",
     "text": [
      " 8. run of importance source...\n"
     ]
    },
    {
     "name": "stdout",
     "output_type": "stream",
     "text": [
      "Computing permutation importance.. Progress: 24%. Estimated remaining time: 1 minute, 40 seconds.\n",
      "Computing permutation importance.. Progress: 48%. Estimated remaining time: 1 minute, 9 seconds.\n",
      "Computing permutation importance.. Progress: 72%. Estimated remaining time: 36 seconds.\n",
      "Computing permutation importance.. Progress: 96%. Estimated remaining time: 5 seconds.\n"
     ]
    },
    {
     "name": "stderr",
     "output_type": "stream",
     "text": [
      " 9. run of importance source...\n"
     ]
    },
    {
     "name": "stdout",
     "output_type": "stream",
     "text": [
      "Computing permutation importance.. Progress: 24%. Estimated remaining time: 1 minute, 39 seconds.\n",
      "Computing permutation importance.. Progress: 48%. Estimated remaining time: 1 minute, 7 seconds.\n",
      "Computing permutation importance.. Progress: 71%. Estimated remaining time: 37 seconds.\n",
      "Computing permutation importance.. Progress: 95%. Estimated remaining time: 6 seconds.\n"
     ]
    },
    {
     "name": "stderr",
     "output_type": "stream",
     "text": [
      " 10. run of importance source...\n"
     ]
    },
    {
     "name": "stdout",
     "output_type": "stream",
     "text": [
      "Computing permutation importance.. Progress: 23%. Estimated remaining time: 1 minute, 44 seconds.\n",
      "Computing permutation importance.. Progress: 47%. Estimated remaining time: 1 minute, 11 seconds.\n",
      "Computing permutation importance.. Progress: 70%. Estimated remaining time: 39 seconds.\n",
      "Computing permutation importance.. Progress: 94%. Estimated remaining time: 8 seconds.\n"
     ]
    },
    {
     "name": "stderr",
     "output_type": "stream",
     "text": [
      " 11. run of importance source...\n"
     ]
    },
    {
     "name": "stdout",
     "output_type": "stream",
     "text": [
      "Computing permutation importance.. Progress: 23%. Estimated remaining time: 1 minute, 41 seconds.\n",
      "Computing permutation importance.. Progress: 47%. Estimated remaining time: 1 minute, 8 seconds.\n",
      "Computing permutation importance.. Progress: 71%. Estimated remaining time: 38 seconds.\n",
      "Computing permutation importance.. Progress: 95%. Estimated remaining time: 7 seconds.\n"
     ]
    },
    {
     "name": "stderr",
     "output_type": "stream",
     "text": [
      " 12. run of importance source...\n"
     ]
    },
    {
     "name": "stdout",
     "output_type": "stream",
     "text": [
      "Computing permutation importance.. Progress: 24%. Estimated remaining time: 1 minute, 38 seconds.\n",
      "Computing permutation importance.. Progress: 48%. Estimated remaining time: 1 minute, 8 seconds.\n",
      "Computing permutation importance.. Progress: 72%. Estimated remaining time: 36 seconds.\n",
      "Computing permutation importance.. Progress: 96%. Estimated remaining time: 5 seconds.\n"
     ]
    },
    {
     "name": "stderr",
     "output_type": "stream",
     "text": [
      " 13. run of importance source...\n"
     ]
    },
    {
     "name": "stdout",
     "output_type": "stream",
     "text": [
      "Computing permutation importance.. Progress: 23%. Estimated remaining time: 1 minute, 42 seconds.\n",
      "Computing permutation importance.. Progress: 47%. Estimated remaining time: 1 minute, 9 seconds.\n",
      "Computing permutation importance.. Progress: 71%. Estimated remaining time: 38 seconds.\n",
      "Computing permutation importance.. Progress: 95%. Estimated remaining time: 7 seconds.\n"
     ]
    },
    {
     "name": "stderr",
     "output_type": "stream",
     "text": [
      " 14. run of importance source...\n"
     ]
    },
    {
     "name": "stdout",
     "output_type": "stream",
     "text": [
      "Computing permutation importance.. Progress: 24%. Estimated remaining time: 1 minute, 38 seconds.\n",
      "Computing permutation importance.. Progress: 48%. Estimated remaining time: 1 minute, 8 seconds.\n",
      "Computing permutation importance.. Progress: 71%. Estimated remaining time: 37 seconds.\n",
      "Computing permutation importance.. Progress: 95%. Estimated remaining time: 6 seconds.\n"
     ]
    },
    {
     "name": "stderr",
     "output_type": "stream",
     "text": [
      " 15. run of importance source...\n"
     ]
    },
    {
     "name": "stdout",
     "output_type": "stream",
     "text": [
      "Computing permutation importance.. Progress: 23%. Estimated remaining time: 1 minute, 42 seconds.\n",
      "Computing permutation importance.. Progress: 47%. Estimated remaining time: 1 minute, 9 seconds.\n",
      "Computing permutation importance.. Progress: 71%. Estimated remaining time: 38 seconds.\n",
      "Computing permutation importance.. Progress: 94%. Estimated remaining time: 7 seconds.\n"
     ]
    },
    {
     "name": "stderr",
     "output_type": "stream",
     "text": [
      " 16. run of importance source...\n"
     ]
    },
    {
     "name": "stdout",
     "output_type": "stream",
     "text": [
      "Computing permutation importance.. Progress: 24%. Estimated remaining time: 1 minute, 39 seconds.\n",
      "Computing permutation importance.. Progress: 47%. Estimated remaining time: 1 minute, 9 seconds.\n",
      "Computing permutation importance.. Progress: 71%. Estimated remaining time: 37 seconds.\n",
      "Computing permutation importance.. Progress: 95%. Estimated remaining time: 6 seconds.\n"
     ]
    },
    {
     "name": "stderr",
     "output_type": "stream",
     "text": [
      " 17. run of importance source...\n"
     ]
    },
    {
     "name": "stdout",
     "output_type": "stream",
     "text": [
      "Computing permutation importance.. Progress: 24%. Estimated remaining time: 1 minute, 39 seconds.\n",
      "Computing permutation importance.. Progress: 47%. Estimated remaining time: 1 minute, 9 seconds.\n",
      "Computing permutation importance.. Progress: 70%. Estimated remaining time: 39 seconds.\n",
      "Computing permutation importance.. Progress: 94%. Estimated remaining time: 8 seconds.\n"
     ]
    },
    {
     "name": "stderr",
     "output_type": "stream",
     "text": [
      " 18. run of importance source...\n"
     ]
    },
    {
     "name": "stdout",
     "output_type": "stream",
     "text": [
      "Computing permutation importance.. Progress: 23%. Estimated remaining time: 1 minute, 41 seconds.\n",
      "Computing permutation importance.. Progress: 48%. Estimated remaining time: 1 minute, 8 seconds.\n",
      "Computing permutation importance.. Progress: 72%. Estimated remaining time: 37 seconds.\n",
      "Computing permutation importance.. Progress: 96%. Estimated remaining time: 5 seconds.\n"
     ]
    },
    {
     "name": "stderr",
     "output_type": "stream",
     "text": [
      " 19. run of importance source...\n"
     ]
    },
    {
     "name": "stdout",
     "output_type": "stream",
     "text": [
      "Computing permutation importance.. Progress: 22%. Estimated remaining time: 1 minute, 48 seconds.\n",
      "Computing permutation importance.. Progress: 45%. Estimated remaining time: 1 minute, 17 seconds.\n",
      "Computing permutation importance.. Progress: 68%. Estimated remaining time: 43 seconds.\n",
      "Computing permutation importance.. Progress: 92%. Estimated remaining time: 11 seconds.\n"
     ]
    },
    {
     "name": "stderr",
     "output_type": "stream",
     "text": [
      " 20. run of importance source...\n"
     ]
    },
    {
     "name": "stdout",
     "output_type": "stream",
     "text": [
      "Computing permutation importance.. Progress: 23%. Estimated remaining time: 1 minute, 42 seconds.\n",
      "Computing permutation importance.. Progress: 47%. Estimated remaining time: 1 minute, 9 seconds.\n",
      "Computing permutation importance.. Progress: 71%. Estimated remaining time: 38 seconds.\n",
      "Computing permutation importance.. Progress: 95%. Estimated remaining time: 6 seconds.\n"
     ]
    },
    {
     "name": "stderr",
     "output_type": "stream",
     "text": [
      " 21. run of importance source...\n"
     ]
    },
    {
     "name": "stdout",
     "output_type": "stream",
     "text": [
      "Computing permutation importance.. Progress: 24%. Estimated remaining time: 1 minute, 38 seconds.\n",
      "Computing permutation importance.. Progress: 47%. Estimated remaining time: 1 minute, 10 seconds.\n",
      "Computing permutation importance.. Progress: 70%. Estimated remaining time: 39 seconds.\n",
      "Computing permutation importance.. Progress: 95%. Estimated remaining time: 6 seconds.\n"
     ]
    },
    {
     "name": "stderr",
     "output_type": "stream",
     "text": [
      "After 21 iterations, +49 mins: \n",
      " rejected 20081 attributes: A1BG, A1BG-AS1, A1CF, A2M, A2M-AS1 and 20076 more;\n",
      " still have 93 attributes left.\n",
      "\n",
      " 22. run of importance source...\n",
      " 23. run of importance source...\n",
      " 24. run of importance source...\n",
      " 25. run of importance source...\n",
      " 26. run of importance source...\n",
      "After 26 iterations, +49 mins: \n",
      " rejected 30 attributes: BCAR1, C4orf46, CDYL, DCUN1D3, DOCK7 and 25 more;\n",
      " still have 63 attributes left.\n",
      "\n",
      " 27. run of importance source...\n",
      " 28. run of importance source...\n",
      " 29. run of importance source...\n",
      " 30. run of importance source...\n",
      "After 30 iterations, +49 mins: \n",
      " rejected 1 attribute: KIAA1958;\n",
      " still have 62 attributes left.\n",
      "\n",
      " 31. run of importance source...\n",
      " 32. run of importance source...\n",
      " 33. run of importance source...\n",
      " 34. run of importance source...\n",
      "After 34 iterations, +49 mins: \n",
      " rejected 1 attribute: RTN4R;\n",
      " still have 61 attributes left.\n",
      "\n",
      " 35. run of importance source...\n",
      " 36. run of importance source...\n",
      " 37. run of importance source...\n",
      " 38. run of importance source...\n",
      " 39. run of importance source...\n",
      " 40. run of importance source...\n",
      " 41. run of importance source...\n",
      " 42. run of importance source...\n",
      " 43. run of importance source...\n",
      " 44. run of importance source...\n",
      " 45. run of importance source...\n",
      " 46. run of importance source...\n",
      " 47. run of importance source...\n",
      " 48. run of importance source...\n",
      " 49. run of importance source...\n",
      " 50. run of importance source...\n",
      " 51. run of importance source...\n",
      " 52. run of importance source...\n",
      " 53. run of importance source...\n",
      " 54. run of importance source...\n",
      " 55. run of importance source...\n",
      " 56. run of importance source...\n",
      " 57. run of importance source...\n",
      " 58. run of importance source...\n",
      " 59. run of importance source...\n",
      " 60. run of importance source...\n",
      " 61. run of importance source...\n",
      " 62. run of importance source...\n",
      " 63. run of importance source...\n",
      "After 63 iterations, +50 mins: \n",
      " rejected 1 attribute: LINC00528;\n",
      " still have 60 attributes left.\n",
      "\n",
      " 64. run of importance source...\n",
      " 65. run of importance source...\n",
      " 66. run of importance source...\n",
      "After 66 iterations, +50 mins: \n",
      " confirmed 1 attribute: OSBPL10;\n",
      " still have 59 attributes left.\n",
      "\n",
      " 67. run of importance source...\n",
      " 68. run of importance source...\n",
      " 69. run of importance source...\n",
      " 70. run of importance source...\n",
      " 71. run of importance source...\n",
      " 72. run of importance source...\n",
      "After 72 iterations, +50 mins: \n",
      " confirmed 2 attributes: RGS18, WASL;\n",
      " still have 57 attributes left.\n",
      "\n",
      " 73. run of importance source...\n",
      " 74. run of importance source...\n",
      " 75. run of importance source...\n",
      " 76. run of importance source...\n",
      " 77. run of importance source...\n",
      "After 77 iterations, +50 mins: \n",
      " confirmed 1 attribute: CORO7;\n",
      " still have 56 attributes left.\n",
      "\n",
      " 78. run of importance source...\n",
      " 79. run of importance source...\n",
      " 80. run of importance source...\n",
      "After 80 iterations, +50 mins: \n",
      " confirmed 3 attributes: CPSF6, IFT22, SPN;\n",
      " still have 53 attributes left.\n",
      "\n",
      " 81. run of importance source...\n",
      " 82. run of importance source...\n",
      " 83. run of importance source...\n",
      " 84. run of importance source...\n",
      " 85. run of importance source...\n",
      " 86. run of importance source...\n",
      "After 86 iterations, +50 mins: \n",
      " confirmed 1 attribute: ENAH;\n",
      " still have 52 attributes left.\n",
      "\n",
      " 87. run of importance source...\n",
      " 88. run of importance source...\n",
      "After 88 iterations, +50 mins: \n",
      " confirmed 2 attributes: COPS7B, LRIG3;\n",
      " still have 50 attributes left.\n",
      "\n",
      " 89. run of importance source...\n",
      " 90. run of importance source...\n",
      " 91. run of importance source...\n",
      "After 91 iterations, +50 mins: \n",
      " confirmed 2 attributes: GMFG, KCNH2;\n",
      " still have 48 attributes left.\n",
      "\n",
      " 92. run of importance source...\n",
      " 93. run of importance source...\n",
      " 94. run of importance source...\n",
      "After 94 iterations, +50 mins: \n",
      " confirmed 3 attributes: CCDC25, LINGO2, SHTN1;\n",
      " still have 45 attributes left.\n",
      "\n",
      " 95. run of importance source...\n",
      " 96. run of importance source...\n",
      "After 96 iterations, +50 mins: \n",
      " confirmed 1 attribute: SLA;\n",
      " still have 44 attributes left.\n",
      "\n",
      " 97. run of importance source...\n",
      " 98. run of importance source...\n",
      " 99. run of importance source...\n",
      "After 99 iterations, +50 mins: \n",
      " confirmed 2 attributes: ARHGAP19, TMEM234;\n",
      " still have 42 attributes left.\n",
      "\n"
     ]
    },
    {
     "name": "stdout",
     "output_type": "stream",
     "text": [
      "\n",
      "Drug17: Boruta is running for TKI258"
     ]
    },
    {
     "name": "stderr",
     "output_type": "stream",
     "text": [
      " 1. run of importance source...\n"
     ]
    },
    {
     "name": "stdout",
     "output_type": "stream",
     "text": [
      "Computing permutation importance.. Progress: 31%. Estimated remaining time: 1 minute, 7 seconds.\n",
      "Computing permutation importance.. Progress: 60%. Estimated remaining time: 40 seconds.\n",
      "Computing permutation importance.. Progress: 89%. Estimated remaining time: 11 seconds.\n"
     ]
    },
    {
     "name": "stderr",
     "output_type": "stream",
     "text": [
      " 2. run of importance source...\n"
     ]
    },
    {
     "name": "stdout",
     "output_type": "stream",
     "text": [
      "Computing permutation importance.. Progress: 29%. Estimated remaining time: 1 minute, 15 seconds.\n",
      "Computing permutation importance.. Progress: 58%. Estimated remaining time: 44 seconds.\n",
      "Computing permutation importance.. Progress: 87%. Estimated remaining time: 13 seconds.\n"
     ]
    },
    {
     "name": "stderr",
     "output_type": "stream",
     "text": [
      " 3. run of importance source...\n"
     ]
    },
    {
     "name": "stdout",
     "output_type": "stream",
     "text": [
      "Computing permutation importance.. Progress: 29%. Estimated remaining time: 1 minute, 16 seconds.\n",
      "Computing permutation importance.. Progress: 57%. Estimated remaining time: 46 seconds.\n",
      "Computing permutation importance.. Progress: 86%. Estimated remaining time: 15 seconds.\n"
     ]
    },
    {
     "name": "stderr",
     "output_type": "stream",
     "text": [
      " 4. run of importance source...\n"
     ]
    },
    {
     "name": "stdout",
     "output_type": "stream",
     "text": [
      "Computing permutation importance.. Progress: 28%. Estimated remaining time: 1 minute, 18 seconds.\n",
      "Computing permutation importance.. Progress: 57%. Estimated remaining time: 46 seconds.\n",
      "Computing permutation importance.. Progress: 86%. Estimated remaining time: 14 seconds.\n"
     ]
    },
    {
     "name": "stderr",
     "output_type": "stream",
     "text": [
      " 5. run of importance source...\n"
     ]
    },
    {
     "name": "stdout",
     "output_type": "stream",
     "text": [
      "Computing permutation importance.. Progress: 29%. Estimated remaining time: 1 minute, 16 seconds.\n",
      "Computing permutation importance.. Progress: 59%. Estimated remaining time: 43 seconds.\n",
      "Computing permutation importance.. Progress: 87%. Estimated remaining time: 13 seconds.\n"
     ]
    },
    {
     "name": "stderr",
     "output_type": "stream",
     "text": [
      " 6. run of importance source...\n"
     ]
    },
    {
     "name": "stdout",
     "output_type": "stream",
     "text": [
      "Computing permutation importance.. Progress: 29%. Estimated remaining time: 1 minute, 17 seconds.\n",
      "Computing permutation importance.. Progress: 58%. Estimated remaining time: 44 seconds.\n",
      "Computing permutation importance.. Progress: 87%. Estimated remaining time: 13 seconds.\n"
     ]
    },
    {
     "name": "stderr",
     "output_type": "stream",
     "text": [
      " 7. run of importance source...\n"
     ]
    },
    {
     "name": "stdout",
     "output_type": "stream",
     "text": [
      "Computing permutation importance.. Progress: 29%. Estimated remaining time: 1 minute, 14 seconds.\n",
      "Computing permutation importance.. Progress: 59%. Estimated remaining time: 43 seconds.\n",
      "Computing permutation importance.. Progress: 88%. Estimated remaining time: 12 seconds.\n"
     ]
    },
    {
     "name": "stderr",
     "output_type": "stream",
     "text": [
      " 8. run of importance source...\n"
     ]
    },
    {
     "name": "stdout",
     "output_type": "stream",
     "text": [
      "Computing permutation importance.. Progress: 29%. Estimated remaining time: 1 minute, 16 seconds.\n",
      "Computing permutation importance.. Progress: 58%. Estimated remaining time: 45 seconds.\n",
      "Computing permutation importance.. Progress: 87%. Estimated remaining time: 14 seconds.\n"
     ]
    },
    {
     "name": "stderr",
     "output_type": "stream",
     "text": [
      " 9. run of importance source...\n"
     ]
    },
    {
     "name": "stdout",
     "output_type": "stream",
     "text": [
      "Computing permutation importance.. Progress: 29%. Estimated remaining time: 1 minute, 17 seconds.\n",
      "Computing permutation importance.. Progress: 58%. Estimated remaining time: 45 seconds.\n",
      "Computing permutation importance.. Progress: 87%. Estimated remaining time: 14 seconds.\n"
     ]
    },
    {
     "name": "stderr",
     "output_type": "stream",
     "text": [
      " 10. run of importance source...\n"
     ]
    },
    {
     "name": "stdout",
     "output_type": "stream",
     "text": [
      "Computing permutation importance.. Progress: 28%. Estimated remaining time: 1 minute, 18 seconds.\n",
      "Computing permutation importance.. Progress: 57%. Estimated remaining time: 46 seconds.\n",
      "Computing permutation importance.. Progress: 86%. Estimated remaining time: 14 seconds.\n"
     ]
    },
    {
     "name": "stderr",
     "output_type": "stream",
     "text": [
      " 11. run of importance source...\n"
     ]
    },
    {
     "name": "stdout",
     "output_type": "stream",
     "text": [
      "Computing permutation importance.. Progress: 29%. Estimated remaining time: 1 minute, 15 seconds.\n",
      "Computing permutation importance.. Progress: 58%. Estimated remaining time: 44 seconds.\n",
      "Computing permutation importance.. Progress: 87%. Estimated remaining time: 13 seconds.\n"
     ]
    },
    {
     "name": "stderr",
     "output_type": "stream",
     "text": [
      " 12. run of importance source...\n"
     ]
    },
    {
     "name": "stdout",
     "output_type": "stream",
     "text": [
      "Computing permutation importance.. Progress: 29%. Estimated remaining time: 1 minute, 17 seconds.\n",
      "Computing permutation importance.. Progress: 57%. Estimated remaining time: 47 seconds.\n",
      "Computing permutation importance.. Progress: 86%. Estimated remaining time: 15 seconds.\n"
     ]
    },
    {
     "name": "stderr",
     "output_type": "stream",
     "text": [
      " 13. run of importance source...\n"
     ]
    },
    {
     "name": "stdout",
     "output_type": "stream",
     "text": [
      "Computing permutation importance.. Progress: 29%. Estimated remaining time: 1 minute, 15 seconds.\n",
      "Computing permutation importance.. Progress: 52%. Estimated remaining time: 56 seconds.\n",
      "Computing permutation importance.. Progress: 75%. Estimated remaining time: 31 seconds.\n",
      "Computing permutation importance.. Progress: 98%. Estimated remaining time: 2 seconds.\n"
     ]
    },
    {
     "name": "stderr",
     "output_type": "stream",
     "text": [
      " 14. run of importance source...\n"
     ]
    },
    {
     "name": "stdout",
     "output_type": "stream",
     "text": [
      "Computing permutation importance.. Progress: 22%. Estimated remaining time: 1 minute, 49 seconds.\n",
      "Computing permutation importance.. Progress: 46%. Estimated remaining time: 1 minute, 13 seconds.\n",
      "Computing permutation importance.. Progress: 69%. Estimated remaining time: 41 seconds.\n",
      "Computing permutation importance.. Progress: 92%. Estimated remaining time: 10 seconds.\n"
     ]
    },
    {
     "name": "stderr",
     "output_type": "stream",
     "text": [
      " 15. run of importance source...\n"
     ]
    },
    {
     "name": "stdout",
     "output_type": "stream",
     "text": [
      "Computing permutation importance.. Progress: 23%. Estimated remaining time: 1 minute, 46 seconds.\n",
      "Computing permutation importance.. Progress: 46%. Estimated remaining time: 1 minute, 13 seconds.\n",
      "Computing permutation importance.. Progress: 69%. Estimated remaining time: 42 seconds.\n",
      "Computing permutation importance.. Progress: 92%. Estimated remaining time: 10 seconds.\n"
     ]
    },
    {
     "name": "stderr",
     "output_type": "stream",
     "text": [
      " 16. run of importance source...\n"
     ]
    },
    {
     "name": "stdout",
     "output_type": "stream",
     "text": [
      "Computing permutation importance.. Progress: 23%. Estimated remaining time: 1 minute, 41 seconds.\n",
      "Computing permutation importance.. Progress: 46%. Estimated remaining time: 1 minute, 12 seconds.\n",
      "Computing permutation importance.. Progress: 69%. Estimated remaining time: 42 seconds.\n",
      "Computing permutation importance.. Progress: 92%. Estimated remaining time: 10 seconds.\n"
     ]
    },
    {
     "name": "stderr",
     "output_type": "stream",
     "text": [
      " 17. run of importance source...\n"
     ]
    },
    {
     "name": "stdout",
     "output_type": "stream",
     "text": [
      "Computing permutation importance.. Progress: 22%. Estimated remaining time: 1 minute, 47 seconds.\n",
      "Computing permutation importance.. Progress: 46%. Estimated remaining time: 1 minute, 13 seconds.\n",
      "Computing permutation importance.. Progress: 68%. Estimated remaining time: 43 seconds.\n",
      "Computing permutation importance.. Progress: 91%. Estimated remaining time: 11 seconds.\n"
     ]
    },
    {
     "name": "stderr",
     "output_type": "stream",
     "text": [
      " 18. run of importance source...\n"
     ]
    },
    {
     "name": "stdout",
     "output_type": "stream",
     "text": [
      "Computing permutation importance.. Progress: 22%. Estimated remaining time: 1 minute, 48 seconds.\n",
      "Computing permutation importance.. Progress: 45%. Estimated remaining time: 1 minute, 17 seconds.\n",
      "Computing permutation importance.. Progress: 68%. Estimated remaining time: 43 seconds.\n",
      "Computing permutation importance.. Progress: 91%. Estimated remaining time: 12 seconds.\n"
     ]
    },
    {
     "name": "stderr",
     "output_type": "stream",
     "text": [
      " 19. run of importance source...\n"
     ]
    },
    {
     "name": "stdout",
     "output_type": "stream",
     "text": [
      "Computing permutation importance.. Progress: 23%. Estimated remaining time: 1 minute, 44 seconds.\n",
      "Computing permutation importance.. Progress: 46%. Estimated remaining time: 1 minute, 14 seconds.\n",
      "Computing permutation importance.. Progress: 69%. Estimated remaining time: 42 seconds.\n",
      "Computing permutation importance.. Progress: 92%. Estimated remaining time: 11 seconds.\n"
     ]
    },
    {
     "name": "stderr",
     "output_type": "stream",
     "text": [
      " 20. run of importance source...\n"
     ]
    },
    {
     "name": "stdout",
     "output_type": "stream",
     "text": [
      "Computing permutation importance.. Progress: 23%. Estimated remaining time: 1 minute, 46 seconds.\n",
      "Computing permutation importance.. Progress: 45%. Estimated remaining time: 1 minute, 14 seconds.\n",
      "Computing permutation importance.. Progress: 69%. Estimated remaining time: 42 seconds.\n",
      "Computing permutation importance.. Progress: 92%. Estimated remaining time: 10 seconds.\n"
     ]
    },
    {
     "name": "stderr",
     "output_type": "stream",
     "text": [
      " 21. run of importance source...\n"
     ]
    },
    {
     "name": "stdout",
     "output_type": "stream",
     "text": [
      "Computing permutation importance.. Progress: 22%. Estimated remaining time: 1 minute, 47 seconds.\n",
      "Computing permutation importance.. Progress: 45%. Estimated remaining time: 1 minute, 17 seconds.\n",
      "Computing permutation importance.. Progress: 54%. Estimated remaining time: 19 minutes, 38 seconds.\n",
      "Computing permutation importance.. Progress: 75%. Estimated remaining time: 7 minutes, 38 seconds.\n",
      "Computing permutation importance.. Progress: 98%. Estimated remaining time: 26 seconds.\n"
     ]
    },
    {
     "name": "stderr",
     "output_type": "stream",
     "text": [
      "After 21 iterations, +1.1 hours: \n",
      " rejected 20074 attributes: A1BG, A1BG-AS1, A1CF, A2M, A2M-AS1 and 20069 more;\n",
      " still have 100 attributes left.\n",
      "\n",
      " 22. run of importance source...\n",
      " 23. run of importance source...\n",
      " 24. run of importance source...\n",
      " 25. run of importance source...\n",
      " 26. run of importance source...\n",
      "After 26 iterations, +1.1 hours: \n",
      " rejected 41 attributes: ABHD11, BCKDK, BOLA3-DT, CAMK1, CCDC87 and 36 more;\n",
      " still have 59 attributes left.\n",
      "\n",
      " 27. run of importance source...\n",
      " 28. run of importance source...\n",
      " 29. run of importance source...\n",
      " 30. run of importance source...\n",
      "After 30 iterations, +1.1 hours: \n",
      " rejected 5 attributes: ANP32A-IT1, CLMN, DOT1L, IMMP2L, KDM2B;\n",
      " still have 54 attributes left.\n",
      "\n",
      " 31. run of importance source...\n",
      " 32. run of importance source...\n",
      " 33. run of importance source...\n",
      " 34. run of importance source...\n",
      "After 34 iterations, +1.1 hours: \n",
      " rejected 1 attribute: CCNO;\n",
      " still have 53 attributes left.\n",
      "\n",
      " 35. run of importance source...\n",
      " 36. run of importance source...\n",
      " 37. run of importance source...\n",
      " 38. run of importance source...\n",
      " 39. run of importance source...\n",
      " 40. run of importance source...\n",
      " 41. run of importance source...\n",
      "After 41 iterations, +1.1 hours: \n",
      " rejected 1 attribute: RNF157-AS1;\n",
      " still have 52 attributes left.\n",
      "\n",
      " 42. run of importance source...\n",
      " 43. run of importance source...\n",
      " 44. run of importance source...\n",
      "After 44 iterations, +1.1 hours: \n",
      " confirmed 1 attribute: GAREM1;\n",
      " still have 51 attributes left.\n",
      "\n",
      " 45. run of importance source...\n",
      " 46. run of importance source...\n",
      " 47. run of importance source...\n",
      " 48. run of importance source...\n",
      " 49. run of importance source...\n",
      " 50. run of importance source...\n",
      " 51. run of importance source...\n",
      " 52. run of importance source...\n",
      " 53. run of importance source...\n",
      " 54. run of importance source...\n",
      " 55. run of importance source...\n",
      " 56. run of importance source...\n",
      " 57. run of importance source...\n",
      " 58. run of importance source...\n",
      " 59. run of importance source...\n",
      " 60. run of importance source...\n",
      "After 60 iterations, +1.1 hours: \n",
      " rejected 1 attribute: ADGRG1;\n",
      " still have 50 attributes left.\n",
      "\n",
      " 61. run of importance source...\n",
      " 62. run of importance source...\n",
      " 63. run of importance source...\n",
      " 64. run of importance source...\n",
      " 65. run of importance source...\n",
      " 66. run of importance source...\n",
      " 67. run of importance source...\n",
      " 68. run of importance source...\n",
      " 69. run of importance source...\n",
      " 70. run of importance source...\n",
      " 71. run of importance source...\n",
      " 72. run of importance source...\n",
      "After 72 iterations, +1.1 hours: \n",
      " rejected 1 attribute: LRIG3;\n",
      " still have 49 attributes left.\n",
      "\n",
      " 73. run of importance source...\n",
      " 74. run of importance source...\n",
      " 75. run of importance source...\n",
      " 76. run of importance source...\n",
      " 77. run of importance source...\n",
      "After 77 iterations, +1.1 hours: \n",
      " confirmed 2 attributes: KHDRBS1, NOL3;\n",
      " still have 47 attributes left.\n",
      "\n",
      " 78. run of importance source...\n",
      " 79. run of importance source...\n",
      " 80. run of importance source...\n",
      " 81. run of importance source...\n",
      " 82. run of importance source...\n",
      " 83. run of importance source...\n",
      "After 83 iterations, +1.1 hours: \n",
      " confirmed 2 attributes: DLG3, MYO5B;\n",
      " still have 45 attributes left.\n",
      "\n",
      " 84. run of importance source...\n",
      " 85. run of importance source...\n",
      " 86. run of importance source...\n",
      "After 86 iterations, +1.1 hours: \n",
      " confirmed 1 attribute: GPR39;\n",
      " still have 44 attributes left.\n",
      "\n",
      " 87. run of importance source...\n",
      " 88. run of importance source...\n",
      "After 88 iterations, +1.1 hours: \n",
      " confirmed 2 attributes: ATF5, THRAP3;\n",
      " still have 42 attributes left.\n",
      "\n",
      " 89. run of importance source...\n",
      " 90. run of importance source...\n",
      " 91. run of importance source...\n",
      "After 91 iterations, +1.1 hours: \n",
      " confirmed 1 attribute: HOXC8;\n",
      " still have 41 attributes left.\n",
      "\n",
      " 92. run of importance source...\n",
      " 93. run of importance source...\n",
      " 94. run of importance source...\n",
      "After 94 iterations, +1.1 hours: \n",
      " confirmed 1 attribute: OSBPL2;\n",
      " still have 40 attributes left.\n",
      "\n",
      " 95. run of importance source...\n",
      " 96. run of importance source...\n",
      " 97. run of importance source...\n",
      " 98. run of importance source...\n",
      " 99. run of importance source...\n"
     ]
    },
    {
     "name": "stdout",
     "output_type": "stream",
     "text": [
      "\n",
      "Drug18: Boruta is running for AZD6244"
     ]
    },
    {
     "name": "stderr",
     "output_type": "stream",
     "text": [
      " 1. run of importance source...\n"
     ]
    },
    {
     "name": "stdout",
     "output_type": "stream",
     "text": [
      "Computing permutation importance.. Progress: 24%. Estimated remaining time: 1 minute, 37 seconds.\n",
      "Computing permutation importance.. Progress: 49%. Estimated remaining time: 1 minute, 4 seconds.\n",
      "Computing permutation importance.. Progress: 74%. Estimated remaining time: 32 seconds.\n",
      "Computing permutation importance.. Progress: 99%. Estimated remaining time: 0 seconds.\n"
     ]
    },
    {
     "name": "stderr",
     "output_type": "stream",
     "text": [
      " 2. run of importance source...\n"
     ]
    },
    {
     "name": "stdout",
     "output_type": "stream",
     "text": [
      "Computing permutation importance.. Progress: 25%. Estimated remaining time: 1 minute, 35 seconds.\n",
      "Computing permutation importance.. Progress: 49%. Estimated remaining time: 1 minute, 4 seconds.\n",
      "Computing permutation importance.. Progress: 74%. Estimated remaining time: 32 seconds.\n",
      "Computing permutation importance.. Progress: 99%. Estimated remaining time: 1 seconds.\n"
     ]
    },
    {
     "name": "stderr",
     "output_type": "stream",
     "text": [
      " 3. run of importance source...\n"
     ]
    },
    {
     "name": "stdout",
     "output_type": "stream",
     "text": [
      "Computing permutation importance.. Progress: 24%. Estimated remaining time: 1 minute, 36 seconds.\n",
      "Computing permutation importance.. Progress: 50%. Estimated remaining time: 1 minute, 2 seconds.\n",
      "Computing permutation importance.. Progress: 75%. Estimated remaining time: 31 seconds.\n",
      "Computing permutation importance.. Progress: 100%. Estimated remaining time: 0 seconds.\n"
     ]
    },
    {
     "name": "stderr",
     "output_type": "stream",
     "text": [
      " 4. run of importance source...\n"
     ]
    },
    {
     "name": "stdout",
     "output_type": "stream",
     "text": [
      "Computing permutation importance.. Progress: 24%. Estimated remaining time: 1 minute, 37 seconds.\n",
      "Computing permutation importance.. Progress: 49%. Estimated remaining time: 1 minute, 3 seconds.\n",
      "Computing permutation importance.. Progress: 74%. Estimated remaining time: 33 seconds.\n",
      "Computing permutation importance.. Progress: 98%. Estimated remaining time: 2 seconds.\n"
     ]
    },
    {
     "name": "stderr",
     "output_type": "stream",
     "text": [
      " 5. run of importance source...\n"
     ]
    },
    {
     "name": "stdout",
     "output_type": "stream",
     "text": [
      "Computing permutation importance.. Progress: 22%. Estimated remaining time: 1 minute, 47 seconds.\n",
      "Computing permutation importance.. Progress: 47%. Estimated remaining time: 1 minute, 8 seconds.\n",
      "Computing permutation importance.. Progress: 73%. Estimated remaining time: 35 seconds.\n",
      "Computing permutation importance.. Progress: 98%. Estimated remaining time: 3 seconds.\n"
     ]
    },
    {
     "name": "stderr",
     "output_type": "stream",
     "text": [
      " 6. run of importance source...\n"
     ]
    },
    {
     "name": "stdout",
     "output_type": "stream",
     "text": [
      "Computing permutation importance.. Progress: 26%. Estimated remaining time: 1 minute, 31 seconds.\n",
      "Computing permutation importance.. Progress: 51%. Estimated remaining time: 1 minute, 0 seconds.\n",
      "Computing permutation importance.. Progress: 76%. Estimated remaining time: 29 seconds.\n"
     ]
    },
    {
     "name": "stderr",
     "output_type": "stream",
     "text": [
      " 7. run of importance source...\n"
     ]
    },
    {
     "name": "stdout",
     "output_type": "stream",
     "text": [
      "Computing permutation importance.. Progress: 24%. Estimated remaining time: 1 minute, 37 seconds.\n",
      "Computing permutation importance.. Progress: 50%. Estimated remaining time: 1 minute, 2 seconds.\n",
      "Computing permutation importance.. Progress: 74%. Estimated remaining time: 31 seconds.\n",
      "Computing permutation importance.. Progress: 99%. Estimated remaining time: 0 seconds.\n"
     ]
    },
    {
     "name": "stderr",
     "output_type": "stream",
     "text": [
      " 8. run of importance source...\n"
     ]
    },
    {
     "name": "stdout",
     "output_type": "stream",
     "text": [
      "Computing permutation importance.. Progress: 24%. Estimated remaining time: 1 minute, 40 seconds.\n",
      "Computing permutation importance.. Progress: 48%. Estimated remaining time: 1 minute, 6 seconds.\n",
      "Computing permutation importance.. Progress: 73%. Estimated remaining time: 34 seconds.\n",
      "Computing permutation importance.. Progress: 97%. Estimated remaining time: 3 seconds.\n"
     ]
    },
    {
     "name": "stderr",
     "output_type": "stream",
     "text": [
      " 9. run of importance source...\n"
     ]
    },
    {
     "name": "stdout",
     "output_type": "stream",
     "text": [
      "Computing permutation importance.. Progress: 24%. Estimated remaining time: 1 minute, 36 seconds.\n",
      "Computing permutation importance.. Progress: 49%. Estimated remaining time: 1 minute, 5 seconds.\n",
      "Computing permutation importance.. Progress: 74%. Estimated remaining time: 32 seconds.\n",
      "Computing permutation importance.. Progress: 99%. Estimated remaining time: 1 seconds.\n"
     ]
    },
    {
     "name": "stderr",
     "output_type": "stream",
     "text": [
      " 10. run of importance source...\n"
     ]
    },
    {
     "name": "stdout",
     "output_type": "stream",
     "text": [
      "Computing permutation importance.. Progress: 24%. Estimated remaining time: 1 minute, 39 seconds.\n",
      "Computing permutation importance.. Progress: 48%. Estimated remaining time: 1 minute, 6 seconds.\n",
      "Computing permutation importance.. Progress: 73%. Estimated remaining time: 35 seconds.\n",
      "Computing permutation importance.. Progress: 97%. Estimated remaining time: 3 seconds.\n"
     ]
    },
    {
     "name": "stderr",
     "output_type": "stream",
     "text": [
      " 11. run of importance source...\n"
     ]
    },
    {
     "name": "stdout",
     "output_type": "stream",
     "text": [
      "Computing permutation importance.. Progress: 24%. Estimated remaining time: 1 minute, 37 seconds.\n",
      "Computing permutation importance.. Progress: 49%. Estimated remaining time: 1 minute, 3 seconds.\n",
      "Computing permutation importance.. Progress: 74%. Estimated remaining time: 32 seconds.\n",
      "Computing permutation importance.. Progress: 99%. Estimated remaining time: 1 seconds.\n"
     ]
    },
    {
     "name": "stderr",
     "output_type": "stream",
     "text": [
      " 12. run of importance source...\n"
     ]
    },
    {
     "name": "stdout",
     "output_type": "stream",
     "text": [
      "Computing permutation importance.. Progress: 25%. Estimated remaining time: 1 minute, 34 seconds.\n",
      "Computing permutation importance.. Progress: 49%. Estimated remaining time: 1 minute, 4 seconds.\n",
      "Computing permutation importance.. Progress: 74%. Estimated remaining time: 32 seconds.\n",
      "Computing permutation importance.. Progress: 100%. Estimated remaining time: 0 seconds.\n"
     ]
    },
    {
     "name": "stderr",
     "output_type": "stream",
     "text": [
      " 13. run of importance source...\n"
     ]
    },
    {
     "name": "stdout",
     "output_type": "stream",
     "text": [
      "Computing permutation importance.. Progress: 24%. Estimated remaining time: 1 minute, 38 seconds.\n",
      "Computing permutation importance.. Progress: 50%. Estimated remaining time: 1 minute, 1 seconds.\n",
      "Computing permutation importance.. Progress: 75%. Estimated remaining time: 30 seconds.\n",
      "Computing permutation importance.. Progress: 100%. Estimated remaining time: 0 seconds.\n"
     ]
    },
    {
     "name": "stderr",
     "output_type": "stream",
     "text": [
      " 14. run of importance source...\n"
     ]
    },
    {
     "name": "stdout",
     "output_type": "stream",
     "text": [
      "Computing permutation importance.. Progress: 24%. Estimated remaining time: 1 minute, 37 seconds.\n",
      "Computing permutation importance.. Progress: 49%. Estimated remaining time: 1 minute, 4 seconds.\n",
      "Computing permutation importance.. Progress: 73%. Estimated remaining time: 34 seconds.\n",
      "Computing permutation importance.. Progress: 98%. Estimated remaining time: 2 seconds.\n"
     ]
    },
    {
     "name": "stderr",
     "output_type": "stream",
     "text": [
      " 15. run of importance source...\n"
     ]
    },
    {
     "name": "stdout",
     "output_type": "stream",
     "text": [
      "Computing permutation importance.. Progress: 24%. Estimated remaining time: 1 minute, 36 seconds.\n",
      "Computing permutation importance.. Progress: 50%. Estimated remaining time: 1 minute, 3 seconds.\n",
      "Computing permutation importance.. Progress: 74%. Estimated remaining time: 31 seconds.\n",
      "Computing permutation importance.. Progress: 100%. Estimated remaining time: 0 seconds.\n"
     ]
    },
    {
     "name": "stderr",
     "output_type": "stream",
     "text": [
      " 16. run of importance source...\n"
     ]
    },
    {
     "name": "stdout",
     "output_type": "stream",
     "text": [
      "Computing permutation importance.. Progress: 24%. Estimated remaining time: 1 minute, 36 seconds.\n",
      "Computing permutation importance.. Progress: 48%. Estimated remaining time: 1 minute, 6 seconds.\n",
      "Computing permutation importance.. Progress: 73%. Estimated remaining time: 34 seconds.\n",
      "Computing permutation importance.. Progress: 99%. Estimated remaining time: 1 seconds.\n"
     ]
    },
    {
     "name": "stderr",
     "output_type": "stream",
     "text": [
      " 17. run of importance source...\n"
     ]
    },
    {
     "name": "stdout",
     "output_type": "stream",
     "text": [
      "Computing permutation importance.. Progress: 24%. Estimated remaining time: 1 minute, 36 seconds.\n",
      "Computing permutation importance.. Progress: 49%. Estimated remaining time: 1 minute, 3 seconds.\n",
      "Computing permutation importance.. Progress: 75%. Estimated remaining time: 31 seconds.\n",
      "Computing permutation importance.. Progress: 100%. Estimated remaining time: 0 seconds.\n"
     ]
    },
    {
     "name": "stderr",
     "output_type": "stream",
     "text": [
      " 18. run of importance source...\n"
     ]
    },
    {
     "name": "stdout",
     "output_type": "stream",
     "text": [
      "Computing permutation importance.. Progress: 24%. Estimated remaining time: 1 minute, 37 seconds.\n",
      "Computing permutation importance.. Progress: 50%. Estimated remaining time: 1 minute, 3 seconds.\n",
      "Computing permutation importance.. Progress: 74%. Estimated remaining time: 31 seconds.\n",
      "Computing permutation importance.. Progress: 100%. Estimated remaining time: 0 seconds.\n"
     ]
    },
    {
     "name": "stderr",
     "output_type": "stream",
     "text": [
      " 19. run of importance source...\n"
     ]
    },
    {
     "name": "stdout",
     "output_type": "stream",
     "text": [
      "Computing permutation importance.. Progress: 24%. Estimated remaining time: 1 minute, 37 seconds.\n",
      "Computing permutation importance.. Progress: 49%. Estimated remaining time: 1 minute, 3 seconds.\n",
      "Computing permutation importance.. Progress: 75%. Estimated remaining time: 31 seconds.\n",
      "Computing permutation importance.. Progress: 100%. Estimated remaining time: 0 seconds.\n"
     ]
    },
    {
     "name": "stderr",
     "output_type": "stream",
     "text": [
      " 20. run of importance source...\n"
     ]
    },
    {
     "name": "stdout",
     "output_type": "stream",
     "text": [
      "Computing permutation importance.. Progress: 25%. Estimated remaining time: 1 minute, 34 seconds.\n",
      "Computing permutation importance.. Progress: 50%. Estimated remaining time: 1 minute, 3 seconds.\n",
      "Computing permutation importance.. Progress: 75%. Estimated remaining time: 30 seconds.\n",
      "Computing permutation importance.. Progress: 100%. Estimated remaining time: 0 seconds.\n"
     ]
    },
    {
     "name": "stderr",
     "output_type": "stream",
     "text": [
      " 21. run of importance source...\n"
     ]
    },
    {
     "name": "stdout",
     "output_type": "stream",
     "text": [
      "Computing permutation importance.. Progress: 21%. Estimated remaining time: 1 minute, 58 seconds.\n",
      "Computing permutation importance.. Progress: 52%. Estimated remaining time: 58 seconds.\n",
      "Computing permutation importance.. Progress: 82%. Estimated remaining time: 20 seconds.\n"
     ]
    },
    {
     "name": "stderr",
     "output_type": "stream",
     "text": [
      "After 21 iterations, +47 mins: \n",
      " rejected 19906 attributes: A1BG, A1BG-AS1, A1CF, A2M, A2M-AS1 and 19901 more;\n",
      " still have 268 attributes left.\n",
      "\n",
      " 22. run of importance source...\n",
      " 23. run of importance source...\n",
      " 24. run of importance source...\n",
      " 25. run of importance source...\n",
      " 26. run of importance source...\n",
      "After 26 iterations, +47 mins: \n",
      " confirmed 1 attribute: GJB1;\n",
      " rejected 77 attributes: ABCD1, ACER2, AGPAT2, BASP1, BTBD16 and 72 more;\n",
      " still have 190 attributes left.\n",
      "\n",
      " 27. run of importance source...\n",
      " 28. run of importance source...\n",
      " 29. run of importance source...\n",
      " 30. run of importance source...\n",
      "After 30 iterations, +47 mins: \n",
      " confirmed 1 attribute: ENTPD6;\n",
      " rejected 29 attributes: ABCG5, BIN3-IT1, CA8, CMTM8, COL4A3 and 24 more;\n",
      " still have 160 attributes left.\n",
      "\n",
      " 31. run of importance source...\n",
      " 32. run of importance source...\n",
      " 33. run of importance source...\n",
      " 34. run of importance source...\n",
      "After 34 iterations, +47 mins: \n",
      " rejected 16 attributes: ANKRD54, BCAP29, CCDC140, CTLA4, FAM167B and 11 more;\n",
      " still have 144 attributes left.\n",
      "\n",
      " 35. run of importance source...\n",
      " 36. run of importance source...\n",
      " 37. run of importance source...\n",
      " 38. run of importance source...\n",
      "After 38 iterations, +47 mins: \n",
      " confirmed 1 attribute: SLCO4A1-AS1;\n",
      " rejected 8 attributes: ABHD6, AGMAT, CYP27A1, IGSF11, MFSD12 and 3 more;\n",
      " still have 135 attributes left.\n",
      "\n",
      " 39. run of importance source...\n",
      " 40. run of importance source...\n",
      " 41. run of importance source...\n",
      "After 41 iterations, +47 mins: \n",
      " rejected 8 attributes: ANKS4B, CACNA2D4, FCER1A, FUT3, GMPR and 3 more;\n",
      " still have 127 attributes left.\n",
      "\n",
      " 42. run of importance source...\n",
      " 43. run of importance source...\n",
      " 44. run of importance source...\n",
      "After 44 iterations, +47 mins: \n",
      " rejected 2 attributes: ERC2, TRPV2;\n",
      " still have 125 attributes left.\n",
      "\n",
      " 45. run of importance source...\n",
      " 46. run of importance source...\n",
      " 47. run of importance source...\n",
      " 48. run of importance source...\n",
      "After 48 iterations, +47 mins: \n",
      " confirmed 2 attributes: LYZ, RXRG;\n",
      " rejected 2 attributes: TBC1D16, TNFRSF14;\n",
      " still have 121 attributes left.\n",
      "\n",
      " 49. run of importance source...\n",
      " 50. run of importance source...\n",
      " 51. run of importance source...\n",
      " 52. run of importance source...\n",
      " 53. run of importance source...\n",
      " 54. run of importance source...\n",
      "After 54 iterations, +47 mins: \n",
      " confirmed 1 attribute: XYLB;\n",
      " rejected 2 attributes: HCCAT5, HPGDS;\n",
      " still have 118 attributes left.\n",
      "\n",
      " 55. run of importance source...\n",
      " 56. run of importance source...\n",
      " 57. run of importance source...\n",
      "After 57 iterations, +47 mins: \n",
      " confirmed 1 attribute: ENTHD1;\n",
      " still have 117 attributes left.\n",
      "\n",
      " 58. run of importance source...\n",
      " 59. run of importance source...\n",
      " 60. run of importance source...\n",
      "After 60 iterations, +48 mins: \n",
      " confirmed 1 attribute: DCT;\n",
      " still have 116 attributes left.\n",
      "\n",
      " 61. run of importance source...\n",
      " 62. run of importance source...\n",
      " 63. run of importance source...\n",
      "After 63 iterations, +48 mins: \n",
      " confirmed 3 attributes: BBS5, EPS8L3, HSD17B2;\n",
      " rejected 1 attribute: SPATA13;\n",
      " still have 112 attributes left.\n",
      "\n",
      " 64. run of importance source...\n",
      " 65. run of importance source...\n",
      " 66. run of importance source...\n",
      " 67. run of importance source...\n",
      " 68. run of importance source...\n",
      " 69. run of importance source...\n",
      "After 69 iterations, +48 mins: \n",
      " confirmed 3 attributes: EML1, LINC00518, NPAS2;\n",
      " still have 109 attributes left.\n",
      "\n",
      " 70. run of importance source...\n",
      " 71. run of importance source...\n",
      " 72. run of importance source...\n",
      "After 72 iterations, +48 mins: \n",
      " confirmed 3 attributes: ITGA6, ITPRID2, MYO5A;\n",
      " still have 106 attributes left.\n",
      "\n",
      " 73. run of importance source...\n",
      " 74. run of importance source...\n",
      " 75. run of importance source...\n",
      " 76. run of importance source...\n",
      " 77. run of importance source...\n",
      "After 77 iterations, +48 mins: \n",
      " confirmed 1 attribute: GPR35;\n",
      " still have 105 attributes left.\n",
      "\n",
      " 78. run of importance source...\n",
      " 79. run of importance source...\n",
      " 80. run of importance source...\n",
      "After 80 iterations, +48 mins: \n",
      " confirmed 1 attribute: MTFMT;\n",
      " rejected 1 attribute: PLEKHH1;\n",
      " still have 103 attributes left.\n",
      "\n",
      " 81. run of importance source...\n",
      " 82. run of importance source...\n",
      " 83. run of importance source...\n",
      "After 83 iterations, +48 mins: \n",
      " confirmed 3 attributes: LOC101928047, PGM2, TMC7;\n",
      " still have 100 attributes left.\n",
      "\n",
      " 84. run of importance source...\n",
      " 85. run of importance source...\n",
      " 86. run of importance source...\n",
      "After 86 iterations, +48 mins: \n",
      " confirmed 1 attribute: LINC01091;\n",
      " still have 99 attributes left.\n",
      "\n",
      " 87. run of importance source...\n",
      " 88. run of importance source...\n",
      "After 88 iterations, +48 mins: \n",
      " rejected 1 attribute: ACP5;\n",
      " still have 98 attributes left.\n",
      "\n",
      " 89. run of importance source...\n",
      " 90. run of importance source...\n",
      " 91. run of importance source...\n",
      "After 91 iterations, +48 mins: \n",
      " confirmed 1 attribute: KRTAP7-1;\n",
      " still have 97 attributes left.\n",
      "\n",
      " 92. run of importance source...\n",
      " 93. run of importance source...\n",
      " 94. run of importance source...\n",
      "After 94 iterations, +48 mins: \n",
      " confirmed 3 attributes: LINC00933, NTSR1, PRG2;\n",
      " still have 94 attributes left.\n",
      "\n",
      " 95. run of importance source...\n",
      " 96. run of importance source...\n",
      "After 96 iterations, +48 mins: \n",
      " confirmed 3 attributes: C1QTNF1-AS1, SLC27A2, SPRY4;\n",
      " still have 91 attributes left.\n",
      "\n",
      " 97. run of importance source...\n",
      " 98. run of importance source...\n",
      " 99. run of importance source...\n"
     ]
    },
    {
     "name": "stdout",
     "output_type": "stream",
     "text": [
      "\n",
      "Drug19: Boruta is running for Lapatinib"
     ]
    },
    {
     "name": "stderr",
     "output_type": "stream",
     "text": [
      " 1. run of importance source...\n"
     ]
    },
    {
     "name": "stdout",
     "output_type": "stream",
     "text": [
      "Computing permutation importance.. Progress: 24%. Estimated remaining time: 1 minute, 40 seconds.\n",
      "Computing permutation importance.. Progress: 46%. Estimated remaining time: 1 minute, 13 seconds.\n",
      "Computing permutation importance.. Progress: 68%. Estimated remaining time: 42 seconds.\n",
      "Computing permutation importance.. Progress: 91%. Estimated remaining time: 12 seconds.\n"
     ]
    },
    {
     "name": "stderr",
     "output_type": "stream",
     "text": [
      " 2. run of importance source...\n"
     ]
    },
    {
     "name": "stdout",
     "output_type": "stream",
     "text": [
      "Computing permutation importance.. Progress: 21%. Estimated remaining time: 1 minute, 53 seconds.\n",
      "Computing permutation importance.. Progress: 44%. Estimated remaining time: 1 minute, 20 seconds.\n",
      "Computing permutation importance.. Progress: 65%. Estimated remaining time: 49 seconds.\n",
      "Computing permutation importance.. Progress: 87%. Estimated remaining time: 18 seconds.\n"
     ]
    },
    {
     "name": "stderr",
     "output_type": "stream",
     "text": [
      " 3. run of importance source...\n"
     ]
    },
    {
     "name": "stdout",
     "output_type": "stream",
     "text": [
      "Computing permutation importance.. Progress: 24%. Estimated remaining time: 1 minute, 40 seconds.\n",
      "Computing permutation importance.. Progress: 46%. Estimated remaining time: 1 minute, 12 seconds.\n",
      "Computing permutation importance.. Progress: 68%. Estimated remaining time: 43 seconds.\n",
      "Computing permutation importance.. Progress: 89%. Estimated remaining time: 14 seconds.\n"
     ]
    },
    {
     "name": "stderr",
     "output_type": "stream",
     "text": [
      " 4. run of importance source...\n"
     ]
    },
    {
     "name": "stdout",
     "output_type": "stream",
     "text": [
      "Computing permutation importance.. Progress: 20%. Estimated remaining time: 2 minutes, 4 seconds.\n",
      "Computing permutation importance.. Progress: 42%. Estimated remaining time: 1 minute, 24 seconds.\n",
      "Computing permutation importance.. Progress: 65%. Estimated remaining time: 50 seconds.\n",
      "Computing permutation importance.. Progress: 86%. Estimated remaining time: 19 seconds.\n"
     ]
    },
    {
     "name": "stderr",
     "output_type": "stream",
     "text": [
      " 5. run of importance source...\n"
     ]
    },
    {
     "name": "stdout",
     "output_type": "stream",
     "text": [
      "Computing permutation importance.. Progress: 22%. Estimated remaining time: 1 minute, 49 seconds.\n",
      "Computing permutation importance.. Progress: 45%. Estimated remaining time: 1 minute, 15 seconds.\n",
      "Computing permutation importance.. Progress: 67%. Estimated remaining time: 45 seconds.\n",
      "Computing permutation importance.. Progress: 90%. Estimated remaining time: 14 seconds.\n"
     ]
    },
    {
     "name": "stderr",
     "output_type": "stream",
     "text": [
      " 6. run of importance source...\n"
     ]
    },
    {
     "name": "stdout",
     "output_type": "stream",
     "text": [
      "Computing permutation importance.. Progress: 23%. Estimated remaining time: 1 minute, 48 seconds.\n",
      "Computing permutation importance.. Progress: 46%. Estimated remaining time: 1 minute, 13 seconds.\n",
      "Computing permutation importance.. Progress: 69%. Estimated remaining time: 41 seconds.\n",
      "Computing permutation importance.. Progress: 91%. Estimated remaining time: 12 seconds.\n"
     ]
    },
    {
     "name": "stderr",
     "output_type": "stream",
     "text": [
      " 7. run of importance source...\n"
     ]
    },
    {
     "name": "stdout",
     "output_type": "stream",
     "text": [
      "Computing permutation importance.. Progress: 22%. Estimated remaining time: 1 minute, 51 seconds.\n",
      "Computing permutation importance.. Progress: 44%. Estimated remaining time: 1 minute, 19 seconds.\n",
      "Computing permutation importance.. Progress: 67%. Estimated remaining time: 46 seconds.\n",
      "Computing permutation importance.. Progress: 89%. Estimated remaining time: 15 seconds.\n"
     ]
    },
    {
     "name": "stderr",
     "output_type": "stream",
     "text": [
      " 8. run of importance source...\n"
     ]
    },
    {
     "name": "stdout",
     "output_type": "stream",
     "text": [
      "Computing permutation importance.. Progress: 22%. Estimated remaining time: 1 minute, 49 seconds.\n",
      "Computing permutation importance.. Progress: 44%. Estimated remaining time: 1 minute, 17 seconds.\n",
      "Computing permutation importance.. Progress: 67%. Estimated remaining time: 45 seconds.\n",
      "Computing permutation importance.. Progress: 89%. Estimated remaining time: 14 seconds.\n"
     ]
    },
    {
     "name": "stderr",
     "output_type": "stream",
     "text": [
      " 9. run of importance source...\n"
     ]
    },
    {
     "name": "stdout",
     "output_type": "stream",
     "text": [
      "Computing permutation importance.. Progress: 23%. Estimated remaining time: 1 minute, 46 seconds.\n",
      "Computing permutation importance.. Progress: 45%. Estimated remaining time: 1 minute, 17 seconds.\n",
      "Computing permutation importance.. Progress: 67%. Estimated remaining time: 45 seconds.\n",
      "Computing permutation importance.. Progress: 90%. Estimated remaining time: 14 seconds.\n"
     ]
    },
    {
     "name": "stderr",
     "output_type": "stream",
     "text": [
      " 10. run of importance source...\n"
     ]
    },
    {
     "name": "stdout",
     "output_type": "stream",
     "text": [
      "Computing permutation importance.. Progress: 22%. Estimated remaining time: 1 minute, 51 seconds.\n",
      "Computing permutation importance.. Progress: 44%. Estimated remaining time: 1 minute, 19 seconds.\n",
      "Computing permutation importance.. Progress: 67%. Estimated remaining time: 46 seconds.\n",
      "Computing permutation importance.. Progress: 89%. Estimated remaining time: 14 seconds.\n"
     ]
    },
    {
     "name": "stderr",
     "output_type": "stream",
     "text": [
      " 11. run of importance source...\n"
     ]
    },
    {
     "name": "stdout",
     "output_type": "stream",
     "text": [
      "Computing permutation importance.. Progress: 22%. Estimated remaining time: 1 minute, 47 seconds.\n",
      "Computing permutation importance.. Progress: 46%. Estimated remaining time: 1 minute, 15 seconds.\n",
      "Computing permutation importance.. Progress: 69%. Estimated remaining time: 42 seconds.\n",
      "Computing permutation importance.. Progress: 91%. Estimated remaining time: 12 seconds.\n"
     ]
    },
    {
     "name": "stderr",
     "output_type": "stream",
     "text": [
      " 12. run of importance source...\n"
     ]
    },
    {
     "name": "stdout",
     "output_type": "stream",
     "text": [
      "Computing permutation importance.. Progress: 23%. Estimated remaining time: 1 minute, 46 seconds.\n",
      "Computing permutation importance.. Progress: 44%. Estimated remaining time: 1 minute, 17 seconds.\n",
      "Computing permutation importance.. Progress: 66%. Estimated remaining time: 48 seconds.\n",
      "Computing permutation importance.. Progress: 84%. Estimated remaining time: 23 seconds.\n"
     ]
    },
    {
     "name": "stderr",
     "output_type": "stream",
     "text": [
      " 13. run of importance source...\n"
     ]
    },
    {
     "name": "stdout",
     "output_type": "stream",
     "text": [
      "Computing permutation importance.. Progress: 18%. Estimated remaining time: 2 minutes, 25 seconds.\n",
      "Computing permutation importance.. Progress: 36%. Estimated remaining time: 1 minute, 49 seconds.\n",
      "Computing permutation importance.. Progress: 55%. Estimated remaining time: 1 minute, 17 seconds.\n",
      "Computing permutation importance.. Progress: 73%. Estimated remaining time: 45 seconds.\n",
      "Computing permutation importance.. Progress: 92%. Estimated remaining time: 13 seconds.\n"
     ]
    },
    {
     "name": "stderr",
     "output_type": "stream",
     "text": [
      " 14. run of importance source...\n"
     ]
    },
    {
     "name": "stdout",
     "output_type": "stream",
     "text": [
      "Computing permutation importance.. Progress: 17%. Estimated remaining time: 2 minutes, 29 seconds.\n",
      "Computing permutation importance.. Progress: 35%. Estimated remaining time: 1 minute, 53 seconds.\n",
      "Computing permutation importance.. Progress: 55%. Estimated remaining time: 1 minute, 17 seconds.\n",
      "Computing permutation importance.. Progress: 73%. Estimated remaining time: 46 seconds.\n",
      "Computing permutation importance.. Progress: 91%. Estimated remaining time: 15 seconds.\n"
     ]
    },
    {
     "name": "stderr",
     "output_type": "stream",
     "text": [
      " 15. run of importance source...\n"
     ]
    },
    {
     "name": "stdout",
     "output_type": "stream",
     "text": [
      "Computing permutation importance.. Progress: 18%. Estimated remaining time: 2 minutes, 23 seconds.\n",
      "Computing permutation importance.. Progress: 36%. Estimated remaining time: 1 minute, 51 seconds.\n",
      "Computing permutation importance.. Progress: 55%. Estimated remaining time: 1 minute, 17 seconds.\n",
      "Computing permutation importance.. Progress: 72%. Estimated remaining time: 47 seconds.\n",
      "Computing permutation importance.. Progress: 91%. Estimated remaining time: 15 seconds.\n"
     ]
    },
    {
     "name": "stderr",
     "output_type": "stream",
     "text": [
      " 16. run of importance source...\n"
     ]
    },
    {
     "name": "stdout",
     "output_type": "stream",
     "text": [
      "Computing permutation importance.. Progress: 18%. Estimated remaining time: 2 minutes, 29 seconds.\n",
      "Computing permutation importance.. Progress: 36%. Estimated remaining time: 1 minute, 50 seconds.\n",
      "Computing permutation importance.. Progress: 55%. Estimated remaining time: 1 minute, 17 seconds.\n",
      "Computing permutation importance.. Progress: 73%. Estimated remaining time: 45 seconds.\n",
      "Computing permutation importance.. Progress: 91%. Estimated remaining time: 15 seconds.\n"
     ]
    },
    {
     "name": "stderr",
     "output_type": "stream",
     "text": [
      " 17. run of importance source...\n"
     ]
    },
    {
     "name": "stdout",
     "output_type": "stream",
     "text": [
      "Computing permutation importance.. Progress: 17%. Estimated remaining time: 2 minutes, 33 seconds.\n",
      "Computing permutation importance.. Progress: 35%. Estimated remaining time: 1 minute, 53 seconds.\n",
      "Computing permutation importance.. Progress: 53%. Estimated remaining time: 1 minute, 22 seconds.\n",
      "Computing permutation importance.. Progress: 71%. Estimated remaining time: 50 seconds.\n",
      "Computing permutation importance.. Progress: 89%. Estimated remaining time: 19 seconds.\n"
     ]
    },
    {
     "name": "stderr",
     "output_type": "stream",
     "text": [
      " 18. run of importance source...\n"
     ]
    },
    {
     "name": "stdout",
     "output_type": "stream",
     "text": [
      "Computing permutation importance.. Progress: 17%. Estimated remaining time: 2 minutes, 29 seconds.\n",
      "Computing permutation importance.. Progress: 36%. Estimated remaining time: 1 minute, 52 seconds.\n",
      "Computing permutation importance.. Progress: 53%. Estimated remaining time: 1 minute, 21 seconds.\n",
      "Computing permutation importance.. Progress: 71%. Estimated remaining time: 50 seconds.\n",
      "Computing permutation importance.. Progress: 89%. Estimated remaining time: 20 seconds.\n"
     ]
    },
    {
     "name": "stderr",
     "output_type": "stream",
     "text": [
      " 19. run of importance source...\n"
     ]
    },
    {
     "name": "stdout",
     "output_type": "stream",
     "text": [
      "Computing permutation importance.. Progress: 18%. Estimated remaining time: 2 minutes, 25 seconds.\n",
      "Computing permutation importance.. Progress: 36%. Estimated remaining time: 1 minute, 52 seconds.\n",
      "Computing permutation importance.. Progress: 54%. Estimated remaining time: 1 minute, 20 seconds.\n",
      "Computing permutation importance.. Progress: 72%. Estimated remaining time: 48 seconds.\n",
      "Computing permutation importance.. Progress: 91%. Estimated remaining time: 15 seconds.\n"
     ]
    },
    {
     "name": "stderr",
     "output_type": "stream",
     "text": [
      " 20. run of importance source...\n"
     ]
    },
    {
     "name": "stdout",
     "output_type": "stream",
     "text": [
      "Computing permutation importance.. Progress: 17%. Estimated remaining time: 2 minutes, 31 seconds.\n",
      "Computing permutation importance.. Progress: 36%. Estimated remaining time: 1 minute, 50 seconds.\n",
      "Computing permutation importance.. Progress: 55%. Estimated remaining time: 1 minute, 18 seconds.\n",
      "Computing permutation importance.. Progress: 72%. Estimated remaining time: 48 seconds.\n",
      "Computing permutation importance.. Progress: 90%. Estimated remaining time: 16 seconds.\n"
     ]
    },
    {
     "name": "stderr",
     "output_type": "stream",
     "text": [
      " 21. run of importance source...\n"
     ]
    },
    {
     "name": "stdout",
     "output_type": "stream",
     "text": [
      "Computing permutation importance.. Progress: 18%. Estimated remaining time: 2 minutes, 21 seconds.\n",
      "Computing permutation importance.. Progress: 36%. Estimated remaining time: 1 minute, 51 seconds.\n",
      "Computing permutation importance.. Progress: 55%. Estimated remaining time: 1 minute, 16 seconds.\n",
      "Computing permutation importance.. Progress: 73%. Estimated remaining time: 46 seconds.\n",
      "Computing permutation importance.. Progress: 91%. Estimated remaining time: 15 seconds.\n"
     ]
    },
    {
     "name": "stderr",
     "output_type": "stream",
     "text": [
      "After 21 iterations, +57 mins: \n",
      " rejected 20083 attributes: A1BG, A1BG-AS1, A1CF, A2M, A2M-AS1 and 20078 more;\n",
      " still have 91 attributes left.\n",
      "\n",
      " 22. run of importance source...\n",
      " 23. run of importance source...\n",
      " 24. run of importance source...\n",
      " 25. run of importance source...\n",
      " 26. run of importance source...\n",
      "After 26 iterations, +57 mins: \n",
      " rejected 29 attributes: A2ML1, ANKRD22, APOA1, ARMCX5-GPRASP2, BBLN and 24 more;\n",
      " still have 62 attributes left.\n",
      "\n",
      " 27. run of importance source...\n",
      " 28. run of importance source...\n",
      " 29. run of importance source...\n",
      " 30. run of importance source...\n",
      "After 30 iterations, +58 mins: \n",
      " rejected 5 attributes: ATP2C2, EID2B, MUC20, NECTIN4, TMPRSS4;\n",
      " still have 57 attributes left.\n",
      "\n",
      " 31. run of importance source...\n",
      " 32. run of importance source...\n",
      " 33. run of importance source...\n",
      " 34. run of importance source...\n",
      " 35. run of importance source...\n",
      " 36. run of importance source...\n",
      " 37. run of importance source...\n",
      " 38. run of importance source...\n",
      "After 38 iterations, +58 mins: \n",
      " rejected 2 attributes: GALNT3, PRSS22;\n",
      " still have 55 attributes left.\n",
      "\n",
      " 39. run of importance source...\n",
      " 40. run of importance source...\n",
      " 41. run of importance source...\n",
      "After 41 iterations, +58 mins: \n",
      " rejected 1 attribute: DSC2;\n",
      " still have 54 attributes left.\n",
      "\n",
      " 42. run of importance source...\n",
      " 43. run of importance source...\n",
      " 44. run of importance source...\n",
      "After 44 iterations, +58 mins: \n",
      " rejected 1 attribute: MRNIP;\n",
      " still have 53 attributes left.\n",
      "\n",
      " 45. run of importance source...\n",
      " 46. run of importance source...\n",
      " 47. run of importance source...\n",
      " 48. run of importance source...\n",
      " 49. run of importance source...\n",
      " 50. run of importance source...\n",
      " 51. run of importance source...\n",
      " 52. run of importance source...\n",
      " 53. run of importance source...\n",
      " 54. run of importance source...\n",
      " 55. run of importance source...\n",
      " 56. run of importance source...\n",
      " 57. run of importance source...\n",
      "After 57 iterations, +58 mins: \n",
      " rejected 1 attribute: ZDHHC14;\n",
      " still have 52 attributes left.\n",
      "\n",
      " 58. run of importance source...\n",
      " 59. run of importance source...\n",
      " 60. run of importance source...\n",
      "After 60 iterations, +58 mins: \n",
      " rejected 1 attribute: MIR200CHG;\n",
      " still have 51 attributes left.\n",
      "\n",
      " 61. run of importance source...\n",
      " 62. run of importance source...\n",
      " 63. run of importance source...\n",
      " 64. run of importance source...\n",
      " 65. run of importance source...\n",
      " 66. run of importance source...\n",
      " 67. run of importance source...\n",
      " 68. run of importance source...\n",
      " 69. run of importance source...\n",
      " 70. run of importance source...\n",
      " 71. run of importance source...\n",
      " 72. run of importance source...\n",
      " 73. run of importance source...\n",
      " 74. run of importance source...\n",
      "After 74 iterations, +58 mins: \n",
      " confirmed 1 attribute: SPRR1A;\n",
      " still have 50 attributes left.\n",
      "\n",
      " 75. run of importance source...\n",
      " 76. run of importance source...\n",
      " 77. run of importance source...\n",
      " 78. run of importance source...\n",
      " 79. run of importance source...\n",
      " 80. run of importance source...\n",
      "After 80 iterations, +58 mins: \n",
      " rejected 1 attribute: PLAAT2;\n",
      " still have 49 attributes left.\n",
      "\n",
      " 81. run of importance source...\n",
      " 82. run of importance source...\n",
      " 83. run of importance source...\n",
      "After 83 iterations, +58 mins: \n",
      " confirmed 1 attribute: MSMB;\n",
      " still have 48 attributes left.\n",
      "\n",
      " 84. run of importance source...\n",
      " 85. run of importance source...\n",
      " 86. run of importance source...\n",
      "After 86 iterations, +58 mins: \n",
      " confirmed 2 attributes: SLC44A1, SLCO1C1;\n",
      " still have 46 attributes left.\n",
      "\n",
      " 87. run of importance source...\n",
      " 88. run of importance source...\n",
      "After 88 iterations, +58 mins: \n",
      " confirmed 5 attributes: CAPN1, KATNAL2, LAMC2, PGAP3, S100A14;\n",
      " still have 41 attributes left.\n",
      "\n",
      " 89. run of importance source...\n",
      " 90. run of importance source...\n",
      " 91. run of importance source...\n",
      "After 91 iterations, +58 mins: \n",
      " confirmed 1 attribute: DSG3;\n",
      " still have 40 attributes left.\n",
      "\n",
      " 92. run of importance source...\n",
      " 93. run of importance source...\n",
      " 94. run of importance source...\n",
      " 95. run of importance source...\n",
      " 96. run of importance source...\n",
      "After 96 iterations, +58 mins: \n",
      " confirmed 2 attributes: RNPEPL1, SH2D3A;\n",
      " still have 38 attributes left.\n",
      "\n",
      " 97. run of importance source...\n",
      " 98. run of importance source...\n",
      " 99. run of importance source...\n"
     ]
    },
    {
     "name": "stdout",
     "output_type": "stream",
     "text": [
      "\n",
      "Drug20: Boruta is running for Erlotinib"
     ]
    },
    {
     "name": "stderr",
     "output_type": "stream",
     "text": [
      " 1. run of importance source...\n"
     ]
    },
    {
     "name": "stdout",
     "output_type": "stream",
     "text": [
      "Computing permutation importance.. Progress: 18%. Estimated remaining time: 2 minutes, 19 seconds.\n",
      "Computing permutation importance.. Progress: 38%. Estimated remaining time: 1 minute, 42 seconds.\n",
      "Computing permutation importance.. Progress: 57%. Estimated remaining time: 1 minute, 9 seconds.\n",
      "Computing permutation importance.. Progress: 76%. Estimated remaining time: 39 seconds.\n",
      "Computing permutation importance.. Progress: 95%. Estimated remaining time: 8 seconds.\n"
     ]
    },
    {
     "name": "stderr",
     "output_type": "stream",
     "text": [
      " 2. run of importance source...\n"
     ]
    },
    {
     "name": "stdout",
     "output_type": "stream",
     "text": [
      "Computing permutation importance.. Progress: 24%. Estimated remaining time: 1 minute, 39 seconds.\n",
      "Computing permutation importance.. Progress: 46%. Estimated remaining time: 1 minute, 12 seconds.\n",
      "Computing permutation importance.. Progress: 69%. Estimated remaining time: 42 seconds.\n",
      "Computing permutation importance.. Progress: 93%. Estimated remaining time: 9 seconds.\n"
     ]
    },
    {
     "name": "stderr",
     "output_type": "stream",
     "text": [
      " 3. run of importance source...\n"
     ]
    },
    {
     "name": "stdout",
     "output_type": "stream",
     "text": [
      "Computing permutation importance.. Progress: 24%. Estimated remaining time: 1 minute, 37 seconds.\n",
      "Computing permutation importance.. Progress: 46%. Estimated remaining time: 1 minute, 13 seconds.\n",
      "Computing permutation importance.. Progress: 68%. Estimated remaining time: 44 seconds.\n",
      "Computing permutation importance.. Progress: 90%. Estimated remaining time: 13 seconds.\n"
     ]
    },
    {
     "name": "stderr",
     "output_type": "stream",
     "text": [
      " 4. run of importance source...\n"
     ]
    },
    {
     "name": "stdout",
     "output_type": "stream",
     "text": [
      "Computing permutation importance.. Progress: 23%. Estimated remaining time: 1 minute, 43 seconds.\n",
      "Computing permutation importance.. Progress: 47%. Estimated remaining time: 1 minute, 9 seconds.\n",
      "Computing permutation importance.. Progress: 71%. Estimated remaining time: 38 seconds.\n",
      "Computing permutation importance.. Progress: 93%. Estimated remaining time: 9 seconds.\n"
     ]
    },
    {
     "name": "stderr",
     "output_type": "stream",
     "text": [
      " 5. run of importance source...\n"
     ]
    },
    {
     "name": "stdout",
     "output_type": "stream",
     "text": [
      "Computing permutation importance.. Progress: 22%. Estimated remaining time: 1 minute, 48 seconds.\n",
      "Computing permutation importance.. Progress: 45%. Estimated remaining time: 1 minute, 17 seconds.\n",
      "Computing permutation importance.. Progress: 67%. Estimated remaining time: 47 seconds.\n",
      "Computing permutation importance.. Progress: 89%. Estimated remaining time: 15 seconds.\n"
     ]
    },
    {
     "name": "stderr",
     "output_type": "stream",
     "text": [
      " 6. run of importance source...\n"
     ]
    },
    {
     "name": "stdout",
     "output_type": "stream",
     "text": [
      "Computing permutation importance.. Progress: 21%. Estimated remaining time: 1 minute, 56 seconds.\n",
      "Computing permutation importance.. Progress: 42%. Estimated remaining time: 1 minute, 26 seconds.\n",
      "Computing permutation importance.. Progress: 64%. Estimated remaining time: 51 seconds.\n",
      "Computing permutation importance.. Progress: 87%. Estimated remaining time: 19 seconds.\n"
     ]
    },
    {
     "name": "stderr",
     "output_type": "stream",
     "text": [
      " 7. run of importance source...\n"
     ]
    },
    {
     "name": "stdout",
     "output_type": "stream",
     "text": [
      "Computing permutation importance.. Progress: 23%. Estimated remaining time: 1 minute, 44 seconds.\n",
      "Computing permutation importance.. Progress: 45%. Estimated remaining time: 1 minute, 15 seconds.\n",
      "Computing permutation importance.. Progress: 67%. Estimated remaining time: 45 seconds.\n",
      "Computing permutation importance.. Progress: 89%. Estimated remaining time: 15 seconds.\n"
     ]
    },
    {
     "name": "stderr",
     "output_type": "stream",
     "text": [
      " 8. run of importance source...\n"
     ]
    },
    {
     "name": "stdout",
     "output_type": "stream",
     "text": [
      "Computing permutation importance.. Progress: 22%. Estimated remaining time: 1 minute, 52 seconds.\n",
      "Computing permutation importance.. Progress: 44%. Estimated remaining time: 1 minute, 20 seconds.\n",
      "Computing permutation importance.. Progress: 66%. Estimated remaining time: 47 seconds.\n",
      "Computing permutation importance.. Progress: 87%. Estimated remaining time: 18 seconds.\n"
     ]
    },
    {
     "name": "stderr",
     "output_type": "stream",
     "text": [
      " 9. run of importance source...\n"
     ]
    },
    {
     "name": "stdout",
     "output_type": "stream",
     "text": [
      "Computing permutation importance.. Progress: 24%. Estimated remaining time: 1 minute, 37 seconds.\n",
      "Computing permutation importance.. Progress: 48%. Estimated remaining time: 1 minute, 7 seconds.\n",
      "Computing permutation importance.. Progress: 71%. Estimated remaining time: 37 seconds.\n",
      "Computing permutation importance.. Progress: 94%. Estimated remaining time: 7 seconds.\n"
     ]
    },
    {
     "name": "stderr",
     "output_type": "stream",
     "text": [
      " 10. run of importance source...\n"
     ]
    },
    {
     "name": "stdout",
     "output_type": "stream",
     "text": [
      "Computing permutation importance.. Progress: 23%. Estimated remaining time: 1 minute, 44 seconds.\n",
      "Computing permutation importance.. Progress: 46%. Estimated remaining time: 1 minute, 11 seconds.\n",
      "Computing permutation importance.. Progress: 69%. Estimated remaining time: 41 seconds.\n",
      "Computing permutation importance.. Progress: 92%. Estimated remaining time: 10 seconds.\n"
     ]
    },
    {
     "name": "stderr",
     "output_type": "stream",
     "text": [
      " 11. run of importance source...\n"
     ]
    },
    {
     "name": "stdout",
     "output_type": "stream",
     "text": [
      "Computing permutation importance.. Progress: 24%. Estimated remaining time: 1 minute, 39 seconds.\n",
      "Computing permutation importance.. Progress: 47%. Estimated remaining time: 1 minute, 8 seconds.\n",
      "Computing permutation importance.. Progress: 71%. Estimated remaining time: 37 seconds.\n",
      "Computing permutation importance.. Progress: 94%. Estimated remaining time: 8 seconds.\n"
     ]
    },
    {
     "name": "stderr",
     "output_type": "stream",
     "text": [
      " 12. run of importance source...\n"
     ]
    },
    {
     "name": "stdout",
     "output_type": "stream",
     "text": [
      "Computing permutation importance.. Progress: 19%. Estimated remaining time: 2 minutes, 15 seconds.\n",
      "Computing permutation importance.. Progress: 37%. Estimated remaining time: 1 minute, 44 seconds.\n",
      "Computing permutation importance.. Progress: 55%. Estimated remaining time: 1 minute, 16 seconds.\n",
      "Computing permutation importance.. Progress: 73%. Estimated remaining time: 45 seconds.\n",
      "Computing permutation importance.. Progress: 93%. Estimated remaining time: 12 seconds.\n"
     ]
    },
    {
     "name": "stderr",
     "output_type": "stream",
     "text": [
      " 13. run of importance source...\n"
     ]
    },
    {
     "name": "stdout",
     "output_type": "stream",
     "text": [
      "Computing permutation importance.. Progress: 19%. Estimated remaining time: 2 minutes, 15 seconds.\n",
      "Computing permutation importance.. Progress: 38%. Estimated remaining time: 1 minute, 42 seconds.\n",
      "Computing permutation importance.. Progress: 56%. Estimated remaining time: 1 minute, 13 seconds.\n",
      "Computing permutation importance.. Progress: 76%. Estimated remaining time: 40 seconds.\n",
      "Computing permutation importance.. Progress: 95%. Estimated remaining time: 8 seconds.\n"
     ]
    },
    {
     "name": "stderr",
     "output_type": "stream",
     "text": [
      " 14. run of importance source...\n"
     ]
    },
    {
     "name": "stdout",
     "output_type": "stream",
     "text": [
      "Computing permutation importance.. Progress: 18%. Estimated remaining time: 2 minutes, 19 seconds.\n",
      "Computing permutation importance.. Progress: 37%. Estimated remaining time: 1 minute, 43 seconds.\n",
      "Computing permutation importance.. Progress: 56%. Estimated remaining time: 1 minute, 11 seconds.\n",
      "Computing permutation importance.. Progress: 75%. Estimated remaining time: 41 seconds.\n",
      "Computing permutation importance.. Progress: 94%. Estimated remaining time: 10 seconds.\n"
     ]
    },
    {
     "name": "stderr",
     "output_type": "stream",
     "text": [
      " 15. run of importance source...\n"
     ]
    },
    {
     "name": "stdout",
     "output_type": "stream",
     "text": [
      "Computing permutation importance.. Progress: 19%. Estimated remaining time: 2 minutes, 15 seconds.\n",
      "Computing permutation importance.. Progress: 38%. Estimated remaining time: 1 minute, 41 seconds.\n",
      "Computing permutation importance.. Progress: 58%. Estimated remaining time: 1 minute, 7 seconds.\n",
      "Computing permutation importance.. Progress: 78%. Estimated remaining time: 36 seconds.\n",
      "Computing permutation importance.. Progress: 97%. Estimated remaining time: 4 seconds.\n"
     ]
    },
    {
     "name": "stderr",
     "output_type": "stream",
     "text": [
      " 16. run of importance source...\n"
     ]
    },
    {
     "name": "stdout",
     "output_type": "stream",
     "text": [
      "Computing permutation importance.. Progress: 19%. Estimated remaining time: 2 minutes, 13 seconds.\n",
      "Computing permutation importance.. Progress: 38%. Estimated remaining time: 1 minute, 41 seconds.\n",
      "Computing permutation importance.. Progress: 57%. Estimated remaining time: 1 minute, 9 seconds.\n",
      "Computing permutation importance.. Progress: 77%. Estimated remaining time: 37 seconds.\n",
      "Computing permutation importance.. Progress: 96%. Estimated remaining time: 5 seconds.\n"
     ]
    },
    {
     "name": "stderr",
     "output_type": "stream",
     "text": [
      " 17. run of importance source...\n"
     ]
    },
    {
     "name": "stdout",
     "output_type": "stream",
     "text": [
      "Computing permutation importance.. Progress: 19%. Estimated remaining time: 2 minutes, 20 seconds.\n",
      "Computing permutation importance.. Progress: 38%. Estimated remaining time: 1 minute, 42 seconds.\n",
      "Computing permutation importance.. Progress: 57%. Estimated remaining time: 1 minute, 11 seconds.\n",
      "Computing permutation importance.. Progress: 76%. Estimated remaining time: 40 seconds.\n",
      "Computing permutation importance.. Progress: 94%. Estimated remaining time: 9 seconds.\n"
     ]
    },
    {
     "name": "stderr",
     "output_type": "stream",
     "text": [
      " 18. run of importance source...\n"
     ]
    },
    {
     "name": "stdout",
     "output_type": "stream",
     "text": [
      "Computing permutation importance.. Progress: 18%. Estimated remaining time: 2 minutes, 23 seconds.\n",
      "Computing permutation importance.. Progress: 38%. Estimated remaining time: 1 minute, 44 seconds.\n",
      "Computing permutation importance.. Progress: 56%. Estimated remaining time: 1 minute, 13 seconds.\n",
      "Computing permutation importance.. Progress: 75%. Estimated remaining time: 40 seconds.\n",
      "Computing permutation importance.. Progress: 94%. Estimated remaining time: 10 seconds.\n"
     ]
    },
    {
     "name": "stderr",
     "output_type": "stream",
     "text": [
      " 19. run of importance source...\n"
     ]
    },
    {
     "name": "stdout",
     "output_type": "stream",
     "text": [
      "Computing permutation importance.. Progress: 19%. Estimated remaining time: 2 minutes, 13 seconds.\n",
      "Computing permutation importance.. Progress: 38%. Estimated remaining time: 1 minute, 41 seconds.\n",
      "Computing permutation importance.. Progress: 57%. Estimated remaining time: 1 minute, 9 seconds.\n",
      "Computing permutation importance.. Progress: 77%. Estimated remaining time: 36 seconds.\n",
      "Computing permutation importance.. Progress: 96%. Estimated remaining time: 6 seconds.\n"
     ]
    },
    {
     "name": "stderr",
     "output_type": "stream",
     "text": [
      " 20. run of importance source...\n"
     ]
    },
    {
     "name": "stdout",
     "output_type": "stream",
     "text": [
      "Computing permutation importance.. Progress: 19%. Estimated remaining time: 2 minutes, 15 seconds.\n",
      "Computing permutation importance.. Progress: 38%. Estimated remaining time: 1 minute, 42 seconds.\n",
      "Computing permutation importance.. Progress: 57%. Estimated remaining time: 1 minute, 11 seconds.\n",
      "Computing permutation importance.. Progress: 76%. Estimated remaining time: 39 seconds.\n",
      "Computing permutation importance.. Progress: 95%. Estimated remaining time: 8 seconds.\n"
     ]
    },
    {
     "name": "stderr",
     "output_type": "stream",
     "text": [
      " 21. run of importance source...\n"
     ]
    },
    {
     "name": "stdout",
     "output_type": "stream",
     "text": [
      "Computing permutation importance.. Progress: 18%. Estimated remaining time: 2 minutes, 17 seconds.\n",
      "Computing permutation importance.. Progress: 38%. Estimated remaining time: 1 minute, 41 seconds.\n",
      "Computing permutation importance.. Progress: 57%. Estimated remaining time: 1 minute, 10 seconds.\n",
      "Computing permutation importance.. Progress: 77%. Estimated remaining time: 38 seconds.\n",
      "Computing permutation importance.. Progress: 96%. Estimated remaining time: 6 seconds.\n"
     ]
    },
    {
     "name": "stderr",
     "output_type": "stream",
     "text": [
      "After 21 iterations, +57 mins: \n",
      " rejected 20121 attributes: A1BG, A1BG-AS1, A1CF, A2M, A2M-AS1 and 20116 more;\n",
      " still have 53 attributes left.\n",
      "\n",
      " 22. run of importance source...\n",
      " 23. run of importance source...\n",
      " 24. run of importance source...\n",
      " 25. run of importance source...\n",
      " 26. run of importance source...\n",
      "After 26 iterations, +57 mins: \n",
      " rejected 6 attributes: CABS1, CDC42BPG, EPN3, KRT14, PROM2 and 1 more;\n",
      " still have 47 attributes left.\n",
      "\n",
      " 27. run of importance source...\n",
      " 28. run of importance source...\n",
      " 29. run of importance source...\n",
      " 30. run of importance source...\n",
      "After 30 iterations, +57 mins: \n",
      " rejected 4 attributes: ARPC1A, ETFRF1, LCAL1, SH2D3A;\n",
      " still have 43 attributes left.\n",
      "\n",
      " 31. run of importance source...\n",
      " 32. run of importance source...\n",
      " 33. run of importance source...\n",
      " 34. run of importance source...\n",
      " 35. run of importance source...\n",
      " 36. run of importance source...\n",
      " 37. run of importance source...\n",
      " 38. run of importance source...\n",
      " 39. run of importance source...\n",
      " 40. run of importance source...\n",
      " 41. run of importance source...\n",
      " 42. run of importance source...\n",
      " 43. run of importance source...\n",
      " 44. run of importance source...\n",
      " 45. run of importance source...\n",
      " 46. run of importance source...\n",
      " 47. run of importance source...\n",
      " 48. run of importance source...\n",
      " 49. run of importance source...\n",
      " 50. run of importance source...\n",
      " 51. run of importance source...\n",
      " 52. run of importance source...\n",
      " 53. run of importance source...\n",
      " 54. run of importance source...\n",
      " 55. run of importance source...\n",
      " 56. run of importance source...\n",
      " 57. run of importance source...\n",
      " 58. run of importance source...\n",
      " 59. run of importance source...\n",
      " 60. run of importance source...\n",
      "After 60 iterations, +57 mins: \n",
      " rejected 1 attribute: GRHL2;\n",
      " still have 42 attributes left.\n",
      "\n",
      " 61. run of importance source...\n",
      " 62. run of importance source...\n",
      " 63. run of importance source...\n",
      "After 63 iterations, +57 mins: \n",
      " rejected 1 attribute: LOC105378231;\n",
      " still have 41 attributes left.\n",
      "\n",
      " 64. run of importance source...\n",
      " 65. run of importance source...\n",
      " 66. run of importance source...\n",
      " 67. run of importance source...\n",
      " 68. run of importance source...\n",
      " 69. run of importance source...\n",
      " 70. run of importance source...\n",
      " 71. run of importance source...\n",
      " 72. run of importance source...\n",
      " 73. run of importance source...\n",
      " 74. run of importance source...\n",
      "After 74 iterations, +57 mins: \n",
      " confirmed 1 attribute: LAMC2;\n",
      " still have 40 attributes left.\n",
      "\n",
      " 75. run of importance source...\n",
      " 76. run of importance source...\n",
      " 77. run of importance source...\n",
      "After 77 iterations, +57 mins: \n",
      " confirmed 1 attribute: TMPRSS11E;\n",
      " rejected 1 attribute: GPR87;\n",
      " still have 38 attributes left.\n",
      "\n",
      " 78. run of importance source...\n",
      " 79. run of importance source...\n",
      " 80. run of importance source...\n",
      "After 80 iterations, +57 mins: \n",
      " confirmed 2 attributes: DCTN3, S100A14;\n",
      " still have 36 attributes left.\n",
      "\n",
      " 81. run of importance source...\n",
      " 82. run of importance source...\n",
      " 83. run of importance source...\n",
      "After 83 iterations, +57 mins: \n",
      " confirmed 2 attributes: BTC, DSC3;\n",
      " still have 34 attributes left.\n",
      "\n",
      " 84. run of importance source...\n",
      " 85. run of importance source...\n",
      " 86. run of importance source...\n",
      " 87. run of importance source...\n",
      " 88. run of importance source...\n",
      " 89. run of importance source...\n",
      " 90. run of importance source...\n",
      " 91. run of importance source...\n",
      "After 91 iterations, +57 mins: \n",
      " confirmed 1 attribute: CDH3;\n",
      " still have 33 attributes left.\n",
      "\n",
      " 92. run of importance source...\n",
      " 93. run of importance source...\n",
      " 94. run of importance source...\n",
      "After 94 iterations, +57 mins: \n",
      " confirmed 2 attributes: CHST1, DUOXA1;\n",
      " still have 31 attributes left.\n",
      "\n",
      " 95. run of importance source...\n",
      " 96. run of importance source...\n",
      " 97. run of importance source...\n",
      " 98. run of importance source...\n",
      " 99. run of importance source...\n",
      "After 99 iterations, +57 mins: \n",
      " confirmed 3 attributes: ATP7B, ITGB6, KRTAP4-2;\n",
      " still have 28 attributes left.\n",
      "\n"
     ]
    },
    {
     "name": "stdout",
     "output_type": "stream",
     "text": [
      "\n",
      "Drug21: Boruta is running for AEW541"
     ]
    },
    {
     "name": "stderr",
     "output_type": "stream",
     "text": [
      " 1. run of importance source...\n"
     ]
    },
    {
     "name": "stdout",
     "output_type": "stream",
     "text": [
      "Computing permutation importance.. Progress: 22%. Estimated remaining time: 1 minute, 51 seconds.\n",
      "Computing permutation importance.. Progress: 44%. Estimated remaining time: 1 minute, 18 seconds.\n",
      "Computing permutation importance.. Progress: 67%. Estimated remaining time: 45 seconds.\n",
      "Computing permutation importance.. Progress: 89%. Estimated remaining time: 15 seconds.\n"
     ]
    },
    {
     "name": "stderr",
     "output_type": "stream",
     "text": [
      " 2. run of importance source...\n"
     ]
    },
    {
     "name": "stdout",
     "output_type": "stream",
     "text": [
      "Computing permutation importance.. Progress: 21%. Estimated remaining time: 1 minute, 53 seconds.\n",
      "Computing permutation importance.. Progress: 43%. Estimated remaining time: 1 minute, 21 seconds.\n",
      "Computing permutation importance.. Progress: 65%. Estimated remaining time: 49 seconds.\n",
      "Computing permutation importance.. Progress: 88%. Estimated remaining time: 17 seconds.\n"
     ]
    },
    {
     "name": "stderr",
     "output_type": "stream",
     "text": [
      " 3. run of importance source...\n"
     ]
    },
    {
     "name": "stdout",
     "output_type": "stream",
     "text": [
      "Computing permutation importance.. Progress: 22%. Estimated remaining time: 1 minute, 52 seconds.\n",
      "Computing permutation importance.. Progress: 44%. Estimated remaining time: 1 minute, 19 seconds.\n",
      "Computing permutation importance.. Progress: 67%. Estimated remaining time: 46 seconds.\n",
      "Computing permutation importance.. Progress: 88%. Estimated remaining time: 16 seconds.\n"
     ]
    },
    {
     "name": "stderr",
     "output_type": "stream",
     "text": [
      " 4. run of importance source...\n"
     ]
    },
    {
     "name": "stdout",
     "output_type": "stream",
     "text": [
      "Computing permutation importance.. Progress: 21%. Estimated remaining time: 1 minute, 58 seconds.\n",
      "Computing permutation importance.. Progress: 43%. Estimated remaining time: 1 minute, 22 seconds.\n",
      "Computing permutation importance.. Progress: 65%. Estimated remaining time: 49 seconds.\n",
      "Computing permutation importance.. Progress: 88%. Estimated remaining time: 17 seconds.\n"
     ]
    },
    {
     "name": "stderr",
     "output_type": "stream",
     "text": [
      " 5. run of importance source...\n"
     ]
    },
    {
     "name": "stdout",
     "output_type": "stream",
     "text": [
      "Computing permutation importance.. Progress: 22%. Estimated remaining time: 1 minute, 52 seconds.\n",
      "Computing permutation importance.. Progress: 43%. Estimated remaining time: 1 minute, 21 seconds.\n",
      "Computing permutation importance.. Progress: 65%. Estimated remaining time: 49 seconds.\n",
      "Computing permutation importance.. Progress: 87%. Estimated remaining time: 19 seconds.\n"
     ]
    },
    {
     "name": "stderr",
     "output_type": "stream",
     "text": [
      " 6. run of importance source...\n"
     ]
    },
    {
     "name": "stdout",
     "output_type": "stream",
     "text": [
      "Computing permutation importance.. Progress: 22%. Estimated remaining time: 1 minute, 48 seconds.\n",
      "Computing permutation importance.. Progress: 45%. Estimated remaining time: 1 minute, 17 seconds.\n",
      "Computing permutation importance.. Progress: 67%. Estimated remaining time: 46 seconds.\n",
      "Computing permutation importance.. Progress: 89%. Estimated remaining time: 15 seconds.\n"
     ]
    },
    {
     "name": "stderr",
     "output_type": "stream",
     "text": [
      " 7. run of importance source...\n"
     ]
    },
    {
     "name": "stdout",
     "output_type": "stream",
     "text": [
      "Computing permutation importance.. Progress: 19%. Estimated remaining time: 2 minutes, 8 seconds.\n",
      "Computing permutation importance.. Progress: 42%. Estimated remaining time: 1 minute, 24 seconds.\n",
      "Computing permutation importance.. Progress: 64%. Estimated remaining time: 51 seconds.\n",
      "Computing permutation importance.. Progress: 91%. Estimated remaining time: 11 seconds.\n"
     ]
    },
    {
     "name": "stderr",
     "output_type": "stream",
     "text": [
      " 8. run of importance source...\n"
     ]
    },
    {
     "name": "stdout",
     "output_type": "stream",
     "text": [
      "Computing permutation importance.. Progress: 26%. Estimated remaining time: 1 minute, 28 seconds.\n",
      "Computing permutation importance.. Progress: 52%. Estimated remaining time: 56 seconds.\n",
      "Computing permutation importance.. Progress: 79%. Estimated remaining time: 25 seconds.\n"
     ]
    },
    {
     "name": "stderr",
     "output_type": "stream",
     "text": [
      " 9. run of importance source...\n"
     ]
    },
    {
     "name": "stdout",
     "output_type": "stream",
     "text": [
      "Computing permutation importance.. Progress: 26%. Estimated remaining time: 1 minute, 26 seconds.\n",
      "Computing permutation importance.. Progress: 53%. Estimated remaining time: 55 seconds.\n",
      "Computing permutation importance.. Progress: 80%. Estimated remaining time: 23 seconds.\n"
     ]
    },
    {
     "name": "stderr",
     "output_type": "stream",
     "text": [
      " 10. run of importance source...\n"
     ]
    },
    {
     "name": "stdout",
     "output_type": "stream",
     "text": [
      "Computing permutation importance.. Progress: 27%. Estimated remaining time: 1 minute, 24 seconds.\n",
      "Computing permutation importance.. Progress: 53%. Estimated remaining time: 55 seconds.\n",
      "Computing permutation importance.. Progress: 80%. Estimated remaining time: 22 seconds.\n"
     ]
    },
    {
     "name": "stderr",
     "output_type": "stream",
     "text": [
      " 11. run of importance source...\n"
     ]
    },
    {
     "name": "stdout",
     "output_type": "stream",
     "text": [
      "Computing permutation importance.. Progress: 28%. Estimated remaining time: 1 minute, 19 seconds.\n",
      "Computing permutation importance.. Progress: 55%. Estimated remaining time: 50 seconds.\n",
      "Computing permutation importance.. Progress: 81%. Estimated remaining time: 21 seconds.\n"
     ]
    },
    {
     "name": "stderr",
     "output_type": "stream",
     "text": [
      " 12. run of importance source...\n"
     ]
    },
    {
     "name": "stdout",
     "output_type": "stream",
     "text": [
      "Computing permutation importance.. Progress: 27%. Estimated remaining time: 1 minute, 22 seconds.\n",
      "Computing permutation importance.. Progress: 54%. Estimated remaining time: 52 seconds.\n",
      "Computing permutation importance.. Progress: 82%. Estimated remaining time: 20 seconds.\n"
     ]
    },
    {
     "name": "stderr",
     "output_type": "stream",
     "text": [
      " 13. run of importance source...\n"
     ]
    },
    {
     "name": "stdout",
     "output_type": "stream",
     "text": [
      "Computing permutation importance.. Progress: 27%. Estimated remaining time: 1 minute, 22 seconds.\n",
      "Computing permutation importance.. Progress: 54%. Estimated remaining time: 51 seconds.\n",
      "Computing permutation importance.. Progress: 81%. Estimated remaining time: 21 seconds.\n"
     ]
    },
    {
     "name": "stderr",
     "output_type": "stream",
     "text": [
      " 14. run of importance source...\n"
     ]
    },
    {
     "name": "stdout",
     "output_type": "stream",
     "text": [
      "Computing permutation importance.. Progress: 27%. Estimated remaining time: 1 minute, 25 seconds.\n",
      "Computing permutation importance.. Progress: 54%. Estimated remaining time: 53 seconds.\n",
      "Computing permutation importance.. Progress: 81%. Estimated remaining time: 21 seconds.\n"
     ]
    },
    {
     "name": "stderr",
     "output_type": "stream",
     "text": [
      " 15. run of importance source...\n"
     ]
    },
    {
     "name": "stdout",
     "output_type": "stream",
     "text": [
      "Computing permutation importance.. Progress: 27%. Estimated remaining time: 1 minute, 22 seconds.\n",
      "Computing permutation importance.. Progress: 55%. Estimated remaining time: 51 seconds.\n",
      "Computing permutation importance.. Progress: 83%. Estimated remaining time: 18 seconds.\n"
     ]
    },
    {
     "name": "stderr",
     "output_type": "stream",
     "text": [
      " 16. run of importance source...\n"
     ]
    },
    {
     "name": "stdout",
     "output_type": "stream",
     "text": [
      "Computing permutation importance.. Progress: 28%. Estimated remaining time: 1 minute, 21 seconds.\n",
      "Computing permutation importance.. Progress: 55%. Estimated remaining time: 50 seconds.\n",
      "Computing permutation importance.. Progress: 82%. Estimated remaining time: 20 seconds.\n"
     ]
    },
    {
     "name": "stderr",
     "output_type": "stream",
     "text": [
      " 17. run of importance source...\n"
     ]
    },
    {
     "name": "stdout",
     "output_type": "stream",
     "text": [
      "Computing permutation importance.. Progress: 29%. Estimated remaining time: 1 minute, 17 seconds.\n",
      "Computing permutation importance.. Progress: 56%. Estimated remaining time: 48 seconds.\n",
      "Computing permutation importance.. Progress: 83%. Estimated remaining time: 18 seconds.\n"
     ]
    },
    {
     "name": "stderr",
     "output_type": "stream",
     "text": [
      " 18. run of importance source...\n"
     ]
    },
    {
     "name": "stdout",
     "output_type": "stream",
     "text": [
      "Computing permutation importance.. Progress: 27%. Estimated remaining time: 1 minute, 22 seconds.\n",
      "Computing permutation importance.. Progress: 55%. Estimated remaining time: 51 seconds.\n",
      "Computing permutation importance.. Progress: 82%. Estimated remaining time: 20 seconds.\n"
     ]
    },
    {
     "name": "stderr",
     "output_type": "stream",
     "text": [
      " 19. run of importance source...\n"
     ]
    },
    {
     "name": "stdout",
     "output_type": "stream",
     "text": [
      "Computing permutation importance.. Progress: 28%. Estimated remaining time: 1 minute, 21 seconds.\n",
      "Computing permutation importance.. Progress: 55%. Estimated remaining time: 49 seconds.\n",
      "Computing permutation importance.. Progress: 83%. Estimated remaining time: 19 seconds.\n"
     ]
    },
    {
     "name": "stderr",
     "output_type": "stream",
     "text": [
      " 20. run of importance source...\n"
     ]
    },
    {
     "name": "stdout",
     "output_type": "stream",
     "text": [
      "Computing permutation importance.. Progress: 27%. Estimated remaining time: 1 minute, 25 seconds.\n",
      "Computing permutation importance.. Progress: 54%. Estimated remaining time: 53 seconds.\n",
      "Computing permutation importance.. Progress: 80%. Estimated remaining time: 22 seconds.\n"
     ]
    },
    {
     "name": "stderr",
     "output_type": "stream",
     "text": [
      " 21. run of importance source...\n"
     ]
    },
    {
     "name": "stdout",
     "output_type": "stream",
     "text": [
      "Computing permutation importance.. Progress: 27%. Estimated remaining time: 1 minute, 22 seconds.\n",
      "Computing permutation importance.. Progress: 55%. Estimated remaining time: 51 seconds.\n",
      "Computing permutation importance.. Progress: 82%. Estimated remaining time: 20 seconds.\n"
     ]
    },
    {
     "name": "stderr",
     "output_type": "stream",
     "text": [
      "After 21 iterations, +47 mins: \n",
      " rejected 20125 attributes: A1BG, A1BG-AS1, A1CF, A2M, A2M-AS1 and 20120 more;\n",
      " still have 49 attributes left.\n",
      "\n",
      " 22. run of importance source...\n",
      " 23. run of importance source...\n",
      " 24. run of importance source...\n",
      " 25. run of importance source...\n",
      " 26. run of importance source...\n",
      "After 26 iterations, +47 mins: \n",
      " rejected 21 attributes: ACTA2, ALDH4A1, CASP1, CIAO3, CNDP1 and 16 more;\n",
      " still have 28 attributes left.\n",
      "\n",
      " 27. run of importance source...\n",
      " 28. run of importance source...\n",
      " 29. run of importance source...\n",
      " 30. run of importance source...\n",
      " 31. run of importance source...\n",
      " 32. run of importance source...\n",
      " 33. run of importance source...\n",
      " 34. run of importance source...\n",
      " 35. run of importance source...\n",
      " 36. run of importance source...\n",
      " 37. run of importance source...\n",
      " 38. run of importance source...\n",
      "After 38 iterations, +47 mins: \n",
      " rejected 1 attribute: TUBG2;\n",
      " still have 27 attributes left.\n",
      "\n",
      " 39. run of importance source...\n",
      " 40. run of importance source...\n",
      " 41. run of importance source...\n",
      " 42. run of importance source...\n",
      " 43. run of importance source...\n",
      " 44. run of importance source...\n",
      " 45. run of importance source...\n",
      " 46. run of importance source...\n",
      " 47. run of importance source...\n",
      " 48. run of importance source...\n",
      " 49. run of importance source...\n",
      " 50. run of importance source...\n",
      " 51. run of importance source...\n",
      " 52. run of importance source...\n",
      " 53. run of importance source...\n",
      " 54. run of importance source...\n",
      " 55. run of importance source...\n",
      " 56. run of importance source...\n",
      " 57. run of importance source...\n",
      " 58. run of importance source...\n",
      " 59. run of importance source...\n",
      " 60. run of importance source...\n",
      " 61. run of importance source...\n",
      " 62. run of importance source...\n",
      " 63. run of importance source...\n",
      "After 63 iterations, +47 mins: \n",
      " rejected 1 attribute: ENPP3;\n",
      " still have 26 attributes left.\n",
      "\n",
      " 64. run of importance source...\n",
      " 65. run of importance source...\n",
      " 66. run of importance source...\n",
      " 67. run of importance source...\n",
      " 68. run of importance source...\n",
      " 69. run of importance source...\n",
      " 70. run of importance source...\n",
      " 71. run of importance source...\n",
      " 72. run of importance source...\n",
      " 73. run of importance source...\n",
      " 74. run of importance source...\n",
      " 75. run of importance source...\n",
      " 76. run of importance source...\n",
      " 77. run of importance source...\n",
      " 78. run of importance source...\n",
      " 79. run of importance source...\n",
      " 80. run of importance source...\n",
      "After 80 iterations, +47 mins: \n",
      " confirmed 1 attribute: CDON;\n",
      " still have 25 attributes left.\n",
      "\n",
      " 81. run of importance source...\n",
      " 82. run of importance source...\n",
      " 83. run of importance source...\n",
      "After 83 iterations, +47 mins: \n",
      " confirmed 1 attribute: GPC3;\n",
      " still have 24 attributes left.\n",
      "\n",
      " 84. run of importance source...\n",
      " 85. run of importance source...\n",
      " 86. run of importance source...\n",
      "After 86 iterations, +47 mins: \n",
      " confirmed 4 attributes: AGK, IMMT, LOC105373334, ZYG11B;\n",
      " still have 20 attributes left.\n",
      "\n",
      " 87. run of importance source...\n",
      " 88. run of importance source...\n",
      "After 88 iterations, +47 mins: \n",
      " confirmed 2 attributes: AGPAT4, SLC22A3;\n",
      " still have 18 attributes left.\n",
      "\n",
      " 89. run of importance source...\n",
      " 90. run of importance source...\n",
      " 91. run of importance source...\n",
      " 92. run of importance source...\n",
      " 93. run of importance source...\n",
      " 94. run of importance source...\n",
      " 95. run of importance source...\n",
      " 96. run of importance source...\n",
      "After 96 iterations, +47 mins: \n",
      " confirmed 1 attribute: ARID3A;\n",
      " still have 17 attributes left.\n",
      "\n",
      " 97. run of importance source...\n",
      " 98. run of importance source...\n",
      " 99. run of importance source...\n"
     ]
    },
    {
     "name": "stdout",
     "output_type": "stream",
     "text": [
      "\n",
      "Drug22: Boruta is running for Irinotecan"
     ]
    },
    {
     "name": "stderr",
     "output_type": "stream",
     "text": [
      " 1. run of importance source...\n"
     ]
    },
    {
     "name": "stdout",
     "output_type": "stream",
     "text": [
      "Computing permutation importance.. Progress: 43%. Estimated remaining time: 40 seconds.\n",
      "Computing permutation importance.. Progress: 83%. Estimated remaining time: 12 seconds.\n"
     ]
    },
    {
     "name": "stderr",
     "output_type": "stream",
     "text": [
      " 2. run of importance source...\n"
     ]
    },
    {
     "name": "stdout",
     "output_type": "stream",
     "text": [
      "Computing permutation importance.. Progress: 40%. Estimated remaining time: 46 seconds.\n",
      "Computing permutation importance.. Progress: 79%. Estimated remaining time: 16 seconds.\n"
     ]
    },
    {
     "name": "stderr",
     "output_type": "stream",
     "text": [
      " 3. run of importance source...\n"
     ]
    },
    {
     "name": "stdout",
     "output_type": "stream",
     "text": [
      "Computing permutation importance.. Progress: 41%. Estimated remaining time: 44 seconds.\n",
      "Computing permutation importance.. Progress: 83%. Estimated remaining time: 12 seconds.\n"
     ]
    },
    {
     "name": "stderr",
     "output_type": "stream",
     "text": [
      " 4. run of importance source...\n"
     ]
    },
    {
     "name": "stdout",
     "output_type": "stream",
     "text": [
      "Computing permutation importance.. Progress: 41%. Estimated remaining time: 44 seconds.\n",
      "Computing permutation importance.. Progress: 74%. Estimated remaining time: 21 seconds.\n"
     ]
    },
    {
     "name": "stderr",
     "output_type": "stream",
     "text": [
      " 5. run of importance source...\n"
     ]
    },
    {
     "name": "stdout",
     "output_type": "stream",
     "text": [
      "Computing permutation importance.. Progress: 33%. Estimated remaining time: 1 minute, 3 seconds.\n",
      "Computing permutation importance.. Progress: 66%. Estimated remaining time: 32 seconds.\n",
      "Computing permutation importance.. Progress: 99%. Estimated remaining time: 0 seconds.\n"
     ]
    },
    {
     "name": "stderr",
     "output_type": "stream",
     "text": [
      " 6. run of importance source...\n"
     ]
    },
    {
     "name": "stdout",
     "output_type": "stream",
     "text": [
      "Computing permutation importance.. Progress: 33%. Estimated remaining time: 1 minute, 2 seconds.\n",
      "Computing permutation importance.. Progress: 66%. Estimated remaining time: 32 seconds.\n",
      "Computing permutation importance.. Progress: 99%. Estimated remaining time: 0 seconds.\n"
     ]
    },
    {
     "name": "stderr",
     "output_type": "stream",
     "text": [
      " 7. run of importance source...\n"
     ]
    },
    {
     "name": "stdout",
     "output_type": "stream",
     "text": [
      "Computing permutation importance.. Progress: 34%. Estimated remaining time: 1 minute, 0 seconds.\n",
      "Computing permutation importance.. Progress: 67%. Estimated remaining time: 29 seconds.\n"
     ]
    },
    {
     "name": "stderr",
     "output_type": "stream",
     "text": [
      " 8. run of importance source...\n"
     ]
    },
    {
     "name": "stdout",
     "output_type": "stream",
     "text": [
      "Computing permutation importance.. Progress: 33%. Estimated remaining time: 1 minute, 2 seconds.\n",
      "Computing permutation importance.. Progress: 65%. Estimated remaining time: 33 seconds.\n",
      "Computing permutation importance.. Progress: 98%. Estimated remaining time: 2 seconds.\n"
     ]
    },
    {
     "name": "stderr",
     "output_type": "stream",
     "text": [
      " 9. run of importance source...\n"
     ]
    },
    {
     "name": "stdout",
     "output_type": "stream",
     "text": [
      "Computing permutation importance.. Progress: 33%. Estimated remaining time: 1 minute, 1 seconds.\n",
      "Computing permutation importance.. Progress: 67%. Estimated remaining time: 31 seconds.\n",
      "Computing permutation importance.. Progress: 100%. Estimated remaining time: 0 seconds.\n"
     ]
    },
    {
     "name": "stderr",
     "output_type": "stream",
     "text": [
      " 10. run of importance source...\n"
     ]
    },
    {
     "name": "stdout",
     "output_type": "stream",
     "text": [
      "Computing permutation importance.. Progress: 33%. Estimated remaining time: 1 minute, 2 seconds.\n",
      "Computing permutation importance.. Progress: 67%. Estimated remaining time: 31 seconds.\n",
      "Computing permutation importance.. Progress: 100%. Estimated remaining time: 0 seconds.\n"
     ]
    },
    {
     "name": "stderr",
     "output_type": "stream",
     "text": [
      " 11. run of importance source...\n"
     ]
    },
    {
     "name": "stdout",
     "output_type": "stream",
     "text": [
      "Computing permutation importance.. Progress: 33%. Estimated remaining time: 1 minute, 3 seconds.\n",
      "Computing permutation importance.. Progress: 66%. Estimated remaining time: 31 seconds.\n",
      "Computing permutation importance.. Progress: 100%. Estimated remaining time: 0 seconds.\n"
     ]
    },
    {
     "name": "stderr",
     "output_type": "stream",
     "text": [
      " 12. run of importance source...\n"
     ]
    },
    {
     "name": "stdout",
     "output_type": "stream",
     "text": [
      "Computing permutation importance.. Progress: 33%. Estimated remaining time: 1 minute, 2 seconds.\n",
      "Computing permutation importance.. Progress: 65%. Estimated remaining time: 32 seconds.\n",
      "Computing permutation importance.. Progress: 74%. Estimated remaining time: 3 minutes, 10 seconds.\n"
     ]
    },
    {
     "name": "stderr",
     "output_type": "stream",
     "text": [
      " 13. run of importance source...\n"
     ]
    },
    {
     "name": "stdout",
     "output_type": "stream",
     "text": [
      "Computing permutation importance.. Progress: 30%. Estimated remaining time: 1 minute, 13 seconds.\n",
      "Computing permutation importance.. Progress: 57%. Estimated remaining time: 46 seconds.\n",
      "Computing permutation importance.. Progress: 90%. Estimated remaining time: 10 seconds.\n"
     ]
    },
    {
     "name": "stderr",
     "output_type": "stream",
     "text": [
      " 14. run of importance source...\n"
     ]
    },
    {
     "name": "stdout",
     "output_type": "stream",
     "text": [
      "Computing permutation importance.. Progress: 31%. Estimated remaining time: 1 minute, 8 seconds.\n",
      "Computing permutation importance.. Progress: 61%. Estimated remaining time: 38 seconds.\n",
      "Computing permutation importance.. Progress: 96%. Estimated remaining time: 4 seconds.\n"
     ]
    },
    {
     "name": "stderr",
     "output_type": "stream",
     "text": [
      " 15. run of importance source...\n"
     ]
    },
    {
     "name": "stdout",
     "output_type": "stream",
     "text": [
      "Computing permutation importance.. Progress: 33%. Estimated remaining time: 1 minute, 2 seconds.\n",
      "Computing permutation importance.. Progress: 63%. Estimated remaining time: 36 seconds.\n",
      "Computing permutation importance.. Progress: 96%. Estimated remaining time: 3 seconds.\n"
     ]
    },
    {
     "name": "stderr",
     "output_type": "stream",
     "text": [
      " 16. run of importance source...\n"
     ]
    },
    {
     "name": "stdout",
     "output_type": "stream",
     "text": [
      "Computing permutation importance.. Progress: 34%. Estimated remaining time: 1 minute, 0 seconds.\n",
      "Computing permutation importance.. Progress: 68%. Estimated remaining time: 29 seconds.\n"
     ]
    },
    {
     "name": "stderr",
     "output_type": "stream",
     "text": [
      " 17. run of importance source...\n"
     ]
    },
    {
     "name": "stdout",
     "output_type": "stream",
     "text": [
      "Computing permutation importance.. Progress: 34%. Estimated remaining time: 1 minute, 1 seconds.\n",
      "Computing permutation importance.. Progress: 68%. Estimated remaining time: 28 seconds.\n"
     ]
    },
    {
     "name": "stderr",
     "output_type": "stream",
     "text": [
      " 18. run of importance source...\n"
     ]
    },
    {
     "name": "stdout",
     "output_type": "stream",
     "text": [
      "Computing permutation importance.. Progress: 33%. Estimated remaining time: 1 minute, 2 seconds.\n",
      "Computing permutation importance.. Progress: 66%. Estimated remaining time: 32 seconds.\n",
      "Computing permutation importance.. Progress: 99%. Estimated remaining time: 0 seconds.\n"
     ]
    },
    {
     "name": "stderr",
     "output_type": "stream",
     "text": [
      " 19. run of importance source...\n"
     ]
    },
    {
     "name": "stdout",
     "output_type": "stream",
     "text": [
      "Computing permutation importance.. Progress: 33%. Estimated remaining time: 1 minute, 4 seconds.\n",
      "Computing permutation importance.. Progress: 65%. Estimated remaining time: 33 seconds.\n",
      "Computing permutation importance.. Progress: 98%. Estimated remaining time: 2 seconds.\n"
     ]
    },
    {
     "name": "stderr",
     "output_type": "stream",
     "text": [
      " 20. run of importance source...\n"
     ]
    },
    {
     "name": "stdout",
     "output_type": "stream",
     "text": [
      "Computing permutation importance.. Progress: 34%. Estimated remaining time: 1 minute, 1 seconds.\n",
      "Computing permutation importance.. Progress: 67%. Estimated remaining time: 30 seconds.\n"
     ]
    },
    {
     "name": "stderr",
     "output_type": "stream",
     "text": [
      " 21. run of importance source...\n"
     ]
    },
    {
     "name": "stdout",
     "output_type": "stream",
     "text": [
      "Computing permutation importance.. Progress: 33%. Estimated remaining time: 1 minute, 2 seconds.\n",
      "Computing permutation importance.. Progress: 68%. Estimated remaining time: 29 seconds.\n",
      "Computing permutation importance.. Progress: 99%. Estimated remaining time: 0 seconds.\n"
     ]
    },
    {
     "name": "stderr",
     "output_type": "stream",
     "text": [
      "After 21 iterations, +42 mins: \n",
      " rejected 20140 attributes: A1BG, A1BG-AS1, A1CF, A2M, A2M-AS1 and 20135 more;\n",
      " still have 34 attributes left.\n",
      "\n",
      " 22. run of importance source...\n",
      " 23. run of importance source...\n",
      " 24. run of importance source...\n",
      " 25. run of importance source...\n",
      " 26. run of importance source...\n",
      "After 26 iterations, +42 mins: \n",
      " rejected 10 attributes: ALKBH8, ARHGAP19, DCUN1D5, ENOX2, NIPBL and 5 more;\n",
      " still have 24 attributes left.\n",
      "\n",
      " 27. run of importance source...\n",
      " 28. run of importance source...\n",
      " 29. run of importance source...\n",
      " 30. run of importance source...\n",
      "After 30 iterations, +42 mins: \n",
      " rejected 4 attributes: AMOTL1, HOXC4, HSPG2, NFYB;\n",
      " still have 20 attributes left.\n",
      "\n",
      " 31. run of importance source...\n",
      " 32. run of importance source...\n",
      " 33. run of importance source...\n",
      " 34. run of importance source...\n",
      " 35. run of importance source...\n",
      " 36. run of importance source...\n",
      " 37. run of importance source...\n",
      " 38. run of importance source...\n",
      " 39. run of importance source...\n",
      " 40. run of importance source...\n",
      " 41. run of importance source...\n",
      " 42. run of importance source...\n",
      " 43. run of importance source...\n",
      " 44. run of importance source...\n",
      " 45. run of importance source...\n",
      " 46. run of importance source...\n",
      " 47. run of importance source...\n",
      " 48. run of importance source...\n",
      " 49. run of importance source...\n",
      " 50. run of importance source...\n",
      " 51. run of importance source...\n",
      " 52. run of importance source...\n",
      " 53. run of importance source...\n",
      " 54. run of importance source...\n",
      " 55. run of importance source...\n",
      " 56. run of importance source...\n",
      " 57. run of importance source...\n",
      "After 57 iterations, +42 mins: \n",
      " rejected 1 attribute: SLC35D2;\n",
      " still have 19 attributes left.\n",
      "\n",
      " 58. run of importance source...\n",
      " 59. run of importance source...\n",
      " 60. run of importance source...\n",
      "After 60 iterations, +42 mins: \n",
      " rejected 1 attribute: SLC4A11;\n",
      " still have 18 attributes left.\n",
      "\n",
      " 61. run of importance source...\n",
      " 62. run of importance source...\n",
      " 63. run of importance source...\n",
      " 64. run of importance source...\n",
      " 65. run of importance source...\n",
      " 66. run of importance source...\n",
      " 67. run of importance source...\n",
      " 68. run of importance source...\n",
      " 69. run of importance source...\n",
      " 70. run of importance source...\n",
      " 71. run of importance source...\n",
      " 72. run of importance source...\n",
      " 73. run of importance source...\n",
      " 74. run of importance source...\n",
      " 75. run of importance source...\n",
      " 76. run of importance source...\n",
      " 77. run of importance source...\n",
      " 78. run of importance source...\n",
      " 79. run of importance source...\n",
      " 80. run of importance source...\n",
      "After 80 iterations, +43 mins: \n",
      " confirmed 1 attribute: SLFN11;\n",
      " still have 17 attributes left.\n",
      "\n",
      " 81. run of importance source...\n",
      " 82. run of importance source...\n",
      " 83. run of importance source...\n",
      " 84. run of importance source...\n",
      " 85. run of importance source...\n",
      " 86. run of importance source...\n",
      "After 86 iterations, +43 mins: \n",
      " confirmed 1 attribute: FAM171A2;\n",
      " still have 16 attributes left.\n",
      "\n",
      " 87. run of importance source...\n",
      " 88. run of importance source...\n",
      " 89. run of importance source...\n",
      " 90. run of importance source...\n",
      " 91. run of importance source...\n",
      " 92. run of importance source...\n",
      " 93. run of importance source...\n",
      " 94. run of importance source...\n",
      " 95. run of importance source...\n",
      " 96. run of importance source...\n",
      "After 96 iterations, +43 mins: \n",
      " rejected 1 attribute: BCO1;\n",
      " still have 15 attributes left.\n",
      "\n",
      " 97. run of importance source...\n",
      " 98. run of importance source...\n",
      " 99. run of importance source...\n"
     ]
    },
    {
     "name": "stdout",
     "output_type": "stream",
     "text": [
      "\n",
      "Drug23: Boruta is running for Nilotinib"
     ]
    },
    {
     "name": "stderr",
     "output_type": "stream",
     "text": [
      " 1. run of importance source...\n"
     ]
    },
    {
     "name": "stdout",
     "output_type": "stream",
     "text": [
      "Computing permutation importance.. Progress: 18%. Estimated remaining time: 2 minutes, 17 seconds.\n",
      "Computing permutation importance.. Progress: 37%. Estimated remaining time: 1 minute, 43 seconds.\n",
      "Computing permutation importance.. Progress: 56%. Estimated remaining time: 1 minute, 13 seconds.\n",
      "Computing permutation importance.. Progress: 76%. Estimated remaining time: 40 seconds.\n",
      "Computing permutation importance.. Progress: 95%. Estimated remaining time: 8 seconds.\n"
     ]
    },
    {
     "name": "stderr",
     "output_type": "stream",
     "text": [
      " 2. run of importance source...\n"
     ]
    },
    {
     "name": "stdout",
     "output_type": "stream",
     "text": [
      "Computing permutation importance.. Progress: 17%. Estimated remaining time: 2 minutes, 29 seconds.\n",
      "Computing permutation importance.. Progress: 36%. Estimated remaining time: 1 minute, 49 seconds.\n",
      "Computing permutation importance.. Progress: 55%. Estimated remaining time: 1 minute, 16 seconds.\n",
      "Computing permutation importance.. Progress: 75%. Estimated remaining time: 42 seconds.\n",
      "Computing permutation importance.. Progress: 94%. Estimated remaining time: 9 seconds.\n"
     ]
    },
    {
     "name": "stderr",
     "output_type": "stream",
     "text": [
      " 3. run of importance source...\n"
     ]
    },
    {
     "name": "stdout",
     "output_type": "stream",
     "text": [
      "Computing permutation importance.. Progress: 19%. Estimated remaining time: 2 minutes, 8 seconds.\n",
      "Computing permutation importance.. Progress: 39%. Estimated remaining time: 1 minute, 38 seconds.\n",
      "Computing permutation importance.. Progress: 57%. Estimated remaining time: 1 minute, 9 seconds.\n",
      "Computing permutation importance.. Progress: 77%. Estimated remaining time: 36 seconds.\n",
      "Computing permutation importance.. Progress: 96%. Estimated remaining time: 6 seconds.\n"
     ]
    },
    {
     "name": "stderr",
     "output_type": "stream",
     "text": [
      " 4. run of importance source...\n"
     ]
    },
    {
     "name": "stdout",
     "output_type": "stream",
     "text": [
      "Computing permutation importance.. Progress: 18%. Estimated remaining time: 2 minutes, 21 seconds.\n",
      "Computing permutation importance.. Progress: 37%. Estimated remaining time: 1 minute, 44 seconds.\n",
      "Computing permutation importance.. Progress: 56%. Estimated remaining time: 1 minute, 13 seconds.\n",
      "Computing permutation importance.. Progress: 75%. Estimated remaining time: 42 seconds.\n",
      "Computing permutation importance.. Progress: 94%. Estimated remaining time: 9 seconds.\n"
     ]
    },
    {
     "name": "stderr",
     "output_type": "stream",
     "text": [
      " 5. run of importance source...\n"
     ]
    },
    {
     "name": "stdout",
     "output_type": "stream",
     "text": [
      "Computing permutation importance.. Progress: 18%. Estimated remaining time: 2 minutes, 17 seconds.\n",
      "Computing permutation importance.. Progress: 37%. Estimated remaining time: 1 minute, 45 seconds.\n",
      "Computing permutation importance.. Progress: 56%. Estimated remaining time: 1 minute, 12 seconds.\n",
      "Computing permutation importance.. Progress: 75%. Estimated remaining time: 42 seconds.\n",
      "Computing permutation importance.. Progress: 94%. Estimated remaining time: 9 seconds.\n"
     ]
    },
    {
     "name": "stderr",
     "output_type": "stream",
     "text": [
      " 6. run of importance source...\n"
     ]
    },
    {
     "name": "stdout",
     "output_type": "stream",
     "text": [
      "Computing permutation importance.. Progress: 17%. Estimated remaining time: 2 minutes, 35 seconds.\n",
      "Computing permutation importance.. Progress: 35%. Estimated remaining time: 1 minute, 56 seconds.\n",
      "Computing permutation importance.. Progress: 53%. Estimated remaining time: 1 minute, 24 seconds.\n",
      "Computing permutation importance.. Progress: 70%. Estimated remaining time: 53 seconds.\n",
      "Computing permutation importance.. Progress: 88%. Estimated remaining time: 22 seconds.\n"
     ]
    },
    {
     "name": "stderr",
     "output_type": "stream",
     "text": [
      " 7. run of importance source...\n"
     ]
    },
    {
     "name": "stdout",
     "output_type": "stream",
     "text": [
      "Computing permutation importance.. Progress: 19%. Estimated remaining time: 2 minutes, 15 seconds.\n",
      "Computing permutation importance.. Progress: 37%. Estimated remaining time: 1 minute, 43 seconds.\n",
      "Computing permutation importance.. Progress: 57%. Estimated remaining time: 1 minute, 11 seconds.\n",
      "Computing permutation importance.. Progress: 76%. Estimated remaining time: 39 seconds.\n",
      "Computing permutation importance.. Progress: 95%. Estimated remaining time: 7 seconds.\n"
     ]
    },
    {
     "name": "stderr",
     "output_type": "stream",
     "text": [
      " 8. run of importance source...\n"
     ]
    },
    {
     "name": "stdout",
     "output_type": "stream",
     "text": [
      "Computing permutation importance.. Progress: 18%. Estimated remaining time: 2 minutes, 19 seconds.\n",
      "Computing permutation importance.. Progress: 37%. Estimated remaining time: 1 minute, 43 seconds.\n",
      "Computing permutation importance.. Progress: 57%. Estimated remaining time: 1 minute, 11 seconds.\n",
      "Computing permutation importance.. Progress: 76%. Estimated remaining time: 38 seconds.\n",
      "Computing permutation importance.. Progress: 94%. Estimated remaining time: 9 seconds.\n"
     ]
    },
    {
     "name": "stderr",
     "output_type": "stream",
     "text": [
      " 9. run of importance source...\n"
     ]
    },
    {
     "name": "stdout",
     "output_type": "stream",
     "text": [
      "Computing permutation importance.. Progress: 18%. Estimated remaining time: 2 minutes, 17 seconds.\n",
      "Computing permutation importance.. Progress: 37%. Estimated remaining time: 1 minute, 44 seconds.\n",
      "Computing permutation importance.. Progress: 55%. Estimated remaining time: 1 minute, 14 seconds.\n",
      "Computing permutation importance.. Progress: 75%. Estimated remaining time: 42 seconds.\n",
      "Computing permutation importance.. Progress: 94%. Estimated remaining time: 10 seconds.\n"
     ]
    },
    {
     "name": "stderr",
     "output_type": "stream",
     "text": [
      " 10. run of importance source...\n"
     ]
    },
    {
     "name": "stdout",
     "output_type": "stream",
     "text": [
      "Computing permutation importance.. Progress: 17%. Estimated remaining time: 2 minutes, 33 seconds.\n",
      "Computing permutation importance.. Progress: 40%. Estimated remaining time: 1 minute, 33 seconds.\n",
      "Computing permutation importance.. Progress: 64%. Estimated remaining time: 52 seconds.\n",
      "Computing permutation importance.. Progress: 87%. Estimated remaining time: 18 seconds.\n"
     ]
    },
    {
     "name": "stderr",
     "output_type": "stream",
     "text": [
      " 11. run of importance source...\n"
     ]
    },
    {
     "name": "stdout",
     "output_type": "stream",
     "text": [
      "Computing permutation importance.. Progress: 23%. Estimated remaining time: 1 minute, 44 seconds.\n",
      "Computing permutation importance.. Progress: 47%. Estimated remaining time: 1 minute, 11 seconds.\n",
      "Computing permutation importance.. Progress: 71%. Estimated remaining time: 38 seconds.\n",
      "Computing permutation importance.. Progress: 94%. Estimated remaining time: 7 seconds.\n"
     ]
    },
    {
     "name": "stderr",
     "output_type": "stream",
     "text": [
      " 12. run of importance source...\n"
     ]
    },
    {
     "name": "stdout",
     "output_type": "stream",
     "text": [
      "Computing permutation importance.. Progress: 23%. Estimated remaining time: 1 minute, 41 seconds.\n",
      "Computing permutation importance.. Progress: 47%. Estimated remaining time: 1 minute, 9 seconds.\n",
      "Computing permutation importance.. Progress: 71%. Estimated remaining time: 38 seconds.\n",
      "Computing permutation importance.. Progress: 95%. Estimated remaining time: 6 seconds.\n"
     ]
    },
    {
     "name": "stderr",
     "output_type": "stream",
     "text": [
      " 13. run of importance source...\n"
     ]
    },
    {
     "name": "stdout",
     "output_type": "stream",
     "text": [
      "Computing permutation importance.. Progress: 23%. Estimated remaining time: 1 minute, 44 seconds.\n",
      "Computing permutation importance.. Progress: 46%. Estimated remaining time: 1 minute, 12 seconds.\n",
      "Computing permutation importance.. Progress: 69%. Estimated remaining time: 41 seconds.\n",
      "Computing permutation importance.. Progress: 93%. Estimated remaining time: 9 seconds.\n"
     ]
    },
    {
     "name": "stderr",
     "output_type": "stream",
     "text": [
      " 14. run of importance source...\n"
     ]
    },
    {
     "name": "stdout",
     "output_type": "stream",
     "text": [
      "Computing permutation importance.. Progress: 23%. Estimated remaining time: 1 minute, 46 seconds.\n",
      "Computing permutation importance.. Progress: 46%. Estimated remaining time: 1 minute, 12 seconds.\n",
      "Computing permutation importance.. Progress: 70%. Estimated remaining time: 39 seconds.\n",
      "Computing permutation importance.. Progress: 92%. Estimated remaining time: 11 seconds.\n"
     ]
    },
    {
     "name": "stderr",
     "output_type": "stream",
     "text": [
      " 15. run of importance source...\n"
     ]
    },
    {
     "name": "stdout",
     "output_type": "stream",
     "text": [
      "Computing permutation importance.. Progress: 23%. Estimated remaining time: 1 minute, 46 seconds.\n",
      "Computing permutation importance.. Progress: 45%. Estimated remaining time: 1 minute, 16 seconds.\n",
      "Computing permutation importance.. Progress: 68%. Estimated remaining time: 44 seconds.\n",
      "Computing permutation importance.. Progress: 89%. Estimated remaining time: 14 seconds.\n"
     ]
    },
    {
     "name": "stderr",
     "output_type": "stream",
     "text": [
      " 16. run of importance source...\n"
     ]
    },
    {
     "name": "stdout",
     "output_type": "stream",
     "text": [
      "Computing permutation importance.. Progress: 23%. Estimated remaining time: 1 minute, 43 seconds.\n",
      "Computing permutation importance.. Progress: 47%. Estimated remaining time: 1 minute, 11 seconds.\n",
      "Computing permutation importance.. Progress: 71%. Estimated remaining time: 37 seconds.\n",
      "Computing permutation importance.. Progress: 95%. Estimated remaining time: 7 seconds.\n"
     ]
    },
    {
     "name": "stderr",
     "output_type": "stream",
     "text": [
      " 17. run of importance source...\n"
     ]
    },
    {
     "name": "stdout",
     "output_type": "stream",
     "text": [
      "Computing permutation importance.. Progress: 24%. Estimated remaining time: 1 minute, 39 seconds.\n",
      "Computing permutation importance.. Progress: 47%. Estimated remaining time: 1 minute, 8 seconds.\n",
      "Computing permutation importance.. Progress: 71%. Estimated remaining time: 37 seconds.\n",
      "Computing permutation importance.. Progress: 95%. Estimated remaining time: 6 seconds.\n"
     ]
    },
    {
     "name": "stderr",
     "output_type": "stream",
     "text": [
      " 18. run of importance source...\n"
     ]
    },
    {
     "name": "stdout",
     "output_type": "stream",
     "text": [
      "Computing permutation importance.. Progress: 23%. Estimated remaining time: 1 minute, 42 seconds.\n",
      "Computing permutation importance.. Progress: 47%. Estimated remaining time: 1 minute, 11 seconds.\n",
      "Computing permutation importance.. Progress: 70%. Estimated remaining time: 39 seconds.\n",
      "Computing permutation importance.. Progress: 94%. Estimated remaining time: 7 seconds.\n"
     ]
    },
    {
     "name": "stderr",
     "output_type": "stream",
     "text": [
      " 19. run of importance source...\n"
     ]
    },
    {
     "name": "stdout",
     "output_type": "stream",
     "text": [
      "Computing permutation importance.. Progress: 23%. Estimated remaining time: 1 minute, 47 seconds.\n",
      "Computing permutation importance.. Progress: 46%. Estimated remaining time: 1 minute, 13 seconds.\n",
      "Computing permutation importance.. Progress: 69%. Estimated remaining time: 41 seconds.\n",
      "Computing permutation importance.. Progress: 92%. Estimated remaining time: 10 seconds.\n"
     ]
    },
    {
     "name": "stderr",
     "output_type": "stream",
     "text": [
      " 20. run of importance source...\n"
     ]
    },
    {
     "name": "stdout",
     "output_type": "stream",
     "text": [
      "Computing permutation importance.. Progress: 23%. Estimated remaining time: 1 minute, 42 seconds.\n",
      "Computing permutation importance.. Progress: 47%. Estimated remaining time: 1 minute, 9 seconds.\n",
      "Computing permutation importance.. Progress: 71%. Estimated remaining time: 39 seconds.\n",
      "Computing permutation importance.. Progress: 94%. Estimated remaining time: 7 seconds.\n"
     ]
    },
    {
     "name": "stderr",
     "output_type": "stream",
     "text": [
      " 21. run of importance source...\n"
     ]
    },
    {
     "name": "stdout",
     "output_type": "stream",
     "text": [
      "Computing permutation importance.. Progress: 22%. Estimated remaining time: 1 minute, 47 seconds.\n",
      "Computing permutation importance.. Progress: 45%. Estimated remaining time: 1 minute, 14 seconds.\n",
      "Computing permutation importance.. Progress: 68%. Estimated remaining time: 44 seconds.\n",
      "Computing permutation importance.. Progress: 90%. Estimated remaining time: 14 seconds.\n"
     ]
    },
    {
     "name": "stderr",
     "output_type": "stream",
     "text": [
      "After 21 iterations, +55 mins: \n",
      " rejected 20150 attributes: A1BG, A1BG-AS1, A1CF, A2M, A2M-AS1 and 20145 more;\n",
      " still have 24 attributes left.\n",
      "\n",
      " 22. run of importance source...\n",
      " 23. run of importance source...\n",
      " 24. run of importance source...\n",
      " 25. run of importance source...\n",
      " 26. run of importance source...\n",
      " 27. run of importance source...\n",
      " 28. run of importance source...\n",
      " 29. run of importance source...\n",
      " 30. run of importance source...\n",
      " 31. run of importance source...\n",
      " 32. run of importance source...\n",
      " 33. run of importance source...\n",
      " 34. run of importance source...\n",
      " 35. run of importance source...\n",
      " 36. run of importance source...\n",
      " 37. run of importance source...\n",
      " 38. run of importance source...\n",
      " 39. run of importance source...\n",
      " 40. run of importance source...\n",
      " 41. run of importance source...\n",
      " 42. run of importance source...\n",
      " 43. run of importance source...\n",
      " 44. run of importance source...\n",
      " 45. run of importance source...\n",
      " 46. run of importance source...\n",
      " 47. run of importance source...\n",
      " 48. run of importance source...\n",
      " 49. run of importance source...\n",
      " 50. run of importance source...\n",
      " 51. run of importance source...\n",
      " 52. run of importance source...\n",
      " 53. run of importance source...\n",
      " 54. run of importance source...\n",
      " 55. run of importance source...\n",
      " 56. run of importance source...\n",
      " 57. run of importance source...\n",
      " 58. run of importance source...\n",
      " 59. run of importance source...\n",
      " 60. run of importance source...\n",
      " 61. run of importance source...\n",
      " 62. run of importance source...\n",
      " 63. run of importance source...\n",
      " 64. run of importance source...\n",
      " 65. run of importance source...\n",
      " 66. run of importance source...\n",
      " 67. run of importance source...\n",
      " 68. run of importance source...\n",
      " 69. run of importance source...\n",
      " 70. run of importance source...\n",
      " 71. run of importance source...\n",
      " 72. run of importance source...\n",
      " 73. run of importance source...\n",
      " 74. run of importance source...\n",
      " 75. run of importance source...\n",
      " 76. run of importance source...\n",
      " 77. run of importance source...\n",
      "After 77 iterations, +55 mins: \n",
      " confirmed 1 attribute: NRROS;\n",
      " still have 23 attributes left.\n",
      "\n",
      " 78. run of importance source...\n",
      " 79. run of importance source...\n",
      " 80. run of importance source...\n",
      "After 80 iterations, +55 mins: \n",
      " confirmed 1 attribute: NUP43;\n",
      " still have 22 attributes left.\n",
      "\n",
      " 81. run of importance source...\n",
      " 82. run of importance source...\n",
      " 83. run of importance source...\n",
      "After 83 iterations, +55 mins: \n",
      " confirmed 2 attributes: ITGAM, SLC43A1;\n",
      " still have 20 attributes left.\n",
      "\n",
      " 84. run of importance source...\n",
      " 85. run of importance source...\n",
      " 86. run of importance source...\n",
      "After 86 iterations, +55 mins: \n",
      " confirmed 4 attributes: FXN, PLAAT2, SAMD8, ZNF225;\n",
      " still have 16 attributes left.\n",
      "\n",
      " 87. run of importance source...\n",
      " 88. run of importance source...\n",
      "After 88 iterations, +55 mins: \n",
      " confirmed 4 attributes: CDK2AP1, SNX25, TYK2, VAMP3;\n",
      " still have 12 attributes left.\n",
      "\n",
      " 89. run of importance source...\n",
      " 90. run of importance source...\n",
      " 91. run of importance source...\n",
      " 92. run of importance source...\n",
      " 93. run of importance source...\n",
      " 94. run of importance source...\n",
      " 95. run of importance source...\n",
      " 96. run of importance source...\n",
      " 97. run of importance source...\n",
      " 98. run of importance source...\n",
      " 99. run of importance source...\n"
     ]
    },
    {
     "name": "stdout",
     "output_type": "stream",
     "text": [
      "\n",
      "Drug24: Boruta is running for PD-0332991"
     ]
    },
    {
     "name": "stderr",
     "output_type": "stream",
     "text": [
      " 1. run of importance source...\n"
     ]
    },
    {
     "name": "stdout",
     "output_type": "stream",
     "text": [
      "Computing permutation importance.. Progress: 34%. Estimated remaining time: 1 minute, 0 seconds.\n",
      "Computing permutation importance.. Progress: 62%. Estimated remaining time: 38 seconds.\n",
      "Computing permutation importance.. Progress: 87%. Estimated remaining time: 14 seconds.\n"
     ]
    },
    {
     "name": "stderr",
     "output_type": "stream",
     "text": [
      " 2. run of importance source...\n"
     ]
    },
    {
     "name": "stdout",
     "output_type": "stream",
     "text": [
      "Computing permutation importance.. Progress: 25%. Estimated remaining time: 1 minute, 31 seconds.\n",
      "Computing permutation importance.. Progress: 52%. Estimated remaining time: 58 seconds.\n",
      "Computing permutation importance.. Progress: 77%. Estimated remaining time: 28 seconds.\n"
     ]
    },
    {
     "name": "stderr",
     "output_type": "stream",
     "text": [
      " 3. run of importance source...\n"
     ]
    },
    {
     "name": "stdout",
     "output_type": "stream",
     "text": [
      "Computing permutation importance.. Progress: 26%. Estimated remaining time: 1 minute, 30 seconds.\n",
      "Computing permutation importance.. Progress: 51%. Estimated remaining time: 59 seconds.\n",
      "Computing permutation importance.. Progress: 77%. Estimated remaining time: 27 seconds.\n"
     ]
    },
    {
     "name": "stderr",
     "output_type": "stream",
     "text": [
      " 4. run of importance source...\n"
     ]
    },
    {
     "name": "stdout",
     "output_type": "stream",
     "text": [
      "Computing permutation importance.. Progress: 24%. Estimated remaining time: 1 minute, 38 seconds.\n",
      "Computing permutation importance.. Progress: 48%. Estimated remaining time: 1 minute, 6 seconds.\n",
      "Computing permutation importance.. Progress: 73%. Estimated remaining time: 35 seconds.\n",
      "Computing permutation importance.. Progress: 97%. Estimated remaining time: 3 seconds.\n"
     ]
    },
    {
     "name": "stderr",
     "output_type": "stream",
     "text": [
      " 5. run of importance source...\n"
     ]
    },
    {
     "name": "stdout",
     "output_type": "stream",
     "text": [
      "Computing permutation importance.. Progress: 25%. Estimated remaining time: 1 minute, 31 seconds.\n",
      "Computing permutation importance.. Progress: 50%. Estimated remaining time: 1 minute, 2 seconds.\n",
      "Computing permutation importance.. Progress: 76%. Estimated remaining time: 29 seconds.\n",
      "Computing permutation importance.. Progress: 100%. Estimated remaining time: 0 seconds.\n"
     ]
    },
    {
     "name": "stderr",
     "output_type": "stream",
     "text": [
      " 6. run of importance source...\n"
     ]
    },
    {
     "name": "stdout",
     "output_type": "stream",
     "text": [
      "Computing permutation importance.. Progress: 25%. Estimated remaining time: 1 minute, 32 seconds.\n",
      "Computing permutation importance.. Progress: 52%. Estimated remaining time: 57 seconds.\n",
      "Computing permutation importance.. Progress: 79%. Estimated remaining time: 25 seconds.\n"
     ]
    },
    {
     "name": "stderr",
     "output_type": "stream",
     "text": [
      " 7. run of importance source...\n"
     ]
    },
    {
     "name": "stdout",
     "output_type": "stream",
     "text": [
      "Computing permutation importance.. Progress: 26%. Estimated remaining time: 1 minute, 26 seconds.\n",
      "Computing permutation importance.. Progress: 53%. Estimated remaining time: 55 seconds.\n",
      "Computing permutation importance.. Progress: 79%. Estimated remaining time: 25 seconds.\n"
     ]
    },
    {
     "name": "stderr",
     "output_type": "stream",
     "text": [
      " 8. run of importance source...\n"
     ]
    },
    {
     "name": "stdout",
     "output_type": "stream",
     "text": [
      "Computing permutation importance.. Progress: 25%. Estimated remaining time: 1 minute, 31 seconds.\n",
      "Computing permutation importance.. Progress: 51%. Estimated remaining time: 1 minute, 0 seconds.\n",
      "Computing permutation importance.. Progress: 77%. Estimated remaining time: 28 seconds.\n"
     ]
    },
    {
     "name": "stderr",
     "output_type": "stream",
     "text": [
      " 9. run of importance source...\n"
     ]
    },
    {
     "name": "stdout",
     "output_type": "stream",
     "text": [
      "Computing permutation importance.. Progress: 26%. Estimated remaining time: 1 minute, 29 seconds.\n",
      "Computing permutation importance.. Progress: 52%. Estimated remaining time: 57 seconds.\n",
      "Computing permutation importance.. Progress: 78%. Estimated remaining time: 26 seconds.\n"
     ]
    },
    {
     "name": "stderr",
     "output_type": "stream",
     "text": [
      " 10. run of importance source...\n"
     ]
    },
    {
     "name": "stdout",
     "output_type": "stream",
     "text": [
      "Computing permutation importance.. Progress: 25%. Estimated remaining time: 1 minute, 31 seconds.\n",
      "Computing permutation importance.. Progress: 51%. Estimated remaining time: 59 seconds.\n",
      "Computing permutation importance.. Progress: 78%. Estimated remaining time: 26 seconds.\n"
     ]
    },
    {
     "name": "stderr",
     "output_type": "stream",
     "text": [
      " 11. run of importance source...\n"
     ]
    },
    {
     "name": "stdout",
     "output_type": "stream",
     "text": [
      "Computing permutation importance.. Progress: 26%. Estimated remaining time: 1 minute, 29 seconds.\n",
      "Computing permutation importance.. Progress: 52%. Estimated remaining time: 56 seconds.\n",
      "Computing permutation importance.. Progress: 78%. Estimated remaining time: 26 seconds.\n"
     ]
    },
    {
     "name": "stderr",
     "output_type": "stream",
     "text": [
      " 12. run of importance source...\n"
     ]
    },
    {
     "name": "stdout",
     "output_type": "stream",
     "text": [
      "Computing permutation importance.. Progress: 26%. Estimated remaining time: 1 minute, 28 seconds.\n",
      "Computing permutation importance.. Progress: 52%. Estimated remaining time: 56 seconds.\n",
      "Computing permutation importance.. Progress: 78%. Estimated remaining time: 26 seconds.\n"
     ]
    },
    {
     "name": "stderr",
     "output_type": "stream",
     "text": [
      " 13. run of importance source...\n"
     ]
    },
    {
     "name": "stdout",
     "output_type": "stream",
     "text": [
      "Computing permutation importance.. Progress: 26%. Estimated remaining time: 1 minute, 29 seconds.\n",
      "Computing permutation importance.. Progress: 51%. Estimated remaining time: 59 seconds.\n",
      "Computing permutation importance.. Progress: 78%. Estimated remaining time: 26 seconds.\n"
     ]
    },
    {
     "name": "stderr",
     "output_type": "stream",
     "text": [
      " 14. run of importance source...\n"
     ]
    },
    {
     "name": "stdout",
     "output_type": "stream",
     "text": [
      "Computing permutation importance.. Progress: 25%. Estimated remaining time: 1 minute, 34 seconds.\n",
      "Computing permutation importance.. Progress: 50%. Estimated remaining time: 1 minute, 1 seconds.\n",
      "Computing permutation importance.. Progress: 77%. Estimated remaining time: 28 seconds.\n"
     ]
    },
    {
     "name": "stderr",
     "output_type": "stream",
     "text": [
      " 15. run of importance source...\n"
     ]
    },
    {
     "name": "stdout",
     "output_type": "stream",
     "text": [
      "Computing permutation importance.. Progress: 26%. Estimated remaining time: 1 minute, 29 seconds.\n",
      "Computing permutation importance.. Progress: 52%. Estimated remaining time: 58 seconds.\n",
      "Computing permutation importance.. Progress: 77%. Estimated remaining time: 27 seconds.\n"
     ]
    },
    {
     "name": "stderr",
     "output_type": "stream",
     "text": [
      " 16. run of importance source...\n"
     ]
    },
    {
     "name": "stdout",
     "output_type": "stream",
     "text": [
      "Computing permutation importance.. Progress: 25%. Estimated remaining time: 1 minute, 33 seconds.\n",
      "Computing permutation importance.. Progress: 50%. Estimated remaining time: 1 minute, 2 seconds.\n",
      "Computing permutation importance.. Progress: 75%. Estimated remaining time: 30 seconds.\n",
      "Computing permutation importance.. Progress: 99%. Estimated remaining time: 0 seconds.\n"
     ]
    },
    {
     "name": "stderr",
     "output_type": "stream",
     "text": [
      " 17. run of importance source...\n"
     ]
    },
    {
     "name": "stdout",
     "output_type": "stream",
     "text": [
      "Computing permutation importance.. Progress: 25%. Estimated remaining time: 1 minute, 31 seconds.\n",
      "Computing permutation importance.. Progress: 51%. Estimated remaining time: 59 seconds.\n",
      "Computing permutation importance.. Progress: 78%. Estimated remaining time: 26 seconds.\n"
     ]
    },
    {
     "name": "stderr",
     "output_type": "stream",
     "text": [
      " 18. run of importance source...\n"
     ]
    },
    {
     "name": "stdout",
     "output_type": "stream",
     "text": [
      "Computing permutation importance.. Progress: 26%. Estimated remaining time: 1 minute, 27 seconds.\n",
      "Computing permutation importance.. Progress: 52%. Estimated remaining time: 57 seconds.\n",
      "Computing permutation importance.. Progress: 79%. Estimated remaining time: 25 seconds.\n"
     ]
    },
    {
     "name": "stderr",
     "output_type": "stream",
     "text": [
      " 19. run of importance source...\n"
     ]
    },
    {
     "name": "stdout",
     "output_type": "stream",
     "text": [
      "Computing permutation importance.. Progress: 25%. Estimated remaining time: 1 minute, 31 seconds.\n",
      "Computing permutation importance.. Progress: 51%. Estimated remaining time: 1 minute, 0 seconds.\n",
      "Computing permutation importance.. Progress: 77%. Estimated remaining time: 28 seconds.\n"
     ]
    },
    {
     "name": "stderr",
     "output_type": "stream",
     "text": [
      " 20. run of importance source...\n"
     ]
    },
    {
     "name": "stdout",
     "output_type": "stream",
     "text": [
      "Computing permutation importance.. Progress: 26%. Estimated remaining time: 1 minute, 30 seconds.\n",
      "Computing permutation importance.. Progress: 51%. Estimated remaining time: 59 seconds.\n",
      "Computing permutation importance.. Progress: 77%. Estimated remaining time: 27 seconds.\n"
     ]
    },
    {
     "name": "stderr",
     "output_type": "stream",
     "text": [
      " 21. run of importance source...\n"
     ]
    },
    {
     "name": "stdout",
     "output_type": "stream",
     "text": [
      "Computing permutation importance.. Progress: 25%. Estimated remaining time: 1 minute, 31 seconds.\n",
      "Computing permutation importance.. Progress: 52%. Estimated remaining time: 57 seconds.\n",
      "Computing permutation importance.. Progress: 77%. Estimated remaining time: 27 seconds.\n"
     ]
    },
    {
     "name": "stderr",
     "output_type": "stream",
     "text": [
      "After 21 iterations, +45 mins: \n",
      " rejected 20069 attributes: A1BG, A1BG-AS1, A1CF, A2M, A2M-AS1 and 20064 more;\n",
      " still have 105 attributes left.\n",
      "\n",
      " 22. run of importance source...\n",
      " 23. run of importance source...\n",
      " 24. run of importance source...\n",
      " 25. run of importance source...\n",
      " 26. run of importance source...\n",
      "After 26 iterations, +45 mins: \n",
      " rejected 39 attributes: ALDH7A1, ANKUB1, ARHGAP19, ARHGAP45, CACNB4 and 34 more;\n",
      " still have 66 attributes left.\n",
      "\n",
      " 27. run of importance source...\n",
      " 28. run of importance source...\n",
      " 29. run of importance source...\n",
      " 30. run of importance source...\n",
      "After 30 iterations, +45 mins: \n",
      " rejected 5 attributes: AFF2, BCAR1, CD79B, KIF13A, TSPOAP1-AS1;\n",
      " still have 61 attributes left.\n",
      "\n",
      " 31. run of importance source...\n",
      " 32. run of importance source...\n",
      " 33. run of importance source...\n",
      " 34. run of importance source...\n",
      "After 34 iterations, +45 mins: \n",
      " rejected 3 attributes: RALGPS2, SH2D3C, SPN;\n",
      " still have 58 attributes left.\n",
      "\n",
      " 35. run of importance source...\n",
      " 36. run of importance source...\n",
      " 37. run of importance source...\n",
      " 38. run of importance source...\n",
      "After 38 iterations, +45 mins: \n",
      " rejected 1 attribute: NSMF;\n",
      " still have 57 attributes left.\n",
      "\n",
      " 39. run of importance source...\n",
      " 40. run of importance source...\n",
      " 41. run of importance source...\n",
      " 42. run of importance source...\n",
      " 43. run of importance source...\n",
      " 44. run of importance source...\n",
      "After 44 iterations, +45 mins: \n",
      " rejected 1 attribute: LINC02199;\n",
      " still have 56 attributes left.\n",
      "\n",
      " 45. run of importance source...\n",
      " 46. run of importance source...\n",
      " 47. run of importance source...\n",
      " 48. run of importance source...\n",
      " 49. run of importance source...\n",
      " 50. run of importance source...\n",
      " 51. run of importance source...\n",
      " 52. run of importance source...\n",
      " 53. run of importance source...\n",
      " 54. run of importance source...\n",
      " 55. run of importance source...\n",
      " 56. run of importance source...\n",
      " 57. run of importance source...\n",
      " 58. run of importance source...\n",
      " 59. run of importance source...\n",
      " 60. run of importance source...\n",
      " 61. run of importance source...\n",
      " 62. run of importance source...\n",
      " 63. run of importance source...\n",
      " 64. run of importance source...\n",
      " 65. run of importance source...\n",
      " 66. run of importance source...\n",
      " 67. run of importance source...\n",
      " 68. run of importance source...\n",
      " 69. run of importance source...\n",
      "After 69 iterations, +45 mins: \n",
      " confirmed 1 attribute: RBM33;\n",
      " still have 55 attributes left.\n",
      "\n",
      " 70. run of importance source...\n",
      " 71. run of importance source...\n",
      " 72. run of importance source...\n",
      " 73. run of importance source...\n",
      " 74. run of importance source...\n",
      " 75. run of importance source...\n",
      " 76. run of importance source...\n",
      " 77. run of importance source...\n",
      "After 77 iterations, +45 mins: \n",
      " confirmed 1 attribute: HNRNPH1;\n",
      " still have 54 attributes left.\n",
      "\n",
      " 78. run of importance source...\n",
      " 79. run of importance source...\n",
      " 80. run of importance source...\n",
      " 81. run of importance source...\n",
      " 82. run of importance source...\n",
      " 83. run of importance source...\n",
      "After 83 iterations, +45 mins: \n",
      " confirmed 1 attribute: GPR183;\n",
      " still have 53 attributes left.\n",
      "\n",
      " 84. run of importance source...\n",
      " 85. run of importance source...\n",
      " 86. run of importance source...\n",
      "After 86 iterations, +45 mins: \n",
      " confirmed 2 attributes: C1D, LMLN;\n",
      " still have 51 attributes left.\n",
      "\n",
      " 87. run of importance source...\n",
      " 88. run of importance source...\n",
      "After 88 iterations, +46 mins: \n",
      " confirmed 2 attributes: HSD3B7, NUP210;\n",
      " still have 49 attributes left.\n",
      "\n",
      " 89. run of importance source...\n",
      " 90. run of importance source...\n",
      " 91. run of importance source...\n",
      "After 91 iterations, +46 mins: \n",
      " confirmed 3 attributes: AGO4, FGR, WNT11;\n",
      " still have 46 attributes left.\n",
      "\n",
      " 92. run of importance source...\n",
      " 93. run of importance source...\n",
      " 94. run of importance source...\n",
      "After 94 iterations, +46 mins: \n",
      " confirmed 2 attributes: AP5B1, CELF2;\n",
      " still have 44 attributes left.\n",
      "\n",
      " 95. run of importance source...\n",
      " 96. run of importance source...\n",
      " 97. run of importance source...\n",
      " 98. run of importance source...\n",
      " 99. run of importance source...\n"
     ]
    }
   ],
   "source": [
    "Drugs <- unique(filtered_histology_annotation$Drug)\n",
    "ind <- 1\n",
    "\n",
    "for(selected_drug in Drugs){\n",
    "    cat(paste0(\"\\nDrug\", ind ,\": Boruta is running for \", selected_drug))\n",
    "    flush.console()\n",
    "    dir.create(paste0(output2_dir,\"/\",selected_drug))\n",
    "    setwd(paste0(output2_dir,\"/\",selected_drug))\n",
    "    \n",
    "    selected_drug_sample_info <- filtered_histology_annotation[filtered_histology_annotation$Drug %in% selected_drug, ]\n",
    "    selected_drug_samples_rnaseq_data <- ccle_rnaseq_data[rownames(ccle_rnaseq_data) %in% selected_drug_sample_info$Sample_Name,]\n",
    "    selected_drug_samples_rnaseq_data_final <- cbind(rownames(selected_drug_samples_rnaseq_data),\n",
    "                                                              selected_drug_samples_rnaseq_data)\n",
    "    colnames(selected_drug_samples_rnaseq_data_final)[1] <- \"Sample_Name\"\n",
    "    rownames(selected_drug_samples_rnaseq_data_final) <- NULL\n",
    "    \n",
    "    boruta_ready_data <- merge(selected_drug_sample_info,\n",
    "                           selected_drug_samples_rnaseq_data_final,\n",
    "                           by = \"Sample_Name\")\n",
    "    IC50_boruta_ready_data <- boruta_ready_data[,c(4, 7:ncol(boruta_ready_data))]\n",
    "    rownames(IC50_boruta_ready_data) <- boruta_ready_data$Sample_Name\n",
    "    IC50_boruta_ready_data <- as.data.frame(sapply(IC50_boruta_ready_data, as.numeric))\n",
    "    boruta <- Boruta(IC50 ~ ., data = IC50_boruta_ready_data, doTrace = 2, maxRuns = 100)\n",
    "    boruta_check <- TentativeRoughFix(boruta)\n",
    "    boruta_stats <- attStats(boruta_check)\n",
    "    head(boruta_stats[order(boruta_stats$meanImp, decreasing = TRUE),], 20)  \n",
    "           boruta_confirmed_features <- boruta_stats[boruta_stats$decision == \"Confirmed\",]  \n",
    "           selected_drug_features <- rownames(boruta_confirmed_features)\n",
    "           selected_drug_after_boruta_data <- boruta_ready_data[,c(\"Sample_Name\",\"IC50\",selected_drug_features)] \n",
    "           \n",
    "           write.table(selected_drug_after_boruta_data,\n",
    "                paste(selected_drug, \"- Expression Data2 (IC50).tsv\" , sep = \" \"),\n",
    "                row.names = FALSE,\n",
    "                quote = FALSE,\n",
    "                sep = \"\\t\")\n",
    "\n",
    "\n",
    "\n",
    "           ind <- ind + 1\n",
    "    \n",
    "    \n",
    "}"
   ]
  },
  {
   "cell_type": "code",
   "execution_count": null,
   "id": "f5454592",
   "metadata": {},
   "outputs": [],
   "source": [
    "# NORMALIZATION....................."
   ]
  },
  {
   "cell_type": "code",
   "execution_count": null,
   "id": "18bc4a59",
   "metadata": {},
   "outputs": [],
   "source": [
    "setwd(output2_dir)\n",
    "Drug_Data_New <- list()\n",
    "\n",
    "    Drugs <- list.dirs(full.names = FALSE, recursive = FALSE)\n",
    "        \n",
    "            \n",
    "            for(drug in Drugs){\n",
    "            setwd(paste0(output2_dir,\"/\",drug))\n",
    "            Drug_data <- read.delim(paste(drug, \"- Expression Data2 (IC50).tsv\", sep = \" \"))\n",
    "            indice_IC50_8 <- which(Drug_data$IC50 == \"8\")\n",
    "            Drug_data_without_IC50_8<- Drug_data[-indice_IC50_8,]\n",
    "            Drug_Data_New[[drug]] <- Drug_data_without_IC50_8\n",
    "            write.table(Drug_Data_New[[drug]],\n",
    "                           paste(drug, \"- Expression Data (IC50) - Normalized2.tsv\"),\n",
    "                           row.names = FALSE,\n",
    "                           quote = FALSE,\n",
    "                           sep = \"\\t\")\n",
    "            }"
   ]
  },
  {
   "cell_type": "code",
   "execution_count": null,
   "id": "b146c836",
   "metadata": {},
   "outputs": [],
   "source": [
    "#Random Forest...................................."
   ]
  },
  {
   "cell_type": "code",
   "execution_count": 29,
   "id": "b8f04c3e",
   "metadata": {},
   "outputs": [],
   "source": [
    "setwd(output2_dir)"
   ]
  },
  {
   "cell_type": "code",
   "execution_count": 30,
   "id": "3e8f88d9",
   "metadata": {},
   "outputs": [
    {
     "name": "stdout",
     "output_type": "stream",
     "text": [
      "\n",
      "Random Forest is running for 17-AAG\n",
      "Random Forest is running for AEW541\n",
      "Random Forest is running for AZD0530\n",
      "Random Forest is running for AZD6244\n",
      "Random Forest is running for Erlotinib\n",
      "Random Forest is running for Irinotecan\n",
      "Random Forest is running for L-685458\n",
      "Random Forest is running for Lapatinib\n",
      "Random Forest is running for LBW242\n",
      "Random Forest is running for Nilotinib\n",
      "Random Forest is running for Nutlin-3\n",
      "Random Forest is running for Paclitaxel"
     ]
    },
    {
     "name": "stderr",
     "output_type": "stream",
     "text": [
      "Warning message in cor.test.default(train_Drug_data$IC50, train_prediction$prediction, :\n",
      "\"Cannot compute exact p-value with ties\"Warning message in cor.test.default(test_Drug_data$IC50, test_prediction$prediction, :\n",
      "\"Cannot compute exact p-value with ties\""
     ]
    },
    {
     "name": "stdout",
     "output_type": "stream",
     "text": [
      "\n",
      "Random Forest is running for Panobinostat\n",
      "Random Forest is running for PD-0325901\n",
      "Random Forest is running for PD-0332991\n",
      "Random Forest is running for PF2341066\n",
      "Random Forest is running for PHA-665752\n",
      "Random Forest is running for PLX4720\n",
      "Random Forest is running for RAF265\n",
      "Random Forest is running for Sorafenib\n",
      "Random Forest is running for TAE684"
     ]
    },
    {
     "name": "stderr",
     "output_type": "stream",
     "text": [
      "Warning message in cor.test.default(train_Drug_data$IC50, train_prediction$prediction, :\n",
      "\"Cannot compute exact p-value with ties\""
     ]
    },
    {
     "name": "stdout",
     "output_type": "stream",
     "text": [
      "\n",
      "Random Forest is running for TKI258\n",
      "Random Forest is running for Topotecan\n",
      "Random Forest is running for ZD-6474"
     ]
    }
   ],
   "source": [
    "set.seed(1234)\n",
    "\n",
    "  Drugs <- list.dirs(full.names = FALSE, recursive = FALSE)\n",
    "  \n",
    "  outer_list <- list()\n",
    "  List_result_table_IC50_Train <- list()\n",
    "  List_result_table_IC50_Test <- list()\n",
    "  inner_list <- list()\n",
    "\n",
    "  for(drug in Drugs){\n",
    "    setwd(paste0(output2_dir,\"/\",drug))\n",
    "      \n",
    "    cat(paste0(\"\\nRandom Forest is running for \", drug))\n",
    "    flush.console()\n",
    "      \n",
    "    Drug_data_normalized <- read.delim(paste(drug, \"- Expression Data (IC50) - Normalized2.tsv\", sep = \" \"))\n",
    "    \n",
    "    \n",
    "      if(length(Drug_data_normalized$Sample_Name) >= 20){ \n",
    "      \n",
    "    Drug_data_without_sample_name <- subset(Drug_data_normalized, select = - Sample_Name)\n",
    "    \n",
    "    \n",
    "          \n",
    "    ind <- sample(2, nrow(Drug_data_without_sample_name), replace=TRUE, prob=c(0.7, 0.3))\n",
    "    train_Drug_data <- Drug_data_without_sample_name[ind==1,]\n",
    "    test_Drug_data <- Drug_data_without_sample_name[ind==2,]\n",
    "    \n",
    "    n_features <- length(setdiff(names(train_Drug_data), \"IC50\"))\n",
    "      \n",
    "    if(length(setdiff(names(train_Drug_data), \"IC50\")) >= 5) {\n",
    "    \n",
    "    \n",
    "        \n",
    "    Drug_rf1 <- ranger(\n",
    "      IC50 ~ ., \n",
    "      data = train_Drug_data,\n",
    "      mtry = floor(n_features / 3),\n",
    "      respect.unordered.factors = \"order\",\n",
    "      seed = 123\n",
    "    )\n",
    "    \n",
    "    \n",
    "    (default_rmse <- sqrt(Drug_rf1$prediction.error))\n",
    "    \n",
    "    hyper_grid <- expand.grid(\n",
    "      mtry = floor(n_features * c(.05, .15, .25, .333, .4)),\n",
    "      min.node.size = c(1, 3, 5, 10), \n",
    "      replace = c(TRUE, FALSE),                               \n",
    "      sample.fraction = c(.5, .63, .8),                       \n",
    "      rmse = NA                                               \n",
    "    )\n",
    "    \n",
    "         \n",
    "    for(i in seq_len(nrow(hyper_grid))) {\n",
    "        \n",
    "\n",
    "        \n",
    "      fit <- ranger(\n",
    "        formula         = IC50 ~ ., \n",
    "        data            = train_Drug_data, \n",
    "        num.trees       = n_features * 10,\n",
    "        mtry            = hyper_grid$mtry[i],\n",
    "        min.node.size   = hyper_grid$min.node.size[i],\n",
    "        replace         = hyper_grid$replace[i],\n",
    "        sample.fraction = hyper_grid$sample.fraction[i],\n",
    "        verbose         = FALSE,\n",
    "        seed            = 123,\n",
    "        respect.unordered.factors = 'order',\n",
    "      )\n",
    "      \n",
    "      \n",
    "      hyper_grid$rmse[i] <- sqrt(fit$prediction.error)\n",
    "    }\n",
    "    \n",
    "    \n",
    "    rmse <- hyper_grid$rmse[i]\n",
    "    \n",
    "    \n",
    "    hyper_grid %>%\n",
    "    arrange(rmse) %>%\n",
    "    mutate(perc_gain = (default_rmse - rmse) / default_rmse * 100)\n",
    "      \n",
    "     hyper_grid_new <- hyper_grid[order(hyper_grid$rmse, decreasing = FALSE),]\n",
    "     best_model_from_rf <- hyper_grid_new[1,]\n",
    "     \n",
    "     \n",
    "      \n",
    "     fit_best_model_rf <- ranger(\n",
    "       formula         = IC50 ~ .,\n",
    "       data            = train_Drug_data,\n",
    "       num.trees       = n_features * 10,\n",
    "       mtry            = best_model_from_rf[1,1],\n",
    "       min.node.size   = best_model_from_rf[1,2],\n",
    "       replace         = best_model_from_rf[1,3],\n",
    "       sample.fraction = best_model_from_rf[1,4],\n",
    "       verbose         = FALSE,\n",
    "       seed            = 123,\n",
    "       respect.unordered.factors = 'order',\n",
    "     )\n",
    "    \n",
    "     \n",
    "     train_prediction <- predict(fit_best_model_rf, train_Drug_data)\n",
    "     R_Square_Train <- cor(train_Drug_data$IC50, train_prediction$prediction)^2\n",
    "     \n",
    "     Pearson_Correlation_Train <- cor(train_Drug_data$IC50, train_prediction$prediction)\n",
    "     Pearson_Correlation_P_Value_Train <- cor.test(train_Drug_data$IC50, train_prediction$prediction)$p.value\n",
    "   \n",
    "     Spearman_Correlation_Train <- cor(train_Drug_data$IC50, train_prediction$prediction, method = \"spearman\")\n",
    "     Spearman_Correlation_P_Value_Train <- cor.test(train_Drug_data$IC50, train_prediction$prediction, method = \"spearman\")$p.value\n",
    "        \n",
    "        Square_for_train_RMSE <- (train_prediction$prediction - train_Drug_data$IC50)^2\n",
    "        Mean_Square_for_train_RMSE <- mean(Square_for_train_RMSE)\n",
    "     RMSE_Train <- sqrt(Mean_Square_for_train_RMSE)\n",
    "     \n",
    "     IC50_Train_and_Prediction <- cbind(train_Drug_data$IC50, train_prediction$prediction)\n",
    "     colnames(IC50_Train_and_Prediction) <- c(\"Actual_IC50_Train_Data\",\"Predicted_IC50_Test_Data\")\n",
    "     \n",
    "     \n",
    "     \n",
    "     test_prediction <- predict(fit_best_model_rf, test_Drug_data)\n",
    "     R_Square_Test <- cor(test_Drug_data$IC50, test_prediction$prediction)^2\n",
    "     \n",
    "     Pearson_Correlation_Test <- cor(test_Drug_data$IC50, test_prediction$prediction)\n",
    "     Pearson_Correlation_P_Value_Test <- cor.test(test_Drug_data$IC50, test_prediction$prediction)$p.value\n",
    "     Spearman_Correlation_Test <- cor(test_Drug_data$IC50, test_prediction$prediction, method = \"spearman\")\n",
    "     Spearman_Correlation_P_Value_Test <- cor.test(test_Drug_data$IC50, test_prediction$prediction, method = \"spearman\")$p.value\n",
    "     \n",
    "        Square_for_test_RMSE <- (test_prediction$prediction - test_Drug_data$IC50)^2\n",
    "        Mean_Square_for_test_RMSE <- mean(Square_for_test_RMSE)\n",
    "     RMSE_Test <- sqrt(Mean_Square_for_test_RMSE)\n",
    "     \n",
    "     IC50_Test_and_Prediction <- cbind(test_Drug_data$IC50, test_prediction$prediction)\n",
    "     colnames(IC50_Test_and_Prediction) <- c(\"Actual_IC50_Test_Data\",\"Predicted_IC50_Test_Data\")\n",
    "     \n",
    "     \n",
    "     \n",
    "     Result_table_drug <- data.frame(\n",
    "                  #Tissue = histology,\n",
    "                  Drug = drug,\n",
    "              \n",
    "                  R_Square_Train,\n",
    "                  R_Square_Test,\n",
    "                  \n",
    "                  Pearson_Correlation_Train,\n",
    "                  Pearson_Correlation_Test,\n",
    "                  \n",
    "                  Pearson_Correlation_P_Value_Train,\n",
    "                  Pearson_Correlation_P_Value_Test,\n",
    "                  \n",
    "                  Spearman_Correlation_Train,\n",
    "                  Spearman_Correlation_Test,\n",
    "                  \n",
    "                  Spearman_Correlation_P_Value_Train,\n",
    "                  Spearman_Correlation_P_Value_Test,\n",
    "                  \n",
    "                  RMSE_Train,\n",
    "                  RMSE_Test\n",
    "              \n",
    "     )\n",
    "     \n",
    "     \n",
    "    \n",
    "     inner_list[[drug]] <- Result_table_drug\n",
    "     List_result_table_IC50_Train[[drug]] <- IC50_Train_and_Prediction\n",
    "     List_result_table_IC50_Test[[drug]] <- IC50_Test_and_Prediction\n",
    "     \n",
    "     \n",
    "     dir.create(paste0(output2_dir,\"/\",drug,\"/\",\"Random Forest\"))\n",
    "     setwd(paste0(output2_dir,\"/\",drug,\"/\",\"Random Forest\"))  \n",
    "     \n",
    "     \n",
    "    \n",
    "     \n",
    "     write.table(inner_list[[drug]],\n",
    "                 paste(drug, \"- Result_RF_2.tsv\" , sep = \" \"),\n",
    "                 row.names = FALSE,\n",
    "                 quote = FALSE,\n",
    "                 sep = \"\\t\")\n",
    "     \n",
    "     write.table(List_result_table_IC50_Train[[drug]],\n",
    "                 paste(drug, \"- IC50_Train_Result_2.tsv\" , sep = \" \"),\n",
    "                 row.names = FALSE,\n",
    "                 quote = FALSE,\n",
    "                 sep = \"\\t\")\n",
    "     \n",
    "     write.table(List_result_table_IC50_Test[[drug]],\n",
    "                 paste(drug, \"- IC50_Test_Result_2.tsv\" , sep = \" \"),\n",
    "                 row.names = FALSE,\n",
    "                 quote = FALSE,\n",
    "                 sep = \"\\t\")\n",
    "     \n",
    "        }\n",
    "  \n",
    "      }\n",
    "      \n",
    "      }\n",
    " \n",
    "  \n",
    "   \n",
    "   outer_list <- ldply(inner_list, \"rbind\")\n",
    "   All_Drugs_RF_Result <- subset(outer_list, select = -.id)\n",
    "   All_Drugs_RF_Result  <- All_Drugs_RF_Result[order(All_Drugs_RF_Result$R_Square_Test , decreasing = TRUE),]\n",
    "   setwd(output2_dir)\n",
    "   write.table(All_Drugs_RF_Result,\n",
    "               \"All_Drugs_RF_Result_2.tsv\",\n",
    "               row.names = FALSE,\n",
    "                 quote = FALSE,\n",
    "                 sep = \"\\t\")\n",
    "               \n",
    "    \n",
    "    "
   ]
  },
  {
   "cell_type": "code",
   "execution_count": 31,
   "id": "8b5e1665",
   "metadata": {},
   "outputs": [],
   "source": [
    "A <- read.delim(\"All_Drugs_RF_Result_2.tsv\")"
   ]
  },
  {
   "cell_type": "code",
   "execution_count": 32,
   "id": "60250897",
   "metadata": {},
   "outputs": [
    {
     "data": {
      "text/html": [
       "<table>\n",
       "<thead><tr><th scope=col>Drug</th><th scope=col>R_Square_Train</th><th scope=col>R_Square_Test</th><th scope=col>Pearson_Correlation_Train</th><th scope=col>Pearson_Correlation_Test</th><th scope=col>Pearson_Correlation_P_Value_Train</th><th scope=col>Pearson_Correlation_P_Value_Test</th><th scope=col>Spearman_Correlation_Train</th><th scope=col>Spearman_Correlation_Test</th><th scope=col>Spearman_Correlation_P_Value_Train</th><th scope=col>Spearman_Correlation_P_Value_Test</th><th scope=col>RMSE_Train</th><th scope=col>RMSE_Test</th></tr></thead>\n",
       "<tbody>\n",
       "\t<tr><td>Irinotecan   </td><td>0.9352252    </td><td>4.023790e-01 </td><td>0.9670704    </td><td> 0.634333526 </td><td>9.457531e-130</td><td>1.295538e-09 </td><td>0.9033256    </td><td> 0.604738986 </td><td>0.000000e+00 </td><td>2.336979e-08 </td><td>0.4446423    </td><td>0.58508444   </td></tr>\n",
       "\t<tr><td>Topotecan    </td><td>0.9909011    </td><td>3.622582e-01 </td><td>0.9954402    </td><td> 0.601878884 </td><td>2.680640e-312</td><td>1.453289e-14 </td><td>0.9656719    </td><td> 0.651013105 </td><td>0.000000e+00 </td><td>0.000000e+00 </td><td>0.2480528    </td><td>1.00165603   </td></tr>\n",
       "\t<tr><td>AEW541       </td><td>0.8428622    </td><td>3.359783e-01 </td><td>0.9180753    </td><td> 0.579636375 </td><td> 2.131496e-67</td><td>1.763206e-08 </td><td>0.9217135    </td><td> 0.560079700 </td><td>0.000000e+00 </td><td>1.154259e-07 </td><td>1.4338442    </td><td>1.96858874   </td></tr>\n",
       "\t<tr><td>L-685458     </td><td>0.9178354    </td><td>3.106212e-01 </td><td>0.9580372    </td><td> 0.557334025 </td><td> 3.649131e-33</td><td>3.097908e-03 </td><td>0.9499305    </td><td> 0.534358974 </td><td>0.000000e+00 </td><td>5.547317e-03 </td><td>1.2683633    </td><td>2.35985298   </td></tr>\n",
       "\t<tr><td>Sorafenib    </td><td>0.9933543    </td><td>3.046184e-01 </td><td>0.9966716    </td><td> 0.551922491 </td><td>5.717269e-102</td><td>1.287073e-03 </td><td>0.9935267    </td><td> 0.566532258 </td><td>0.000000e+00 </td><td>1.084836e-03 </td><td>0.4107288    </td><td>1.98854661   </td></tr>\n",
       "\t<tr><td>Erlotinib    </td><td>0.8813759    </td><td>2.782842e-01 </td><td>0.9388162    </td><td> 0.527526475 </td><td> 5.360991e-29</td><td>4.687777e-03 </td><td>0.9341089    </td><td> 0.448717949 </td><td>0.000000e+00 </td><td>1.983024e-02 </td><td>1.1836688    </td><td>1.97559544   </td></tr>\n",
       "\t<tr><td>TAE684       </td><td>0.8344917    </td><td>2.597882e-01 </td><td>0.9135052    </td><td> 0.509694208 </td><td> 1.254336e-90</td><td>3.824557e-08 </td><td>0.9216095    </td><td> 0.540328603 </td><td>2.841096e-95 </td><td>6.440259e-09 </td><td>1.1011409    </td><td>1.78669398   </td></tr>\n",
       "\t<tr><td>PLX4720      </td><td>0.9802892    </td><td>2.481896e-01 </td><td>0.9900955    </td><td> 0.498186261 </td><td> 7.333632e-29</td><td>5.953209e-03 </td><td>0.9838044    </td><td> 0.432019704 </td><td>0.000000e+00 </td><td>2.011930e-02 </td><td>0.4670896    </td><td>1.88672949   </td></tr>\n",
       "\t<tr><td>Nilotinib    </td><td>0.9298804    </td><td>2.386332e-01 </td><td>0.9643031    </td><td> 0.488501023 </td><td> 4.831866e-56</td><td>1.322316e-02 </td><td>0.9607027    </td><td> 0.151538462 </td><td>0.000000e+00 </td><td>4.679053e-01 </td><td>1.0448640    </td><td>1.87759941   </td></tr>\n",
       "\t<tr><td>PF2341066    </td><td>0.8785171    </td><td>2.262260e-01 </td><td>0.9372924    </td><td> 0.475632186 </td><td> 1.170634e-63</td><td>3.658672e-04 </td><td>0.9415032    </td><td> 0.437291898 </td><td>0.000000e+00 </td><td>1.317343e-03 </td><td>1.1862827    </td><td>2.07410196   </td></tr>\n",
       "\t<tr><td>Lapatinib    </td><td>0.9903588    </td><td>1.965242e-01 </td><td>0.9951677    </td><td> 0.443310458 </td><td>1.045909e-111</td><td>9.769020e-03 </td><td>0.9944454    </td><td> 0.430815508 </td><td>0.000000e+00 </td><td>1.297206e-02 </td><td>0.4681387    </td><td>2.19744549   </td></tr>\n",
       "\t<tr><td>TKI258       </td><td>0.8422491    </td><td>1.938924e-01 </td><td>0.9177413    </td><td> 0.440332155 </td><td> 1.129252e-69</td><td>9.681874e-05 </td><td>0.9071423    </td><td> 0.440145625 </td><td>0.000000e+00 </td><td>1.144688e-04 </td><td>1.2293747    </td><td>2.03156685   </td></tr>\n",
       "\t<tr><td>ZD-6474      </td><td>0.9839574    </td><td>1.388453e-01 </td><td>0.9919463    </td><td> 0.372619450 </td><td>7.566145e-107</td><td>3.970043e-03 </td><td>0.9917319    </td><td> 0.364914331 </td><td>0.000000e+00 </td><td>5.095597e-03 </td><td>0.4131251    </td><td>1.84985150   </td></tr>\n",
       "\t<tr><td>RAF265       </td><td>0.9625483    </td><td>1.177313e-01 </td><td>0.9810955    </td><td> 0.343120013 </td><td>1.773437e-157</td><td>5.426683e-04 </td><td>0.9762396    </td><td> 0.333550102 </td><td>0.000000e+00 </td><td>8.409632e-04 </td><td>0.6691559    </td><td>1.76574212   </td></tr>\n",
       "\t<tr><td>AZD6244      </td><td>0.9548210    </td><td>1.133085e-01 </td><td>0.9771494    </td><td> 0.336613349 </td><td> 1.274986e-59</td><td>3.614101e-02 </td><td>0.8857560    </td><td> 0.451012146 </td><td>0.000000e+00 </td><td>4.298915e-03 </td><td>0.7860642    </td><td>1.91820914   </td></tr>\n",
       "\t<tr><td>17-AAG       </td><td>0.7619271    </td><td>1.054127e-01 </td><td>0.8728844    </td><td> 0.324673221 </td><td> 2.611529e-98</td><td>1.374058e-04 </td><td>0.7204782    </td><td> 0.152890707 </td><td>0.000000e+00 </td><td>7.895544e-02 </td><td>0.2967025    </td><td>0.46395631   </td></tr>\n",
       "\t<tr><td>PD-0325901   </td><td>0.9865223    </td><td>9.033798e-02 </td><td>0.9932383    </td><td> 0.300562766 </td><td>3.872814e-128</td><td>7.500443e-03 </td><td>0.9529794    </td><td> 0.427660947 </td><td>0.000000e+00 </td><td>1.094297e-04 </td><td>0.4198500    </td><td>1.69033675   </td></tr>\n",
       "\t<tr><td>Nutlin-3     </td><td>0.9029019    </td><td>3.026937e-02 </td><td>0.9502115    </td><td>-0.173980958 </td><td> 1.781983e-08</td><td>5.519436e-01 </td><td>0.9264706    </td><td> 0.204395604 </td><td>0.000000e+00 </td><td>4.826912e-01 </td><td>1.2206566    </td><td>2.12584311   </td></tr>\n",
       "\t<tr><td>PHA-665752   </td><td>0.9421340    </td><td>1.380290e-02 </td><td>0.9706359    </td><td>-0.117485745 </td><td> 7.252274e-19</td><td>7.022783e-01 </td><td>0.9283648    </td><td>-0.153846154 </td><td>7.571152e-08 </td><td>6.167912e-01 </td><td>1.7630389    </td><td>2.08928421   </td></tr>\n",
       "\t<tr><td>PD-0332991   </td><td>0.9188774    </td><td>6.690730e-03 </td><td>0.9585809    </td><td> 0.081796885 </td><td> 1.405058e-30</td><td>7.174465e-01 </td><td>0.9439394    </td><td> 0.103331451 </td><td>0.000000e+00 </td><td>6.462494e-01 </td><td>1.1104242    </td><td>2.51044454   </td></tr>\n",
       "\t<tr><td>LBW242       </td><td>0.8299203    </td><td>6.628889e-03 </td><td>0.9109996    </td><td> 0.081417992 </td><td> 1.028631e-10</td><td>8.230741e-01 </td><td>0.8611966    </td><td> 0.224242424 </td><td>1.884052e-06 </td><td>5.366881e-01 </td><td>1.2215946    </td><td>2.70001520   </td></tr>\n",
       "\t<tr><td>AZD0530      </td><td>0.9495678    </td><td>1.168329e-03 </td><td>0.9744577    </td><td>-0.034180835 </td><td> 1.551776e-72</td><td>8.363422e-01 </td><td>0.9694015    </td><td> 0.002834008 </td><td>0.000000e+00 </td><td>9.867615e-01 </td><td>1.1870058    </td><td>2.26486164   </td></tr>\n",
       "\t<tr><td>Paclitaxel   </td><td>0.8962771    </td><td>6.372547e-05 </td><td>0.9467191    </td><td>-0.007982824 </td><td>1.526080e-157</td><td>9.310423e-01 </td><td>0.5060717    </td><td>-0.130524827 </td><td>4.387049e-22 </td><td>1.553317e-01 </td><td>0.1226843    </td><td>0.05959372   </td></tr>\n",
       "</tbody>\n",
       "</table>\n"
      ],
      "text/latex": [
       "\\begin{tabular}{r|lllllllllllll}\n",
       " Drug & R\\_Square\\_Train & R\\_Square\\_Test & Pearson\\_Correlation\\_Train & Pearson\\_Correlation\\_Test & Pearson\\_Correlation\\_P\\_Value\\_Train & Pearson\\_Correlation\\_P\\_Value\\_Test & Spearman\\_Correlation\\_Train & Spearman\\_Correlation\\_Test & Spearman\\_Correlation\\_P\\_Value\\_Train & Spearman\\_Correlation\\_P\\_Value\\_Test & RMSE\\_Train & RMSE\\_Test\\\\\n",
       "\\hline\n",
       "\t Irinotecan    & 0.9352252     & 4.023790e-01  & 0.9670704     &  0.634333526  & 9.457531e-130 & 1.295538e-09  & 0.9033256     &  0.604738986  & 0.000000e+00  & 2.336979e-08  & 0.4446423     & 0.58508444   \\\\\n",
       "\t Topotecan     & 0.9909011     & 3.622582e-01  & 0.9954402     &  0.601878884  & 2.680640e-312 & 1.453289e-14  & 0.9656719     &  0.651013105  & 0.000000e+00  & 0.000000e+00  & 0.2480528     & 1.00165603   \\\\\n",
       "\t AEW541        & 0.8428622     & 3.359783e-01  & 0.9180753     &  0.579636375  &  2.131496e-67 & 1.763206e-08  & 0.9217135     &  0.560079700  & 0.000000e+00  & 1.154259e-07  & 1.4338442     & 1.96858874   \\\\\n",
       "\t L-685458      & 0.9178354     & 3.106212e-01  & 0.9580372     &  0.557334025  &  3.649131e-33 & 3.097908e-03  & 0.9499305     &  0.534358974  & 0.000000e+00  & 5.547317e-03  & 1.2683633     & 2.35985298   \\\\\n",
       "\t Sorafenib     & 0.9933543     & 3.046184e-01  & 0.9966716     &  0.551922491  & 5.717269e-102 & 1.287073e-03  & 0.9935267     &  0.566532258  & 0.000000e+00  & 1.084836e-03  & 0.4107288     & 1.98854661   \\\\\n",
       "\t Erlotinib     & 0.8813759     & 2.782842e-01  & 0.9388162     &  0.527526475  &  5.360991e-29 & 4.687777e-03  & 0.9341089     &  0.448717949  & 0.000000e+00  & 1.983024e-02  & 1.1836688     & 1.97559544   \\\\\n",
       "\t TAE684        & 0.8344917     & 2.597882e-01  & 0.9135052     &  0.509694208  &  1.254336e-90 & 3.824557e-08  & 0.9216095     &  0.540328603  & 2.841096e-95  & 6.440259e-09  & 1.1011409     & 1.78669398   \\\\\n",
       "\t PLX4720       & 0.9802892     & 2.481896e-01  & 0.9900955     &  0.498186261  &  7.333632e-29 & 5.953209e-03  & 0.9838044     &  0.432019704  & 0.000000e+00  & 2.011930e-02  & 0.4670896     & 1.88672949   \\\\\n",
       "\t Nilotinib     & 0.9298804     & 2.386332e-01  & 0.9643031     &  0.488501023  &  4.831866e-56 & 1.322316e-02  & 0.9607027     &  0.151538462  & 0.000000e+00  & 4.679053e-01  & 1.0448640     & 1.87759941   \\\\\n",
       "\t PF2341066     & 0.8785171     & 2.262260e-01  & 0.9372924     &  0.475632186  &  1.170634e-63 & 3.658672e-04  & 0.9415032     &  0.437291898  & 0.000000e+00  & 1.317343e-03  & 1.1862827     & 2.07410196   \\\\\n",
       "\t Lapatinib     & 0.9903588     & 1.965242e-01  & 0.9951677     &  0.443310458  & 1.045909e-111 & 9.769020e-03  & 0.9944454     &  0.430815508  & 0.000000e+00  & 1.297206e-02  & 0.4681387     & 2.19744549   \\\\\n",
       "\t TKI258        & 0.8422491     & 1.938924e-01  & 0.9177413     &  0.440332155  &  1.129252e-69 & 9.681874e-05  & 0.9071423     &  0.440145625  & 0.000000e+00  & 1.144688e-04  & 1.2293747     & 2.03156685   \\\\\n",
       "\t ZD-6474       & 0.9839574     & 1.388453e-01  & 0.9919463     &  0.372619450  & 7.566145e-107 & 3.970043e-03  & 0.9917319     &  0.364914331  & 0.000000e+00  & 5.095597e-03  & 0.4131251     & 1.84985150   \\\\\n",
       "\t RAF265        & 0.9625483     & 1.177313e-01  & 0.9810955     &  0.343120013  & 1.773437e-157 & 5.426683e-04  & 0.9762396     &  0.333550102  & 0.000000e+00  & 8.409632e-04  & 0.6691559     & 1.76574212   \\\\\n",
       "\t AZD6244       & 0.9548210     & 1.133085e-01  & 0.9771494     &  0.336613349  &  1.274986e-59 & 3.614101e-02  & 0.8857560     &  0.451012146  & 0.000000e+00  & 4.298915e-03  & 0.7860642     & 1.91820914   \\\\\n",
       "\t 17-AAG        & 0.7619271     & 1.054127e-01  & 0.8728844     &  0.324673221  &  2.611529e-98 & 1.374058e-04  & 0.7204782     &  0.152890707  & 0.000000e+00  & 7.895544e-02  & 0.2967025     & 0.46395631   \\\\\n",
       "\t PD-0325901    & 0.9865223     & 9.033798e-02  & 0.9932383     &  0.300562766  & 3.872814e-128 & 7.500443e-03  & 0.9529794     &  0.427660947  & 0.000000e+00  & 1.094297e-04  & 0.4198500     & 1.69033675   \\\\\n",
       "\t Nutlin-3      & 0.9029019     & 3.026937e-02  & 0.9502115     & -0.173980958  &  1.781983e-08 & 5.519436e-01  & 0.9264706     &  0.204395604  & 0.000000e+00  & 4.826912e-01  & 1.2206566     & 2.12584311   \\\\\n",
       "\t PHA-665752    & 0.9421340     & 1.380290e-02  & 0.9706359     & -0.117485745  &  7.252274e-19 & 7.022783e-01  & 0.9283648     & -0.153846154  & 7.571152e-08  & 6.167912e-01  & 1.7630389     & 2.08928421   \\\\\n",
       "\t PD-0332991    & 0.9188774     & 6.690730e-03  & 0.9585809     &  0.081796885  &  1.405058e-30 & 7.174465e-01  & 0.9439394     &  0.103331451  & 0.000000e+00  & 6.462494e-01  & 1.1104242     & 2.51044454   \\\\\n",
       "\t LBW242        & 0.8299203     & 6.628889e-03  & 0.9109996     &  0.081417992  &  1.028631e-10 & 8.230741e-01  & 0.8611966     &  0.224242424  & 1.884052e-06  & 5.366881e-01  & 1.2215946     & 2.70001520   \\\\\n",
       "\t AZD0530       & 0.9495678     & 1.168329e-03  & 0.9744577     & -0.034180835  &  1.551776e-72 & 8.363422e-01  & 0.9694015     &  0.002834008  & 0.000000e+00  & 9.867615e-01  & 1.1870058     & 2.26486164   \\\\\n",
       "\t Paclitaxel    & 0.8962771     & 6.372547e-05  & 0.9467191     & -0.007982824  & 1.526080e-157 & 9.310423e-01  & 0.5060717     & -0.130524827  & 4.387049e-22  & 1.553317e-01  & 0.1226843     & 0.05959372   \\\\\n",
       "\\end{tabular}\n"
      ],
      "text/markdown": [
       "\n",
       "| Drug | R_Square_Train | R_Square_Test | Pearson_Correlation_Train | Pearson_Correlation_Test | Pearson_Correlation_P_Value_Train | Pearson_Correlation_P_Value_Test | Spearman_Correlation_Train | Spearman_Correlation_Test | Spearman_Correlation_P_Value_Train | Spearman_Correlation_P_Value_Test | RMSE_Train | RMSE_Test |\n",
       "|---|---|---|---|---|---|---|---|---|---|---|---|---|\n",
       "| Irinotecan    | 0.9352252     | 4.023790e-01  | 0.9670704     |  0.634333526  | 9.457531e-130 | 1.295538e-09  | 0.9033256     |  0.604738986  | 0.000000e+00  | 2.336979e-08  | 0.4446423     | 0.58508444    |\n",
       "| Topotecan     | 0.9909011     | 3.622582e-01  | 0.9954402     |  0.601878884  | 2.680640e-312 | 1.453289e-14  | 0.9656719     |  0.651013105  | 0.000000e+00  | 0.000000e+00  | 0.2480528     | 1.00165603    |\n",
       "| AEW541        | 0.8428622     | 3.359783e-01  | 0.9180753     |  0.579636375  |  2.131496e-67 | 1.763206e-08  | 0.9217135     |  0.560079700  | 0.000000e+00  | 1.154259e-07  | 1.4338442     | 1.96858874    |\n",
       "| L-685458      | 0.9178354     | 3.106212e-01  | 0.9580372     |  0.557334025  |  3.649131e-33 | 3.097908e-03  | 0.9499305     |  0.534358974  | 0.000000e+00  | 5.547317e-03  | 1.2683633     | 2.35985298    |\n",
       "| Sorafenib     | 0.9933543     | 3.046184e-01  | 0.9966716     |  0.551922491  | 5.717269e-102 | 1.287073e-03  | 0.9935267     |  0.566532258  | 0.000000e+00  | 1.084836e-03  | 0.4107288     | 1.98854661    |\n",
       "| Erlotinib     | 0.8813759     | 2.782842e-01  | 0.9388162     |  0.527526475  |  5.360991e-29 | 4.687777e-03  | 0.9341089     |  0.448717949  | 0.000000e+00  | 1.983024e-02  | 1.1836688     | 1.97559544    |\n",
       "| TAE684        | 0.8344917     | 2.597882e-01  | 0.9135052     |  0.509694208  |  1.254336e-90 | 3.824557e-08  | 0.9216095     |  0.540328603  | 2.841096e-95  | 6.440259e-09  | 1.1011409     | 1.78669398    |\n",
       "| PLX4720       | 0.9802892     | 2.481896e-01  | 0.9900955     |  0.498186261  |  7.333632e-29 | 5.953209e-03  | 0.9838044     |  0.432019704  | 0.000000e+00  | 2.011930e-02  | 0.4670896     | 1.88672949    |\n",
       "| Nilotinib     | 0.9298804     | 2.386332e-01  | 0.9643031     |  0.488501023  |  4.831866e-56 | 1.322316e-02  | 0.9607027     |  0.151538462  | 0.000000e+00  | 4.679053e-01  | 1.0448640     | 1.87759941    |\n",
       "| PF2341066     | 0.8785171     | 2.262260e-01  | 0.9372924     |  0.475632186  |  1.170634e-63 | 3.658672e-04  | 0.9415032     |  0.437291898  | 0.000000e+00  | 1.317343e-03  | 1.1862827     | 2.07410196    |\n",
       "| Lapatinib     | 0.9903588     | 1.965242e-01  | 0.9951677     |  0.443310458  | 1.045909e-111 | 9.769020e-03  | 0.9944454     |  0.430815508  | 0.000000e+00  | 1.297206e-02  | 0.4681387     | 2.19744549    |\n",
       "| TKI258        | 0.8422491     | 1.938924e-01  | 0.9177413     |  0.440332155  |  1.129252e-69 | 9.681874e-05  | 0.9071423     |  0.440145625  | 0.000000e+00  | 1.144688e-04  | 1.2293747     | 2.03156685    |\n",
       "| ZD-6474       | 0.9839574     | 1.388453e-01  | 0.9919463     |  0.372619450  | 7.566145e-107 | 3.970043e-03  | 0.9917319     |  0.364914331  | 0.000000e+00  | 5.095597e-03  | 0.4131251     | 1.84985150    |\n",
       "| RAF265        | 0.9625483     | 1.177313e-01  | 0.9810955     |  0.343120013  | 1.773437e-157 | 5.426683e-04  | 0.9762396     |  0.333550102  | 0.000000e+00  | 8.409632e-04  | 0.6691559     | 1.76574212    |\n",
       "| AZD6244       | 0.9548210     | 1.133085e-01  | 0.9771494     |  0.336613349  |  1.274986e-59 | 3.614101e-02  | 0.8857560     |  0.451012146  | 0.000000e+00  | 4.298915e-03  | 0.7860642     | 1.91820914    |\n",
       "| 17-AAG        | 0.7619271     | 1.054127e-01  | 0.8728844     |  0.324673221  |  2.611529e-98 | 1.374058e-04  | 0.7204782     |  0.152890707  | 0.000000e+00  | 7.895544e-02  | 0.2967025     | 0.46395631    |\n",
       "| PD-0325901    | 0.9865223     | 9.033798e-02  | 0.9932383     |  0.300562766  | 3.872814e-128 | 7.500443e-03  | 0.9529794     |  0.427660947  | 0.000000e+00  | 1.094297e-04  | 0.4198500     | 1.69033675    |\n",
       "| Nutlin-3      | 0.9029019     | 3.026937e-02  | 0.9502115     | -0.173980958  |  1.781983e-08 | 5.519436e-01  | 0.9264706     |  0.204395604  | 0.000000e+00  | 4.826912e-01  | 1.2206566     | 2.12584311    |\n",
       "| PHA-665752    | 0.9421340     | 1.380290e-02  | 0.9706359     | -0.117485745  |  7.252274e-19 | 7.022783e-01  | 0.9283648     | -0.153846154  | 7.571152e-08  | 6.167912e-01  | 1.7630389     | 2.08928421    |\n",
       "| PD-0332991    | 0.9188774     | 6.690730e-03  | 0.9585809     |  0.081796885  |  1.405058e-30 | 7.174465e-01  | 0.9439394     |  0.103331451  | 0.000000e+00  | 6.462494e-01  | 1.1104242     | 2.51044454    |\n",
       "| LBW242        | 0.8299203     | 6.628889e-03  | 0.9109996     |  0.081417992  |  1.028631e-10 | 8.230741e-01  | 0.8611966     |  0.224242424  | 1.884052e-06  | 5.366881e-01  | 1.2215946     | 2.70001520    |\n",
       "| AZD0530       | 0.9495678     | 1.168329e-03  | 0.9744577     | -0.034180835  |  1.551776e-72 | 8.363422e-01  | 0.9694015     |  0.002834008  | 0.000000e+00  | 9.867615e-01  | 1.1870058     | 2.26486164    |\n",
       "| Paclitaxel    | 0.8962771     | 6.372547e-05  | 0.9467191     | -0.007982824  | 1.526080e-157 | 9.310423e-01  | 0.5060717     | -0.130524827  | 4.387049e-22  | 1.553317e-01  | 0.1226843     | 0.05959372    |\n",
       "\n"
      ],
      "text/plain": [
       "   Drug       R_Square_Train R_Square_Test Pearson_Correlation_Train\n",
       "1  Irinotecan 0.9352252      4.023790e-01  0.9670704                \n",
       "2  Topotecan  0.9909011      3.622582e-01  0.9954402                \n",
       "3  AEW541     0.8428622      3.359783e-01  0.9180753                \n",
       "4  L-685458   0.9178354      3.106212e-01  0.9580372                \n",
       "5  Sorafenib  0.9933543      3.046184e-01  0.9966716                \n",
       "6  Erlotinib  0.8813759      2.782842e-01  0.9388162                \n",
       "7  TAE684     0.8344917      2.597882e-01  0.9135052                \n",
       "8  PLX4720    0.9802892      2.481896e-01  0.9900955                \n",
       "9  Nilotinib  0.9298804      2.386332e-01  0.9643031                \n",
       "10 PF2341066  0.8785171      2.262260e-01  0.9372924                \n",
       "11 Lapatinib  0.9903588      1.965242e-01  0.9951677                \n",
       "12 TKI258     0.8422491      1.938924e-01  0.9177413                \n",
       "13 ZD-6474    0.9839574      1.388453e-01  0.9919463                \n",
       "14 RAF265     0.9625483      1.177313e-01  0.9810955                \n",
       "15 AZD6244    0.9548210      1.133085e-01  0.9771494                \n",
       "16 17-AAG     0.7619271      1.054127e-01  0.8728844                \n",
       "17 PD-0325901 0.9865223      9.033798e-02  0.9932383                \n",
       "18 Nutlin-3   0.9029019      3.026937e-02  0.9502115                \n",
       "19 PHA-665752 0.9421340      1.380290e-02  0.9706359                \n",
       "20 PD-0332991 0.9188774      6.690730e-03  0.9585809                \n",
       "21 LBW242     0.8299203      6.628889e-03  0.9109996                \n",
       "22 AZD0530    0.9495678      1.168329e-03  0.9744577                \n",
       "23 Paclitaxel 0.8962771      6.372547e-05  0.9467191                \n",
       "   Pearson_Correlation_Test Pearson_Correlation_P_Value_Train\n",
       "1   0.634333526             9.457531e-130                    \n",
       "2   0.601878884             2.680640e-312                    \n",
       "3   0.579636375              2.131496e-67                    \n",
       "4   0.557334025              3.649131e-33                    \n",
       "5   0.551922491             5.717269e-102                    \n",
       "6   0.527526475              5.360991e-29                    \n",
       "7   0.509694208              1.254336e-90                    \n",
       "8   0.498186261              7.333632e-29                    \n",
       "9   0.488501023              4.831866e-56                    \n",
       "10  0.475632186              1.170634e-63                    \n",
       "11  0.443310458             1.045909e-111                    \n",
       "12  0.440332155              1.129252e-69                    \n",
       "13  0.372619450             7.566145e-107                    \n",
       "14  0.343120013             1.773437e-157                    \n",
       "15  0.336613349              1.274986e-59                    \n",
       "16  0.324673221              2.611529e-98                    \n",
       "17  0.300562766             3.872814e-128                    \n",
       "18 -0.173980958              1.781983e-08                    \n",
       "19 -0.117485745              7.252274e-19                    \n",
       "20  0.081796885              1.405058e-30                    \n",
       "21  0.081417992              1.028631e-10                    \n",
       "22 -0.034180835              1.551776e-72                    \n",
       "23 -0.007982824             1.526080e-157                    \n",
       "   Pearson_Correlation_P_Value_Test Spearman_Correlation_Train\n",
       "1  1.295538e-09                     0.9033256                 \n",
       "2  1.453289e-14                     0.9656719                 \n",
       "3  1.763206e-08                     0.9217135                 \n",
       "4  3.097908e-03                     0.9499305                 \n",
       "5  1.287073e-03                     0.9935267                 \n",
       "6  4.687777e-03                     0.9341089                 \n",
       "7  3.824557e-08                     0.9216095                 \n",
       "8  5.953209e-03                     0.9838044                 \n",
       "9  1.322316e-02                     0.9607027                 \n",
       "10 3.658672e-04                     0.9415032                 \n",
       "11 9.769020e-03                     0.9944454                 \n",
       "12 9.681874e-05                     0.9071423                 \n",
       "13 3.970043e-03                     0.9917319                 \n",
       "14 5.426683e-04                     0.9762396                 \n",
       "15 3.614101e-02                     0.8857560                 \n",
       "16 1.374058e-04                     0.7204782                 \n",
       "17 7.500443e-03                     0.9529794                 \n",
       "18 5.519436e-01                     0.9264706                 \n",
       "19 7.022783e-01                     0.9283648                 \n",
       "20 7.174465e-01                     0.9439394                 \n",
       "21 8.230741e-01                     0.8611966                 \n",
       "22 8.363422e-01                     0.9694015                 \n",
       "23 9.310423e-01                     0.5060717                 \n",
       "   Spearman_Correlation_Test Spearman_Correlation_P_Value_Train\n",
       "1   0.604738986              0.000000e+00                      \n",
       "2   0.651013105              0.000000e+00                      \n",
       "3   0.560079700              0.000000e+00                      \n",
       "4   0.534358974              0.000000e+00                      \n",
       "5   0.566532258              0.000000e+00                      \n",
       "6   0.448717949              0.000000e+00                      \n",
       "7   0.540328603              2.841096e-95                      \n",
       "8   0.432019704              0.000000e+00                      \n",
       "9   0.151538462              0.000000e+00                      \n",
       "10  0.437291898              0.000000e+00                      \n",
       "11  0.430815508              0.000000e+00                      \n",
       "12  0.440145625              0.000000e+00                      \n",
       "13  0.364914331              0.000000e+00                      \n",
       "14  0.333550102              0.000000e+00                      \n",
       "15  0.451012146              0.000000e+00                      \n",
       "16  0.152890707              0.000000e+00                      \n",
       "17  0.427660947              0.000000e+00                      \n",
       "18  0.204395604              0.000000e+00                      \n",
       "19 -0.153846154              7.571152e-08                      \n",
       "20  0.103331451              0.000000e+00                      \n",
       "21  0.224242424              1.884052e-06                      \n",
       "22  0.002834008              0.000000e+00                      \n",
       "23 -0.130524827              4.387049e-22                      \n",
       "   Spearman_Correlation_P_Value_Test RMSE_Train RMSE_Test \n",
       "1  2.336979e-08                      0.4446423  0.58508444\n",
       "2  0.000000e+00                      0.2480528  1.00165603\n",
       "3  1.154259e-07                      1.4338442  1.96858874\n",
       "4  5.547317e-03                      1.2683633  2.35985298\n",
       "5  1.084836e-03                      0.4107288  1.98854661\n",
       "6  1.983024e-02                      1.1836688  1.97559544\n",
       "7  6.440259e-09                      1.1011409  1.78669398\n",
       "8  2.011930e-02                      0.4670896  1.88672949\n",
       "9  4.679053e-01                      1.0448640  1.87759941\n",
       "10 1.317343e-03                      1.1862827  2.07410196\n",
       "11 1.297206e-02                      0.4681387  2.19744549\n",
       "12 1.144688e-04                      1.2293747  2.03156685\n",
       "13 5.095597e-03                      0.4131251  1.84985150\n",
       "14 8.409632e-04                      0.6691559  1.76574212\n",
       "15 4.298915e-03                      0.7860642  1.91820914\n",
       "16 7.895544e-02                      0.2967025  0.46395631\n",
       "17 1.094297e-04                      0.4198500  1.69033675\n",
       "18 4.826912e-01                      1.2206566  2.12584311\n",
       "19 6.167912e-01                      1.7630389  2.08928421\n",
       "20 6.462494e-01                      1.1104242  2.51044454\n",
       "21 5.366881e-01                      1.2215946  2.70001520\n",
       "22 9.867615e-01                      1.1870058  2.26486164\n",
       "23 1.553317e-01                      0.1226843  0.05959372"
      ]
     },
     "metadata": {},
     "output_type": "display_data"
    }
   ],
   "source": [
    "A"
   ]
  },
  {
   "cell_type": "code",
   "execution_count": null,
   "id": "d6a42cba",
   "metadata": {},
   "outputs": [],
   "source": []
  }
 ],
 "metadata": {
  "kernelspec": {
   "display_name": "R",
   "language": "R",
   "name": "ir"
  },
  "language_info": {
   "codemirror_mode": "r",
   "file_extension": ".r",
   "mimetype": "text/x-r-source",
   "name": "R",
   "pygments_lexer": "r",
   "version": "3.6.1"
  }
 },
 "nbformat": 4,
 "nbformat_minor": 5
}
