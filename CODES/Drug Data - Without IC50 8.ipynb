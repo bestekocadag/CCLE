{
 "cells": [
  {
   "cell_type": "code",
   "execution_count": 1,
   "id": "ea97bf74",
   "metadata": {},
   "outputs": [
    {
     "data": {
      "text/html": [
       "'C:/Users/MONSTER/Desktop/TEZ/CCLE/CODES'"
      ],
      "text/latex": [
       "'C:/Users/MONSTER/Desktop/TEZ/CCLE/CODES'"
      ],
      "text/markdown": [
       "'C:/Users/MONSTER/Desktop/TEZ/CCLE/CODES'"
      ],
      "text/plain": [
       "[1] \"C:/Users/MONSTER/Desktop/TEZ/CCLE/CODES\""
      ]
     },
     "metadata": {},
     "output_type": "display_data"
    }
   ],
   "source": [
    "getwd()"
   ]
  },
  {
   "cell_type": "code",
   "execution_count": 2,
   "id": "cb24ca10",
   "metadata": {},
   "outputs": [],
   "source": [
    "output_dir <-'C:/Users/MONSTER/Desktop/TEZ/CCLE/OUTPUT'"
   ]
  },
  {
   "cell_type": "code",
   "execution_count": 3,
   "id": "a517c543",
   "metadata": {},
   "outputs": [],
   "source": [
    "setwd(output_dir)"
   ]
  },
  {
   "cell_type": "code",
   "execution_count": 4,
   "id": "26a10e7f",
   "metadata": {},
   "outputs": [],
   "source": [
    "Histologies <- list.dirs(full.names = FALSE, recursive = FALSE) "
   ]
  },
  {
   "cell_type": "code",
   "execution_count": 5,
   "id": "efe73ea3",
   "metadata": {},
   "outputs": [],
   "source": [
    "Drug_Data_New <- list()\n",
    "    for(histology in Histologies){\n",
    "    setwd(paste0(output_dir,\"/\",histology))\n",
    "    Drugs <- list.dirs(full.names = FALSE, recursive = FALSE)\n",
    "        if(length(Drugs) == 24){\n",
    "            for(drug in Drugs){\n",
    "            setwd(paste0(output_dir,\"/\",histology,\"/\",drug))\n",
    "            Drug_data <- read.delim(paste(drug, \"- Expression Data (IC50).tsv\", sep = \" \"))\n",
    "            indice_IC50_8 <- which(Drug_data$IC50 == \"8\")\n",
    "            Drug_data_without_IC50_8<- Drug_data[-indice_IC50_8,]\n",
    "            Drug_Data_New[[drug]] <- Drug_data_without_IC50_8\n",
    "                write.table(Drug_Data_New[[drug]],\n",
    "                           paste(drug, \"- Expression Data (IC50) - Normalized.tsv\"),\n",
    "                           row.names = FALSE,\n",
    "                           quote = FALSE,\n",
    "                           sep = \"\\t\")\n",
    "            }\n",
    "        }\n",
    "        }\n",
    "       \n"
   ]
  },
  {
   "cell_type": "code",
   "execution_count": null,
   "id": "6b10cc4c",
   "metadata": {},
   "outputs": [],
   "source": []
  }
 ],
 "metadata": {
  "kernelspec": {
   "display_name": "R",
   "language": "R",
   "name": "ir"
  },
  "language_info": {
   "codemirror_mode": "r",
   "file_extension": ".r",
   "mimetype": "text/x-r-source",
   "name": "R",
   "pygments_lexer": "r",
   "version": "3.6.1"
  }
 },
 "nbformat": 4,
 "nbformat_minor": 5
}
