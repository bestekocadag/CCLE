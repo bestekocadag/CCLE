{
 "cells": [
  {
   "cell_type": "code",
   "execution_count": null,
   "id": "ae770ed4",
   "metadata": {},
   "outputs": [],
   "source": [
    "import os\n",
    "import pandas as pd\n",
    "import numpy as np\n",
    "from sklearn.metrics import accuracy_score\n",
    "from xgboost import XGBClassifier\n",
    "from sklearn.ensemble import GradientBoostingClassifier\n",
    "from warnings import filterwarnings\n",
    "filterwarnings('ignore')"
   ]
  },
  {
   "cell_type": "code",
   "execution_count": null,
   "id": "69bf46bd",
   "metadata": {},
   "outputs": [],
   "source": [
    "output_dir = 'C:\\\\Users\\\\MONSTER\\\\Desktop\\\\BİYOİNFO 2\\\\PYTHON\\\\YAPAY ZEKA 2\\\\PROJE CCLE\\\\Output'\n",
    "input_dir = 'C:\\\\Users\\\\MONSTER\\\\Desktop\\\\BİYOİNFO 2\\\\PYTHON\\\\YAPAY ZEKA 2\\\\PROJE CCLE\\\\Input'"
   ]
  },
  {
   "cell_type": "code",
   "execution_count": null,
   "id": "85500b73",
   "metadata": {},
   "outputs": [],
   "source": [
    "os.chdir(input_dir)"
   ]
  },
  {
   "cell_type": "code",
   "execution_count": null,
   "id": "2ef1b8f3",
   "metadata": {},
   "outputs": [],
   "source": [
    "os.getcwd()"
   ]
  },
  {
   "cell_type": "code",
   "execution_count": null,
   "id": "0654d19d",
   "metadata": {},
   "outputs": [],
   "source": [
    "#  Reading Of CCLE Sample Info Data"
   ]
  },
  {
   "cell_type": "code",
   "execution_count": null,
   "id": "6cc3317c",
   "metadata": {},
   "outputs": [],
   "source": [
    "ccle_sample_info_file = pd.read_csv(\"CCLE_sample_info_file_2012-10-18.txt\",\n",
    "                                   sep = \"\\t\")"
   ]
  },
  {
   "cell_type": "code",
   "execution_count": null,
   "id": "6e25e4b3",
   "metadata": {},
   "outputs": [],
   "source": [
    "ccle_sample_info_file.head()"
   ]
  },
  {
   "cell_type": "code",
   "execution_count": null,
   "id": "80fa4053",
   "metadata": {},
   "outputs": [],
   "source": [
    "ccle_sample_info_file.shape"
   ]
  },
  {
   "cell_type": "code",
   "execution_count": null,
   "id": "f763092d",
   "metadata": {},
   "outputs": [],
   "source": [
    "ccle_sample_info_file.columns"
   ]
  },
  {
   "cell_type": "code",
   "execution_count": null,
   "id": "51a1751c",
   "metadata": {},
   "outputs": [],
   "source": [
    "ccle_sample_info_file = ccle_sample_info_file.rename(columns={'CCLE name' : 'CCLE Name'})"
   ]
  },
  {
   "cell_type": "code",
   "execution_count": null,
   "id": "73928a08",
   "metadata": {},
   "outputs": [],
   "source": [
    "ccle_sample_info_file.columns"
   ]
  },
  {
   "cell_type": "code",
   "execution_count": null,
   "id": "a186db1a",
   "metadata": {},
   "outputs": [],
   "source": [
    "ccle_sample_info_file.head()"
   ]
  },
  {
   "cell_type": "code",
   "execution_count": null,
   "id": "5b1adabf",
   "metadata": {},
   "outputs": [],
   "source": [
    "# Reading of Drug Data"
   ]
  },
  {
   "cell_type": "code",
   "execution_count": null,
   "id": "3a3aee5f",
   "metadata": {},
   "outputs": [],
   "source": [
    "ccle_drug_data = pd.read_csv(\"CCLE_NP24.2009_Drug_data_2015.02.24.csv\",\n",
    "                            sep = \",\")"
   ]
  },
  {
   "cell_type": "code",
   "execution_count": null,
   "id": "b95d95da",
   "metadata": {},
   "outputs": [],
   "source": [
    "ccle_drug_data.head()"
   ]
  },
  {
   "cell_type": "code",
   "execution_count": null,
   "id": "14233403",
   "metadata": {},
   "outputs": [],
   "source": [
    "ccle_drug_data.columns"
   ]
  },
  {
   "cell_type": "code",
   "execution_count": null,
   "id": "cb3ff8f4",
   "metadata": {},
   "outputs": [],
   "source": [
    "ccle_drug_data = ccle_drug_data.rename(columns = {'CCLE Cell Line Name':'CCLE Name'})"
   ]
  },
  {
   "cell_type": "code",
   "execution_count": null,
   "id": "64f3510e",
   "metadata": {},
   "outputs": [],
   "source": [
    "ccle_drug_data.head()"
   ]
  },
  {
   "cell_type": "code",
   "execution_count": null,
   "id": "80919294",
   "metadata": {},
   "outputs": [],
   "source": [
    "# Merging of Drug Data and Sample Info Data"
   ]
  },
  {
   "cell_type": "code",
   "execution_count": null,
   "id": "004623fe",
   "metadata": {},
   "outputs": [],
   "source": [
    "ccle_drug_and_sample_info = pd.merge(ccle_sample_info_file, ccle_drug_data, on = 'CCLE Name')"
   ]
  },
  {
   "cell_type": "code",
   "execution_count": null,
   "id": "ecd4538f",
   "metadata": {},
   "outputs": [],
   "source": [
    "ccle_drug_and_sample_info.head()"
   ]
  },
  {
   "cell_type": "code",
   "execution_count": null,
   "id": "c302c168",
   "metadata": {},
   "outputs": [],
   "source": [
    "ccle_drug_and_sample_info.columns"
   ]
  },
  {
   "cell_type": "code",
   "execution_count": null,
   "id": "91342763",
   "metadata": {},
   "outputs": [],
   "source": [
    "ccle_drug_and_sample_info = ccle_drug_and_sample_info[['Cell line primary name','Histology','Compound','IC50 (uM)','ActArea']]"
   ]
  },
  {
   "cell_type": "code",
   "execution_count": null,
   "id": "bfd31e4e",
   "metadata": {},
   "outputs": [],
   "source": [
    "ccle_drug_and_sample_info"
   ]
  },
  {
   "cell_type": "code",
   "execution_count": null,
   "id": "884b3193",
   "metadata": {},
   "outputs": [],
   "source": [
    "col_names = ['Cell_Line','Histology','Drug','IC50','Activity_Area']"
   ]
  },
  {
   "cell_type": "code",
   "execution_count": null,
   "id": "3e4ace97",
   "metadata": {},
   "outputs": [],
   "source": [
    "ccle_drug_and_sample_info.columns = col_names"
   ]
  },
  {
   "cell_type": "code",
   "execution_count": null,
   "id": "c9239f40",
   "metadata": {},
   "outputs": [],
   "source": [
    "ccle_drug_and_sample_info.head()"
   ]
  },
  {
   "cell_type": "code",
   "execution_count": null,
   "id": "77b63d98",
   "metadata": {},
   "outputs": [],
   "source": [
    "ccle_drug_and_sample_info.Histology"
   ]
  },
  {
   "cell_type": "code",
   "execution_count": null,
   "id": "b6f409b1",
   "metadata": {},
   "outputs": [],
   "source": [
    "ccle_drug_and_sample_info.Histology.shape"
   ]
  },
  {
   "cell_type": "code",
   "execution_count": null,
   "id": "9fded2f8",
   "metadata": {},
   "outputs": [],
   "source": [
    "ccle_drug_and_sample_info.loc[0:5,:]"
   ]
  },
  {
   "cell_type": "code",
   "execution_count": null,
   "id": "4af5cd8c",
   "metadata": {},
   "outputs": [],
   "source": [
    "ccle_drug_and_sample_info.iloc[1,2]"
   ]
  },
  {
   "cell_type": "code",
   "execution_count": null,
   "id": "58a13aeb",
   "metadata": {},
   "outputs": [],
   "source": [
    "Histologies = ccle_drug_and_sample_info['Histology'].unique() "
   ]
  },
  {
   "cell_type": "code",
   "execution_count": null,
   "id": "739de534",
   "metadata": {},
   "outputs": [],
   "source": [
    "Histologies"
   ]
  },
  {
   "cell_type": "code",
   "execution_count": null,
   "id": "5ab8f733",
   "metadata": {},
   "outputs": [],
   "source": [
    "len(Histologies)"
   ]
  },
  {
   "cell_type": "code",
   "execution_count": null,
   "id": "a15be8e4",
   "metadata": {},
   "outputs": [],
   "source": [
    "#glioma = ccle_drug_and_sample_info[ccle_drug_and_sample_info['Histology'].isin(['glioma'])]\n",
    "#glioma"
   ]
  },
  {
   "cell_type": "code",
   "execution_count": null,
   "id": "bdf458da",
   "metadata": {},
   "outputs": [],
   "source": [
    "#carcinoma = ccle_drug_and_sample_info.loc[ccle_drug_and_sample_info['Histology'] == 'carcinoma']\n",
    "#carcinoma"
   ]
  },
  {
   "cell_type": "code",
   "execution_count": null,
   "id": "c4a20521",
   "metadata": {},
   "outputs": [],
   "source": [
    "#filter = (ccle_drug_and_sample_info['Histology'] == 'fibrosarcoma')\n",
    "#ccle_drug_and_sample_info.loc[filter,]"
   ]
  },
  {
   "cell_type": "code",
   "execution_count": null,
   "id": "751ca716",
   "metadata": {},
   "outputs": [],
   "source": [
    "Histology = dict()\n",
    "for histology in Histologies:\n",
    "    os.chdir(output_dir)\n",
    "    os.mkdir(histology + \" \" + \"Project\")\n",
    "    os.path.join(output_dir,histology + \" \" + \"Project\")\n",
    "    filter = (ccle_drug_and_sample_info['Histology'] == histology)\n",
    "    Histology[histology] = ccle_drug_and_sample_info.loc[filter,]\n",
    "    file_path = os.path.join(output_dir,histology + \" \" + \"Project\",histology+\"- Histology-Project.tsv\")\n",
    "    Histology[histology].to_csv(file_path, sep = '\\t' \n",
    "                        , index=False, quoting=False)"
   ]
  },
  {
   "cell_type": "code",
   "execution_count": null,
   "id": "9007925e",
   "metadata": {},
   "outputs": [],
   "source": [
    "Histology[\"glioma\"]"
   ]
  },
  {
   "cell_type": "code",
   "execution_count": null,
   "id": "fdf1d2ff",
   "metadata": {},
   "outputs": [],
   "source": []
  }
 ],
 "metadata": {
  "kernelspec": {
   "display_name": "Python 3 (ipykernel)",
   "language": "python",
   "name": "python3"
  },
  "language_info": {
   "codemirror_mode": {
    "name": "ipython",
    "version": 3
   },
   "file_extension": ".py",
   "mimetype": "text/x-python",
   "name": "python",
   "nbconvert_exporter": "python",
   "pygments_lexer": "ipython3",
   "version": "3.11.5"
  }
 },
 "nbformat": 4,
 "nbformat_minor": 5
}
