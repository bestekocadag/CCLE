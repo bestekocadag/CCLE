{
 "cells": [
  {
   "cell_type": "code",
   "execution_count": 14,
   "id": "ef4874ff",
   "metadata": {},
   "outputs": [],
   "source": [
    "#install.packages(\"randomForest\")\n",
    "suppressPackageStartupMessages(library(randomForest))"
   ]
  },
  {
   "cell_type": "code",
   "execution_count": 15,
   "id": "7e52b54a",
   "metadata": {},
   "outputs": [],
   "source": [
    "#install.packages(\"ranger\")\n",
    "suppressPackageStartupMessages(library(ranger))\n"
   ]
  },
  {
   "cell_type": "code",
   "execution_count": 16,
   "id": "44d46f11",
   "metadata": {},
   "outputs": [
    {
     "ename": "ERROR",
     "evalue": "Error in library(lifecycle): there is no package called 'lifecycle'\n",
     "output_type": "error",
     "traceback": [
      "Error in library(lifecycle): there is no package called 'lifecycle'\nTraceback:\n",
      "1. suppressPackageStartupMessages(library(lifecycle))",
      "2. withCallingHandlers(expr, packageStartupMessage = function(c) invokeRestart(\"muffleMessage\"))",
      "3. library(lifecycle)"
     ]
    }
   ],
   "source": [
    "#install.packages(\"lifecycle\")\n",
    "suppressPackageStartupMessages(library(lifecycle))"
   ]
  },
  {
   "cell_type": "code",
   "execution_count": 17,
   "id": "fae854b3",
   "metadata": {},
   "outputs": [
    {
     "name": "stderr",
     "output_type": "stream",
     "text": [
      "Warning message:\n",
      "\"package 'dplyr' was built under R version 3.6.3\""
     ]
    },
    {
     "ename": "ERROR",
     "evalue": "Error: package or namespace load failed for 'dplyr' in loadNamespace(j <- i[[1L]], c(lib.loc, .libPaths()), versionCheck = vI[[j]]):\n there is no package called 'lifecycle'\n",
     "output_type": "error",
     "traceback": [
      "Error: package or namespace load failed for 'dplyr' in loadNamespace(j <- i[[1L]], c(lib.loc, .libPaths()), versionCheck = vI[[j]]):\n there is no package called 'lifecycle'\nTraceback:\n",
      "1. suppressPackageStartupMessages(library(dplyr))",
      "2. withCallingHandlers(expr, packageStartupMessage = function(c) invokeRestart(\"muffleMessage\"))",
      "3. library(dplyr)",
      "4. tryCatch({\n .     attr(package, \"LibPath\") <- which.lib.loc\n .     ns <- loadNamespace(package, lib.loc)\n .     env <- attachNamespace(ns, pos = pos, deps, exclude, include.only)\n . }, error = function(e) {\n .     P <- if (!is.null(cc <- conditionCall(e))) \n .         paste(\" in\", deparse(cc)[1L])\n .     else \"\"\n .     msg <- gettextf(\"package or namespace load failed for %s%s:\\n %s\", \n .         sQuote(package), P, conditionMessage(e))\n .     if (logical.return) \n .         message(paste(\"Error:\", msg), domain = NA)\n .     else stop(msg, call. = FALSE, domain = NA)\n . })",
      "5. tryCatchList(expr, classes, parentenv, handlers)",
      "6. tryCatchOne(expr, names, parentenv, handlers[[1L]])",
      "7. value[[3L]](cond)",
      "8. stop(msg, call. = FALSE, domain = NA)"
     ]
    }
   ],
   "source": [
    "#install.packages(\"dplyr\")\n",
    "suppressPackageStartupMessages(library(dplyr))"
   ]
  },
  {
   "cell_type": "code",
   "execution_count": 18,
   "id": "b060d6a4",
   "metadata": {},
   "outputs": [],
   "source": [
    "#install.packages(\"magrittr\")\n",
    "suppressPackageStartupMessages(library(magrittr))"
   ]
  },
  {
   "cell_type": "code",
   "execution_count": 19,
   "id": "8058b3e9",
   "metadata": {},
   "outputs": [
    {
     "ename": "ERROR",
     "evalue": "Error in library(lifecycle): there is no package called 'lifecycle'\n",
     "output_type": "error",
     "traceback": [
      "Error in library(lifecycle): there is no package called 'lifecycle'\nTraceback:\n",
      "1. suppressPackageStartupMessages(library(lifecycle))",
      "2. withCallingHandlers(expr, packageStartupMessage = function(c) invokeRestart(\"muffleMessage\"))",
      "3. library(lifecycle)"
     ]
    }
   ],
   "source": [
    "#install.packages(\"lifecycle\")\n",
    "suppressPackageStartupMessages(library(lifecycle))"
   ]
  },
  {
   "cell_type": "code",
   "execution_count": 20,
   "id": "c83944a0",
   "metadata": {},
   "outputs": [
    {
     "ename": "ERROR",
     "evalue": "Error in library(tidyverse): there is no package called 'tidyverse'\n",
     "output_type": "error",
     "traceback": [
      "Error in library(tidyverse): there is no package called 'tidyverse'\nTraceback:\n",
      "1. suppressPackageStartupMessages(library(tidyverse))",
      "2. withCallingHandlers(expr, packageStartupMessage = function(c) invokeRestart(\"muffleMessage\"))",
      "3. library(tidyverse)"
     ]
    }
   ],
   "source": [
    "#install.packages(\"tidyverse\")\n",
    "suppressPackageStartupMessages(library(tidyverse))"
   ]
  },
  {
   "cell_type": "code",
   "execution_count": 21,
   "id": "c0cb93c9",
   "metadata": {},
   "outputs": [],
   "source": [
    "#install.packages(\"plyr\")\n",
    "suppressPackageStartupMessages(library(plyr))"
   ]
  },
  {
   "cell_type": "code",
   "execution_count": 27,
   "id": "f793917c",
   "metadata": {},
   "outputs": [],
   "source": [
    "input_dir <- \"C:/Users/MONSTER/Desktop/TEZ/CCLE/INPUT\"\n",
    "output_dir <- \"C:/Users/MONSTER/Desktop/TEZ/CCLE/OUTPUT\""
   ]
  },
  {
   "cell_type": "code",
   "execution_count": 28,
   "id": "e6f7ff98",
   "metadata": {},
   "outputs": [],
   "source": [
    "setwd(paste0(output_dir))"
   ]
  },
  {
   "cell_type": "code",
   "execution_count": 29,
   "id": "c6f39844",
   "metadata": {},
   "outputs": [],
   "source": [
    "Boruta_Histologies <- list.dirs(full.names = FALSE, recursive = FALSE)"
   ]
  },
  {
   "cell_type": "code",
   "execution_count": 30,
   "id": "c4912b0e",
   "metadata": {},
   "outputs": [],
   "source": [
    "outer_list <- list()"
   ]
  },
  {
   "cell_type": "code",
   "execution_count": 31,
   "id": "c7736f05",
   "metadata": {
    "scrolled": false
   },
   "outputs": [
    {
     "name": "stdout",
     "output_type": "stream",
     "text": [
      "\n",
      "Random Forest is running for carcinoid-endocrine_tumour\n",
      "Random Forest is running for carcinoma\n",
      "Random Forest is running for 17-AAG\n",
      "Random Forest is running for AEW541\n",
      "Random Forest is running for AZD0530\n",
      "Random Forest is running for AZD6244\n",
      "Random Forest is running for Erlotinib\n",
      "Random Forest is running for Irinotecan\n",
      "Random Forest is running for L-685458\n",
      "Random Forest is running for Lapatinib\n",
      "Random Forest is running for LBW242\n",
      "Random Forest is running for Nilotinib\n",
      "Random Forest is running for Nutlin-3\n",
      "Random Forest is running for Paclitaxel"
     ]
    },
    {
     "name": "stderr",
     "output_type": "stream",
     "text": [
      "Warning message in cor.test.default(train_Drug_data$IC50, train_prediction$prediction, :\n",
      "\"Cannot compute exact p-value with ties\"Warning message in cor.test.default(test_Drug_data$IC50, test_prediction$prediction, :\n",
      "\"Cannot compute exact p-value with ties\""
     ]
    },
    {
     "name": "stdout",
     "output_type": "stream",
     "text": [
      "\n",
      "Random Forest is running for Panobinostat\n",
      "Random Forest is running for PD-0325901\n",
      "Random Forest is running for PD-0332991"
     ]
    },
    {
     "name": "stderr",
     "output_type": "stream",
     "text": [
      "Warning message in cor(train_Drug_data$IC50, train_prediction$prediction):\n",
      "\"the standard deviation is zero\"Warning message in cor(train_Drug_data$IC50, train_prediction$prediction):\n",
      "\"the standard deviation is zero\"Warning message in cor(x, y):\n",
      "\"the standard deviation is zero\"Warning message in cor(train_Drug_data$IC50, train_prediction$prediction, method = \"spearman\"):\n",
      "\"the standard deviation is zero\"Warning message in cor(rank(x), rank(y)):\n",
      "\"the standard deviation is zero\"Warning message in cor(test_Drug_data$IC50, test_prediction$prediction):\n",
      "\"the standard deviation is zero\"Warning message in cor(test_Drug_data$IC50, test_prediction$prediction):\n",
      "\"the standard deviation is zero\"Warning message in cor(x, y):\n",
      "\"the standard deviation is zero\"Warning message in cor(test_Drug_data$IC50, test_prediction$prediction, method = \"spearman\"):\n",
      "\"the standard deviation is zero\"Warning message in cor(rank(x), rank(y)):\n",
      "\"the standard deviation is zero\""
     ]
    },
    {
     "name": "stdout",
     "output_type": "stream",
     "text": [
      "\n",
      "Random Forest is running for PF2341066\n",
      "Random Forest is running for PHA-665752\n",
      "Random Forest is running for PLX4720\n",
      "Random Forest is running for RAF265\n",
      "Random Forest is running for Sorafenib\n",
      "Random Forest is running for TAE684\n",
      "Random Forest is running for TKI258\n",
      "Random Forest is running for Topotecan\n",
      "Random Forest is running for ZD-6474\n",
      "Random Forest is running for chondrosarcoma\n",
      "Random Forest is running for Ewings_sarcoma-peripheral_primitive_neuroectodermal_tumour\n",
      "Random Forest is running for fibrosarcoma\n",
      "Random Forest is running for glioma\n",
      "Random Forest is running for 17-AAG\n",
      "Random Forest is running for AEW541\n",
      "Random Forest is running for AZD0530\n",
      "Random Forest is running for AZD6244\n",
      "Random Forest is running for Erlotinib\n",
      "Random Forest is running for Irinotecan\n",
      "Random Forest is running for L-685458\n",
      "Random Forest is running for Lapatinib\n",
      "Random Forest is running for LBW242\n",
      "Random Forest is running for Nilotinib\n",
      "Random Forest is running for Nutlin-3\n",
      "Random Forest is running for Paclitaxel\n",
      "Random Forest is running for Panobinostat\n",
      "Random Forest is running for PD-0325901\n",
      "Random Forest is running for PD-0332991\n",
      "Random Forest is running for PF2341066\n",
      "Random Forest is running for PHA-665752\n",
      "Random Forest is running for PLX4720\n",
      "Random Forest is running for RAF265\n",
      "Random Forest is running for Sorafenib\n",
      "Random Forest is running for TAE684\n",
      "Random Forest is running for TKI258\n",
      "Random Forest is running for Topotecan\n",
      "Random Forest is running for ZD-6474\n",
      "Random Forest is running for haematopoietic_neoplasm\n",
      "Random Forest is running for lymphoid_neoplasm\n",
      "Random Forest is running for 17-AAG\n",
      "Random Forest is running for AEW541\n",
      "Random Forest is running for AZD0530\n",
      "Random Forest is running for AZD6244\n",
      "Random Forest is running for Erlotinib\n",
      "Random Forest is running for Irinotecan\n",
      "Random Forest is running for L-685458\n",
      "Random Forest is running for Lapatinib\n",
      "Random Forest is running for LBW242\n",
      "Random Forest is running for Nilotinib\n",
      "Random Forest is running for Nutlin-3\n",
      "Random Forest is running for Paclitaxel\n",
      "Random Forest is running for Panobinostat\n",
      "Random Forest is running for PD-0325901\n",
      "Random Forest is running for PD-0332991\n",
      "Random Forest is running for PF2341066\n",
      "Random Forest is running for PHA-665752\n",
      "Random Forest is running for PLX4720\n",
      "Random Forest is running for RAF265\n",
      "Random Forest is running for Sorafenib\n",
      "Random Forest is running for TAE684\n",
      "Random Forest is running for TKI258\n",
      "Random Forest is running for Topotecan\n",
      "Random Forest is running for ZD-6474\n",
      "Random Forest is running for malignant_fibrous_histiocytoma-pleomorphic_sarcoma\n",
      "Random Forest is running for malignant_melanoma\n",
      "Random Forest is running for 17-AAG"
     ]
    },
    {
     "name": "stderr",
     "output_type": "stream",
     "text": [
      "Warning message in cor(train_Drug_data$IC50, train_prediction$prediction):\n",
      "\"the standard deviation is zero\"Warning message in cor(train_Drug_data$IC50, train_prediction$prediction):\n",
      "\"the standard deviation is zero\"Warning message in cor(x, y):\n",
      "\"the standard deviation is zero\"Warning message in cor(train_Drug_data$IC50, train_prediction$prediction, method = \"spearman\"):\n",
      "\"the standard deviation is zero\"Warning message in cor(rank(x), rank(y)):\n",
      "\"the standard deviation is zero\"Warning message in cor(test_Drug_data$IC50, test_prediction$prediction):\n",
      "\"the standard deviation is zero\"Warning message in cor(test_Drug_data$IC50, test_prediction$prediction):\n",
      "\"the standard deviation is zero\"Warning message in cor(x, y):\n",
      "\"the standard deviation is zero\"Warning message in cor(test_Drug_data$IC50, test_prediction$prediction, method = \"spearman\"):\n",
      "\"the standard deviation is zero\"Warning message in cor(rank(x), rank(y)):\n",
      "\"the standard deviation is zero\""
     ]
    },
    {
     "name": "stdout",
     "output_type": "stream",
     "text": [
      "\n",
      "Random Forest is running for AEW541\n",
      "Random Forest is running for AZD0530\n",
      "Random Forest is running for AZD6244\n",
      "Random Forest is running for Erlotinib\n",
      "Random Forest is running for Irinotecan\n",
      "Random Forest is running for L-685458\n",
      "Random Forest is running for Lapatinib\n",
      "Random Forest is running for LBW242\n",
      "Random Forest is running for Nilotinib\n",
      "Random Forest is running for Nutlin-3\n",
      "Random Forest is running for Paclitaxel"
     ]
    },
    {
     "name": "stderr",
     "output_type": "stream",
     "text": [
      "Warning message in cor.test.default(train_Drug_data$IC50, train_prediction$prediction, :\n",
      "\"Cannot compute exact p-value with ties\""
     ]
    },
    {
     "name": "stdout",
     "output_type": "stream",
     "text": [
      "\n",
      "Random Forest is running for Panobinostat\n",
      "Random Forest is running for PD-0325901\n",
      "Random Forest is running for PD-0332991\n",
      "Random Forest is running for PF2341066\n",
      "Random Forest is running for PHA-665752\n",
      "Random Forest is running for PLX4720\n",
      "Random Forest is running for RAF265\n",
      "Random Forest is running for Sorafenib\n",
      "Random Forest is running for TAE684\n",
      "Random Forest is running for TKI258\n",
      "Random Forest is running for Topotecan\n",
      "Random Forest is running for ZD-6474\n",
      "Random Forest is running for mesothelioma\n",
      "Random Forest is running for neuroblastoma\n",
      "Random Forest is running for osteosarcoma\n",
      "Random Forest is running for other\n",
      "Random Forest is running for primitive_neuroectodermal_tumour-medulloblastoma\n",
      "Random Forest is running for rhabdoid_tumour\n",
      "Random Forest is running for rhabdomyosarcoma\n",
      "Random Forest is running for sarcoma"
     ]
    }
   ],
   "source": [
    "set.seed(1234)\n",
    "for(histology in Boruta_Histologies){ \n",
    "  setwd(paste0(output_dir,\"/\",histology))\n",
    "  Drugs <- list.dirs(full.names = FALSE, recursive = FALSE)\n",
    "  \n",
    "    cat(paste0(\"\\nRandom Forest is running for \", histology))\n",
    "    flush.console()\n",
    "  \n",
    "  List_result_table_IC50_Train <- list()\n",
    "  List_result_table_IC50_Test <- list()\n",
    "  inner_list <- list()\n",
    "  for(drug in Drugs){\n",
    "    setwd(paste0(output_dir,\"/\",histology,\"/\",drug))\n",
    "      \n",
    "    cat(paste0(\"\\nRandom Forest is running for \", drug))\n",
    "    flush.console()\n",
    "      \n",
    "    Drug_data <- read.delim(paste(drug, \"- Expression Data (IC50) - Normalized.tsv\", sep = \" \"))\n",
    "    \n",
    "    \n",
    "      if(length(Drug_data$Sample_Name) >= 20){ \n",
    "      \n",
    "    Drug_data_without_sample_name <- subset(Drug_data, select = - Sample_Name)\n",
    "    \n",
    "    \n",
    "          \n",
    "    ind <- sample(2, nrow(Drug_data_without_sample_name), replace=TRUE, prob=c(0.7, 0.3))\n",
    "    train_Drug_data <- Drug_data_without_sample_name[ind==1,]\n",
    "    test_Drug_data <- Drug_data_without_sample_name[ind==2,]\n",
    "    \n",
    "    n_features <- length(setdiff(names(train_Drug_data), \"IC50\"))\n",
    "      \n",
    "    if(length(setdiff(names(train_Drug_data), \"IC50\")) >= 5) {\n",
    "    \n",
    "    \n",
    "        \n",
    "    Drug_rf1 <- ranger(\n",
    "      IC50 ~ ., \n",
    "      data = train_Drug_data,\n",
    "      mtry = floor(n_features / 3),\n",
    "      respect.unordered.factors = \"order\",\n",
    "      seed = 123\n",
    "    )\n",
    "    \n",
    "    \n",
    "    (default_rmse <- sqrt(Drug_rf1$prediction.error))\n",
    "    \n",
    "    hyper_grid <- expand.grid(\n",
    "      mtry = floor(n_features * c(.05, .15, .25, .333, .4)),\n",
    "      min.node.size = c(1, 3, 5, 10), \n",
    "      replace = c(TRUE, FALSE),                               \n",
    "      sample.fraction = c(.5, .63, .8),                       \n",
    "      rmse = NA                                               \n",
    "    )\n",
    "    \n",
    "         \n",
    "    for(i in seq_len(nrow(hyper_grid))) {\n",
    "        \n",
    "\n",
    "        \n",
    "      fit <- ranger(\n",
    "        formula         = IC50 ~ ., \n",
    "        data            = train_Drug_data, \n",
    "        num.trees       = n_features * 10,\n",
    "        mtry            = hyper_grid$mtry[i],\n",
    "        min.node.size   = hyper_grid$min.node.size[i],\n",
    "        replace         = hyper_grid$replace[i],\n",
    "        sample.fraction = hyper_grid$sample.fraction[i],\n",
    "        verbose         = FALSE,\n",
    "        seed            = 123,\n",
    "        respect.unordered.factors = 'order',\n",
    "      )\n",
    "      \n",
    "      \n",
    "      hyper_grid$rmse[i] <- sqrt(fit$prediction.error)\n",
    "    }\n",
    "    \n",
    "    \n",
    "    rmse <- hyper_grid$rmse[i]\n",
    "    \n",
    "    \n",
    "    hyper_grid %>%\n",
    "    arrange(rmse) %>%\n",
    "    mutate(perc_gain = (default_rmse - rmse) / default_rmse * 100)\n",
    "      \n",
    "     hyper_grid_new <- hyper_grid[order(hyper_grid$rmse, decreasing = FALSE),]\n",
    "     best_model_from_rf <- hyper_grid_new[1,]\n",
    "     \n",
    "     \n",
    "      \n",
    "     fit_best_model_rf <- ranger(\n",
    "       formula         = IC50 ~ .,\n",
    "       data            = train_Drug_data,\n",
    "       num.trees       = n_features * 10,\n",
    "       mtry            = best_model_from_rf[1,1],\n",
    "       min.node.size   = best_model_from_rf[1,2],\n",
    "       replace         = best_model_from_rf[1,3],\n",
    "       sample.fraction = best_model_from_rf[1,4],\n",
    "       verbose         = FALSE,\n",
    "       seed            = 123,\n",
    "       respect.unordered.factors = 'order',\n",
    "     )\n",
    "    \n",
    "     \n",
    "     train_prediction <- predict(fit_best_model_rf, train_Drug_data)\n",
    "     R_Square_Train <- cor(train_Drug_data$IC50, train_prediction$prediction)^2\n",
    "     \n",
    "     Pearson_Correlation_Train <- cor(train_Drug_data$IC50, train_prediction$prediction)\n",
    "     Pearson_Correlation_P_Value_Train <- cor.test(train_Drug_data$IC50, train_prediction$prediction)$p.value\n",
    "   \n",
    "     Spearman_Correlation_Train <- cor(train_Drug_data$IC50, train_prediction$prediction, method = \"spearman\")\n",
    "     Spearman_Correlation_P_Value_Train <- cor.test(train_Drug_data$IC50, train_prediction$prediction, method = \"spearman\")$p.value\n",
    "        \n",
    "        Square_for_train_RMSE <- (train_prediction$prediction - train_Drug_data$IC50)^2\n",
    "        Mean_Square_for_train_RMSE <- mean(Square_for_train_RMSE)\n",
    "     RMSE_Train <- sqrt(Mean_Square_for_train_RMSE)\n",
    "     \n",
    "     IC50_Train_and_Prediction <- cbind(train_Drug_data$IC50, train_prediction$prediction)\n",
    "     colnames(IC50_Train_and_Prediction) <- c(\"Actual_IC50_Train_Data\",\"Predicted_IC50_Test_Data\")\n",
    "     \n",
    "     \n",
    "     \n",
    "     test_prediction <- predict(fit_best_model_rf, test_Drug_data)\n",
    "     R_Square_Test <- cor(test_Drug_data$IC50, test_prediction$prediction)^2\n",
    "     \n",
    "     Pearson_Correlation_Test <- cor(test_Drug_data$IC50, test_prediction$prediction)\n",
    "     Pearson_Correlation_P_Value_Test <- cor.test(test_Drug_data$IC50, test_prediction$prediction)$p.value\n",
    "     Spearman_Correlation_Test <- cor(test_Drug_data$IC50, test_prediction$prediction, method = \"spearman\")\n",
    "     Spearman_Correlation_P_Value_Test <- cor.test(test_Drug_data$IC50, test_prediction$prediction, method = \"spearman\")$p.value\n",
    "     \n",
    "        Square_for_test_RMSE <- (test_prediction$prediction - test_Drug_data$IC50)^2\n",
    "        Mean_Square_for_test_RMSE <- mean(Square_for_test_RMSE)\n",
    "     RMSE_Test <- sqrt(Mean_Square_for_test_RMSE)\n",
    "     \n",
    "     IC50_Test_and_Prediction <- cbind(test_Drug_data$IC50, test_prediction$prediction)\n",
    "     colnames(IC50_Test_and_Prediction) <- c(\"Actual_IC50_Test_Data\",\"Predicted_IC50_Test_Data\")\n",
    "     \n",
    "     \n",
    "     \n",
    "     Result_table_drug <- data.frame(\n",
    "                  Tissue = histology,\n",
    "                  Drug = drug,\n",
    "              \n",
    "                  R_Square_Train,\n",
    "                  R_Square_Test,\n",
    "                  \n",
    "                  Pearson_Correlation_Train,\n",
    "                  Pearson_Correlation_Test,\n",
    "                  \n",
    "                  Pearson_Correlation_P_Value_Train,\n",
    "                  Pearson_Correlation_P_Value_Test,\n",
    "                  \n",
    "                  Spearman_Correlation_Train,\n",
    "                  Spearman_Correlation_Test,\n",
    "                  \n",
    "                  Spearman_Correlation_P_Value_Train,\n",
    "                  Spearman_Correlation_P_Value_Test,\n",
    "                  \n",
    "                  RMSE_Train,\n",
    "                  RMSE_Test\n",
    "              \n",
    "     )\n",
    "     \n",
    "     \n",
    "    \n",
    "     inner_list[[drug]] <- Result_table_drug\n",
    "     List_result_table_IC50_Train[[drug]] <- IC50_Train_and_Prediction\n",
    "     List_result_table_IC50_Test[[drug]] <- IC50_Test_and_Prediction\n",
    "     \n",
    "     \n",
    "     dir.create(paste0(output_dir,\"/\",histology,\"/\",drug,\"/\",\"Random Forest\"))\n",
    "     setwd(paste0(output_dir,\"/\",histology,\"/\",drug,\"/\",\"Random Forest\"))  \n",
    "     \n",
    "     \n",
    "    \n",
    "     \n",
    "     write.table(inner_list[[drug]],\n",
    "                 paste(drug, \"- Result_RF.tsv\" , sep = \" \"),\n",
    "                 row.names = FALSE,\n",
    "                 quote = FALSE,\n",
    "                 sep = \"\\t\")\n",
    "     \n",
    "     write.table(List_result_table_IC50_Train[[drug]],\n",
    "                 paste(drug, \"- IC50_Train_Result.tsv\" , sep = \" \"),\n",
    "                 row.names = FALSE,\n",
    "                 quote = FALSE,\n",
    "                 sep = \"\\t\")\n",
    "     \n",
    "     write.table(List_result_table_IC50_Test[[drug]],\n",
    "                 paste(drug, \"- IC50_Test_Result.tsv\" , sep = \" \"),\n",
    "                 row.names = FALSE,\n",
    "                 quote = FALSE,\n",
    "                 sep = \"\\t\")\n",
    "     \n",
    "        }\n",
    "  \n",
    "      }\n",
    "      \n",
    "      }\n",
    " \n",
    "  \n",
    "   \n",
    "   outer_list[[histology]] <- ldply(inner_list, \"rbind\")\n",
    "   \n",
    "    \n",
    "    }\n",
    "\n",
    "    "
   ]
  },
  {
   "cell_type": "code",
   "execution_count": null,
   "id": "18d5ece7",
   "metadata": {},
   "outputs": [],
   "source": [
    " ALL_RESULT_RF  <- ldply(outer_list, \"rbind\")\n",
    "     All_RF_RESULT  <- All_RESULT_RF[order(All_RESULT_RF$R_Square_Test , decreasing = TRUE),]\n",
    "     write.table(All_RF_RESULT,\n",
    "            \"C:/Users/MONSTER/Desktop/TEZ/CCLE/All_RF_RESULT.tsv\",\n",
    "            row.names = FALSE,\n",
    "            quote = FALSE,\n",
    "            sep = \"\\t\"\n",
    "            \n",
    "           )"
   ]
  }
 ],
 "metadata": {
  "kernelspec": {
   "display_name": "R",
   "language": "R",
   "name": "ir"
  },
  "language_info": {
   "codemirror_mode": "r",
   "file_extension": ".r",
   "mimetype": "text/x-r-source",
   "name": "R",
   "pygments_lexer": "r",
   "version": "3.6.1"
  }
 },
 "nbformat": 4,
 "nbformat_minor": 5
}
