{
 "cells": [
  {
   "cell_type": "code",
   "execution_count": null,
   "id": "b5cb7698",
   "metadata": {},
   "outputs": [],
   "source": [
    "# İYİLEŞTİRİLECEK..."
   ]
  },
  {
   "cell_type": "code",
   "execution_count": 35,
   "id": "17fa1fce",
   "metadata": {},
   "outputs": [
    {
     "data": {
      "text/html": [
       "'C:/Users/MONSTER/Desktop/TEZ/CCLE/OUTPUT/sarcoma'"
      ],
      "text/latex": [
       "'C:/Users/MONSTER/Desktop/TEZ/CCLE/OUTPUT/sarcoma'"
      ],
      "text/markdown": [
       "'C:/Users/MONSTER/Desktop/TEZ/CCLE/OUTPUT/sarcoma'"
      ],
      "text/plain": [
       "[1] \"C:/Users/MONSTER/Desktop/TEZ/CCLE/OUTPUT/sarcoma\""
      ]
     },
     "metadata": {},
     "output_type": "display_data"
    }
   ],
   "source": [
    "getwd()"
   ]
  },
  {
   "cell_type": "code",
   "execution_count": 36,
   "id": "0c56affe",
   "metadata": {},
   "outputs": [],
   "source": [
    "#install.packages(\"plyr\")\n",
    "suppressPackageStartupMessages(library(plyr))"
   ]
  },
  {
   "cell_type": "code",
   "execution_count": 48,
   "id": "a902c2fd",
   "metadata": {},
   "outputs": [],
   "source": [
    "output_dir <- \"C:/Users/MONSTER/Desktop/TEZ/CCLE/OUTPUT\""
   ]
  },
  {
   "cell_type": "code",
   "execution_count": 49,
   "id": "ac9d3314",
   "metadata": {},
   "outputs": [],
   "source": [
    "setwd(output_dir)"
   ]
  },
  {
   "cell_type": "code",
   "execution_count": 50,
   "id": "c6b83270",
   "metadata": {},
   "outputs": [],
   "source": [
    "Histologies <- list.dirs(full.names = FALSE, recursive = FALSE)"
   ]
  },
  {
   "cell_type": "code",
   "execution_count": 51,
   "id": "44823a2d",
   "metadata": {},
   "outputs": [
    {
     "data": {
      "text/html": [
       "<ol class=list-inline>\n",
       "\t<li>'carcinoid-endocrine_tumour'</li>\n",
       "\t<li>'carcinoma'</li>\n",
       "\t<li>'chondrosarcoma'</li>\n",
       "\t<li>'Ewings_sarcoma-peripheral_primitive_neuroectodermal_tumour'</li>\n",
       "\t<li>'fibrosarcoma'</li>\n",
       "\t<li>'glioma'</li>\n",
       "\t<li>'haematopoietic_neoplasm'</li>\n",
       "\t<li>'lymphoid_neoplasm'</li>\n",
       "\t<li>'malignant_fibrous_histiocytoma-pleomorphic_sarcoma'</li>\n",
       "\t<li>'malignant_melanoma'</li>\n",
       "\t<li>'mesothelioma'</li>\n",
       "\t<li>'neuroblastoma'</li>\n",
       "\t<li>'osteosarcoma'</li>\n",
       "\t<li>'other'</li>\n",
       "\t<li>'primitive_neuroectodermal_tumour-medulloblastoma'</li>\n",
       "\t<li>'rhabdoid_tumour'</li>\n",
       "\t<li>'rhabdomyosarcoma'</li>\n",
       "\t<li>'sarcoma'</li>\n",
       "</ol>\n"
      ],
      "text/latex": [
       "\\begin{enumerate*}\n",
       "\\item 'carcinoid-endocrine\\_tumour'\n",
       "\\item 'carcinoma'\n",
       "\\item 'chondrosarcoma'\n",
       "\\item 'Ewings\\_sarcoma-peripheral\\_primitive\\_neuroectodermal\\_tumour'\n",
       "\\item 'fibrosarcoma'\n",
       "\\item 'glioma'\n",
       "\\item 'haematopoietic\\_neoplasm'\n",
       "\\item 'lymphoid\\_neoplasm'\n",
       "\\item 'malignant\\_fibrous\\_histiocytoma-pleomorphic\\_sarcoma'\n",
       "\\item 'malignant\\_melanoma'\n",
       "\\item 'mesothelioma'\n",
       "\\item 'neuroblastoma'\n",
       "\\item 'osteosarcoma'\n",
       "\\item 'other'\n",
       "\\item 'primitive\\_neuroectodermal\\_tumour-medulloblastoma'\n",
       "\\item 'rhabdoid\\_tumour'\n",
       "\\item 'rhabdomyosarcoma'\n",
       "\\item 'sarcoma'\n",
       "\\end{enumerate*}\n"
      ],
      "text/markdown": [
       "1. 'carcinoid-endocrine_tumour'\n",
       "2. 'carcinoma'\n",
       "3. 'chondrosarcoma'\n",
       "4. 'Ewings_sarcoma-peripheral_primitive_neuroectodermal_tumour'\n",
       "5. 'fibrosarcoma'\n",
       "6. 'glioma'\n",
       "7. 'haematopoietic_neoplasm'\n",
       "8. 'lymphoid_neoplasm'\n",
       "9. 'malignant_fibrous_histiocytoma-pleomorphic_sarcoma'\n",
       "10. 'malignant_melanoma'\n",
       "11. 'mesothelioma'\n",
       "12. 'neuroblastoma'\n",
       "13. 'osteosarcoma'\n",
       "14. 'other'\n",
       "15. 'primitive_neuroectodermal_tumour-medulloblastoma'\n",
       "16. 'rhabdoid_tumour'\n",
       "17. 'rhabdomyosarcoma'\n",
       "18. 'sarcoma'\n",
       "\n",
       "\n"
      ],
      "text/plain": [
       " [1] \"carcinoid-endocrine_tumour\"                                \n",
       " [2] \"carcinoma\"                                                 \n",
       " [3] \"chondrosarcoma\"                                            \n",
       " [4] \"Ewings_sarcoma-peripheral_primitive_neuroectodermal_tumour\"\n",
       " [5] \"fibrosarcoma\"                                              \n",
       " [6] \"glioma\"                                                    \n",
       " [7] \"haematopoietic_neoplasm\"                                   \n",
       " [8] \"lymphoid_neoplasm\"                                         \n",
       " [9] \"malignant_fibrous_histiocytoma-pleomorphic_sarcoma\"        \n",
       "[10] \"malignant_melanoma\"                                        \n",
       "[11] \"mesothelioma\"                                              \n",
       "[12] \"neuroblastoma\"                                             \n",
       "[13] \"osteosarcoma\"                                              \n",
       "[14] \"other\"                                                     \n",
       "[15] \"primitive_neuroectodermal_tumour-medulloblastoma\"          \n",
       "[16] \"rhabdoid_tumour\"                                           \n",
       "[17] \"rhabdomyosarcoma\"                                          \n",
       "[18] \"sarcoma\"                                                   "
      ]
     },
     "metadata": {},
     "output_type": "display_data"
    }
   ],
   "source": [
    "Histologies"
   ]
  },
  {
   "cell_type": "code",
   "execution_count": 52,
   "id": "33ee6696",
   "metadata": {},
   "outputs": [
    {
     "data": {
      "text/html": [
       "18"
      ],
      "text/latex": [
       "18"
      ],
      "text/markdown": [
       "18"
      ],
      "text/plain": [
       "[1] 18"
      ]
     },
     "metadata": {},
     "output_type": "display_data"
    }
   ],
   "source": [
    "length(Histologies)"
   ]
  },
  {
   "cell_type": "code",
   "execution_count": 53,
   "id": "df6c3bd2",
   "metadata": {},
   "outputs": [],
   "source": [
    "setwd(output_dir)"
   ]
  },
  {
   "cell_type": "code",
   "execution_count": 54,
   "id": "748007ea",
   "metadata": {},
   "outputs": [],
   "source": [
    "Histology_Drug_RF <- list( )\n",
    "inner_list <- list()\n",
    "\n",
    "for(histology in Histologies){\n",
    "    setwd(paste0(output_dir,\"/\",histology))\n",
    "    \n",
    "    if(length(list.dirs(full.names = FALSE, recursive = FALSE)) >= 5){\n",
    "    \n",
    "    Drugs <- list.dirs(full.names = FALSE, recursive = FALSE)\n",
    "    for(drug in Drugs){\n",
    "        setwd(paste0(output_dir,\"/\",histology,\"/\",drug))\n",
    "        if(dir.exists(\"Random Forest\")){\n",
    "            setwd(paste0(output_dir,\"/\",histology,\"/\",drug,\"/\",\"Random Forest\"))\n",
    "            RF_Result_Drug_Data <- read.delim(paste(drug, \"- Result_RF.tsv\", sep = \" \"))\n",
    "            #RF_Result_Drug_Data <- na.omit(RF_Result_Drug_Data)\n",
    "            #RF_Result_Drug_Data_Cleaned <- RF_Result_Drug_Data[order(RF_Result_Drug_Data$R_Square_Test , decreasing = TRUE),]\n",
    "            inner_list[[drug]] <- RF_Result_Drug_Data\n",
    "        }             \n",
    "        \n",
    "    }\n",
    "        \n",
    "        Histology_Drug_RF[[histology]] <- ldply(inner_list , \"rbind\")\n",
    "        #Histology_Drug_RF[[histology]] <- Histology_Drug_RF[[histology]] , select = -.id)\n",
    "        write.table(Histology_Drug_RF[[histology]],\n",
    "                   paste0(output_dir,\"/\",histology,\"/\",histology,\" - Drug RF.tsv\"),\n",
    "                   row.names = FALSE,\n",
    "                   quote = FALSE,\n",
    "                   sep = \"\\t\"\n",
    "                  )\n",
    "    \n",
    "     }  \n",
    "    }\n",
    "    \n"
   ]
  },
  {
   "cell_type": "code",
   "execution_count": null,
   "id": "5793dab1",
   "metadata": {},
   "outputs": [],
   "source": [
    "setwd(\"C:/Users/MONSTER/Desktop/TEZ/CCLE/OUTPUT\")              \n",
    "All_RF_RESULT <- ldply(Histology_Drug_RF, \"rbind\")\n",
    "All_RF_RESULT <- subset(All_RF_RESULT, select = -.id)\n",
    "All_RF_RESULT <- na.omit(All_RF_RESULT)\n",
    "All_RF_RESULT_CLEANED  <- All_RF_RESULT[order(All_RF_RESULT$R_Square_Test , decreasing = TRUE),]\n",
    "\n",
    "write.table(All_RF_RESULT_CLEANED,\n",
    "            \"C:/Users/MONSTER/Desktop/TEZ/CCLE/All_RF_RESULT.tsv\",\n",
    "            row.names = FALSE,\n",
    "            quote = FALSE,\n",
    "            sep = \"\\t\"\n",
    "            \n",
    "           )\n"
   ]
  },
  {
   "cell_type": "code",
   "execution_count": 62,
   "id": "e87f174f",
   "metadata": {},
   "outputs": [
    {
     "data": {
      "text/html": [
       "'C:/Users/MONSTER/Desktop/TEZ/CCLE/OUTPUT'"
      ],
      "text/latex": [
       "'C:/Users/MONSTER/Desktop/TEZ/CCLE/OUTPUT'"
      ],
      "text/markdown": [
       "'C:/Users/MONSTER/Desktop/TEZ/CCLE/OUTPUT'"
      ],
      "text/plain": [
       "[1] \"C:/Users/MONSTER/Desktop/TEZ/CCLE/OUTPUT\""
      ]
     },
     "metadata": {},
     "output_type": "display_data"
    }
   ],
   "source": [
    "getwd()"
   ]
  },
  {
   "cell_type": "code",
   "execution_count": 63,
   "id": "f59e1453",
   "metadata": {},
   "outputs": [],
   "source": [
    "setwd(output_dir)"
   ]
  },
  {
   "cell_type": "code",
   "execution_count": 64,
   "id": "be311abb",
   "metadata": {},
   "outputs": [
    {
     "data": {
      "text/html": [
       "'C:/Users/MONSTER/Desktop/TEZ/CCLE/OUTPUT'"
      ],
      "text/latex": [
       "'C:/Users/MONSTER/Desktop/TEZ/CCLE/OUTPUT'"
      ],
      "text/markdown": [
       "'C:/Users/MONSTER/Desktop/TEZ/CCLE/OUTPUT'"
      ],
      "text/plain": [
       "[1] \"C:/Users/MONSTER/Desktop/TEZ/CCLE/OUTPUT\""
      ]
     },
     "metadata": {},
     "output_type": "display_data"
    }
   ],
   "source": [
    "getwd()"
   ]
  },
  {
   "cell_type": "code",
   "execution_count": 65,
   "id": "5559d7ce",
   "metadata": {},
   "outputs": [],
   "source": [
    "Histologies <- list.dirs(full.name = FALSE, recursive = FALSE)"
   ]
  },
  {
   "cell_type": "code",
   "execution_count": 66,
   "id": "42b0a9cc",
   "metadata": {},
   "outputs": [
    {
     "data": {
      "text/html": [
       "18"
      ],
      "text/latex": [
       "18"
      ],
      "text/markdown": [
       "18"
      ],
      "text/plain": [
       "[1] 18"
      ]
     },
     "metadata": {},
     "output_type": "display_data"
    }
   ],
   "source": [
    "length(Histologies)"
   ]
  },
  {
   "cell_type": "code",
   "execution_count": 110,
   "id": "64353cf1",
   "metadata": {},
   "outputs": [],
   "source": [
    "Histology_list <- list()\n",
    "Drug_list <- list()\n",
    "\n",
    "for(histology in Histologies){\n",
    "    setwd(paste0(output_dir,\"/\",histology))\n",
    "    if(!is.null(list.dirs(full.name = FALSE, recursive = FALSE))){\n",
    "    \n",
    "        Drugs <- list.dirs(full.name = FALSE, recursive = FALSE)\n",
    "        for(drug in Drugs){\n",
    "            setwd(paste0(output_dir,\"/\",histology,\"/\",drug))\n",
    "            if(dir.exists(\"Random Forest\")){\n",
    "                setwd(paste0(output_dir,\"/\",histology,\"/\",drug,\"/\",\"Random Forest\"))\n",
    "                Drug_rf_data <- read.delim(paste(drug, \"- Result_RF.tsv\", sep = \" \"))\n",
    "                Drug_list[[drug]] <- Drug_rf_data\n",
    "                \n",
    "            }\n",
    "        \n",
    "        }\n",
    "    \n",
    "        Histology_list[[histology]] <- ldply(Drug_list, \"rbind\")\n",
    "        #Histology_list[[histology]] <- subset(Histology_list[[histology]], select = -.id)\n",
    "        #Histology_list[[histology]]  <- Histology_list[[histology]][order(Histology_list[[histology]]$R_Square_Test , decreasing = TRUE),]\n",
    "        setwd(paste0(output_dir,\"/\",histology))\n",
    "        write.table(Histology_list[[histology]],\n",
    "                   paste(histology, \"- Drug RF.tsv\", sep = \" \"),\n",
    "                   row.names = FALSE,\n",
    "                   quote = FALSE,\n",
    "                   sep = \"\\t\")\n",
    "        \n",
    "    }\n",
    "   \n",
    "    \n",
    "}\n",
    "  \n",
    "      All_Histology_Drug_Result <- ldply(Histology_list, \"rbind\")\n",
    "      #All_Histology_Drug_Result <- subset(All_Histology_Drug_Result, select = -.id)\n",
    "      #All_Histology_Drug_Result <- na.omit(All_Histology_Drug_Result)\n",
    "      #All_RF_RESULT_CLEANED  <- All_Histology_Drug_Result[order(All_Histology_Drug_Result$R_Square_Test , decreasing = TRUE),]\n",
    "      setwd(\"C:/Users/MONSTER/Desktop/TEZ/CCLE\")\n",
    "      write.table(All_RF_RESULT_CLEANED,\n",
    "                   \"All Histologies Drug RF Result.tsv\",\n",
    "                   row.names = FALSE,\n",
    "                   quote = FALSE,\n",
    "                   sep = \"\\t\")\n",
    "                    "
   ]
  },
  {
   "cell_type": "code",
   "execution_count": 69,
   "id": "f4fc2f53",
   "metadata": {},
   "outputs": [],
   "source": [
    "setwd(\"C:/Users/MONSTER/Desktop/TEZ/CCLE\")\n",
    "A <- read.delim(\"All Histologies Drug RF Result.tsv\")"
   ]
  },
  {
   "cell_type": "code",
   "execution_count": 108,
   "id": "33622576",
   "metadata": {},
   "outputs": [
    {
     "data": {
      "text/html": [
       "<table>\n",
       "<thead><tr><th></th><th scope=col>Tissue</th><th scope=col>Drug</th><th scope=col>R_Square_Train</th><th scope=col>R_Square_Test</th><th scope=col>Pearson_Correlation_Train</th><th scope=col>Pearson_Correlation_Test</th><th scope=col>Pearson_Correlation_P_Value_Train</th><th scope=col>Pearson_Correlation_P_Value_Test</th><th scope=col>Spearman_Correlation_Train</th><th scope=col>Spearman_Correlation_Test</th><th scope=col>Spearman_Correlation_P_Value_Train</th><th scope=col>Spearman_Correlation_P_Value_Test</th><th scope=col>RMSE_Train</th><th scope=col>RMSE_Test</th></tr></thead>\n",
       "<tbody>\n",
       "\t<tr><th scope=row>61</th><td>malignant_melanoma</td><td>PD-0325901        </td><td>0.9836919         </td><td>0.9824992         </td><td>0.9918124         </td><td>0.9912110         </td><td>2.945466e-20      </td><td>3.233507e-09      </td><td>0.7915020         </td><td> 0.6545455        </td><td>9.936846e-06      </td><td>3.382516e-02      </td><td>0.46811529        </td><td>1.47291324        </td></tr>\n",
       "\t<tr><th scope=row>62</th><td>malignant_melanoma</td><td>TAE684            </td><td>0.9952296         </td><td>0.7650353         </td><td>0.9976119         </td><td>0.8746629         </td><td>1.770668e-16      </td><td>9.973576e-03      </td><td>1.0000000         </td><td> 0.5714286        </td><td>0.000000e+00      </td><td>2.000000e-01      </td><td>0.29807027        </td><td>1.45761024        </td></tr>\n",
       "\t<tr><th scope=row>41</th><td>lymphoid_neoplasm </td><td>ZD-6474           </td><td>0.9183455         </td><td>0.7124126         </td><td>0.9583034         </td><td>0.8440454         </td><td>1.454670e-09      </td><td>7.217745e-02      </td><td>0.9485294         </td><td> 0.6000000        </td><td>0.000000e+00      </td><td>3.500000e-01      </td><td>0.91164409        </td><td>1.07816237        </td></tr>\n",
       "\t<tr><th scope=row>63</th><td>lymphoid_neoplasm </td><td>ZD-6474           </td><td>0.9183455         </td><td>0.7124126         </td><td>0.9583034         </td><td>0.8440454         </td><td>1.454670e-09      </td><td>7.217745e-02      </td><td>0.9485294         </td><td> 0.6000000        </td><td>0.000000e+00      </td><td>3.500000e-01      </td><td>0.91164409        </td><td>1.07816237        </td></tr>\n",
       "\t<tr><th scope=row>64</th><td>malignant_melanoma</td><td>Topotecan         </td><td>0.9976577         </td><td>0.6892224         </td><td>0.9988282         </td><td>0.8301942         </td><td>4.708834e-37      </td><td>1.073452e-02      </td><td>0.9788177         </td><td> 0.6904762        </td><td>0.000000e+00      </td><td>6.939484e-02      </td><td>0.19339455        </td><td>0.70201691        </td></tr>\n",
       "\t<tr><th scope=row>65</th><td>malignant_melanoma</td><td>TKI258            </td><td>0.9581439         </td><td>0.6223292         </td><td>0.9788483         </td><td>0.7888784         </td><td>1.235382e-09      </td><td>6.215338e-02      </td><td>0.9736264         </td><td> 0.7714286        </td><td>0.000000e+00      </td><td>1.027778e-01      </td><td>0.70567654        </td><td>1.01726305        </td></tr>\n",
       "\t<tr><th scope=row>66</th><td>malignant_melanoma</td><td>PLX4720           </td><td>0.9894064         </td><td>0.5865916         </td><td>0.9946891         </td><td>0.7658927         </td><td>3.128129e-18      </td><td>7.579407e-02      </td><td>0.9701754         </td><td> 0.7714286        </td><td>7.828777e-06      </td><td>1.027778e-01      </td><td>0.32687348        </td><td>1.78659132        </td></tr>\n",
       "\t<tr><th scope=row>67</th><td>malignant_melanoma</td><td>Paclitaxel        </td><td>0.8080448         </td><td>0.5056363         </td><td>0.8989131         </td><td>0.7110810         </td><td>1.910563e-10      </td><td>2.113541e-02      </td><td>0.7582101         </td><td> 0.6242424        </td><td>4.612941e-06      </td><td>6.024898e-02      </td><td>0.01225853        </td><td>0.03983201        </td></tr>\n",
       "\t<tr><th scope=row>42</th><td>lymphoid_neoplasm </td><td>PD-0332991        </td><td>0.9759898         </td><td>0.4812000         </td><td>0.9879220         </td><td>0.6936858         </td><td>2.600052e-19      </td><td>2.608660e-02      </td><td>0.9869565         </td><td> 0.7818182        </td><td>1.000364e-06      </td><td>1.165127e-02      </td><td>0.70689412        </td><td>1.81084842        </td></tr>\n",
       "\t<tr><th scope=row>68</th><td>lymphoid_neoplasm </td><td>PD-0332991        </td><td>0.9759898         </td><td>0.4812000         </td><td>0.9879220         </td><td>0.6936858         </td><td>2.600052e-19      </td><td>2.608660e-02      </td><td>0.9869565         </td><td> 0.7818182        </td><td>1.000364e-06      </td><td>1.165127e-02      </td><td>0.70689412        </td><td>1.81084842        </td></tr>\n",
       "\t<tr><th scope=row>43</th><td>lymphoid_neoplasm </td><td>Sorafenib         </td><td>0.9953453         </td><td>0.4755651         </td><td>0.9976699         </td><td>0.6896123         </td><td>8.431031e-25      </td><td>1.295593e-01      </td><td>0.9909656         </td><td> 0.7142857        </td><td>2.759073e-06      </td><td>1.361111e-01      </td><td>0.31903558        </td><td>1.45681222        </td></tr>\n",
       "\t<tr><th scope=row>69</th><td>lymphoid_neoplasm </td><td>Sorafenib         </td><td>0.9953453         </td><td>0.4755651         </td><td>0.9976699         </td><td>0.6896123         </td><td>8.431031e-25      </td><td>1.295593e-01      </td><td>0.9909656         </td><td> 0.7142857        </td><td>2.759073e-06      </td><td>1.361111e-01      </td><td>0.31903558        </td><td>1.45681222        </td></tr>\n",
       "\t<tr><th scope=row>44</th><td>lymphoid_neoplasm </td><td>PF2341066         </td><td>0.9655353         </td><td>0.4484944         </td><td>0.9826165         </td><td>0.6696973         </td><td>2.530256e-18      </td><td>1.719994e-02      </td><td>0.9884615         </td><td> 0.6573427        </td><td>4.845506e-07      </td><td>2.398108e-02      </td><td>0.73565148        </td><td>1.60938588        </td></tr>\n",
       "\t<tr><th scope=row>70</th><td>lymphoid_neoplasm </td><td>PF2341066         </td><td>0.9655353         </td><td>0.4484944         </td><td>0.9826165         </td><td>0.6696973         </td><td>2.530256e-18      </td><td>1.719994e-02      </td><td>0.9884615         </td><td> 0.6573427        </td><td>4.845506e-07      </td><td>2.398108e-02      </td><td>0.73565148        </td><td>1.60938588        </td></tr>\n",
       "\t<tr><th scope=row>1</th><td>carcinoma         </td><td>17-AAG            </td><td>0.7932139         </td><td>0.4261325         </td><td>0.8906255         </td><td>0.6527883         </td><td>2.253052e-70      </td><td>1.248326e-10      </td><td>0.7492831         </td><td> 0.4986592        </td><td>0.000000e+00      </td><td>5.321177e-06      </td><td>0.24650466        </td><td>0.48248954        </td></tr>\n",
       "\t<tr><th scope=row>21</th><td>carcinoma         </td><td>17-AAG            </td><td>0.7932139         </td><td>0.4261325         </td><td>0.8906255         </td><td>0.6527883         </td><td>2.253052e-70      </td><td>1.248326e-10      </td><td>0.7492831         </td><td> 0.4986592        </td><td>0.000000e+00      </td><td>5.321177e-06      </td><td>0.24650466        </td><td>0.48248954        </td></tr>\n",
       "\t<tr><th scope=row>45</th><td>carcinoma         </td><td>17-AAG            </td><td>0.7932139         </td><td>0.4261325         </td><td>0.8906255         </td><td>0.6527883         </td><td>2.253052e-70      </td><td>1.248326e-10      </td><td>0.7492831         </td><td> 0.4986592        </td><td>0.000000e+00      </td><td>5.321177e-06      </td><td>0.24650466        </td><td>0.48248954        </td></tr>\n",
       "\t<tr><th scope=row>46</th><td>lymphoid_neoplasm </td><td>RAF265            </td><td>0.9971562         </td><td>0.4254815         </td><td>0.9985771         </td><td>0.6522894         </td><td>1.656467e-29      </td><td>2.961283e-02      </td><td>0.9826087         </td><td> 0.6909091        </td><td>1.097890e-06      </td><td>2.305887e-02      </td><td>0.28690383        </td><td>2.01085526        </td></tr>\n",
       "\t<tr><th scope=row>47</th><td>lymphoid_neoplasm </td><td>AEW541            </td><td>0.9711670         </td><td>0.4040275         </td><td>0.9854781         </td><td>0.6356316         </td><td>1.175699e-17      </td><td>1.249707e-01      </td><td>0.9337945         </td><td> 0.3214286        </td><td>3.134566e-06      </td><td>4.976190e-01      </td><td>0.60847166        </td><td>1.71183867        </td></tr>\n",
       "\t<tr><th scope=row>71</th><td>lymphoid_neoplasm </td><td>AEW541            </td><td>0.9711670         </td><td>0.4040275         </td><td>0.9854781         </td><td>0.6356316         </td><td>1.175699e-17      </td><td>1.249707e-01      </td><td>0.9337945         </td><td> 0.3214286        </td><td>3.134566e-06      </td><td>4.976190e-01      </td><td>0.60847166        </td><td>1.71183867        </td></tr>\n",
       "\t<tr><th scope=row>2</th><td>carcinoma         </td><td>PD-0325901        </td><td>0.8631104         </td><td>0.3565987         </td><td>0.9290373         </td><td>0.5971588         </td><td>2.264054e-42      </td><td>4.747030e-05      </td><td>0.8386327         </td><td> 0.4795497        </td><td>0.000000e+00      </td><td>1.957565e-03      </td><td>0.95475976        </td><td>1.81196807        </td></tr>\n",
       "\t<tr><th scope=row>22</th><td>carcinoma         </td><td>PD-0325901        </td><td>0.8631104         </td><td>0.3565987         </td><td>0.9290373         </td><td>0.5971588         </td><td>2.264054e-42      </td><td>4.747030e-05      </td><td>0.8386327         </td><td> 0.4795497        </td><td>0.000000e+00      </td><td>1.957565e-03      </td><td>0.95475976        </td><td>1.81196807        </td></tr>\n",
       "\t<tr><th scope=row>48</th><td>carcinoma         </td><td>PD-0325901        </td><td>0.8631104         </td><td>0.3565987         </td><td>0.9290373         </td><td>0.5971588         </td><td>2.264054e-42      </td><td>4.747030e-05      </td><td>0.8386327         </td><td> 0.4795497        </td><td>0.000000e+00      </td><td>1.957565e-03      </td><td>0.95475976        </td><td>1.81196807        </td></tr>\n",
       "\t<tr><th scope=row>49</th><td>lymphoid_neoplasm </td><td>L-685458          </td><td>0.9918531         </td><td>0.3333984         </td><td>0.9959182         </td><td>0.5774066         </td><td>4.371858e-17      </td><td>8.047972e-02      </td><td>0.9779412         </td><td> 0.5757576        </td><td>6.127125e-06      </td><td>8.776804e-02      </td><td>0.47769735        </td><td>1.97902270        </td></tr>\n",
       "\t<tr><th scope=row>72</th><td>lymphoid_neoplasm </td><td>L-685458          </td><td>0.9918531         </td><td>0.3333984         </td><td>0.9959182         </td><td>0.5774066         </td><td>4.371858e-17      </td><td>8.047972e-02      </td><td>0.9779412         </td><td> 0.5757576        </td><td>6.127125e-06      </td><td>8.776804e-02      </td><td>0.47769735        </td><td>1.97902270        </td></tr>\n",
       "\t<tr><th scope=row>73</th><td>malignant_melanoma</td><td>RAF265            </td><td>0.8867807         </td><td>0.3306640         </td><td>0.9416903         </td><td>0.5750339         </td><td>2.116112e-11      </td><td>1.052727e-01      </td><td>0.8211462         </td><td> 0.4333333        </td><td>2.374892e-06      </td><td>2.499173e-01      </td><td>0.63005405        </td><td>2.20011947        </td></tr>\n",
       "\t<tr><th scope=row>74</th><td>malignant_melanoma</td><td>AZD6244           </td><td>0.9871107         </td><td>0.2777712         </td><td>0.9935345         </td><td>0.5270400         </td><td>2.243061e-20      </td><td>3.614616e-01      </td><td>0.9390175         </td><td>-0.4000000        </td><td>4.088085e-06      </td><td>5.166667e-01      </td><td>0.14479403        </td><td>0.60219942        </td></tr>\n",
       "\t<tr><th scope=row>23</th><td>glioma            </td><td>TAE684            </td><td>0.9299204         </td><td>0.2733925         </td><td>0.9643238         </td><td>0.5228695         </td><td>4.286882e-07      </td><td>1.836500e-01      </td><td>0.9370629         </td><td> 0.4285714        </td><td>0.000000e+00      </td><td>2.992063e-01      </td><td>0.64607087        </td><td>1.08950849        </td></tr>\n",
       "\t<tr><th scope=row>3</th><td>carcinoma         </td><td>AZD0530           </td><td>0.9941643         </td><td>0.2543641         </td><td>0.9970779         </td><td>0.5043452         </td><td>2.705910e-83      </td><td>1.457953e-03      </td><td>0.9972973         </td><td> 0.4274538        </td><td>0.000000e+00      </td><td>8.819042e-03      </td><td>0.42358572        </td><td>2.09751442        </td></tr>\n",
       "\t<tr><th scope=row>24</th><td>carcinoma         </td><td>AZD0530           </td><td>0.9941643         </td><td>0.2543641         </td><td>0.9970779         </td><td>0.5043452         </td><td>2.705910e-83      </td><td>1.457953e-03      </td><td>0.9972973         </td><td> 0.4274538        </td><td>0.000000e+00      </td><td>8.819042e-03      </td><td>0.42358572        </td><td>2.09751442        </td></tr>\n",
       "\t<tr><th scope=row>...</th><td>...</td><td>...</td><td>...</td><td>...</td><td>...</td><td>...</td><td>...</td><td>...</td><td>...</td><td>...</td><td>...</td><td>...</td><td>...</td><td>...</td></tr>\n",
       "\t<tr><th scope=row>53</th><td>carcinoma        </td><td>Topotecan        </td><td>0.9620180        </td><td>0.1403583226     </td><td>0.9808252        </td><td> 0.37464426      </td><td>6.161809e-127    </td><td>0.0002157892     </td><td>0.9472152        </td><td> 0.40644863      </td><td>0.000000e+00     </td><td>6.122528e-05     </td><td>0.44728634       </td><td>1.0719017        </td></tr>\n",
       "\t<tr><th scope=row>10</th><td>carcinoma        </td><td>TKI258           </td><td>0.9839114        </td><td>0.1393337282     </td><td>0.9919231        </td><td> 0.37327433      </td><td> 2.144321e-92    </td><td>0.0209832180     </td><td>0.9879629        </td><td> 0.32618448      </td><td>0.000000e+00     </td><td>4.617518e-02     </td><td>0.61384011       </td><td>2.0448076        </td></tr>\n",
       "\t<tr><th scope=row>30</th><td>carcinoma        </td><td>TKI258           </td><td>0.9839114        </td><td>0.1393337282     </td><td>0.9919231        </td><td> 0.37327433      </td><td> 2.144321e-92    </td><td>0.0209832180     </td><td>0.9879629        </td><td> 0.32618448      </td><td>0.000000e+00     </td><td>4.617518e-02     </td><td>0.61384011       </td><td>2.0448076        </td></tr>\n",
       "\t<tr><th scope=row>11</th><td>carcinoma        </td><td>ZD-6474          </td><td>0.8778154        </td><td>0.1339757667     </td><td>0.9369180        </td><td> 0.36602700      </td><td> 4.176427e-40    </td><td>0.0508452851     </td><td>0.9403557        </td><td> 0.32660099      </td><td>0.000000e+00     </td><td>8.419118e-02     </td><td>0.98838309       </td><td>1.3195856        </td></tr>\n",
       "\t<tr><th scope=row>31</th><td>carcinoma        </td><td>ZD-6474          </td><td>0.8778154        </td><td>0.1339757667     </td><td>0.9369180        </td><td> 0.36602700      </td><td> 4.176427e-40    </td><td>0.0508452851     </td><td>0.9403557        </td><td> 0.32660099      </td><td>0.000000e+00     </td><td>8.419118e-02     </td><td>0.98838309       </td><td>1.3195856        </td></tr>\n",
       "\t<tr><th scope=row>54</th><td>lymphoid_neoplasm</td><td>TKI258           </td><td>0.9477494        </td><td>0.1201075090     </td><td>0.9735242        </td><td> 0.34656530      </td><td> 2.738321e-14    </td><td>0.2697673840     </td><td>0.9728967        </td><td> 0.37062937      </td><td>3.365608e-06     </td><td>2.367322e-01     </td><td>0.62755998       </td><td>1.5644181        </td></tr>\n",
       "\t<tr><th scope=row>12</th><td>carcinoma        </td><td>Nilotinib        </td><td>0.9623475        </td><td>0.1161049392     </td><td>0.9809931        </td><td> 0.34074175      </td><td> 2.952570e-32    </td><td>0.1807752021     </td><td>0.9753623        </td><td> 0.33333333      </td><td>0.000000e+00     </td><td>1.909648e-01     </td><td>0.68700803       </td><td>1.6657297        </td></tr>\n",
       "\t<tr><th scope=row>32</th><td>carcinoma        </td><td>Nilotinib        </td><td>0.9623475        </td><td>0.1161049392     </td><td>0.9809931        </td><td> 0.34074175      </td><td> 2.952570e-32    </td><td>0.1807752021     </td><td>0.9753623        </td><td> 0.33333333      </td><td>0.000000e+00     </td><td>1.909648e-01     </td><td>0.68700803       </td><td>1.6657297        </td></tr>\n",
       "\t<tr><th scope=row>55</th><td>lymphoid_neoplasm</td><td>TAE684           </td><td>0.9434050        </td><td>0.0667534830     </td><td>0.9712904        </td><td> 0.25836695      </td><td> 6.098893e-14    </td><td>0.3524935054     </td><td>0.8949746        </td><td> 0.38571429      </td><td>3.301521e-06     </td><td>1.565277e-01     </td><td>0.35971831       </td><td>2.4215095        </td></tr>\n",
       "\t<tr><th scope=row>13</th><td>carcinoma        </td><td>Sorafenib        </td><td>0.9119733        </td><td>0.0525044213     </td><td>0.9549729        </td><td> 0.22913843      </td><td> 7.557337e-25    </td><td>0.3603949534     </td><td>0.9206907        </td><td> 0.24251806      </td><td>0.000000e+00     </td><td>3.308037e-01     </td><td>1.05521474       </td><td>1.9506757        </td></tr>\n",
       "\t<tr><th scope=row>33</th><td>carcinoma        </td><td>Sorafenib        </td><td>0.9119733        </td><td>0.0525044213     </td><td>0.9549729        </td><td> 0.22913843      </td><td> 7.557337e-25    </td><td>0.3603949534     </td><td>0.9206907        </td><td> 0.24251806      </td><td>0.000000e+00     </td><td>3.308037e-01     </td><td>1.05521474       </td><td>1.9506757        </td></tr>\n",
       "\t<tr><th scope=row>14</th><td>carcinoma        </td><td>PF2341066        </td><td>0.9712354        </td><td>0.0480494873     </td><td>0.9855128        </td><td> 0.21920193      </td><td> 1.863791e-56    </td><td>0.3821570265     </td><td>0.9844811        </td><td> 0.16821465      </td><td>0.000000e+00     </td><td>5.032006e-01     </td><td>0.78692949       </td><td>1.9830247        </td></tr>\n",
       "\t<tr><th scope=row>34</th><td>carcinoma        </td><td>PF2341066        </td><td>0.9712354        </td><td>0.0480494873     </td><td>0.9855128        </td><td> 0.21920193      </td><td> 1.863791e-56    </td><td>0.3821570265     </td><td>0.9844811        </td><td> 0.16821465      </td><td>0.000000e+00     </td><td>5.032006e-01     </td><td>0.78692949       </td><td>1.9830247        </td></tr>\n",
       "\t<tr><th scope=row>15</th><td>carcinoma        </td><td>Paclitaxel       </td><td>0.8727122        </td><td>0.0219351361     </td><td>0.9341907        </td><td> 0.14810515      </td><td> 1.432824e-90    </td><td>0.2211083182     </td><td>0.5579205        </td><td> 0.03678684      </td><td>9.296642e-18     </td><td>7.623919e-01     </td><td>0.03766805       </td><td>0.3208643        </td></tr>\n",
       "\t<tr><th scope=row>35</th><td>carcinoma        </td><td>Paclitaxel       </td><td>0.8727122        </td><td>0.0219351361     </td><td>0.9341907        </td><td> 0.14810515      </td><td> 1.432824e-90    </td><td>0.2211083182     </td><td>0.5579205        </td><td> 0.03678684      </td><td>9.296642e-18     </td><td>7.623919e-01     </td><td>0.03766805       </td><td>0.3208643        </td></tr>\n",
       "\t<tr><th scope=row>56</th><td>carcinoma        </td><td>Paclitaxel       </td><td>0.8727122        </td><td>0.0219351361     </td><td>0.9341907        </td><td> 0.14810515      </td><td> 1.432824e-90    </td><td>0.2211083182     </td><td>0.5579205        </td><td> 0.03678684      </td><td>9.296642e-18     </td><td>7.623919e-01     </td><td>0.03766805       </td><td>0.3208643        </td></tr>\n",
       "\t<tr><th scope=row>57</th><td>lymphoid_neoplasm</td><td>Nilotinib        </td><td>0.7547675        </td><td>0.0150654913     </td><td>0.8687735        </td><td> 0.12274156      </td><td> 5.186191e-04    </td><td>0.7355114390     </td><td>0.8818182        </td><td> 0.04242424      </td><td>6.682901e-04     </td><td>9.186333e-01     </td><td>1.08110738       </td><td>2.7880527        </td></tr>\n",
       "\t<tr><th scope=row>78</th><td>lymphoid_neoplasm</td><td>Nilotinib        </td><td>0.7547675        </td><td>0.0150654913     </td><td>0.8687735        </td><td> 0.12274156      </td><td> 5.186191e-04    </td><td>0.7355114390     </td><td>0.8818182        </td><td> 0.04242424      </td><td>6.682901e-04     </td><td>9.186333e-01     </td><td>1.08110738       </td><td>2.7880527        </td></tr>\n",
       "\t<tr><th scope=row>16</th><td>carcinoma        </td><td>LBW242           </td><td>0.9856181        </td><td>0.0129554379     </td><td>0.9927830        </td><td> 0.11382196      </td><td> 2.318239e-13    </td><td>0.8080190985     </td><td>0.9178571        </td><td> 0.07142857      </td><td>0.000000e+00     </td><td>9.063492e-01     </td><td>0.55195171       </td><td>2.0120240        </td></tr>\n",
       "\t<tr><th scope=row>36</th><td>carcinoma        </td><td>LBW242           </td><td>0.9856181        </td><td>0.0129554379     </td><td>0.9927830        </td><td> 0.11382196      </td><td> 2.318239e-13    </td><td>0.8080190985     </td><td>0.9178571        </td><td> 0.07142857      </td><td>0.000000e+00     </td><td>9.063492e-01     </td><td>0.55195171       </td><td>2.0120240        </td></tr>\n",
       "\t<tr><th scope=row>58</th><td>carcinoma        </td><td>LBW242           </td><td>0.9856181        </td><td>0.0129554379     </td><td>0.9927830        </td><td> 0.11382196      </td><td> 2.318239e-13    </td><td>0.8080190985     </td><td>0.9178571        </td><td> 0.07142857      </td><td>0.000000e+00     </td><td>9.063492e-01     </td><td>0.55195171       </td><td>2.0120240        </td></tr>\n",
       "\t<tr><th scope=row>79</th><td>carcinoma        </td><td>LBW242           </td><td>0.9856181        </td><td>0.0129554379     </td><td>0.9927830        </td><td> 0.11382196      </td><td> 2.318239e-13    </td><td>0.8080190985     </td><td>0.9178571        </td><td> 0.07142857      </td><td>0.000000e+00     </td><td>9.063492e-01     </td><td>0.55195171       </td><td>2.0120240        </td></tr>\n",
       "\t<tr><th scope=row>17</th><td>carcinoma        </td><td>PLX4720          </td><td>0.9825608        </td><td>0.0109769737     </td><td>0.9912421        </td><td> 0.10477105      </td><td> 8.125569e-13    </td><td>0.8049871266     </td><td>0.9714286        </td><td> 0.07142857      </td><td>0.000000e+00     </td><td>8.819940e-01     </td><td>0.44664939       </td><td>2.0465880        </td></tr>\n",
       "\t<tr><th scope=row>37</th><td>carcinoma        </td><td>PLX4720          </td><td>0.9825608        </td><td>0.0109769737     </td><td>0.9912421        </td><td> 0.10477105      </td><td> 8.125569e-13    </td><td>0.8049871266     </td><td>0.9714286        </td><td> 0.07142857      </td><td>0.000000e+00     </td><td>8.819940e-01     </td><td>0.44664939       </td><td>2.0465880        </td></tr>\n",
       "\t<tr><th scope=row>59</th><td>carcinoma        </td><td>PLX4720          </td><td>0.9825608        </td><td>0.0109769737     </td><td>0.9912421        </td><td> 0.10477105      </td><td> 8.125569e-13    </td><td>0.8049871266     </td><td>0.9714286        </td><td> 0.07142857      </td><td>0.000000e+00     </td><td>8.819940e-01     </td><td>0.44664939       </td><td>2.0465880        </td></tr>\n",
       "\t<tr><th scope=row>18</th><td>carcinoma        </td><td>RAF265           </td><td>0.9618012        </td><td>0.0018643767     </td><td>0.9807146        </td><td> 0.04317843      </td><td>7.402967e-102    </td><td>0.7588499871     </td><td>0.9740307        </td><td>-0.12602806      </td><td>0.000000e+00     </td><td>3.674734e-01     </td><td>0.71807347       </td><td>2.0123818        </td></tr>\n",
       "\t<tr><th scope=row>38</th><td>carcinoma        </td><td>RAF265           </td><td>0.9618012        </td><td>0.0018643767     </td><td>0.9807146        </td><td> 0.04317843      </td><td>7.402967e-102    </td><td>0.7588499871     </td><td>0.9740307        </td><td>-0.12602806      </td><td>0.000000e+00     </td><td>3.674734e-01     </td><td>0.71807347       </td><td>2.0123818        </td></tr>\n",
       "\t<tr><th scope=row>19</th><td>carcinoma        </td><td>AZD6244          </td><td>0.9196798        </td><td>0.0001636806     </td><td>0.9589994        </td><td>-0.01279377      </td><td> 6.198448e-28    </td><td>0.9537986145     </td><td>0.8866747        </td><td> 0.07411067      </td><td>0.000000e+00     </td><td>7.363882e-01     </td><td>1.00916401       </td><td>1.7565118        </td></tr>\n",
       "\t<tr><th scope=row>39</th><td>carcinoma        </td><td>AZD6244          </td><td>0.9196798        </td><td>0.0001636806     </td><td>0.9589994        </td><td>-0.01279377      </td><td> 6.198448e-28    </td><td>0.9537986145     </td><td>0.8866747        </td><td> 0.07411067      </td><td>0.000000e+00     </td><td>7.363882e-01     </td><td>1.00916401       </td><td>1.7565118        </td></tr>\n",
       "\t<tr><th scope=row>60</th><td>carcinoma        </td><td>AZD6244          </td><td>0.9196798        </td><td>0.0001636806     </td><td>0.9589994        </td><td>-0.01279377      </td><td> 6.198448e-28    </td><td>0.9537986145     </td><td>0.8866747        </td><td> 0.07411067      </td><td>0.000000e+00     </td><td>7.363882e-01     </td><td>1.00916401       </td><td>1.7565118        </td></tr>\n",
       "</tbody>\n",
       "</table>\n"
      ],
      "text/latex": [
       "\\begin{tabular}{r|llllllllllllll}\n",
       "  & Tissue & Drug & R\\_Square\\_Train & R\\_Square\\_Test & Pearson\\_Correlation\\_Train & Pearson\\_Correlation\\_Test & Pearson\\_Correlation\\_P\\_Value\\_Train & Pearson\\_Correlation\\_P\\_Value\\_Test & Spearman\\_Correlation\\_Train & Spearman\\_Correlation\\_Test & Spearman\\_Correlation\\_P\\_Value\\_Train & Spearman\\_Correlation\\_P\\_Value\\_Test & RMSE\\_Train & RMSE\\_Test\\\\\n",
       "\\hline\n",
       "\t61 & malignant\\_melanoma & PD-0325901           & 0.9836919            & 0.9824992            & 0.9918124            & 0.9912110            & 2.945466e-20         & 3.233507e-09         & 0.7915020            &  0.6545455           & 9.936846e-06         & 3.382516e-02         & 0.46811529           & 1.47291324          \\\\\n",
       "\t62 & malignant\\_melanoma & TAE684               & 0.9952296            & 0.7650353            & 0.9976119            & 0.8746629            & 1.770668e-16         & 9.973576e-03         & 1.0000000            &  0.5714286           & 0.000000e+00         & 2.000000e-01         & 0.29807027           & 1.45761024          \\\\\n",
       "\t41 & lymphoid\\_neoplasm  & ZD-6474              & 0.9183455            & 0.7124126            & 0.9583034            & 0.8440454            & 1.454670e-09         & 7.217745e-02         & 0.9485294            &  0.6000000           & 0.000000e+00         & 3.500000e-01         & 0.91164409           & 1.07816237          \\\\\n",
       "\t63 & lymphoid\\_neoplasm  & ZD-6474              & 0.9183455            & 0.7124126            & 0.9583034            & 0.8440454            & 1.454670e-09         & 7.217745e-02         & 0.9485294            &  0.6000000           & 0.000000e+00         & 3.500000e-01         & 0.91164409           & 1.07816237          \\\\\n",
       "\t64 & malignant\\_melanoma & Topotecan            & 0.9976577            & 0.6892224            & 0.9988282            & 0.8301942            & 4.708834e-37         & 1.073452e-02         & 0.9788177            &  0.6904762           & 0.000000e+00         & 6.939484e-02         & 0.19339455           & 0.70201691          \\\\\n",
       "\t65 & malignant\\_melanoma & TKI258               & 0.9581439            & 0.6223292            & 0.9788483            & 0.7888784            & 1.235382e-09         & 6.215338e-02         & 0.9736264            &  0.7714286           & 0.000000e+00         & 1.027778e-01         & 0.70567654           & 1.01726305          \\\\\n",
       "\t66 & malignant\\_melanoma & PLX4720              & 0.9894064            & 0.5865916            & 0.9946891            & 0.7658927            & 3.128129e-18         & 7.579407e-02         & 0.9701754            &  0.7714286           & 7.828777e-06         & 1.027778e-01         & 0.32687348           & 1.78659132          \\\\\n",
       "\t67 & malignant\\_melanoma & Paclitaxel           & 0.8080448            & 0.5056363            & 0.8989131            & 0.7110810            & 1.910563e-10         & 2.113541e-02         & 0.7582101            &  0.6242424           & 4.612941e-06         & 6.024898e-02         & 0.01225853           & 0.03983201          \\\\\n",
       "\t42 & lymphoid\\_neoplasm  & PD-0332991           & 0.9759898            & 0.4812000            & 0.9879220            & 0.6936858            & 2.600052e-19         & 2.608660e-02         & 0.9869565            &  0.7818182           & 1.000364e-06         & 1.165127e-02         & 0.70689412           & 1.81084842          \\\\\n",
       "\t68 & lymphoid\\_neoplasm  & PD-0332991           & 0.9759898            & 0.4812000            & 0.9879220            & 0.6936858            & 2.600052e-19         & 2.608660e-02         & 0.9869565            &  0.7818182           & 1.000364e-06         & 1.165127e-02         & 0.70689412           & 1.81084842          \\\\\n",
       "\t43 & lymphoid\\_neoplasm  & Sorafenib            & 0.9953453            & 0.4755651            & 0.9976699            & 0.6896123            & 8.431031e-25         & 1.295593e-01         & 0.9909656            &  0.7142857           & 2.759073e-06         & 1.361111e-01         & 0.31903558           & 1.45681222          \\\\\n",
       "\t69 & lymphoid\\_neoplasm  & Sorafenib            & 0.9953453            & 0.4755651            & 0.9976699            & 0.6896123            & 8.431031e-25         & 1.295593e-01         & 0.9909656            &  0.7142857           & 2.759073e-06         & 1.361111e-01         & 0.31903558           & 1.45681222          \\\\\n",
       "\t44 & lymphoid\\_neoplasm  & PF2341066            & 0.9655353            & 0.4484944            & 0.9826165            & 0.6696973            & 2.530256e-18         & 1.719994e-02         & 0.9884615            &  0.6573427           & 4.845506e-07         & 2.398108e-02         & 0.73565148           & 1.60938588          \\\\\n",
       "\t70 & lymphoid\\_neoplasm  & PF2341066            & 0.9655353            & 0.4484944            & 0.9826165            & 0.6696973            & 2.530256e-18         & 1.719994e-02         & 0.9884615            &  0.6573427           & 4.845506e-07         & 2.398108e-02         & 0.73565148           & 1.60938588          \\\\\n",
       "\t1 & carcinoma          & 17-AAG             & 0.7932139          & 0.4261325          & 0.8906255          & 0.6527883          & 2.253052e-70       & 1.248326e-10       & 0.7492831          &  0.4986592         & 0.000000e+00       & 5.321177e-06       & 0.24650466         & 0.48248954        \\\\\n",
       "\t21 & carcinoma          & 17-AAG             & 0.7932139          & 0.4261325          & 0.8906255          & 0.6527883          & 2.253052e-70       & 1.248326e-10       & 0.7492831          &  0.4986592         & 0.000000e+00       & 5.321177e-06       & 0.24650466         & 0.48248954        \\\\\n",
       "\t45 & carcinoma          & 17-AAG             & 0.7932139          & 0.4261325          & 0.8906255          & 0.6527883          & 2.253052e-70       & 1.248326e-10       & 0.7492831          &  0.4986592         & 0.000000e+00       & 5.321177e-06       & 0.24650466         & 0.48248954        \\\\\n",
       "\t46 & lymphoid\\_neoplasm  & RAF265               & 0.9971562            & 0.4254815            & 0.9985771            & 0.6522894            & 1.656467e-29         & 2.961283e-02         & 0.9826087            &  0.6909091           & 1.097890e-06         & 2.305887e-02         & 0.28690383           & 2.01085526          \\\\\n",
       "\t47 & lymphoid\\_neoplasm  & AEW541               & 0.9711670            & 0.4040275            & 0.9854781            & 0.6356316            & 1.175699e-17         & 1.249707e-01         & 0.9337945            &  0.3214286           & 3.134566e-06         & 4.976190e-01         & 0.60847166           & 1.71183867          \\\\\n",
       "\t71 & lymphoid\\_neoplasm  & AEW541               & 0.9711670            & 0.4040275            & 0.9854781            & 0.6356316            & 1.175699e-17         & 1.249707e-01         & 0.9337945            &  0.3214286           & 3.134566e-06         & 4.976190e-01         & 0.60847166           & 1.71183867          \\\\\n",
       "\t2 & carcinoma          & PD-0325901         & 0.8631104          & 0.3565987          & 0.9290373          & 0.5971588          & 2.264054e-42       & 4.747030e-05       & 0.8386327          &  0.4795497         & 0.000000e+00       & 1.957565e-03       & 0.95475976         & 1.81196807        \\\\\n",
       "\t22 & carcinoma          & PD-0325901         & 0.8631104          & 0.3565987          & 0.9290373          & 0.5971588          & 2.264054e-42       & 4.747030e-05       & 0.8386327          &  0.4795497         & 0.000000e+00       & 1.957565e-03       & 0.95475976         & 1.81196807        \\\\\n",
       "\t48 & carcinoma          & PD-0325901         & 0.8631104          & 0.3565987          & 0.9290373          & 0.5971588          & 2.264054e-42       & 4.747030e-05       & 0.8386327          &  0.4795497         & 0.000000e+00       & 1.957565e-03       & 0.95475976         & 1.81196807        \\\\\n",
       "\t49 & lymphoid\\_neoplasm  & L-685458             & 0.9918531            & 0.3333984            & 0.9959182            & 0.5774066            & 4.371858e-17         & 8.047972e-02         & 0.9779412            &  0.5757576           & 6.127125e-06         & 8.776804e-02         & 0.47769735           & 1.97902270          \\\\\n",
       "\t72 & lymphoid\\_neoplasm  & L-685458             & 0.9918531            & 0.3333984            & 0.9959182            & 0.5774066            & 4.371858e-17         & 8.047972e-02         & 0.9779412            &  0.5757576           & 6.127125e-06         & 8.776804e-02         & 0.47769735           & 1.97902270          \\\\\n",
       "\t73 & malignant\\_melanoma & RAF265               & 0.8867807            & 0.3306640            & 0.9416903            & 0.5750339            & 2.116112e-11         & 1.052727e-01         & 0.8211462            &  0.4333333           & 2.374892e-06         & 2.499173e-01         & 0.63005405           & 2.20011947          \\\\\n",
       "\t74 & malignant\\_melanoma & AZD6244              & 0.9871107            & 0.2777712            & 0.9935345            & 0.5270400            & 2.243061e-20         & 3.614616e-01         & 0.9390175            & -0.4000000           & 4.088085e-06         & 5.166667e-01         & 0.14479403           & 0.60219942          \\\\\n",
       "\t23 & glioma             & TAE684             & 0.9299204          & 0.2733925          & 0.9643238          & 0.5228695          & 4.286882e-07       & 1.836500e-01       & 0.9370629          &  0.4285714         & 0.000000e+00       & 2.992063e-01       & 0.64607087         & 1.08950849        \\\\\n",
       "\t3 & carcinoma          & AZD0530            & 0.9941643          & 0.2543641          & 0.9970779          & 0.5043452          & 2.705910e-83       & 1.457953e-03       & 0.9972973          &  0.4274538         & 0.000000e+00       & 8.819042e-03       & 0.42358572         & 2.09751442        \\\\\n",
       "\t24 & carcinoma          & AZD0530            & 0.9941643          & 0.2543641          & 0.9970779          & 0.5043452          & 2.705910e-83       & 1.457953e-03       & 0.9972973          &  0.4274538         & 0.000000e+00       & 8.819042e-03       & 0.42358572         & 2.09751442        \\\\\n",
       "\t... & ... & ... & ... & ... & ... & ... & ... & ... & ... & ... & ... & ... & ... & ...\\\\\n",
       "\t53 & carcinoma         & Topotecan         & 0.9620180         & 0.1403583226      & 0.9808252         &  0.37464426       & 6.161809e-127     & 0.0002157892      & 0.9472152         &  0.40644863       & 0.000000e+00      & 6.122528e-05      & 0.44728634        & 1.0719017        \\\\\n",
       "\t10 & carcinoma         & TKI258            & 0.9839114         & 0.1393337282      & 0.9919231         &  0.37327433       &  2.144321e-92     & 0.0209832180      & 0.9879629         &  0.32618448       & 0.000000e+00      & 4.617518e-02      & 0.61384011        & 2.0448076        \\\\\n",
       "\t30 & carcinoma         & TKI258            & 0.9839114         & 0.1393337282      & 0.9919231         &  0.37327433       &  2.144321e-92     & 0.0209832180      & 0.9879629         &  0.32618448       & 0.000000e+00      & 4.617518e-02      & 0.61384011        & 2.0448076        \\\\\n",
       "\t11 & carcinoma         & ZD-6474           & 0.8778154         & 0.1339757667      & 0.9369180         &  0.36602700       &  4.176427e-40     & 0.0508452851      & 0.9403557         &  0.32660099       & 0.000000e+00      & 8.419118e-02      & 0.98838309        & 1.3195856        \\\\\n",
       "\t31 & carcinoma         & ZD-6474           & 0.8778154         & 0.1339757667      & 0.9369180         &  0.36602700       &  4.176427e-40     & 0.0508452851      & 0.9403557         &  0.32660099       & 0.000000e+00      & 8.419118e-02      & 0.98838309        & 1.3195856        \\\\\n",
       "\t54 & lymphoid\\_neoplasm & TKI258              & 0.9477494           & 0.1201075090        & 0.9735242           &  0.34656530         &  2.738321e-14       & 0.2697673840        & 0.9728967           &  0.37062937         & 3.365608e-06        & 2.367322e-01        & 0.62755998          & 1.5644181          \\\\\n",
       "\t12 & carcinoma         & Nilotinib         & 0.9623475         & 0.1161049392      & 0.9809931         &  0.34074175       &  2.952570e-32     & 0.1807752021      & 0.9753623         &  0.33333333       & 0.000000e+00      & 1.909648e-01      & 0.68700803        & 1.6657297        \\\\\n",
       "\t32 & carcinoma         & Nilotinib         & 0.9623475         & 0.1161049392      & 0.9809931         &  0.34074175       &  2.952570e-32     & 0.1807752021      & 0.9753623         &  0.33333333       & 0.000000e+00      & 1.909648e-01      & 0.68700803        & 1.6657297        \\\\\n",
       "\t55 & lymphoid\\_neoplasm & TAE684              & 0.9434050           & 0.0667534830        & 0.9712904           &  0.25836695         &  6.098893e-14       & 0.3524935054        & 0.8949746           &  0.38571429         & 3.301521e-06        & 1.565277e-01        & 0.35971831          & 2.4215095          \\\\\n",
       "\t13 & carcinoma         & Sorafenib         & 0.9119733         & 0.0525044213      & 0.9549729         &  0.22913843       &  7.557337e-25     & 0.3603949534      & 0.9206907         &  0.24251806       & 0.000000e+00      & 3.308037e-01      & 1.05521474        & 1.9506757        \\\\\n",
       "\t33 & carcinoma         & Sorafenib         & 0.9119733         & 0.0525044213      & 0.9549729         &  0.22913843       &  7.557337e-25     & 0.3603949534      & 0.9206907         &  0.24251806       & 0.000000e+00      & 3.308037e-01      & 1.05521474        & 1.9506757        \\\\\n",
       "\t14 & carcinoma         & PF2341066         & 0.9712354         & 0.0480494873      & 0.9855128         &  0.21920193       &  1.863791e-56     & 0.3821570265      & 0.9844811         &  0.16821465       & 0.000000e+00      & 5.032006e-01      & 0.78692949        & 1.9830247        \\\\\n",
       "\t34 & carcinoma         & PF2341066         & 0.9712354         & 0.0480494873      & 0.9855128         &  0.21920193       &  1.863791e-56     & 0.3821570265      & 0.9844811         &  0.16821465       & 0.000000e+00      & 5.032006e-01      & 0.78692949        & 1.9830247        \\\\\n",
       "\t15 & carcinoma         & Paclitaxel        & 0.8727122         & 0.0219351361      & 0.9341907         &  0.14810515       &  1.432824e-90     & 0.2211083182      & 0.5579205         &  0.03678684       & 9.296642e-18      & 7.623919e-01      & 0.03766805        & 0.3208643        \\\\\n",
       "\t35 & carcinoma         & Paclitaxel        & 0.8727122         & 0.0219351361      & 0.9341907         &  0.14810515       &  1.432824e-90     & 0.2211083182      & 0.5579205         &  0.03678684       & 9.296642e-18      & 7.623919e-01      & 0.03766805        & 0.3208643        \\\\\n",
       "\t56 & carcinoma         & Paclitaxel        & 0.8727122         & 0.0219351361      & 0.9341907         &  0.14810515       &  1.432824e-90     & 0.2211083182      & 0.5579205         &  0.03678684       & 9.296642e-18      & 7.623919e-01      & 0.03766805        & 0.3208643        \\\\\n",
       "\t57 & lymphoid\\_neoplasm & Nilotinib           & 0.7547675           & 0.0150654913        & 0.8687735           &  0.12274156         &  5.186191e-04       & 0.7355114390        & 0.8818182           &  0.04242424         & 6.682901e-04        & 9.186333e-01        & 1.08110738          & 2.7880527          \\\\\n",
       "\t78 & lymphoid\\_neoplasm & Nilotinib           & 0.7547675           & 0.0150654913        & 0.8687735           &  0.12274156         &  5.186191e-04       & 0.7355114390        & 0.8818182           &  0.04242424         & 6.682901e-04        & 9.186333e-01        & 1.08110738          & 2.7880527          \\\\\n",
       "\t16 & carcinoma         & LBW242            & 0.9856181         & 0.0129554379      & 0.9927830         &  0.11382196       &  2.318239e-13     & 0.8080190985      & 0.9178571         &  0.07142857       & 0.000000e+00      & 9.063492e-01      & 0.55195171        & 2.0120240        \\\\\n",
       "\t36 & carcinoma         & LBW242            & 0.9856181         & 0.0129554379      & 0.9927830         &  0.11382196       &  2.318239e-13     & 0.8080190985      & 0.9178571         &  0.07142857       & 0.000000e+00      & 9.063492e-01      & 0.55195171        & 2.0120240        \\\\\n",
       "\t58 & carcinoma         & LBW242            & 0.9856181         & 0.0129554379      & 0.9927830         &  0.11382196       &  2.318239e-13     & 0.8080190985      & 0.9178571         &  0.07142857       & 0.000000e+00      & 9.063492e-01      & 0.55195171        & 2.0120240        \\\\\n",
       "\t79 & carcinoma         & LBW242            & 0.9856181         & 0.0129554379      & 0.9927830         &  0.11382196       &  2.318239e-13     & 0.8080190985      & 0.9178571         &  0.07142857       & 0.000000e+00      & 9.063492e-01      & 0.55195171        & 2.0120240        \\\\\n",
       "\t17 & carcinoma         & PLX4720           & 0.9825608         & 0.0109769737      & 0.9912421         &  0.10477105       &  8.125569e-13     & 0.8049871266      & 0.9714286         &  0.07142857       & 0.000000e+00      & 8.819940e-01      & 0.44664939        & 2.0465880        \\\\\n",
       "\t37 & carcinoma         & PLX4720           & 0.9825608         & 0.0109769737      & 0.9912421         &  0.10477105       &  8.125569e-13     & 0.8049871266      & 0.9714286         &  0.07142857       & 0.000000e+00      & 8.819940e-01      & 0.44664939        & 2.0465880        \\\\\n",
       "\t59 & carcinoma         & PLX4720           & 0.9825608         & 0.0109769737      & 0.9912421         &  0.10477105       &  8.125569e-13     & 0.8049871266      & 0.9714286         &  0.07142857       & 0.000000e+00      & 8.819940e-01      & 0.44664939        & 2.0465880        \\\\\n",
       "\t18 & carcinoma         & RAF265            & 0.9618012         & 0.0018643767      & 0.9807146         &  0.04317843       & 7.402967e-102     & 0.7588499871      & 0.9740307         & -0.12602806       & 0.000000e+00      & 3.674734e-01      & 0.71807347        & 2.0123818        \\\\\n",
       "\t38 & carcinoma         & RAF265            & 0.9618012         & 0.0018643767      & 0.9807146         &  0.04317843       & 7.402967e-102     & 0.7588499871      & 0.9740307         & -0.12602806       & 0.000000e+00      & 3.674734e-01      & 0.71807347        & 2.0123818        \\\\\n",
       "\t19 & carcinoma         & AZD6244           & 0.9196798         & 0.0001636806      & 0.9589994         & -0.01279377       &  6.198448e-28     & 0.9537986145      & 0.8866747         &  0.07411067       & 0.000000e+00      & 7.363882e-01      & 1.00916401        & 1.7565118        \\\\\n",
       "\t39 & carcinoma         & AZD6244           & 0.9196798         & 0.0001636806      & 0.9589994         & -0.01279377       &  6.198448e-28     & 0.9537986145      & 0.8866747         &  0.07411067       & 0.000000e+00      & 7.363882e-01      & 1.00916401        & 1.7565118        \\\\\n",
       "\t60 & carcinoma         & AZD6244           & 0.9196798         & 0.0001636806      & 0.9589994         & -0.01279377       &  6.198448e-28     & 0.9537986145      & 0.8866747         &  0.07411067       & 0.000000e+00      & 7.363882e-01      & 1.00916401        & 1.7565118        \\\\\n",
       "\\end{tabular}\n"
      ],
      "text/markdown": [
       "\n",
       "| <!--/--> | Tissue | Drug | R_Square_Train | R_Square_Test | Pearson_Correlation_Train | Pearson_Correlation_Test | Pearson_Correlation_P_Value_Train | Pearson_Correlation_P_Value_Test | Spearman_Correlation_Train | Spearman_Correlation_Test | Spearman_Correlation_P_Value_Train | Spearman_Correlation_P_Value_Test | RMSE_Train | RMSE_Test |\n",
       "|---|---|---|---|---|---|---|---|---|---|---|---|---|---|---|\n",
       "| 61 | malignant_melanoma | PD-0325901         | 0.9836919          | 0.9824992          | 0.9918124          | 0.9912110          | 2.945466e-20       | 3.233507e-09       | 0.7915020          |  0.6545455         | 9.936846e-06       | 3.382516e-02       | 0.46811529         | 1.47291324         |\n",
       "| 62 | malignant_melanoma | TAE684             | 0.9952296          | 0.7650353          | 0.9976119          | 0.8746629          | 1.770668e-16       | 9.973576e-03       | 1.0000000          |  0.5714286         | 0.000000e+00       | 2.000000e-01       | 0.29807027         | 1.45761024         |\n",
       "| 41 | lymphoid_neoplasm  | ZD-6474            | 0.9183455          | 0.7124126          | 0.9583034          | 0.8440454          | 1.454670e-09       | 7.217745e-02       | 0.9485294          |  0.6000000         | 0.000000e+00       | 3.500000e-01       | 0.91164409         | 1.07816237         |\n",
       "| 63 | lymphoid_neoplasm  | ZD-6474            | 0.9183455          | 0.7124126          | 0.9583034          | 0.8440454          | 1.454670e-09       | 7.217745e-02       | 0.9485294          |  0.6000000         | 0.000000e+00       | 3.500000e-01       | 0.91164409         | 1.07816237         |\n",
       "| 64 | malignant_melanoma | Topotecan          | 0.9976577          | 0.6892224          | 0.9988282          | 0.8301942          | 4.708834e-37       | 1.073452e-02       | 0.9788177          |  0.6904762         | 0.000000e+00       | 6.939484e-02       | 0.19339455         | 0.70201691         |\n",
       "| 65 | malignant_melanoma | TKI258             | 0.9581439          | 0.6223292          | 0.9788483          | 0.7888784          | 1.235382e-09       | 6.215338e-02       | 0.9736264          |  0.7714286         | 0.000000e+00       | 1.027778e-01       | 0.70567654         | 1.01726305         |\n",
       "| 66 | malignant_melanoma | PLX4720            | 0.9894064          | 0.5865916          | 0.9946891          | 0.7658927          | 3.128129e-18       | 7.579407e-02       | 0.9701754          |  0.7714286         | 7.828777e-06       | 1.027778e-01       | 0.32687348         | 1.78659132         |\n",
       "| 67 | malignant_melanoma | Paclitaxel         | 0.8080448          | 0.5056363          | 0.8989131          | 0.7110810          | 1.910563e-10       | 2.113541e-02       | 0.7582101          |  0.6242424         | 4.612941e-06       | 6.024898e-02       | 0.01225853         | 0.03983201         |\n",
       "| 42 | lymphoid_neoplasm  | PD-0332991         | 0.9759898          | 0.4812000          | 0.9879220          | 0.6936858          | 2.600052e-19       | 2.608660e-02       | 0.9869565          |  0.7818182         | 1.000364e-06       | 1.165127e-02       | 0.70689412         | 1.81084842         |\n",
       "| 68 | lymphoid_neoplasm  | PD-0332991         | 0.9759898          | 0.4812000          | 0.9879220          | 0.6936858          | 2.600052e-19       | 2.608660e-02       | 0.9869565          |  0.7818182         | 1.000364e-06       | 1.165127e-02       | 0.70689412         | 1.81084842         |\n",
       "| 43 | lymphoid_neoplasm  | Sorafenib          | 0.9953453          | 0.4755651          | 0.9976699          | 0.6896123          | 8.431031e-25       | 1.295593e-01       | 0.9909656          |  0.7142857         | 2.759073e-06       | 1.361111e-01       | 0.31903558         | 1.45681222         |\n",
       "| 69 | lymphoid_neoplasm  | Sorafenib          | 0.9953453          | 0.4755651          | 0.9976699          | 0.6896123          | 8.431031e-25       | 1.295593e-01       | 0.9909656          |  0.7142857         | 2.759073e-06       | 1.361111e-01       | 0.31903558         | 1.45681222         |\n",
       "| 44 | lymphoid_neoplasm  | PF2341066          | 0.9655353          | 0.4484944          | 0.9826165          | 0.6696973          | 2.530256e-18       | 1.719994e-02       | 0.9884615          |  0.6573427         | 4.845506e-07       | 2.398108e-02       | 0.73565148         | 1.60938588         |\n",
       "| 70 | lymphoid_neoplasm  | PF2341066          | 0.9655353          | 0.4484944          | 0.9826165          | 0.6696973          | 2.530256e-18       | 1.719994e-02       | 0.9884615          |  0.6573427         | 4.845506e-07       | 2.398108e-02       | 0.73565148         | 1.60938588         |\n",
       "| 1 | carcinoma          | 17-AAG             | 0.7932139          | 0.4261325          | 0.8906255          | 0.6527883          | 2.253052e-70       | 1.248326e-10       | 0.7492831          |  0.4986592         | 0.000000e+00       | 5.321177e-06       | 0.24650466         | 0.48248954         |\n",
       "| 21 | carcinoma          | 17-AAG             | 0.7932139          | 0.4261325          | 0.8906255          | 0.6527883          | 2.253052e-70       | 1.248326e-10       | 0.7492831          |  0.4986592         | 0.000000e+00       | 5.321177e-06       | 0.24650466         | 0.48248954         |\n",
       "| 45 | carcinoma          | 17-AAG             | 0.7932139          | 0.4261325          | 0.8906255          | 0.6527883          | 2.253052e-70       | 1.248326e-10       | 0.7492831          |  0.4986592         | 0.000000e+00       | 5.321177e-06       | 0.24650466         | 0.48248954         |\n",
       "| 46 | lymphoid_neoplasm  | RAF265             | 0.9971562          | 0.4254815          | 0.9985771          | 0.6522894          | 1.656467e-29       | 2.961283e-02       | 0.9826087          |  0.6909091         | 1.097890e-06       | 2.305887e-02       | 0.28690383         | 2.01085526         |\n",
       "| 47 | lymphoid_neoplasm  | AEW541             | 0.9711670          | 0.4040275          | 0.9854781          | 0.6356316          | 1.175699e-17       | 1.249707e-01       | 0.9337945          |  0.3214286         | 3.134566e-06       | 4.976190e-01       | 0.60847166         | 1.71183867         |\n",
       "| 71 | lymphoid_neoplasm  | AEW541             | 0.9711670          | 0.4040275          | 0.9854781          | 0.6356316          | 1.175699e-17       | 1.249707e-01       | 0.9337945          |  0.3214286         | 3.134566e-06       | 4.976190e-01       | 0.60847166         | 1.71183867         |\n",
       "| 2 | carcinoma          | PD-0325901         | 0.8631104          | 0.3565987          | 0.9290373          | 0.5971588          | 2.264054e-42       | 4.747030e-05       | 0.8386327          |  0.4795497         | 0.000000e+00       | 1.957565e-03       | 0.95475976         | 1.81196807         |\n",
       "| 22 | carcinoma          | PD-0325901         | 0.8631104          | 0.3565987          | 0.9290373          | 0.5971588          | 2.264054e-42       | 4.747030e-05       | 0.8386327          |  0.4795497         | 0.000000e+00       | 1.957565e-03       | 0.95475976         | 1.81196807         |\n",
       "| 48 | carcinoma          | PD-0325901         | 0.8631104          | 0.3565987          | 0.9290373          | 0.5971588          | 2.264054e-42       | 4.747030e-05       | 0.8386327          |  0.4795497         | 0.000000e+00       | 1.957565e-03       | 0.95475976         | 1.81196807         |\n",
       "| 49 | lymphoid_neoplasm  | L-685458           | 0.9918531          | 0.3333984          | 0.9959182          | 0.5774066          | 4.371858e-17       | 8.047972e-02       | 0.9779412          |  0.5757576         | 6.127125e-06       | 8.776804e-02       | 0.47769735         | 1.97902270         |\n",
       "| 72 | lymphoid_neoplasm  | L-685458           | 0.9918531          | 0.3333984          | 0.9959182          | 0.5774066          | 4.371858e-17       | 8.047972e-02       | 0.9779412          |  0.5757576         | 6.127125e-06       | 8.776804e-02       | 0.47769735         | 1.97902270         |\n",
       "| 73 | malignant_melanoma | RAF265             | 0.8867807          | 0.3306640          | 0.9416903          | 0.5750339          | 2.116112e-11       | 1.052727e-01       | 0.8211462          |  0.4333333         | 2.374892e-06       | 2.499173e-01       | 0.63005405         | 2.20011947         |\n",
       "| 74 | malignant_melanoma | AZD6244            | 0.9871107          | 0.2777712          | 0.9935345          | 0.5270400          | 2.243061e-20       | 3.614616e-01       | 0.9390175          | -0.4000000         | 4.088085e-06       | 5.166667e-01       | 0.14479403         | 0.60219942         |\n",
       "| 23 | glioma             | TAE684             | 0.9299204          | 0.2733925          | 0.9643238          | 0.5228695          | 4.286882e-07       | 1.836500e-01       | 0.9370629          |  0.4285714         | 0.000000e+00       | 2.992063e-01       | 0.64607087         | 1.08950849         |\n",
       "| 3 | carcinoma          | AZD0530            | 0.9941643          | 0.2543641          | 0.9970779          | 0.5043452          | 2.705910e-83       | 1.457953e-03       | 0.9972973          |  0.4274538         | 0.000000e+00       | 8.819042e-03       | 0.42358572         | 2.09751442         |\n",
       "| 24 | carcinoma          | AZD0530            | 0.9941643          | 0.2543641          | 0.9970779          | 0.5043452          | 2.705910e-83       | 1.457953e-03       | 0.9972973          |  0.4274538         | 0.000000e+00       | 8.819042e-03       | 0.42358572         | 2.09751442         |\n",
       "| ... | ... | ... | ... | ... | ... | ... | ... | ... | ... | ... | ... | ... | ... | ... |\n",
       "| 53 | carcinoma         | Topotecan         | 0.9620180         | 0.1403583226      | 0.9808252         |  0.37464426       | 6.161809e-127     | 0.0002157892      | 0.9472152         |  0.40644863       | 0.000000e+00      | 6.122528e-05      | 0.44728634        | 1.0719017         |\n",
       "| 10 | carcinoma         | TKI258            | 0.9839114         | 0.1393337282      | 0.9919231         |  0.37327433       |  2.144321e-92     | 0.0209832180      | 0.9879629         |  0.32618448       | 0.000000e+00      | 4.617518e-02      | 0.61384011        | 2.0448076         |\n",
       "| 30 | carcinoma         | TKI258            | 0.9839114         | 0.1393337282      | 0.9919231         |  0.37327433       |  2.144321e-92     | 0.0209832180      | 0.9879629         |  0.32618448       | 0.000000e+00      | 4.617518e-02      | 0.61384011        | 2.0448076         |\n",
       "| 11 | carcinoma         | ZD-6474           | 0.8778154         | 0.1339757667      | 0.9369180         |  0.36602700       |  4.176427e-40     | 0.0508452851      | 0.9403557         |  0.32660099       | 0.000000e+00      | 8.419118e-02      | 0.98838309        | 1.3195856         |\n",
       "| 31 | carcinoma         | ZD-6474           | 0.8778154         | 0.1339757667      | 0.9369180         |  0.36602700       |  4.176427e-40     | 0.0508452851      | 0.9403557         |  0.32660099       | 0.000000e+00      | 8.419118e-02      | 0.98838309        | 1.3195856         |\n",
       "| 54 | lymphoid_neoplasm | TKI258            | 0.9477494         | 0.1201075090      | 0.9735242         |  0.34656530       |  2.738321e-14     | 0.2697673840      | 0.9728967         |  0.37062937       | 3.365608e-06      | 2.367322e-01      | 0.62755998        | 1.5644181         |\n",
       "| 12 | carcinoma         | Nilotinib         | 0.9623475         | 0.1161049392      | 0.9809931         |  0.34074175       |  2.952570e-32     | 0.1807752021      | 0.9753623         |  0.33333333       | 0.000000e+00      | 1.909648e-01      | 0.68700803        | 1.6657297         |\n",
       "| 32 | carcinoma         | Nilotinib         | 0.9623475         | 0.1161049392      | 0.9809931         |  0.34074175       |  2.952570e-32     | 0.1807752021      | 0.9753623         |  0.33333333       | 0.000000e+00      | 1.909648e-01      | 0.68700803        | 1.6657297         |\n",
       "| 55 | lymphoid_neoplasm | TAE684            | 0.9434050         | 0.0667534830      | 0.9712904         |  0.25836695       |  6.098893e-14     | 0.3524935054      | 0.8949746         |  0.38571429       | 3.301521e-06      | 1.565277e-01      | 0.35971831        | 2.4215095         |\n",
       "| 13 | carcinoma         | Sorafenib         | 0.9119733         | 0.0525044213      | 0.9549729         |  0.22913843       |  7.557337e-25     | 0.3603949534      | 0.9206907         |  0.24251806       | 0.000000e+00      | 3.308037e-01      | 1.05521474        | 1.9506757         |\n",
       "| 33 | carcinoma         | Sorafenib         | 0.9119733         | 0.0525044213      | 0.9549729         |  0.22913843       |  7.557337e-25     | 0.3603949534      | 0.9206907         |  0.24251806       | 0.000000e+00      | 3.308037e-01      | 1.05521474        | 1.9506757         |\n",
       "| 14 | carcinoma         | PF2341066         | 0.9712354         | 0.0480494873      | 0.9855128         |  0.21920193       |  1.863791e-56     | 0.3821570265      | 0.9844811         |  0.16821465       | 0.000000e+00      | 5.032006e-01      | 0.78692949        | 1.9830247         |\n",
       "| 34 | carcinoma         | PF2341066         | 0.9712354         | 0.0480494873      | 0.9855128         |  0.21920193       |  1.863791e-56     | 0.3821570265      | 0.9844811         |  0.16821465       | 0.000000e+00      | 5.032006e-01      | 0.78692949        | 1.9830247         |\n",
       "| 15 | carcinoma         | Paclitaxel        | 0.8727122         | 0.0219351361      | 0.9341907         |  0.14810515       |  1.432824e-90     | 0.2211083182      | 0.5579205         |  0.03678684       | 9.296642e-18      | 7.623919e-01      | 0.03766805        | 0.3208643         |\n",
       "| 35 | carcinoma         | Paclitaxel        | 0.8727122         | 0.0219351361      | 0.9341907         |  0.14810515       |  1.432824e-90     | 0.2211083182      | 0.5579205         |  0.03678684       | 9.296642e-18      | 7.623919e-01      | 0.03766805        | 0.3208643         |\n",
       "| 56 | carcinoma         | Paclitaxel        | 0.8727122         | 0.0219351361      | 0.9341907         |  0.14810515       |  1.432824e-90     | 0.2211083182      | 0.5579205         |  0.03678684       | 9.296642e-18      | 7.623919e-01      | 0.03766805        | 0.3208643         |\n",
       "| 57 | lymphoid_neoplasm | Nilotinib         | 0.7547675         | 0.0150654913      | 0.8687735         |  0.12274156       |  5.186191e-04     | 0.7355114390      | 0.8818182         |  0.04242424       | 6.682901e-04      | 9.186333e-01      | 1.08110738        | 2.7880527         |\n",
       "| 78 | lymphoid_neoplasm | Nilotinib         | 0.7547675         | 0.0150654913      | 0.8687735         |  0.12274156       |  5.186191e-04     | 0.7355114390      | 0.8818182         |  0.04242424       | 6.682901e-04      | 9.186333e-01      | 1.08110738        | 2.7880527         |\n",
       "| 16 | carcinoma         | LBW242            | 0.9856181         | 0.0129554379      | 0.9927830         |  0.11382196       |  2.318239e-13     | 0.8080190985      | 0.9178571         |  0.07142857       | 0.000000e+00      | 9.063492e-01      | 0.55195171        | 2.0120240         |\n",
       "| 36 | carcinoma         | LBW242            | 0.9856181         | 0.0129554379      | 0.9927830         |  0.11382196       |  2.318239e-13     | 0.8080190985      | 0.9178571         |  0.07142857       | 0.000000e+00      | 9.063492e-01      | 0.55195171        | 2.0120240         |\n",
       "| 58 | carcinoma         | LBW242            | 0.9856181         | 0.0129554379      | 0.9927830         |  0.11382196       |  2.318239e-13     | 0.8080190985      | 0.9178571         |  0.07142857       | 0.000000e+00      | 9.063492e-01      | 0.55195171        | 2.0120240         |\n",
       "| 79 | carcinoma         | LBW242            | 0.9856181         | 0.0129554379      | 0.9927830         |  0.11382196       |  2.318239e-13     | 0.8080190985      | 0.9178571         |  0.07142857       | 0.000000e+00      | 9.063492e-01      | 0.55195171        | 2.0120240         |\n",
       "| 17 | carcinoma         | PLX4720           | 0.9825608         | 0.0109769737      | 0.9912421         |  0.10477105       |  8.125569e-13     | 0.8049871266      | 0.9714286         |  0.07142857       | 0.000000e+00      | 8.819940e-01      | 0.44664939        | 2.0465880         |\n",
       "| 37 | carcinoma         | PLX4720           | 0.9825608         | 0.0109769737      | 0.9912421         |  0.10477105       |  8.125569e-13     | 0.8049871266      | 0.9714286         |  0.07142857       | 0.000000e+00      | 8.819940e-01      | 0.44664939        | 2.0465880         |\n",
       "| 59 | carcinoma         | PLX4720           | 0.9825608         | 0.0109769737      | 0.9912421         |  0.10477105       |  8.125569e-13     | 0.8049871266      | 0.9714286         |  0.07142857       | 0.000000e+00      | 8.819940e-01      | 0.44664939        | 2.0465880         |\n",
       "| 18 | carcinoma         | RAF265            | 0.9618012         | 0.0018643767      | 0.9807146         |  0.04317843       | 7.402967e-102     | 0.7588499871      | 0.9740307         | -0.12602806       | 0.000000e+00      | 3.674734e-01      | 0.71807347        | 2.0123818         |\n",
       "| 38 | carcinoma         | RAF265            | 0.9618012         | 0.0018643767      | 0.9807146         |  0.04317843       | 7.402967e-102     | 0.7588499871      | 0.9740307         | -0.12602806       | 0.000000e+00      | 3.674734e-01      | 0.71807347        | 2.0123818         |\n",
       "| 19 | carcinoma         | AZD6244           | 0.9196798         | 0.0001636806      | 0.9589994         | -0.01279377       |  6.198448e-28     | 0.9537986145      | 0.8866747         |  0.07411067       | 0.000000e+00      | 7.363882e-01      | 1.00916401        | 1.7565118         |\n",
       "| 39 | carcinoma         | AZD6244           | 0.9196798         | 0.0001636806      | 0.9589994         | -0.01279377       |  6.198448e-28     | 0.9537986145      | 0.8866747         |  0.07411067       | 0.000000e+00      | 7.363882e-01      | 1.00916401        | 1.7565118         |\n",
       "| 60 | carcinoma         | AZD6244           | 0.9196798         | 0.0001636806      | 0.9589994         | -0.01279377       |  6.198448e-28     | 0.9537986145      | 0.8866747         |  0.07411067       | 0.000000e+00      | 7.363882e-01      | 1.00916401        | 1.7565118         |\n",
       "\n"
      ],
      "text/plain": [
       "    Tissue             Drug       R_Square_Train R_Square_Test\n",
       "61  malignant_melanoma PD-0325901 0.9836919      0.9824992    \n",
       "62  malignant_melanoma TAE684     0.9952296      0.7650353    \n",
       "41  lymphoid_neoplasm  ZD-6474    0.9183455      0.7124126    \n",
       "63  lymphoid_neoplasm  ZD-6474    0.9183455      0.7124126    \n",
       "64  malignant_melanoma Topotecan  0.9976577      0.6892224    \n",
       "65  malignant_melanoma TKI258     0.9581439      0.6223292    \n",
       "66  malignant_melanoma PLX4720    0.9894064      0.5865916    \n",
       "67  malignant_melanoma Paclitaxel 0.8080448      0.5056363    \n",
       "42  lymphoid_neoplasm  PD-0332991 0.9759898      0.4812000    \n",
       "68  lymphoid_neoplasm  PD-0332991 0.9759898      0.4812000    \n",
       "43  lymphoid_neoplasm  Sorafenib  0.9953453      0.4755651    \n",
       "69  lymphoid_neoplasm  Sorafenib  0.9953453      0.4755651    \n",
       "44  lymphoid_neoplasm  PF2341066  0.9655353      0.4484944    \n",
       "70  lymphoid_neoplasm  PF2341066  0.9655353      0.4484944    \n",
       "1   carcinoma          17-AAG     0.7932139      0.4261325    \n",
       "21  carcinoma          17-AAG     0.7932139      0.4261325    \n",
       "45  carcinoma          17-AAG     0.7932139      0.4261325    \n",
       "46  lymphoid_neoplasm  RAF265     0.9971562      0.4254815    \n",
       "47  lymphoid_neoplasm  AEW541     0.9711670      0.4040275    \n",
       "71  lymphoid_neoplasm  AEW541     0.9711670      0.4040275    \n",
       "2   carcinoma          PD-0325901 0.8631104      0.3565987    \n",
       "22  carcinoma          PD-0325901 0.8631104      0.3565987    \n",
       "48  carcinoma          PD-0325901 0.8631104      0.3565987    \n",
       "49  lymphoid_neoplasm  L-685458   0.9918531      0.3333984    \n",
       "72  lymphoid_neoplasm  L-685458   0.9918531      0.3333984    \n",
       "73  malignant_melanoma RAF265     0.8867807      0.3306640    \n",
       "74  malignant_melanoma AZD6244    0.9871107      0.2777712    \n",
       "23  glioma             TAE684     0.9299204      0.2733925    \n",
       "3   carcinoma          AZD0530    0.9941643      0.2543641    \n",
       "24  carcinoma          AZD0530    0.9941643      0.2543641    \n",
       "... ...                ...        ...            ...          \n",
       "53  carcinoma          Topotecan  0.9620180      0.1403583226 \n",
       "10  carcinoma          TKI258     0.9839114      0.1393337282 \n",
       "30  carcinoma          TKI258     0.9839114      0.1393337282 \n",
       "11  carcinoma          ZD-6474    0.8778154      0.1339757667 \n",
       "31  carcinoma          ZD-6474    0.8778154      0.1339757667 \n",
       "54  lymphoid_neoplasm  TKI258     0.9477494      0.1201075090 \n",
       "12  carcinoma          Nilotinib  0.9623475      0.1161049392 \n",
       "32  carcinoma          Nilotinib  0.9623475      0.1161049392 \n",
       "55  lymphoid_neoplasm  TAE684     0.9434050      0.0667534830 \n",
       "13  carcinoma          Sorafenib  0.9119733      0.0525044213 \n",
       "33  carcinoma          Sorafenib  0.9119733      0.0525044213 \n",
       "14  carcinoma          PF2341066  0.9712354      0.0480494873 \n",
       "34  carcinoma          PF2341066  0.9712354      0.0480494873 \n",
       "15  carcinoma          Paclitaxel 0.8727122      0.0219351361 \n",
       "35  carcinoma          Paclitaxel 0.8727122      0.0219351361 \n",
       "56  carcinoma          Paclitaxel 0.8727122      0.0219351361 \n",
       "57  lymphoid_neoplasm  Nilotinib  0.7547675      0.0150654913 \n",
       "78  lymphoid_neoplasm  Nilotinib  0.7547675      0.0150654913 \n",
       "16  carcinoma          LBW242     0.9856181      0.0129554379 \n",
       "36  carcinoma          LBW242     0.9856181      0.0129554379 \n",
       "58  carcinoma          LBW242     0.9856181      0.0129554379 \n",
       "79  carcinoma          LBW242     0.9856181      0.0129554379 \n",
       "17  carcinoma          PLX4720    0.9825608      0.0109769737 \n",
       "37  carcinoma          PLX4720    0.9825608      0.0109769737 \n",
       "59  carcinoma          PLX4720    0.9825608      0.0109769737 \n",
       "18  carcinoma          RAF265     0.9618012      0.0018643767 \n",
       "38  carcinoma          RAF265     0.9618012      0.0018643767 \n",
       "19  carcinoma          AZD6244    0.9196798      0.0001636806 \n",
       "39  carcinoma          AZD6244    0.9196798      0.0001636806 \n",
       "60  carcinoma          AZD6244    0.9196798      0.0001636806 \n",
       "    Pearson_Correlation_Train Pearson_Correlation_Test\n",
       "61  0.9918124                 0.9912110               \n",
       "62  0.9976119                 0.8746629               \n",
       "41  0.9583034                 0.8440454               \n",
       "63  0.9583034                 0.8440454               \n",
       "64  0.9988282                 0.8301942               \n",
       "65  0.9788483                 0.7888784               \n",
       "66  0.9946891                 0.7658927               \n",
       "67  0.8989131                 0.7110810               \n",
       "42  0.9879220                 0.6936858               \n",
       "68  0.9879220                 0.6936858               \n",
       "43  0.9976699                 0.6896123               \n",
       "69  0.9976699                 0.6896123               \n",
       "44  0.9826165                 0.6696973               \n",
       "70  0.9826165                 0.6696973               \n",
       "1   0.8906255                 0.6527883               \n",
       "21  0.8906255                 0.6527883               \n",
       "45  0.8906255                 0.6527883               \n",
       "46  0.9985771                 0.6522894               \n",
       "47  0.9854781                 0.6356316               \n",
       "71  0.9854781                 0.6356316               \n",
       "2   0.9290373                 0.5971588               \n",
       "22  0.9290373                 0.5971588               \n",
       "48  0.9290373                 0.5971588               \n",
       "49  0.9959182                 0.5774066               \n",
       "72  0.9959182                 0.5774066               \n",
       "73  0.9416903                 0.5750339               \n",
       "74  0.9935345                 0.5270400               \n",
       "23  0.9643238                 0.5228695               \n",
       "3   0.9970779                 0.5043452               \n",
       "24  0.9970779                 0.5043452               \n",
       "... ...                       ...                     \n",
       "53  0.9808252                  0.37464426             \n",
       "10  0.9919231                  0.37327433             \n",
       "30  0.9919231                  0.37327433             \n",
       "11  0.9369180                  0.36602700             \n",
       "31  0.9369180                  0.36602700             \n",
       "54  0.9735242                  0.34656530             \n",
       "12  0.9809931                  0.34074175             \n",
       "32  0.9809931                  0.34074175             \n",
       "55  0.9712904                  0.25836695             \n",
       "13  0.9549729                  0.22913843             \n",
       "33  0.9549729                  0.22913843             \n",
       "14  0.9855128                  0.21920193             \n",
       "34  0.9855128                  0.21920193             \n",
       "15  0.9341907                  0.14810515             \n",
       "35  0.9341907                  0.14810515             \n",
       "56  0.9341907                  0.14810515             \n",
       "57  0.8687735                  0.12274156             \n",
       "78  0.8687735                  0.12274156             \n",
       "16  0.9927830                  0.11382196             \n",
       "36  0.9927830                  0.11382196             \n",
       "58  0.9927830                  0.11382196             \n",
       "79  0.9927830                  0.11382196             \n",
       "17  0.9912421                  0.10477105             \n",
       "37  0.9912421                  0.10477105             \n",
       "59  0.9912421                  0.10477105             \n",
       "18  0.9807146                  0.04317843             \n",
       "38  0.9807146                  0.04317843             \n",
       "19  0.9589994                 -0.01279377             \n",
       "39  0.9589994                 -0.01279377             \n",
       "60  0.9589994                 -0.01279377             \n",
       "    Pearson_Correlation_P_Value_Train Pearson_Correlation_P_Value_Test\n",
       "61  2.945466e-20                      3.233507e-09                    \n",
       "62  1.770668e-16                      9.973576e-03                    \n",
       "41  1.454670e-09                      7.217745e-02                    \n",
       "63  1.454670e-09                      7.217745e-02                    \n",
       "64  4.708834e-37                      1.073452e-02                    \n",
       "65  1.235382e-09                      6.215338e-02                    \n",
       "66  3.128129e-18                      7.579407e-02                    \n",
       "67  1.910563e-10                      2.113541e-02                    \n",
       "42  2.600052e-19                      2.608660e-02                    \n",
       "68  2.600052e-19                      2.608660e-02                    \n",
       "43  8.431031e-25                      1.295593e-01                    \n",
       "69  8.431031e-25                      1.295593e-01                    \n",
       "44  2.530256e-18                      1.719994e-02                    \n",
       "70  2.530256e-18                      1.719994e-02                    \n",
       "1   2.253052e-70                      1.248326e-10                    \n",
       "21  2.253052e-70                      1.248326e-10                    \n",
       "45  2.253052e-70                      1.248326e-10                    \n",
       "46  1.656467e-29                      2.961283e-02                    \n",
       "47  1.175699e-17                      1.249707e-01                    \n",
       "71  1.175699e-17                      1.249707e-01                    \n",
       "2   2.264054e-42                      4.747030e-05                    \n",
       "22  2.264054e-42                      4.747030e-05                    \n",
       "48  2.264054e-42                      4.747030e-05                    \n",
       "49  4.371858e-17                      8.047972e-02                    \n",
       "72  4.371858e-17                      8.047972e-02                    \n",
       "73  2.116112e-11                      1.052727e-01                    \n",
       "74  2.243061e-20                      3.614616e-01                    \n",
       "23  4.286882e-07                      1.836500e-01                    \n",
       "3   2.705910e-83                      1.457953e-03                    \n",
       "24  2.705910e-83                      1.457953e-03                    \n",
       "... ...                               ...                             \n",
       "53  6.161809e-127                     0.0002157892                    \n",
       "10   2.144321e-92                     0.0209832180                    \n",
       "30   2.144321e-92                     0.0209832180                    \n",
       "11   4.176427e-40                     0.0508452851                    \n",
       "31   4.176427e-40                     0.0508452851                    \n",
       "54   2.738321e-14                     0.2697673840                    \n",
       "12   2.952570e-32                     0.1807752021                    \n",
       "32   2.952570e-32                     0.1807752021                    \n",
       "55   6.098893e-14                     0.3524935054                    \n",
       "13   7.557337e-25                     0.3603949534                    \n",
       "33   7.557337e-25                     0.3603949534                    \n",
       "14   1.863791e-56                     0.3821570265                    \n",
       "34   1.863791e-56                     0.3821570265                    \n",
       "15   1.432824e-90                     0.2211083182                    \n",
       "35   1.432824e-90                     0.2211083182                    \n",
       "56   1.432824e-90                     0.2211083182                    \n",
       "57   5.186191e-04                     0.7355114390                    \n",
       "78   5.186191e-04                     0.7355114390                    \n",
       "16   2.318239e-13                     0.8080190985                    \n",
       "36   2.318239e-13                     0.8080190985                    \n",
       "58   2.318239e-13                     0.8080190985                    \n",
       "79   2.318239e-13                     0.8080190985                    \n",
       "17   8.125569e-13                     0.8049871266                    \n",
       "37   8.125569e-13                     0.8049871266                    \n",
       "59   8.125569e-13                     0.8049871266                    \n",
       "18  7.402967e-102                     0.7588499871                    \n",
       "38  7.402967e-102                     0.7588499871                    \n",
       "19   6.198448e-28                     0.9537986145                    \n",
       "39   6.198448e-28                     0.9537986145                    \n",
       "60   6.198448e-28                     0.9537986145                    \n",
       "    Spearman_Correlation_Train Spearman_Correlation_Test\n",
       "61  0.7915020                   0.6545455               \n",
       "62  1.0000000                   0.5714286               \n",
       "41  0.9485294                   0.6000000               \n",
       "63  0.9485294                   0.6000000               \n",
       "64  0.9788177                   0.6904762               \n",
       "65  0.9736264                   0.7714286               \n",
       "66  0.9701754                   0.7714286               \n",
       "67  0.7582101                   0.6242424               \n",
       "42  0.9869565                   0.7818182               \n",
       "68  0.9869565                   0.7818182               \n",
       "43  0.9909656                   0.7142857               \n",
       "69  0.9909656                   0.7142857               \n",
       "44  0.9884615                   0.6573427               \n",
       "70  0.9884615                   0.6573427               \n",
       "1   0.7492831                   0.4986592               \n",
       "21  0.7492831                   0.4986592               \n",
       "45  0.7492831                   0.4986592               \n",
       "46  0.9826087                   0.6909091               \n",
       "47  0.9337945                   0.3214286               \n",
       "71  0.9337945                   0.3214286               \n",
       "2   0.8386327                   0.4795497               \n",
       "22  0.8386327                   0.4795497               \n",
       "48  0.8386327                   0.4795497               \n",
       "49  0.9779412                   0.5757576               \n",
       "72  0.9779412                   0.5757576               \n",
       "73  0.8211462                   0.4333333               \n",
       "74  0.9390175                  -0.4000000               \n",
       "23  0.9370629                   0.4285714               \n",
       "3   0.9972973                   0.4274538               \n",
       "24  0.9972973                   0.4274538               \n",
       "... ...                        ...                      \n",
       "53  0.9472152                   0.40644863              \n",
       "10  0.9879629                   0.32618448              \n",
       "30  0.9879629                   0.32618448              \n",
       "11  0.9403557                   0.32660099              \n",
       "31  0.9403557                   0.32660099              \n",
       "54  0.9728967                   0.37062937              \n",
       "12  0.9753623                   0.33333333              \n",
       "32  0.9753623                   0.33333333              \n",
       "55  0.8949746                   0.38571429              \n",
       "13  0.9206907                   0.24251806              \n",
       "33  0.9206907                   0.24251806              \n",
       "14  0.9844811                   0.16821465              \n",
       "34  0.9844811                   0.16821465              \n",
       "15  0.5579205                   0.03678684              \n",
       "35  0.5579205                   0.03678684              \n",
       "56  0.5579205                   0.03678684              \n",
       "57  0.8818182                   0.04242424              \n",
       "78  0.8818182                   0.04242424              \n",
       "16  0.9178571                   0.07142857              \n",
       "36  0.9178571                   0.07142857              \n",
       "58  0.9178571                   0.07142857              \n",
       "79  0.9178571                   0.07142857              \n",
       "17  0.9714286                   0.07142857              \n",
       "37  0.9714286                   0.07142857              \n",
       "59  0.9714286                   0.07142857              \n",
       "18  0.9740307                  -0.12602806              \n",
       "38  0.9740307                  -0.12602806              \n",
       "19  0.8866747                   0.07411067              \n",
       "39  0.8866747                   0.07411067              \n",
       "60  0.8866747                   0.07411067              \n",
       "    Spearman_Correlation_P_Value_Train Spearman_Correlation_P_Value_Test\n",
       "61  9.936846e-06                       3.382516e-02                     \n",
       "62  0.000000e+00                       2.000000e-01                     \n",
       "41  0.000000e+00                       3.500000e-01                     \n",
       "63  0.000000e+00                       3.500000e-01                     \n",
       "64  0.000000e+00                       6.939484e-02                     \n",
       "65  0.000000e+00                       1.027778e-01                     \n",
       "66  7.828777e-06                       1.027778e-01                     \n",
       "67  4.612941e-06                       6.024898e-02                     \n",
       "42  1.000364e-06                       1.165127e-02                     \n",
       "68  1.000364e-06                       1.165127e-02                     \n",
       "43  2.759073e-06                       1.361111e-01                     \n",
       "69  2.759073e-06                       1.361111e-01                     \n",
       "44  4.845506e-07                       2.398108e-02                     \n",
       "70  4.845506e-07                       2.398108e-02                     \n",
       "1   0.000000e+00                       5.321177e-06                     \n",
       "21  0.000000e+00                       5.321177e-06                     \n",
       "45  0.000000e+00                       5.321177e-06                     \n",
       "46  1.097890e-06                       2.305887e-02                     \n",
       "47  3.134566e-06                       4.976190e-01                     \n",
       "71  3.134566e-06                       4.976190e-01                     \n",
       "2   0.000000e+00                       1.957565e-03                     \n",
       "22  0.000000e+00                       1.957565e-03                     \n",
       "48  0.000000e+00                       1.957565e-03                     \n",
       "49  6.127125e-06                       8.776804e-02                     \n",
       "72  6.127125e-06                       8.776804e-02                     \n",
       "73  2.374892e-06                       2.499173e-01                     \n",
       "74  4.088085e-06                       5.166667e-01                     \n",
       "23  0.000000e+00                       2.992063e-01                     \n",
       "3   0.000000e+00                       8.819042e-03                     \n",
       "24  0.000000e+00                       8.819042e-03                     \n",
       "... ...                                ...                              \n",
       "53  0.000000e+00                       6.122528e-05                     \n",
       "10  0.000000e+00                       4.617518e-02                     \n",
       "30  0.000000e+00                       4.617518e-02                     \n",
       "11  0.000000e+00                       8.419118e-02                     \n",
       "31  0.000000e+00                       8.419118e-02                     \n",
       "54  3.365608e-06                       2.367322e-01                     \n",
       "12  0.000000e+00                       1.909648e-01                     \n",
       "32  0.000000e+00                       1.909648e-01                     \n",
       "55  3.301521e-06                       1.565277e-01                     \n",
       "13  0.000000e+00                       3.308037e-01                     \n",
       "33  0.000000e+00                       3.308037e-01                     \n",
       "14  0.000000e+00                       5.032006e-01                     \n",
       "34  0.000000e+00                       5.032006e-01                     \n",
       "15  9.296642e-18                       7.623919e-01                     \n",
       "35  9.296642e-18                       7.623919e-01                     \n",
       "56  9.296642e-18                       7.623919e-01                     \n",
       "57  6.682901e-04                       9.186333e-01                     \n",
       "78  6.682901e-04                       9.186333e-01                     \n",
       "16  0.000000e+00                       9.063492e-01                     \n",
       "36  0.000000e+00                       9.063492e-01                     \n",
       "58  0.000000e+00                       9.063492e-01                     \n",
       "79  0.000000e+00                       9.063492e-01                     \n",
       "17  0.000000e+00                       8.819940e-01                     \n",
       "37  0.000000e+00                       8.819940e-01                     \n",
       "59  0.000000e+00                       8.819940e-01                     \n",
       "18  0.000000e+00                       3.674734e-01                     \n",
       "38  0.000000e+00                       3.674734e-01                     \n",
       "19  0.000000e+00                       7.363882e-01                     \n",
       "39  0.000000e+00                       7.363882e-01                     \n",
       "60  0.000000e+00                       7.363882e-01                     \n",
       "    RMSE_Train RMSE_Test \n",
       "61  0.46811529 1.47291324\n",
       "62  0.29807027 1.45761024\n",
       "41  0.91164409 1.07816237\n",
       "63  0.91164409 1.07816237\n",
       "64  0.19339455 0.70201691\n",
       "65  0.70567654 1.01726305\n",
       "66  0.32687348 1.78659132\n",
       "67  0.01225853 0.03983201\n",
       "42  0.70689412 1.81084842\n",
       "68  0.70689412 1.81084842\n",
       "43  0.31903558 1.45681222\n",
       "69  0.31903558 1.45681222\n",
       "44  0.73565148 1.60938588\n",
       "70  0.73565148 1.60938588\n",
       "1   0.24650466 0.48248954\n",
       "21  0.24650466 0.48248954\n",
       "45  0.24650466 0.48248954\n",
       "46  0.28690383 2.01085526\n",
       "47  0.60847166 1.71183867\n",
       "71  0.60847166 1.71183867\n",
       "2   0.95475976 1.81196807\n",
       "22  0.95475976 1.81196807\n",
       "48  0.95475976 1.81196807\n",
       "49  0.47769735 1.97902270\n",
       "72  0.47769735 1.97902270\n",
       "73  0.63005405 2.20011947\n",
       "74  0.14479403 0.60219942\n",
       "23  0.64607087 1.08950849\n",
       "3   0.42358572 2.09751442\n",
       "24  0.42358572 2.09751442\n",
       "... ...        ...       \n",
       "53  0.44728634 1.0719017 \n",
       "10  0.61384011 2.0448076 \n",
       "30  0.61384011 2.0448076 \n",
       "11  0.98838309 1.3195856 \n",
       "31  0.98838309 1.3195856 \n",
       "54  0.62755998 1.5644181 \n",
       "12  0.68700803 1.6657297 \n",
       "32  0.68700803 1.6657297 \n",
       "55  0.35971831 2.4215095 \n",
       "13  1.05521474 1.9506757 \n",
       "33  1.05521474 1.9506757 \n",
       "14  0.78692949 1.9830247 \n",
       "34  0.78692949 1.9830247 \n",
       "15  0.03766805 0.3208643 \n",
       "35  0.03766805 0.3208643 \n",
       "56  0.03766805 0.3208643 \n",
       "57  1.08110738 2.7880527 \n",
       "78  1.08110738 2.7880527 \n",
       "16  0.55195171 2.0120240 \n",
       "36  0.55195171 2.0120240 \n",
       "58  0.55195171 2.0120240 \n",
       "79  0.55195171 2.0120240 \n",
       "17  0.44664939 2.0465880 \n",
       "37  0.44664939 2.0465880 \n",
       "59  0.44664939 2.0465880 \n",
       "18  0.71807347 2.0123818 \n",
       "38  0.71807347 2.0123818 \n",
       "19  1.00916401 1.7565118 \n",
       "39  1.00916401 1.7565118 \n",
       "60  1.00916401 1.7565118 "
      ]
     },
     "metadata": {},
     "output_type": "display_data"
    }
   ],
   "source": [
    "All_RF_RESULT_CLEANED"
   ]
  },
  {
   "cell_type": "code",
   "execution_count": 95,
   "id": "6387962e",
   "metadata": {},
   "outputs": [],
   "source": [
    "indice_carcinoma <- which((A$Tissue) == \"carcinoma\")"
   ]
  },
  {
   "cell_type": "code",
   "execution_count": 97,
   "id": "1445f44b",
   "metadata": {},
   "outputs": [
    {
     "data": {
      "text/html": [
       "49"
      ],
      "text/latex": [
       "49"
      ],
      "text/markdown": [
       "49"
      ],
      "text/plain": [
       "[1] 49"
      ]
     },
     "metadata": {},
     "output_type": "display_data"
    }
   ],
   "source": [
    "length(indice_carcinoma)"
   ]
  },
  {
   "cell_type": "code",
   "execution_count": 98,
   "id": "d8c13df6",
   "metadata": {},
   "outputs": [],
   "source": [
    "indice_glioma <- which((A$Tissue) == \"glioma\")"
   ]
  },
  {
   "cell_type": "code",
   "execution_count": 99,
   "id": "d05935e2",
   "metadata": {},
   "outputs": [
    {
     "data": {
      "text/html": [
       "1"
      ],
      "text/latex": [
       "1"
      ],
      "text/markdown": [
       "1"
      ],
      "text/plain": [
       "[1] 1"
      ]
     },
     "metadata": {},
     "output_type": "display_data"
    }
   ],
   "source": [
    "length(indice_glioma)"
   ]
  },
  {
   "cell_type": "code",
   "execution_count": 100,
   "id": "16f83f65",
   "metadata": {},
   "outputs": [],
   "source": [
    "indice_lymphoid_neoplasm <- which((A$Tissue) == \"lymphoid_neoplasm\")"
   ]
  },
  {
   "cell_type": "code",
   "execution_count": 101,
   "id": "4870373a",
   "metadata": {},
   "outputs": [
    {
     "data": {
      "text/html": [
       "19"
      ],
      "text/latex": [
       "19"
      ],
      "text/markdown": [
       "19"
      ],
      "text/plain": [
       "[1] 19"
      ]
     },
     "metadata": {},
     "output_type": "display_data"
    }
   ],
   "source": [
    "length(indice_lymphoid_neoplasm)"
   ]
  },
  {
   "cell_type": "code",
   "execution_count": 102,
   "id": "1665b07d",
   "metadata": {},
   "outputs": [],
   "source": [
    "indice_malignant_melanoma <- which((A$Tissue) == \"malignant_melanoma\")"
   ]
  },
  {
   "cell_type": "code",
   "execution_count": 103,
   "id": "235c9da8",
   "metadata": {},
   "outputs": [
    {
     "data": {
      "text/html": [
       "8"
      ],
      "text/latex": [
       "8"
      ],
      "text/markdown": [
       "8"
      ],
      "text/plain": [
       "[1] 8"
      ]
     },
     "metadata": {},
     "output_type": "display_data"
    }
   ],
   "source": [
    "length(indice_malignant_melanoma)"
   ]
  },
  {
   "cell_type": "code",
   "execution_count": 104,
   "id": "ffb1c0ad",
   "metadata": {},
   "outputs": [
    {
     "data": {
      "text/html": [
       "<ol class=list-inline>\n",
       "\t<li>77</li>\n",
       "\t<li>14</li>\n",
       "</ol>\n"
      ],
      "text/latex": [
       "\\begin{enumerate*}\n",
       "\\item 77\n",
       "\\item 14\n",
       "\\end{enumerate*}\n"
      ],
      "text/markdown": [
       "1. 77\n",
       "2. 14\n",
       "\n",
       "\n"
      ],
      "text/plain": [
       "[1] 77 14"
      ]
     },
     "metadata": {},
     "output_type": "display_data"
    }
   ],
   "source": [
    "dim(A)"
   ]
  },
  {
   "cell_type": "code",
   "execution_count": null,
   "id": "94ae0b0c",
   "metadata": {},
   "outputs": [],
   "source": []
  }
 ],
 "metadata": {
  "kernelspec": {
   "display_name": "R",
   "language": "R",
   "name": "ir"
  },
  "language_info": {
   "codemirror_mode": "r",
   "file_extension": ".r",
   "mimetype": "text/x-r-source",
   "name": "R",
   "pygments_lexer": "r",
   "version": "3.6.1"
  }
 },
 "nbformat": 4,
 "nbformat_minor": 5
}
